{
  "cells": [
    {
      "cell_type": "code",
      "execution_count": 1,
      "metadata": {
        "id": "xXS2BA7L3ofY"
      },
      "outputs": [],
      "source": [
        "# Install PySpark and Spark NLP\n",
        "! pip install -q pyspark==3.3.0 spark-nlp==4.2.8"
      ]
    },
    {
      "cell_type": "code",
      "execution_count": 2,
      "metadata": {
        "id": "jG8doQSm3tXb"
      },
      "outputs": [],
      "source": [
        "import json\n",
        "import pandas as pd\n",
        "import numpy as np\n",
        "\n",
        "import sparknlp\n",
        "import pyspark.sql.functions as F\n",
        "\n",
        "from pyspark.ml import Pipeline\n",
        "from pyspark.sql import SparkSession\n",
        "from sparknlp.annotator import *\n",
        "from sparknlp.base import *\n",
        "from sparknlp.pretrained import PretrainedPipeline\n",
        "from pyspark.sql.types import StringType, IntegerType"
      ]
    },
    {
      "cell_type": "code",
      "execution_count": 3,
      "metadata": {
        "id": "McWa_yRM3vGj"
      },
      "outputs": [],
      "source": [
        "spark = sparknlp.start()\n",
        "#print (\"Spark NLP Version :\", sparknlp.version())\n",
        "#spark"
      ]
    },
    {
      "cell_type": "code",
      "execution_count": 4,
      "metadata": {
        "colab": {
          "base_uri": "https://localhost:8080/"
        },
        "id": "VtUlWfQ63xRg",
        "outputId": "513d9809-5894-48f3-cb7f-613433377590"
      },
      "outputs": [
        {
          "output_type": "stream",
          "name": "stdout",
          "text": [
            "lemma download started this may take some time.\n",
            "Approximate size to download 36 KB\n",
            "[OK!]\n"
          ]
        }
      ],
      "source": [
        "document_assembler = DocumentAssembler() \\\n",
        "    .setInputCol(\"text\") \\\n",
        "    .setOutputCol(\"document\")\n",
        "\n",
        "tokenizer = Tokenizer()\\\n",
        "        .setInputCols(\"document\")\\\n",
        "        .setOutputCol(\"token\")\n",
        "\n",
        "lemmatizer = LemmatizerModel.pretrained(\"lemma\", \"am\") \\\n",
        "        .setInputCols([\"token\"]) \\\n",
        "        .setOutputCol(\"lemma\")\n",
        "\n",
        "nlp_pipeline = Pipeline(stages=[document_assembler, tokenizer, lemmatizer])\n",
        "light_pipeline = LightPipeline(nlp_pipeline.fit(spark.createDataFrame([[\"\"]]).toDF(\"text\")))\n"
      ]
    },
    {
      "cell_type": "code",
      "execution_count": 5,
      "metadata": {
        "colab": {
          "base_uri": "https://localhost:8080/"
        },
        "id": "Ynye8SGk34XC",
        "outputId": "16c4f067-bb82-4edf-c69b-18cb054fafae"
      },
      "outputs": [
        {
          "output_type": "stream",
          "name": "stdout",
          "text": [
            "Before _validateStagesInputCols\n"
          ]
        },
        {
          "output_type": "execute_result",
          "data": {
            "text/plain": [
              "[{'document': [Annotation(document, 0, 31, መጽሐፉን መጽሐፍ ኡ ን አስያዛት አስያዝ ኧ ኣት ።, {}, [])],\n",
              "  'token': [Annotation(token, 0, 4, መጽሐፉን, {'sentence': '0'}, []),\n",
              "   Annotation(token, 6, 9, መጽሐፍ, {'sentence': '0'}, []),\n",
              "   Annotation(token, 11, 11, ኡ, {'sentence': '0'}, []),\n",
              "   Annotation(token, 13, 13, ን, {'sentence': '0'}, []),\n",
              "   Annotation(token, 15, 19, አስያዛት, {'sentence': '0'}, []),\n",
              "   Annotation(token, 21, 24, አስያዝ, {'sentence': '0'}, []),\n",
              "   Annotation(token, 26, 26, ኧ, {'sentence': '0'}, []),\n",
              "   Annotation(token, 28, 29, ኣት, {'sentence': '0'}, []),\n",
              "   Annotation(token, 31, 31, ።, {'sentence': '0'}, [])],\n",
              "  'lemma': [Annotation(token, 0, 4, _, {'sentence': '0'}, []),\n",
              "   Annotation(token, 6, 9, መጽሐፍ, {'sentence': '0'}, []),\n",
              "   Annotation(token, 11, 11, ኡ, {'sentence': '0'}, []),\n",
              "   Annotation(token, 13, 13, ን, {'sentence': '0'}, []),\n",
              "   Annotation(token, 15, 19, _, {'sentence': '0'}, []),\n",
              "   Annotation(token, 21, 24, አስያዝ, {'sentence': '0'}, []),\n",
              "   Annotation(token, 26, 26, ኧ, {'sentence': '0'}, []),\n",
              "   Annotation(token, 28, 29, ኣት, {'sentence': '0'}, []),\n",
              "   Annotation(token, 31, 31, ።, {'sentence': '0'}, [])]}]"
            ]
          },
          "metadata": {},
          "execution_count": 5
        }
      ],
      "source": [
        "#An example how the lemmatizer works\n",
        "results = light_pipeline.fullAnnotate([\"መጽሐፉን መጽሐፍ ኡ ን አስያዛት አስያዝ ኧ ኣት ።\"])\n",
        "results"
      ]
    },
    {
      "cell_type": "code",
      "execution_count": 8,
      "metadata": {
        "id": "Qsgek5CYlTcX"
      },
      "outputs": [],
      "source": [
        "with open('/content/Amharic_normalized_cleaned_text.txt', 'r', encoding=\"utf-8\") as f:\n",
        "    cleaned_corp = f.read()\n",
        "cleaned_corp = cleaned_corp.split('^^^^^^')"
      ]
    },
    {
      "cell_type": "code",
      "execution_count": 10,
      "metadata": {
        "colab": {
          "base_uri": "https://localhost:8080/"
        },
        "id": "8peGp8-htdlk",
        "outputId": "c2a927d8-2bd2-4ee4-8032-02f689b147e4"
      },
      "outputs": [
        {
          "output_type": "stream",
          "name": "stdout",
          "text": [
            "Before _validateStagesInputCols\n"
          ]
        }
      ],
      "source": [
        "#will get rid of everything and just keep the lemma \n",
        "results = light_pipeline.fullAnnotate(cleaned_corp[:5])\n",
        "\n",
        "lemmatized_text = []\n",
        "\n",
        "for result in results:\n",
        "    lemmas = [token.result for token in result['lemma']]\n",
        "    lemmatized_text.append(' '.join(lemmas))\n",
        "\n"
      ]
    },
    {
      "cell_type": "code",
      "execution_count": 11,
      "metadata": {
        "id": "O9-ghtSi4b_I"
      },
      "outputs": [],
      "source": [
        "with open(\"/content/amh_output_10.txt\", \"w\", encoding=\"utf-8\") as file:\n",
        "    \n",
        "    for text in lemmatized_text:\n",
        "        file.write(text + '\\n')\n",
        "file.close()"
      ]
    },
    {
      "cell_type": "markdown",
      "source": [
        "Let's see how the text looked before and after lemmatization\n"
      ],
      "metadata": {
        "id": "8iPfKt89hoID"
      }
    },
    {
      "cell_type": "code",
      "execution_count": 23,
      "metadata": {
        "id": "HNdebOD23AEX"
      },
      "outputs": [],
      "source": [
        "initial_text = cleaned_corp[1][1:500]\n",
        "final_text = lemmatized_text[1][1:500]"
      ]
    },
    {
      "cell_type": "markdown",
      "source": [
        "The text still has some underscore (_), I believe its from the lemmatizer. will remove it before embedding"
      ],
      "metadata": {
        "id": "KOnqg5cbh9kH"
      }
    },
    {
      "cell_type": "code",
      "source": [
        "print('Before:')\n",
        "initial_text"
      ],
      "metadata": {
        "colab": {
          "base_uri": "https://localhost:8080/",
          "height": 145
        },
        "id": "p1grPExRiNj-",
        "outputId": "4ca2e015-0f60-4707-fc1d-f58e22dde270"
      },
      "execution_count": 24,
      "outputs": [
        {
          "output_type": "stream",
          "name": "stdout",
          "text": [
            "Before:\n"
          ]
        },
        {
          "output_type": "execute_result",
          "data": {
            "text/plain": [
              "'ምህርት የገባብ ክፍል ቆሮግቶስ በቁጥር ላይ እኀፂህ እግፂሆኀግልሀ ይህሀ አስፅፍምቅ ቅ ሲል ሞኀ ማለቱ ነው ጥናቄ በቁጥር ላይ ፋትምክህት የሚለው ምኑገ ነው ጥዩቄ በቁጥር መሰረት ሀዋርደው ወገሀጌልኀ ይሰብክ የነበረው በፈቃፅ ነበር ለፈቃፅሀ በቁጥር ላይ ወኀግጌስሀ የመስበክ ፀመወዙ ምገኀፅነው ይላል ቁጥር ክላይ ክዘረዘረቸው መብቶች በአጎገፁም እገኳ ልተጠቀመ እግፀሆነ ይመሰክረሪለል በዚህ ገዜ በአእምሮው ዋመጣበት የቆሮሀቶስ ክርስቲፎኖች ይህጎገ አሁሀ የሚናገረው ፀመወዝ ፈልጐ ነው ይሉኝ ይሆናለ የሚለው ግምት ነበር ይህም እኀፃለሆነ በክባፅ አነጋገር ዌሪጋግጥላቸዋል ማም ትምክህቴሀ ክሀቱ ከሚፀርግብኝ ሞት ይሻለናልና ትምክህቱ ወግጌለኘሀ በነአ መስበኩ ነው ግሀ አሁሀ ፃሳቡኘ ቀይሮ ፀመጩዝ መቀበስ ቢጃምር ትምክህቱ ይቀረል ሮ ትምክህቱ የትሰቢት ሳይሆገሀ ፀመወዝ በመቀበለ ሊመጣ የላነበረው'"
            ],
            "application/vnd.google.colaboratory.intrinsic+json": {
              "type": "string"
            }
          },
          "metadata": {},
          "execution_count": 24
        }
      ]
    },
    {
      "cell_type": "code",
      "source": [
        "print('After:')\n",
        "final_text"
      ],
      "metadata": {
        "colab": {
          "base_uri": "https://localhost:8080/",
          "height": 145
        },
        "id": "LNqKChdupYFQ",
        "outputId": "6732a348-727c-49db-c692-2e9126a8eefa"
      },
      "execution_count": 25,
      "outputs": [
        {
          "output_type": "stream",
          "name": "stdout",
          "text": [
            "After:\n"
          ]
        },
        {
          "output_type": "execute_result",
          "data": {
            "text/plain": [
              "'ምህርት የገባብ ክፍል ቆሮግቶስ በቁጥር ላይ እኀፂህ እግፂሆኀግልሀ ይህሀ አስፅፍምቅ ቅ ሲል ሞኀ ማለቱ _ ጥናቄ በቁጥር ላይ ፋትምክህት የሚለው ምኑገ _ ጥዩቄ በቁጥር መሰረት ሀዋርደው ወገሀጌልኀ ይሰብክ _ በፈቃፅ ነበር ለፈቃፅሀ በቁጥር ላይ ወኀግጌስሀ የመስበክ ፀመወዙ ምገኀፅነው _ ቁጥር ክላይ ክዘረዘረቸው መብቶች በአጎገፁም እገኳ ልተጠቀመ እግፀሆነ ይመሰክረሪለል _ ገዜ በአእምሮው ዋመጣበት የቆሮሀቶስ ክርስቲፎኖች ይህጎገ አሁሀ የሚናገረው ፀመወዝ ፈልጐ _ ይሉኝ ይሆናለ የሚለው ግምት ነበር ይህም እኀፃለሆነ በክባፅ አነጋገር ዌሪጋግጥላቸዋል ማም ትምክህቴሀ ክሀቱ ከሚፀርግብኝ ሞት ይሻለናልና ትምክህቱ ወግጌለኘሀ በነአ መስበኩ _ ግሀ አሁሀ ፃሳቡኘ ቀይሮ ፀመጩዝ መቀበስ ቢጃምር ትምክህቱ ይቀረል ሮ ትምክህቱ የትሰቢት ሳይሆገሀ ፀመወዝ በመቀበለ _ የላነበረውኀ ፃወገግጌልገ እኀቅፋ'"
            ],
            "application/vnd.google.colaboratory.intrinsic+json": {
              "type": "string"
            }
          },
          "metadata": {},
          "execution_count": 25
        }
      ]
    },
    {
      "cell_type": "code",
      "source": [],
      "metadata": {
        "id": "aSfSb-TBp8DR"
      },
      "execution_count": null,
      "outputs": []
    }
  ],
  "metadata": {
    "colab": {
      "provenance": []
    },
    "gpuClass": "standard",
    "kernelspec": {
      "display_name": "Python 3",
      "name": "python3"
    },
    "language_info": {
      "name": "python"
    }
  },
  "nbformat": 4,
  "nbformat_minor": 0
}