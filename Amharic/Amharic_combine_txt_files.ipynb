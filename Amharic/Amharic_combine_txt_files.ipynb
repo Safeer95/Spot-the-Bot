{
 "cells": [
  {
   "cell_type": "code",
   "execution_count": 40,
   "id": "4e57ec39",
   "metadata": {},
   "outputs": [
    {
     "name": "stdout",
     "output_type": "stream",
     "text": [
      "1338\n"
     ]
    }
   ],
   "source": [
    "import os\n",
    "\n",
    "# specify the directory where your txt files are stored\n",
    "path = 'D:/Spot The Bot Data/Amharic/txt_files/All'\n",
    "\n",
    "# create an empty list to store the text from each file\n",
    "text_list = []\n",
    "\n",
    "# loop through each file in the directory, read the text and append it to the text_list\n",
    "for filename in os.listdir(path):\n",
    "    if filename.endswith('.txt'):\n",
    "        file_path = os.path.join(path, filename)\n",
    "        with open(file_path, 'r', encoding='utf-8', errors='ignore') as file:\n",
    "            text = file.read().strip().replace('\\n', ' ')\n",
    "            text = text.encode('utf-8').decode('unicode_escape')\n",
    "            text_list.append(text)\n",
    "\n",
    "print(len(text_list))\n",
    "\n",
    "# join the elements of text_list using the separator '^^^^^^'\n",
    "text = '^^^^^^'.join(text_list)\n",
    "\n",
    "# write the text to the output file\n",
    "with open('amharic_all_text.txt', 'w', encoding='utf-8') as f:\n",
    "    f.write(text)"
   ]
  },
  {
   "cell_type": "code",
   "execution_count": 41,
   "id": "3b8cc95c",
   "metadata": {},
   "outputs": [
    {
     "name": "stdout",
     "output_type": "stream",
     "text": [
      "Num of texts: 1338\n"
     ]
    }
   ],
   "source": [
    "with open('./amharic_all_text.txt', 'r', encoding=\"utf-8\") as f:\n",
    "    dirty_corp = f.read()\n",
    "dirty_corp = dirty_corp.split('^^^^^^')\n",
    "print(f'Num of texts: {len(dirty_corp)}')"
   ]
  },
  {
   "cell_type": "code",
   "execution_count": 43,
   "id": "837ab57c",
   "metadata": {},
   "outputs": [],
   "source": [
    "#dirty_corp[1]"
   ]
  },
  {
   "cell_type": "code",
   "execution_count": null,
   "id": "26960422",
   "metadata": {},
   "outputs": [],
   "source": []
  }
 ],
 "metadata": {
  "kernelspec": {
   "display_name": "Python 3 (ipykernel)",
   "language": "python",
   "name": "python3"
  },
  "language_info": {
   "codemirror_mode": {
    "name": "ipython",
    "version": 3
   },
   "file_extension": ".py",
   "mimetype": "text/x-python",
   "name": "python",
   "nbconvert_exporter": "python",
   "pygments_lexer": "ipython3",
   "version": "3.9.12"
  }
 },
 "nbformat": 4,
 "nbformat_minor": 5
}
