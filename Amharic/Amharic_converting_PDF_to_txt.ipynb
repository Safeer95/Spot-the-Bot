{
 "cells": [
  {
   "cell_type": "code",
   "execution_count": 6,
   "id": "0129f7ed",
   "metadata": {},
   "outputs": [],
   "source": [
    "import os\n",
    "import json\n",
    "\n",
    "from multilingual_pdf2text.pdf2text import PDF2Text\n",
    "from multilingual_pdf2text.models.document_model.document import Document\n",
    "import logging\n",
    "logging.basicConfig(level=logging.INFO)\n",
    "\n",
    "def extract_text_from_pdfs(directory_path, output_path, language):\n",
    "    counter = 0\n",
    "    for filename in os.listdir(directory_path):\n",
    "        if filename.endswith('.pdf') or filename.endswith('.PDF'):\n",
    "            file_path = os.path.join(directory_path, filename)\n",
    "            pdf_document = Document(\n",
    "                document_path=file_path,\n",
    "                language=language\n",
    "            )\n",
    "            pdf2text = PDF2Text(document=pdf_document)\n",
    "            content = pdf2text.extract()\n",
    "            output_file = os.path.join(output_path, f'{filename}.txt')\n",
    "            with open(output_file, 'w', encoding='utf-8') as f:\n",
    "                json.dump(content, f)\n",
    "            counter += 1\n",
    "            print(f'Processed {counter} books')"
   ]
  },
  {
   "cell_type": "code",
   "execution_count": 7,
   "id": "281524d8",
   "metadata": {},
   "outputs": [
    {
     "name": "stderr",
     "output_type": "stream",
     "text": [
      "INFO:multilingual_pdf2text.doc2img.parse_document:Parsing document from pdf to image\n",
      "INFO:multilingual_pdf2text.ocr.image_to_text:Extracting text from images via OCR\n",
      "INFO:multilingual_pdf2text.doc2img.parse_document:Parsing document from pdf to image\n"
     ]
    },
    {
     "name": "stdout",
     "output_type": "stream",
     "text": [
      "Processed 1 books\n"
     ]
    },
    {
     "name": "stderr",
     "output_type": "stream",
     "text": [
      "INFO:multilingual_pdf2text.ocr.image_to_text:Extracting text from images via OCR\n",
      "INFO:multilingual_pdf2text.doc2img.parse_document:Parsing document from pdf to image\n"
     ]
    },
    {
     "name": "stdout",
     "output_type": "stream",
     "text": [
      "Processed 2 books\n"
     ]
    },
    {
     "name": "stderr",
     "output_type": "stream",
     "text": [
      "INFO:multilingual_pdf2text.ocr.image_to_text:Extracting text from images via OCR\n",
      "INFO:multilingual_pdf2text.doc2img.parse_document:Parsing document from pdf to image\n"
     ]
    },
    {
     "name": "stdout",
     "output_type": "stream",
     "text": [
      "Processed 3 books\n"
     ]
    },
    {
     "name": "stderr",
     "output_type": "stream",
     "text": [
      "INFO:multilingual_pdf2text.ocr.image_to_text:Extracting text from images via OCR\n",
      "INFO:multilingual_pdf2text.doc2img.parse_document:Parsing document from pdf to image\n"
     ]
    },
    {
     "name": "stdout",
     "output_type": "stream",
     "text": [
      "Processed 4 books\n"
     ]
    },
    {
     "name": "stderr",
     "output_type": "stream",
     "text": [
      "INFO:multilingual_pdf2text.ocr.image_to_text:Extracting text from images via OCR\n",
      "INFO:multilingual_pdf2text.doc2img.parse_document:Parsing document from pdf to image\n"
     ]
    },
    {
     "name": "stdout",
     "output_type": "stream",
     "text": [
      "Processed 5 books\n"
     ]
    },
    {
     "name": "stderr",
     "output_type": "stream",
     "text": [
      "INFO:multilingual_pdf2text.ocr.image_to_text:Extracting text from images via OCR\n",
      "INFO:multilingual_pdf2text.doc2img.parse_document:Parsing document from pdf to image\n"
     ]
    },
    {
     "name": "stdout",
     "output_type": "stream",
     "text": [
      "Processed 6 books\n"
     ]
    },
    {
     "name": "stderr",
     "output_type": "stream",
     "text": [
      "INFO:multilingual_pdf2text.ocr.image_to_text:Extracting text from images via OCR\n",
      "INFO:multilingual_pdf2text.doc2img.parse_document:Parsing document from pdf to image\n"
     ]
    },
    {
     "name": "stdout",
     "output_type": "stream",
     "text": [
      "Processed 7 books\n"
     ]
    },
    {
     "name": "stderr",
     "output_type": "stream",
     "text": [
      "INFO:multilingual_pdf2text.ocr.image_to_text:Extracting text from images via OCR\n",
      "INFO:multilingual_pdf2text.doc2img.parse_document:Parsing document from pdf to image\n"
     ]
    },
    {
     "name": "stdout",
     "output_type": "stream",
     "text": [
      "Processed 8 books\n"
     ]
    },
    {
     "name": "stderr",
     "output_type": "stream",
     "text": [
      "INFO:multilingual_pdf2text.ocr.image_to_text:Extracting text from images via OCR\n",
      "INFO:multilingual_pdf2text.doc2img.parse_document:Parsing document from pdf to image\n"
     ]
    },
    {
     "name": "stdout",
     "output_type": "stream",
     "text": [
      "Processed 9 books\n"
     ]
    },
    {
     "name": "stderr",
     "output_type": "stream",
     "text": [
      "INFO:multilingual_pdf2text.ocr.image_to_text:Extracting text from images via OCR\n",
      "INFO:multilingual_pdf2text.doc2img.parse_document:Parsing document from pdf to image\n"
     ]
    },
    {
     "name": "stdout",
     "output_type": "stream",
     "text": [
      "Processed 10 books\n"
     ]
    },
    {
     "name": "stderr",
     "output_type": "stream",
     "text": [
      "INFO:multilingual_pdf2text.ocr.image_to_text:Extracting text from images via OCR\n",
      "INFO:multilingual_pdf2text.doc2img.parse_document:Parsing document from pdf to image\n"
     ]
    },
    {
     "name": "stdout",
     "output_type": "stream",
     "text": [
      "Processed 11 books\n"
     ]
    },
    {
     "name": "stderr",
     "output_type": "stream",
     "text": [
      "INFO:multilingual_pdf2text.ocr.image_to_text:Extracting text from images via OCR\n",
      "INFO:multilingual_pdf2text.doc2img.parse_document:Parsing document from pdf to image\n"
     ]
    },
    {
     "name": "stdout",
     "output_type": "stream",
     "text": [
      "Processed 12 books\n"
     ]
    },
    {
     "name": "stderr",
     "output_type": "stream",
     "text": [
      "INFO:multilingual_pdf2text.ocr.image_to_text:Extracting text from images via OCR\n",
      "INFO:multilingual_pdf2text.doc2img.parse_document:Parsing document from pdf to image\n"
     ]
    },
    {
     "name": "stdout",
     "output_type": "stream",
     "text": [
      "Processed 13 books\n"
     ]
    },
    {
     "name": "stderr",
     "output_type": "stream",
     "text": [
      "INFO:multilingual_pdf2text.ocr.image_to_text:Extracting text from images via OCR\n",
      "INFO:multilingual_pdf2text.doc2img.parse_document:Parsing document from pdf to image\n"
     ]
    },
    {
     "name": "stdout",
     "output_type": "stream",
     "text": [
      "Processed 14 books\n"
     ]
    },
    {
     "name": "stderr",
     "output_type": "stream",
     "text": [
      "INFO:multilingual_pdf2text.ocr.image_to_text:Extracting text from images via OCR\n",
      "INFO:multilingual_pdf2text.doc2img.parse_document:Parsing document from pdf to image\n"
     ]
    },
    {
     "name": "stdout",
     "output_type": "stream",
     "text": [
      "Processed 15 books\n"
     ]
    },
    {
     "name": "stderr",
     "output_type": "stream",
     "text": [
      "INFO:multilingual_pdf2text.ocr.image_to_text:Extracting text from images via OCR\n",
      "INFO:multilingual_pdf2text.doc2img.parse_document:Parsing document from pdf to image\n"
     ]
    },
    {
     "name": "stdout",
     "output_type": "stream",
     "text": [
      "Processed 16 books\n"
     ]
    },
    {
     "name": "stderr",
     "output_type": "stream",
     "text": [
      "INFO:multilingual_pdf2text.ocr.image_to_text:Extracting text from images via OCR\n",
      "INFO:multilingual_pdf2text.doc2img.parse_document:Parsing document from pdf to image\n"
     ]
    },
    {
     "name": "stdout",
     "output_type": "stream",
     "text": [
      "Processed 17 books\n"
     ]
    },
    {
     "name": "stderr",
     "output_type": "stream",
     "text": [
      "INFO:multilingual_pdf2text.ocr.image_to_text:Extracting text from images via OCR\n",
      "INFO:multilingual_pdf2text.doc2img.parse_document:Parsing document from pdf to image\n"
     ]
    },
    {
     "name": "stdout",
     "output_type": "stream",
     "text": [
      "Processed 18 books\n"
     ]
    },
    {
     "name": "stderr",
     "output_type": "stream",
     "text": [
      "INFO:multilingual_pdf2text.ocr.image_to_text:Extracting text from images via OCR\n",
      "INFO:multilingual_pdf2text.doc2img.parse_document:Parsing document from pdf to image\n"
     ]
    },
    {
     "name": "stdout",
     "output_type": "stream",
     "text": [
      "Processed 19 books\n"
     ]
    },
    {
     "name": "stderr",
     "output_type": "stream",
     "text": [
      "INFO:multilingual_pdf2text.ocr.image_to_text:Extracting text from images via OCR\n",
      "INFO:multilingual_pdf2text.doc2img.parse_document:Parsing document from pdf to image\n"
     ]
    },
    {
     "name": "stdout",
     "output_type": "stream",
     "text": [
      "Processed 20 books\n"
     ]
    },
    {
     "name": "stderr",
     "output_type": "stream",
     "text": [
      "INFO:multilingual_pdf2text.ocr.image_to_text:Extracting text from images via OCR\n",
      "INFO:multilingual_pdf2text.doc2img.parse_document:Parsing document from pdf to image\n"
     ]
    },
    {
     "name": "stdout",
     "output_type": "stream",
     "text": [
      "Processed 21 books\n"
     ]
    },
    {
     "name": "stderr",
     "output_type": "stream",
     "text": [
      "INFO:multilingual_pdf2text.ocr.image_to_text:Extracting text from images via OCR\n",
      "INFO:multilingual_pdf2text.doc2img.parse_document:Parsing document from pdf to image\n"
     ]
    },
    {
     "name": "stdout",
     "output_type": "stream",
     "text": [
      "Processed 22 books\n"
     ]
    },
    {
     "name": "stderr",
     "output_type": "stream",
     "text": [
      "INFO:multilingual_pdf2text.ocr.image_to_text:Extracting text from images via OCR\n",
      "INFO:multilingual_pdf2text.doc2img.parse_document:Parsing document from pdf to image\n"
     ]
    },
    {
     "name": "stdout",
     "output_type": "stream",
     "text": [
      "Processed 23 books\n"
     ]
    },
    {
     "name": "stderr",
     "output_type": "stream",
     "text": [
      "INFO:multilingual_pdf2text.ocr.image_to_text:Extracting text from images via OCR\n",
      "INFO:multilingual_pdf2text.doc2img.parse_document:Parsing document from pdf to image\n"
     ]
    },
    {
     "name": "stdout",
     "output_type": "stream",
     "text": [
      "Processed 24 books\n"
     ]
    },
    {
     "name": "stderr",
     "output_type": "stream",
     "text": [
      "INFO:multilingual_pdf2text.ocr.image_to_text:Extracting text from images via OCR\n",
      "INFO:multilingual_pdf2text.doc2img.parse_document:Parsing document from pdf to image\n"
     ]
    },
    {
     "name": "stdout",
     "output_type": "stream",
     "text": [
      "Processed 25 books\n"
     ]
    },
    {
     "name": "stderr",
     "output_type": "stream",
     "text": [
      "INFO:multilingual_pdf2text.ocr.image_to_text:Extracting text from images via OCR\n",
      "INFO:multilingual_pdf2text.doc2img.parse_document:Parsing document from pdf to image\n"
     ]
    },
    {
     "name": "stdout",
     "output_type": "stream",
     "text": [
      "Processed 26 books\n"
     ]
    },
    {
     "name": "stderr",
     "output_type": "stream",
     "text": [
      "INFO:multilingual_pdf2text.ocr.image_to_text:Extracting text from images via OCR\n",
      "INFO:multilingual_pdf2text.doc2img.parse_document:Parsing document from pdf to image\n"
     ]
    },
    {
     "name": "stdout",
     "output_type": "stream",
     "text": [
      "Processed 27 books\n"
     ]
    },
    {
     "name": "stderr",
     "output_type": "stream",
     "text": [
      "INFO:multilingual_pdf2text.ocr.image_to_text:Extracting text from images via OCR\n",
      "INFO:multilingual_pdf2text.doc2img.parse_document:Parsing document from pdf to image\n"
     ]
    },
    {
     "name": "stdout",
     "output_type": "stream",
     "text": [
      "Processed 28 books\n"
     ]
    },
    {
     "name": "stderr",
     "output_type": "stream",
     "text": [
      "INFO:multilingual_pdf2text.ocr.image_to_text:Extracting text from images via OCR\n",
      "INFO:multilingual_pdf2text.doc2img.parse_document:Parsing document from pdf to image\n"
     ]
    },
    {
     "name": "stdout",
     "output_type": "stream",
     "text": [
      "Processed 29 books\n"
     ]
    },
    {
     "name": "stderr",
     "output_type": "stream",
     "text": [
      "INFO:multilingual_pdf2text.ocr.image_to_text:Extracting text from images via OCR\n",
      "INFO:multilingual_pdf2text.doc2img.parse_document:Parsing document from pdf to image\n"
     ]
    },
    {
     "name": "stdout",
     "output_type": "stream",
     "text": [
      "Processed 30 books\n"
     ]
    },
    {
     "name": "stderr",
     "output_type": "stream",
     "text": [
      "INFO:multilingual_pdf2text.ocr.image_to_text:Extracting text from images via OCR\n",
      "INFO:multilingual_pdf2text.doc2img.parse_document:Parsing document from pdf to image\n"
     ]
    },
    {
     "name": "stdout",
     "output_type": "stream",
     "text": [
      "Processed 31 books\n"
     ]
    },
    {
     "name": "stderr",
     "output_type": "stream",
     "text": [
      "INFO:multilingual_pdf2text.ocr.image_to_text:Extracting text from images via OCR\n",
      "INFO:multilingual_pdf2text.doc2img.parse_document:Parsing document from pdf to image\n"
     ]
    },
    {
     "name": "stdout",
     "output_type": "stream",
     "text": [
      "Processed 32 books\n"
     ]
    },
    {
     "name": "stderr",
     "output_type": "stream",
     "text": [
      "INFO:multilingual_pdf2text.ocr.image_to_text:Extracting text from images via OCR\n",
      "INFO:multilingual_pdf2text.doc2img.parse_document:Parsing document from pdf to image\n"
     ]
    },
    {
     "name": "stdout",
     "output_type": "stream",
     "text": [
      "Processed 33 books\n"
     ]
    },
    {
     "name": "stderr",
     "output_type": "stream",
     "text": [
      "INFO:multilingual_pdf2text.ocr.image_to_text:Extracting text from images via OCR\n",
      "INFO:multilingual_pdf2text.doc2img.parse_document:Parsing document from pdf to image\n"
     ]
    },
    {
     "name": "stdout",
     "output_type": "stream",
     "text": [
      "Processed 34 books\n"
     ]
    },
    {
     "name": "stderr",
     "output_type": "stream",
     "text": [
      "INFO:multilingual_pdf2text.ocr.image_to_text:Extracting text from images via OCR\n",
      "INFO:multilingual_pdf2text.doc2img.parse_document:Parsing document from pdf to image\n"
     ]
    },
    {
     "name": "stdout",
     "output_type": "stream",
     "text": [
      "Processed 35 books\n"
     ]
    },
    {
     "name": "stderr",
     "output_type": "stream",
     "text": [
      "INFO:multilingual_pdf2text.ocr.image_to_text:Extracting text from images via OCR\n",
      "INFO:multilingual_pdf2text.doc2img.parse_document:Parsing document from pdf to image\n"
     ]
    },
    {
     "name": "stdout",
     "output_type": "stream",
     "text": [
      "Processed 36 books\n"
     ]
    },
    {
     "name": "stderr",
     "output_type": "stream",
     "text": [
      "INFO:multilingual_pdf2text.ocr.image_to_text:Extracting text from images via OCR\n",
      "INFO:multilingual_pdf2text.doc2img.parse_document:Parsing document from pdf to image\n"
     ]
    },
    {
     "name": "stdout",
     "output_type": "stream",
     "text": [
      "Processed 37 books\n"
     ]
    },
    {
     "name": "stderr",
     "output_type": "stream",
     "text": [
      "INFO:multilingual_pdf2text.ocr.image_to_text:Extracting text from images via OCR\n",
      "INFO:multilingual_pdf2text.doc2img.parse_document:Parsing document from pdf to image\n"
     ]
    },
    {
     "name": "stdout",
     "output_type": "stream",
     "text": [
      "Processed 38 books\n"
     ]
    },
    {
     "name": "stderr",
     "output_type": "stream",
     "text": [
      "INFO:multilingual_pdf2text.ocr.image_to_text:Extracting text from images via OCR\n",
      "INFO:multilingual_pdf2text.doc2img.parse_document:Parsing document from pdf to image\n"
     ]
    },
    {
     "name": "stdout",
     "output_type": "stream",
     "text": [
      "Processed 39 books\n"
     ]
    },
    {
     "name": "stderr",
     "output_type": "stream",
     "text": [
      "INFO:multilingual_pdf2text.ocr.image_to_text:Extracting text from images via OCR\n",
      "INFO:multilingual_pdf2text.doc2img.parse_document:Parsing document from pdf to image\n"
     ]
    },
    {
     "name": "stdout",
     "output_type": "stream",
     "text": [
      "Processed 40 books\n"
     ]
    },
    {
     "name": "stderr",
     "output_type": "stream",
     "text": [
      "INFO:multilingual_pdf2text.ocr.image_to_text:Extracting text from images via OCR\n",
      "INFO:multilingual_pdf2text.doc2img.parse_document:Parsing document from pdf to image\n"
     ]
    },
    {
     "name": "stdout",
     "output_type": "stream",
     "text": [
      "Processed 41 books\n"
     ]
    },
    {
     "name": "stderr",
     "output_type": "stream",
     "text": [
      "INFO:multilingual_pdf2text.ocr.image_to_text:Extracting text from images via OCR\n",
      "INFO:multilingual_pdf2text.doc2img.parse_document:Parsing document from pdf to image\n"
     ]
    },
    {
     "name": "stdout",
     "output_type": "stream",
     "text": [
      "Processed 42 books\n"
     ]
    },
    {
     "name": "stderr",
     "output_type": "stream",
     "text": [
      "INFO:multilingual_pdf2text.ocr.image_to_text:Extracting text from images via OCR\n",
      "INFO:multilingual_pdf2text.doc2img.parse_document:Parsing document from pdf to image\n"
     ]
    },
    {
     "name": "stdout",
     "output_type": "stream",
     "text": [
      "Processed 43 books\n"
     ]
    },
    {
     "name": "stderr",
     "output_type": "stream",
     "text": [
      "INFO:multilingual_pdf2text.ocr.image_to_text:Extracting text from images via OCR\n",
      "INFO:multilingual_pdf2text.doc2img.parse_document:Parsing document from pdf to image\n"
     ]
    },
    {
     "name": "stdout",
     "output_type": "stream",
     "text": [
      "Processed 44 books\n"
     ]
    },
    {
     "name": "stderr",
     "output_type": "stream",
     "text": [
      "INFO:multilingual_pdf2text.ocr.image_to_text:Extracting text from images via OCR\n",
      "INFO:multilingual_pdf2text.doc2img.parse_document:Parsing document from pdf to image\n"
     ]
    },
    {
     "name": "stdout",
     "output_type": "stream",
     "text": [
      "Processed 45 books\n"
     ]
    },
    {
     "name": "stderr",
     "output_type": "stream",
     "text": [
      "INFO:multilingual_pdf2text.ocr.image_to_text:Extracting text from images via OCR\n",
      "INFO:multilingual_pdf2text.doc2img.parse_document:Parsing document from pdf to image\n"
     ]
    },
    {
     "name": "stdout",
     "output_type": "stream",
     "text": [
      "Processed 46 books\n"
     ]
    },
    {
     "name": "stderr",
     "output_type": "stream",
     "text": [
      "INFO:multilingual_pdf2text.ocr.image_to_text:Extracting text from images via OCR\n",
      "INFO:multilingual_pdf2text.doc2img.parse_document:Parsing document from pdf to image\n"
     ]
    },
    {
     "name": "stdout",
     "output_type": "stream",
     "text": [
      "Processed 47 books\n"
     ]
    },
    {
     "name": "stderr",
     "output_type": "stream",
     "text": [
      "INFO:multilingual_pdf2text.ocr.image_to_text:Extracting text from images via OCR\n",
      "INFO:multilingual_pdf2text.doc2img.parse_document:Parsing document from pdf to image\n"
     ]
    },
    {
     "name": "stdout",
     "output_type": "stream",
     "text": [
      "Processed 48 books\n"
     ]
    },
    {
     "name": "stderr",
     "output_type": "stream",
     "text": [
      "INFO:multilingual_pdf2text.ocr.image_to_text:Extracting text from images via OCR\n",
      "INFO:multilingual_pdf2text.doc2img.parse_document:Parsing document from pdf to image\n"
     ]
    },
    {
     "name": "stdout",
     "output_type": "stream",
     "text": [
      "Processed 49 books\n"
     ]
    },
    {
     "name": "stderr",
     "output_type": "stream",
     "text": [
      "INFO:multilingual_pdf2text.ocr.image_to_text:Extracting text from images via OCR\n",
      "INFO:multilingual_pdf2text.doc2img.parse_document:Parsing document from pdf to image\n"
     ]
    },
    {
     "name": "stdout",
     "output_type": "stream",
     "text": [
      "Processed 50 books\n"
     ]
    },
    {
     "name": "stderr",
     "output_type": "stream",
     "text": [
      "INFO:multilingual_pdf2text.ocr.image_to_text:Extracting text from images via OCR\n",
      "INFO:multilingual_pdf2text.doc2img.parse_document:Parsing document from pdf to image\n"
     ]
    },
    {
     "name": "stdout",
     "output_type": "stream",
     "text": [
      "Processed 51 books\n"
     ]
    },
    {
     "name": "stderr",
     "output_type": "stream",
     "text": [
      "INFO:multilingual_pdf2text.ocr.image_to_text:Extracting text from images via OCR\n",
      "INFO:multilingual_pdf2text.doc2img.parse_document:Parsing document from pdf to image\n"
     ]
    },
    {
     "name": "stdout",
     "output_type": "stream",
     "text": [
      "Processed 52 books\n"
     ]
    },
    {
     "name": "stderr",
     "output_type": "stream",
     "text": [
      "INFO:multilingual_pdf2text.ocr.image_to_text:Extracting text from images via OCR\n",
      "INFO:multilingual_pdf2text.doc2img.parse_document:Parsing document from pdf to image\n"
     ]
    },
    {
     "name": "stdout",
     "output_type": "stream",
     "text": [
      "Processed 53 books\n"
     ]
    },
    {
     "name": "stderr",
     "output_type": "stream",
     "text": [
      "INFO:multilingual_pdf2text.ocr.image_to_text:Extracting text from images via OCR\n",
      "INFO:multilingual_pdf2text.doc2img.parse_document:Parsing document from pdf to image\n"
     ]
    },
    {
     "name": "stdout",
     "output_type": "stream",
     "text": [
      "Processed 54 books\n"
     ]
    },
    {
     "name": "stderr",
     "output_type": "stream",
     "text": [
      "INFO:multilingual_pdf2text.ocr.image_to_text:Extracting text from images via OCR\n",
      "INFO:multilingual_pdf2text.doc2img.parse_document:Parsing document from pdf to image\n"
     ]
    },
    {
     "name": "stdout",
     "output_type": "stream",
     "text": [
      "Processed 55 books\n"
     ]
    },
    {
     "name": "stderr",
     "output_type": "stream",
     "text": [
      "INFO:multilingual_pdf2text.ocr.image_to_text:Extracting text from images via OCR\n",
      "INFO:multilingual_pdf2text.doc2img.parse_document:Parsing document from pdf to image\n"
     ]
    },
    {
     "name": "stdout",
     "output_type": "stream",
     "text": [
      "Processed 56 books\n"
     ]
    },
    {
     "name": "stderr",
     "output_type": "stream",
     "text": [
      "INFO:multilingual_pdf2text.ocr.image_to_text:Extracting text from images via OCR\n",
      "INFO:multilingual_pdf2text.doc2img.parse_document:Parsing document from pdf to image\n"
     ]
    },
    {
     "name": "stdout",
     "output_type": "stream",
     "text": [
      "Processed 57 books\n"
     ]
    },
    {
     "name": "stderr",
     "output_type": "stream",
     "text": [
      "INFO:multilingual_pdf2text.ocr.image_to_text:Extracting text from images via OCR\n",
      "INFO:multilingual_pdf2text.doc2img.parse_document:Parsing document from pdf to image\n"
     ]
    },
    {
     "name": "stdout",
     "output_type": "stream",
     "text": [
      "Processed 58 books\n"
     ]
    },
    {
     "name": "stderr",
     "output_type": "stream",
     "text": [
      "INFO:multilingual_pdf2text.ocr.image_to_text:Extracting text from images via OCR\n",
      "INFO:multilingual_pdf2text.doc2img.parse_document:Parsing document from pdf to image\n"
     ]
    },
    {
     "name": "stdout",
     "output_type": "stream",
     "text": [
      "Processed 59 books\n"
     ]
    },
    {
     "name": "stderr",
     "output_type": "stream",
     "text": [
      "INFO:multilingual_pdf2text.ocr.image_to_text:Extracting text from images via OCR\n",
      "INFO:multilingual_pdf2text.doc2img.parse_document:Parsing document from pdf to image\n"
     ]
    },
    {
     "name": "stdout",
     "output_type": "stream",
     "text": [
      "Processed 60 books\n"
     ]
    },
    {
     "name": "stderr",
     "output_type": "stream",
     "text": [
      "INFO:multilingual_pdf2text.ocr.image_to_text:Extracting text from images via OCR\n",
      "INFO:multilingual_pdf2text.doc2img.parse_document:Parsing document from pdf to image\n"
     ]
    },
    {
     "name": "stdout",
     "output_type": "stream",
     "text": [
      "Processed 61 books\n"
     ]
    },
    {
     "name": "stderr",
     "output_type": "stream",
     "text": [
      "INFO:multilingual_pdf2text.ocr.image_to_text:Extracting text from images via OCR\n",
      "INFO:multilingual_pdf2text.doc2img.parse_document:Parsing document from pdf to image\n"
     ]
    },
    {
     "name": "stdout",
     "output_type": "stream",
     "text": [
      "Processed 62 books\n"
     ]
    },
    {
     "name": "stderr",
     "output_type": "stream",
     "text": [
      "INFO:multilingual_pdf2text.ocr.image_to_text:Extracting text from images via OCR\n",
      "INFO:multilingual_pdf2text.doc2img.parse_document:Parsing document from pdf to image\n"
     ]
    },
    {
     "name": "stdout",
     "output_type": "stream",
     "text": [
      "Processed 63 books\n"
     ]
    },
    {
     "name": "stderr",
     "output_type": "stream",
     "text": [
      "INFO:multilingual_pdf2text.ocr.image_to_text:Extracting text from images via OCR\n",
      "INFO:multilingual_pdf2text.doc2img.parse_document:Parsing document from pdf to image\n"
     ]
    },
    {
     "name": "stdout",
     "output_type": "stream",
     "text": [
      "Processed 64 books\n"
     ]
    },
    {
     "name": "stderr",
     "output_type": "stream",
     "text": [
      "INFO:multilingual_pdf2text.ocr.image_to_text:Extracting text from images via OCR\n",
      "INFO:multilingual_pdf2text.doc2img.parse_document:Parsing document from pdf to image\n"
     ]
    },
    {
     "name": "stdout",
     "output_type": "stream",
     "text": [
      "Processed 65 books\n"
     ]
    },
    {
     "name": "stderr",
     "output_type": "stream",
     "text": [
      "INFO:multilingual_pdf2text.ocr.image_to_text:Extracting text from images via OCR\n",
      "INFO:multilingual_pdf2text.doc2img.parse_document:Parsing document from pdf to image\n"
     ]
    },
    {
     "name": "stdout",
     "output_type": "stream",
     "text": [
      "Processed 66 books\n"
     ]
    },
    {
     "name": "stderr",
     "output_type": "stream",
     "text": [
      "INFO:multilingual_pdf2text.ocr.image_to_text:Extracting text from images via OCR\n",
      "INFO:multilingual_pdf2text.doc2img.parse_document:Parsing document from pdf to image\n"
     ]
    },
    {
     "name": "stdout",
     "output_type": "stream",
     "text": [
      "Processed 67 books\n"
     ]
    },
    {
     "name": "stderr",
     "output_type": "stream",
     "text": [
      "INFO:multilingual_pdf2text.ocr.image_to_text:Extracting text from images via OCR\n",
      "INFO:multilingual_pdf2text.doc2img.parse_document:Parsing document from pdf to image\n"
     ]
    },
    {
     "name": "stdout",
     "output_type": "stream",
     "text": [
      "Processed 68 books\n"
     ]
    },
    {
     "name": "stderr",
     "output_type": "stream",
     "text": [
      "INFO:multilingual_pdf2text.ocr.image_to_text:Extracting text from images via OCR\n",
      "INFO:multilingual_pdf2text.doc2img.parse_document:Parsing document from pdf to image\n"
     ]
    },
    {
     "name": "stdout",
     "output_type": "stream",
     "text": [
      "Processed 69 books\n"
     ]
    },
    {
     "name": "stderr",
     "output_type": "stream",
     "text": [
      "INFO:multilingual_pdf2text.ocr.image_to_text:Extracting text from images via OCR\n",
      "INFO:multilingual_pdf2text.doc2img.parse_document:Parsing document from pdf to image\n"
     ]
    },
    {
     "name": "stdout",
     "output_type": "stream",
     "text": [
      "Processed 70 books\n"
     ]
    },
    {
     "name": "stderr",
     "output_type": "stream",
     "text": [
      "INFO:multilingual_pdf2text.ocr.image_to_text:Extracting text from images via OCR\n",
      "INFO:multilingual_pdf2text.doc2img.parse_document:Parsing document from pdf to image\n"
     ]
    },
    {
     "name": "stdout",
     "output_type": "stream",
     "text": [
      "Processed 71 books\n"
     ]
    },
    {
     "name": "stderr",
     "output_type": "stream",
     "text": [
      "INFO:multilingual_pdf2text.ocr.image_to_text:Extracting text from images via OCR\n",
      "INFO:multilingual_pdf2text.doc2img.parse_document:Parsing document from pdf to image\n"
     ]
    },
    {
     "name": "stdout",
     "output_type": "stream",
     "text": [
      "Processed 72 books\n"
     ]
    },
    {
     "name": "stderr",
     "output_type": "stream",
     "text": [
      "INFO:multilingual_pdf2text.ocr.image_to_text:Extracting text from images via OCR\n",
      "INFO:multilingual_pdf2text.doc2img.parse_document:Parsing document from pdf to image\n"
     ]
    },
    {
     "name": "stdout",
     "output_type": "stream",
     "text": [
      "Processed 73 books\n"
     ]
    },
    {
     "name": "stderr",
     "output_type": "stream",
     "text": [
      "INFO:multilingual_pdf2text.ocr.image_to_text:Extracting text from images via OCR\n",
      "INFO:multilingual_pdf2text.doc2img.parse_document:Parsing document from pdf to image\n"
     ]
    },
    {
     "name": "stdout",
     "output_type": "stream",
     "text": [
      "Processed 74 books\n"
     ]
    },
    {
     "name": "stderr",
     "output_type": "stream",
     "text": [
      "INFO:multilingual_pdf2text.ocr.image_to_text:Extracting text from images via OCR\n",
      "INFO:multilingual_pdf2text.doc2img.parse_document:Parsing document from pdf to image\n"
     ]
    },
    {
     "name": "stdout",
     "output_type": "stream",
     "text": [
      "Processed 75 books\n"
     ]
    },
    {
     "name": "stderr",
     "output_type": "stream",
     "text": [
      "INFO:multilingual_pdf2text.ocr.image_to_text:Extracting text from images via OCR\n",
      "INFO:multilingual_pdf2text.doc2img.parse_document:Parsing document from pdf to image\n"
     ]
    },
    {
     "name": "stdout",
     "output_type": "stream",
     "text": [
      "Processed 76 books\n"
     ]
    },
    {
     "name": "stderr",
     "output_type": "stream",
     "text": [
      "INFO:multilingual_pdf2text.ocr.image_to_text:Extracting text from images via OCR\n",
      "INFO:multilingual_pdf2text.doc2img.parse_document:Parsing document from pdf to image\n"
     ]
    },
    {
     "name": "stdout",
     "output_type": "stream",
     "text": [
      "Processed 77 books\n"
     ]
    },
    {
     "name": "stderr",
     "output_type": "stream",
     "text": [
      "INFO:multilingual_pdf2text.ocr.image_to_text:Extracting text from images via OCR\n",
      "INFO:multilingual_pdf2text.doc2img.parse_document:Parsing document from pdf to image\n"
     ]
    },
    {
     "name": "stdout",
     "output_type": "stream",
     "text": [
      "Processed 78 books\n"
     ]
    },
    {
     "name": "stderr",
     "output_type": "stream",
     "text": [
      "INFO:multilingual_pdf2text.ocr.image_to_text:Extracting text from images via OCR\n",
      "INFO:multilingual_pdf2text.doc2img.parse_document:Parsing document from pdf to image\n"
     ]
    },
    {
     "name": "stdout",
     "output_type": "stream",
     "text": [
      "Processed 79 books\n"
     ]
    },
    {
     "name": "stderr",
     "output_type": "stream",
     "text": [
      "INFO:multilingual_pdf2text.ocr.image_to_text:Extracting text from images via OCR\n",
      "INFO:multilingual_pdf2text.doc2img.parse_document:Parsing document from pdf to image\n"
     ]
    },
    {
     "name": "stdout",
     "output_type": "stream",
     "text": [
      "Processed 80 books\n"
     ]
    },
    {
     "name": "stderr",
     "output_type": "stream",
     "text": [
      "INFO:multilingual_pdf2text.ocr.image_to_text:Extracting text from images via OCR\n",
      "INFO:multilingual_pdf2text.doc2img.parse_document:Parsing document from pdf to image\n"
     ]
    },
    {
     "name": "stdout",
     "output_type": "stream",
     "text": [
      "Processed 81 books\n"
     ]
    },
    {
     "name": "stderr",
     "output_type": "stream",
     "text": [
      "INFO:multilingual_pdf2text.ocr.image_to_text:Extracting text from images via OCR\n",
      "INFO:multilingual_pdf2text.doc2img.parse_document:Parsing document from pdf to image\n"
     ]
    },
    {
     "name": "stdout",
     "output_type": "stream",
     "text": [
      "Processed 82 books\n"
     ]
    },
    {
     "name": "stderr",
     "output_type": "stream",
     "text": [
      "INFO:multilingual_pdf2text.ocr.image_to_text:Extracting text from images via OCR\n",
      "INFO:multilingual_pdf2text.doc2img.parse_document:Parsing document from pdf to image\n"
     ]
    },
    {
     "name": "stdout",
     "output_type": "stream",
     "text": [
      "Processed 83 books\n"
     ]
    },
    {
     "name": "stderr",
     "output_type": "stream",
     "text": [
      "INFO:multilingual_pdf2text.ocr.image_to_text:Extracting text from images via OCR\n",
      "INFO:multilingual_pdf2text.doc2img.parse_document:Parsing document from pdf to image\n"
     ]
    },
    {
     "name": "stdout",
     "output_type": "stream",
     "text": [
      "Processed 84 books\n"
     ]
    },
    {
     "name": "stderr",
     "output_type": "stream",
     "text": [
      "INFO:multilingual_pdf2text.ocr.image_to_text:Extracting text from images via OCR\n",
      "INFO:multilingual_pdf2text.doc2img.parse_document:Parsing document from pdf to image\n"
     ]
    },
    {
     "name": "stdout",
     "output_type": "stream",
     "text": [
      "Processed 85 books\n"
     ]
    },
    {
     "name": "stderr",
     "output_type": "stream",
     "text": [
      "INFO:multilingual_pdf2text.ocr.image_to_text:Extracting text from images via OCR\n",
      "INFO:multilingual_pdf2text.doc2img.parse_document:Parsing document from pdf to image\n"
     ]
    },
    {
     "name": "stdout",
     "output_type": "stream",
     "text": [
      "Processed 86 books\n"
     ]
    },
    {
     "name": "stderr",
     "output_type": "stream",
     "text": [
      "INFO:multilingual_pdf2text.ocr.image_to_text:Extracting text from images via OCR\n",
      "INFO:multilingual_pdf2text.doc2img.parse_document:Parsing document from pdf to image\n"
     ]
    },
    {
     "name": "stdout",
     "output_type": "stream",
     "text": [
      "Processed 87 books\n"
     ]
    },
    {
     "name": "stderr",
     "output_type": "stream",
     "text": [
      "INFO:multilingual_pdf2text.ocr.image_to_text:Extracting text from images via OCR\n",
      "INFO:multilingual_pdf2text.doc2img.parse_document:Parsing document from pdf to image\n"
     ]
    },
    {
     "name": "stdout",
     "output_type": "stream",
     "text": [
      "Processed 88 books\n"
     ]
    },
    {
     "name": "stderr",
     "output_type": "stream",
     "text": [
      "INFO:multilingual_pdf2text.ocr.image_to_text:Extracting text from images via OCR\n",
      "INFO:multilingual_pdf2text.doc2img.parse_document:Parsing document from pdf to image\n"
     ]
    },
    {
     "name": "stdout",
     "output_type": "stream",
     "text": [
      "Processed 89 books\n"
     ]
    },
    {
     "name": "stderr",
     "output_type": "stream",
     "text": [
      "INFO:multilingual_pdf2text.ocr.image_to_text:Extracting text from images via OCR\n",
      "INFO:multilingual_pdf2text.doc2img.parse_document:Parsing document from pdf to image\n"
     ]
    },
    {
     "name": "stdout",
     "output_type": "stream",
     "text": [
      "Processed 90 books\n"
     ]
    },
    {
     "name": "stderr",
     "output_type": "stream",
     "text": [
      "INFO:multilingual_pdf2text.ocr.image_to_text:Extracting text from images via OCR\n",
      "INFO:multilingual_pdf2text.doc2img.parse_document:Parsing document from pdf to image\n"
     ]
    },
    {
     "name": "stdout",
     "output_type": "stream",
     "text": [
      "Processed 91 books\n"
     ]
    },
    {
     "name": "stderr",
     "output_type": "stream",
     "text": [
      "INFO:multilingual_pdf2text.ocr.image_to_text:Extracting text from images via OCR\n",
      "INFO:multilingual_pdf2text.doc2img.parse_document:Parsing document from pdf to image\n"
     ]
    },
    {
     "name": "stdout",
     "output_type": "stream",
     "text": [
      "Processed 92 books\n"
     ]
    },
    {
     "name": "stderr",
     "output_type": "stream",
     "text": [
      "INFO:multilingual_pdf2text.ocr.image_to_text:Extracting text from images via OCR\n",
      "INFO:multilingual_pdf2text.doc2img.parse_document:Parsing document from pdf to image\n"
     ]
    },
    {
     "name": "stdout",
     "output_type": "stream",
     "text": [
      "Processed 93 books\n"
     ]
    },
    {
     "name": "stderr",
     "output_type": "stream",
     "text": [
      "INFO:multilingual_pdf2text.ocr.image_to_text:Extracting text from images via OCR\n",
      "INFO:multilingual_pdf2text.doc2img.parse_document:Parsing document from pdf to image\n"
     ]
    },
    {
     "name": "stdout",
     "output_type": "stream",
     "text": [
      "Processed 94 books\n"
     ]
    },
    {
     "name": "stderr",
     "output_type": "stream",
     "text": [
      "INFO:multilingual_pdf2text.ocr.image_to_text:Extracting text from images via OCR\n",
      "INFO:multilingual_pdf2text.doc2img.parse_document:Parsing document from pdf to image\n"
     ]
    },
    {
     "name": "stdout",
     "output_type": "stream",
     "text": [
      "Processed 95 books\n"
     ]
    },
    {
     "name": "stderr",
     "output_type": "stream",
     "text": [
      "INFO:multilingual_pdf2text.ocr.image_to_text:Extracting text from images via OCR\n",
      "INFO:multilingual_pdf2text.doc2img.parse_document:Parsing document from pdf to image\n"
     ]
    },
    {
     "name": "stdout",
     "output_type": "stream",
     "text": [
      "Processed 96 books\n"
     ]
    },
    {
     "name": "stderr",
     "output_type": "stream",
     "text": [
      "INFO:multilingual_pdf2text.ocr.image_to_text:Extracting text from images via OCR\n",
      "INFO:multilingual_pdf2text.doc2img.parse_document:Parsing document from pdf to image\n"
     ]
    },
    {
     "name": "stdout",
     "output_type": "stream",
     "text": [
      "Processed 97 books\n"
     ]
    },
    {
     "name": "stderr",
     "output_type": "stream",
     "text": [
      "INFO:multilingual_pdf2text.ocr.image_to_text:Extracting text from images via OCR\n",
      "INFO:multilingual_pdf2text.doc2img.parse_document:Parsing document from pdf to image\n"
     ]
    },
    {
     "name": "stdout",
     "output_type": "stream",
     "text": [
      "Processed 98 books\n"
     ]
    },
    {
     "name": "stderr",
     "output_type": "stream",
     "text": [
      "INFO:multilingual_pdf2text.ocr.image_to_text:Extracting text from images via OCR\n",
      "INFO:multilingual_pdf2text.doc2img.parse_document:Parsing document from pdf to image\n"
     ]
    },
    {
     "name": "stdout",
     "output_type": "stream",
     "text": [
      "Processed 99 books\n"
     ]
    },
    {
     "name": "stderr",
     "output_type": "stream",
     "text": [
      "INFO:multilingual_pdf2text.ocr.image_to_text:Extracting text from images via OCR\n",
      "INFO:multilingual_pdf2text.doc2img.parse_document:Parsing document from pdf to image\n"
     ]
    },
    {
     "name": "stdout",
     "output_type": "stream",
     "text": [
      "Processed 100 books\n"
     ]
    },
    {
     "name": "stderr",
     "output_type": "stream",
     "text": [
      "INFO:multilingual_pdf2text.ocr.image_to_text:Extracting text from images via OCR\n",
      "INFO:multilingual_pdf2text.doc2img.parse_document:Parsing document from pdf to image\n"
     ]
    },
    {
     "name": "stdout",
     "output_type": "stream",
     "text": [
      "Processed 101 books\n"
     ]
    },
    {
     "name": "stderr",
     "output_type": "stream",
     "text": [
      "INFO:multilingual_pdf2text.ocr.image_to_text:Extracting text from images via OCR\n",
      "INFO:multilingual_pdf2text.doc2img.parse_document:Parsing document from pdf to image\n"
     ]
    },
    {
     "name": "stdout",
     "output_type": "stream",
     "text": [
      "Processed 102 books\n"
     ]
    },
    {
     "name": "stderr",
     "output_type": "stream",
     "text": [
      "INFO:multilingual_pdf2text.ocr.image_to_text:Extracting text from images via OCR\n",
      "INFO:multilingual_pdf2text.doc2img.parse_document:Parsing document from pdf to image\n"
     ]
    },
    {
     "name": "stdout",
     "output_type": "stream",
     "text": [
      "Processed 103 books\n"
     ]
    },
    {
     "name": "stderr",
     "output_type": "stream",
     "text": [
      "INFO:multilingual_pdf2text.ocr.image_to_text:Extracting text from images via OCR\n",
      "INFO:multilingual_pdf2text.doc2img.parse_document:Parsing document from pdf to image\n"
     ]
    },
    {
     "name": "stdout",
     "output_type": "stream",
     "text": [
      "Processed 104 books\n"
     ]
    },
    {
     "name": "stderr",
     "output_type": "stream",
     "text": [
      "INFO:multilingual_pdf2text.ocr.image_to_text:Extracting text from images via OCR\n",
      "INFO:multilingual_pdf2text.doc2img.parse_document:Parsing document from pdf to image\n"
     ]
    },
    {
     "name": "stdout",
     "output_type": "stream",
     "text": [
      "Processed 105 books\n"
     ]
    },
    {
     "name": "stderr",
     "output_type": "stream",
     "text": [
      "INFO:multilingual_pdf2text.ocr.image_to_text:Extracting text from images via OCR\n",
      "INFO:multilingual_pdf2text.doc2img.parse_document:Parsing document from pdf to image\n"
     ]
    },
    {
     "name": "stdout",
     "output_type": "stream",
     "text": [
      "Processed 106 books\n"
     ]
    },
    {
     "name": "stderr",
     "output_type": "stream",
     "text": [
      "INFO:multilingual_pdf2text.ocr.image_to_text:Extracting text from images via OCR\n",
      "INFO:multilingual_pdf2text.doc2img.parse_document:Parsing document from pdf to image\n"
     ]
    },
    {
     "name": "stdout",
     "output_type": "stream",
     "text": [
      "Processed 107 books\n"
     ]
    },
    {
     "name": "stderr",
     "output_type": "stream",
     "text": [
      "INFO:multilingual_pdf2text.ocr.image_to_text:Extracting text from images via OCR\n",
      "INFO:multilingual_pdf2text.doc2img.parse_document:Parsing document from pdf to image\n"
     ]
    },
    {
     "name": "stdout",
     "output_type": "stream",
     "text": [
      "Processed 108 books\n"
     ]
    },
    {
     "name": "stderr",
     "output_type": "stream",
     "text": [
      "INFO:multilingual_pdf2text.ocr.image_to_text:Extracting text from images via OCR\n",
      "INFO:multilingual_pdf2text.doc2img.parse_document:Parsing document from pdf to image\n"
     ]
    },
    {
     "name": "stdout",
     "output_type": "stream",
     "text": [
      "Processed 109 books\n"
     ]
    },
    {
     "name": "stderr",
     "output_type": "stream",
     "text": [
      "INFO:multilingual_pdf2text.ocr.image_to_text:Extracting text from images via OCR\n",
      "INFO:multilingual_pdf2text.doc2img.parse_document:Parsing document from pdf to image\n"
     ]
    },
    {
     "name": "stdout",
     "output_type": "stream",
     "text": [
      "Processed 110 books\n"
     ]
    },
    {
     "name": "stderr",
     "output_type": "stream",
     "text": [
      "INFO:multilingual_pdf2text.ocr.image_to_text:Extracting text from images via OCR\n",
      "INFO:multilingual_pdf2text.doc2img.parse_document:Parsing document from pdf to image\n"
     ]
    },
    {
     "name": "stdout",
     "output_type": "stream",
     "text": [
      "Processed 111 books\n"
     ]
    },
    {
     "name": "stderr",
     "output_type": "stream",
     "text": [
      "INFO:multilingual_pdf2text.ocr.image_to_text:Extracting text from images via OCR\n",
      "INFO:multilingual_pdf2text.doc2img.parse_document:Parsing document from pdf to image\n"
     ]
    },
    {
     "name": "stdout",
     "output_type": "stream",
     "text": [
      "Processed 112 books\n"
     ]
    },
    {
     "name": "stderr",
     "output_type": "stream",
     "text": [
      "INFO:multilingual_pdf2text.ocr.image_to_text:Extracting text from images via OCR\n",
      "INFO:multilingual_pdf2text.doc2img.parse_document:Parsing document from pdf to image\n"
     ]
    },
    {
     "name": "stdout",
     "output_type": "stream",
     "text": [
      "Processed 113 books\n"
     ]
    },
    {
     "name": "stderr",
     "output_type": "stream",
     "text": [
      "INFO:multilingual_pdf2text.ocr.image_to_text:Extracting text from images via OCR\n",
      "INFO:multilingual_pdf2text.doc2img.parse_document:Parsing document from pdf to image\n"
     ]
    },
    {
     "name": "stdout",
     "output_type": "stream",
     "text": [
      "Processed 114 books\n"
     ]
    },
    {
     "name": "stderr",
     "output_type": "stream",
     "text": [
      "INFO:multilingual_pdf2text.ocr.image_to_text:Extracting text from images via OCR\n",
      "INFO:multilingual_pdf2text.doc2img.parse_document:Parsing document from pdf to image\n"
     ]
    },
    {
     "name": "stdout",
     "output_type": "stream",
     "text": [
      "Processed 115 books\n"
     ]
    },
    {
     "name": "stderr",
     "output_type": "stream",
     "text": [
      "INFO:multilingual_pdf2text.ocr.image_to_text:Extracting text from images via OCR\n",
      "INFO:multilingual_pdf2text.doc2img.parse_document:Parsing document from pdf to image\n"
     ]
    },
    {
     "name": "stdout",
     "output_type": "stream",
     "text": [
      "Processed 116 books\n"
     ]
    },
    {
     "name": "stderr",
     "output_type": "stream",
     "text": [
      "INFO:multilingual_pdf2text.ocr.image_to_text:Extracting text from images via OCR\n",
      "INFO:multilingual_pdf2text.doc2img.parse_document:Parsing document from pdf to image\n"
     ]
    },
    {
     "name": "stdout",
     "output_type": "stream",
     "text": [
      "Processed 117 books\n"
     ]
    },
    {
     "name": "stderr",
     "output_type": "stream",
     "text": [
      "INFO:multilingual_pdf2text.ocr.image_to_text:Extracting text from images via OCR\n",
      "INFO:multilingual_pdf2text.doc2img.parse_document:Parsing document from pdf to image\n"
     ]
    },
    {
     "name": "stdout",
     "output_type": "stream",
     "text": [
      "Processed 118 books\n"
     ]
    },
    {
     "name": "stderr",
     "output_type": "stream",
     "text": [
      "INFO:multilingual_pdf2text.ocr.image_to_text:Extracting text from images via OCR\n",
      "INFO:multilingual_pdf2text.doc2img.parse_document:Parsing document from pdf to image\n"
     ]
    },
    {
     "name": "stdout",
     "output_type": "stream",
     "text": [
      "Processed 119 books\n"
     ]
    },
    {
     "name": "stderr",
     "output_type": "stream",
     "text": [
      "INFO:multilingual_pdf2text.ocr.image_to_text:Extracting text from images via OCR\n",
      "INFO:multilingual_pdf2text.doc2img.parse_document:Parsing document from pdf to image\n"
     ]
    },
    {
     "name": "stdout",
     "output_type": "stream",
     "text": [
      "Processed 120 books\n"
     ]
    },
    {
     "name": "stderr",
     "output_type": "stream",
     "text": [
      "INFO:multilingual_pdf2text.ocr.image_to_text:Extracting text from images via OCR\n",
      "INFO:multilingual_pdf2text.doc2img.parse_document:Parsing document from pdf to image\n"
     ]
    },
    {
     "name": "stdout",
     "output_type": "stream",
     "text": [
      "Processed 121 books\n"
     ]
    },
    {
     "name": "stderr",
     "output_type": "stream",
     "text": [
      "INFO:multilingual_pdf2text.ocr.image_to_text:Extracting text from images via OCR\n",
      "INFO:multilingual_pdf2text.doc2img.parse_document:Parsing document from pdf to image\n"
     ]
    },
    {
     "name": "stdout",
     "output_type": "stream",
     "text": [
      "Processed 122 books\n"
     ]
    },
    {
     "name": "stderr",
     "output_type": "stream",
     "text": [
      "INFO:multilingual_pdf2text.ocr.image_to_text:Extracting text from images via OCR\n",
      "INFO:multilingual_pdf2text.doc2img.parse_document:Parsing document from pdf to image\n"
     ]
    },
    {
     "name": "stdout",
     "output_type": "stream",
     "text": [
      "Processed 123 books\n"
     ]
    },
    {
     "name": "stderr",
     "output_type": "stream",
     "text": [
      "INFO:multilingual_pdf2text.ocr.image_to_text:Extracting text from images via OCR\n",
      "INFO:multilingual_pdf2text.doc2img.parse_document:Parsing document from pdf to image\n"
     ]
    },
    {
     "name": "stdout",
     "output_type": "stream",
     "text": [
      "Processed 124 books\n"
     ]
    },
    {
     "name": "stderr",
     "output_type": "stream",
     "text": [
      "INFO:multilingual_pdf2text.ocr.image_to_text:Extracting text from images via OCR\n",
      "INFO:multilingual_pdf2text.doc2img.parse_document:Parsing document from pdf to image\n"
     ]
    },
    {
     "name": "stdout",
     "output_type": "stream",
     "text": [
      "Processed 125 books\n"
     ]
    },
    {
     "name": "stderr",
     "output_type": "stream",
     "text": [
      "INFO:multilingual_pdf2text.ocr.image_to_text:Extracting text from images via OCR\n",
      "INFO:multilingual_pdf2text.doc2img.parse_document:Parsing document from pdf to image\n"
     ]
    },
    {
     "name": "stdout",
     "output_type": "stream",
     "text": [
      "Processed 126 books\n"
     ]
    },
    {
     "name": "stderr",
     "output_type": "stream",
     "text": [
      "INFO:multilingual_pdf2text.ocr.image_to_text:Extracting text from images via OCR\n",
      "INFO:multilingual_pdf2text.doc2img.parse_document:Parsing document from pdf to image\n"
     ]
    },
    {
     "name": "stdout",
     "output_type": "stream",
     "text": [
      "Processed 127 books\n"
     ]
    },
    {
     "name": "stderr",
     "output_type": "stream",
     "text": [
      "INFO:multilingual_pdf2text.ocr.image_to_text:Extracting text from images via OCR\n",
      "INFO:multilingual_pdf2text.doc2img.parse_document:Parsing document from pdf to image\n"
     ]
    },
    {
     "name": "stdout",
     "output_type": "stream",
     "text": [
      "Processed 128 books\n"
     ]
    },
    {
     "name": "stderr",
     "output_type": "stream",
     "text": [
      "INFO:multilingual_pdf2text.ocr.image_to_text:Extracting text from images via OCR\n",
      "INFO:multilingual_pdf2text.doc2img.parse_document:Parsing document from pdf to image\n"
     ]
    },
    {
     "name": "stdout",
     "output_type": "stream",
     "text": [
      "Processed 129 books\n"
     ]
    },
    {
     "name": "stderr",
     "output_type": "stream",
     "text": [
      "INFO:multilingual_pdf2text.ocr.image_to_text:Extracting text from images via OCR\n",
      "INFO:multilingual_pdf2text.doc2img.parse_document:Parsing document from pdf to image\n"
     ]
    },
    {
     "name": "stdout",
     "output_type": "stream",
     "text": [
      "Processed 130 books\n"
     ]
    },
    {
     "name": "stderr",
     "output_type": "stream",
     "text": [
      "INFO:multilingual_pdf2text.ocr.image_to_text:Extracting text from images via OCR\n",
      "INFO:multilingual_pdf2text.doc2img.parse_document:Parsing document from pdf to image\n"
     ]
    },
    {
     "name": "stdout",
     "output_type": "stream",
     "text": [
      "Processed 131 books\n"
     ]
    },
    {
     "name": "stderr",
     "output_type": "stream",
     "text": [
      "INFO:multilingual_pdf2text.ocr.image_to_text:Extracting text from images via OCR\n",
      "INFO:multilingual_pdf2text.doc2img.parse_document:Parsing document from pdf to image\n"
     ]
    },
    {
     "name": "stdout",
     "output_type": "stream",
     "text": [
      "Processed 132 books\n"
     ]
    },
    {
     "name": "stderr",
     "output_type": "stream",
     "text": [
      "INFO:multilingual_pdf2text.ocr.image_to_text:Extracting text from images via OCR\n",
      "INFO:multilingual_pdf2text.doc2img.parse_document:Parsing document from pdf to image\n"
     ]
    },
    {
     "name": "stdout",
     "output_type": "stream",
     "text": [
      "Processed 133 books\n"
     ]
    },
    {
     "name": "stderr",
     "output_type": "stream",
     "text": [
      "INFO:multilingual_pdf2text.ocr.image_to_text:Extracting text from images via OCR\n",
      "INFO:multilingual_pdf2text.doc2img.parse_document:Parsing document from pdf to image\n"
     ]
    },
    {
     "name": "stdout",
     "output_type": "stream",
     "text": [
      "Processed 134 books\n"
     ]
    },
    {
     "name": "stderr",
     "output_type": "stream",
     "text": [
      "INFO:multilingual_pdf2text.ocr.image_to_text:Extracting text from images via OCR\n",
      "INFO:multilingual_pdf2text.doc2img.parse_document:Parsing document from pdf to image\n"
     ]
    },
    {
     "name": "stdout",
     "output_type": "stream",
     "text": [
      "Processed 135 books\n"
     ]
    },
    {
     "name": "stderr",
     "output_type": "stream",
     "text": [
      "INFO:multilingual_pdf2text.ocr.image_to_text:Extracting text from images via OCR\n",
      "INFO:multilingual_pdf2text.doc2img.parse_document:Parsing document from pdf to image\n"
     ]
    },
    {
     "name": "stdout",
     "output_type": "stream",
     "text": [
      "Processed 136 books\n"
     ]
    },
    {
     "name": "stderr",
     "output_type": "stream",
     "text": [
      "INFO:multilingual_pdf2text.ocr.image_to_text:Extracting text from images via OCR\n",
      "INFO:multilingual_pdf2text.doc2img.parse_document:Parsing document from pdf to image\n"
     ]
    },
    {
     "name": "stdout",
     "output_type": "stream",
     "text": [
      "Processed 137 books\n"
     ]
    },
    {
     "name": "stderr",
     "output_type": "stream",
     "text": [
      "INFO:multilingual_pdf2text.ocr.image_to_text:Extracting text from images via OCR\n",
      "INFO:multilingual_pdf2text.doc2img.parse_document:Parsing document from pdf to image\n"
     ]
    },
    {
     "name": "stdout",
     "output_type": "stream",
     "text": [
      "Processed 138 books\n"
     ]
    },
    {
     "name": "stderr",
     "output_type": "stream",
     "text": [
      "INFO:multilingual_pdf2text.ocr.image_to_text:Extracting text from images via OCR\n",
      "INFO:multilingual_pdf2text.doc2img.parse_document:Parsing document from pdf to image\n"
     ]
    },
    {
     "name": "stdout",
     "output_type": "stream",
     "text": [
      "Processed 139 books\n"
     ]
    },
    {
     "name": "stderr",
     "output_type": "stream",
     "text": [
      "INFO:multilingual_pdf2text.ocr.image_to_text:Extracting text from images via OCR\n",
      "INFO:multilingual_pdf2text.doc2img.parse_document:Parsing document from pdf to image\n"
     ]
    },
    {
     "name": "stdout",
     "output_type": "stream",
     "text": [
      "Processed 140 books\n"
     ]
    },
    {
     "name": "stderr",
     "output_type": "stream",
     "text": [
      "INFO:multilingual_pdf2text.ocr.image_to_text:Extracting text from images via OCR\n",
      "INFO:multilingual_pdf2text.doc2img.parse_document:Parsing document from pdf to image\n"
     ]
    },
    {
     "name": "stdout",
     "output_type": "stream",
     "text": [
      "Processed 141 books\n"
     ]
    },
    {
     "name": "stderr",
     "output_type": "stream",
     "text": [
      "INFO:multilingual_pdf2text.ocr.image_to_text:Extracting text from images via OCR\n",
      "INFO:multilingual_pdf2text.doc2img.parse_document:Parsing document from pdf to image\n"
     ]
    },
    {
     "name": "stdout",
     "output_type": "stream",
     "text": [
      "Processed 142 books\n"
     ]
    },
    {
     "name": "stderr",
     "output_type": "stream",
     "text": [
      "INFO:multilingual_pdf2text.ocr.image_to_text:Extracting text from images via OCR\n",
      "INFO:multilingual_pdf2text.doc2img.parse_document:Parsing document from pdf to image\n"
     ]
    },
    {
     "name": "stdout",
     "output_type": "stream",
     "text": [
      "Processed 143 books\n"
     ]
    },
    {
     "name": "stderr",
     "output_type": "stream",
     "text": [
      "INFO:multilingual_pdf2text.ocr.image_to_text:Extracting text from images via OCR\n",
      "INFO:multilingual_pdf2text.doc2img.parse_document:Parsing document from pdf to image\n"
     ]
    },
    {
     "name": "stdout",
     "output_type": "stream",
     "text": [
      "Processed 144 books\n"
     ]
    },
    {
     "name": "stderr",
     "output_type": "stream",
     "text": [
      "INFO:multilingual_pdf2text.ocr.image_to_text:Extracting text from images via OCR\n",
      "INFO:multilingual_pdf2text.doc2img.parse_document:Parsing document from pdf to image\n"
     ]
    },
    {
     "name": "stdout",
     "output_type": "stream",
     "text": [
      "Processed 145 books\n"
     ]
    },
    {
     "name": "stderr",
     "output_type": "stream",
     "text": [
      "INFO:multilingual_pdf2text.ocr.image_to_text:Extracting text from images via OCR\n",
      "INFO:multilingual_pdf2text.doc2img.parse_document:Parsing document from pdf to image\n"
     ]
    },
    {
     "name": "stdout",
     "output_type": "stream",
     "text": [
      "Processed 146 books\n"
     ]
    },
    {
     "name": "stderr",
     "output_type": "stream",
     "text": [
      "INFO:multilingual_pdf2text.ocr.image_to_text:Extracting text from images via OCR\n",
      "INFO:multilingual_pdf2text.doc2img.parse_document:Parsing document from pdf to image\n"
     ]
    },
    {
     "name": "stdout",
     "output_type": "stream",
     "text": [
      "Processed 147 books\n"
     ]
    },
    {
     "name": "stderr",
     "output_type": "stream",
     "text": [
      "INFO:multilingual_pdf2text.ocr.image_to_text:Extracting text from images via OCR\n",
      "INFO:multilingual_pdf2text.doc2img.parse_document:Parsing document from pdf to image\n"
     ]
    },
    {
     "name": "stdout",
     "output_type": "stream",
     "text": [
      "Processed 148 books\n"
     ]
    },
    {
     "name": "stderr",
     "output_type": "stream",
     "text": [
      "INFO:multilingual_pdf2text.ocr.image_to_text:Extracting text from images via OCR\n",
      "INFO:multilingual_pdf2text.doc2img.parse_document:Parsing document from pdf to image\n"
     ]
    },
    {
     "name": "stdout",
     "output_type": "stream",
     "text": [
      "Processed 149 books\n"
     ]
    },
    {
     "name": "stderr",
     "output_type": "stream",
     "text": [
      "INFO:multilingual_pdf2text.ocr.image_to_text:Extracting text from images via OCR\n",
      "INFO:multilingual_pdf2text.doc2img.parse_document:Parsing document from pdf to image\n"
     ]
    },
    {
     "name": "stdout",
     "output_type": "stream",
     "text": [
      "Processed 150 books\n"
     ]
    },
    {
     "name": "stderr",
     "output_type": "stream",
     "text": [
      "INFO:multilingual_pdf2text.ocr.image_to_text:Extracting text from images via OCR\n",
      "INFO:multilingual_pdf2text.doc2img.parse_document:Parsing document from pdf to image\n"
     ]
    },
    {
     "name": "stdout",
     "output_type": "stream",
     "text": [
      "Processed 151 books\n"
     ]
    },
    {
     "name": "stderr",
     "output_type": "stream",
     "text": [
      "INFO:multilingual_pdf2text.ocr.image_to_text:Extracting text from images via OCR\n",
      "INFO:multilingual_pdf2text.doc2img.parse_document:Parsing document from pdf to image\n"
     ]
    },
    {
     "name": "stdout",
     "output_type": "stream",
     "text": [
      "Processed 152 books\n"
     ]
    },
    {
     "name": "stderr",
     "output_type": "stream",
     "text": [
      "INFO:multilingual_pdf2text.ocr.image_to_text:Extracting text from images via OCR\n",
      "INFO:multilingual_pdf2text.doc2img.parse_document:Parsing document from pdf to image\n"
     ]
    },
    {
     "name": "stdout",
     "output_type": "stream",
     "text": [
      "Processed 153 books\n"
     ]
    },
    {
     "name": "stderr",
     "output_type": "stream",
     "text": [
      "INFO:multilingual_pdf2text.ocr.image_to_text:Extracting text from images via OCR\n",
      "INFO:multilingual_pdf2text.doc2img.parse_document:Parsing document from pdf to image\n"
     ]
    },
    {
     "name": "stdout",
     "output_type": "stream",
     "text": [
      "Processed 154 books\n"
     ]
    },
    {
     "name": "stderr",
     "output_type": "stream",
     "text": [
      "INFO:multilingual_pdf2text.ocr.image_to_text:Extracting text from images via OCR\n",
      "INFO:multilingual_pdf2text.doc2img.parse_document:Parsing document from pdf to image\n"
     ]
    },
    {
     "name": "stdout",
     "output_type": "stream",
     "text": [
      "Processed 155 books\n"
     ]
    },
    {
     "name": "stderr",
     "output_type": "stream",
     "text": [
      "INFO:multilingual_pdf2text.ocr.image_to_text:Extracting text from images via OCR\n",
      "INFO:multilingual_pdf2text.doc2img.parse_document:Parsing document from pdf to image\n"
     ]
    },
    {
     "name": "stdout",
     "output_type": "stream",
     "text": [
      "Processed 156 books\n"
     ]
    },
    {
     "name": "stderr",
     "output_type": "stream",
     "text": [
      "INFO:multilingual_pdf2text.ocr.image_to_text:Extracting text from images via OCR\n",
      "INFO:multilingual_pdf2text.doc2img.parse_document:Parsing document from pdf to image\n"
     ]
    },
    {
     "name": "stdout",
     "output_type": "stream",
     "text": [
      "Processed 157 books\n"
     ]
    },
    {
     "name": "stderr",
     "output_type": "stream",
     "text": [
      "INFO:multilingual_pdf2text.ocr.image_to_text:Extracting text from images via OCR\n",
      "INFO:multilingual_pdf2text.doc2img.parse_document:Parsing document from pdf to image\n"
     ]
    },
    {
     "name": "stdout",
     "output_type": "stream",
     "text": [
      "Processed 158 books\n"
     ]
    },
    {
     "name": "stderr",
     "output_type": "stream",
     "text": [
      "INFO:multilingual_pdf2text.ocr.image_to_text:Extracting text from images via OCR\n",
      "INFO:multilingual_pdf2text.doc2img.parse_document:Parsing document from pdf to image\n"
     ]
    },
    {
     "name": "stdout",
     "output_type": "stream",
     "text": [
      "Processed 159 books\n"
     ]
    },
    {
     "name": "stderr",
     "output_type": "stream",
     "text": [
      "INFO:multilingual_pdf2text.ocr.image_to_text:Extracting text from images via OCR\n",
      "INFO:multilingual_pdf2text.doc2img.parse_document:Parsing document from pdf to image\n"
     ]
    },
    {
     "name": "stdout",
     "output_type": "stream",
     "text": [
      "Processed 160 books\n"
     ]
    },
    {
     "name": "stderr",
     "output_type": "stream",
     "text": [
      "INFO:multilingual_pdf2text.ocr.image_to_text:Extracting text from images via OCR\n",
      "INFO:multilingual_pdf2text.doc2img.parse_document:Parsing document from pdf to image\n"
     ]
    },
    {
     "name": "stdout",
     "output_type": "stream",
     "text": [
      "Processed 161 books\n"
     ]
    },
    {
     "name": "stderr",
     "output_type": "stream",
     "text": [
      "INFO:multilingual_pdf2text.ocr.image_to_text:Extracting text from images via OCR\n",
      "INFO:multilingual_pdf2text.doc2img.parse_document:Parsing document from pdf to image\n"
     ]
    },
    {
     "name": "stdout",
     "output_type": "stream",
     "text": [
      "Processed 162 books\n"
     ]
    },
    {
     "name": "stderr",
     "output_type": "stream",
     "text": [
      "INFO:multilingual_pdf2text.ocr.image_to_text:Extracting text from images via OCR\n",
      "INFO:multilingual_pdf2text.doc2img.parse_document:Parsing document from pdf to image\n"
     ]
    },
    {
     "name": "stdout",
     "output_type": "stream",
     "text": [
      "Processed 163 books\n"
     ]
    },
    {
     "name": "stderr",
     "output_type": "stream",
     "text": [
      "INFO:multilingual_pdf2text.ocr.image_to_text:Extracting text from images via OCR\n",
      "INFO:multilingual_pdf2text.doc2img.parse_document:Parsing document from pdf to image\n"
     ]
    },
    {
     "name": "stdout",
     "output_type": "stream",
     "text": [
      "Processed 164 books\n"
     ]
    },
    {
     "name": "stderr",
     "output_type": "stream",
     "text": [
      "INFO:multilingual_pdf2text.ocr.image_to_text:Extracting text from images via OCR\n",
      "INFO:multilingual_pdf2text.doc2img.parse_document:Parsing document from pdf to image\n"
     ]
    },
    {
     "name": "stdout",
     "output_type": "stream",
     "text": [
      "Processed 165 books\n"
     ]
    },
    {
     "name": "stderr",
     "output_type": "stream",
     "text": [
      "INFO:multilingual_pdf2text.ocr.image_to_text:Extracting text from images via OCR\n",
      "INFO:multilingual_pdf2text.doc2img.parse_document:Parsing document from pdf to image\n"
     ]
    },
    {
     "name": "stdout",
     "output_type": "stream",
     "text": [
      "Processed 166 books\n"
     ]
    },
    {
     "name": "stderr",
     "output_type": "stream",
     "text": [
      "INFO:multilingual_pdf2text.ocr.image_to_text:Extracting text from images via OCR\n",
      "INFO:multilingual_pdf2text.doc2img.parse_document:Parsing document from pdf to image\n"
     ]
    },
    {
     "name": "stdout",
     "output_type": "stream",
     "text": [
      "Processed 167 books\n"
     ]
    },
    {
     "name": "stderr",
     "output_type": "stream",
     "text": [
      "INFO:multilingual_pdf2text.ocr.image_to_text:Extracting text from images via OCR\n",
      "INFO:multilingual_pdf2text.doc2img.parse_document:Parsing document from pdf to image\n"
     ]
    },
    {
     "name": "stdout",
     "output_type": "stream",
     "text": [
      "Processed 168 books\n"
     ]
    },
    {
     "name": "stderr",
     "output_type": "stream",
     "text": [
      "INFO:multilingual_pdf2text.ocr.image_to_text:Extracting text from images via OCR\n",
      "INFO:multilingual_pdf2text.doc2img.parse_document:Parsing document from pdf to image\n"
     ]
    },
    {
     "name": "stdout",
     "output_type": "stream",
     "text": [
      "Processed 169 books\n"
     ]
    },
    {
     "name": "stderr",
     "output_type": "stream",
     "text": [
      "INFO:multilingual_pdf2text.ocr.image_to_text:Extracting text from images via OCR\n",
      "INFO:multilingual_pdf2text.doc2img.parse_document:Parsing document from pdf to image\n"
     ]
    },
    {
     "name": "stdout",
     "output_type": "stream",
     "text": [
      "Processed 170 books\n"
     ]
    },
    {
     "name": "stderr",
     "output_type": "stream",
     "text": [
      "INFO:multilingual_pdf2text.ocr.image_to_text:Extracting text from images via OCR\n",
      "INFO:multilingual_pdf2text.doc2img.parse_document:Parsing document from pdf to image\n"
     ]
    },
    {
     "name": "stdout",
     "output_type": "stream",
     "text": [
      "Processed 171 books\n"
     ]
    },
    {
     "name": "stderr",
     "output_type": "stream",
     "text": [
      "INFO:multilingual_pdf2text.ocr.image_to_text:Extracting text from images via OCR\n",
      "INFO:multilingual_pdf2text.doc2img.parse_document:Parsing document from pdf to image\n"
     ]
    },
    {
     "name": "stdout",
     "output_type": "stream",
     "text": [
      "Processed 172 books\n"
     ]
    },
    {
     "name": "stderr",
     "output_type": "stream",
     "text": [
      "INFO:multilingual_pdf2text.ocr.image_to_text:Extracting text from images via OCR\n",
      "INFO:multilingual_pdf2text.doc2img.parse_document:Parsing document from pdf to image\n"
     ]
    },
    {
     "name": "stdout",
     "output_type": "stream",
     "text": [
      "Processed 173 books\n"
     ]
    },
    {
     "name": "stderr",
     "output_type": "stream",
     "text": [
      "INFO:multilingual_pdf2text.ocr.image_to_text:Extracting text from images via OCR\n",
      "INFO:multilingual_pdf2text.doc2img.parse_document:Parsing document from pdf to image\n"
     ]
    },
    {
     "name": "stdout",
     "output_type": "stream",
     "text": [
      "Processed 174 books\n"
     ]
    },
    {
     "name": "stderr",
     "output_type": "stream",
     "text": [
      "INFO:multilingual_pdf2text.ocr.image_to_text:Extracting text from images via OCR\n",
      "INFO:multilingual_pdf2text.doc2img.parse_document:Parsing document from pdf to image\n"
     ]
    },
    {
     "name": "stdout",
     "output_type": "stream",
     "text": [
      "Processed 175 books\n"
     ]
    },
    {
     "name": "stderr",
     "output_type": "stream",
     "text": [
      "INFO:multilingual_pdf2text.ocr.image_to_text:Extracting text from images via OCR\n",
      "INFO:multilingual_pdf2text.doc2img.parse_document:Parsing document from pdf to image\n"
     ]
    },
    {
     "name": "stdout",
     "output_type": "stream",
     "text": [
      "Processed 176 books\n"
     ]
    },
    {
     "name": "stderr",
     "output_type": "stream",
     "text": [
      "INFO:multilingual_pdf2text.ocr.image_to_text:Extracting text from images via OCR\n",
      "INFO:multilingual_pdf2text.doc2img.parse_document:Parsing document from pdf to image\n"
     ]
    },
    {
     "name": "stdout",
     "output_type": "stream",
     "text": [
      "Processed 177 books\n"
     ]
    },
    {
     "name": "stderr",
     "output_type": "stream",
     "text": [
      "INFO:multilingual_pdf2text.ocr.image_to_text:Extracting text from images via OCR\n",
      "INFO:multilingual_pdf2text.doc2img.parse_document:Parsing document from pdf to image\n"
     ]
    },
    {
     "name": "stdout",
     "output_type": "stream",
     "text": [
      "Processed 178 books\n"
     ]
    },
    {
     "name": "stderr",
     "output_type": "stream",
     "text": [
      "INFO:multilingual_pdf2text.ocr.image_to_text:Extracting text from images via OCR\n",
      "INFO:multilingual_pdf2text.doc2img.parse_document:Parsing document from pdf to image\n"
     ]
    },
    {
     "name": "stdout",
     "output_type": "stream",
     "text": [
      "Processed 179 books\n"
     ]
    },
    {
     "name": "stderr",
     "output_type": "stream",
     "text": [
      "INFO:multilingual_pdf2text.ocr.image_to_text:Extracting text from images via OCR\n",
      "INFO:multilingual_pdf2text.doc2img.parse_document:Parsing document from pdf to image\n"
     ]
    },
    {
     "name": "stdout",
     "output_type": "stream",
     "text": [
      "Processed 180 books\n"
     ]
    },
    {
     "name": "stderr",
     "output_type": "stream",
     "text": [
      "INFO:multilingual_pdf2text.ocr.image_to_text:Extracting text from images via OCR\n",
      "INFO:multilingual_pdf2text.doc2img.parse_document:Parsing document from pdf to image\n"
     ]
    },
    {
     "name": "stdout",
     "output_type": "stream",
     "text": [
      "Processed 181 books\n"
     ]
    },
    {
     "name": "stderr",
     "output_type": "stream",
     "text": [
      "INFO:multilingual_pdf2text.ocr.image_to_text:Extracting text from images via OCR\n",
      "INFO:multilingual_pdf2text.doc2img.parse_document:Parsing document from pdf to image\n"
     ]
    },
    {
     "name": "stdout",
     "output_type": "stream",
     "text": [
      "Processed 182 books\n"
     ]
    },
    {
     "name": "stderr",
     "output_type": "stream",
     "text": [
      "INFO:multilingual_pdf2text.ocr.image_to_text:Extracting text from images via OCR\n",
      "INFO:multilingual_pdf2text.doc2img.parse_document:Parsing document from pdf to image\n"
     ]
    },
    {
     "name": "stdout",
     "output_type": "stream",
     "text": [
      "Processed 183 books\n"
     ]
    },
    {
     "name": "stderr",
     "output_type": "stream",
     "text": [
      "INFO:multilingual_pdf2text.ocr.image_to_text:Extracting text from images via OCR\n",
      "INFO:multilingual_pdf2text.doc2img.parse_document:Parsing document from pdf to image\n"
     ]
    },
    {
     "name": "stdout",
     "output_type": "stream",
     "text": [
      "Processed 184 books\n"
     ]
    },
    {
     "name": "stderr",
     "output_type": "stream",
     "text": [
      "INFO:multilingual_pdf2text.ocr.image_to_text:Extracting text from images via OCR\n",
      "INFO:multilingual_pdf2text.doc2img.parse_document:Parsing document from pdf to image\n"
     ]
    },
    {
     "name": "stdout",
     "output_type": "stream",
     "text": [
      "Processed 185 books\n"
     ]
    },
    {
     "name": "stderr",
     "output_type": "stream",
     "text": [
      "INFO:multilingual_pdf2text.ocr.image_to_text:Extracting text from images via OCR\n",
      "INFO:multilingual_pdf2text.doc2img.parse_document:Parsing document from pdf to image\n"
     ]
    },
    {
     "name": "stdout",
     "output_type": "stream",
     "text": [
      "Processed 186 books\n"
     ]
    },
    {
     "name": "stderr",
     "output_type": "stream",
     "text": [
      "INFO:multilingual_pdf2text.ocr.image_to_text:Extracting text from images via OCR\n",
      "INFO:multilingual_pdf2text.doc2img.parse_document:Parsing document from pdf to image\n"
     ]
    },
    {
     "name": "stdout",
     "output_type": "stream",
     "text": [
      "Processed 187 books\n"
     ]
    },
    {
     "name": "stderr",
     "output_type": "stream",
     "text": [
      "INFO:multilingual_pdf2text.ocr.image_to_text:Extracting text from images via OCR\n",
      "INFO:multilingual_pdf2text.doc2img.parse_document:Parsing document from pdf to image\n"
     ]
    },
    {
     "name": "stdout",
     "output_type": "stream",
     "text": [
      "Processed 188 books\n"
     ]
    },
    {
     "name": "stderr",
     "output_type": "stream",
     "text": [
      "INFO:multilingual_pdf2text.ocr.image_to_text:Extracting text from images via OCR\n",
      "INFO:multilingual_pdf2text.doc2img.parse_document:Parsing document from pdf to image\n"
     ]
    },
    {
     "name": "stdout",
     "output_type": "stream",
     "text": [
      "Processed 189 books\n"
     ]
    },
    {
     "name": "stderr",
     "output_type": "stream",
     "text": [
      "INFO:multilingual_pdf2text.ocr.image_to_text:Extracting text from images via OCR\n",
      "INFO:multilingual_pdf2text.doc2img.parse_document:Parsing document from pdf to image\n"
     ]
    },
    {
     "name": "stdout",
     "output_type": "stream",
     "text": [
      "Processed 190 books\n"
     ]
    },
    {
     "name": "stderr",
     "output_type": "stream",
     "text": [
      "INFO:multilingual_pdf2text.ocr.image_to_text:Extracting text from images via OCR\n",
      "INFO:multilingual_pdf2text.doc2img.parse_document:Parsing document from pdf to image\n"
     ]
    },
    {
     "name": "stdout",
     "output_type": "stream",
     "text": [
      "Processed 191 books\n"
     ]
    },
    {
     "name": "stderr",
     "output_type": "stream",
     "text": [
      "INFO:multilingual_pdf2text.ocr.image_to_text:Extracting text from images via OCR\n",
      "INFO:multilingual_pdf2text.doc2img.parse_document:Parsing document from pdf to image\n"
     ]
    },
    {
     "name": "stdout",
     "output_type": "stream",
     "text": [
      "Processed 192 books\n"
     ]
    },
    {
     "name": "stderr",
     "output_type": "stream",
     "text": [
      "INFO:multilingual_pdf2text.ocr.image_to_text:Extracting text from images via OCR\n",
      "INFO:multilingual_pdf2text.doc2img.parse_document:Parsing document from pdf to image\n"
     ]
    },
    {
     "name": "stdout",
     "output_type": "stream",
     "text": [
      "Processed 193 books\n"
     ]
    },
    {
     "name": "stderr",
     "output_type": "stream",
     "text": [
      "INFO:multilingual_pdf2text.ocr.image_to_text:Extracting text from images via OCR\n",
      "INFO:multilingual_pdf2text.doc2img.parse_document:Parsing document from pdf to image\n"
     ]
    },
    {
     "name": "stdout",
     "output_type": "stream",
     "text": [
      "Processed 194 books\n"
     ]
    },
    {
     "name": "stderr",
     "output_type": "stream",
     "text": [
      "INFO:multilingual_pdf2text.ocr.image_to_text:Extracting text from images via OCR\n",
      "INFO:multilingual_pdf2text.doc2img.parse_document:Parsing document from pdf to image\n"
     ]
    },
    {
     "name": "stdout",
     "output_type": "stream",
     "text": [
      "Processed 195 books\n"
     ]
    },
    {
     "name": "stderr",
     "output_type": "stream",
     "text": [
      "INFO:multilingual_pdf2text.ocr.image_to_text:Extracting text from images via OCR\n",
      "INFO:multilingual_pdf2text.doc2img.parse_document:Parsing document from pdf to image\n"
     ]
    },
    {
     "name": "stdout",
     "output_type": "stream",
     "text": [
      "Processed 196 books\n"
     ]
    },
    {
     "name": "stderr",
     "output_type": "stream",
     "text": [
      "INFO:multilingual_pdf2text.ocr.image_to_text:Extracting text from images via OCR\n",
      "INFO:multilingual_pdf2text.doc2img.parse_document:Parsing document from pdf to image\n"
     ]
    },
    {
     "name": "stdout",
     "output_type": "stream",
     "text": [
      "Processed 197 books\n"
     ]
    },
    {
     "name": "stderr",
     "output_type": "stream",
     "text": [
      "INFO:multilingual_pdf2text.ocr.image_to_text:Extracting text from images via OCR\n",
      "INFO:multilingual_pdf2text.doc2img.parse_document:Parsing document from pdf to image\n"
     ]
    },
    {
     "name": "stdout",
     "output_type": "stream",
     "text": [
      "Processed 198 books\n"
     ]
    },
    {
     "name": "stderr",
     "output_type": "stream",
     "text": [
      "INFO:multilingual_pdf2text.ocr.image_to_text:Extracting text from images via OCR\n",
      "INFO:multilingual_pdf2text.doc2img.parse_document:Parsing document from pdf to image\n"
     ]
    },
    {
     "name": "stdout",
     "output_type": "stream",
     "text": [
      "Processed 199 books\n"
     ]
    },
    {
     "name": "stderr",
     "output_type": "stream",
     "text": [
      "INFO:multilingual_pdf2text.ocr.image_to_text:Extracting text from images via OCR\n",
      "INFO:multilingual_pdf2text.doc2img.parse_document:Parsing document from pdf to image\n"
     ]
    },
    {
     "name": "stdout",
     "output_type": "stream",
     "text": [
      "Processed 200 books\n"
     ]
    },
    {
     "name": "stderr",
     "output_type": "stream",
     "text": [
      "INFO:multilingual_pdf2text.ocr.image_to_text:Extracting text from images via OCR\n",
      "INFO:multilingual_pdf2text.doc2img.parse_document:Parsing document from pdf to image\n"
     ]
    },
    {
     "name": "stdout",
     "output_type": "stream",
     "text": [
      "Processed 201 books\n"
     ]
    },
    {
     "name": "stderr",
     "output_type": "stream",
     "text": [
      "INFO:multilingual_pdf2text.ocr.image_to_text:Extracting text from images via OCR\n",
      "INFO:multilingual_pdf2text.doc2img.parse_document:Parsing document from pdf to image\n"
     ]
    },
    {
     "name": "stdout",
     "output_type": "stream",
     "text": [
      "Processed 202 books\n"
     ]
    },
    {
     "name": "stderr",
     "output_type": "stream",
     "text": [
      "INFO:multilingual_pdf2text.ocr.image_to_text:Extracting text from images via OCR\n",
      "INFO:multilingual_pdf2text.doc2img.parse_document:Parsing document from pdf to image\n"
     ]
    },
    {
     "name": "stdout",
     "output_type": "stream",
     "text": [
      "Processed 203 books\n"
     ]
    },
    {
     "name": "stderr",
     "output_type": "stream",
     "text": [
      "INFO:multilingual_pdf2text.ocr.image_to_text:Extracting text from images via OCR\n",
      "INFO:multilingual_pdf2text.doc2img.parse_document:Parsing document from pdf to image\n"
     ]
    },
    {
     "name": "stdout",
     "output_type": "stream",
     "text": [
      "Processed 204 books\n"
     ]
    },
    {
     "name": "stderr",
     "output_type": "stream",
     "text": [
      "INFO:multilingual_pdf2text.ocr.image_to_text:Extracting text from images via OCR\n"
     ]
    },
    {
     "name": "stdout",
     "output_type": "stream",
     "text": [
      "Processed 205 books\n"
     ]
    }
   ],
   "source": [
    "if __name__ == \"__main__\":\n",
    "    directory_path = 'D:/Spot The Bot Data/Amharic/6'\n",
    "    output_path = 'D:/Spot The Bot Data/Amharic/txt_files/6'\n",
    "    language = 'amh'\n",
    "    extract_text_from_pdfs(directory_path, output_path, language)"
   ]
  },
  {
   "cell_type": "code",
   "execution_count": 8,
   "id": "691f37b5",
   "metadata": {},
   "outputs": [
    {
     "name": "stderr",
     "output_type": "stream",
     "text": [
      "INFO:multilingual_pdf2text.doc2img.parse_document:Parsing document from pdf to image\n",
      "INFO:multilingual_pdf2text.ocr.image_to_text:Extracting text from images via OCR\n",
      "INFO:multilingual_pdf2text.doc2img.parse_document:Parsing document from pdf to image\n"
     ]
    },
    {
     "name": "stdout",
     "output_type": "stream",
     "text": [
      "Processed 1 books\n"
     ]
    },
    {
     "name": "stderr",
     "output_type": "stream",
     "text": [
      "INFO:multilingual_pdf2text.ocr.image_to_text:Extracting text from images via OCR\n",
      "INFO:multilingual_pdf2text.doc2img.parse_document:Parsing document from pdf to image\n"
     ]
    },
    {
     "name": "stdout",
     "output_type": "stream",
     "text": [
      "Processed 2 books\n"
     ]
    },
    {
     "name": "stderr",
     "output_type": "stream",
     "text": [
      "INFO:multilingual_pdf2text.ocr.image_to_text:Extracting text from images via OCR\n",
      "INFO:multilingual_pdf2text.doc2img.parse_document:Parsing document from pdf to image\n"
     ]
    },
    {
     "name": "stdout",
     "output_type": "stream",
     "text": [
      "Processed 3 books\n"
     ]
    },
    {
     "name": "stderr",
     "output_type": "stream",
     "text": [
      "INFO:multilingual_pdf2text.ocr.image_to_text:Extracting text from images via OCR\n",
      "INFO:multilingual_pdf2text.doc2img.parse_document:Parsing document from pdf to image\n"
     ]
    },
    {
     "name": "stdout",
     "output_type": "stream",
     "text": [
      "Processed 4 books\n"
     ]
    },
    {
     "name": "stderr",
     "output_type": "stream",
     "text": [
      "INFO:multilingual_pdf2text.ocr.image_to_text:Extracting text from images via OCR\n",
      "INFO:multilingual_pdf2text.doc2img.parse_document:Parsing document from pdf to image\n"
     ]
    },
    {
     "name": "stdout",
     "output_type": "stream",
     "text": [
      "Processed 5 books\n"
     ]
    },
    {
     "name": "stderr",
     "output_type": "stream",
     "text": [
      "INFO:multilingual_pdf2text.ocr.image_to_text:Extracting text from images via OCR\n",
      "INFO:multilingual_pdf2text.doc2img.parse_document:Parsing document from pdf to image\n"
     ]
    },
    {
     "name": "stdout",
     "output_type": "stream",
     "text": [
      "Processed 6 books\n"
     ]
    },
    {
     "name": "stderr",
     "output_type": "stream",
     "text": [
      "INFO:multilingual_pdf2text.ocr.image_to_text:Extracting text from images via OCR\n",
      "INFO:multilingual_pdf2text.doc2img.parse_document:Parsing document from pdf to image\n"
     ]
    },
    {
     "name": "stdout",
     "output_type": "stream",
     "text": [
      "Processed 7 books\n"
     ]
    },
    {
     "name": "stderr",
     "output_type": "stream",
     "text": [
      "INFO:multilingual_pdf2text.ocr.image_to_text:Extracting text from images via OCR\n",
      "INFO:multilingual_pdf2text.doc2img.parse_document:Parsing document from pdf to image\n"
     ]
    },
    {
     "name": "stdout",
     "output_type": "stream",
     "text": [
      "Processed 8 books\n"
     ]
    },
    {
     "name": "stderr",
     "output_type": "stream",
     "text": [
      "INFO:multilingual_pdf2text.ocr.image_to_text:Extracting text from images via OCR\n",
      "INFO:multilingual_pdf2text.doc2img.parse_document:Parsing document from pdf to image\n"
     ]
    },
    {
     "name": "stdout",
     "output_type": "stream",
     "text": [
      "Processed 9 books\n"
     ]
    },
    {
     "name": "stderr",
     "output_type": "stream",
     "text": [
      "INFO:multilingual_pdf2text.ocr.image_to_text:Extracting text from images via OCR\n",
      "INFO:multilingual_pdf2text.doc2img.parse_document:Parsing document from pdf to image\n"
     ]
    },
    {
     "name": "stdout",
     "output_type": "stream",
     "text": [
      "Processed 10 books\n"
     ]
    },
    {
     "name": "stderr",
     "output_type": "stream",
     "text": [
      "INFO:multilingual_pdf2text.ocr.image_to_text:Extracting text from images via OCR\n",
      "INFO:multilingual_pdf2text.doc2img.parse_document:Parsing document from pdf to image\n"
     ]
    },
    {
     "name": "stdout",
     "output_type": "stream",
     "text": [
      "Processed 11 books\n"
     ]
    },
    {
     "name": "stderr",
     "output_type": "stream",
     "text": [
      "INFO:multilingual_pdf2text.ocr.image_to_text:Extracting text from images via OCR\n",
      "INFO:multilingual_pdf2text.doc2img.parse_document:Parsing document from pdf to image\n"
     ]
    },
    {
     "name": "stdout",
     "output_type": "stream",
     "text": [
      "Processed 12 books\n"
     ]
    },
    {
     "name": "stderr",
     "output_type": "stream",
     "text": [
      "INFO:multilingual_pdf2text.ocr.image_to_text:Extracting text from images via OCR\n",
      "INFO:multilingual_pdf2text.doc2img.parse_document:Parsing document from pdf to image\n"
     ]
    },
    {
     "name": "stdout",
     "output_type": "stream",
     "text": [
      "Processed 13 books\n"
     ]
    },
    {
     "name": "stderr",
     "output_type": "stream",
     "text": [
      "INFO:multilingual_pdf2text.ocr.image_to_text:Extracting text from images via OCR\n",
      "INFO:multilingual_pdf2text.doc2img.parse_document:Parsing document from pdf to image\n"
     ]
    },
    {
     "name": "stdout",
     "output_type": "stream",
     "text": [
      "Processed 14 books\n"
     ]
    },
    {
     "name": "stderr",
     "output_type": "stream",
     "text": [
      "INFO:multilingual_pdf2text.ocr.image_to_text:Extracting text from images via OCR\n",
      "INFO:multilingual_pdf2text.doc2img.parse_document:Parsing document from pdf to image\n"
     ]
    },
    {
     "name": "stdout",
     "output_type": "stream",
     "text": [
      "Processed 15 books\n"
     ]
    },
    {
     "name": "stderr",
     "output_type": "stream",
     "text": [
      "INFO:multilingual_pdf2text.ocr.image_to_text:Extracting text from images via OCR\n",
      "INFO:multilingual_pdf2text.doc2img.parse_document:Parsing document from pdf to image\n"
     ]
    },
    {
     "name": "stdout",
     "output_type": "stream",
     "text": [
      "Processed 16 books\n"
     ]
    },
    {
     "name": "stderr",
     "output_type": "stream",
     "text": [
      "INFO:multilingual_pdf2text.ocr.image_to_text:Extracting text from images via OCR\n",
      "INFO:multilingual_pdf2text.doc2img.parse_document:Parsing document from pdf to image\n"
     ]
    },
    {
     "name": "stdout",
     "output_type": "stream",
     "text": [
      "Processed 17 books\n"
     ]
    },
    {
     "name": "stderr",
     "output_type": "stream",
     "text": [
      "INFO:multilingual_pdf2text.ocr.image_to_text:Extracting text from images via OCR\n",
      "INFO:multilingual_pdf2text.doc2img.parse_document:Parsing document from pdf to image\n"
     ]
    },
    {
     "name": "stdout",
     "output_type": "stream",
     "text": [
      "Processed 18 books\n"
     ]
    },
    {
     "name": "stderr",
     "output_type": "stream",
     "text": [
      "INFO:multilingual_pdf2text.ocr.image_to_text:Extracting text from images via OCR\n",
      "INFO:multilingual_pdf2text.doc2img.parse_document:Parsing document from pdf to image\n"
     ]
    },
    {
     "name": "stdout",
     "output_type": "stream",
     "text": [
      "Processed 19 books\n"
     ]
    },
    {
     "name": "stderr",
     "output_type": "stream",
     "text": [
      "INFO:multilingual_pdf2text.ocr.image_to_text:Extracting text from images via OCR\n",
      "INFO:multilingual_pdf2text.doc2img.parse_document:Parsing document from pdf to image\n"
     ]
    },
    {
     "name": "stdout",
     "output_type": "stream",
     "text": [
      "Processed 20 books\n"
     ]
    },
    {
     "name": "stderr",
     "output_type": "stream",
     "text": [
      "INFO:multilingual_pdf2text.ocr.image_to_text:Extracting text from images via OCR\n",
      "INFO:multilingual_pdf2text.doc2img.parse_document:Parsing document from pdf to image\n"
     ]
    },
    {
     "name": "stdout",
     "output_type": "stream",
     "text": [
      "Processed 21 books\n"
     ]
    },
    {
     "name": "stderr",
     "output_type": "stream",
     "text": [
      "INFO:multilingual_pdf2text.ocr.image_to_text:Extracting text from images via OCR\n",
      "INFO:multilingual_pdf2text.doc2img.parse_document:Parsing document from pdf to image\n"
     ]
    },
    {
     "name": "stdout",
     "output_type": "stream",
     "text": [
      "Processed 22 books\n"
     ]
    },
    {
     "name": "stderr",
     "output_type": "stream",
     "text": [
      "INFO:multilingual_pdf2text.ocr.image_to_text:Extracting text from images via OCR\n",
      "INFO:multilingual_pdf2text.doc2img.parse_document:Parsing document from pdf to image\n"
     ]
    },
    {
     "name": "stdout",
     "output_type": "stream",
     "text": [
      "Processed 23 books\n"
     ]
    },
    {
     "name": "stderr",
     "output_type": "stream",
     "text": [
      "INFO:multilingual_pdf2text.ocr.image_to_text:Extracting text from images via OCR\n",
      "INFO:multilingual_pdf2text.doc2img.parse_document:Parsing document from pdf to image\n"
     ]
    },
    {
     "name": "stdout",
     "output_type": "stream",
     "text": [
      "Processed 24 books\n"
     ]
    },
    {
     "name": "stderr",
     "output_type": "stream",
     "text": [
      "INFO:multilingual_pdf2text.ocr.image_to_text:Extracting text from images via OCR\n",
      "INFO:multilingual_pdf2text.doc2img.parse_document:Parsing document from pdf to image\n"
     ]
    },
    {
     "name": "stdout",
     "output_type": "stream",
     "text": [
      "Processed 25 books\n"
     ]
    },
    {
     "name": "stderr",
     "output_type": "stream",
     "text": [
      "INFO:multilingual_pdf2text.ocr.image_to_text:Extracting text from images via OCR\n",
      "INFO:multilingual_pdf2text.doc2img.parse_document:Parsing document from pdf to image\n"
     ]
    },
    {
     "name": "stdout",
     "output_type": "stream",
     "text": [
      "Processed 26 books\n"
     ]
    },
    {
     "name": "stderr",
     "output_type": "stream",
     "text": [
      "INFO:multilingual_pdf2text.ocr.image_to_text:Extracting text from images via OCR\n",
      "INFO:multilingual_pdf2text.doc2img.parse_document:Parsing document from pdf to image\n"
     ]
    },
    {
     "name": "stdout",
     "output_type": "stream",
     "text": [
      "Processed 27 books\n"
     ]
    },
    {
     "name": "stderr",
     "output_type": "stream",
     "text": [
      "INFO:multilingual_pdf2text.ocr.image_to_text:Extracting text from images via OCR\n",
      "INFO:multilingual_pdf2text.doc2img.parse_document:Parsing document from pdf to image\n"
     ]
    },
    {
     "name": "stdout",
     "output_type": "stream",
     "text": [
      "Processed 28 books\n"
     ]
    },
    {
     "name": "stderr",
     "output_type": "stream",
     "text": [
      "INFO:multilingual_pdf2text.ocr.image_to_text:Extracting text from images via OCR\n",
      "INFO:multilingual_pdf2text.doc2img.parse_document:Parsing document from pdf to image\n"
     ]
    },
    {
     "name": "stdout",
     "output_type": "stream",
     "text": [
      "Processed 29 books\n"
     ]
    },
    {
     "name": "stderr",
     "output_type": "stream",
     "text": [
      "INFO:multilingual_pdf2text.ocr.image_to_text:Extracting text from images via OCR\n",
      "INFO:multilingual_pdf2text.doc2img.parse_document:Parsing document from pdf to image\n"
     ]
    },
    {
     "name": "stdout",
     "output_type": "stream",
     "text": [
      "Processed 30 books\n"
     ]
    },
    {
     "name": "stderr",
     "output_type": "stream",
     "text": [
      "INFO:multilingual_pdf2text.ocr.image_to_text:Extracting text from images via OCR\n",
      "INFO:multilingual_pdf2text.doc2img.parse_document:Parsing document from pdf to image\n"
     ]
    },
    {
     "name": "stdout",
     "output_type": "stream",
     "text": [
      "Processed 31 books\n"
     ]
    },
    {
     "name": "stderr",
     "output_type": "stream",
     "text": [
      "INFO:multilingual_pdf2text.ocr.image_to_text:Extracting text from images via OCR\n",
      "INFO:multilingual_pdf2text.doc2img.parse_document:Parsing document from pdf to image\n"
     ]
    },
    {
     "name": "stdout",
     "output_type": "stream",
     "text": [
      "Processed 32 books\n"
     ]
    },
    {
     "name": "stderr",
     "output_type": "stream",
     "text": [
      "INFO:multilingual_pdf2text.ocr.image_to_text:Extracting text from images via OCR\n",
      "INFO:multilingual_pdf2text.doc2img.parse_document:Parsing document from pdf to image\n"
     ]
    },
    {
     "name": "stdout",
     "output_type": "stream",
     "text": [
      "Processed 33 books\n"
     ]
    },
    {
     "name": "stderr",
     "output_type": "stream",
     "text": [
      "INFO:multilingual_pdf2text.ocr.image_to_text:Extracting text from images via OCR\n",
      "INFO:multilingual_pdf2text.doc2img.parse_document:Parsing document from pdf to image\n"
     ]
    },
    {
     "name": "stdout",
     "output_type": "stream",
     "text": [
      "Processed 34 books\n"
     ]
    },
    {
     "name": "stderr",
     "output_type": "stream",
     "text": [
      "INFO:multilingual_pdf2text.ocr.image_to_text:Extracting text from images via OCR\n",
      "INFO:multilingual_pdf2text.doc2img.parse_document:Parsing document from pdf to image\n"
     ]
    },
    {
     "name": "stdout",
     "output_type": "stream",
     "text": [
      "Processed 35 books\n"
     ]
    },
    {
     "name": "stderr",
     "output_type": "stream",
     "text": [
      "INFO:multilingual_pdf2text.ocr.image_to_text:Extracting text from images via OCR\n",
      "INFO:multilingual_pdf2text.doc2img.parse_document:Parsing document from pdf to image\n"
     ]
    },
    {
     "name": "stdout",
     "output_type": "stream",
     "text": [
      "Processed 36 books\n"
     ]
    },
    {
     "name": "stderr",
     "output_type": "stream",
     "text": [
      "INFO:multilingual_pdf2text.ocr.image_to_text:Extracting text from images via OCR\n",
      "INFO:multilingual_pdf2text.doc2img.parse_document:Parsing document from pdf to image\n"
     ]
    },
    {
     "name": "stdout",
     "output_type": "stream",
     "text": [
      "Processed 37 books\n"
     ]
    },
    {
     "name": "stderr",
     "output_type": "stream",
     "text": [
      "INFO:multilingual_pdf2text.ocr.image_to_text:Extracting text from images via OCR\n",
      "INFO:multilingual_pdf2text.doc2img.parse_document:Parsing document from pdf to image\n"
     ]
    },
    {
     "name": "stdout",
     "output_type": "stream",
     "text": [
      "Processed 38 books\n"
     ]
    },
    {
     "name": "stderr",
     "output_type": "stream",
     "text": [
      "INFO:multilingual_pdf2text.ocr.image_to_text:Extracting text from images via OCR\n",
      "INFO:multilingual_pdf2text.doc2img.parse_document:Parsing document from pdf to image\n"
     ]
    },
    {
     "name": "stdout",
     "output_type": "stream",
     "text": [
      "Processed 39 books\n"
     ]
    },
    {
     "name": "stderr",
     "output_type": "stream",
     "text": [
      "INFO:multilingual_pdf2text.ocr.image_to_text:Extracting text from images via OCR\n",
      "INFO:multilingual_pdf2text.doc2img.parse_document:Parsing document from pdf to image\n"
     ]
    },
    {
     "name": "stdout",
     "output_type": "stream",
     "text": [
      "Processed 40 books\n"
     ]
    },
    {
     "name": "stderr",
     "output_type": "stream",
     "text": [
      "INFO:multilingual_pdf2text.ocr.image_to_text:Extracting text from images via OCR\n",
      "INFO:multilingual_pdf2text.doc2img.parse_document:Parsing document from pdf to image\n"
     ]
    },
    {
     "name": "stdout",
     "output_type": "stream",
     "text": [
      "Processed 41 books\n"
     ]
    },
    {
     "name": "stderr",
     "output_type": "stream",
     "text": [
      "INFO:multilingual_pdf2text.ocr.image_to_text:Extracting text from images via OCR\n",
      "INFO:multilingual_pdf2text.doc2img.parse_document:Parsing document from pdf to image\n"
     ]
    },
    {
     "name": "stdout",
     "output_type": "stream",
     "text": [
      "Processed 42 books\n"
     ]
    },
    {
     "name": "stderr",
     "output_type": "stream",
     "text": [
      "INFO:multilingual_pdf2text.ocr.image_to_text:Extracting text from images via OCR\n",
      "INFO:multilingual_pdf2text.doc2img.parse_document:Parsing document from pdf to image\n"
     ]
    },
    {
     "name": "stdout",
     "output_type": "stream",
     "text": [
      "Processed 43 books\n"
     ]
    },
    {
     "name": "stderr",
     "output_type": "stream",
     "text": [
      "INFO:multilingual_pdf2text.ocr.image_to_text:Extracting text from images via OCR\n",
      "INFO:multilingual_pdf2text.doc2img.parse_document:Parsing document from pdf to image\n"
     ]
    },
    {
     "name": "stdout",
     "output_type": "stream",
     "text": [
      "Processed 44 books\n"
     ]
    },
    {
     "name": "stderr",
     "output_type": "stream",
     "text": [
      "INFO:multilingual_pdf2text.ocr.image_to_text:Extracting text from images via OCR\n",
      "INFO:multilingual_pdf2text.doc2img.parse_document:Parsing document from pdf to image\n"
     ]
    },
    {
     "name": "stdout",
     "output_type": "stream",
     "text": [
      "Processed 45 books\n"
     ]
    },
    {
     "name": "stderr",
     "output_type": "stream",
     "text": [
      "INFO:multilingual_pdf2text.ocr.image_to_text:Extracting text from images via OCR\n"
     ]
    },
    {
     "name": "stdout",
     "output_type": "stream",
     "text": [
      "Processed 46 books\n"
     ]
    }
   ],
   "source": [
    "if __name__ == \"__main__\":\n",
    "    directory_path = 'D:/Spot The Bot Data/Amharic/7_B'\n",
    "    output_path = 'D:/Spot The Bot Data/Amharic/txt_files/7_B'\n",
    "    language = 'amh'\n",
    "    extract_text_from_pdfs(directory_path, output_path, language)"
   ]
  },
  {
   "cell_type": "code",
   "execution_count": 10,
   "id": "359deffc",
   "metadata": {},
   "outputs": [
    {
     "data": {
      "text/plain": [
       "[{'page_number': 1, 'text': 'ከበአሉ ግርማ\\n'},\n",
       " {'page_number': 2, 'text': 'ሀዲስ\\n\\nከበአሉ ግርማ\\n'},\n",
       " {'page_number': 3,\n",
       "  'text': 'መብት በሕግ የተጠበቀ ነው ፡:\\nል፲[፲. ፳፪፲1]፲ፐዔ ፳ጀኗ5ጀክኝቹ])\\n\\nየመጀመሪያ ዕትም 1975 ዓ.ም\\nእንደገና በ2008 ዓ.ም ታተመ\\n\\n2010 በማገኘኩሳ ማተምያ ቤት ታተመ\\n'},\n",
       " {'page_number': 4,\n",
       "  'text': \"ምእራፍእ፳8\\nክፍልፅ\\n\\nበተማሪዎች ረብሻ ምክንያት አመቱን ሙሉ በባለስልጣኖች ትእ\\n\\nዛዝ ሲዘጋና ሲከፈት የቆየው የቀዳማዊ ሀይለ ስላሴ ዩኒቨርሲቲ ለክረ\\nምት ወራት ከተዘጋ ቆይቷል ።\\n\\nሀዲስ ሳህሌ የባህር ዛፍ ፍሬ አቀጣጥሎ ባጋለው ካውያ ሽክ አድ\\nርጎ የተኮሰውን ካኪ ልብሱን ለብሶ የእናቱን ፥ የወይሸሮ እልፍነሽ\\nትርፌን የቡሄ- ዳቦ ከሻይ ጋር 'ከገመጠ በሁዋላ ለመሄድ ተነሳ ።\\nተስፋ የጣለበት ቀጠሮ ነበረው ።\\n\\n. «ሰሞኑን በማለዳ እየተነሳህ ስራ እንዳለው ሰው የምትሮጠው\\nወዴት ነው ልጄ? ትምህርት ቤት እንደሁ ተዘግቷል ። አርፈህ ብትቀ\\nመጥ ምናለበት?» አሉት ባይናቸው እየሳሱለት ።\\n\\n«ለክረምት ስራ እየፈለኩ ነው ። ያለ ስራ ተቀምጩ ምን አደርጋ\\nለሁ?» ብሎ ዋሻቸው ። ላንድ አመት ወደ ዩኒቨርሲቲ እንደማይመለስ\\nልቡ ያውቅ ነበር ።\\n\\n«ለስራ ምን አስቸኮለህ ? ትምህርትህን ስትጨርስ ትዶርስበታለህ»\\nአሉት በደከመ ድምፅ ።\\n\\nእናቱን ትኩር ብሎ ላንዳፍታ ተመለከታቸው ። ሰውነታቸው አል\\nቆአል ። አጥንታቸው ብቻ ነበር የቀረው ። ህይወት አይታይባቸውም ።\\nእርጅናውም ብሶባቸዋል ። እና ፤ ቤቱም ይበርድ ነበር ። ግድግዳዎቹም ፤\\nየቤት እቃዎቹም ፤ ምድጃውም ጭምር የበሰበሰ የችግር ጥርሳቸውን አግ\\nጠው አሳዩት ። ቶሎ ወጥቶ ለመሄድ ፈለገ ።\\n\\n«እስቲ ቆይ» አሉትና ከመቀነታቸው ላይ አንድ ብር ፈተው ሰጡት።\\n\\n«ምን ያደርግልኛል እማዬ ፤ ይልቅ ለችግርሽ ይሆንሻል» ብሎ ሊመ\\nልስላቸው ሲል ፦\\n\\n«ያዘው ። ወንድ ልጅ ባዶ ኪሱን ከቤት አይወጣም» አሉት ።\\n\\nአይኖቹ እንባ አቀረሩ ። የተጨማደዱትን ጉንጮቻቸውን ስሞ\\nወጣ ። ባይኖቸው ይከተሉት ነበር--በር ላይ ቆመው። በየመንደሩ ቡሄ፥\\nእያሱ ከሚጨፍሩት ልጆች ጋር ልቡ አልጨፈረም ። ይልቅ እንደ ድንጋይ\\nይከብደው ነበር--ወጣት ልበ ።\\n\\nሰባት ቁጥር አውቶቡስ ሲያመልጠው ሲል በረጅም ቅልጥሙ ሮጥ\\nሮጥ ብሎ ዶረሰበት ። አውቶቡሱ ውስጥ መቀመጫ ቀርቶ መቆሚያ\\nቦታሦ ኣልነበረም ። እንደ እሱ ሮጠው አውቶቡሱ ላይ ለመሳፈር ያል\\n\"},\n",
       " {'page_number': 5,\n",
       "  'text': 'ርዊ . ክ ሌኤዱኋ4ዒኋዒ4ስስክክቁፄዷፋፉዯሙርር -\\n\\nሉት አሮጊቶችና ሽማግሌዎች አሳዘኑት ። የዴከሙት አኣይኖቻቸው\\n፰ቻ ነበሩ ከአውቶቡሱ ጋር የሚሮጡት- - - ፒያሳ ላይ ወረዴ ። አራዳ\\nጭጋግ ለብሳለች ። ከሩቅ የሚታየው የእንጦጦ ጋራ የጥቁር ጉም ክምር\\nመስሎአል ። ከባድ ዝናብ ካሁን አሁን መጣሁ መጣሁ እያለ አዲስ\\nአበባን ያስፈራራል ። ሰውም ዝናቡን ፈርቶ እንደዶ ማለዳ የመንደር ውሻ\\nኩስ ኩስ እያለ ቶሎ ቶሎ ይሄዳል ። በሀይል የሚነፍሰው ነፋስ የሴቶችን\\nቀሚስ እየገለበ ፥ ፀጉራቸውን እየበተነና የአንዳንድ ሰዎችን ባርኔጣ\\nእየወሰዶ ያስቸግራል ። አንድ ጠና ያሉ ሰው ባርኔጣቸውን ሲያሳድዱ\\nአላፊ መኪና ሊበላቸው ነበር ። የመኪናው ጎማዎች አኣስፋልቱን ነክሰው\\nሲጮሁ ሀሆዲስ አይኖቹን ጨፈነ ። ሰውዬው ለትንሽ ተረፉ ። ጥቁር ቆብ\\nመስሎ ሰፋ ካለው ግንባሩ ላይ የሚደዶፋው ጠጉሩ ቆሞ ነበር--ሀዲስ።አን\\nዳንድ ሴቶች ካለፉት ,በሁዋላ መለስ ብለው ይመለከቱታል ። ሴቶች\\nቀና ወይም መለስ ብለው ለምን እንደሚያዩት ይገርመዋል ። እና ፤ የተክ\\nዋሉ የሚመስሉትን ትላልቅ አይኖቹን ሰበር ያደዴርጋል “\\n\\nወዶ ላጋር የሚወስደዶውን አውቶቡስ ጠብቆ ተሳፈረ ። አንዱ እጁ\\nበአውቶቡሱ መዝጊያ ተይዞ ሊቀር ነበር ። ሰው እንዶ ሰርዲን ታጭቆ\\nአል ። መፈናፈኛ ቦታ አልነበረም ። ክፊት ለፊቱ ፀጉርዋ ወርዶ ትከሻዋ\\nላይ የተኞ አንድ ቀይ ውብ ልጅ ቆማ ነበር ። አውቶቡሱ ፍሬን ሲይዝ\\nእንዳትወድውቅ ብላ ወገቡን ያዘችው ። ሰውነቱ ሞቅ ኣለው ። ላቡ በግን\\nባሩ ላይ ትንቸረፈፈ ። ቀና ብላ ፈገግታ አሳየችው ። አፀፋውን መለሰላት ።\\nየተትርክፈክፈችው ሽቶ መአዛ ሳበው ። ከቴሌኮሙኒኬሽን ዋና መስሪያ\\nቤት አጠግብ ደርሶ ከወረይዴ በሁዋላ በአይኑ ቢፈልጋት ሕጣት ። ስንቱ\\nበመንግድ ይተትላለፋል እያለ መንግገዱን ሊቀጥል ሲል ኣአንድ ጠብደል\\nአፍሮ መጥቶ ፥ ኗ«እንካ ። ተፀዳዳበት» ብሎት ወይን ‹ጠጅ ቀለም ያለው\\nሶፍት ሰጠው፡፡ በደመ---ነፍሱ የሁዋላ ኪሱን ዳበሰ ። ከቤቱ ይዞት የወጣው\\nየራሱ ሶፍት ነበር ። መለስ ሲል ኪስ አውላቂው ሌባ ውልብ ብሎ\\nጠፍቶአል ። በራሱ ስቆ መንገዱን ቀጠለ ። ደግነቱ ሌላ ነገር አልጠፋውም።\\nእናቱ የሰጡት ብር ደረት ኪሱ ውስጥ ነበረች ። መጣሁ * ዶዴረስኩ እያለ\\nየሚያስፈራራውን ዝናብ ለመቅዶደም በረጅም ቅልጥሞቹቼ መንገዱን\\nአፈስ አፌስ ፤ ያደርገው ጀመር ።\\n\\nልክ በቀጠሮው ሰአት በመድረሱ ደስ ብሎት ረጅም ቅልጥሙን\\nአመሰገነ ። በስንት ደጅ ጥናት ያገኘው ቀጠሮ ንነበር ።\\n\\n«ቀጠሮ አለህ?» ብላ ጠየቀችው የጺሮው ፀሀፊ ።\\n\\nሽቶጭ ያውዳል ። ጡቶችዋ ጠላት ላይ የተዶገኑ ሮኬቶች ይምቦ\\nላሉ ። ኗኮኮዶልቴ» ጥቁር ሹራብ ለብሳለች ። የልብ ቅርፅ ያለው ያንገት\\nጌጥዋ ክጡቶችዋ መሀል ተሸጉጦ ይታያል ። ቶሎ ብሎ አይኑን\\nችዋ ላይ ንቀለ ። ፈገግ አለች ። ትኩስ የተሸለቀቀ በቆሎ እሸት የሚመሶ\\nሉትን ጥርሶቹን አሷያትና ‹ «አዎን ፤ ቀጠሮ አለኝ» አላት ።\\n\\n«ጠብበቅ ይመጣሉ» አለችው ‹ የእጅ ቦርሳዋን እየከፈተች “\\n\\nረጃሯጩም እግሮችዋ በጠረጴዛው ስር ለም.የተቀቡት\\nአውራ ጭቶችዋ የሚያሾፉበት መሰለው ፲፰፰፪ገሉና፲አ፪፰ ፡እይን ተጋመ”\\n'},\n",
       " {'page_number': 6,\n",
       "  'text': 'ሀዲስ 5\\n\\nረጃጅም እጆቹን የሚያገባበት ቦታ ጠፋው ። ከት ብላ ሳቀች ። ምን\\nእንዳሳቃት አልገባውም ። ጠይም ፊቱ አሸቦ መሰለ ። ወዲያውኑ ቀጠሮ\\nየሰጠው ባለስልጣን መጣ ። ቁመናው አጭር ሆኖ ቦርጫም ነበር #\\n\\n«ሌሎች ባለ ጉዳዮች ሳይመጡ ቶሎ ግባ» አለችው ፀሀፊዋ ።\\n\\nየቢሮውን በር ቀስ ብሎ ከፍቶ ገባ ። ሰውዬው ቀደም ብሎ ከትልቁ\\nጠረጴዛ ሁዋላ ትልቅ ወንበር ላይ ተኮፍሶአል ። ያ ቅድም ሲገባ ያየው\\nአጭር ሰው አሁን ግዙፍ መስሎ ታየው ።\\n\\n«ምን ኖሮአል1» --- እንደ አንበሳ አጉዋራበት ።\\n\\n«ባለፈው ሳምንት ለዛሬ ቀጠሮ ሰጥተውኝ ነበር» አለው ፤ እጆቹን\\nወደ ሁዋላ አድርጎ ፤ ሳምንቱን ሙሉ ትስፋ የጣለበት ቀጠሮ ነበር ።\\n\\n«እኮ ፤ ጉዳይህ ምንድር ነው?»\\n«ስራ ፈልጌ ነበር ወ»\\n\\n«ማን ነው የላከህ?]»ጭ\\n\\n«ማ>ንም ። እኔው ነሜ የመጣሁት ።»\\n«የማ ልጅ ነህ1»\\n\\nየማን ልጅ ነኝ ይበል? መምሬ ሳህሌ---አምላካቸው ነፍሳቸውን ይማ\\nረውና--ንም አልነበሩም። ማንም የማያውቃቸው ተራ ቄስ ነበሩ ።\\nስራ ሊያስገኝ የሚችል የዘር ሀረግ ክየት አምጥቶይምዘዝ ! ኢትዮጵያዊነት\\nብቻውን አይበቃም ። ስራ\\'\"ፈላጊ ስራ ለማግኘት ያንድ የታወቀ ሰው\\nልጅ ወይም ዘር መሆን ያስፈልጋል ። ስራ ለማግኘት ከወረቀት ዲግሪ\\nየተሻለ በመወለድ የሚገኝ የላቀ ዲግሪ ኖሮአል ለካ ! ለዚህም አልታደ\\nለም ። ምን ይብል ? .\\n\\n«አዝገርህ የት ነው?»\\n\\nኢትዮጵያዊ አልመስልም ይሆን ? ወይስ ድሀ ኢትዮጵያዊ አይመ\\nስልም? ወገሬ የት ነው? ወይስ-ድሀ ሀገር የለውም? ወይስ ኢትዮጵያ የድ\\nሆች አገር አይደለችም ይሆን ?\\n\\n«የችውልድ አገርህ ማለቴ ነው ።»\\n\\n«ሸ% ንኝ ።»\\n\\n«ምሩቅ ነህ ?» 1\\n\\n«አይጅዴዶለሁም ። ሁለት አመት ይቀረኛል.. .-»\\n\\nቤቶች በስራ ፈቶች ተጣበው ነውየሜኃቼት፲አህናፅሁ፲ጡነ።ት\\nሆን ኖሮ እንኩዋ....2» - መ\\n\\n«ደልም ። ምሬት አይዴለሌሁም ። ርጉም ነኝ ........\\n'},\n",
       " {'page_number': 7,\n",
       "  'text': '6 ሀዲስ\\nጦኚ\\n\\nለርጉማን አዲሳባ ቦታ የላትም ፤ ልብ የሳትም ። መቆሚያ መቀጩ\\nየላትም ። ጆሮ የላትም ። ኤሌክትሪክ ብርሃኑም ያፈጣል እንጂቀፆግ፰\\nአያሳይም። ሰማይ ጠቀስ ፎቆችዋ ወደ ላይ ይንጠራራሉ እንጄ ወደ ታች\\nአይመለከቱም ። የተዘረጉት አስፋልት መንገዶችዋ የትም አያደርሱም «\\nአዲሳባ ልብ የላትም ። እንዴት ልብ ይኖራታል!? ልብዋ በወሲብ )\\nበፍቅረ ንዋይና በስልጣን ተገጥቦ አልቆአል ። ዙፋኑም ጆሮና ልብ የለ\\nውም። ።ጆሮው እንደ እንጦጦ ተራራ ስምንት ሽህ ጫማ ወደ ላይ ርቆአል።\\nበሩን ከፍተው ካዳራሹ ሲገቡ የሚችሉት የዘር ሀሠረግ እየመዘዙ የእገሌ\\nልጅ ፥ ወይም የልጅ ልጅ ነኝ ለማለት የታዶሉት ብቻ ናቸው ።\\n\\nአዲስ አበባ--የምሩቅ ፃድቃን ምድራዊ ገነት ። የርጉማን ሲኦል፥\\nየምድራዊ ርጉማን ዋይታ በብሩካን ፍቅረ ንዋይ ፥ የስልጣን ከበሮና\\nዳንኪራ ፥ ሳቅና እልልታ ፤ ዘፈንና እስክስታ የተዋጣባት ፤ ብዙ የተቆለፉ\\nመዝጊያዎች በውስጡዋ የሚገኙባት የተቆለፈች ከተማ..-\\n\\nበእድሉ ክፉኛ እያዘነ ከባለስልጣኑ ቢሮ ወጥቶ ሄዴዶ ። በዱሮ ቄራ\\nመንገድ ሽቅብ ወጥቶ ፤ የተረት ሰፈርን መንገድ በመያዝ ወደዶ አራት\\nኪሎ ሲያመራ አንድ ጥቁር ትልቅ ማርቸዲስ ቤንዝ መኪና በጎማው\\nመንገዱ ላይ የተኛውን የዝናብ ውሃ አልብሶችት አለፈ ። የባሰውኑ ተናደደ ።\\nግን መናዶድ የት ሊያደርስ ! ንዴቱን ለማብረድ በሀይል ይራመድ ጀመር።\\n\\nአንድ ወር ሙሉ ስራ ፍለጋ ሲንክከራተት ያልረገጠው የመንግስት\\nመስሪያ ቤትና የግል ድርጅት የለም ። የቢሮውን በር ታቅፎ ይዞ ስንት\\nሰአት ሙሉ ያልጠበቀው ባለስልጣን ፤ ባይኑ ያልገረፈው ጠብደል የቢሮ\\nተላላኪ ሕልነበረም ። ንጉሱ ግቢ ዶጅ ለሚጠኑትም ፤ ሰክረው አድረው\\nቢሮ ላልግቡትም ፤ ገባ ብለው ላጣዳፊ የግል ጉዳይ ተመልሰው ወጣ ላሉ\\nትም * መይም ተሰብስበው ማኪያቶ እየጠጡ የዶራ ወሬ ለሚያቀልጡ\\nትም ፥ ወዶ ቦሎቄ እርሻዎቻቸው ሄደዶው ላልተመለሱትም ባለስልጣኖች፤\\n«ስብሰባ ላይ ናቸው» ወይም ፤ «ተጠርተው ወዴ ግቢ ሄደዋል> በማለት\\nከሹራብ ስራዋ ላይ ቀና ብላ ያላመናጨቀችው የቢሮ ፀሀፊ የለችም ።\\n«ወዴት ንው !> ያላለው ያረጄ ዘበኛ አልነበረም ።\\n\\n፦ ሽገፍት የስራ ቦታ የለንም !\\n፦ ይለ ስራ መግባት ፍፁም ክልክል ነው !\\n\\nአቤት ተስፋ ሲያስቆርጡ ! በጋዜጦች የሚያወጡትም የክፍት ስራ\\nቦታ ማስታወቂያዎችም ያንኑ ያህል ነበር ትስፋ የሚያስቆርጡት ።\\nየሁለተኛ ኣመት የዩኒቨርሲቲ ትምህርት ያጠናቀቀና የስድስት አመት\\nየስራ ልምድ ያለው ወይም ቢ. ኤ. ዲግሪ ኖሮት የሶስት አመት የስራ\\nልምድ ያለው ፤ ወይም ኤም. ኤ. ዲግሪ ኖሮት የሁለት አመት የስራ\\nልምድ ያለው . . . ወ.ዘ.ት የሚሉ ፍቸው ። ስራ ላይ ላሉ ሰዎች ነው እንጂጁ\\nገና ስራ ልሚፈልጉ ስራ .አጦች የታቀዱ ማስታወቂያዎች አያለይሜክ\\nካጊዜ በጮዋላ ነበር ማስታወቂያዎቹ ለግል ሰዎች እንዶ ልቁይ ይኔተ\\n\\nስሪያ ቤቶች ባወጡት ፻፲ፃ፬ዳዶሪያ ፈተናዎች ኙ\\nአንዱንም አላለፈም ። ጎበዝ ተማሪ ከመሆኑም ሌላ ስሙ ከዩኑሽርሲቲው\\nዲን የክብፎ ሙዘገብ ፀጥቶኣያፅኃይቅምባዛዖሀዐፎቤትሡጩሙ\\n'},\n",
       " {'page_number': 8,\n",
       "  'text': 'ሀዲስ 7\\n\\nጡለት ቅፅል ስም * «መፅሀፍ ትራሱ» ወይም «ፕሮፌሰር ሀዲስ» እያሉ\\nየሚጠሩት እንዲያው በዋዛ ኣልነበረም ። ማን ቀሳል ፤ በጣም ቀላል ነው\\nብሎ ያሰበውን ፈተና ማለፍ ሲያቅተው ምን ይባላል ! ፈተናውን ማለፍ\\nያለበት ሰው አስቀድሞ የታወቀ ስለሆነ ፤ የሚሰጠው ፈትና እንዲያው\\nለይስሙላ በውሸት መሆኑ ከገባው ሰንበት ብሎአል ። ጆሊ ባር ገብቶ\\nማኪያቶና ቀዝቃዛ ውሀ አዞ ፤ ውጭ “>ራሱ”\" ላይ ቁጭ አለ ። መጣሁ ፤\\nደረስኩ ፥ ኤያለ ሲያስፈራራ የነበረው ዝናብ አልፎ * ፀሐይ የደመናውን\\nብርድልብስ ገልጣ ወጥታለች ። ወፈፍ የሚያደርጋቸው ወጣት አፍሮ\\n“ለማኞች\\' ሳንቲምና ሲጃራ አምጡ እያሉ ያስቸግራሉ ። አንድ ጠብደል\\nለማኝ ደረቴን ገልብጦ ፍራንክ አምጡ እያለ ያስፈራራል ። ስራ የፈቱ\\nየዩኒቨርሲቲ ተማሪዎች አፍ ላፍ ገጥመው እጃቸውን እንዴ ጣልያኖች\\nአስሬ እያወናጨፉ ይከራከራሉ ። የሚያብረቀርቁ አዳዲስ ሽንጣም መኪና\\nዎች በነፃነት ሀውልት ዙሪያ ሽው ሽው ይላሉ ። የቀረበለትን ቀዝቃዛ\\nውሀ ባንድ ትንፋሽ ጨልጦ ማኪያቶውን ፉት አድርጎ ካጣጣመ በሁዋና---\\n\\nቁጡ ትውልድ መሆናችን ምን ያስገርማል ! አሉ የነፃነት ሀውልቱን እየ\\nተመለከተ ።\\n\\nለመጀመሪያ ጊዜ የተማሪዎች ቁጣና ምኞት ልቡ ገባ ።\\nተው ስማኝ ሀገሬ\\n\\nመሬት ላራሹ !\\nፋኖ ተሰማራ ፤ ፋኖ ተሰማራ\\nእንዶነ ሆቺ ሚን እንዴ ቼ ጉቬራ !\\n\\n-ይህ ቦታ መፈንዳት አለበት ! አለ የእናቴ ስቃይና ችግር ትዝ ብሎች።\\nጠዋት ሲወጣ የሰጡትን ያረጀች ብር አውጥቶ ትመለከታት ። የንጉሱ\\nምስል አዴጠጠበት ። ቀዶ ቢጥለው\\'ንዴቱ በበረደለት ነበር ። እንባ\\nተናነቀው ። አልቅሶ በወጣለት ! ግን እንባ አይወጣውም ። የእንባው ክረ\\nጢት እንዶ እናቱ ሰውነት እየደረቀ ሄዶአል ።--ሰው ለችግርና ለመከራ\\nለምን ይወለዳል ! አለ ባንድ እጁ ማኪያቶውን ፤ በሌላው እጁ ቡጢ\\nጨብጦ ወ\\n\\nሀዲስ የእናቱን ችግር እያየ ትምህርቱን መቀጠል አልቓለም ።\\nሁለት አጭር አመት ። ከዚያ በሁዋላ የዲግሪውና ከዲግሪው ጋር የሟመ\\nጣው ክብር ፤ ደረጃና መብት ባለቤት መሆን---በቃ ። ግን የሚወደውን\\nትምህርት በግድ ማቁዋረጥ ነበረበት ። ሌላ ምርጫ አልነበረውም ።\\nድሀ ምን አማራጭ አለው ! እርጅና ከቀን ወደ ቀን እየተጫናቸው ኖሚሄ\\nዱት ድሀ ሕናቱ ብቻቸውን ናቸው፡። ከእሱ ሌላ ምርኩዝና ተስፋ የላቸውም፡፡\\n'},\n",
       " {'page_number': 9,\n",
       "  'text': '8 ሀዲስ\\nቃጆጣ\\n\\nቸውን ረውና ዘወትር ማልደው ተነስተው የሚያነበንቡት\\nየተሰገጠ ፡ በግምጃ ጨርቅ የተሸለመ ፤ በብራና የተፃፈ የሙሴን ባላ\\nየሚያክል ዳዊታቸውን ቢሞትም አይረሳው ። ከሞቀ የናቱ ጉያ ፤ ከጣፈጠ\\nየጠዋት እንቅልፍ በዚያ መከረኛ ጭራ መያዣ እየተጎነተለ ተቀስቅለ\\nያንን ዳዊት ተሸክሞ ማውጣቱ ዘወትር ያቃዣው ነበር ። ዳዊቱን ተሳልሞ\\nበቶሎ ወደ ሞቀች መኝታው መመለስ ቢችል ባልከፋው! ከእግራቸቤ\\nስር ተቆራምዶ በቆፈን ተይዞ እየተቆራፈደ ጎህ መቅደዶዱን ፥ ፀሐይ መጡ\\nጣቱዋን እየናፈቀ ፤ መምሬ ሲያነበንቡ ማዳመጥ ነበረበት---ሰኞ ፥ ከፍካሬረ\\nእስከ እኮኑ፤ማክሰኞ፣፥፤ ከእኮኑ እስከ ብፁእ ብእሲ ፤ረቡዕ ፥ከብፁእ ብእሲ\\nእስክከክ ሰሎሞን መጨረሻ ድረስ ፤ ከዚያ በሁዋላ እንደገና ድጋም---\\n\\nቱን ፥ ወሩን ፤ አመቱን ፤ ዝንተ አለሙን . - . ። የየእለቱን ድጋም ሳይጨ\\nርሱ እህል ማን ቀምሶ! በተለይ ሰሎሞን ላይ ሲደርሱ ፤ ምን እንደሚይዛ\\nቸው አይታወቅም ፤ ጊዜ ይፈጁ ነበር ። «ዋ ! አቡነ ተክልዬን !» ካሉ\\nድራሽ ያጠፋሉ ። ድጋሙ ካለቀ ክብሳታቸውን አሳምረው ቆልለው\\nበመነሳንሳቸው ባዶውን አየር እየገረፉ ተነስተው ውልቅ ። አደባባይ\\nነደጻር የሚውሉት ። ሀዲስ ነፍስ ማወቅ ከጀመረ ወዲህ ኮሶ ካልጠጡ\\nቧስተቀር ባዘቦቱ ቀን ካደባባይ ተለይተው ቤት የዋሉበትን ቀን አያስታ\\nውስም ። ሃያ አንድ አመት የቆየ የመሬት ሙማግት ነበረባቸው ።\\n\\nአባታቸው አለቃ እንደሻው ዘመነ ካህናት ይባል በነበረው በንግስት\\nዘውዲቱ ጊዜ በአድአ የተተከሉት አንድ ጋሻ መሬት ነበር ። ንግስት\\nሲሞቱ * «ጳርሃት ቤተ ክርስቲያን» ያሉት እሳቸው ነበሩ ይባሳል ።\\n\\nአሞልደ ነገስት የሆነ አንድ የሸዋ - መኩዋንንት ካባታቸው\\nከወረሱች መሬት ላይ መምሬ ሳህሌን ባልሆነ ምክንያት ነቀላቸው ።\\nከክወረዳ ጀምረው እስከ ጠቅላይ ንጉስ ነገስት ፍርድ ቤት ይገባኝ እያሉ\\nሃያ አንድ አመት ሙሉ በተስፋ ተሙዋገቱ ። «ዮንጉሱ ትንፋሽ ፈርዶብኝ\\n\\n፡ ታቸውን ሄዱ ቀሩ\\n\\n7ነቅቶ ይጠብቅ ነበር --- ለብዙ ጊዜ ። አልተመለሱም ። እንዶ እናቱ\\n። በዚህ ኣለ ረው\\n\\nብሯ ነበሩ ። እሳቸውም መዳከም ጆዖ፰፻፪፮ ፲ም ሁ\\n\\nቢ\\nእንዴ በፊቱ በየሰው ጫካ ር የነፍስ ግ\\nነፍስ ውጪ አደገኛ ቆ፸፭፮ለ፲፲፬እ፲፩ዞ፲፲ ከገብረ፰ ፲፲፸፲፲፲፲፭፡፲ ፤፲፲ ቁ በመሾኖ\\n'},\n",
       " {'page_number': 10,\n",
       "  'text': \"ሀዲስ 3\\n\\nበሚያገኙዋት ሳንቲም እህል ቀምሰው ማደር ትስኖአቸዋል ። ወገባቸው\\nዶዴርቆአል ። እግሮቻቸውም እንደ ልብ አይራመዱም ። ስጋው ኣልቆ አጥ\\nንትና ጅማት ብቻ የቀረው የተለበለበ እንጨት የሚመስለው ክንዳቸው\\nተዘርግቶ ጭራሮ መስበር አቅቶታል ። በየሰው ቤት እንዶ በፊቱ እን፭ራ\\nጋግረው የእለት ጉርስ እንዳያገኙ የሳሳው ልባቸው ከቅርብ ቀርቶ\\n\\nየእሳት ምላስ አይቅረበኝ ብሎአል ። እንደ በፊቱ ወተት ሽጠው እን\\nዳያድሩ በግጦሽ ስፍራ ማጣትና በመኖ ውድነት ምክንያት ሀዲስን ያሳደ\\nጉትን ላሞች፣፤ ቡሬንና ዳለቲን ከሸጡ ቆይተዋል ። እያንዳንዱዋ ክንድ\\nመሬት ታጥራ ላሞቹ የሚግጡበት ቀርቶ የሚቆሙበት ስፍራ አጥተው\\nነበር ። እምቡዋ እያሉ ነጥፈው ከሚሞቴ በማለት ለሉካንዳ ነጋዴ በርካሽ\\nዋጋ * «ለሚበላን አፈር ተስገብግቦ መሞት ። አይ ሰው ። ለሰው ሞት\\nአነሰው ። ገድሎ የማይፎክረው እሱ ያውቃል። ሰዉ ምን ክርስ ለቀቀበት!፤\\nአይ ይህ ሆዳም አለም !» ብለው ሲሸጡአቸው ፤ አቤት ሀዲስ ያፈስሰው\\nእንባ ።\\n\\nፀሀይ ወጥታ እስከምትጠልቅበት ጊዜ ድረስ ዴከመኝን የማያውቁ\\nሴት ፤ እየበሬዴ ከሚሄዴው ምድጃቸው ዳር ክቤት መዋል ጀምረዋል ።\\nእረፍት የሚባል ነገር አያውቁም ። «የምን ልግም በገላ ነው ! የዘላለሙ\\nእረፍት ይጠብቀን የለ» ይላሉ አዘውትረው ።\\n\\nሰነፍ ሰው አይወዱም ። «ገድሎ የማይፎክረው እሱ ያውቃል ። የመ\\nሸታን ንማድ ለእድሌም አላሳየው» ብለው ቤት በመዋል ፤ የፈትል ስራ\\nከጀመሩ ሰንብተዋል ። ደጋናቸውን ከተሰቀለበት አውርደዴው ጥጡን\\nሲነድፉቅ እንዲያው ስስ የበጋ ጉም አስመስለው ይቆልሉታል ። ከዚያ\\nቡጭቅ እያደረጉ በቀጭኑ ረቨም አድርገው 'በመሳብ እንዝርታቸውን\\nማሾር ሲጀምሩ * እንቁላል የሚመሳስሉ ወፍራም ልቃቂቶች ፥ በቆዳ\\nየተለጎመ ጥንታዊ አገልግሎቻቸውን ባንዳፍታ እየሞሉት ይሄዳሎ.።\\nየሚፈትሉትን ጋቢ የሁለት ጐረምሳ ክንድ አይጨምቀውም ። ፈትሉንም\\nቢሆን ከቅርብ ጊዜ ወዲህ እንዴ ነገሩ ነበር የያዙት ። ለመኖር የነበራቸው\\nእልክ ያሊቀ ይመስላል ። ሆኖም ሀዲስ ትምህርቱን ኣቁዋርጦ ስራ በመ\\nያዝ እንዲጦራቸው በቀጥታም ሆነ ,;ነትዘዋዋሪ መንገድ ጠይቀውት እያው\\nቁም።\\n\\nእንዶ ሌሎች ድሀ እናቶች *,«ልጄ-፥ ትምህርት ማለቂያ የለው ።\\nከሞትኩ ፀበሁዋላ ሬሳዬ ላይ እንባ ብታፈስ እንደ አላዛር ከሞት አልነቃ ።\\nእስካሁን የተማርከው ይበቃል ። ስራ ይዘህ ጡረኝ ። የእነ እገሌ ልጅ\\nአባትና እናቱን እንዴት አድርጎ እንደሚጦር አላየህም-? አገር ሁሉ ነው\\nይባርከው የሚለው ። የኔ እ፭፺ብቻ አመድ አፋሽ ሆኖ ቀረ» በማለት\\nአማረውት ፤ እሱን የወለዱበትን ማህፀ“ ረግመው አያውቁም ። ይልቅ ‹\\nኗእማዬ ፤ አሁንስ ደከመሽ መሰለኝ ። ላንድ አመት ስራ ልያዝና ትንሽ\\nልርዳሽ» ጣላቸው ቁጥር ፥ «ለዚህ ለዚህ ለምን ለረ.ሁ ? አይጥ ወልዳ ወልዳ\\nጅራቷ ሲቀር ሲጥ አለች አሉ ። እኔ ከእንግዲህ ቢደላሜኝ ፋይዳው ምን\\nድን ነው ገ ከጥፍር ሌላ የማበቅለው የለኝ ። ሆድ እንደሁ እየሁ አይል ።\\nኤዲያ ? ኤከክ የሰጠ ጌታ ጥፍር ላይነሳ ። እዬዬ ሲደላ ብቻ-ነው ፥ ልጄ ።\\nማንኛውም= ነገር ሲያልፍ ያልፋል ። ሁን ያለው ላይቀር ። ይልቅ በርታና\\nተማር። የድሀ ስቃይ ባመት ሁለት አመት አይለካም ። ኣብሮ የኖረ\\nማንኛውም ነገር ይለመዳል ። ምን የሚያስቸኩል ነገር አለ ብለህ ነው ?\\nአታስብ ወ አሳብክን ሰብሰብ አድርገህ ትማር» ይሉታል ። ፡\\n\"},\n",
       " {'page_number': 11,\n",
       "  'text': '40 ሠዲስ\\nርኃሟ\\n\\nግን ፥ ያንጀታቸውን እየታጠፈ መሄድ ፤ የምድጃቸውን መቀዝቀዝሩነ\\nትክትካቸውን እያየ እንዳሉት አሳቡን ሰብሰብ ኣድርጎ ለመማር ፈፅር\\nአልቻለም ። ለማንበብ ባቀረቀረ ቁጥር ከገለጠው መፅሀፍ ውስጥ እየፋ\\nዘቀዘ የሚሄደው የእናቱ ምድጃ ብቅ ብሎ ይታየዋል ። - . . እሳቱ እየተን\\nቀለቀለ ለጎጆኖዋ ሙቀትና ብርሃን ይሰጥ የነበረው ምድጃ --- ገና ሲያዩት\\nየሚያጠግብ ትኩስ እንጎቻ --- ቴቱግ ቱግ እያለ የሚፎክር ያቦል ቡና\\nጀበና -- መአዛው ምራቅ የሚያስውጥ ፤ ደረስኩ- ደረስኩ እያለ የሚንተ\\nከተክ ድስት --- የማይለየው ያ የሞቀ ምድጃ አሁን ቀዝቅዞ ፤ በርዶ ነበር\\nየሚታየው ። እናቱ ከቀዘቀዘው ምድጃው ዳር ተቀምጠው፤ የቀዘቀዘውን\\nአመድ . . .ወደ መቃብር የሚወርድ ሙታን ድምፅ --- አልባ ዋይታ...\\nየድሀ ህይወት --- ረፎጅም የጉዞ ፍታት ። አእምሮው እረፍት ሊያገኝ አል\\nቻለም ። ሀዲስ ስራ ለመያዝ ቆረጠ ።\\n\\n«ለወጣት አንድ አመት ምን ትርጉም አላት ? ወጣት ጊዜ አያመል\\nጠውም ። ይደርስበታል እንጂ» አለ ። ገና ኛያ ሁለት አመቱ ነበር ።\\n\\nአንድ ሳምንት ። ሁለት ፤ ሶስት ሳምንት ። ወር ። ስራ የለም ። ስራ\\nበቀላሉ የሚገኝ ነገር መስሎት ነበር ። .\\n\\nየቀዘቀዘ ማኪያቶውን እንዶደ ጨለጠ አንድ አሳብ ብልጭ አለበት ።\\nስራ ቢጠፋ አስተማሪነት ይታጣል ? በማለት እዳውን ከፍሎ ሲያበቃ ፤\\nመንገዱን አቁዋርጦ ወደዶ ትምህርትና ስነ ጥበብ ሚኒስቴር ሄድ ። መስሪያ\\nቤቱ መማሣቢያና መውጫ በሮችና መተላለፊያ ኮሪዶሮች ስለሚበዙበት\\nባለጉዳዮችን ቀርቶ የቆዩ ሰራተኞችንም ያደናግራል ። አቤት የተላላኪ\\nዎች ብዛት ! ባለጉዳዮችን ከሩቅ የሚገላምጡ ትላላኪዎች የማይነቃነቁ\\nየብረት ምሰሶ መስለው በያንዳንዱ ቢሮ በር ላይ ተገትረው ይታያሉ ።\\nእንደ ምንም ብሎ የአስተዳደሩን ክፍል ፈልጎ አገኘ። ከበሩ ላይ “የአስተ\\nዳደር ዋና ዲሬክተር\"” የሚል ፅሁፍ በጥቁር ሰሌዳ ላይ በትላልቅ ወርቅ\\nቀለም ትፅፎ ይታያል ። ክጥቁር ስሌዳዉ ትንሽ ዝቅ ብሎ ፥ አሁንም\\nበጥቁር ሴሌዳ ላይ በነጭ ቀለም የተትፃፈ. ስም ይነበባል --- ታፈሰ ብሩ ።\\n\\n«ምን ነበር ! » አለው የቢሮው ተላላኪ ።\\n\\n«አጁ ታፈሰን ነበር የምፈልገው>» አለው ፤ ኮስተር ብሎ ። ተላላኪ\\nዎች ሲኮሳተሩባቸው ደንግጠው መሽቆጥቆጥ የሚጀምሩ መሆናቸውን\\nበመጠኑም ቢሆን ያገኘው ልምድ አስተምሮታል ።\\n\\n«ለምን ነበር\"» -\\n«ከታፈሰ ጋር የግል ጉዳይ አለኝ» ብሎት ገፍትሮት ገባ ።\\n\\nባለስልጣኖችን አንተ ብሎ መዘርጠጥ ተላላኪዎችንም ሆነ የቢሮ\\nዷፄፊዖቾን ሸብረክ የሚያደርግ ስነ ልቡናዊ ተፅእኖ እንዴ ሆነ ተረድቶ\\n\\n፲ »\\n\\n«ኣጅ ታፈስ አለ?» አላት ፀሀፊዋን ።\\n\\n«አ---አዎን ። ለምን ኖሮአል?»\\n\\n«ጉዳይ አለኝ ።\\n\\n«ቀጠሮ አለዎት?ገ» ን\\n\\nርዌኬሱ ጋር ቀጠሮ አያስፈልገኝም» ብሎአት አልፎአት ሄዶ ቦሩ\\nከክፍቶ ገባ “ ።\\n'},\n",
       " {'page_number': 12,\n",
       "  'text': 'ሀዲስ 11\\n\\nክራሻቱን አላልቶ በሸሚዝ ብቻ ከትልቅ ጠረጴዛ ሁዋላ የተቀመጠ ፤\\n\\' ትከሻው ሰፋ ፥ ደረቱ ነፋ ያለ ፥ ፀጉረ ሉጫ ፤ ፊቴቱን ፈንጣጣ ወጋ ወጋ\\nያደ፤\"ገው ቀይ ወጣት ታየው ።\\n\\nያ የተለመደው፤ «ምን ነበር?» የሚል የቢሮክራቶች ጥያቄ ቀረበለት።\\n\\n«ስራ ፈላጊ ነኝ ።»\\n\\n«ማመልከቻ አስገብተሃል?»\\n\\n«ሳይነበብ ትቅዶ የሚጣል ማመልከቻ ምን ፋይዳ አለው !»\\n\\n«ምን ነው ቁጣ ቁጣ ይልሃል ? የተናደድክ ትመስላለህ ።»\\n\\n«ንዴት ይነሰኝ? ቀለቤ ሆኖአል ።»\\n\\n«እና ፥ አሁን ምን ይሁን ነው የምትለው ?»\\n\\n«ስራ ስጡኝ ነው የምለው ። ሌላ ምን እላለሁ ?»\\n\\n«እንደዚሁ እ ! ደማም ነህ ፤ ብሩ ይሙት» አለው ፤ ቅንድቡን ከፍ\\nአድርጎ ።\\n\\nየታፈሰ ብሩ ድምፅ ለጆሮ ደስ ይላል ። ትናንሽ ዶቃ መሳይ አይኖቼ\\nቁልቭቕዷ ቁልጭ ይላሉ ። ረጅም አፍንጫው ነገር ከሩቅ የሚያሸት\\nይመ =\\n\\n«መቼም ያስተማሪነት ስራ አይጠፋም ብዬ ነው ።»\\n«ይመስልሃል 1!» አለ ፤ ታፈሰ ተቆጥቶ ።\\n«ያስትማሪዎች እጥረት አለ ብዬ ነው ።»\\n\\n«እና ፥ ባንት ቤት ማንም ስራ አጥ ከመንገድ መጥቶ አስተማሪ ሊሆን\\nየሚችል ይመስልሃል እ ?» ብሎ ከመቀመጫው ብድግ አለ ። የትም\\nአልሄደም ። ቆሞም አልቀረም ። ወዲያው ተመልሶ ቁቂጭ አለ ። ጠረጴ\\nጓዛውን በቡጢ ገጨና ፥ «እንዲህ አይነቱን ነገር መስማት ነው የምጠላው ።\\nበእውነት ልቤ ይዶማል ። ትምህርት ቤቶች የስራ አጦች መሰብሰቢያ\\nወይም የቅቕቆልደኞች ጊዜ ማሳለፊያ ቦታ አይደሉም ። ለምንዶደኞች ቦታ\\nየለንም ። ትምህርትች ቤቶቻችን መረማመጃ ድንጋዮች አይደሉም ።\\n“\"ባጣ ባጣ አስተማሪ ሆኘ እኖራለሁ” ብሎ ነገር ያናድዶኛል ። ያሳዝነ\\nኛል» ኣለው ።\\n\\n«አዝናለሁ ስላናዴድክዎት ። ላናድድዎት ወይም ላሳዝንዎት ፈልጌ\\nአይዴደለም ።= ቸግሮኝ ነው. - .»\\n\\n«እሺ አይቆጡ ። ወደ ድኩማን መርጃ እሄዳለሁ» ብሎት ሊሄድ\\nሲል--\\n\\n«ቆይ ። አናደኽኝ የት ልትሄድ ! ደ\\'ሞ አንቱታውን ተወኝ ።\\nብዙም የምንበላለጥ አይመስለኝም» አለው ። በእድሜ\\n\\nሀዲስ መለስ አለ ።\\n\\n«ቁቄቁጭ በል ሠ»\\n\\nሀዲስ ጭ አለ ።\\n\\n«ፈፅም ተስፋ የቆረጥክ ትመስላለህ ።»\\n\\n«ምን ትስፋ አለና !»\\n\\n«እንጭት ፲?»\\n\\n«ወገ”ጋ የሌለው ድሀ ምን ተስፋ አለው ? ምንስ ምርጫ አለው ? የገዛ\\nህይወቱቴ ውጥመዱ ናት።»ቓ\\n'},\n",
       " {'page_number': 13,\n",
       "  'text': 'ጄ6 ሽ\\n\\nትውልድ ጥሎበት ተናዳጅና አመፀኛ ሆነ እንጂ ህ\\nይሀ፺፩፩፪ል ክፉ አይደለችም ። ኢትዮጵያችን ገና ድንግል አገር ፰፲፱፲፲፲፲ት፲\\nየራሳችን ክፉ ጠላትና ባለጋራ እኛው ራሳችን ነኔን --- ሌላ አኣይ\\nብሎት አጭር ግንባሩን አሸና ፥ ደ«ሌመሆኑ ለምንድን ነው ስራ ፻ዎዶላ፲ነትፈ፩\\nገው ? ወጣት ነህ ። ለምን አትማርም?» ብሎ ጠየዯቶው ።\\n\\n«ችግር ገጥሞኝ ነው ።»\\n«ምን አይነት ችግር ?»\\n\\n«ዴካማ አሮጊት እናት አለቕችኝ ። ያለኔ ምርኩዝና ረዳት የላትም .\\nችግርዋን እያየሁ ለመማር አልቻልኩም ። ስለዚህ ባይሆን ላንድ አመት\\nሰርቼ ትንሽ ብረዳት ይሻላል ብዬ ነው» በማለት እቅጩን ነገረው ።\\n\\n«ዶህና ። የትምህርት ማስረጃ ኣለህ ?»\\n\\nሀዲስ\\' ማስረጃውን ከደረቱ ኪስ ውስጥ አውጥጭቶ ሰጠው ። ታፈሰ\\nማስረጃውን በጥንቃቄ ሲመለከተው ቆየና አፍዋጭቶ ፤ \"ጂኒየስ\\' አይደ\\nለህም እንዴ ?» በማለት አደነቀው ።\\n\\n“ን ምን ያደርጋል !»\\n«እንዴት?»\\n\\n«በስድስት መስሪያ ቤቶች ስድስት ፈተና ወስጄ ኣንዱንም ለማለፍ\\nኣልቻልኩም ። በቢሮክራሲ አካባቢ አንድና አንድ ሁለት እንዳልሆነ\\nየተረዳሁት አሁን በቅርብ ነው» አለው ሳይታወቅው ቡጢ ጨጩብጦ።\\n\\nታፈይሰ\\'\"በሳቅ ፈነዳ ። ሲስቅ ከሆዱ ነው የሚስቀው ። ጥርሶቹ እንደ\\nባህር እንቁ ያብለጨልጫሉ ። ጉራማይሌ ትነቅሶአል ። ሳቁን አቆመና ፤\\n«ልክ ነህ ። ቢሮክራሲ የራሱ የሆነ ሎጂክ አለው» እንዳለው ፤* የቢሮው\\nፀሀፊ የዴለቡ ብዙ ፋይሎች ይዛ ስትረገረግ ገባች # ሽቶዋ ክፍሉን አወ\\nደው ። ከሰውነትዋ ጋር ጥብቅ የሚል ቀይ ቀሚስ ለብሳለች ። ፋይ\\nሰፊው ባለመስተዋት ጠረጴዛ ላይ አኖረችና ፊትዋ ላይ መጥቶ ዝርግፍ\\nያለውን <ጅም ፤ ሂና የተቀባ ጠጉርዋን ወደ ላይ መታ አድርጋ ፤ የተኮላ\\nብር የሟመስለውን ትላልቅ አይኖችዋን እያንከባለለችበት ፥ «ቱሾ\\nባለጉዳዮጭ ውጭ ይጠብቃሉ» አለችው ።\\n\\n«እንማን ናቸው?>\\n«አስተማሪዎች ናቸው ።»\\n\\n«ይ.ጠብቁ ምን የሚያስቸኩል ነገር አለ? እና ፣ ዴግሞ ችግር ነ\"\\nእንጂ ሙፍትሄ ይዞልኝ የሚጠብቀኝ የለም ። ስለ ሰው ችግር ማሰብ ሶዕ።\\nችኙቶኛልመጭ በማለት ተነጫነጨባት ።\\n\\nሀዲስን  በአይኖችዋ ገርመም - አድርጋው እየተረገረግች ስትሃድ\\nበአይኖቹቼ ተከተላት ። ጋ\\n\\nሀዲስ እንደ ማፈር ብሎ አንገቱን ዶፋ ።\\n\\nታዶሰ ግንባሩን እያሸ ሲያስብ ቆይቶ ‹ «ላንድ አመት ብቻ ነወ ”\\nራት የምፈልገው አይደለም ያልከኝ ?» ሲል ጠየቀው ።\\n'},\n",
       " {'page_number': 14,\n",
       "  'text': '፩ኻ፹\\n«አምን ።»\\n\\nአንድ ፋይል ከጠረጴዛው መሳቢያ ውስጥ አውጥቶ እያገላበጠ ሲመ\\nለክተው ቆየና * «አዝናለሁ ። አዲሳባ ክፍት ቦታ የለንም ። ግን ጠቅላይ\\nግዛት ለመሄድ የምትፈቅድ ከሆነ ስራ ልሰጥህ እችላለሁ» አልው ።\\n\\nሀዲስ ቅር አለው ።\\n\\n«ምን ነው ከፋህ ?\\n«እዚሁ ባገኝ ደስ ይለኝ ነበር ። እንዳልኩት እናቴ ደካማ ናት. . .»\\n\\n«አታዝላችቸው!» ብሎት ፋይሉን ዘግቶ \\'ከፊቱ ገፋውና ፣ «አዝፔ\\nባዝላት ተቕጠልጥላ ቀረች አሉው በማለት ከተረተበት በሁዋላ ፥ «ወጣ\\nቶች ስንባል ካዲሳባ መውጣት ሞት ይመስለናል ። ያራዳ ሱስ አይለቀንም።\\nአዲሳባ ደግሞ ለሁሉም የሚበቃ ስራ የላትም ። ያሳዝናል ። ሁዑሁሉም እዚሁ\\nመሆን ነው የሚፈልገው ። እዚህ የምታየው ፋይል አብዛኛው የሚቀርበው\\nወደ አዲሳባ አዛውሩን የሚል ጥያቄ ነው ። ገሚሶቹ ደግሞ የተሻለ ደሞዝ ፤\\nሴላ መስሪያ ቤት አኣግኝተናልና ልቀቁን የሚሉ ናቸው ። ትምህርት\\n፰፸ቴር ለሌሎች መስሪያ ቤቶች የሰራተኛ ማሰልጠኛ ሊሆን ምንም\\n\\nረ፲፲ም ፻።ቭ\\n\\n«በክፍተኛ ወጭ በስንት ድካም ያሰለጠንናቸው አስተትማሪዎች\\nለትንሽ ዶደመወዝ ጭማሪ ሙያቸውን ለቀው ሲሄዱ ያሳዝናል ። አስተማሪ\\nነት ክቡር ሙያ ነው ። ከፍተኛ ተጋድሎንና መስዋእትነትን ይጠይቃል ።\\nግን ስለ ሙያው ማንም ደንታ የለውም ።\\n\\n«ይህ “ሴክተር ሪሺው\" እየተባለ የሚወራው ነገር ምንድን ነው 5\\nብሎ ጠየቀፀካሀፉስ\\n\\nደእሱ ? ገና እየተጠና ነው ። ምናልባት ለችግራችን መፍትሄ ሊሆን\\nየሚችለው እሱ ሳይሆን አይቀርም ። ለሁሉሱም የቀለም ትምህርት ሰጥቶ\\nኣይዘለቅም ። የእጅ ሙያ ማስትማር ያስፈልጋል ። ኢትዮጵያ የሚያስፈ\\nልጋት የሚሳራ እጅ ነው» ብሎ*፤የእጅ ሰአቱን ተመለከትና፤ «ኗ«ወዴ ዋናው\\nነገር እንመለስኖ ፤ መሄድ ትፈልጋለህ ? ወይስ አትፈልግም ?» በማለት\\nጠየቀው ።\\n\\n«ለመሆኑ የት ነው የምሄደው ?ው\\n\\nአዲስ ኣሳብ ብልጭ ስላለለት ኣይኖቹን ቁልጭ ቁልጭ አኣድርጎ ፡\\n«እንዲያሙም ፤ እንዲያውም ለምን ሱጴ አትሄድም !??›› አለው ።\\n\\n«ሱጴ ! ምንድን ነው ! የት ነው እሱ ?»\\n\\nጨረቃ ላይ የሚገኙትን ተራሮችና ሸለቆች ስሞች አጥርቶ ያውቃሓ ።\\nሱጴ የሚባል ቦታ መኖሩን ግን ሰምቶ ኣአያውቅም ።\\n\\nሱጴ ሯሮ በኢሉባቦር ጠቅላይ ግዛት ፤ ከነጎሬ በስተሰሜን ፤ ከመቱና\\nከኖጳ ባሻዝር የሶርና የዲሲን ወንዞች ተሻግሮ ከትልቁ ገባ ወንዝ እፋፍ\\nላይ የምጐጭገኝሜ በቡና እርሻና ንማግድ የዴራች ትንሽ ከተማ መሆንዋን ነገ\\nረው ። በዚያው ነገሩን አላቆመም ። ገለፃውን በመቀጠል፤«ሱጴ ያለም\\nዳርቻ የሆሄች ኣአግር አትምሰልህ ። በነገራችን ላይ ፤ ከቡና ሌላ እኔንም\\nያፈራች አግር ናችወ አለው ።\\n'},\n",
       " {'page_number': 15,\n",
       "  'text': '፡ በሽ\\n\\n«እውነት!»\\n\\n«እና ልልክህ ያሰብኩት ሀ ሁ እናኤ.ቢ. ሲ. ዲ ቆጥሬ ወደ አደግ፥\\nሁበት ትምህርት ቤት ነው ።»\\n\\n«እውነት?»\\n\\n«በጣም የቆየ ትምህርት ቤት ነው። አባቴ መሬት ላይ ነው የተሰራው።\\nእልቄ ማርያም ትምህርት ቤት ይባላል ።»\\n\\n«እሄዲለሁ» ኣለ ሀዲስ ።\\n\\n«በጣም ጥሩ ። ደሞዙም ለክፉ አይሰጥም ። ሶስት መቶ አርባ ሰባት\\nብር ይበቃሃል ። እዚያ እንድትሄድ የፈለኩት በደሞዙ ምክንያት ነው ወ\\n\\n«አመሰግናለሁ ።»\\n\\n«ደህኖ ። ስትሄድ ላጎቴ ደብዳቤ ትወስድልኛለህ ። ፊታውራሪ ተካ\\nኤጄርሶ ይባላሉ ። የሱጴ ባላባት ናቸው ። ደንበኛ የጥንት ፊውዳል ቢሆ\\nኑም ጥሩ ሰው ናቸው ። የቀጠሮ ሰአት የማትጠብቅ ከሆነ ወዮልህ ! ይቅ\\nርታ አያደርጉልህም ። ለአይናለምም ትንሽ ስጦታ ትወስድልኛለህ ።»\\n\\n«የፊታውራሬ ተካ ልጅ ናት ። ከእስዋ በቀር ሌላ ልጅ የላቸውም ።\\nእና * እንዶ አይናቸው ብሌን ነው የሚሳሱላት ። ብታያት በጣም ፥* በጣም\\nውብ ፥ እንዲያው እግዜሩ ጥበቡን የጨረሰባት ልጅ ናት ። እንዲያው ምን\\nልበልህ ? ለእግዜር አፍንጫና,አይን ዶስታ ፤ በገነት ውስጥ በታላቅ ጥን\\nቃቄ ተኮትኩታ የለመለመች ለጋ ፅጌ-ረዳ ትመስላለች . . .» ሲለው--\\n\\nሀዲስ በነገሩ መሃል ጣልቃ ገባና ፥ «ባለ ቅኔ ነህ ልበል !» አለው ።\\n\\nታፈስ ተኩራርቶ ደረቱን ነፋና ፤ «ውበትን የሚያደንቅና በውበት\\nየሚደስት ሁሉ ባለ ቅኔ ነው» ብሎት፤ በድጋሚ የእጅ ሰአቱን ተመለከተና፣፡\\n«መቼ ለመሄሯድ ታስባለህ?» ሲል ጠየቀው ።\\n\\n«መቼም ቢሆን ግድ የለኝም ። መጉዋጉዋዣ ካገኘሁ ከነገ ወዲያም\\nቢሆን ለመሯጄድ ዝግጁ ነኝ ።=»\\n\\nጻደህና ። ላቶ ይርጋ አለሙም ደብዳቤ ትወስድልኛለህ ። የትምህርት\\nቤቱ ዲሬክተር ናቸው---ከስብስቴ ጊዜ ጀምሮ ። ግን ተጠንቀቃቸው *\\nየዋዛ ሰው አይደሉም» አለው ።\\n\\n«እንዴት?» -\\n\\n«ባለ መሬትና የቡና ነጋዴ ሆነዋል ። ሆኖም ፤ በትምህርት ቤቱ ሶራ\\n\\nጉዳይ የሚገባባቸውን ሰው አይወዱም ፉት።\\nበተንኮል የሟችላቸው ሰው የለም ።2 ። ድራሹን ነው የሚያጠጦ\\n\\nሌ ን ድደርሰኛል? ባንድ አመት ሊጣሉኝ ቀርቶ ሊያውቁኝም አይ\\n3 ፡\\n\\nየውስጥ ስልክ ተደወለ ።\\n'},\n",
       " {'page_number': 16,\n",
       "  'text': ', ሀዲስ 15\\n- ፣ ሀወዲስ15.\\n\\n«ማን ነው እሱ? . . . አውቃለሀ፡። ግን ከሚኒስትሩ በቀር ሌላ ሰው\\nየደወለ እንዶሆነ አታገናኝኝ ። ስራ ይዣለሁ ። የሚጠብቁኝ ሰዎች አሁ\\nንም አሉ?- . . ምንድን ነው የሚፈልጉት? . . . ለምን አትጠይቂአቸውም!\\nለጌጥ ቢሮዬ በር ላይ የተቀመጥሽ መሰለሽ ! ብድር --- የደሞዝ ጭማሪ ---\\nዝውውር -፦- ስንብት ሊሉኝ ይሆናል ። ለሁሉም ሰው ችግር መፍትሄ የሚ\\nሆን የለኝም 1፻2» ብሎ ስልኩን ጆሮዋ ላይ ዘጋባት ።\\n\\nለሌሎች ባለጉዳዮች ጊዜ እአጥቶ ለኔ ይህን ያህል ጊዜ እንዴት ሲሰ\\nጠኝ ቻለ ? እያለ ሲያስብ ፥ «የት ነበርን ? አዎን ፤ አቶ ጣሴ ደጉ የሚባሉ\\nአስተማሪ አሉ ። አሁንም እዚያው ናቸው ። እጄን ይዘው ኤ.ቢ.ሲ.ዲ. ያስ\\nቆጠሩኝ አስተማሪዬ ናቸው ። በጣም ነው የምወዳቸው ። እንደ እሳቸው\\nለሙያው ፍቅርና አክብሮት ያለው አስተማሪ አይቼ አላውቅም።ትምህር\\nታዊ ፍልስፍናና አስተዳዶር ያጠናሁት ምናልባት በእሳቸው ምክንያት\\nሳይሆን አይቀርም ። ግን ይህን ትምህርት በመውሰዴ ራሴን ስረግም እኖ\\nራለሁ ። እርሻ ወይም ንግድ ባጠና ይሻለኝ ነበር» ብሎ በመስኮት ሩቅ\\nሲመለከት ከቆየ በሁዋላ ፥ «ለማንኛውም ነገር ላቶ ጣሴም ትንሽ ስጦታ\\nትወስድልኛለህ ። ያ ከእጃቸው የማይለየው ጉማሬ ትዝ ይለኛል ። ምናል\\nባት አሁንም በእጃቸው ሳይኖር አይቀርም ። ስንት ሰው ቀጥቶ ያሳደገ\\nጉማሬ መሰለህ ! የሱጴ አድባር ነው ተብሎ የሚመለክበት አንድ ትልቅ\\nወርካ ትምህርት ቤቱ ግቢ አቅራቢያ አለ ። ወርካው ላይ በወጣሁ ቁጥር\\nበዚያ ጉማሬ ይልጡኝ ነበር ። በዚያ ወርካ ምክንያት ብዙ ጊዜ ገርፈው\\nኛል ። አሁን ሳስበው ለምን እንደዶሆነ እኔ እንጃ * ያ ወርካ ያስጠላኛል ።\\nለማንኛውም ነገር ሱጴን እንዴት ነሽ ? በልልኝ ። በተለይም አለም\\nከተፈጠረ ጀጄምሮ ማንም ያልደፈረው ደዶን ስላለኝ እሱንም ሄደህ ጎብኝ\\nልኝ ። እኔም በቅርቡ እዚያው ሳልመጣ አልቀርም» አለው።\\n\\n«እውነት!»ወ\\n\\n«አዎን ፤ ደህና ሁሜ አራዳ ለማለት እያሰብኩ ነው ።»\\n«አንዶኛውን እዚያው ለመኖር?»\\n\\n«አምን ። እዚህ ምን አደርጋለሁ ። የወር ደሞዝ እየጠበቁ መኖር\\nሰልችቶኛል . . . አባቴ መሬት ላይ ያሉት ጭሰኞች ትንሽ ትንሽ ባይጥሉ\\nልኝ ኖሮማ መኖር አኣልችልም ነበር ። ፡\\n\\n«አላኛኞህም በቦሎቄ ሰሞኑን ከትቢያ ተነስተው የማርቸዲስ ጌታ\\nየሆኑትን ? የበሬ ግንባር የምታህል መሬት ያለው ሁሉ ዛሬ የቅዳሜና እሁድ\\nቦሎቄ ገበሬ ሆኖአል ። ነጭ ወርቅ ሆኖአልኮ ቦሎቴ ። ደህና ሁሜ% አራዳ\\nበማለት የክተማ መሬቱንና ቤቱን ሽጦ ወዴዶ አዋሽ ፤ ወደ መቂ ፤ ወደ\\n\\nመኔ ፤ ወደ ውልንጪቲ ፤ ወደ አቲያ ፤ ወደ አለም ጤና ፤ ወደ ሰቲት\\nሁመራ ለመዝመት የማይመኝ የለም ። ሰሲጥም ነጭ ወርቅ ነው።\\n\\n«ቡኖ ደሞ የታወቀ ጥቁር ወርቃችን ነው ። ያንን እያፈስኩ የራሴ\\nጌታ መሆኃ እያለ ከበሰበሰ ቢሮክራሲ ውስጥ እስካሁን በስብሼ መቅረቴ\\nይገርመኛል ። ያራዳ ሱስ ነውኮ እውር አርጎ ያቆየኝ ። ደህና ሁሣና አራዳ\\nብያለሁ ። ጭሰኞች የሚያላግጡበት ሰፊ ያባቴ መሬት ለ ። እዚያው\\nእንገናሜ ይሇናል ።»\\n'},\n",
       " {'page_number': 17,\n",
       "  'text': '16 ሀዲስ\\nኃጣ\\n\\nታፈሰ ብሩ ሚኒስትሩ ቢሮ ባይጠራ ኖሮ ለምሳ ቀርቶ ለ\\nነገሩን የሚቆርጥ አልነበረም ። ከመናገር ብዛት ራሱን ለማሳመን ጥረት\\nየሚያደርግ መስሎት ነበር የታየው---ሀዲስ ። ግን ራሱን ከማሳመን\\nላይ የደረሰ አይመስልም ። ለስንቱ ይህንኑ መልሶ መላልሶ ነግሮ ይሆን ?\\nከታፈስ አንዶደበት ሳያቁዋርጥ የሚናደዴው የተጠና ንግግር እንጂ ሳይታ\\nስብበት በጭውውት መሃል እንዲያው በድንግት የሚሰነዘር ኣአሳብ አል\\nነበረም ። ሀዲስ ፤ «ሎሱጴ ላይ እንደምንገናኝ ተስፋ አለኝ» ብሎት በቀጠሮ\\nተለያዩ ።\\n\\nበዚያኑ ቀን ከሰአት በሁዋላ በቅጠሮው ሰአት ሀዲስ ሲመጣ ታፈሰ\\nብሩ የጠዋቴ ሳቂታና ተጫዋች ሰው ሆኖ አላገኘውም። አኩርፎ ነበር።\\nቢሮውም አብሮት ያኮረፈ ይመስል ቀዝቅዞአል ። አቀርቅሮ ይፅፍ ነበር።\\nሀዲስ እንደ ተነገረው የተቀጠረበትን ደብዳቤ ከፔርሶኔል ክፍል ፥ የሁለት\\nወር ቅድሚያ ደሞዙንና የመጉዋጉዋዣ አበሉን ከሂሳብ ክፍል ወስዶ\\nሲመለስ*ሁለት ያደራ ደብዳቤዎችና በስጦታ ወረቀት የተጠቀለሉ ሁለት\\n\\nየካርቶን ሳጥኖች ሰጠውና ፤ «እኔም ለመሄድ ወስኛለሁ» አለው ፤ ፊቱን\\nጨፍግን ።\\n\\nደከመቼው?»\\n\\n«ባንድ ወር እዚያ ባታየኝ እኔ ወንድ አይዶለሁም» ብሎ ፤ በመስኮት\\nወዶ አራት ኪሎ ሀውልት ተመለከተ ። አገር ሙሉ የቡና እግር ተክል *\\nሜዳ ሙሉ ጥቁር ወርቅ ። «ነፃነት እያለ! ነፃነትን እንካ ብሎ የሚሰጥ\\nማንም የለም ። በትግል ነው ነፃነት የምትገኘው ” ትማግል ደሞ ቆራጥነትን\\nይጠይቃል ፡ ለመሄድ ቆርጫለሁ.። እውነቴን ነው>» አለ ።\\n\\n«እንዲህ የጣደፈህ ምን አዲስ ነግገር መጣ፻»\\n\\n«የማንም ጅል ሚኒስትር ማላገጫ መሆን ሰለቸኝ ። ገረድ እንኩዋንጉ\\nየተሻለ አክብሮት ይሰጣታል ። እንዶ ውሻ ነውኮ የሚያዩን ። ኩቲ ኩቲ\\nሲሉ ጭራችንጋን ስንቆላ እያዩን እነሱስ ምን ያድርጉ ! አይፈረድባቸውም ።\\nስልጣን እውቀት ይመስላቸዋል ። አለ እነሱ አዋቂ የለም ። በነሱ ቤት\\nሁሎም ደንቆሮ ነው ። እኔ ደንቆሮ አይደለሁም ። ጦጣና ጭሰኛ የሚጫወ\\nቱበት ያባቴ ድንግል መሬት እያለ በማንም ስሰደብ ። ለማንም ስሰግድ\\nአልኖርም ። ለመሄድ ቆርጫለሁ ። በቃ ። ይህ የምታየው የነፃነት ሀው\\n\\nልት ምስክሬ ነው ። አንትም ታዘበኝ» ብሎ ከመስኮቱ ላይ ዞር ሲል ሀዲስ\\nለመሄድ ተነጣ ።\\n\\nሀዲስ ለመሄድ ልቡ ቆሞአል ። እናቱን ለማየት በጣም ቸኩሎአል *\\nበግማሽ ልቡ ለእናቱ ምን ይዞ እንደሚሄድ ነበር የሚያስበው።\\n\\n«ማታ ኖት ትገኛለህ?»\\n\\n«ለምን ፈለከኝ?7ጅ\\n\\n«የወጭ ልልህ ነዋ!»\\n\\n«ማታ አይመቸኝም ። የማልቀርበት ቀጠሮ አለኝ» አለው አሁንም\\nለእናቱ የሚመስደውን ነገር እያሰበ ። ቅልጥ ያለ ጮማ ስጋ ታየው።\\n\\n«አይሆኙም የሚል መልስ መስማት አልፈልግም ። ባይሆን መሸት\\nሲል መጥቼ ሕወስድሃለሁ ። አንድ ጉዋደኛዬ ፓርቲ ያዶ፰፰ል ። የጎሬ\\n'},\n",
       " {'page_number': 18,\n",
       "  'text': 'ሀዲስ 17\\n\\nልጅ ነው”። ምን ታስባለህ ። እሺ በል ። ያዲሳባን የምሽት ህይወት ሳታይ\\nብትሄድ የሱጴ አድባር አትቀበልህም> አለው ።\\n\\nእምቢ ሲለው አልቻለም ። አድራሻውን ሰጥቶት ሄደ ። እንዲህ\\nበቀላሉ ከታፈስ ብሩ ጋር መወዳጄጅቱ ያስገርመው ነበር ። ወዳጅነት\\nበፕላን የሚደረግ ነገር አይደለም። ወይም እንደ ታናሽ ወንድሙ አይቶት\\nእንደ ልቡ የሚያናግረው ሰው ፈልጎ ይሆናል ። ምንም ይሁን ምን\\nስራ ስለ ሰጠው በልቡ እያመሰገነው አንዳች የሚያህል የግሮሰሪ እቃና\\nግማሽ ብልት ጮማ ስጋ ይዞ ጫን ጫን እየተነፈሰ ጉለሌ ከእናቱ ደጃፍ\\nሲደርስ ቤቱ እንደ መቃብር ጭር ብሎ ጠበቀው ።\\n\\n«እዚህ ቤት!›» አለ ደንግጦ ።\\n\\nመልስ አላገኘም ። ቤቱ ህይወት ያለበት አይመስልም ። ከው\\nስጥ ምንም ብርሃን  አይታይም ። እንደ ገሃነም ጨልሞአል -- ገሃነም\\nጨለማ ከሆነ ።\\n\\n«እማዬ!» አለ ጮክ ብሎ ።\\n\\nልቡ በሃይል መምታት ጀምሮአል ። ግን በጀርባው ቀዝቃዛ ላብ\\nይወርዳል ።\\n\\nእትዬ በለጡ የሚላቸው የናቱ ጎረቤት ሸክላ መሳይ ፊታቸውን ብቅ\\nአድርገው ፥ «ውይ በሞትኩት አንተ ነህ እንዴ?» አሉት የተሸክከመውን\\nእቃ በሞጭሙዊጫ አይናቸው እየቃኙ ። ።\\n\\n«እማዬ የት አለች?»\\n«አሞአቸው ትኝትዋል።»\\n«ከመቼ ጀጄጀምሮገ»መ\\n\\n«ከጠዋት ጀምሮ ። ልጄን ፤ ልጄን እያሉ አስጨንቀው ነበር ።\\nአንተም አለወትሮህ ጠፍተህ ነው የዋልከው ። ምን አገኘህ?> እያሉ እቃ\\nውን ተቀበሉት ።\\n\\nእትዬ በለጡ ሀሠዲስ በሰጣቸው ገንዘብ እንጨትና ላምባ 0 ክብሪትና\\nየምግብ ዘይት ገዝተው ከተመለሱ ከጥቂት ጊዜ በሁዋላ ፤ ቤቱ ህይወት\\nዘራ ። ቀዝቅቹቸ የነበረው ምድጃ ሞቀ ። እሳቱ ተንቀለቀለ---እንጨቱ እየት\\nንጣጣ ። የህይወት እሳት ይነድ ጀመር ።\\n\\nራት ሲቀርብ እናቱ አጥፍጥፍ ብለው ከተጋደሙበት በግድ ቀና\\nብለው ፥ «ይህ ሁሉ በረከት ከየት መጣ ልጄ?» አሉት ። የሚነደውን እሳት\\nአይተው ፈጋግግ እያሉ ።\\n\\nላንድ ሕመት ትምህርቱን አቁዋርጦ ስራ መያዙን ባጭሩ ሲያጫ\\nውታቸው የጆረቀውን ከንፈራቸውን እየመጠጡ ሲያዳምጡት ከቆዩ በሁ\\nዋላ 06 «ምን ነው ልጄ ምናልኩህ? ላንተ ያለኝ ተስፋ ይህ አልነበረም ።\\nትምህርትህን እንድትጨርስ ነበር የኔ ምኞት ። እግዜር ሲጣላ ብትር አይ\\nቆርጥም ፤ ያደርጋል እንጂ ነገሩ እንዳይጥም» ብለው የቀረበውን ጥሬ ስጋ\\nበትንሹ ቀምሰው ትመልሰው ግድም ። ቢለመኑ ድርቅ ። ሀኪም ቤት ልው\\n'},\n",
       " {'page_number': 19,\n",
       "  'text': \"፡.ሺ. የ ሚ ን\\n\\nሽ ቢላቸው * «እስካሁን በሀኪም አልኖርኩ ። ያኪም ቤት ውስ\\nዴ፤ቼ ድላውቅም ። ቃልቻ ለራሱ አያውቅም አሉ ። ገድሎ ይፎጌኑ፤፤\\nእያለ» ብለው ዝም ። ,\\n\\n«ክረ እባክሽ እማዬ - . » እያለ ቢወተውታቸውም ፤\\n\\n«ምን ነው ብትትወኝ ልጄ ። መንገዴን እያየሁት ነው ። የኔ ነዝር\\nአብቅቶአል ። ይልቅ የመት በለጡን ነገር አዴራ ። አፈር ጠፍጥፋ እንዳት\\nኖር አፈር የተነፈጋት ። አይ የሰው ነገር ። አንድ ቀን ለሚበላን አፈር\\nእንዲህ መስናዓብገብ» እያሉ ፥ ለብዙ ዘመን ከዳሩ ተቀዯምጠው ብዙ ጊዜ\\nከተከዙበት ምድጃ የሚነደውን እሳት እያዬ ትክዝ--ትካዜአቸው እያስ\\nተከዛቸው ሀዲስና እትዬ በለጡም ዝም ። እየቆዬ ፤ «እህህ» ብለው ፥\\n«የበለጡን ነገር ብቻ አደራ» ይሉታል ።\\n\\nእትዬ በለጡ እሳቴቱን እየቆሰቆሱ እንባቸውን በዝምታ ያፈሳሉ ።\\nእትዬ በለጡ በሸክላ ስራ የሚተዳደሩ ነበሩ ። ፊታቸ፣ና፦ ሻክላ ፤ እጃቸው\\nሸክላ ፥ ሰውነታቸው ሸክላ ይመስላል ። ለሸክላ ስራ የኖሚጠቀሙበትን\\nቀይ አፈር ያገኙበት የነበረው መሬት በባላመሬቱ ከታጠረባቸው ቆይቶ\\nአል ። የማንን መሬት ማን ቆፍሮ ይወስዳል ተብለው ፤ ያለባለቤቱ ፈቃድ\\nየቆፈሩትን ቀይ አፈር በማስረጃነት እንዴ ትሸክሙ ወዶ ፖሊስ ጣቢያ\\nየተወሰዱበትም ጊዜ ነበር ። ደግነቱ የአራት ኪሎ ጋዜጠኞች ወሬውን\\nአልደረሱበትም እንጂ ፤ «የሰው መሬት ጨለማን ተገን አድርጋ የምትቆ\\nፍር አመፀኛ ሌባ ትያዘች» የሚል አርእስተ ዜና ባወጡ ነበር ። እና ፤\\nያንድ ሰሞን ቡና መጠጫ ወሬ ሆኖ በከረመ ነበር ። በነፃ የሚገኝ ነፃ ቀይ\\nአፈር ስራ የፈታ እጃቸው እየፈለገ ፤ ነፃ ቀይ አፈር በአይናቸው እየዞረ ፤\\nየቀይ አፈር ሽታ አፍንጫቸው እየናፈቀ ፥ መኖር አይቀርምና ይኖሩታል ፣\\nይሰሩት ኖዋነበረውን የተቃጠለ ሸክላ መስለው ። የተከለከለ ነፃ ቀይ አፈር--\\nየማንን መሬት ማን በነፃ ሊቆፍር? «መሬት የሁሉ ናት ባለቤት የላትም»\\nያለው ማን ነው!!\\n\\nሀዲስ ከእትዬ በለጡ ጋር ፍሙ እየከሰመ ፥ እየበረዴ ከሚሄደው\\nምድጃ ሳላይ እያፈጠጠ * እናቱ ፤ «ኗ«ድሀም አገር አለኝሜኝ ይላል? መቃብርም\\nየለው እቴ ። በህይወት የተፋችው መሬት ሲሞት ምን መቃብር ትሆነዋ\\nለች? እህህ» እያሉ ሲተክዙ አብሮ እየተከዘ እሳቱ ላይ ሲያፈጥ የመኪና\\nጥሩምባ ሲጮህ ሰማ ።\\n\\nእኖቱን በዚህ ሁኔታ ላይ ጥሎ መሄዱን እየጠላ ፥ ከመርካቶ የገሻውን\\n“ዓፍስ ይማር* ሰማያዊ ብሌዘር ኮትና ቡላ ሱሪ ከነጭ ስፖርት ሸሚፕ ጋር\\nለብሶ የማዱን ተነሳ ።\\n\\nበተራርበፀለግ የት ልትሄድ ነው?>» አሉት ፥ እናቱና እመት በለጡ ተራ\\nበ ፡\\n\\n«እንድ ቀጠሮ አለኝ ። ቶሎ እመጣለሁ ። ትንሽ ብቆይም አትስጉ።\\nብሎ ጠጉሩን አበጣጥሮ ወጣ ።\\n\\nታዴሰ ብሩ የመኪናውን በር ከፍቶለት በውስጥ መብራት ብርሜ\\nከቃኘው በሁዋላ « ኗሸክ ብለሃል ። ፉንጋ ሰው ሲለብስ ያምራዶ\\nቆንጆ ሰው ሲለብስ ደግሞ መላክ ይመስሳል ይባላል» አለው “\\n\\n«በንፍስ ይማር መሸክ * እንዲህም አ'ርጎ የለ!»\\n\"},\n",
       " {'page_number': 20,\n",
       "  'text': 'ሀዲስ 18\\n\\nታፈሰ በሞቅታ ፊቱና አይኖቹ ቀልተዋል ። እሱም ነጣ ባለ ልብስ\\nሽክ ብሎ ነበር ። ከክራሻቱ ጋር የሚሄደው ጥቁርና ነጭ መሀረቡ ከደረቱ\\nኪስ ላይ እንደ አበባ ፈንድቶ ይታያል ። የተርከፈከፈው “ኮሎኝ\"* ንብ\\nከሩቅ ይስባል ። ነጭ ፔፔና 504 መኪናውን አስነስቶ በመብራቶቹ ጨለማ\\nውን እየሰነጠቀ ፤ በአርበኞች መንገድ ወደ ፒያሳ ፤ ከፒያሳ በራስ መኮንን\\nድልድይ አድርጎ ወደዶ አራት ኪሎ ፥ ከአራት ኪሎ ወደ ታላቁ ቤተ መንግ\\nስት የሚወስጆዶውን መንገድ ይዞ በፊት በር ወደ ካዛ ኢንቺስ በመብረር ፥\\nራስ ሙሉጌታ ሰፈር ሲደርስ በመብራቶች ነዶ ከጦፈ አንድ ትልቅ ቪላ\\nቤት አጠገብ ሲደርስ ፤ ቦታ መርጦ መኪናውን ቀጥ አደረጋት ። ሀዲስ\\nበእፎይታ ተኝፈሰ ። ከመኪናዋ ወርደው ተያይዘው ወደ ቤቱ ሲያመሩ ፤\\n\\n«የምን ፓርቲ ነው?» ብሎ ጠየቀው ።\\n«ያለማዊ ደስታ ህይወት ።»\\n«ማለቴ ምክንያቱ ምንድን ነው?»\\n\\n«ፓርቲ ለማድረግ ምን ምክንያት ያስፈልጋል? ህይወት ነው ምክ\\nንያቱ ። ካለህ ከወዳጆችህ ጋር መደሰት ነው --- በቃ ። ደስታ የተሰጠ\\nሳይሆን ራስክዩ የምትፈጥረው ነገር ነው ። አይደለም እንዴ? ያሁኑ የዩኒቨሸ\\nርሲቲ ተማሮች “መሬት ላራሹ!\\'\" እያላችሁ ከመጮህ በቀር ሌላ ነገር\\nአታውቁም . . . አይዞህ ግባ» ብሎት በሩን ከፈተለት ።\\n\\nቤቱ ውስጥ ያለው ሞቃት አየር በጥፊ መታው ። ከሲጃራ ጢስ\\nጋር ውስብስቡ የወጣ የሽቶ አይነት አፍንጫውን ወጋው ። ሙዚቃው\\nጆሮውን ጠጤልዘው ። ድብዝዝ ብሎ\\' በሚታየው መብራት ብዙ ወንዶችና\\nሴቶች ወልሉ ላይ ይደንሳሉ ። ሀሆዲስ አይኖቼን በሃይል ከፈተ ።.መብራቱ\\nአንዳንዴ እንደ ርችት ልዬ ልዩ ቀለማት እየረጨ ብልጭ ድርግም በማለት\\nአይን ላይ ይፈነዳል ። ሴ“ጥጭና ወንዶች በሙሺቃ ስልት እየተመሩ ይወዛ\\nወዛሉ ። አቴንዳንዶቹ ደግሞ ተቃቅፈው እግሮቻቸውን በማቆላለፍ ንቅናቄ\\nያስነካሉ ። ሌሎቹ ደግሞ የበረሃ ዛር ከነፈረሱ መጥቶ ላያቸው ላይ የተ\\nጫነ ይመስል አዶ ክበሬ ይወርዳሉ ። ምሱን አጥቶ የተቆጣ ዛር! ቤቢ...\\nቤቢ ዋው !-መብራቱ ድንገት ቦግ አለ።\\n\\n«ታዲያስ የእብድ አለም አይደለም?» አለው ታፈሰ፤ምግቡን ለመያዝ\\nእንዳሰፌሰፌ ንስር አይኖቹን ወዲህና ወዲያ እያማተረ ።\\n\\n«ይመ ስላልጋ» አለ ሀዲስ ሰውነቱ እየተሸማቀቀ ። ከባህር የወጣ አሳ\\nመስሎ ነበርፎ ።\\n\\n«ካልዝባህበት ጤነኛ አትሆንም ። አይሾህ ፤ ዘና በል ። በግድ ክብረ-\\n\\'ፅህናህን ዊሚገስብሀ የለም . . » ሲለው ፥ አንድ በጣም ረጅም ኖሆነ\\n‹ባይም ራሱ በራ ሰው ወደ እነሱ መጣ ።\\n\\nከሀዲስ ጋር አስተዋወቃቸው ። ጋባዣቸው ነበር ።\\n\\n«ጻ““መሬት ላራሹ!\\' ከሚሉት ውስጥ አንዱ ነው ። ታውቅ የለም የዩኒ\\n፤፲ርሲቲ ተማሪዎችን መንፈስ! --- ተናዳጅና አመፀኛ ትውልድጋ አለ\\n\\'ፌሰ ”\\n\\n«እንዴት እንደምንይዘው ካወቅንበት ጤናማ መንፈስ ነው» ብሎ\\nጤፃፅ፡ሪብፄፀጎጪረገና፲፲ህይፀትዘሙክርየለፆ፲\\n'},\n",
       " {'page_number': 21,\n",
       "  'text': '29 ሀ ሌ\\n\\nቱ ዘመን \\'ሪሾሎሽነሪ\" ያልሆነ ሰው ጤነኛ አይደለም።ከክ\\n።ሮፀጣትት፲፯ሁየላ፲ በዚሁ ከቀጠለ ደዶግሞ ሞኝ መሆን አለበት ፲የለወ፬ኣ፩፰\\nነበር]» ብሎ ጋባ የዴራሲውን ስም ለማስታወስ ሲሞክር--\\n\\n« ነው ። ዣን ፓል ሳርትር» አለ ሀዲስ ።\\n\\n፬፡፯፲ነ፭፲ት፲፶፲ ።ብዙ ታነባለህ መሰለኝ?ቓ»\\n\\nጻ መፃፍ ትራሱ\" ነው የቅፅል ስሜ ።»\\n\\n«ኤስተማሪ ሆኖ ሱጴኤ ሊሄድ ነው> ፦፦ ታፈስፅ ነበር ።\\n\\n«እውነት ! ዲግሪህን ተቀብለሃል?»\\n\\n«ገና ሁለት አመት ይቀቅረኛል ።»\\n\\nኗ ለምን?...»\\n\\n፡፭፸፮ያተመራ ተልእኮውን ሊፈፅም ነው» አለ ታፈስሰ እየሳቀ ።\\n«ሲቀልድ ነው» በማለት ሀዲስ ትተትቃውሞውን አሰማ ።\\n\\n«ሎጴን ምን አስመረጠህ?» ሲል ጋባዝዣ ጠየቀው ።\\n\\n«እኔ ነኝ የመረጥኩለት ። ባይሆን ሱጴ አንድ ጂኒየስ አስተማሪ ይገ\\nባታል በማለት. ..»\\n\\n«መቼ ነው የጎሳ ስሜት የሚለቅህ ?» አለ ጋባጭ ።\\n«የንጉስ ነገስቱ መንማስት ያንድ ጎሳ ሞኖፖል መሆኑ ሲቀር ።»\\n«ይህ ምላስህ ነውጐ ጠላትህ !»\\n\\n«ማን ግድ አለው! ደኔን ሸጨ መኖር አያቅተኝም ። ሄዴን እንጠጣ »\\nና> ብሎት ሀዲስን ይዞ መጠጥ ወዳለበት ጄሄዱ ።\\n\\nየተዶረዶረው መጠጥ አይነት ኣይን ያሰክራል ። የጥሬ አይነት በኩ .\\nንታል ክትክመረበት ክፍል ውስጥ ገብታ አንድ የወዶቀች ፍሬ የምትመለ\\nክት አይጥ ይመስል ፤ ሀዲስ ቢራ መርጦ ያዘ ። ታፈሰ በበኩሉ ግማሽ\\nብርጭቆ ዴረቅ ውስኪ ለራሱ ክቀዳ በሁዋላ * ጉዋል የሚያካክሉ በረዶዎች\\nጨምሮበት ብርጭቆውን እጁ ውስጥ እየናጠ ባይኑ ማደዶን ጀጄመረ ። ክፍሉ፤\\nእንደዴ በጋ ወራት ክዋክብት በሚያበሩ ጌጣጌጦችና እንዶ ምሽት ጀምበር\\nኣአይን በ”፲2ማርኩ ቀሚሶች ነዶው ባሸበረቁ ቆንጆ ሴቶች ተሞልቶአል ።\\nእንዲያው የገነት ተክሎች---ምርጥ የገነት በለሶች መስለው ይታያሉ *\\nሻንቃጣ “ሸንጣቸው ፥* የኮራው ዳሌያቸው * ጉረኛ ጡታቸው ፤ ክሩቅ የሜ\\n\\nጣራው ኤይናቸው ፤ የሚያስነመጀው ራበና\\nየተጠማ ይመስላል ። ጆው ከክንፈራቸው ፤ ለህይወት የት\\n\\n«ኤጭ 1 ምሽቱ ቀዝቅ እንዶ\\nመበሳጨት ብሎ ። ሾአል ። ህይወት የለውም» አለ ታፈስ *\\n\\n«ከጪህ የበለጠ፭ ምን ይሁን 1፡\\n\\n«ምኑን አይተህ ! ገና አልዶራም\\n\\nተዴሰት ። እዚህ የም\\nፍፊሬዎች እዚ ታያቸው ሴቶች\\n\\n። እዚሁ ቆመህ አታፍጥ ። ሂድና\\n\\nሁሉ ለመ ተዘጋጁ የጎመሩ\\n» ብሎት ጥሎት ሄዴ ። ው ው\\n\\nመጠጭ በያይነቱ እንዶ ውሀ ይቀዳል ው እንዴ ጡዋፍ\\n፰፲ቀጣጠላል 6 ይጤሳል ። የ8ቶ መኤዛ ያለፀ፡ ያ፤ነ፥፤ፃራሲጃራ የሚመበዶ\\nገፎ የሚቋጤሱም ወንዶችና ሴቶች ነበሩ።ጤነኞች አይመስሎም “ 5\\n'},\n",
       " {'page_number': 22,\n",
       "  'text': 'ሀዲስ 21\\n\\nየሆነ ጣፋጭ ህልም የሚያዩ መስለው ነበር የሚታዩት ። አይን ተከፍቶ\\nህልም የሚታይበት አለም ! ከሬዲዮ ግራማፎኑ በሚመነጨው ሙዚቃ\\nሳይሆን ከውስጣቸው በሚፈልቀው ልዩ ጣእመ ሙዚቃ ነበር የሚዴን\\nሱት ። እውነትም ምሽቱ እየገፋ ሲሄድ ፓርቲው እየጋለና እየጦፈ ይመጣ\\nጀመር ። መብራቱም በይበልጥ እየተዥጎረጎረ ይሄድ ነበር - ሙዚቃ\\nውም እየናረ --- ዳንሱም ጨርሶ ገሀድ ወሲባዊ ንቅናቄ እየሆነ ። በሚዶ\\nንሱት ሰዎች መሃል አልፎ ሄዶ አንድ ጥግ ይዞ ቆመ ። የሴቶቹ ጠረን አንድ\\nየሆነ ስሜት ቀሰቀሰበት ።\\n\\n«ና እንደንስ» አለችው ፥ አንድ ረዘም ያለች ሴት ከየት መጣች ሳይ\\nባል ፥ ድንግት ከጨለማ ውስጥ ብቅ ብላ ።\\n\\n«በደስታ» ብሎ ፤ ወደ ዳንሱ ወለል ይዞአት ሄዴ ።\\n\\nሽቶዋ ያሳብዳል ። ወገብዋ ጭብጥ አይሞላም ። እጅዋ እንደ ሀር\\nእየለሰለሰ ይቀዘቅዛል ። የእሱ እጅ ግን አልቦት ነበር ።\\n\\n«ከቅድም ጀምሬ ሳይህ ነበር...»\\nረርጨውነትሀ አላት ፤ የራሱን ንቅናቄ ከእስዋ ጋር ለማስተካከል እየ\\n።\\n\\n«ለመታዘብ የመጣህ ትመስላለህ» ብላ ፤ ከዘፋኙ ጋር ለመዝፈን\\nስትጀምር ---\\n\\n«ህይወትን ክዳር ቆሞ አይታዘቡም ። ይኖሩታል እንጂ» አላት ።\\n\\n«ከዚህ በፊት አይቼህ አላውቅም ። ከውጭ ነው የመጣኸው?»ጅ\\nብላ ፤ ደረቴ ላይ ተለጠፈችበት ።\\n\\n«የለም ። ከዚሁ ነኝ» አለ ፤ ሽቶዋን በሀሴት እየሳበ ።\\n«ሎካል ነህ ገ1%\\n\\n«ሎካል ማለት ?>»\\n\\n«አራዳ ..>›\\n\\n«አይጆለሁም “»\\n\\n«ባትልም ታስታውቃለህ ።»\\n\\n«እንጭዴት ?»\\n\\n«አራዳ አራዳ አትሸትም» ብላው የባሰውኑ ተለጠፈኝበት ።\\n\\n«አራዳ ምን ምን ይሸታል?» ብሎ ጠየቃት ፤ ጀርባውን ቀዝቃዛ\\nላብ እያሰመጠው “\\n\\n«የኦ ዶ ኮሎኝ --- የብብት ስፕራ ሽታ ፤ አለ አይደለም ? እሉ እሱን\\nይሸታል መ»\\n«እና ፤-እኔስ?!» አላት ሰውነቱ ተሸማቆ ።\\n\\n«ተፌጥሮአዊ የወንድ ጠረን --- ደስ ይላል» ብላው አንገቱ ስር\\nሽጉጥ አሌች ።\\n\\nመብራቱ ቦግ አለ ። መብራቱን ረገመው።እንዳጋጣሚ ሆኖ ታፈሰ\\n\\nከሌላ ሴት ጋር ከጎኑ ይደንስ ኖሮ ፤ «ደህና ይዘሃል ጃል ። ኣራዳ ኖ«ሃል\\nለካ »» አሌሺው በተገማመደ ምላስ ። ፡\\n'},\n",
       " {'page_number': 23,\n",
       "  'text': 'ገ6 ቄደ.... በከከከከ ከ --ጮቨኢ8ስ\\n\\n«አሳን በማጥመድ ሃዋርያትን ዱሮውንም ማን አክሎ ! አለዬ\\nመለስና ።\\n\\n«በለስ አቅምሺው» አላት አብራው ስትዶንስ የነበረችውን ልጅ .\\nየጠይም ቆንጆ ናት ።\\n\\n«እንደ አዳም ምኔ ሞኝ» ብሎ ቀለደበት ።\\n\\nዋ መጣሁ ብላው ጥላው ሄደች ። ሶስት አራት ዳንሶች አለፉ።\\nተመልላሳ አልመጣችም ። ጥጉ ቆሞ ቢራ እየጨለጠ ጠበቃት ። እጁ ላይ\\nየተወችውን የሽቶ መአዛ አሸተተ ። እየዞረ ይፈልጋት ጀሙር ። የትም አል\\nነበረችም። ፍኛው በሽንት ተወጥሮ ሊሲፈነዳ ስለ ደረሰ ልጅትዋን ትቶ\\nሽንት ቤት ፍለጋ ገባ ። አንዱን በር ሞከረ ። ተቆልፎ ነበር ። ሁለተኛውን\\nከፈት አድርጎ ዝው ብሎ ሲገባ መኝታ ቤት ሆኖ አገኘው ። መብራቴ\\nበርቶ ነበር ። አልጋው ላይ ጋባዝንና የጠፋችበትን ልጅ ኣየ ። ደንግጦ\\nበሩን ወዶ ሁዋላው ወርውሮ ወጣ።ቀስ ብሎ የመጣበትን መንገድ በመፈ\\nለግ ወደሚደነስበት ክፍል በመመለስ ታፈሰን ፤ «ቤት መሄድ እፈልጋለሁ»\\nአለው ።\\n\\n«ለምን ? ኮረዳይቱ ገሰፀችህ !»\\n\\n«ተነስተህ ትወስዶኝ እንጆዶሁ ውሰዶኝ ። አለዚያ ራሴ እጄሄዳለሁ !»\\nብሎት ወደዶ በሩ ሲያመራ ታፈሰ እየተንገዳገዴዶ ትከክችሎት መጣና ፤ «ምን\\nሆነሃል ? ምሽቱ.ገና ለጋ ነው ። ቆይና አብረን እንሄዳለን» አሕለው ፤ ሚዛ\\nኑን ለመጠበቅ እግሮቼቹን አንፈራጦ ቆሞ ። ,\\n\\n«እዚህ ቤት ጣራ ስር የሚካሄሂደዶው ብልግና በቅቶኛል ። እንሂድ !»\\nአለ በንዴት ።\\n\\nታፌዴስ ቀጥ ብሎ ለመቆም እየሞከረ ፤ «ቅድም ካንቺ ጋር የነበረችው\\nልጅ የት አለች]» ብሎ ጠየቀው ።\\n\\n«እጉዋደዶደኛህ ኣቶ ሰሎሞን መኝታ ላይ ነች 1»\\n«በዘዚህ ተናደህ ነው ለመሄድ የፈለከው ?»\\n«አይዶለም ።»ጅ\\n\\n«እህሳ ? ታዲያ ለምን ?»\\n\\n«ብልግናው በቅቶኛል !»\\n\\n«ምፍናልባት በልጅትዋ ቀንተህ ይሆናል ። ግ ለብሀ የተኛ\\nችው ረዳት ሚሜኒስትርና “የቦሎቄ ንጉስ* ከሆነ ቕውንጋ፪፺፡፲ያ፲ በ\\n\\nላይ ያለችው ከገንዘብና ከስልጣን ጋር ነው ። ነፍስ ይማር ኮትሀን እንድት\\nዴርብልህ ትመኝተህ ኖሮአል 1 ንፁህ ፍቅር የሚባል ነግር የለም ፆ\\n'},\n",
       " {'page_number': 24,\n",
       "  'text': 'ሠዲስ 23\\n\\nእውነትኛው ኤለም.-ነው ። የዬኒቨርሲቲ \\'ካምፐስ\\' አይዶለም --- ዳገትና\\nቁልቁለሌት የሌለበት ። አንተ ብሎ ታዛቢ ! አንተ ብሎ የምግባር ዳኛ ! አለ\\nምን እንድታይ ነበር ያመጣሁህ ። በ\"*ውነቱ ለምን እንዳመጣሁህም አላ\\nውቅም ፡ ለኔ.ብለህ እንደሆነ ገደዶል ግባ !»\\n\\nሀዲስን ንዴት ተናነቀው፡ ። ዘሎ ታፈሰን ለማነቅ ዳዳው ። ንዴቱን\\nእንደ-\\'ምንም ዯቆጣጥሮ ፤ «ይህን ርካሽ ፥* የበሰበሰና የገማ ህይወት ፥ እንደ\\nጥሩ ነገር ቆጥራችሁት ፤ እንደ ስልጣኔ አይታችሁት ፥ የህይወት ጠብታ --\\nጭማቂ በማለት ዋጋ የምትሰጡት ከሆነ በእውነት ያሳዝናል ። በህልም\\nአለም ውስጥ ነው የምትኖሩት ማለት ነው፡። አትቸገር ። በእግሬ እሄዳለሁ ።\\n\\nስላደረክልኝ እርዳታና የልብህንም ገልጠህ ስላጫወትከኝ አመሰግናለሁ»\\nብሎት ወጣ ።\\n\\n«ሂድና በምድረ በዳ “መሬት ላራሹ” እያልክ ጩህ !» አለው-፦-ታፈሰ።\\n\\nእኩለ ሌሊት አልፎ ነበር ። በጨለማ እየተዴደናበረ መንገዱን ቀጠሰ ።\\nጅቦች ይጮሃሉ ። ውሾችም ይጮሃሉ ። ጨረቃም ሆነች ከዋክብት ፈፅሞ\\nየማይታዩበት እልም ፥ ድፍን ያለ ሌሊት ነበር ። እጁን አሸተተ ። ሽቶው\\nገና ከእጁ ላይ አልጠፋም ። አፈር ዘግኖ-እጆቹን አሸበትና ጨለማው ላይ\\nበተነው። ያዴር ሽታ ። ከሁዋላው እየከነፈ የሚመጣው መኪና በመብራት\\nብርሃን አጥለቀለቀው ። ቶሎ ብሎ የመንገዱን ጠርዝ ያዘ ። መኪናው አጠ\\nገቡ ሲደርስ ሲጥጥ ብሎ ቆመ ፡ በሩ ትከፈትለት ። ታፈፊሰ ነበር ።\\n\\n«ግባ”። አስኮናኝ»\\n\\nሀዲስ ዝም ብሎት መንገዱን ቀጠለ ። ታፈሰ በሩን እንዶ ከፈት በመ\\nኪናው ተከተለውና ፤ «እሺ ይቅርታ ። ግትር አትሁን ። ግባ» አለው።\\n\\nሀዲስ ጠጉሩን ቆፈር ቆፈር አደረገና መኪናው ሳይ ትሳፈረ ።\\n\\n«ተናዶደህሀህብኛል?»\\n«ከንዴት ጋር ትላምጃለሰሁ ። የእለት ቀለቤ ነው ።»\\n\\n«ዴደስታ ምን እንደሆነ ማወቅ ያለብህ ይመስለኛል ። ገና ወጣት ነህ ።\\nንዴት ፤ ህይወትን የምንመለከትበት መነፅር መሆን የለበትም ።»\\n\\nከዚያ በሁዋላ አልተነጋገሩም ። ሁለቱም በየራሳቸው አሳብ ትጥው\\n\\nጠው ነበር ። ሀዲስ ህልም አልባ የሆነ ሌሊት ነበር ያሳለፈው ። ማታ\\nካየው የበለጠ ምን ህልም ሊያይ!\\n\\nእናቱ መይዘሮ እልፍነሽ ጡዋት ንቄ ሆነው አገኛቸው። ክባድ የእን\\nቅልፍ ድካም የለቀቃቸው እንጂ ታሞ የከረመ ሰው አይመስሉም ።\\n\\n«እማም የተሻለሽ ትመስያለሽ» አላቸው ፤ ደስ ብሎት ።\\n\\n«ደህኖ ነኝ ። አታስብ ። ብሞትም የማሳስብህ ነገር የለኝም ። ራሴን\\nችዬ ነው ዮምሄደው ።»\\n\\n«እንዴት እማዬ ?\\n\\nኣ\\nኔ\\n'},\n",
       " {'page_number': 25,\n",
       "  'text': 'ኪ ደ..በከከከ ሽ\\n\\nኗ ቦ የሚቀብረኝ ጥሩ የድሀ እድር አለኝ ። ካፌ እየነጠኩ\\nድር ፀ፲፵፰፶፲፲ነ ስ፡፰፬ል የኖርኩት ለምን መሰለህ ? ቀባሬ እንዳላጣ ነው .\\nለመቃብር ቦታዬም ማንንም አላሳስብም ። ሰንበቴዬ ማለሰፊያ ቦታ ይሰጠ\\nተባብረው ያቀርባሉ ። ከዚህም ሌላ ሰንበቴዬ ሶስት መቶ ብር ለወራሺ\\nይስጣል ። ማንንም አላሳስብም ። የሬሳ መኪናም ጭምር የሚያቀርቡት\\n\\n«ከሞትሽ ደብረ ሊባኖስ ወስዴን እንቅበርሽ ብለውኝ ነበር ። ግን\\nለምን ፲፮፲፲ፃ፲ ! ለምን ሰው ላስቸግር ? ለምንስ ካባትህ ልለይ ? ምንም አልቀ\\nረኝ። ተዘጋጅቻለሁ ። ሞት እንዴት ሰውን ይቀድማል? ኽረ ኤዲያ ! ሞትን\\nየሚያክል እንግዳ ተዘጋጅቶ መጠበቅ ነው እንጂ» ኢያሉ ሲያጫውቱቴት\\nአዲስ ነገር አልሆነበትም ።\\n\\n«በሰው ልጅ ላይ ጥላውን እያንዣበበ ዝንተ አለም የሚኖርን ፥ ጥሞትን\\nየሚያክል ትልቅ እንግዳ ተዘጋጅቶ መጠበቅ እጣ ፈንታችን ነው ልጄ ።\\nሰው ሞኙ ግን ሞትችን የሚያክል እንግዳ አንድ ቀን የሚመጣበት መሆኑን\\nዘንግቶ ይፈነጥዛል ። ሞት ያለ አይመስለውም ። ጥላ የሌለው ብርሃን ያለ\\nይመስል ። ወንድም በወንድሙ ላይ መጨጩከን ። ሲጠግቡ እንደ በቅሎ\\nይቱ ሰማዩን መርገጥ ። ሰውኮ ሞኝ ነው ። ህይወት ታሞኘዋለች ። ሞት\\nእንዴት ይስቅብን ይሆን ?» ይሉት ነበር ከእድር ልቅሶ ወይም ከሰንበቴ\\nሰበካ በትመለሱ ወይም ለእድር ወይም ለሰንበቴ የሚከፍሉት ገንዘብ\\nአጥተው በተቸኛገሩ ቁጥር ። ኑሮአቸውን የሚያማርሩበት ጊዜ ቢኖር ለእ\\nድር ወይም ለሰንበቴ የሚከፍሉት ገንዘብ ባጡ ጊዜ ብቻ ነበር ። የሰንበቴ\\nፅዋ ቤታቸው ገብታ እስክትወጣ ድረስ እንቅልፍ እንዴዶ ልብ አይተኙም ።\\nባጠቃሏላይ አይናቸው ከሞት ጥላ ርቆ አያውቅም ። ለርሳቸው ህይወት\\nማለት ለሞት የሚደረግ የአንድ ረጅም ጉዞ ፍትሃት ዝግጅት ነበር ። ወዶ\\nመቃብር የሚያደርጉትን ጉዞ ማዘጋጀት ብቻ ሳይሆን ወዶ መንግስተ\\nሰማያት የሚያስገባቸውንም የይለፍ ወረቀት ሳይዙ የቀሩ አይመስሉም ።\\n\\nገድሎ የማይፎክረው እሱ ያውቅ የለ! ምናቸው ሞኝ --- ሞት እንዳይስቅ\\nባቸው ንዓዋ !\\n\\nጤናቸው አላሰጋውም ። ሀዲስ ደስ ብሎት ተስፋው እያንሰራራ ሶዕ\\nጉዞው ሃነበር ሲያስብ የዋለው ። ምሽት ላይ እጁን ስመው ፥ ኗየእ ዋጋ\\nገቃ፲ነ፰ጣጋ በማለት መርቀውት ደከመኝ ብለው ጋደም - - ትንሽ ቆይተው\\n#\\n\\nሞት ለማንም አይቀርም ። ዞሮ ሬት ግን\\nትምህርን ጨርሶ ወግ ማእረግ ሳያጩሡጉጩ እጅግ በጣም\\nአዘነ።እጣሳቸውም እሱ ትምህርቱን ጨርሶ ለማየት በጣም ይጉዋጉ ቦ?\\n'},\n",
       " {'page_number': 26,\n",
       "  'text': 'ሀዲስ 25\\n\\nከእሱ የሚፈልጉት ነገር ባይኖርም ። እናቴ ከሞተች ለምን ትምህርቴን\\nአቁዋርጣለሁ ? የሚል አሳብ ቢመጣበትም ፤ በሌላ በኩል ደግሞ ይህን\\nየማይረሳ ሀዘን ይፔ እንዴት ልማር እችላለሁ? አሳቤም እሺ ብሎ አይሰ\\nበሰብልኝም ። ከእናቴ መቃብር ርቄ መሄድ አለብኝ።ጊዜና ርቀት የማይ\\nሽረው ቁስል የለም በማለት ከራሱ ጋር ይሙዋገት ነበር ። ግን ውሳኔ\\nላይ ሊደርስ አልቻለም ። በቅድሚያ ከተቀበለው የሁለት ወር ደመወዙ\\nውስጥ ግማሹን  ለእናቱ ቀብር ያጠፋው መሆኑ ትዝ ያለው\\nቆይቶ ነበር ። ሄዶ ያን ያህል እምነት የጣለበትን የታፈሰ ብሩን\\nፊት እንደገና ለማየት አልፈለገም ። ያጠፋውን ገንዘብ ተክቶ ሄዶ ገቢ\\nለማድረግ አቅቶት አይደለም ። አንዳንድ የቤት እቃ ቢሸጥ ያጠፋውን\\nገንዘብ እጥፍ ሊያገኝ ይችል ነበር ። ግን የሙዋች እናቱን እቃ የመሸጥ\\nአሳብ ህሊናውን እንደ ጦር ወጋው ። እትዬ በለጡንስ ምን አደርጋቸዋለሁ?\\nአለ ። ከእናቱ ሌላ ደጋፊና ረዳት አልነበራቸውም ። በመሄዱ ድንገት\\nቆረጠ ። ጀርባውን ለአዲስ አበባ ፤ ፊቱን ለሱጴ ሰጥቶ ተነሳ...\\n'},\n",
       " {'page_number': 27,\n",
       "  'text': 'ክፍል ፪\\n\\nበአይሮፕላን ካዲሳባ ጎሬ ፤ ከጎፊ በበራሪ ሊሲዮንቺና መቱ ፥ ከ\\nበኪራይ በቅሎ ወደ ሱጴ ተጉዋዘ ። ከበቅሎዋ ጌታ ጋር ፤ ፈልሰስ እያለ\\nበርጋታ የሚወርደውን ከመቱ ግርጌ ያለውን የሶርን ወንዝ አቁዋርጠ ,\\nአሸዋማውን የኖጳን ከተማ ሰንጥቆ አልፎ፤ ብርማዋን የዲሲን ጅረት ተሻ\\nግሮ ሲያቆለቁል፤ታላቁ የገባ ወንዝ ፉዋፉዋቴ እንደ ደራሽ ነጎድጉዋዳዊ\\nዝናብ ከሩቅ እያስተጋባና ከዝንተ አለም ጀምሮ የፀሀይን ብርሃን አሻፈረዛ\\nብሎ የኖረውን ጥቅጥቅ ያለ ደን የምፅአት ቀን ቁዋንቁዋ እያናገረ ልቡን\\nያሸብረው ጀመር ።\\n\\n. ዙሪያውን በከበበው ጥቁር አረንጉዋዴ ደንና ጥቄር ድንግል መሬት\\nውበትና ሀመልማላዊ ልምላሜ አይኑ ተጭበረበረ ። ቀዝቃዛው ንፁህ\\nአየር ሳምባውን አሳበጠው ። የጥቁር ድንግል መሬት ሽታ --- የጥቁር\\nአረንጉዋዴ ድንግል ይን ሽታ -- አለም ስትፈጠር የተርከፈከፈ ሽቶ ።\\nውበቱ አስከረው -- ሀዲስን ።\\n\\nከገባ ወንዝ ሲደርስ ድልድዩ ላሳይ ቆም ብሎ ከሰማይ እምብርት\\nቁልቁቄል እየተናደና አረፋ እየደፈቀ የሚወርደውን ፉዋፉዋቴ ባድናቆት\\nተመለከተ ። ፉዋፉዋቴው አረፋ እየደፈቀ ቁልቁል ሲናድ ፤ ቀስተ ደመና\\nዎችሸማኔ እንደ ዘረጋው ድር ከወንዙ ወለል ጥልቀት ውስጥ ወደ ላይ ይወ\\nረወራሉ ። እና * ድልድዩን ተሻገረ ። የገባን ዳገት ከበቅሎው ጋር ቡዋጦ\\nወጥቶ አፋፍ ላይ ሲደርስ የገባን ሸለቆ መለስ ብሎ በምሽት ጀምበር ባየ\\n\\nጊዜ ልቡ በውበት ተመሰጠ ። መሬቱ ባልበገሬነት ወደ ሰማይ ሲንጠ\\nታየው ።\\n\\n.\\n\\nበምሽት ጀምበር-በሰንበተ ጉዳ ሱጴ ደረሰ። ከመድረሱ ይልቅ በተ -\\nስፋ መጉዋዝ ይሻል ይሆን ? ሳይሻል አይቀርም አለ ። ድካም ፤ የሚሞ\\nረሙር ራብና የሚያቃጥል ጥማት ተሰማው ። የደከመ ሰውነቱን ሌሊቱን\\nየት እንደሚያሳርፍም አላወቀም ። የበቅሎዋ ጌታ እንዳመለከተው ወዶ\\nትምህርት ቤቱ በቀጥታ አመራ ። ከትምህርት ቤቱ ደርሶ ከበቅሎዋ ሲወ\\nርድ ኮርቻ- መቀመጥ ያልለመደው ጭኑ ቆጠቆጠው ።\\n\\nየትምህርት ቤቱ ምድረ ግቢ ሰው ሊውጥ በሚችል ሙጃና የመስቀል\\nአበባ 4ሙጦአል ። ዘሞ የሚታየው የትምህርት ቤቱ ህንፃ ጋጣ ቢሆ?\\nእንጂ የትምህርት ቤት መልክ ፈፅሞ አይታይበትም ። ካንድ አጠና ሳይ\\nእንደ ተሰቀለች የተረሳች የተበጣጠሰች ባንዲራ ንፋስ ያንገላታታል «\\nምን ቀፅም እንደ ነበራት አይታወቅም። የሚያውቀው አረንጉዋዴ፤።ጫሜና\\nቀይ ቀለም በእርግጥ አልነበረም ። ትምህርት ቤቱም ምን ቀለም እገዴፔ\\nቀባ አይታወቅም ። የሰው ዘር በአካባቢውአይታይም ።ምድረ ግባቧጦን\\n\\nእንኩዋን የብዙ ተማሪዎች ቀርቶ ያንድም ተማ ሪ እግር ሮጦበት\\n'},\n",
       " {'page_number': 28,\n",
       "  'text': \"ሀዲስ 27\\nስ .ቢሒል፦፡......6.---668\\n\\nአይመስልም ። ላንድ አመት ይቅርና ላንድ ሳምንትም እዚህ የመቆየት\\nአሳቡ ከስሩ ሲናድ ተሰማው ።\\n\\nከብዙ ጊዜ ጀምሮ ትረስቶ የኖረ ትምህርት ቤት ቢሆንስ ? ልቡ ድን\\nገት ሰመጠ ።\\n\\nጀርባው የጎበጠ እንደ ትምህርት ቤቱ ያረጀ አንድ አይና ሰው\\nእህል ውሀ የማያሰኝ ቆመጥ ይዞ አንከስ አንከስ እያለ ካንድ ጨለማ ክፍል\\nማህፀን ውስጥ ብቅ ሲል ሀዲስ ዶነገጠ ። ሰውዬውን የተከተለው ጠብደል\\nጅራተ ጉንድሽ ፤ ጆሮ ቆራጣ ጥቁር ውሻ አስፈራው ። ወደ ሁዋላው\\nእንዴ ማፈማፈግ እያለ ፤ «እዚህ ነው የሚሰሩት?» ይለዋል ፤ አይኖቹን\\nከውሻው ላይ ሳይነቅል ።\\n\\n«ቨዘበኛ' ነኝ ።»\\n«ትምህርት ቤቱ አልተከፈተም እንዴ ?»\\n«ወንዞኮች ገና መቼ ጎደሉና የ፻»\\n\\n. ትምህርት ቤት ከመከፈቱ ከመስከረም 38 ቀን 1965 ዓ. ም. በፊት\\nድረስ ነበር የተባለው ። በናቱ ሞት ምክንያት መድረስ የነበረበትን ቀን\\nበአስር ቅን አሳልፎ ነበር የመጣው። ልብ ከገዛ በሁዋላ ሀዲስ እየተገረመ ፤\\n“ታዲያ መቼ ይከፈታል!» ይለዋል--ዝበኛውን ።\\n\\n«መልካዎች መጉደል ሲጀምሩ ነዋ ።»\\n\\nበልቡ ፥ ተአምር አያልቅም ብሎ › «ዲሬክተሩን የት ላገኛቸው እችል\\nይሆን?» ይለዋል። -\\n\\n«አቶ ይርጋን ?»\\n«አዎን ፥ አቶ ይርጋ አለሙን 1?»\\n«ወዶዴ መቱ ለስራ ጉዳይ ወጥተዋል ።»\\n\\nተአምር አያልቅም ፤ አለ ። ሌሊቱን የት እንደሚያሳልፍ በጣም ይጨ\\nንቀው ጀመር ። ከትምህር።- ቤቱ አንድ ክፍል ውስጥ ወይንም በረንዳ\\nላይ የማደፍ አሳብ የሚያንቀጠቅጥ ብርድ-በሰራ አካላቱቴ ሰደደበት ። በያ\\nዘው ያደራ ደብዳቤ አሳቦ ፊታውራሪ ተትካ ቤት በዚያን ሰአት መሄድ ፈፅሞ\\nአልታይ ኢለው። ቀኑን ሙሉ ተጉዞ ማደርያ ማጣት ። ህይወት አክ እንትፍ\\nብላ ተፍታ ያወጣችው መሰለው።\\n\\n«አቶ ጣሴ ደጉ የሚባሉትስ ?» - ; ።\\n«እሳቸውም የሉም ። ለኮርስ እንዶ ሄዱ አልተመለሱም ።»\\n«አልቤርጎ ይገኛል?» ፡\\n\\n«ማዶ. ከወይዘሮ ዝናሽ ቡና ቤት ቢጠይቁ ምናልባት ። ሌላ አልቤርጎ\\nየለም ”ሠ»\\n\\nየበቅሎዋ ጌታ መሽቶበት ለመሄድ ቢቸኩልም የወይዘሮ ዝናሽን\\nቡና ቤት ሊያሳየው ፈቃደኛ ነበር ። የበቅሎዋ ጌታ መርዳሳ ጅሩ በሱጴ\\nየማያውቀሙ ቦታና የሰው ስም አልነበረም ። በቅሎዋሦ ብትሆን መሪ\\nአያስፈልጋትም ። መንገድን እየመረጠች የመሄድ ችሎታዋ ሀዲስን ሳያስ\\nገርመው ኤልቀረም ። ወደ ዝናሽ ቡና ቤት ሲያመሩ ፤ «አንተስ የት ታድራ\\nለህ?» ይለዋል * እሱ ራሱ የት እንደሚያድር ገና ሳያውቅ ። እንደ ሥከውነቱ\\nከሆነ ሊለዊው አልፈለገም ።\\n\"},\n",
       " {'page_number': 29,\n",
       "  'text': '28 ሀዲስ\\nጫ\\n\\n«ዘመድ አለኝ ። እዚያ አድሬ ጠዋት ሰው ካገኘሁ ወደ መቴ እመለ\\nሳለሁ ። በበጋው ወራት በየቀኑ ነው የምመላለሰው ።»\\n\\n«እውነት 1?»\\n\\n«በህፃንነቴ ነው ካባቴ ጋር ከመቱ ሱጴ ፡ ከሱጴ መቱ መመላለስ የጀ\\nመርኩት ። ከሃያ አመት በላይ ሆኖኛል በዚሁ መንግድ ስመላለስ...»ኤ\\n\\n«እውነት;አ፲» --- ተአምር አያልቅም እያለ በልቡ ።\\n«ይሄው መንገድ ነው እንጀራዬ ።»\\n\\nመርዳሳ ነጠላውን ከራሱ ላይ ጣል አድርጎ ፤ ከትከሻው ላይ ከተጋደ\\nመው ሽመል ላይ ሁለቱንም እጆቹን ሰቅሎ ከበቅሎዋ እኩል ያለ ምንም\\nድካም ከጎኑ እንዴት ይራመድ እንደ ነበር ሀዲስ በመገረም እያስታወሰ ፡\\n«ግብርና ኣሕይሻልም ነበር ?» ይለዋል ። ያንን መንገድ ሁሉ አቁዋርጠው\\nሲመጡ ፤ መርዳሳ ላንዳፍታ ቆም ይል የነበረው በተወሰኑ ቦታዎች ከም\\nንጭ ውሀ ለመጎንጨት ብቻ ነበር ። ምናልባት ላለፉት ሃያ አመታት\\nውሀ በእጁ እያፈሰ ሲጎነጭባቸው የቆዩ ምንጮች ሳይሆኑ አይቀሩም ።\\n\\n«መሬት ከየት መጥቶ?ጅ\\nፍይኽ ሁሉ መሬት እያለ !»\\n\\n«ሁሉም ባለቤት አለጦግው #-.-አባቴ በጭሰኛነት ለብኹዙ ዘመን\\nከክኖረበት መሬት በመነቀሉ ,ነው ለዚህ ስራ ዳርጎኝ የሞተው ። አሁንማ\\nጭሰኛ የሟፈልግ ባለመሬትም የለ...»\\n\\n«ለምን ?\\n\\n«አዝሩ እንደሚያዩት የቡና መሬት ነው ። ባለመሬት የተባለ -ሁሉ\\nጭሰኛን እያባረረ ሰፊ የቡና ነ፲፭፯ርሻ፲ ማልማት ጀምሮአል ። በዚህ ላይ ደሞ\\nየባለመሬትና ጭሰኛ ግንኙነት አዋጅ ይወጣል የሚል ጭምጭምታ ከተ\\nሰማ ወዲህ ፥ ጭሰኛን ነቅሎ ያላባረረ ባለ መሬት በውርርድ አይገኝም . - »”\\n\\nሀዲልስ የታፈሰ ብሩን አላመ እያስታወሰ ፤ «የተነቀሉት ጭሰኞች-ምን-\\nይሆናሉ ታዲያ ?» ይለዋል “\\n\\n«ምን ይሆናሉ ? እግዜር እንዳደረጋቸው ሆነው ከመኖር ሌላ ። አቤት\\nቧቢሉ ማን ሰምቶ? ፍርድ የለ ። ወደ ኩሊነት መግባት ነዋ ። ሌላ ምን ይሆ\\nናሉ ? እጋዲያው መንክከራተት ነው---ከቦታ ቦታ ፥ ካገር አገር ። ትንከራ\\nተች ያላዥች ነፍስ እስክትወጣ ድረስ ታንከክራትታለች--ጌታው »\\n\\nሀዲስ ሌላ ጥያቄ አላከለም ። ዝም ብሎ ወደ ዝናሽ ቤት ሲያዘግም *\\nየገጠሪቱ ኢትዮጵያን እልፍ አእላፍ ከርታታ ስራዊት --- ቀን የጨለመ\\nበት የሰው መንጋ --- ሲንከራተት ውሎ ማደሪያ ያጣ ሰራዊት --- የማይሰማ\\nጩኸት ፤ ዋይታ --- የደፈረሰ ምንጭ --- ከስሩ የተናጋ ህይወት --- ዶራኾ\\nቁጡ ጅራሬት በአይነ ህሊናው ይመጣበት ነበር ።\\n\\nከዝዣሽ ቡና ቤት ሲደርሱ መርዳሳ ቤቱን አሳይቶት * ምንም ቸ\\nሳያጠፋ ተለናበተውና በቅሉውን በልጉዋምዋ እየሳበ ከጨለማ አብራክ\\nውስጥ ገብበቶቶ ጠፋ ። ማደርያ ያግኝ አያግኝ ትንሽ ቆይቶ እንኩዋን ለማ\\nደንታ አባጣሳየውም ። «ምን አይነቱ ሰው ነው ? ግን ቢቆይስ ምን\\n'},\n",
       " {'page_number': 30,\n",
       "  'text': \". ሀዲስ 29\\nልኝ ልለው ኖሮአል ?» እያለ ፤ በአለም የነበረችውን ንብረት በሙሉ በት\\nንሽ ሻንጣው እንዳንጠለጠለ ከዝናሽ ቡና ቤት ሲገባ ቤቱ ውስጥ የነበሩት\\nዷሟሼጩ የጆውቁት እንግዳ ሰው ከጨለማ ወ፪፲፲ ፲፰፲ክት ለኚ፲፰\\n\\n' ጉድ መጣ ? በማለት ሳይሆን አይቀርም ፤ ሁ\\nበማሾ ብርሃን አፈጠጡበት ። '\\n\\nከእግር እስከ ራሱ የሚያማትሩት ኖች እረፍት እየነሱት ፤ «አል\\nቤርጎ ነበር የምፈልገው» ፤ነገእያፄፀ ም\\n\\nሻሽዋን የገርዳሳ አስራ ካንድ የመቶ አለቃ ፖሊስ አጠገብ ቁጭ\\nብላ ውስኪ በመለኪያ ትጎነጭ የነበረችው ጠይም ሴት ፤ የወርቅ ጥርስዋን\\nብልጭ አዴረገኝችበትና ፤ «እዚህ አገር አልቤርጎ የት ይገኛል ? እንግዳ ነህ\\nመሰለኝ» አለችውና ከት ብላ ሳቀች ።\\n\\nጠርሙስ ውስኪ ካግዳሚ ጠረጴዛ ላይ ከፊታቸው ቆሞአል ።\\n\\nእንዶዚህ ያሳቃት ነገር ባይገባውም ፤ በማላውቀው አገር የጅብ ራት\\nልሆን ነው ? በማለት እድሉን እየረገመ ፤ «ላገሩ እንግዳ ነኝ ። አሁን ከመሸ\\nነው ከቪህ ኖዋዶደረስኩት» ይላታል ።\\n\\n«ከየት ?» ብላ አሁንም ከት ብላ ትስቃለች ።\\nየሳቅ በሽታ ይዞአታል ይህች ሴት ? እያለ «ካዲሳባ» ይላታል ።\\n\\nከባንኮኒው ሁዋላ የቆመችው ቀይ ዳማ ወጣት ብጤ ሴት ትላልቅ\\nአይኖችዋንጉ ትተክልበታለች ። ጠብመንጃ የያዙ ሌሎች ሁለት ፖሊሶች\\nከመቶ አለሙቃውና ከሴትዮዋ ራቅ ብለው ካንዱ ጥግ ተቀምጠው እየተንሾ\\nካሾኩ ውስ ኪ ይጠጣሉ ።\\n\\n«ውይ በሞትኩት ? ካዲሳባ ከፀሀይዋ ከተማ ?»\\n\\nእንዴት ነሽ ውቤቢ ?\\n\\nየልጅኝት ልቤ. ።\\n\\nእንዴት ነሽ በረሃ?\\n\\nስንቱ” ያየንበት የሌትዋ ፍስሃ ።\\nእንዴት ነሽ በሉልኝ ያቺን ውቤ ሰፈር\\nየታኖየ>ኃባትን የዳንኪራ መንደር ።\\n\\n«እንድ ሰራ አይገድል ። ምን ነው ፤ ለስራ ?» ብላ እንዶገና ከት ብላ\\nትስቃለች ። ፡\\n\\n«ላስትጭማሪነት ነው የመጣሁት ።»\\n\\n«እዚፎሯው ሱጴ ?»\\n\\n«አዎ3 ፤ ላንድ አመት ።»\\n\\nከባንኮኒው ሁዋላ የቆመችው ወጣት ይበልጥ ታተኩርበታለች ።\\n\\n«ውይ በሞትኩት ! ታዲያ አልቤርጎ የለ ።»\\n\\n«ምን ይሻለኝ ይሆን ታዲያ ?»\\n\\n«የማታ እንግዳ ተመለስ አይባል ። ሽታዬ ፤ ለዛሬ ሌሊት እንደ ምንም\\nተቸግረሽ መኝታሽን ብትሰጭው “» ፦- ከፍ ካለ ማስካካት ጋር ።\\n\\nከሽታዬ ክብ ፊት ላይ ሞቅ ካለ ፈገግታ ሌላ መልስ አልነበረም ።\\n\\nትላልቅ ውብ አይኖችዋ አሁን በርሱ ላይ ሳይሆን በሱ አ።ጻ=ኳይነጐጉ ደብናሄ\\nከሌለው ከሩቅ ተስፋ ላይ ያረፉ ይመስላሉ ። ከፖሊሱ አጠጉበ ተቀምጣ\\n\"},\n",
       " {'page_number': 31,\n",
       "  'text': '30 ሀዲስ\\n\\nጩ\\n\\nየነበረችው ሴት ፤ «መገን ውቤ በረሃ ፲፲፲፲፲፲ጎ አንቺ ሆዬ» ብሳ ተወርውራ\\nድንገት በመነሳት አንዴ ካስካካች በሁዋላ ፥ ከእህል በረንዳ ያመለጠ\\nኩንታል የሚመስል ሰውነትዋን እያወዛወዘች ዳንኪራውንም ጭምር\\nበአይነት እያስነካችው--\\n\\n«በሎ ዳኑብ ዋልትዝ... በሉታንጐ..-.ሩምባ..--\\nማምቦ . ..ቻቻቻቻ. .. በጊውጊ- . - ሳምባ\\n\\n‹ሮኩክ---አን--ሮል › - - ካሊፕሶ . . . ማሪንጌና . . . ኮንጋ\\nረግጠንበት ነበር ጀምበሪቱ ጠልቃ ሌቱ አስኪነጋ -\\n\\nዶደጃች ውቤ ስፈር እንዴት ነሽ በዝና\\nየቀጉ ቀን ሽልቤ የለሊትዋ ፋና\\nየነዝናሽ መንደር የፍቅር ጎዳና\\n\\nበሉልኝ በሞቴ ። ውቤ በረሃ መገን አንቺ ሆዬ» ብላ ፤ ላንዳፍታ ቆም\\nበማለት ከንፈርዋን በሀዘን ከመጠጠች በሁዋላ ፤ «እንዶ ሰራ አይገድል ።\\nለመሆኑ አኣሁን እንዴት ናት ?» ትሌዋለች።\\n\\n«ማ> ?»\\n\\n«ውቤ በረሃ 17» ብላው ፤ ግራ መጋባቱን በማየት ፤ «የውቢ በረሃን\\nዘመን የዴረስክበት አትመስልም ። እንዳንተ ያሉ ሎጋ ወጣቶች ድንግል\\nናቸውን ሞዊስውበት ፤ ደሞዛቸውን የከሰከሱበት » መሬት ሸጠው ብር የመነ\\nዘሩበች የሞቀ የፍቅር መንደር ነበር ። ጎረምሳ የጠፋበት ወላጅና ዘመድ\\nየዋተተበት --- ፍቅር የያዘው በሬ ፤ ጭድ ካየ ሳምንቱ ዛይ---አይ ዘመን ።\\nአያልፍ ዮየለም ። እንደዴ ሰራ አይገድል አሉ ። የውቤ በረሃ መድን ያልወጣ\\nለት ጎረምሳ ምኑን ጎረምሳ ይባል ነበር?\\n\\n«ታዲያኮ እውነተኛ ፍቅር ነበር በኛ ጊዜ ።”\" ዛሬማ የጉልት ገበያ\\nሆኖአል ሄ»ገሩ ሁሉ ። ሙክት ፤ ሽንጥ ፤ ገረወይና ቅቤ በጉዋዳ እየገባ ወር\\nሁለት ወር ደጅ ካልትተጠና እንዴት ተደርጎ ? “ስንት ነው? ነይ !” ማለት!?\\nአበስኩ ገ በርኩ ። ምን ሲደረግ ! የማንን ቅምጥ ማን ወንድ ደፍሮ ሊነካዥ፦\\nጉድ ይፈዳታል እንጂ። እሱዋም ብትሆን አዩኝ አላዩኝ ብላ ካልሆነ በቀር\\nየት ልትዝባ ። ጌታው በበር * ውሽማ በጉዋዳ ። .\\n\\n«እሙነተኛ ፍቅር ነበርኮ --- የሻቫሬውን አያድርገውና ። ደሞ የምን\\nማፈር ! ጭቅር ያሳፍራል እንዴ ? ውቤ በረሃ በሙሉ የእገሊት የእገሊት\\nቤት በሚል ነበር የተከፋፈለው ። የዝናሽ ቤት እንዳልትባለ ሁሉ ። አሁን\\nንፋስ ስሔክ እንደሚታየው ሻይኪንግስ ፤ ፍሎሪዳ ፤ አሜልፊ ፤ ቤርሙዳ ፤\\nሀኖይ የመባል ነገር አልነበረም ። በስማችን ነበር ። የምን ማፈር ? አናፍ\\nርበትም ሄበር ። አይ ጊዜ። አያልፍ የለም። እንደዴ ሰራ አይገድል» በማለት\\nየውቤ በፎሃ ትዝታዋን ስትደረድርለት ቆይታ ፤ «ሆይ ሆይ ባል አለሽ ወይ?\\nሸበላይ ገዳዬ ሚስት አለችህ ወይ ። እንዲህ . . . እንዲያ ያዴርገን ነቦር\\nየበረሃው ቆሌ - . . የበረሃው ዛር ። ምሱ ፍቅር ነበር» ካለችው በሁዋሳ *\\n\\n«ያሁኑ ጄጂንስ እንዴት ነው?» ትለዋለች ።\\n«ልኣጧሚውሙቀቱቀውሙውምጮ ዉ5\\n'},\n",
       " {'page_number': 32,\n",
       "  'text': 'ሀዲስ 31\\n- ፡ ሽ 31\\n\\n«እንዶ ባህር ውስጥ ቄጠማ መወዛወዝ ፥« እንዳበዶ ሰው ባዶ አየር\\nመቡዋጠጥ ፤ ዛር እንደ ያዘው ሰው አንገት ማሽከርከር ነው አሉ ። እስቲ\\nአሳየኝ በሞቴ ።»\\n\\n«እውነት አላውቅበትም ።»\\n\\n«የዘመኑ ልጆች የምታውቁት ፖለቲካ ብቻ ነው---ጡጦ ከጣላችሁበት\\nቆን ጀምሮ ። አይደለም እንዴ?»\\n\\n«ሰው እንደዴ ጊዜው አይደል የሚኖረውና የሚያስበው ?» በማለት\\nከማጉተምተም ሌላ መልስ አልነበረውም ። የመቶ አለቃው ሲጃራውን\\nእየማገ በጢሱ ውስጥ ተጠራጣሪ ትላልቅ አይኖቹን አሻግሮ ሀዲስን ከማ\\nየት ሌላ ችንፋሽ አይወጣውም ነበር ። የዝናሽ ትዝታና ጭፈራም አዲስ\\nነገር ሆኖ የታየው አይመስልም ። ለሁሉም አዲስ ነገር መስሎ አልታያ\\nቸውም ። ዝናሽ እንዴ ልማድዋ አንዴ አስካክታ በሚቀጥለው ደቂቃ ዝም\\nብላ ቀረች ። ትንሽ ቆይታ ስትስቅ እንባዋ ኮለል እያለ ይወርድ ነበር ። የወ\\nረዴው ውስኪ ገና አልተገባደደም ። ምሽቱ ገና ለጋ ነበር--ምናልባት\\nለሱጴ ውድቅት ቢሆንም ። ሀዲስ ጎኑን ማሳረፍ በጣም አምሮት ውስጥ\\nውስጡን ሲቁነጠነጥ ፤ ዝናሽ ፥ «ዩእንደ ሰራ አይገድል» ብላ ፤ መለኪያዋን\\nአንስታ ጨለጠችና ፤ «ውይ በሞትኩት ። ኖር ማለትም እኮ ያባት ነው ።\\nካዲሳባ የመጣ ወጣት ሳይ የበረሃው ዛር ይቀሰቀስብኛል» አለች ።\\n\\n«መከረኛው ልብሽ አላረጅ እያለ ነው» አላት የመቶ አለቃው ።\\n\\nቀልዱ አልጣማትም “። እርጅና የሚባለውን ነገር ስትሰማ እንዶ\\nእሬት የሚመራት ይመስል ፊትዋን ኮስተር አደረገች ። ሀዲስ ጎኑን ማሳ\\nረፍ እንዳማረው ሳይወድ በግድ ወንበር ላይ ቁጭ አለ ። ፖሊሱ ፥፡ «የመቶ\\nአለቃ አሽኔ እባላለሁ» ብሎት ከተዋወተው በሁዋላ ሲጃራ አውጥቶ ጋበ\\n።ው።\\n\\n«አላጤጨስም።»\\nውስኪ ጋበዘው።\\n«ውስኪ አልጠጣም።»\\n\\n«ውቤ በረሃ የስንቱን ጀዱ አይነጥላ እንገልጥለት ነበር ። ያዲሳባ\\nወጣት ትምህርት ቤት ነበርኮ ውቤ በረሃ ። የኛ ቅኝት ያልሆነ ማን ነበር ?\\nአሁን እንዳንተ ;.የማያጨሰውና የማይጠጣው ከጥቂት ሳምንት በኋላ\\nኣይ የመለኪያ አያያዝ--፡አይ የሲጃራ አያያዝ ቄንጥ ። ነበር እንዲህ ቅርብ ?\\nእንዴ ሰራ አይገድል» ብላ ሩቅ ስትመለከት አሳቡ አብሮአት ሄዴ ።\\n\\nስሜትዋ መስተዋት ጥርት ብሎ ታየው ። አሁን ያለችበት ጊዜ\\nፀነሙአይሰ፭፲፰፰፲፲ፀዴጡ፻፲ሂባል ነገር ባሳብዋ ውስጥ ያለ አይመ\\nስልም ። ህልውናዋ የትናንቱ--ያለፈው ጊዜ ትውስታ ብቻ ነበር ። የት\\nናንቱን የነ/ያይወት እሳት ፍም ከምትሞቅበት ከትውስታዋ ምድጃ ዳር ቁጭ\\nብላ ታየችው---ያለፈ የትናንቱ ህይወት-ኖዯትናንቱ እሳት---የዛሬ ትውስታ ።\\n'},\n",
       " {'page_number': 33,\n",
       "  'text': '32 ሀዲስ\\n\\nጪ\\n\\nየሰው ትውስታጵ---ያንዳንዱ ሰው ከትውስታው ምድጃ ዳር ተቀም\\nየራሱንልሀጅልም ሲያልም---እንዶ ዝናሽ ። አሳዘነችው ። . ፡\\n\\nየመቶ አለቃ አሽኔ ውስኪውን ባንድ ትንፋሽ ጨለጠና ሲጃራውን\\nማግ ፥ ቡልቅ አድርጎ በጢሱ ውስጥ ሀዲስን በተጠራጣሪ ጎረጥ አይናቼ\\nእያየው ፤ «የዛሬውን ወጣቶች ባታውቂያቸው ነው ። ካይን ይቀድማሉ «\\nበነገር ወፍ ከሰማይ ያወርዳሉ ። በኛ ጊዜ ምን ነገር እናውቅ ነበር ? ከሲ\\nጃራ አቅም አዩን አላዩን እያልን ነበር ተደብቀን የምናጤሰው ።\\n\\n«የዛሬምዎቹ ጫት ሲቅሙና ሀሺሽ ሲያጤሱ ነው የሚያድሩት ። መጠ\\nጣቸው ደሞ ምን መሰላችሁ ? ቀንዶ አረቄ ወይም ባሮንስ (ጂን) ከጫት\\nጭማቂ ፤ ክፈላ ቡናና ቪኖ ጋር በትንሽ ስኩዋር ይደባለቅና ያንን ከባልዲ\\nውስጥ እየጨለፉ፤\\'ለውጥ.- . . ለውጥ - . . መሬት ላራሹ\" ሲሉ ነው የሚ\\nያድሩት ። የምን ጥናት ? የምን ትምህርት? . . » ከማለቱ » ከሩቅ የሴት\\nጩኸት ጨለማውን እየሰነጠቀ መሰማት ይጀምራል ።\\n\\n«እየዬ» አለች ዝናሽ፤ «ያቺ የፈረዶባት ያኪም የሺጥላ ሚስት ነች ።\\n“ምን ነው ትደበድባታለህ?\\'\" ብለው ምናለኝ መሰላችሁ? *አልፎ አልፎ\\nክርን ካላቆመስኩዋት የጠላሁዋት እየመሰላት ንትርክ ትጀምራኛለች\"\\nአለኝ ። እውነትም ከዱላው በሁዋላ ሰምና ጨርቅ ነው የሚሆኑት ። ገላ\\nጋይም ይህን አውቆ ነው መስለኝ ብቅ አይልላትም ።»\\n\\nየመዱ አለቃ ጆሮውን አቁሞ ጩኽኸቱን እያዳመጠ ፤ «አዎን ፥፤ ሀኪም\\nለሁሉም ችግር መፍትሄ አያጣም ። ለንትርክ ክርን ፤ በሽታ ለተባለ ነገር\\nሁሉ መርፌ ። አይ ሀኪም የሺጥላ !» ብሎ ራሱን ነቅ ነቆ ዝም አለ ።\\n\\nሀዲስ የሴትዮዋ ጩኸት ጋብ እስከሚልበት ድረስ ጠብቆ ፥ በማን\\nሚስት ማን ያገባዋል ? የሚል ግምት እየወሰደ ፥ «ወጣቱን እንዲህ የሚያ\\nዴርገው ነግር ምን ይመስልዎታል !» ብሎ ሲጠይቀው ፥---\\n\\nመቶ አለቃ ምንም ሳያመነታ ፥ «ጥጋብ ። ስድነት ። ጨርሶ መረ2\\nመውጣት ። ሌላ ምናለ !» ሲለው -፡---\\n\\n«የተስፋ መቁረጥ ምልክት አይመስልዎትም ?» ይለዋል መልሶ ።\\n\\n«ይበቤላሉ ። ይጠጣሉ ። ገነት ከሚመሳስሉ ትምህርት ቤቶች ውስጥ\\n፭፲፩ነ፸፲፪ሉ ። ጥጋብ ነው። ምን ያድርጉ ። የምን ተስፋ መቁረጥ ? ጥጋብ\\n. » ».3ጅ\\n\\n«አምን ፤ እነሱን የቸገራቸው ነገር ላይኖር ል...»\\n\\n«ታዲያስ ?» ሆጠ\\n\\n«ለሙጥ እንዲመጣ የሚፈልጉት ለራሳቸው አይደለም ማለቴ ነው ”\\n«ለማን ነው ታዲያ ፻%\\n\\n«ለህዝቡ ።»\\n\\n«የት ለሚያውቁት ህዝብ ! በሀሺሽ የሰከረ ናላ ምን ህዝብ * የትኛወጋ\\nህዝብ ነው የሚያውቀው ? በሀሺሽ ልቦና ቲዎሪ እያነበነቡ ለውጥ ማ፰፤\\nእብደት ሄው እንጂ ሌላ አይደለም ። የትኛውን የሙጀሌ መንቀያ መ\\n'},\n",
       " {'page_number': 34,\n",
       "  'text': 'ሀዲስ 33\\n\\nሰርተው ያሳፍትን ህዝብ ነው ለውጥ የሚሉት 7?» ብሎ ፤ ነገሩን ንዴት\\nበተቀላቀለበት ቁጭት በመቀጠል ፡ «አየህ ወንድም. . - ማን ነበረ ያል\\nከኝ ስምህ ? አዎን ሀዲስ . . . ይቅርታ አቶ ስላላልኩህ ወጣት ነህ ብዬ\\nነው። አየህ ፡ የጉትምህርት ቡት ውጫጮች ትምህርታቸውን ትተው ፖለቲ\\nክኞችና ዳኞች የሆኑበትን፡ መግዛት ያለባቸው ባለስልጣኖች የሚፈሩበትን፣\\nመገዛት ያለባቸው ዶግሞ በእብሪት ትከሻቸውን የሚያሳዩበትንና ብሄራዊ\\nህሊናችን የመንደር አሉባልታ የሆነበትን ሁኔታ ለመቀበል አኣልችልም ።\\nዲሲፕሊን ያስፈልጋል ። ህግና ዲስፕሊን ለማስከበር ነው የቆምኩት ።\\nሙያዬም ነው . . .» ብሎ ነገሩን ሳይጨርስ ፤ ሀዲስ ያቁዋርጠውና ፤\\n«አዎን ፤ ልክ ኖት ። ካነጋገርዎ እንዴ ገባኝ ገገርው መግዛት ፤ ተገዢው\\nመገዛት ካቃታቸው ደረጃ ላይ ደርሰዋል ። ታዲያ ለዚህ መፍትሄው ምን\\nየሚሆን ይመስልዎታል?› ይለዋል ።\\n\\n«ዲስፕሊን ። ከብረት የጠነከረ ዲስፕሊንና ሞራል ። ባገሪቱ ምግባር\\nየሚባል ነገር ጠፍቶአል ። ዲስፕሊን የለም ። እነዚህ ከሌሉ ምን አገር ‹\\nምን ህዝብ አለ ለማለት ይቻላል?»\\n\\nሀዲስ በመቶ አለቃው አሳብ አልተስማማም ። መፍትሄው ያንድ\\nአምባ -ገነን መነሳት ፣ ወይም የጥቂት ሰማእታት መፈጠር ነው ሊለው\\nአስቦ ያሰበሙን አሳብ መልሶ ዋጠው ። ፍየል ከመድረስዋ ቅጠል መበጠ\\n. ስዋ አለ ። ሱጴዴጴን ከመርገጡ ዘሎ ከፖለቲካዊ ክርክር ውስጥ መግባት አሁን\\nምን ይባላል ? ተናግሮ የሚያናግር ሰይጣናዊ ተንኩዋሽ ቢሆንስ ? *መላ\\nእክት ዝር ከማይሉባት ስፍራ ሞኞች ዘው ብለው ይገባሉ\"\\' ይባላል ። ያበ\\nራሽን ጠባላሳ ያየ በእሳት አይጫወትም ይሉ ነበር እናቱ . . . ያውም የኢት\\nዮጵያ ችግር መባ:ችሄ ዲሲፕሊን ነው ብሎ ከሚያምን ፖሊስ ጋር. . . ባፍ\\nይጠፉ በለፈለፉ ። ስንቱ እንዴ ወጣ ቀረ የገባበት ሳይታወቅ ? በዩሂቨርሲቲ\\nምድረ ግቢ ኖእሳት ላንቃ የነበረ ፤ ስንቱ ስራ በገባ ማግስት ለጋ ቅቤ እንዳ\\nላሱት ህፃን አንደበቱ ለዝቦ ቀረ ? እና ፤ ቢሆንም ፖለቲካ . . . ፖለቲካዊ\\nክርክር በየዶረሱበት . - . መለኪያ አንስተው ባስቀመጡ ቁጥር . . . ፖለቲ\\nካዛዊ ክርክር ከሰላምታ በፊት ። የምንተነፍሰው አየር ፖለቷቲካ ፤የምናልመው\\nህልም ፖለጧዉካ ። ግን የሚገርመው ነገር ማንም ምንም አያዶርግም ። ቁና\\nሙሉ መፍትሄ--ቅንጣት ያህል ተግባራዊ ርምጃ የለም ። መስዋእት\\nመሆን እንዶሚያስፈልግ ሁሉም አፉን ሞልቶ ይናገራል ። ግን ለመስዋእ\\nትነት አንገቱን የሚሰጥ የለም ። ምግባር ፤ ተግባር ፤ መስዋእትነት የሚ\\nጠበቀው ከራስ ጀምሮ አይደለም ። ከሌላው ነው። ፈሪ ፤ ወኔ የሌለው\\nሀዝብ ማለት ብቻ ። መፍትሄ የለኝም ። ሶስት ሽህ ዘመን ትርጉ\\nዋሜ አሻፈረኝ ብላ ለቆየች አገር መፍትሄ የለኝም--ኢትዮጵያ ታበፅህ\\nእዴዊሃ ሀበ እግዚአብሄር። መና ከሰማይ ይወርዳል!....\\n\\n«ወተጉ በጨለማ ታበላሻላችሁ ፤ቀን እንዲህ ይገፋል እኔ ላሳያችሁ።»\\nብላ ዝናሽ ውስኪዋን ጨለጠች ።\\n\\n«ጥሩ ዲሲፕሊን ያለህ ትመስላለህ» --መቶ አለቃ አሽኔ ነበር ።\\n«እንዴኔት ?»\\n\\n«አትጨጠጣም። አታጨስም። ጠንቃቃና አንደበተ ቁጥብ ትመስላላህ፣፤\\nአፍሮም አይደለህም» አለው ።\\n'},\n",
       " {'page_number': 35,\n",
       "  'text': '34 ሀዲስ\\n\\n«ሴትም ነክቶ የሚያውቅ አይመስልም» ብላ ዝናሽ አስካካች «\\nሀዲስ እንዶ ማፈር ብሎ አይኑን ሰበረ ።\\n\\n«ውይ ! እዩት ደሞ ሲቅለሰለስ ። የዶደዶም ገንቦዬ አይዞህ ። ምን ይደረ\\nጋል ? ተላለፍናት በመንገድ ፣ አይ ይች ህይወት ! ! እንዴ ሰራ አይገድል»\\nብላ በህዘን ከንፈርዋን መጠጠች ።\\n\\nሽታዬ ክአይን ሌላ ሰውነት ያላት አትመስልም ። አይን የነፍስ\\nመስተዋት ነው ያለው ማን ነው ? በአይንዋ ላይ የውስጥ ስሜትዋን ማን\\nበብ ይቻል ነበር ። ድንገት ወደ ጉዋዳ ጥልቅ ብላ ጠፋች ።\\n\\n«ካቶ ይርጋ አለሙ ጋር ሳትስማሙ አትቀሩም» አለ የመቶ አለቃ\\nአሽኔ ። «ወደ መቱ ወጥቶአል ። ምናልባት ነገ ወይም ክነገ ወዲያ ይመለ\\nሳል ። ችምህርት ቤቱ ግን በላያችሁ ላይ አንድ ቀን ሳይወድቅ አይቀርም ።\\nበውነት ያሳዝናል ። ነገሩን ሲያዩት ቀልድ ነው የሚመስላው.. . .ጅ\\n\\n«ኤይ ወጣት ! ሰውነቱ ርጥብ ፥፤ እጁ ደረቅ ። ስን-ፆ> አየነው እቴ»\\nዝናሽ ነበረች ።\\n\\n«ኤንዴት ነው የምንስማማው?» አለ ሀዲስ ።\\n\\n«ኤቶ ይርጋ ጨመት ያለ ሰው ይወዳል ። በትምህርት ቤቱ ከመጡ\\nበት ግን አይኑ ባንዴ ነው ደም የሚለብሰው...»\\n\\n«ለምን ?»\\n«ኤንጃ ። እኔንም ይገርመኛል ።»\\n\\nሀዲስ ደዶክሞኛል በማለት ይቅርታ ጠይቆ ሊነሳ ሲል ሽታዬ እንዳጋ\\nጣሚ ከጭዋዳ ብቅ ብላ መኝታው የተዘጋጀለት መሆኑን ነገረችውና ወስዳ\\nክፍሉን ሕሳየችው ። አንድ ከፍ ያለ የሽቦ አልጋ ፤ አንድ ሌላ ተጣጣፊ የመ\\nንገድ አልጋ -፦- ሁለት አልጋዎች ነበሩ ። ከፍ ያለውን የሽቦ አልጋ አሳየ\\nችው። ቤኩራዝ ብርሃን ትላልቅ አይኖችዋ ይበልጥ ትላልቅ ሆነው ታዩት ።\\nየሁለቱ ማዙፍ ጥላ ከክፊሉ በጋዜጣ ተለብዶ * ከፊል ጎኑ ልስኑ ከሚታየው\\nግድማሣዳ ላይ ተላለፉ ።\\n\\nበጣም ደክሞት ስለ ነበረ ጊዜ አላጠፋም ። ዘሎ ከመኝታው ውስጥ\\nገባ ። ሽቦ አልጋው ያረገርጋል ። ኩራዝዋን አጥፍቶ አይኑን ከመክደኑ\\nእንቅልፍ ይዞት ጭልጥ ብሎ የሚሄድ መስሎት ነበር ። እንዳሰበው አልሆ\\nነም ። የድቤ ድምፅ ድው... .ድው. . . እያለ ጨለማውን እየሰነጠቀ\\nከሩቅ ይ«ነሰማል ። እጆቹን ተንተርሶ ፈጠው በቀሩት አይኖቹ ጨለማውን\\nይዳስስ ጅመር። ካዲሳባ ርቆ መጥቶአል።ግን ከወዴትም ርቆ አለመገኘት ፤\\nእንዲህ ኤይነቱ ስሜት ነበር ያደረበት ። ብቻውን---አንድ ራሱን ። ተመልሶ\\nየሚገባበት ቤት አልነበረውም ፤ የሚናፍቃቸው ዘመዶች አልነበሩትም ።\\nየናቱን ምሳሳ ጎጆ ለእትዬ በለጡ ስጥቶአል ። በተወላቸው ገንዘብ ቀይ\\nአፈር ሸምተው ቀይ ቨክላ ፣ ሸክላ በሚመስለው ረጅም አጥንታም\\nቸው ሲጠፈጥፉ ታሩፍት - - - አዲሳባ ምን ቀረው ጭር ካሉ ከሁለት መነ\\nመቃብሮች ሌላ? አን.ድጅ ራሱን ብቻና ነፃ መሆን---በዚህ ሰፊ ፤ ሰፊ አለም ።\\nብቸኛው መንፈሱ እንደ ንስር አሞሪ- ክፍ ብሎ በኢትዮጵያ ምድር ላይ\\n'},\n",
       " {'page_number': 36,\n",
       "  'text': 'ሀዲስ 35\\n\\nተንሳፈፈ--ያፍሪቃ ጣራ የሆኑትን ጥንታዊ ተራሮችና ሸለቆዎችን እያቁ\\nዋረጠ ። እነዚያ ኩሩ ተራሮች ። እነዚያ የኩሩ ህዝብ የተፈጥሮ ምሽጎች\\nየሆኑት ጥቁር እንቁ ተራሮች ---\\n\\nያባት አገር ዱሬ\\nየናት አገር-ዱሬ\\n\\nእገባብሃለሁ የትም ዙሬ ዙሬ ።\\nእያለ ዱሩንና ተራሮቹን አለኝታ ፤ መከታና ጋሻ አድርጎ ፤\\n\\nገለሌ ምሳው ፉጨት ራቱ\\nመለቃለቂያው ዶደም ራጨቱ ።\\n\\nብሎ በመፎከር አጥንቱ እንደ ተራራ ከፍ ብሎ እስኪታይ ድረስ\\nዝንተ አለም የተጋደለበት ። የለም---እነዚያ ኩሩ ተራሮች ካፈርና ከድን\\nጋይ የተፈጠሩ አይደሉም ፤ ለዘመናት ከምድሪቱ ላይ ከወዶቁት ጀግኖች\\nክቡር አጥንት እንጂ ! ነውኮ ። በተራሮቹ ወጣ ገብ ፊት ላይ የኢትዮጵያዊ\\nአትንኩኝ ባይ አይበገሬ መንፈስ ተፅፎ ይነበባል ። እንቅልፍ የባሰውን\\nሸሸው ። መርዳሳ ከመቱ ሱጴ ዝንተ አለም በዚያው መንገድ ላይ. . .መም\\nጣትና መሄድ---ዝንተ አለም ። በህይወት መንገድ ላይ መተላለፍ አንዱ\\nሲሄድ ሌላው ሲመጣ ። ወዴትም የማይወስድ ዝንት አለማዊ የህይወት\\nጉዞ ፍተሃት ፤ ከሰው ልብ ውስጥ የማይጠፋ ቨለአለማዊ ተስፋ. . .ግን፤\\nማን ነው ህይወት ከንቱ ናት ያለው?!\\n\\nእንቅልፍ ለምን እምቢ እንዳለው ሲያስብ ፥ በህይወቴ ለመጀመሪያ\\nጊዜ ከሴት መኝታ ውስጥ ገብቼ በመተኛቴ ይሆን ? አለ ። የሴት ምትሃታዊ\\nጠረን--ከሳማርፎካንድ ሽቶ የጣፈጠ---ከገሃነም እሳት የገነነ የሸሽታዬ ሽቶ\\nሸተተው ። የሚተነፍሰው አየር ሁሉ ሽቶ ሆነበት ። መኝታው ውስጥ\\nእንደ ተገላበጠ በሩ በቀስታ ሲሷከፈት ሰማ ። ግን ዘይት አይቶ የማያውቀው\\nየበሩ ማጠፊያ ዝም አላለም ። ሽታዬ ነበረች ። ትንፋሹን ውጦ ከመኝታው\\nውስጥ አደፈጠ ።\\n\\nበጨለማ ልብስዋንና የጡት መያዣዋን አወላልቃ ባጭር የውሰጥ\\nልብስ ብቻ ኩተጣጣፊ የመንገድ አልጋው ላይ ወጥታ ተኛች ። ጡቶችዋ\\nለጨለማው አምላክ ምህላ ቆመው በሀሳቡ ታዬዩት ። ትንፋሹን እንዶ ዋጠ\\nቀረ ። እኔ የማስበውን ታስብ ይሆን ? እኔ የሚሰማኝ ይሰማት ይሆን ? አንዱ\\nየሚያስበውን ሌላው እያሰበ ፤ አንዱ የሚሰማውን ሌላው እየተሰማው\\nበመንገፕድ ላይ የመተላለፍ ጣጣ !\\n\\nአይኖችሞን ባያይም ከጨለማው ጥልቀት ውስጥ የምታየው ነገር\\nይታየው ነበር ። የምታስበውን ባያውቅም ፥ ምን እንደምታስብ የሚያስብ\\nመሰለው ። የግማርካንድ ሽቶ እንዳለ በሙሉ አየሩ ላይ ድንገት ፈነዳ ።\\nየገሃነም እሳት ነደደ ። ልቡ ስልተ--ቢስ ሰይጣናዊ ከበሮ ከአካባቢው ድቤ\\nጋር ይመታ ጀመሙር ።-- የተኮነነች ነፍስ ! ብሎ ሲገላበጥ ፥--\\n\\n«እንቅልፍ አልወሰደህም እንዴ ?» አለችው ።\\n\\nለውነቱጉ ላብ እያጠመቀውና የማያውቀው ስሜት እንደ ጉንዳን\\nእየወረረው ፥\\n\\n«ይጦወስደቿል» አላት ።\\n'},\n",
       " {'page_number': 37,\n",
       "  'text': '36 ሀዲስ\\n\\nጪ\\n\\n«እኔስ እንቅልፍ ጥርግ አርጎ የወሰደህ መስሎኝ ነቤር ።»\\n«የምን ድቤ ነው የሚሰማው?»\\n\\n«ያባ ጨፌ ?»\\n\\n«ማን ነው እሱ!»\\n\\n«የሱጴ አዋቂ ናቸው ።»\\n\\n«ቃልቻ ማለትሽ ነው ?»\\n\\n«እንዶሱ.› አይባልም» ካለችው በሁዋላ ፤ «እውነት ላንድ አመት\\nብቻ ነው የመጣኸው ?» ብላ ጠየቀችው ።\\n\\n«አዎን ።»\\n\\n«ከዚያ በሁዋላስ ?»\\n\\n«<ወደ ዩኒቨርሲቲ እመለሳለሁ ።»\\n\\n«ምን ነው ትንፋሽህ ቁርጥ ቁርጥ ይላል ?›»\\n\\nዝም አለ-። ድቤው ይሁን ወይም የልቡ ትርታ የትኛው ድው ድው\\nእንደሚል ለሰይቶ ለማወቅ አልቻለም ። ከአባ ጨፌ ድቤ ድምፅ በላይ የእሱ\\nልብ ትርታ ገንኖ የሚሰማት ስለ መሰለው በመጨነቁ የልቡ ትርታ ይበ\\nልጥ ይመታ ጀመር ።\\n\\n«እውነት ሴት ነክተህ አታውቅም ?» አለች ፤ በተሰባበረ ድምፅ ።\\n«ምን ማለትሽ ነው ?» አላት በታፈነ ጉሮሮ ።\\n\\n«እትዬ ዝናሽ ሲሉ ሰምቼ ነው... . »\\n\\n«እና ?»\\n\\nመልስ አልሰጠችውም ። ዝም አለች ። ያቺ የጥቂት ሴኮንዶች ዝምታ\\nእድሜ ልክ ያህል ረዘመችበት ። የልቡ ምት ደጠነ።\\n\\nያባ ጨፌ ድቤ ድቅድቅ ካለው ጨለማ ጋር ትንቅንቅ ይዞ ሲገን\\nደረቅ ጨለማ ድንገት እንድቁዋያ እሳት ተቀጣጥሎ ወከክ እያለ ይነድ\\nጀመፎ -፦ ፍቅር ጨለማን እንደማያውቅ እየመሰከረ ።\\n\\nድንግል መሬት ተገለበጠ...\\n'},\n",
       " {'page_number': 38,\n",
       "  'text': 'ክፍል፻\\n\\nሽታዬ ጠዋት በማለዳ ነቅታ ከወፎች ጋር ታንጎራጉር ነበር ። ከወ\\nፎቹ ጋር ጫጉላው አብቦአል ዛሬ እያለች የምትዘፍን መሰለው ። ከጫጉላ\\nቤት ገና እንዳልወጣች ሙሽራ አይኑን ሰብሮ አይንዋን እየሸሸ በማለዳ\\nተነስቶ የኪራይ ቤት ፍለጋ ሲወጣ ሽታዬ ፤ በጀርባዋ እንደ ተጋደመች\\nከትራስዋ ላይ ተንዥርግጎ ከተበተነው ከረጅም ፤ ጥቁር ጠጉርዋ ውስጥ\\nእያንዳንዱን ነዶ እንደ ቀጭን ፈታይ በረጅሙ እየመዘዘች ታንጎራጉር\\nነበር ።\\n\\n«ጉሮ ወሸባዬ--እንዲያ እንዲያ ሲል ነው ግዳዬ ።»\\n\\nየምትል መሰለው።የምታንጎራጉረው ዜማ ምን እንደ ሆነ ለማወቅ አል\\nፈለገም ። ደንታ አልነበረውም ። በልቡ ውስጥ አንድ አይነት ፀፀት አድሮ\\nበት ነበር ። ቀዝቃዛው የመስከረም አየርም ሆነ ምድረ አላሙን በወርቅ\\nየተሰገጠ አረንጉዋዴ ከፈይ ካባ አስመስሎ የተነጠፈው የመስቀል አበባ\\nውበት፤ያደረበትን ፀፀት ከልቡ ውስጥ ሊያወጣለት አልቻለም ። በሙሉ\\nግርማ ሞገስዋ ካድማስ ላይ በመንጣለል ፤ የአድማሱ አንድ አካል መስለው\\nየቆሙትን ተራሮች ፡ ወርቅ ድብልቅ የሆነ ሰማያዊና ሀምራዊ ቀለም\\nመቀባት የጀመረችውም የማለዳ ፀሀይ ልቡን አላሞቀችውም ። የሽታዬ\\nሽቶ ላዩ ላይ እንዳለ ነበር ።\\n\\nሱጴ ከእንቅልፍዋ ገና አልነቃችም ። ጥቂት ውሾች እያነፈነፉ ስራ\\nያለባቸው ይመስል ኩስ ኩስ በማለት ይጣደፋሉ ። ባልና ሚስት አሚና\\nዎች ካንድ ቤት አጥር ስር ተከናንበው ቁጭ ብለው በመቀባበል ያቅራራሉ።\\nየተቦጫጨቁ ቡቱቶዎች የሚጎትቱ ለማኞች ካንዱ ቤት ወደ ሌላው በመ\\nሄድ ከውሾች ጋር ምርር ያለ ጥል እየተጣሉ ይለምናሉ ። ካቡዋራማው\\nየመኪና መንግገድ ዳር ግራና ቀኙን ይዘው ኣጎብድደው እድሟ ሚለምኑ\\nከሚመስሉት ኢያሌ የሳር ጎጆዎች መካከል በኮባና በሰንሰል አጥር የተሸ\\nፈኑ የቆርቆሮ ቤቶች አልፎ አልፎ ይታያሉ ። ጠባብ የእግር መንገዶች\\nከዋናው መንገድ እንደ ቀጭን የደም ስር እየተገነጠሉ ወደ ሩቅ መንደሮች\\nያመራሉ ። ማታ የመጣበትን የእግር መንገድ በአይኑ ተከትሎ ትምህርት\\nቤቱን ከሩቅ ተመለከተ ። ከትምህርት ቤቱ ባሻገር ካሌው ኮረብታ ላይ\\nየኮራ ጥንታዊ ቤት ተንጣሎ ይታያል ። በቤቱ ትይዩ ከሚገኘው ሌላ ኮረ\\nብታ ላይ ዶግሞ የቤተ ክርስቲያን አፀድ የፀሀይዋን ጮራ እየተቀበለ\\nመልሶ ያንፀባርቃል ።\\n\\nበዚች እሕግዜር በረሳት ትንሽ መንደር ውስጥ አንድ አመት መቆየት\\nእንደ ዘመናት ርቆ ታየው ። ራሱን ፤ መስቀለኛ ከሆነ ከህይወት ትምህርት\\nቤት እምብርት ላይ ቆሞ እንዳለ አድርጎ አየ ። እርቃኑን የቆመ ጥሬ ህይ\\nወት ፤ ገሃድ የወጣ የሀይወት ትምህርት ቤት።ህይወትን ፊት ለፊት መጋ\\nፈጥ--ድፍረትን ምንኛ ይጠይቃል ! በማለት”በዚያን ሰአት የቤት ኪራይ\\nፍለጋ የት እግደሚሄድ ስለ ጠፋው ካደረበት ቤት ተመልሶ ገሳ ።\\n'},\n",
       " {'page_number': 39,\n",
       "  'text': '38 ህዲስ\\nጪ\\n\\n«ውይ ! የት ጠፋህ ?›>\\n\\nሽታዬ ባታንጎራጉርም አሁንም የምታንጎራጉር መሰለችው ። የለበ\\nሰችው ያገር ልብስ ዳሌዋን አኩርቶታል፤ግን ከአይንና ከጠጉር ሌላ መልክ\\nአልነበራትም ። ወደ ላይ እንደ መቀለስ የሚለው አሹዋፊ አፍንጫዋ አላ\\nስደስተውም ።\\n\\nእያንጎራጎረች ቁርስ አቀረበችለት ። ጤና አዳም ያለበት ቀዝቀዝ\\nያለ እርጎ በትንሽ ሚጥሚጣ ፤ በሽንኩርት የተጠበሰ ፍርፍር እንቁላል በእ\\nንጀራ *« በቀረፋና በቅርንፉድ ያበዶ ትኩስ ሻድ፦-ላጥ አድርጎ በልቶ ከጠጣ\\nበሁዋላ ፡ «የሚከራይ ቤት ይገኛል ?» ብሎ ጠየቃት ። አይንዋን እየሸሸ ።\\n\\nበምን አይን እንደምትመለክተው ባያውቅም ፤ ትክ ብላ ትመለከተው\\nነበር =\\n\\n«ምናስቸኮለህ ?» አለችው ።\\n\\n«መቼም ሁልጊዜ እዚህ አልኖር ። ቤት መፈለግ አለብኝ ። አይደ\\nለም ፻ው\\n\\nሬረጅም ኣንገትዋን ዘለስ አድርጋ ስታስብ ቆየችና ፤ «እሱስ ነው ።\\nብቻ . . .» ከማለትዋ ፤\\n\\n«ብቻ ምን ?» አላት ቸኩሎ ።\\n\\n5ደእዚህ የሚክራይ ቤት ማግኘት ችግር ነው ። የሳር ጎጆ ብቻ ነው\\nያለው---እሱም ቢገኝ ። ምናልባት ፊታውራሪ ትካ የሚከራይ ቤት እንዳ\\nላቸው . ..ጅ \"\\n\\n«ይኖራቸዋል ?ጅ%\\n\\n«ታውቃቸዋለህ እንዴ 5\\n\\n«ኖለም አላውቃቸውም ። የሚያውቃቸው ስው ደዴብዳቤ እንዳደርስ\\nላቸው ልኮኛል ።»\\n\\n። \" *.\\n\\n«ውብ የሆነች ልጅ አላቸው...»\\n\\n«ጋኋይናለም የምትባል ?»\\n\\n«ታውቃታለህ !»>\\n\\n«ዊላከኝ ሰው ስለ እስዋ አጫውቶኛል ። ዘ8መጻቸው ነው ።»\\n\\n«ዮኛመቶ አለቃ አሽኔን ማታ አይተኽው የለም ?\\n«ሕአዎምን ። ለመሆኑ ማን ነው እሱ ?1»\\n\\nች ን እ ና ም ደፈ\\n\\n። ውልህ ፥ ያገር\\n\\nእያስቸዝረ ነው» አለችው ። ማግሌ ይዞ\\n«አይናለምን እንዲድሩለት 1\\n\\n«ታዲያ ሽማግሌ ለምን ይላካል ፲» አለች እየሳቀች ። ጥርሶችዋ ዞርሩ\\nዛራ ነበ ። ንቅሳቱም ሸጋ ነበር ።\\n\\n«ዮመቶ አለቃ የወይዘሮ ዝናሽ......እ. . . መስሎኝ ነበር» አላት ፆ*\\nኗደሄው ። እንክት !»\\n'},\n",
       " {'page_number': 40,\n",
       "  'text': 'ሀሠዲስ 33\\n\\nተአምር ኢያልቅም ብሎ ፤ «ፊታውራሪ ለኔም አንድ ቤት ቢድሩልኝ\\nምናለ ታዲያ ?» አላት ፥ ጥቁር ቆብ መስሎ ሰፋ ካለ ግንባሩ ላይ የሚደፋውን\\nዞማ ጠጉሩን በእጁ እየቆፈፌረ ።\\n\\n«ሞልቶአቸዋል ። ሱጴ የሚገኙት ቤቶች ግማሾቹ የእሳቸው ናቸው ።\\nብዙ ደጃፍ ቤት አላቸው ። እኛም የምንኖርበት ይህ ቤት የእሳቸው ነው ።\\nአብዛኛው የሱጴ መሬትም የእሳቸው ነው ። የቡናና የእህል ዎምፍጮዎችም\\nበብዛት አሉኤቸው ። የቡና ንግድ ፥ የጨው ንግድ ፥ የጣቃ---ምን የማይገ\\nቡበት ነገር አለ ብለህ ። ያላቸው የቀንድ ከብት ምኑ ቅጡ--ተቆጥሮ\\nአያልቅም ። ታዲያ ደግ የደግ መጨረሻ ናቸው ። ከጠባይና ከትህትና ጋር\\nነዋ ለዚያውም ። ደሀው *አባ ብያ\"\\' ነው የሚላቸው ። ያገሩ ባላባት አይደዶ\\nሉ ?» አለችውና ፥0 እንደ ማንጎራጎር እያላት ፤ «ዛቫሬ ቀኑ ብራ ሆኖአል ።\\nደስ ደስ ይለኛል ። በድንገተኛ መውደድ ታምናለህ ? ዛሬ ከሁሉም ነገር\\nጋር ፍቅር ይዞኛል» ብላ ፥ ከረጅም ጠጉርዋ ውስጥ አንዳንድ ነዶ ወይ ታች\\nእየመዘዘች ታንጎራጉር ጀመር ። ጣቶችዋ አጫጭር ሆነው ደህና ቀን\\nያላዩ ፥ ስራ ያዶለዶማቸው ይመስላሉ ።\\n\\nያስር ብር ኖት አውጥቶ ሊሰጣት ሲል በመጀመሪያ እንደ መደንገጥ ፤\\nቀጥሎ እንደ መገረም ከዚያም እንደ መቆጣት አደረጋት ።\\n\\n«ምን ሆንሽ ?»\\n«ሂድና ሸርሙጣህን ፈልግ !» አለችው «\\n\\nአንቺ ምን ሆንሺና ! ሊላት ፈልጎ ነበር ። ተአምር አያልቅም እያለ\\nየአደራ ደብዳቤውንና ስጦታውን ይዞ ወጣ ። ወጥቶ የትም አልሄደ ። ያ\\nከትምህርት \\'ቤቱ ባሻገር ከጉብታው ላይ ያለው ጥንታዊ ግቢ የፊታውራሪ\\nተካ ካልሆነ የማ ሊሆን ይችላል ! በማለት በቀጥታ ወዶዚያ እአመራ ።\\nየሱጴ አቡዋራማ መንገዶች በሙሉ ከየአቅጣጫው የሚያመሩት ወዶደዚያ\\nነበር ።\\n\\nየሴተኛ አዳሪ ልብ -ስር ብር ነው ሲሉ ሰምቼ ምን ነው ? በማለት\\nከጀርባው ጎበቤጥ ጎበጥ እያለ ፥ ረጃጅም እግሮቹን ጎተት ጎተት እያደረገ\\nሲሄድ ከትምሀርት ቤቱ አጠገብ እንደ ደረስሰ ላንዳፍታ ቆም አለ ። ባጳ\\nፈው ምሽት ልብ ያላደረገው ተራራ የሚያክል ወርካ ከትምህርት ቤቴ\\nበስተጀርባ ራቅ ብሎ ይታያል ። ደረቱን ወደ ሰማይ ገልብጦ ከቆመው\\nወርካ ጥላ ስር የተሰገጠው የትምህርት ቤቱ ህንፃ ባንፃሩ ኢምንት ሆኖ\\nይታያል ። ምድረ ግቢው እንደ መቃብር ጭር ብሎአል ። ገፋስ የነቀለው\\nቆርቆሮ ብቻ ነበር ፤ የሞት እንጉርጉሮ ድምፅ የሚያሰማው ። ቆርቆሮው\\nበሙሉ ዝጎ * የሶስት ሺህ ዘመን ዝገት የሚያንፀባርቅ ይመስላል ። ምር\\nጊቱ የፈረሰው የቤቱ ግድግዳ እንደ ቆማጣ ቁስል አፍጦ አይን ይወጋል ።\\nቀለምዋ ጠፍቶ ተበጣጥሳ ልታልቅ የደረሰችው ባንዲራ ከረጅም አጣና\\nላይ ጣእር ይዞአት በመጨረሻ ትንፋሽዋ የምትውለበለብ መስላ ታየችው ።\\n\\nየሚያሳዝን ሙዚቃ ከህልውናው ጥልቀት ውስጥ ፈልቆ ሲንቆረቆር\\nሰማ። ልቡ በከባድ ሀዘን ተሞላ ። በደመ - ነፍስ ረጃጅም እጆቹን ወደዶ ላይ\\nአንስቶ ተመልከታቸው ። ረጃጅም እጆቹን የት እንደሚያደርጋቸው ሁል\\nጊዜ ግራ ይገባዋል ። ለይስሙላ ካልሆነ በቀር ይህ ትምህርት ቤት አይደ\\nለም እያለ በመተከዝ አቀበቱን ትያያዘው ። ዳገቱን እየሰገደ ወጣ ። ፊው\\nዳላዊ ባላባቶች መኖሪያ ቤታኾውን ከኮረብታዎች አፋፍ የሚሰሩት\\n'},\n",
       " {'page_number': 41,\n",
       "  'text': 'ር ሱ ሞ ሽ\\n\\nሆን ብለው ከሩቅ ለማስገድና ወዴ ላይ ለመታየት ሳይሆን አይቀርም\\nበማለት ቁርጥ ቁርጥ በሚለው ትንፋሹ እየተራገመ ካፋፍ ላይ ብቅ ሲል---\\nየፊታውራሪ ተካ ግቢ ጥንታዊ ግርማ ሞገሱን በኩራችት ተላብሶ ፊት ለዴት\\nታየው ።\\n\\nከጥርብ ድንጋይና ከጥርብ ሳንቃ የተሰራው ዋናው ባለ አንድ ፎቅ\\nህንፃ ፥ በሶስት ዙር ጥቁር ድንጋይ ካብ ትከቦአል ። ከፊት ለፊት የሚታየው\\nየሀንፃው ጣራ የፒራሚድ ቅርፅ ይዞ ወደ ላይ እንዴ መተኮስ ይልና ፥ ግራና\\nቀኝ ሰፌ ክንፉን ይዘረጋል ። የህንፃው ክፈፍ ከእንጨት በተሰሩ ልዩ ልዩ\\nቅርፃ ቅርፆች አጊጦ ሲታይ ፤ የምስራቃውያን የእጅ ሙያተኞች ጥበብ\\nበትእግስት የተፈተነበት የኪነት ስራ ይመስላል ።\\n\\nፈራ ተባ እያለ ወደ መጀመሪያው የውጭ በር ሲጠጋ ፤ የጎፈሬው ጥላ\\nከፀሀይ የሚከልል የሚመስል ጠይም ፤ ረዘም ያለ ወጣት ኩታውን እንዳደ\\nገዶገ መጥቶ ለጥ በማለት እጅ ይነሳዋል ። እንዶ ላስቲክ እየተሳበ ጎንበስ\\nቀና ሲል እንዲያው አጥንት ያለው አይመስልም ።\\n\\n«ካቶ ታፈስ ዘንድ ለፊታውራሪ ዶደብዳቤ ይፔ ነበር የመጣሁት ።»\\n«ክየት 1?»\\n«ካዲሳባ ።››\\n\\nእንዶ ገና ለጥ ብሎ እጅ ነላውና ሁለቱንም እጆቹን ዘርግቶ እንዲከ\\nተለው ኽክጋበዘው በሁዋላ ፤ የያዘውን ረጅም ዘንማሣ ከመሬት ላይ ተከል\\nነቀል ኤያዶረገ ቀደመው ። በመጀመሪያ ። በሚቀጥለውና በመጨረሻው\\nአጥር ሙስጥ ኩታዎቻቸውን አሸንፍጠው ቆመው የሚተክዙ ፤ ወይም\\nበጣም ዝግ ባለ ድምፅ እርስ በርሳቸው  የሚያወሩ ጉስቁል ያሉ ሰዎች\\nተኮልኩለው ይታዬ ነበር ። የምድረ ግቢው ንፅህና እንጀራ ዘርግተው\\nቢበሉበት የማያፀይፍ ፥ ፀጥታው መርፌ ከመሬት ብትወድቅ የምትሰማ\\nበት ይመስላል ። ያካባቢው ግርማ ሞገስ ያስፈራል ፤ ሳይወዱ በግድ እየተ\\nጫንነ ያሰግዳል ።\\n\\nሲረግጡት ስሞታው አይጣል በሆነ የሳንቃ ዶረጃ ወደ ፎቅ ወጥተው\\nከሰገነቱ ላይ ሲደርሱ ፤ ይመራው የነበረው ወጣት አጋፋሪ ወዴ ሁዋላ\\nእንዲቆጮ በእጁ አመልክቶት ወደ ውስጥ ዘው ብሎ ገባ ። ከሷሳገነቱ ላይ\\nመላ ሱኤ ከስር አደግድጋ ትታያለች ። ከበስተማግራ ፥ ሽታዬ እንዴ ነገረችው\\nጥንታዊት ሱጴንና ሰንበተ ጉዳ የሚባለውን አዲሲቱን ሱጴ ለሁለት\\nከፍሎ የሚወርደው የእልቄ ወንዝ ሸለቆ ሸለቆውን ይዞ እንዴ እባብ እየተ\\nጥመለመለ ወድደዶ ገባ ወንዝ ይወርዳል ።\\n\\nየሀዲስ አይን ፊቱ በተዘረጋው የተፈጥሮ ውበት ፈንጥዞ ሳይጠገቦ\\nወጣቱ ኦጋፋሪ ተመልሶ መጥቶ እንዲገባ እጆቹን ዘርግቶ ይጋብዘዋል ።\\nትልቅ ኤዳራሽ ነበር የዋጠው ። ካዳራሹ መጨረሻ ላይ ካለው መስኮት\\nአጠገብ ካለች አንድ ድንክ አልጋ ላይ ብድግ ብለው በትህትና የተቀበት?\\nጠጉራቸው ብን ብሎ የላሳ ፤ ብስል ቀይ አጭር ቀጭን ሽማግሌ ነበሩ ፡\\n\\nስ= አይን ከሩቅ አነጣጥሮ የሚመታ በሚመሕሎጉ አኣዬፕቶ ት8 ብለነፖ\\nንመለከክጭት ነበር ። ወዴ ውስጥ ዘልቆ ከዷኗቕ፰ዷ፻ጁይ፶ነ ፊት ፤ውሳጥሞ\\n'},\n",
       " {'page_number': 42,\n",
       "  'text': 'ሀሠዲስ 441\\n\\nየጠራ መስታወት ሆኖ ሁሉን ነገር ግልጥልጥ አድርጎ የሚያሳይ ስለ መሰ\\nለው ፥ ወኔውን ከፊታውራሪ ሰውሮ የሚደብቅበትን ቦታ አጣ ። ብብቱ\\nሲረጥብ ትሰማው ።\\n\\n«ይሄ ዶግሞ ለ . . . ለአይናለም የተላከ ነው» አላቸው ።\\n\\nእንዲቀመጥ ባይጋብዙት ኖሮ ጉልበቱ ሊከዳው ትንሽ ቀርቶት ነበር ።\\nባደረበት ፍርሃት * ምናባቱ ያስፈራኛል በማለት ራሱን መልሶ ቢታዘብም፤\\nፍርሃቱ አልለቅ አለው ። እነዚያ መከረኛ ረጃጅም እጆቹን የሚከትበት\\nቦታ በማጣቱ ትራገመ ። ወዲያውኑ ክብሳታቸው ሰታቴ ድስት መስሎ\\nከትንሽ ጭንቅላታቸው ጉብ ያለ ፤ ወፍራም አጭር ቄስ አእየተድበለበሉ\\nገቡ ። ቁና ቁና እየተነፈሱ ከደረት ኪስ በቀይ ግምጃ ጨርቅ የተጠቀለለ\\nወርቅ ቅብ መስቀል አውጥተው አሳለሙ ። ላሳልመው ወይስ ልተው ?\\nእያሉ እንጆሚያመነቱ ሀዲስ ቢገባውም አላደፋፈራቸውም ። የቄስ ልጅ\\nሆኖ የቄስ መስቀል ባየ ቁጥር ድንገት ከውስጥ አንድ ነገር ስለሚመታው\\nሰውነቱ ይቆጣና ጠጉሩ ይቆማል ። በህፃንነቱ ያባቱን መስቀል እያወጣ ፡\\nበሱ መጫወት ዴደዶስ ይለው ነበር ። ታዲያ መምሩ መስቀሉን ከእጁ ነጥቀው-፤\\nያደረበትን መጥፎ ሰይጣን ሊያስለቅቁት በዚያው መስቀል ጭንቅል ጭን\\nቅላቱን ይሉት እንደ ነበር ፤ መስቀል ባየ ቁጥር ትዝ ይለዋል ። በመስቀል\\nመጫወት ምርቃቱ በመስቀል መገጨት ነበር ።\\n\\nትፊታውራሪ ደብዳቤውን እየከፈቱ ፥ «ካዲስ አበባ ነው የመጣኸው ?›»\\nአሉት ። = ፣\\n\\nምናልባት እንደዚያ ያለ ወፍራም ድምፅ ሰምቶ፤ እንደዚያ ያሉ ልምጭ\\nመላይ ረጃጅም ጣቶች አይቶ እንደግያውቅ እየማለ ፤ «አምን» ይላቸዋል ።\\n\\n«ከፀ/ዩ ንጉስ ፀሀያማ ከተማ?» አሉ መምሩ ፤ መስቀሉን ከደረት\\nኪሳቸው አየመለሱ ፤ «እንደ ኤደን ገነት ቀን ቀርቶ በመንፈቀ ሌሊት ብር\\nሃን የማይለያት...»\\n\\nፊታውራሪ ክሚያነቡት ደብዳቤ ላይ ላንዳፍታ ቀና ብለው ፤ «እኛ\\nበምድረ በርባሮስ ነው የምንኖረው ማለትዎ ነው መምሬ መሀሪ ?2 አሉ\\nዋቸው ።\\n\\n«በምን ሀጢአታችን ? የኤሌክትሪኩ ብርሃን ትዝ ብሎኝ እንዲያው\\nለነገሩ አልኩ እንጂ !»\\n\\n«እንዴት እንደምናበራው ብናውቅበት ብርሃን በያንዳንዳችን ልብ\\nውስጥ ነው» ብለው እንዴ ገና ላንዳፍታ ከደብዳቤው ላይ ቀና በማለት\\nጉዋዳ ወዴደሚያስገባው በር አይናቸውን ወርወር አድርገው ንባባቸውን ከመ\\nቀጠላቸው ወጣቱ አጋፋሪ ሶስት ብርሌ ጠጅ ይዞ ከተፍ አለ ። በምን\\nዩዋንቁጥ እንዳዘዙት ምስጢር ሆነበት ።\\n\\nጠጁን አልወሰደም ። በእምቢታ እጅ ነስቶ ዝም ማለቱን ፊታውራሪ\\n1ዬ ጊዜ ፤ ‹ጠጣው እንጂ። ንፁህ የማር ጠጅ ነው ። ደረቅም አይደል ።\\n\"ስኩዋር ጠጅ፻መስሎህሃም እንደሆን አትፍራ» አሉት ።\\n\\nሀዲስ ጠጅ ጠጥቶ የማያውቅ መሆኑን ገለጠላቸው ።\\n«የኩተማ ልጅ አረቄ ነው የሚወደው ።»--መምሬ መሀሪ ነበሩ ።\\n«እለ“ንም አልጠጣዎ» አለ ።\\n'},\n",
       " {'page_number': 43,\n",
       "  'text': '42 ሀዲስ\\nጪ\\n\\nፊታውራሪ እንዶ ገና ትክ ብለው ሲመለክቱት አይቶ ኣይኑን\\nኣንገቱን ወያ፥ኗሬት ዴፋ ። ውስጡ ትወራጨ ። እንደ ገና ፀዐስጡፃፏይ፣\\nሳይደብቅ ሁሉን ነገር ቁልጭ አድርጎ የሚያሳይ መስታወት ሆሁኖ ታየው ፈ\\n\\n«ሻሂስ ?»\\nበእሺታ እጅ ነሳ ።\\n\\n«የልብ ቃር» አሉ መምሬ ፥ የለፋ ጠይም ቆዳ የሚመስለውን\\nቸውን ጨፍግገው ። አፋቸው በጢም ተሸፍኖ የት እንዳለ አይታይም ።\\n\\nፊታውራሪ.ደብዳቤው›-ን እያጣጠፉ ፥ «ከታፈሰ ጋር ትተዋወቃላችሁ›\\nብለው ጠየቁት ።\\n\\nጧማቸውም እንዶ ጠጉራቸው ብን ብሎ የሳሳ ሆኖ ፤ ከአይናቸው\\nሌላ ከፊታቸው ላይ ጎልቶ የሚታየው ፤ ቀጥ ብሎ ወርዶ ከስር ስስ ከንፈራ\\nቸውን የሚሳለመው ረጅም አፍንጫቸው ነበር ።\\n\\n«የለም ፤ ብዙም አንተዋወቅም ። ስራ ስፈልግ ነው እንዳጋጣሚ የተ\\nገናኘነው =ጅ\\n\\n«አዎን ፤ ስለ ስራህ በደብዳቤው ላይ ገልፆልኛል ። የሚቸግር ነገር\\nካለ ቤቴ ቤትህ ነው ። ለዚያውምኮ ያስተማሪ እንማሣዳ የለውም ። በስጋ\\nባይወልድም በእውቀት የሚወልድ አባት ነው» ብለው ፥ ዶደብዳቤውን ከተ\\nቀመጡበት ፤ በቀይ ሀር ምንጣፍ ከተንቆጠቆጠች ድንክ አልጋ ላይ ጣል\\nካዴረጉ በሁዋላ ፤ «ታፈሰ አገር ቤት ገብቼ አርሳለሁ ነው የሚለው» አሉ ።\\n\\n- «የማ ታፈስ ? የኛ ፻» ---መምሩ ነበሩ ።\\n\\n«አዎን ፤0 የኛው ታፈስ ነው ። *ያገሬ ድንማል መሬት ድምውፁን ከፍ\\nአድርጎ ይጠራኛል ። የታረሰ መሬት ሽታ ባይኔ እየሄዶደ ይናፍቀኛል” ይላል።\\nመሬት ለማያውቃት የማትበገር መሆንዋን ሳያውቅ ።\" መሬት ሲዘሩባት\\nዝም ብላ የምታበቅል ይመስል ።\\n\\n«ገበሬ የዘራውን የሚያጭዶደው ከተፈጥሮና ከመሬት ጋር አንድ\\nኣካል አንድ አምሳል ሆኖ በመኖር ነው\\'። ታዲያ ከመሬት ርቶ የኖረ የከተማ\\nልጅ ባላገር ተመልሶ ከመሬት ጋር አንድ አካል ሆኖ ለመኖር እንዴት\\nይችላል ? “ስር መሰረት ከሌለው ከከትማ ኑሮ ወጥቼ ስሬ ወዳለበት ወዶይ\\n\\nመሬት እንድመለስ የሚገፋፋኝ ጥሪ ይሰ ። ነውኮ!ሠ-\\nአሉ ፊታውራሪ ፤ እየተገረሙ ። ሌ .ኤ. ...\\n\\nመምሩ ጠጃቸውን በብርሌ ማንዶቅዶቃቸውን አቁመው ‹ «መሬት ፤\\n\\nመሬት ብሎ ምንነው ይዋትታል? ከተማ ሰው ገብቶ ፰፰ዴት ይመለሳል ?»\\n\\nብለው ፡ ሁለት ትርጉም ባለው አባባላቸው ፊታውራሪ እንዳልተዶዕቱ\\n\\nበመገንዘብ ሳይሆን አይቀር፭፯፪ ፭፮፲የ፲ለ፻፲፲ግለቴኮ ..»\"በቅርቡ ክኔጋር ሶስት\\n. ታጭተና ውቁዋቸው\\n\\nን ረጅ ፡ ደ ሪደ ች ። ሚ ችን፡፡\\nጤ!\\' የ ፲\\n\\nበሁዋላ ሚጋስትር የምሆንበት ጊዜ ፥ፍ አይ።2ገ፡ ፊ ው ነ የናንተን\\n\\n. , ኣይደለም ። አንድ ቀን የናን\\nየዘመዶቼንና የተወለድኩበትን ብሎ\\nአልነበረም ወይ ?» አሉ። መንደር ስም ሳላስጠራ አልሞትም”\\n'},\n",
       " {'page_number': 44,\n",
       "  'text': 'ሠዲስ 43\\n\\nፊታውራሪ ትክዝ ብለው ሩቅ ፣ ሩቅ እየተመለከቱ ፤ «የዘመኑ ልጆች\\nየሚፈልጉትን አያውቁም ። ምን ይደረግ ?» ሲሉ -፦\\n\\nመምሩ ትንፋሽ በግድ እየሳቡ ፣ «እሱ ዱሮም ቢሆን እኮ ቀዥቃዣ\\nብጤ ነበር ። አንድ ቦታ አርፎ መቀመጥ አይወድም።እርስዎ አዲሳባ ልከው\\nባያስተምሩት ኖሮ እዚሁ ሲንቀቀዥ ሰው ገድሎ ፤ ወይም ሰው ገድ\\nሎት ሞቶ ያርፍ ነበር ። ወይም እንደ ሌሎቹ ካንዱ መሸታ ቤት ወደ ሴላ\\nእያለ መሸተኛ ሆኖ ይቀር ነበር ። እረ እዚያው አርፎ እንዲቀመጥ ይምከ\\nሩት ። የምን ያፈር ሽታ ፤ የምን የመሬት ናፍቆት ነው እሱ ? አብዶ እንደ\\nሆነ ጠበል ቢሄድ ይሻለዋል» አሉዋቸው ።\\n\\nፊታውራሪ እንደ ተከዙ * «ምክንያቱ ምን እንዶሆነ እኔ እንጃ -- ሰው\\nሁሉ ስልጣን ፤ መሬት መሬት ማለት ጀምሮአል ። ፍቅርም በሰዎች መካ\\nከል የለም» ሲሎ --\\n\\nመምሩ ፤ «ስምንተኛው ሺ--ስምንተኛው ሺ» ብለው ብርሌአቸውን\\nባንገትዋ ይዘው እንዳነሱ አንዲት ሎጋ ፤ ለግላጋ ልጃገረድ ሻይ ይዛ ከጉ\\nዋዳ ብቅ ስትል ሀዲስ የቤተ መቅደስ ጡዋፍ ያየ ነበር የመሰለው ። ልክ\\nታፈሰስ እንዳለው ፤ ለእግዜር አይንና አፍንጫ ደስታ ፤ ከገነት ውስጥ የተተ\\nክለች አበቤባ ምስል አእምሮው ላይ ተቀረፀበት ።\\n\\nድንግት ስንጥቅ ብላ የደነገጠችው ልቡ ባፉ ዘላ እንዳትወጣ ትንፋ\\nሹን ዋጥ አደረገ ። በፊታውራሪ ወጊ አይን የደነገጠችውን ልቡን ሰውሮ\\nየት እንዴሚደብቃት ስለ ተጨነቀ እንደ ገና ትንፋሹን መልሶ ዋጥ አደ\\nረገ ። በቀይ ጥለት ያጌጠ የቤት ፈትል ረጅም ቀሚስዋን እንዲያው ቦታው\\nላይ የሌለ ከሚመስለው ቀጭን ወገብዋ ላይ እንደ ቀሚሱ ቀይ ጥለት ባለው\\nመቀነት ሸብ አድርጋዋለች ። ሁለት ላይ ከፍላው በዘፈቀዶ የለቀቀችው\\nጠጉርዋ ኽጥቁር ሀር ነዶ ተጎንጉኖ እንደ ተሰራ ጎፍላ እየተዘናፈለ ሄዶ\\nከጀርባዋ ላይ ይንዥረገጋል ። የተነጠረ ብር ጉልላት የሚመስሉት አይኖ\\nችዋ ከጉድጉዋዳቸው ውስጥ እንዲያው ዝም ብለው ክብልል ክብልል\\nይላሉ ። ግን ምንም የሚያዩ ወይም ለማየት የሚፈልጉ አይመስሉም ።\\nለምንም ኝገር ዶንታ የላቸውማ ! ለማየት ሳይሆን ለመታየት ብቻ የትፈጠሩ\\nሆነው ታዩችት ። ውበት ለራስዋ እውር አይደለች ? የሻሂውን ሲኒ አንስታ\\nስትሰጠሙ ያ የተረገመ መከረኛ እጅ እንዳይንቀጠቀጥበት በልቡ ትንሽ\\nፀሎት አዶረገ። ሻሂውን ቀድታለት ስታበቃ ወደ መምሬ መሀሪዞር ብላ ፥---\\n\\n«አባቴ ፤ ሀኪም ጠጅ እንዳይጠጡ ብሎ ከልክሎት የለም ?» አለቻቸው ።\\n\\nየሀዲስ ጆሮዎች ይበልጥ ነቁ ። ምን ድምፅ ነበር የሰማው ? ሰማያዊ\\nሙዚቃ---ወይስ የሰው ድምፅ?\\n\\n«ቶሎሳ ነውኮ የሰጠኝ መ\\n«ታዲያ እምቢ አይሉትም ኖሮአል ?»\\n\\n«ጄመርሺኝ እንግዲህ !» ብለው በዝምታ መሸከም ተስኖት ከሚሜን\\nጫጫሑጮ ወንበር ላይ ወፍራም ሰውነታቸውን አመቻቹና ፤ «ምን ላድርግ\\nብለሽ ነሙ? የትኛው ሆዴ አስችሎት የጌታዬን ቤት ጠጅ እምቢ ብሎ ይመ\\nልሳል ? ዊዛሬ ሀኪሞች እንዶሆኑ ስጋ አትብሉ ፤ ጠጅ አትጠጡ ነው የሚና\\nናቸው ። ሆድ ደስ ያለውን ካልበሉ ካልጠጡ ምን ኑሮ ሆነ ? ደሞ የሚከለ\\nክሉት ነግር ሁሉ ለትንግርቱ አምጡኝ አምጡኝ እያለ እንዲያው በአይን\\n'},\n",
       " {'page_number': 45,\n",
       "  'text': '44 ሀዲስ\\n\\nጪ\\n\\nላይ ይዞራል ። ቡነመን ውሀ በቁም ሙት ነው የምትይኝ ? እኔስ የሚያም\\nረ፭፲፮ንይእየበላሁ እየጠጣሁ ነው የምሞተው ፤ ለምናባቱ ! ከእንግዲህ ለየት\\nኛው እድሜ? ተቆርጦ አይቀጠል ነገር ። የህይወት ጣሙ ካልታወቀ ሞትስ\\nምን ትርጉም ይኖረዋል ?» አሉዋትና ብርሌአቸውን አንስተው አንዶቀ\\nዶቁት ።\\n\\n«እኔ ምን ቸገረኝ ? ሲያሞት ያዙኝ ልቀቁኝ እንዳይሉ ብቻ !» አለቻ\\nቸወመ- ፈገግ ብላ ።\\n\\nፈገግ ስትል ከእልፍኝ ውስጥ ሌላ ገነታዊ የጠዋት ፀሀይ\"ብቅ?ያለች\\nይመስል መላ ሰው*5ቱን ሞቅ አለው ።\\n\\nፊታውራሪ ፈገግ በማለት ፍንጭታቸውን ብልጭ አደረጉና የታፈሰን\\nደብዳቤ አንስተው ሰጡዋት ።\\n\\n«ከማን ነው ?» አለች ።\\n«ታፌስሰ ነው የላከው ። ስጦታም ልኮልሻል ።»\\n\\nዶደብዳ ቤውን ለማንበብ ቸኩላ ሳይሆን አይቀርም ይዛ ወዶ ጉዋዳ\\nሮጠች። የሀዲስ ልብ አብሮአት ወደዶ ጉዋዳ ሮጠ ። እንደዶ ገና እየሮጠች ተመ\\nልሳ መጣች ። ታፈሰ የላከላትን ስጦታ ወስዳ አሁንም ወደ ጉዋዳ ሮጠች።\\nአሁንም ልቡ አብሮአት ሮጠ ።\\n\\n«መቼ ነው የመጣኸው 1?»\\n‹‹አ . . . አቤት?»\\n«ካዲሳባ የመጣኽው መቼ ነው ?»\\n\\n«ትኖንት ምሽት» አላቸው ፤ ሁኔታውን ለመዶይበቅ እየተጨነቀ ።\\nወቁጊ አይኖቸው አስፈራው ።\\n\\n«የት አረፍክ ታዲያ ?»\\n\\n«ለጊዜው ያረፍኩት ካንድ ቡና ቤት ነው» አላቸው የመጣበት ዋና\\n\\nጉዳይ ትገ8 አለውና የሚከራይ ቤት እፈልጋለሁ ብሎ እንዴት እንደሚነግ\\nራቸው እዊጨነቀው ።\\n\\n«አዬ . . አጥፍተሃል ። እዚህ አትመጣም ኖሮአል ?» አሉና ከመቅ\\n\\nፅበት ወዶ ጉዋዳው አቅጣጫ ተመልክተው ፊ መ ንዳደረጉ ፤\\nወጣቱ አ.ጋፋሪ ፤ ቶሎሳ ፤ ከተፍ አለ ። ች መስስ\\n\\n«ስማ ቶሎላ ፤ ከተማ ባዶ ቤት አለን ?»\\nዯሎሳ በአዎንታ ለጥ ብሎ እጅ ነሳ ።\\n\\nሀዲ ስ ተነስቶ እጅ ከነሳ ግድ\\nየለም ። ሦጋዛሊሁህ አ፫፲ በሁዋላ ፤ «አልጋውና እቃው እንኩዋ\\n'},\n",
       " {'page_number': 46,\n",
       "  'text': 'ሀዲስ 45\\n\\nእንዴዶ መቆጣት ብለው ፡ «ምናለ ስትግዛ ትመልሳለህ» ብለውት\\nትኩቬር ብለው ከተመለከቱት በሁዋላ ፤0 ከንፈራቸውን በሀዘን መጠጡና\\n«እንዲያው ሳይህ አስተማሪዬን መክብብን ትመስለኛለህ ። እንዳንተው\\nጠይም * ጠጉሩ ክግንባሩ ላይ ግጥም ያለ ፤ ረጃጅም እጆችና ቅልጥሞች\\nያሉት ሰው ነበር ። ያፍንጫችሁ አወራረድና የዩቆን አከፋፈታችሁ ሁሉ\\nአንድ ነው» አሉት ።\\n\\nቶሎሳ ወደ ፊታውራሪ ጠጋ ብሎ በነጠላው ጫፍ አፉን እየሸፈነ\\nበጆሮአቸው ሹክ ያለውን አዳመጡትና ፤ «አስገባቸው» አሉት ።\\n\\nሀዲስ ተሰናብቶ ለመሄድ የተነሳ መሆኑን አይተው ለምሳ እንዲቆይ\\nነገሩት ። ትእዛዝ ነበር የሰጡት ። ለመሄድ ልቡ እየፈለገ ምርጫ ስላልነበ\\nረው ተመልሶ ቁጭ አለ ። አይናለም . . . ትዝ እያለችው ወደ ትሰወረች\\nበት ጉዋዳ ተስርቆ አይኑን በወረወረ ቁጥር ፊታውራሪ ያደረበትን ስሜት\\nዘልቀው የሚያዩበት ስለሚመስለው ልቡ እየደነገጠ ይቸገራል ። መቼ\\nመደንገጥ ብቻ--ኖደነገጠች ልቡን ካይናቸው ለመሰወር እየፈለገ ይጨነ\\nቃል ። ጭንቅ ሲለው እጆቹን የሚያገባበት ቦታ ያጣና የባሰውኑ ጭንቀትች\\nውስጥ ይገባል ። ከዚያ ወጥቶ ትኩስ አየር ለመተንፈስ ናፍቆት ነበር ።\\n\\nጠጉራቸውወ፡ የተነደፈ ጥጥ የመሰለ አንድ ጉስቁል ያሉ ሽማግሌ\\nገብተው ለጥ ብለው እጅ በመንሳት ወለሉን ከሳሙ በሁዋላ ኩታቸውን\\nእንዳሸነፈጡ ይቆማሉ ። ፊታውራሪ ትክ ብለው ሽማግሌውን እየተመለ\\nከቱ ፥ «አባ መርጋ አይደለህም እንዴ ?» አሉ ።\\n\\n«ነኝሜ አባ ብያ» ብለው እጅ ይነሳሉ ።\\n\\n«ምን ነው ድንገት አረጀህ ?»\\n\\n«ችግር ነው ያስረጄኝ ። ችግር ቀጠሮ ሰጥቶ አይመጣም....»\\n\\n«እንዳንተ ያለ ክእርፉ ላይ የሚሞት ብርቱ ገበሬ እንዴት ይቸግረ\\nዋል ?»\\n\\n«በሰው መሬት ላይ ምን ቢበረቱ አዳሩ ጦም ነው ።»\\n\\n«ኢንዴት ! እንዴት !»\\n\\n‹ኢ. ..ሁሉ መቼ እንደ እርስዎ ሆነና ። ሰውም ጊዜውም ከፍቶአል።»\\n\\n«እንዶ ዱሮ ቢሆን ቅድም የተናገርከው ነገር አርባ ጅራፍ ያስቀጣህ\\nነበር ። ጊዜው በኛም ላይ ከፍቶአል» አሉትና ፊት ለፊታቸው ካለው\\nግድግዳ ላይ አይኖቻቸውን አሳረፉ ። ሀዲስ አይናቸውን በአይኑ ተከተለ ።\\nበፊት ገባሮች ሁዋላም ጭሰኞች እጅ ከወርች ታስረው የሚጣሉበት ትልቅ\\nጥቁር እግረ ሙቅና ቅቤ የጠጣ የሚመስል ረጅም አኮርባጅ ከግድግዳው\\nላይ ተሰቅለው ይታያሉ ።\\n\\nሽማግሌው እጅ ነስተው ዝም አሉ ።\\n\\n«የወነጨፍከው ድንጋይ እንዶ ጥይት ይጮሃል ሲባል ሰምቼ?›» አሉ።\\n«ቕኙግር በወንጭፍ መቼ እሺ ብሎ ይባረርና !»\\n\\n‹ጅሙጅራፍህ መልካውን ሲያናግር የሚውል ፤ የሚያዝያ ሲምብር የሀ\\nምሌ ወመጀቦ የማያግድህ * ዲቡንና የምታዴባልቅ ፤ በፈሮ ማረሻ ምድሩን\\nየምታስጨንቅ ፤ የተኩዋረፈ በሬ የምታስታርቅ ፤ የምትቀደዶውን ፈር መቃ\\nብር የምታስመስለው ሰው እንዴት ተቸገርኩ ብለህ ትናገራለህ ?»\\n'},\n",
       " {'page_number': 47,\n",
       "  'text': 'ደ ፕጸ6.ለሰን፡፡ ሞ\\n\\n«ክሰማይ ዎፍ ከምድረ አውሬ የተረፈ እህል ሲሶው ለባለ መሬት\\nተሰጥቶ የቀረው ምን ፋይዳ ሊሰራ ! ትርፉ ድካም ነው * አባ ብያ ።»\\n\\n«እንዴት ! እንዴት ነው የሚናገረው ይህ ደፋር!ባንተ ብቻ አልመ\\nጣም ። ህጉ ባገር ያለ ነው ።»\\n\\nዣ «እሱስ ነው አባ ብያ ። ለነገሩ አልኩ እንጂ ። ብሶት ነው የሚያናግ\\nሬረኝ ።ጅ\\n\\n«ታዲያ ችግርህ ምንድን ነው ?»\\n«ምን ጉልበቴ ቢዝል አሁንም እርፉን መስበር አሳቃተኝም... .»\\nኗእኮ ታዲያ 12 -\\n\\n«አባ ብያ---ሁለት ህጣን ልጆቼ በጠና ታመውጭኝ ሲሊሞቱ ሲሉሎ ‹\\nገንዘብ በእጄ ስላልነበረ ፤ ለማሳከሚያ ሁለት መቶ ብር ባራጣ ተበደርኩ ።\\nአሁን ሁለት መቶ ታምሳ ብር ሆኖብኛል ። ሰሞኑን የትም ገብተህ ካላመ\\nጣህ በውልህ መሰረት የዘራኸውን እህል ማሳው ላይ እንዳለ ላትራፊ ነጋዴ\\nእንሸጣለን ብለው መግቢያ መውጫ ስላሳጡኝ ነው ወደርስዎ የመጣሁት።»\\n\\n«ምን እንዳደርግልህ ?»\\n\\n«ገንዘቡን እንዲያበድሩኝ ነው ። እህል ሲደርስ ሸጩጨ እከፍላለሁ ።\\nማሳዬ ያጉዋጉዋል ፤ አባ ብያ ።እንዴት አይኔ ኢያየ አሳልፌ ልስጠው ?»\\n\\n-.- ፊታውራሪ አቀርቅረው ሲተክዙ ቆዬና ቀና ብለው ፥* ኗእንዳነጋገርህ\\nከሆነ ብድር ሳይሆን ጅራፍ ይገባህ ነበር ። ጊዜው ነው ያናገረህ ! ይህች\\nጥሬ ያደረች እንደሆነ አትቆረጠምም ይባላል ። እውነት ነው ። መልካም -\\nነው ። ብድር የወሰደ ቢመልስ ቤቴን.፥ ባይመልስ ግን አጥሩን ይሰራል\\nይባል የለ» ብለው ቶሎሳን ባይናቸው ጠቀሱት ።\\n\\nሽማግልሙ አስር አስር ጊዜ መሬት እየሳሙ የማይደረድሩት ምድ\\nራዊ ምርቃትና ምስጋና አልነበረም ። የፃድቃን ከተማ ፤ መንማግስት ሰማ\\nያት ቢኖር የተደረዴረው ምርቃት የይለፍ ወረቀት ወይም ሸኝ ደብዳቤ\\nሆኖ ባገለገለ ነበር ።\\n\\nሽማግሌሴው መሬቱን በኩታቸው አብሰው እንደ ወጡ ሌላ ሽማግሌ\\nበእግራቸው ተተኩ ። እሳቸውም የተሻለ ሁኔታ አልነበራቸውም፥፤ እንዶ\\nተቀሩት ምድራዊ ጉስቁል ነበሩ ። ፇ\\n\\nከትንሽ ትክታ በሁዋላ « «ምንድን ነው ጉዳይህ ወዳጄ ? አባዋሪ አይ\\nደለህም እንሙ ? ምንነው በደህና ? . . . ደህና ብትሆንማ አትጠይቀኝም\\n\\'ነበር» አሉዊቸው ። \"\\n\\n«አባ ብያ--እውነት ነው ። እግዜርንም ቢሆን ሳይጨንቀው ማን\\nያስታውሰዋል?ካልቸገረው ሰማይን ወደ ላይ ቀናብሎ የሚመለከትየለም #”*\\n\\n«እግዜርንና ወዳጅን ማስታወስ በ\\n+ “ብ ተቸገሩ ጊዜ አይደለም ። ያልዘሩት\\n\\nመሬት ስመው ዝም ።\\n«ወንድምህ ብር የተረፈው ቴጃር ነበር ፻»\\n'},\n",
       " {'page_number': 48,\n",
       "  'text': 'ምችችችን ፡ . ደ በከበ ሀዲስ 47\\n\\n«ፍየል መንታ ወልዳ አንዱ ለመፃፍ አንዱ ለወናፍ ይባል የለ ። እኔም\\nንግዱን ሞክሬው ነበር ። ለመከራ የጣፈው ቢነግድ አይተርፈው ነገር\\nሆኖብኝ ነው እንጂ.. .»\\n\\n«ቡናህን የሸመጠጥክ\"ለት ፤ እንግዳ ሲመጣ ገንቦው አይገታ ይባል\\nልሃል አሉ ። ዋንጫህማ ክንድ ክንድ ያክላል ይባላል ።»\\n\\n«አዎን አባ ብያ፤ ከሰው ጋር አብሮ መብላቱንና መጠጣቱንስ እወድ\\nነበር...»\\n\\n«ታዲያስ!?»\\n\\n«ጠጥቶ በልቶ ዞር ሆነ የዘመኑ ፈሊጥ ። ሰው ጨው አይደል ተቀምሶ\\nአይታወቅ ። ሞሜ ሲያመሰግኑት የባሰውኑ ሞኝ ይሆናል ። ሲያመሰግኑኝ\\nደስ ደስ እያለኝ ብሉ ብሉ ስል እጄ አመድ አፋሽ ሆኖ ከሀብቴም ከወ\\nዳጅም ሳልሆን ቀረሁ ።»\\n\\n«ወዳጅ ማለት ሰው አይደለም ። ጊዜ ነው ። ወዳጅ ማለት ጊዜ\\nነው ።\\n\\n«ጊዜውም ከዳኝ...%»\\n«ምን.ድን ነው ችማርህ ?»\\n\\n\\' «ግብር የምከፍለው አጣሁ ። ቡናየንም ትል በላው ። አምና ከብቶ\\nቼን ሸጩ ከፍዬ ነበር ። ዘንድሮ ምን እንደሚውጠኝ አላቅም ። ልጆ\\nቹም እንዳይረዱኝ የሉም “» .\\n\\n«የት ሄዱ ?5\\n\\n«አባ ብያ . . . እድሜ ያላደለኝ ሰው ነኝ ። ልጄ ወዳዲሳባ ኮብልሎ\\nከሄዴ ዘመን የለውም ። እዚህ ትንሽ የፈረንጅ ፊደል ቆጥሮ ነበር ። አሁን\\nበህይወት ይኑር አይኑር አላውቅም ። የደረሰች ልጄም እንዲሁ ወዳዲሳባ\\nኮብልላ ጠፋች ። እሱዋም የት እንዳለች አላውቅም ። በስተርጅና ያለ\\nጡጭዋሪ ቀረሁ ።ቓ\\n\\nፊታውራሪ ለጥቂት ጊዜ ትክ ብለው ሲያስቡ ቆዩና ፤ «የማሚያውቁት\\nአገር አይኖፍቅም ይባል ነበር ። ዛሬ አዲሳባ ሳትታይ ከሩቅ የምትናፈቅ\\nከተማ ሆናልች ፤ ወርቅ ከመሬት የሚታፈስባት ይመስል ። ግን ወደ ፊት\\nበተቸገርክ ጊዜ ብቻ ሳይሆን በደህናውም ቀን ጠይቀኝ ። ለአይንና ለወዳጅ\\nጥቂት ይበቃዋል ። ያልክው ይሁንልህ» አሉዋቸውና ቶሎሳን እንዴ ገ\\nባይናቸው ጠቀሱት ።\\n\\n«ከእስር ቤት ከዳንኩኝ እንደ ምንም ብዬ እከፍላለሁ ። በፊርማዬም\\nግዴታ እገጣባለሁ ።» ፪\\n\\n«በወዳጆች መካከል ፊርማ አያስፈልግም ። ቃል ይበቃል ። ከቃል\\nየበለጠ ም> ነገር አለ ?»\\n\\nሰውዬው ከደስታቸው ብዛት ሲቃ ይዞአቸው መሬት ስመው እየመ\\nረቁ ሲወጡ- ቶሎሳ እንደገና በጆሮአቸው ሹክ አለ ።\\n\\n'},\n",
       " {'page_number': 49,\n",
       "  'text': \".-9 ዲ ኢ\\n\\n«ስንት ናቸው ?» አሉት\\n«አሕረ ብዙ ናቸው ።»\\n\\n«ላንድ ጉዳይ ከሆነ የመጡት ሁለት ወይም ሶስት ሰዎች ከመካከላ\\nቸው መርጠው ያስገቡ ። ስንቱን አዳምጩ እችላለሁ?» ከማለታቸው ፥\\nአይናኖለም እገደዴ በ.ራቢሮ ስትበር መጣችና ሀዲስን * «እውነት ጋሼ ታፈሰ\\nይመጣል ?» ስትለው ፥\\n\\nህልውናው በሙሉ ውብ አይኖችዋ ውስጥ እየቀለጡ ፤* «እመጣለሁ\\nሲል ነበር እየዶጋገመ» ልላት ።\\n\\n«ታድዬ !» አለች ደብዳቤውን ጨብጣ ።\\n\\n- «የምን መታደል ነው የምትይው !» አሉዋት' ፊታውራሪ ፤ ቆጣ\\nብለው ። ሲቆጡ ከግንባራቸው መካከል ያለው የደም ስር እንደ ምሰሶ\\nተነስቶ ይገተራል ።\\n\\n«ባይሆን እዚህ ቤት ውስጥ አንድ አጋር ይኖረኛል» አለች ፤ ከጠራ\\nረጅም ፊትዋ ላይ ደምዋ እየተተራመሰ ።\\n\\n«የምን አጋር !» አሉ በዚያ አስፈሪ አይናቸው-እየገላመጡዋት ።\\n\\nእስሞ እንዶ ሆነች ፍንክች አላለችም ። የሀዲስ ልብ ተሰቀለ ። ምን\\nእንዳጣላቸው ምኑም አልገባውም ። ምድረ አለም እንዶዚያ የሚንቀጠቀጥ\\nላቸውን ሰው እንዶደዚያ አስቆጥታ መልሳ ስታፈጥባቸው ገረመው ።\\nትአምር ማለቂያ የለውም ፤ አለ በልቡ ። ትክ ብለው ነኝበር የሚመለከቱ\\nዋት ። ግን ከፊታቸው የሚመለከቱት ነገር ምኑም የገባቸው አይመስሉም ።\\nየሰው መስታወት ከፊታቸው አልነበረም ። «ወይ ጊዜ ! ጊዜ አያመ\\nጣው የለ ። ጉድና ድንቅ አንድ ስሞን ነው» ብለው ዝም አሉ ። እስዋም\\n\\nዝም ዷጌላ ወጣች ። አቤት ስትናደድ ማማርዋ ! የፈነዳ ፅጌረዳ አበባ ትመ\\nስላለች ።\\n\\n«ስምንተኛው ሽህ--ስምንተኛው ሽህ ነውኮ» አሉ መምሩ ሪዛቸውን\\nእየጎነተሉ- ። አይናቸውን ባዶ ብርሌአቸው ላይ ተክለው ።\\n\\nፊታውራሪ እየተገረሙ ፤ «አሁን ማ ይሙት ይመጣል ብላ ነው ?\\nእንኩዋን የተማረ ፊደል የቆጠረም ካዲሳባ ወጥቶ ባላገር ሲመለስ አላየ\\nንም ። ሰምቹን አስገባ ወንድሜ›» አሉ በጎረና ድምፅ ።\\n\\n«ሰሙ ከተማ ገብቶ እንዴት ይመለሳል !» መምሩ ነኝበሩ ።\\n\\nሶስጉ አዛውንቶች ትከታትለው በመግባት እንደዶ ሌሎቹ ሁሉ መሬት\\nስመውና እጅ ነስተው እንደ ቆሙ ፤ ፊታውራሪ ግንባር ላይ እንደ ምሰሶ -\\nተገትሮ ቕሞ የነበረው ደም ስር ሙዋሾ ሲጠፋ ይታይ ነበር ። ለጥቂት\\nጊዜ ተለይድቶአቸው የነበረ ደስታ እንዶ ተመለሰላቸው ብሩህ እየሆነ ከሜ\\nሄደው ፊኃታቸው ላይ ይነበባል ። የፊታውራሪ ስሜት እንግዳ ነገር ሆነበት ።\\nየዶስታቸመ፡ ምንጭ ምን እንደሆነ ሊገባው አልቻለም ። ሰዎችን ማነጋገር\\nልዩ ደስታ የሚሰጣቸው ፤ የሰው ትንፋሽ የሚናፍቃቸው ይመስላሉ “\\nሰዎች ገግብተው ሲቆሙ ግርማ ሞገሳቸው ይጨምርና ድንገት ግዙፍ\\nእንፉ ሆኑ አይነት ስሜት በሰሳው ላይ ይፈጥራሎ ።\\n\"},\n",
       " {'page_number': 50,\n",
       "  'text': \"ሀዲስ 49\\n\\n«እንዴ ? እንዴ ? -‹የዳሪሙው አባ ዋቆ --- የተኮሳት ጥይት ከመ\\nሬት ጠብ የማትል ። እንደምነህ ጀግናው ?»\\n\\nሶስቱም ጠብ እርግፍ ብለው እጅ ይነሳሉ።  አባ ዋቆ ሸምገል\\nያለ አንድ አይና ሰው ነው ። «ዩአነጣጥሮ ለመተኮስ አንድ አይን ይበቃል ፤\\nለጥቅሻ ከሆነ የመንደር አውደልዳዮች አይናማዎቹ አሉልን» አለ ይባላል--\\nአባ ዋቆ --- አንዴ ። የድኩላና የሚዳቁዋ ቁዋንጣ ከቤቱ አይጠፋም ።\\nያባ ዋቆን ክምር ጥይት አይበሳውም ይባል ነበር ።\\n\\n«ቀኛዝማች ደህና ነው ወይ ?»\\n«ቀኛዝማችስ ደህና ናቸው ። እኛን ደሆቻቸውን ጤና ነሱን እንጂ - ..»\\n«እንዴ ፻ ለምን”ኾ ?ገ» 1\\n\\n«ከመሬታቸው ላይ ነቀሉን ። እንዲያው ጎጆአችሁን ነቅላችሁ የምት\\nሄዱበት ሂዱ አሉን ። እዚህ የመጣነው አርባ ሰባት ሰዎች ነን ። ከቤተ\\nሰቦቻችን ጋር ከሁለት መቶ በላይ እንሆናለን... . »\\n\\n«ምን ሊየደርግበት ነው?»\\n\\n«ዘመናዊ እርሻ አስፋፋበታለሁ ነው የሚሉት ። መንዲስ መንዲስ\\nየሚያካክሉ ኖርሻ መኪናዎች ገዝተውና ሾፌዴሮች ካዲሳባ ድረስ ቀጥረው\\nአስመጥተው አገር ምድሩን እየገለባበጡት ነው ወቓ» ፦\\n\\n«ጉድ ነው”ኮ ። እሺ ፻9\\n\\n«መኪፍዎቹ የሚገለባብጡት መቼ መሬቱን ብቻ ሆነና ? ያባት የቅመ\\nአያቶቻችንን አጥንት ጭምር ነው ። አባ ብያ --እድሜ ልካችንን\\nሲሶ ስናፈስና ሁዳድ ስንሆድድ ከኖርንበት መሬት አሁን ተባረን የት\\n\\nንውዶቅ ?\\n\\n«እንደ“ሂያዩት ጉልበታችን ደክሞአል ። ጎጆ ብርቱ ሰው ታደክማ\\nለች ። እድሜ ልክ ከኖርንበት ከምናውቀውና ከሚያውቀን መሬት ድንገት\\nተነስተን ፤ የትኛው መሬት ሊቀበለን ? የችኛው ጉልበታችንስ ሊያቀናው\\nይችላል ? ሰውም እግዜሩም ፈረደብን ። አንዳንዴ ሳስበው እግዜሩም\\nየዱሮው እግዜር አይደዴደለም እላለሁ ።»\\n\\nመምሩ በስመ አብ ብለው አማተቡ።\\n«ክስ ሄዳችሁ ነበር እንዴ?» አሉ ፊታውራሪ ።\\n\\nሀዲስ ጆሮውን ክፉኛ አንቅቶ ያዳምጥ ነበር ። ሁለመና\\nሆኖ ነበር--ልቡናው ታፈስ ብሩን እያስታወሰ ። ው.ጆሮ ብቻ\\n\\n«አዎን አባ ብያ ፤ ያልደረስንበት ፍርድ ቤት የለም ።»\\n\\nኗ«እና 1?>»\\n\\n«በየዴረሬስንበት ትነቀላላችሁ እያሉ ፈጠሙን »\\n\\n«ታዲያ አሁን እኔ ምን እንዳደርግላችው ነው የመጣችሁት 1\\n\\n«ቢያማልዱን ብለን ፸፲፲ጫጽ፱ግ፲ነኣይፀደፃ፲ መቼም\\n'ጐርስምዎን ሳይሰሙ አይቀሩም ወ ጻ\\n\"},\n",
       " {'page_number': 51,\n",
       "  'text': 'ዩ \\'.....ክክ88..ኋ፣መመምሞፍሺ\\n\\n«ክስ ከመሄዳችሁ በፊት ብትመጡ ነበራ ። ካያያዝ ይቀደዳል 5\\nካነጋገር ይፈረዳል ይባላል ። አባ ዋቆ ዱሮውንም ችኩል ነህ ። እንዲያው\\nከምትተኩሰው ጥይት ትቀድማለህ ። የቸኮለ አፍሶ ለቀመ ይባላል ። የፈሰስ\\nውሀ አይታፈስ እንሣግዲህ ። ለክስ ከሮጣችሁ በሁዋላ አሁን አማልደን ብት\\nሉኝ እንዴት ይሆናል ? ጠላት ግዛ ነው የምትሉኝ 72 ብለው ከተቀመጡ\\nበት በመነሳት እጆቻቸውን ወዶ ሁዋላ አጣምረው እየተከኩ ሲንጎራደዱ\\nከቆዩ በሁዋላ ፥ በመስኮት ከእልቄ ወንዝ ባሻገር ካለው ትራራ ማዶ ሩቅ\\nእየተመልከቱ ፥ ዩቀኛዝማችም ቢሆን ደግ አልስራም ። አሁን ከመሸ ይህን\\nስራ ምን አስመለከተው? ሞልቶ ለተረፈ ላልጠፋ ሀብት? ወቸ ጉድ---ሰው\\nእንዳስቀመጡት ላይገኝ ! መሬት ያለ ሰው ብቻውን ምን ረብ ይኖረዋል\\nብሎ ነው ? አይ አለማወቅ ደንቆሮ ግጥም ! አያጣም አሉ ።\\n\\n«ሴውን ነቅዬ ብቻዬን ልረስ ማለት-.--- .ዋ!. . . ሁዋላ መዘዙ ብዙ\\nነው ። ኖሰውን እንጀራ ገመድ መበጠስ በእግዜርም ፊት ያስጠይቃል ።\\nምን ተይዞ ጉዞ ? የከበሬታው ፥ ታፍሮ በሰላም የመኖሩ ፤ የስልጣኑ ፤ እንዲ\\nያው.. . . የአገሩ ስርአት ፥ ልማድና ወግ መስሰረቱ ምን ፣ ሬ ፕ ነው ? መሬት\\nሰው አይደል ? ሰውን ከመሬት ላይ አንስቶ ማባረር አህሀ ን ምን ይባላል ?\\nሞኝ የያቭሸው ፈሊጥ ካልሆነ በስተቀር ። በገዛ እጃችን ነውኮ በራሳችን ላይ\\nየእግዜሩን መአተ ቁጣ የምንጠራው ። ከመሬት እንዲለይ የተዶረገ ሰው\\nስር የለውም ። ስር ኬሌሴለው ፈሪሃ እግዚአብሄር አያድርበትም ። ጨካኝ\\nአውሬ ነንሃው የሚሆነው ። ካውሬ ከበሬታና ፍቅር ይጠበቃል ወይ ?\\n\\n«የብር ስልቻዎች ! ጊዜ የፈለፈላቸው የብር ስልቻዎች ናቸው እኮ\\nአገር የሚያጠፉት ! ለስንት ዘመን በሰላም ፀንቶ የኖረውን ስርአት ከስሩ\\nበመናድ የሚያናኛጉት ። ሳያሽ የበላ ዝንጀሮ ሲስል ያድራል አሉ። \\'\\n\\n«አኤዬ ቀኛዝማች ---እሱም የብር ስልቻ መሆን ፈለገ? መወለድ መቼ\\nአነሰው ኝበር፤ከመወለድ፤*የበለጠ ምን አዱኛ አለ >ብለው ወዶይ ሰዎቹ ፊታ\\nቸውን መለስ አደዶረጉና ---«ክብርና ሞገሱ እናንተና መሬቱ አልነበራች\\nሁም ? ሰው ብቻውን መሬት ቢያርስ ምን ፋይዳ አለው ? ብቻውን የበላ\\nብቻውን ይሞታል ። ሁሉም ተስገበገበ ። ከጅብ ቆዳ እንደ ተሰሩ\\' ከበሮ\\n*ለኔ ለኔ” ብቻ ሆነ ነገሩ። በሰዎች መካከል መተሳሰብ--- መክባበርና መፋ\\nቀር ጠፋ ። አይ ጊዜ--አያመጣው የለ ! ሩጫው ወዴት ሊዲያደርሰን\\nይሆን ?ጅ አሎሉሎ ።\\n\\n«ስምንተኛው ሺ ነውኮ ። ሌላ ምን መሰሎት ። ጊዜው የሚያሳየንን\\nምልክት የሚያጤን ልቡና ተሰጥቶናል» አሉ መምሩ ። ትልቅ ዝንብ\\nየሚያንዣብብበትን ባዶ ብርሌአቸውን በጎን አይናቸው እየተመለከቱ *\\n\\nቶሎሳ መጥቶ ሌሎች ባለጉዳዮች የሚጠብቁዋቸው መሆኑን ስለነገ\\nራቸው ዳይሆን አይቀርም ፥ «በቃኝ ። ለዛሬ ይበቃኛል ። የሕዝብ እንባ\\nጠባቂ መን አደረገኝ ። ወረዳው ገዥ ዘንድ ሄደው ለምን አቤት አይሎም !\\nእሱ ነው የተሾመው» አሉ ፊታውራሪ ተካ ።\\n\\nከጣለጉዳዮቼ መካከል አንዱ ፥ «አዬ አባ ፥ ወረዳ ገዥው ጋ ማን\\nአድርሶንዕጌ? ብንዶርስም አቤቱታችንን እንዳመፅ ነቼዷያየሚቆረዷዘዘጋ ሲል፦\\n\\nሌላው ባለጉዳይ ቀጥሎ ፡ «ለዚያውስ የት ሳቸው አመቱን\\nሙሉ መቱ ፤ አዲሳባ እያሉ ነው የሚኖሩት» ፰፯፶ና \"ክ\\n'},\n",
       " {'page_number': 52,\n",
       "  'text': 'ሀዲስ 54\\n\\n«ታዲያ እኔን ምን አድርግ ነው የምትሉኝ ? መንግስት የሰጣችሁን\\nአሜን ብሎ መቀበል ነው እንጂ ። ከእንግዲህ ባላባትነት ምን ዋጋ አለው?\\nስልጣን የለኝ ። ዛሬ ስልጣኑ የሌሎች ሆኖአል» ብለው ፥ ሰዎቹን ከሸኙ\\nበሁዋላ ፤ «ባንዳዎችና ነጋዴዎች የነገሱበት አገር ! የኛ ዘመን እንደሆነ\\nአክትሞአል ። ምን አድርግ ነው የሚሉኝ ? እኔም ከነሱ የባስኩ ነኝ ።\\nአያት ፤ቅመ አያቶቼ የገዙት አገር ማንም ቅማላም ወረዳ ገዥ እየተፈራረቀ\\nሲሾምበት እያየሁ ተቀምጩ የለ !» በማለት እድላቸውን ሲያማርሩ ቆዩና ፤\\n«ተጫወት እንጂ ። ምን ነው ዝምታ ታበዛለህ ?» አሉት ሀዲስን ።\\n\\n«እሺ» አለ ሀዲስ ።\\n\\n«ጉድ ነው» ብለው ትኩር በማለት ሲመለከቱት ቆዩየና ፤ «ከመልካ\\nችሁ የጠባያችሁ መመሳሰል ። እሱም እንዳንተ በጣም ረጋ ያለ ሰው ነበር ።\\nሳይህ ልክ መክብብን ትመስለኛለሀ» አሉትና እንደገና ትክ ብለው\\nይመለከቱት ጀመር ማዋ\\n'},\n",
       " {'page_number': 53,\n",
       "  'text': 'ፖጓ\\n\\nክፍል ፪\\n\\nሀዲስ ሳህሌን በጣም የገረመው ፊታውራሪ ተካ ካከራዩት ቤት ገብቶ\\nገና ከ፪፲፪ላዶለ፲ በፊት ፤ መሬትን በሚመለከት ጉዳይ ለጭቃ ሹሞች ሩ\\nለወረዳ ገዥዎች ፤ ለወረዳ ፥ ላውራጃና ለጠቅላይ ግዛት ፍርድ ቤቶች\\nማመልከቻ ፥ መልስ ፥ የመልስ መልስ ወይም ያቤቱታ ደብዳቤዎች ፃፍ-\\nልን እያሉ ስሙን ጠርተው ወደ ቤቱ የሚመጡት ሰዎች ቁጥር ብቫዛት ነበር።\\n\\nመሬቴን በግፍ ተቀማሁ ። ድንበሬ ተገፋ ። ከሶስት ትውልድ ጀምሮ\\nከኖርኩበት መሬት ላይ በግፍ ያለ ምንም ካሳ ተነቀልኩ ። በይዞታዬ ስር\\nያለው መሬት ጋሻ ስለማይሞላ ተለክቶ ልኩ እስኪታወቅልኝ ድረስ የተ\\nጣለብኝ ግብር ይነሳልኝ ። የዘንድሮ ሰብሌን ውርጭ ስለ መታብኝ የመሬት\\nግብር ፤ የጤናና የትምህርት ታክስ ይታለፈኝ ። ግብር ከፍዬ አልከፈልክም\\nተብዬ ስለ ተከሰስኩ ነገሩ ይመርመርልኝ ። ይሄውና የመሬት ግብር ልከ.\\nፍል ብመጣ የጠረጴዛ ክፈል እያሉኝ በመጉላላት ላይ ስላለሁ አቤቱታዬ-\\nታይቶ ግብሩን የሚቀበለኝ ሰው ይታዘዝልኝ . . . ስሞታው ማለቂያ የሉ\\nውም።\\n\\nትምህርት ቤቱ ገና ስላልተከፈተ ደስ እያለው ነበር የሚፅፍላቸው ።\\nአንዳንዶቹ የድካምህን ዋጋ ካልከፈልንህ ሞተን እንገኛለን በማለት ያስቸ\\nግሩታል ። ሌሎች ደግሞ አንድ ሁለት ብርሌ ጠጅ ፤ ከፈለክም ሌላ ነገር\\nወስደን ካልጋበዝንህ በማለት ዱላ ቀረሽ ትንቅንነቅ ይገጥሙታል ። ጥቂቶቹ\\nደግሞ እየመረቁት ይሄዱ ነበር ።\\n\\nወሬውና አቤቱታው ስለ መሬት ፤ መኸቱቴ ስለ መሬት ፤ ትንቅንቁና\\nሙግቱቴ በመሬት። የመሬት ነገር እዚህ ፥ የመሬት ነገር እዚያ ፤ የመሬት\\nነገር በድለበት ። እንደ አዲስ እበባ ማ2 ምን አይነት አዲስ መኪና ገሻ \"\\nማን ምን አይነት ቤት በስንት ሽህ ብር ሰራ?ማን ምን አዲስ ስራ ከፈተ\"\\n\\nእጋደ ተለመደው አንድ ቀን ማለዳ በሩ ሲመታ እየተራገመ ሄዶ\\nከ ከት ኣንቸልቱ ኮሚቀበችስውን ሰው አንዴ አላኔ ንላር ነበ\\n]\\nየሚኩበዱ አዛውንት ነበሩ።\\n'},\n",
       " {'page_number': 54,\n",
       "  'text': 'ሀዲስ 53\\nሐረኒጆ\\n\\n«ምን ነው ደህናገ» አላቸው ፤ እኝህ ሰው በጉርብትናቸው ተጠቅመው\\nልዩ ፀሀፊያቸው ሊያደርጉኝ ነው እንዴ ? በማለት እያሰበ ። ባለፈው ቀን\\nእንዲሁ በማለዳ ቀስቅሰውት አንድ ማመልከቻ ለወረዳው ፖሊስ ጣቢያ\\nፅፎላቸው ነበር ።\\n\\nፍከእንቅልፍህ ቀሰቀስኩህ መሰለኝ?»\\n«ምንም አይደለም» አለ ፤ በልቡ እየተራገመ። . ,\\n«ወንድ ልጅ እንቅልፍምንያ\\'ረግለታል? ማለዳ መታጠቅ ነው\\'ይ--»\\n\\nተንጠራርቶ አዛጋና አይኖ#ቼን አሽቶ ሲያበቃ ፤ ንጭንጭ ባለ ድምፅ *\\n«ሌላ ማመልከቻ እንድፅፍልዎ ነው የመጡት?» አላቸው ።\\n\\n«ሌላ እንድትፅፍልኝ አይደለም ። የትናንቱን ትንሽ አሻሽለህ እንድ\\nቅፅፍልኝ ፈልጌ ነው» አሉት ።\\n\\nእንቅልፉ ካይኑ እንዴ ወፍ በረረች ። የፃፈላቸውን ማመልከቻ ይዘት\\nአስታወሰ ። ፍሬ ነገሩ ፣ ገንዘብ በብድር ወስዶ ያስቀረባቸው አንድ ሰው ፤\\nነገ ክነገ ወዲያ እያለ ስላስቸገራቸው በፖሊስ ተገዶ ቀርቦ እንዲጠየቅልኝና\\nገንዘቡንም እንዲከፍለኝ እንዲደረግልኝ የሚል ነበር ።\\n\\n«ምኑን ነው የማሻሽለው?» ብሎ ጠየቃቸው ።\\n«ደረቅ ሆነብኝ»\\n\\nየባሰውኑ ነቃ ።\\n«እንዴት?>» አለ ።\\n\\n«መጆመሪያው ላይ ፤ *እኔ ረዳት የሌለኝ ዶካማ ሽማግሌ የሆንኩ\\nአነስተኛ ዴሀዎ\\'\" የሚል አሳብ ብትጨምርልኝ ። እንዲሁም መጨረሻው\\nላይ ፤ “ዛፖሊስ እንዲሰጠኝ አመለክታለሁ\" የሚለው ቀርቶ በእሱ ምትክ ፤\\nፖሊስ እንዲታዘዝልኝ ከስልጣንዎ መንበር ስር ወድቄ በታላቅ አክብሮት\\nእለምናለሁ”? የሚል ኣሳብ ብታክልልኝ ደስ ይለኛል ። ወድጄን አይደለም\\nልጄ ። የመቶ አለቃ አሽኔ አስተዛዝነው ፤ እሱን ክበውና ኣሞግሰው ካል\\nፃፉለት ኣአሯቀበልም አሉ ። እንዲያውም አንዳንድ ?ገፍክሳቸውን ሰፖች\\nወረቀት ተቀብሎ ፥ ማን ነው እንዲህ ያለ እብሪትና ንቀት የተሞላበትን\\nማመልከቻ የሚፅፍላችሁ ? ለመሆኑ ለማን እንደምትፅፉ አውቃች\\nሁዋልን ? እንዲህ ያለው ቁዋንቁዋ የትም ኢያደርሳችሁም!\\' ሲል ነበር\\nአሉ» ብለው ፤ እንዲፅዕፍላቸው በአይኖቻቸው ተማፀኑት ።\\n\\n«እንዲህ አይነቱን ነገር ለመፃፍ ያስቸግራል» በማለት ተነጫነጨባ\\n=\\n\\n«ምን የሚያስቸግርህ ነገር አለ ልጄ? ትንሽ ቃላት ነውጭ የምትጨ\\nምረው... .>\\n\\n«እኔ በዴብዳቤ ልመና መፃፍ ደስ አይለኝም.. . .»\\n«ባለ ስልጣኖችን ካልተለማመጡና ካልለመኑ እንዴት ይሆናል ? አይ\\nአለመማር?1 ብማር”ኮ እኔው እፅፈው ነበር። አሉት እያዘኑ ።\\n\\n«ቢመፃገሩማ እንዲህ ብለው አይፅፉም ነበር ። ሙበት ይጠየቃል\\nእንጂ አይለመንም ፤ አባቴ» ብሎአቸው ፥ እየከፋው እንዳሉት ፅፎ ሰጣቸ\\nውና መርጭውት ከክሄዱ በሁዋላ ፥ እሱም ንፁህ አየር ለመተንፈስ ወጣአለ።\\n'},\n",
       " {'page_number': 55,\n",
       "  'text': '54 ሀዲስ\\n-ኢ ጻ መጨሥ-ጨ-ጨ--ጨ-ሙ>--ሥጮሙሥ-› ፡ ፡ ቁ ፡ 8 ። 8 በመ\\n\\nየእሁድ ገበያው ፥ ገና ጠዋት ቢሆንም ደርቶአል ። ከኖጳ › ከአልጌ ፥\\nከዳሪሙ ፥ ከቡቤ ፤ ከቆላው ፥ ከደጋው ፤፥ በእግር ፥ በፌረስ ፤ በበቅሎ የመ\\nጣው ገበያተኛ ስፍራውን ሞልቶታል ። በየበረንዳው ስር የተደረደሩት\\nልብስ ሰፊዎች ስራ በዝቶባቸው ይታያሉ ። ነጭ ፤ ጥቁር ‹ ቀይ ፤ ብጫ፥\\nከረንግዋዴ ፥ ሰማያዊ ጃንጥላ ። የቀለም አይነት የሚታይበት በአል ይመ\\nስላል ። ጎፈሬአቸውን ጥቁር ጉም አስመስለው ያበጠሩ ጎረምሶች ከገበያው\\nኣአፋፍ ሳይ ዘንግ ዘንጋቸውን ተደግፈው ቆመው ጥርሳቸውን እየፋቁ ጢቅ\\nይላሉ ። የሞቁት እንሶስላ ፤ ከሩቅ የሚጣራው ሳዱላቸው ገና ያልገጠመ\\nልጃገረዶች በገበያው መሀል እንደ ቢራቢሮ ውር ውር ይላሉ ።\\n\\nጠጅ ቤቴ ሁሉ ከአፍ እስከ ገደፉ ሞልቶ ፤ መሰንቆውን ሲያሙዋሽ\\nየቆየው አዝማሪ ግጥም እስኪያልቅበት ድረስ ማቅራራት ጀምሮአል ።\\nበየጠጅ ቤቱ ደጃፍ እንደ ተለጎሙ የታሰሩት የጋማ ከብቶች ዝንብ ለመከ\\nሳከል ጭራዎቻቸውን እያወዛወዙ በቁም ያንቀላፋሉ ። ገቢያው ሞልቶ\\nእጅግ እንደዴ ደራ ፊታውራሪ ተካ በሰጋር በቅሎአቸው ሆነው ካጀባቸው\\nጋር ገበያውን ለሁለት ሰንጥቀው እጅ እያስነሱ ሲያልፉ ተመለከታቸው ።\\nገበያውን አቁዋርጠው በወርቅ ቅብ መረሻትና እቃ ባጌጠች በቅሎአቸው\\nፈሰስ ኤያሉ ሲያልፉ ቶሎሳ ካጀቡ ነጠል ብሎ እየሮጠ መጥቶ ፤ «በሰባት\\nሰአት ለምሳ እንድትመጣ ብለዋል» ብሎት ፤ መልሱን ሳይጠብቅ በመጣ\\nበት ፍጥነት ተመልሶ ሮጦ ሄደ ።\\n\\nትእዛዝ ነበር የተላለፈለት ። አልከፋውም ። ያችን ውብ ልጅ እንደ\\nገና ለማየት የሚያስችል እድል ማግኘቱን አልጠላም ። ውበትዋ አይን\\nያስፈነጭጥዛል ። የጨነቀው ከሽታዬ ጋር ምሳ አብሮ ለመብላት ያደረገው\\nቀጠሮ ነበር ። ምን ምክንያት ፈጥሮ ቀጠሮውን ለማፍረስ እንደሚችል\\nግራ ገባው ። ዝም ብሎ በመጥፋት ቶቆረጠ ። ሽታዬ በምክንያት የምታምን\\nአይነት ሴት አይዶደለችም ።\\n\\nሰዉቪዉቱን ተመለከተ ። ፊታውራሪ በቀጠሮ ቀልድ አያውቁም ። ባለ\\nፈው ጊዜ ለምሳ ቀርበው ባብዛኛው የጎረሰው የቀረበለትን ፍትፍት ሳይሆን\\nፊታውውሪ ስለ.ጊዜ ያላቸውን ፍልስፍና ነበር ። ከማቴዎስ ወንጌል ውስጥ\\nከምእራፍ፡ 25 ቁጥር 1 እስክ 13 ያለውን የብልሆችና የሰነፎች ቆነጃጅት\\nታሪክ ኢየጠቀሱ ፥፡ «በቀጠሮው ሰዓት መቅረዛችንን አብርተን ካልጠበቅን\\nዘግይተን በር ብናንኩዋኩዋ አይሆንም ። ጊዜና ቀጠሮ መከበር አለባቸው።*\\nከጊዜና ከቀጠሮ ውጭ የሚሆን ነገር የለም ። ወቅትና ዘመናት ጊዜና ቀጦ\\nሮን ጠብቀው ነው የሚፈራረቁት ። - እህል አለጊዜው አይዘራም ፤ አሶ\\nጊዜውም አይታጨድም ። ሰውም ከቀነ ቀጠሮው ኢያልፍም ። ጊዜና ቀጦ\\nሮንየሚያከብር ሰነፍ ነው፤ አውሬ ነውእንጂ ሰው አይደለም»ጅይሉ ነበር”\\nዶጋግመው ። ፤\\n\\nእንዳት፡ጠብቀኝ ንገሪአት ብሎ ሊወጣ ሲል ኡ\\n\\nቀን ሳይሞላት ማጉትምተም ጀምራለች ። ስርታ . ጥርግ\\nአድርጎ ካልበላ ጉዋዳ ገብታ ታጉተመትማለች ቢ፤ፎፎዬችለቮ ውም\\n\\nአዲስ ኣቀጠሪሀኑ ባልቴት ገረድ፥ ጉዳይ ሡዐገጠ፲፲፩፲፮፩ታ፻፲፲፲፩ሶመ፲፡፤\\nጉ።ተመተመችበት ።\\n'},\n",
       " {'page_number': 56,\n",
       "  'text': \"ሀዲስ 55\\n\\nተአምር አያልቅም ብሎ ወጣ። እየፈጠነ ወደ ፊታውራሪ ቤት ሲሄድ\\nአንድ በግ-እንዳለ ሊውጥ በሚችል በዚያ በተለጎመ አገልግል የሚቀርበው\\nምሳ ታየው ። ምሳም ሲቀርብ ከውጭ የመጣ ነው ተብሎ አገልግሉ\\nፊታቸው ትፈጪቶ ካሳላዬ ፊታውራሪ እህል እንዶማይቀምሱ የነገረው ቶሎሳ\\nነበር ። ታዲያ ክብዙ ዘመን ጀምራ አብራቸው የኖረች ገረድ ቤት የተሰራ\\nውን ምግብ ባገልግል አዝላ ስትዞር ትውልና ሰአት ሲደርስ ትመልሳ\\nገብታ አገልማሉን እፊታቸው ትፈታለች ።\\n\\nአገልግሉን በኩራት ኣዝላ እሱም አይቶአታል ። ታቦት ያዘለች ይመ\\nስል በኩራት ነበር የምችራመዶው ። የፊታውራሪ ምሳ ነው በማለት ቆም\\nብለው ለመሳለም የሚቃጣቸውም ሰዎች ነበሩ ። የፊታውራሪን አገልግል\\nያላየ በሱጴ ይኖራል ለማእት አያስደፍርም ። እና ፤ እገልግሉን ኣዝላ\\nሸወትር ታዘግማለች ---የምታልፍባቸውን ዛፎች ጥላ በአይንዋ እየለካች።\\nከሰአትዋ ዝንፍ የምትልበት ጊዜ አልነበረም ። እንዲያውም በስዋ አካ\\nሄድ ነበር ብዙ ሰዎች ሰአቴ ስንት እንደሆነ የሚገምቱት ። አገልግሉን\\nአዝላ ዳጉቶኙችን ስትወጣ ፤ ቁልቁለቶችን ስትወርድና ወንዞችን ስትሻገር\\nበአይነ ህሊፍው እየታየችው ተአምር አያልቕቅም - . . ተአምር አያልቅም. -\\nእያለ ዳገቱን ወጥቶ ልክ በሰአቱ ከይታውራሪ ቤት ከች ሲል ፤ «ጊዜና\\nቀጠሮን ማክበር እኮ ሌላውን ማክበር ብቻ ሳይሆን ራስንም ማስከበር\\nነው። ራሱን የማያከብር ለሌላው ምን አክብሮት ይኖረዋል?>» እንዳሉት ፥*\\nመምሬ መሀሪ መስቀላቸውን አውጥተው ሊያሳልሙት አንድ ርምጃ ወደ\\nፊት ከሄዱ በሁዋላ ቆም ብለው ሲያመነቱ አያቸው ።\\n\\n«መስቀል ስታይ እንዴዶ መበርገግ ያደረግሃል ልበል?!» አሎት መምሩ*፥\\nእጊዷፀገሬዎ ብለው ። ቀጥለውም *0 «ለመሆኑ ተትጠምቀሃል?]?» ሲሉ\\nጠየ ።\\n\\n«አምኙ ።»\\n\\n«በቀዝቃዛ ውሀ ተጠምቄአለሁ ማለት ብቻውን አይበቃም ። እሁድ\\nቤተ ክርስቲያን አልመጣህም ። ጥምቀት ብቻ ሳይሆን ተግባር ነው የሚያ\\nድነው ።ጅ '\\n\\nዶንግጦ ፤ «ጆረ የቄስ ልጅ ነኝ» አላቸው ።\\n«የማ?> ን\\n\\n«የመምሬ ሳህሌ አእንደሻው.-..»\\n«አለቃ እንዶደሻው ዝቄ የራጉኤሉ ?2\\n\\nለካስ ይህች አለም ትንሽ ኖራለች እያለ በልቡ በአዎንታ ሲመልስላ\\nቸው ፤ ኗ«ጸረ በአልቄይቱ ማርያም ! ለካስ የኛው የልቼ ዘር ኖረሃልና»\\nብለውት ባፎከው ካሳለሙት በሁዋላ ፥ «አባችክን ባላውቃቸውም አለቃ\\nእንደሻው ገ#ቄ በጣም ትዝ ይሉኛል ። አይ ቁመት ። አይ ድምፅ ! የእሳቸው\\nድምፅ ማንም ዘንድ አልነበረም ። አንድ ቅን ነው ያየሁዋቸው ። ተቀፀል\\nፅጌ ላይ ። ኖሞራጉኤሎች ተራ ነበር ። እንዲያው በዚያ ቁመታቸው ከወንዝ\\nዳር እንዴ በቀለ ሸምበቆ እየተወዛወዙ ያንን ድምፃቸውን ሲለቁት እግዜ\\nርን ከነዙፋኑ መሬት የሚያወርዱት ይመስሉ ነበር ። ሌሎቹስ ቢሆኑኙ --\\nድምፁስ ድምፅ ነበር። ልክ እኮ ታቦታቴ እየቀደሱ ቤተስኪያንዋ ራስዋ\\nየምታስካካ ነበር የሚያስመስሉዋት ።\\n\"},\n",
       " {'page_number': 57,\n",
       "  'text': 'ሡ\\n\\n. « አለቃ እንደሻው በፊት የልጅ ኢያሱ ሁዋሳም የንግስት ሰው\\nነበሩ ፲፲ታ ንዳ፡ነያስት ሲሞቱ “ልርሃት ቤተ-ክርስቲያን\" ያሉት እሳቸው ነበፌ\\nይባላል ። ሁዋላም መሀል ሰፋሪዎች አድማ መተው ፤ ራስ ተፈሪ ንጉስ\\nተብለው የኢትዮጵያ መንግስት ባለሙሉ ስልጣን እንደራሴና አልጋ ወራሽ\\nእንዲሆኑ ከተዴረገ በሁዋላ በነገሩ ተቆጭተው እንዴት ነበር? - አዎን\\n\\nመሀል ሰፋሪዎች ትናንት ተቀምጣችሁ\\nየስቀላችሁትን እላይ አውጥታችሁ\\nምን ነካችሁና ዛሬ በቁማችሁ\\nአውርዳችሁ መጣል ከቶ ያቃታችሁ?\\n\\nብለው የገጠሙት እሳቸው ነበሩ ይባላል ። ሁዋላ እንኩዋን ተቀምጠን\\nየሰቀልነውን ቆመን ማውረድ አቃተን ብለው የትረቱት ፊታውራሪ\\nሀብት ጊዮርጊስ ዲነግዴ ናቸው እየተባለ በሰፊው መወራት ጀምሮ ነበር።\\nብዙ ዘመን በግዞት ተቀምጠው ነው የሞቱት ። አይ ድምፅ ! የዜማ ሊቅ\\nነበሩ ። አሁን ሳይህ አይነ ውሀህና ገፅታህ ልክ የእሳቸው ነው ። ይገርማል\\nእኮ የፈጣሪ ስራ ። የወለዶ አይሞትም ። ሞቶ ስሙ ሲጠራ የሚኖረው\\nየወለደዶ ብቻ ነው ። የእሳቸው የልጅ ልጅ ኖረሃል ለካ ?> አሉት ።\\n\\n«ነበርኩ-...እ. . . ነኝ» አላቸው ።\\n\\nአባቱ ከመሞታቸው በፊት\\'እንደ መቃዣት እያደረጋቸው . - . ልጅ\\nባባቱ ሀጢአት ይቀጣል?.. . . ይሉ የነበረው ድንገት መጥቶ ከጆሮው\\nውስጥ ኤስተጋባ-። አገልግሉ ቀረበ ።\\n\\nገረድዋ ፤ «ከውጭ አሁን የመጣ ነው» ብላ ከፍትፍቱ በመቅመስ\\nሃነጠላዋን አደግድጋ ፊትዋን አዙራ እንዶ ቆመች ፥ መምሩ .በጠጅ\\nትንፋሻቼው ፤ «በስመ አብ ወልድ ወመንፈስ ቅዱስ ፤ የአብርሃምን ማእድ\\nየባረክ ሕምላክ ይባርክልን . . .» ብለው ማእዱን ባረኩ ። ከጥቂት\\nቃላት በ ሁዋላ የሚሉት አይሰማም ነበር ።\\n\\nፊታውራሪ ፤ «አይናለም የት አለች?» ብለው ጠየቁ ።=\\nሀዲስ ጆሮውን አነቃ ። ከሆዱ ይልቅ አይኑ ነበር የተራበው ።\\n\\nፊት፪ን ወደ ግድግዳው አዙራ የቆመችው ገረድ ፤ «አሞአታል»\\nአለ ።\\n\\nቶሎሳ ሰንና ብርት ይዞ ጣት ለማስታጠብ ቆሞ ይጠብቃል ። ፊታው\\nራሪ ጣታቸውን እየታጠቡ ፤* «ምን ሆናገ» አሉዋት ።\\n\\n«ጥርስዋን ተነቅሳ ነው» አለች ።\\n\\nከባህር የተለቀሙ እንቁዎች የሚመስሉት ጥርሶችዋ ከበስተጅርባቸው\\nሀሞት የሚመስል ንቅሳት ሲጨመርበት ውብ ሆን ፣ እያለ\\nያስብ ነበር--ሀዲስ ። መ ዎቓውም\\n\\n«ሲ ያጌጡ ይመላለጡ አሉ ። ሴት ውበት\\nበቃኝ አትልም» ሲሉሎ *--- ልጅ እኮ ምን ቆንጆ ብትሆን\\n\\nመምሩ ጣታቸውን እየታጠቡ ፣ «ሄ ሳተችው\\nብለው--በውበትዋ አይደል?» አፅ ይ ይ በምን ቪ\\n\\nሎ ፲ ው ባዶ\\nብርሌአቸውን እያሳዩት ። ቶሎላሳን በአይናቸው ጠቅሰ\\n'},\n",
       " {'page_number': 58,\n",
       "  'text': 'ሀዲስ 57\\n\\nሀዲስ ተራው ሲደርስ ተነስቶ ቆመ ። ቶሎሳም ካልተቀመጥክ ሞቼ\\nእገኛለሁ እንጂ አላስታጥብህም በሚል መንፈስ ሰንና ብርቱን እንደያዘ ቆሞ\\nቀረ ። ፊታውራሪም ቁጭ በልና ታጠብ ቢ.ኒሉትም አሻፈረኝ በማለት በግድ\\nቆሞ ታጠበ ። ፊታውራሪ ፤ አሽከሩን የናቀ ጌታውን እንዴት ሊያከብር\\nይችላል የተባለውን ፈሊጥ ያውቃሉና በሀዲስ ትህትና ተዴስተው ፤ «መም\\nህርነት ከዘርህ የመጣ ነዋ ፣ ልጅ ሀዲስ?» አሉት ።\\n\\n«አዎን ፡ ግን እኔ አስተማሪ ለመሆን አልፈልግም ።»\\n«ታዲያ ምን ልትሆን ነው የምትፈልገው?»\\n«የህግ ችምህርት ለማጥናት ነው የምፈልገው ።»\\n\\n«የእልቄይቱ ማርያም ! ነገረ ፈጅ ልትሆን ? እንዳባቶ ችህ ያገራችንን\\nትምህሮት ብትማር ምን ነበረበት ፡ ልጄ?»\\n\\n«የቱን ትምህርት?» አሉ ፊታውራሪ ፤ ራሳቸው እህል ሳይቀምሱ\\nምሳ የማያስኝ ጉርሻ ጠቅልለው ቶሎላሳን እያጎረሱት ።\\n\\n«እንዴ? ድጉዋ ፡ ፆመ ድጉዋ ፥ ዜማ ፤ ሰዋስው ፤ ቅኔ ---አረ ስንቱ\\nተቆጥሮ . . .››\\n\\n«ም>ን ሩፋይዳ ሰራ?»\\n«ኢችዮጵያን እዚህ ያደረሳት ምን ሆነና ነው?»\\n«የት ደረሰች?»\\n\\nቶሎላሳ ሌላ ጠጅ ሲያመጣላቸው ትናንሽ አይኖቻቸውን በዴስታ እያቁ\\nለጨለጭ «መማር ያገራችንን ትምህርት ነው\\'?ይ ። ተትማሩ ተማሩ»\\nካሉ በሁሞላ ፥ «ከከሳቴ ብርሃን ሰላማ ጀምሮ እስካሁን በክርስትናዋ ፀንታ ፡ -\\nነፃነትዋን ጠብቃ እንድትኖር ያደረጋት ምን መሰሎት ? ያገራችን ትምህ\\nርት ነው = ይሄ የፈረንጅ ትምህርት ከገባ ወዲህ ነው ሃይማኖት ላልቶ ፤\\nመከባበርና መፋቀር ጠፍቶ ፤ ወግና ስርአታችን ላሽቆ ህልውናችን ፈተና\\nላይ መውዶቅ የጀመረው ። ለሚሲዮኖች ትምሀርት በራችንን ከፍተን የለ\\nቀቅን\\'\"ለት ነው በራሳችን ላይ የፈረድነውና አገራችንን ማንም ከፍቶ የ ሚ\\nገባበት የጋለሞታ ቤት ያደረግናት» ብለው ፤ የብርሌ አቸውን አንገት\\nጨበጡ ።\\n\\nየባሰውኑእየሰለለች ትሄድየነበረችው ሰላላ ድምፃቸው በንዴት ታንቃ\\nነበረ ። ጨታውራሪ መመገባቸውን አቁመዋል ። ባሳብ የተመሰጡ ይ\\nስላሉ ። አይናለም ድንገት ከጉዋዳ እንደዴ ነጭ ጉም እየተንሳፈፈች ብቅ\\nአለች ። ወዲስ የጎረሰው እንጀራ ጉሮሮው ላይ ቀርቶ ትን ሊላጐ ነበር ።\\nየተሰራችሙ ቀጫጭን ሹሩባ ትከሻዋ ላይ ወርዶ ዘፍ ብሎ ይታያል ።\\nክ ትከሻዋ ሓጫይ ጣል ባደረገችው ቀጭፔን ነጠላ አጭኾን ሸኾፕላች ። ጄርባቐ ን\\nለፊታውራሪና ለመምሩ ሰጥታ ሀዲካን ፊት ለዬሬት እየ”፻ች ው ።ሻሂቂ ትጐዷኢኣ\\nጋለህ?» በምትልበት ጊዜ በእጅኾ ትንሽ ቁ፦ራጭ ወረቀት 2=1 ኣጐነክው\\nጭሞክር ኑበር ።\\n\\nአይኑን ማመን አቃተው ። ትንፋሹ ቆመ ፡ እጅዋን ቀስ ብላ ዘረጋች\\n\\n“ኑ ። ጄፎባውን ቀዝቃዛ ላብ አሰመጠው። ልቡ ቀጥ አለ ። እየተንቅጠ\\nዝ ቁራጭ ወረቀቱን ተቀብሎአት ቶሎ ብሎ ወዶ ኪሱ ጨመሙመራት ።\\nኒኮንድ ዊማትበልጥ ጊዜ ነበረች ። ግን ለረጂም ጊዜ ሲኦል ይሁን ገሃነም\\n=ይ የተመለሰ ያህል ነበር የተሰማው ። አፉ ተሳስሮ ሻሂውን እፈልጋለሁ\\n'},\n",
       " {'page_number': 59,\n",
       "  'text': \"58 ሠሀዲስ\\n\\nወይም አልፈልግም አላላትም።እስዋም መልኩን አልጠበቀችም « ዉ፥\\n\\nፈረደባቸው መምሩ ዞር ብላ ፥ «ስጋ ፥ በርበሬና ቅባት እንዳይበሉ ተብለው\\nአልነበረም!?!» አለቻቸው ።\\n\\nመምሩ ብርሴአቸውን የት'እንዳዴደረጉት አይታወቅም ። አይናቸውን\\nቁልጭ ቁልሜፓኬበ እያደረጉ ፥ «ምን ነው ብትተይኝ አንቺ ልጅ ። እንደ ጉሬዛ\\nበቅጠል ኑር ነው የምትይኝ? እኔ እህል በእህል መብላት አይሆንልኝም\\nብዬሻለሁ ። ዳለቻ ሽሮ ሳይ ወስፋቴ ይዘጋል ። ባዶ ውሀም ጉሮሮዬ እሺ\\nብሎ አይቀበልም ። ውሀ ሲበዛ መሬት ይሰነጠቅ የለም እንዴ? አረ ኤዲያ !\\nሞትን ሞቼ አልጠብቀው እየኖርኩ ነው እንጂ» አልዋት ።\\n\\nእግርዋ ወጣ ሲል ብርሌአቸውን ከደበቁበት ከወንበሩ ስር ወጣ ኣደ\\nረጉና አንዶቀዶቁት ። ፊታውራሪ አሁንም ባሳብ እንደ ተመሰጡ ነበር ።\\nየሀዲስ ልብ ክበሮ መደለቁን አላቆመም። ልቡ ኪሱ ውስጥ ነበር ። ከቁራጭ\\nወረቀትዋ ላይ የተፃፈውን ለማንበብ ከመቸኮሉ የተነሳ ልቡ ተሰቅሎ\\nየባሰውኑ ክበሮ ይደልቃል ። ጊዜው እንደ አመት ይረዝምበት ጀመር ።\\n\\n«አትበላም እንዴ? ብላ እንጂ» አሉት ፊታውራሪ ።\\n\\nእጅ ነስቶ በቃኝ አላቸው ። ልቡ ክፉኛ ተሰቅሎ ነበር ።\\n«ምን ነው አላበህ? ደህናም አይዴለህ?›»\\n\\n«ዶህና ነኝ...»\\n\\n«ወይስ ማባያው በርበሬ በዛበት?»\\n«እረ ለስላሳ ነው ። እንዲያው ነው ።»\\n\\nማእዱ ከፍ አለ ። ፊታውራሪ ቶሎ ቶሎ ጠቅለል ጠቅለል አድርገው\\n\\nከጎረሱ ማእድ ላይ መቆየት አይወዱም ። መምሩም ቢሆኑ ከወደ ውሀው\\n\\nነበር እንጂ እህል በመድፈር በኩል እጅግም አልነበሩም ። ያ ሁሉ ውፍረት\\n\\nከየት እንዶ መጣ ማወቅ ያስቸግራል ። ፊታውራሪ ጣታቸውን እየታጠቡ ፤\\n\\n፪፮ዘ፩፲ፀኑ ልጆች በርበሬውም ምኑም ቶሎ ያማችሁዋል ብዬ ነው....»\\n“ ።\\n\\nየባሰውኑ ያልበው ጀመር ።\\n\\nየደሪጓዌነወዐ ። እንዴ? ይህች አገ\\nነግነትዋም ፀንቶ የኖረው በተአምር አይደለም ። ብ\\nነገር ሲቆጮ ተረት ይሆናል ። ተረት እንዶደምናወራ አ፰ርጋችሁ ነው የም\\nታዳምጡን የዘመኑ ልጆችቕ» ብለው ፤ በትካዜ ተዋጡ ።\\n\\nሀዲ.ስ ቀስ ብሎ ግራ እጁን ወይ ኪሉ ዎ\\nአልሄዶችም ። ጁ ኪሱ ሰደደ ። ቁራጭዋ ወረቀት የት\\n\\nምን ያደርጋል ?\\n\\n«መታፖሥሩ ፣ ቅድም የተናገሩት ነገር ነ ።\\n\\nሀዲስ ውስጥ ውስጡን ብሽቅ አለ ።\\n\"},\n",
       " {'page_number': 60,\n",
       "  'text': \"ሀዲስ 59\\n፡ -:።፦ተ-ኑ--=ክስ.ብሲየየረ:.ይከ...ክስ« « . 0 ክዊ ው፡፡.፪....ብ8\\n\\n«ሀግራችን በክርስትናዋ ፀንታና ነፃነትዋን ጠብቃ የኖረችው ባገራ\\nችን ትምህርት ነው ያሉት ።»\\n\\n«እህሳ ?»\\n\\n«አይዶይለም ።»\\n\\n«እንዴት ?»\\n\\n«እንዴት ማለት ያባት ነው ።»\\n' ፍነው እንጂ ።»\\n\\nሀዲስ ምን ብላ ፅፋ ይሆን ? ሲል ማሰብ ጀመረ ። ምን ልትለው እን\\nዶምትችል አስቦ ሊደርስበት ባለመቻሉ ነገሩ ይበልጥ ምስጢራዊ እየሆ\\nነበት የባሰውኑ ይጨነቅ ጀመር። የጭንቀት ጭንቅ ተጨንቆ ፤ መጨነቅ--\\nምን ልትለኝ ትችችላለች?....\\n\\n«ቤተስኪያን ነፃነታችን ፀንቶ እንዲቆይ ማድረግ ቀርቶ ለራስዋም\\nእስከ ቅርብ ጊዜ ድረስ ነፃነት አልነበራትም» በማለት ንግግራቸውን\\nጀመሩ--ፊታውራሪ ። «የስክንድርያ መንበር አፈ-ቀላጤና ተገዥ ሆና\\nአይደለም እንዴ የቆየችው ? ታዲያ እነሱ ህዝባችን አይኑን እንዲከፍት\\nመቼ ይፈልጉ ነበር ?»\\n\\nመምሩ እንዶ መናዶደድ ብለው የተቀመጡበትን ወንበር ከስር እያን\\nጫጩጨ፤ «ማን አስተማረ? ማን ፊዴላችንንና ቅርሳችንን ጠብቆ ቆየ ? ማን\\nክርስትናን አስፋፋ ሊሉ ነው ታዲያ? እንዴ ? ይህ ትምህርት ሚኒስቴር\\nየሚባለውን መስሪያ ቤት እኮ አሁን የመጣ ነው እንጂ ፥ ትምህርት ሚኒ\\nስቴር ሆና ስታገለግል የቆየችው ቤተ ክርስቲያን ናት ። ወቸ ጉድ! አረ\\nየሰማእታት ፤ የቅዱሳን ጆሮ አይስማዎት» አሉ ።\\n\\nፊታውራሪ ከተቀመጡበት ተትተነስተው ወዶ መስኮት በመሄድ ሩቅ\\nይመለከሇ ጀመር ።\\n\\nሀዲስ ኣድሌ አሁን ነው በማለት እጁን ወደ ኪሱ ሲሰድ ፊታውራሪ\\nዞር ብለው በረጅሙ ተነፈሱና ፤ «ትምህርቱስ ቢሆን መቸ ካውዶ ምህረት\\nአልፎ ያውቅ ነበር ? ክርስትናን በማስፋፋትም ቢሆን እኮ ፤ ጦር ፤ ጋሻና\\nጎራዴ ይዘዛን እየቀደምንና ታቦት አስከትለን እየተከልን ሀገር ያቀናነው\\nእኛ ነበርን» ብለው ክፉኛ እየተከዙ ፤ «አያልፍ የለም ። አይ ጊ.ዜ ! ጊዜው\\nዛሬ የሌሎች ነው ። እኛ እንደሆን የወረዳ ዳኛ ፤ የወረዳ ገዥ ፤ የወረዳ ፖሊስ\\nአዛዥ መጫወቻ ሆነናል ።»\\n\\nመምሩ ነገሩን ለመቁረጥ ሳይሆን አይቀርፓቻ'፤ ክርክሩን ትተው፤ «አረ\\nየሰይጣን ጆሮ አይስማዎት !» አሉና ብርሌአቸውን ጨበጡ ።\\n\\n«ቢሰማስ !» አሉ ፊታውራሪ ተቆጥተው። ከግንባራቸው መሀል ያለው\\nየዶደም ስር ቆሞ ይታያል ። «ሀገር እንደ ሆነች የገንዘብ ስልቻዎች ሆና\\nለች ። ግጉ ፥ ምን ይዴረግ ? ጳጳሱም ንጉሱም አኣንድ ሰው የሆነበት አገር ።\\nባንዳዎችን ፤ የገንዘብ ስልቻዎችንና ወፍ ዘራሾችን ስብስቦ አገር እገዛ\\nለሁ ማለች የት እንደሚያደርስ እናያለን ! እድሜ ከሰጠን ። ይሁን እስቲ።\\nእኛ ፤ ነበርን እንጂ ዛሬ የለንም ። ታሪክ ለጉድ የጎለተን ሰዎች ነን ። የሚ\\nቀረን ነገር ቢኖር ትናንት የጠፋው አለም ትውስታ ብቻ ነው ። እሱም\\n\"},\n",
       " {'page_number': 61,\n",
       "  'text': \"60 ሀዲስ\\nጪ\\n\\nቢሆን ስናልፍ ከኛ ጋር አብሮ ያልፋል ። አያልፍ የለምና» እንዳሉ ፥ ቶሎሳ\\nመጥቶ በጆሮአቸው አንድ ነገር ሹክ ሲል ፥ «አስገባቸው። ዱሮውኑ የለዮን\\nያፄ መንግስት ነው ። ህዝቡ አውራውን መቼ አጣው ?» አሉት ።\\n\\nላይ እንደ ጥቁር ደመና ያንዣብብ የነበረው ጥላ እየጠፋ ሲሄድ ይታይ\\nነበር ።\\n\\n«ጾረ የሰይጣን ጆሮ አይስማዎት !»\\n\\nሀዲስ አሁን አላመነታም ። ለመሄድ ቆርጦ ተነሳ ። ከቁራጭ ወረቀ\\nትዋ ላይ የተፃፈውን ነገር ማንበብ ወይም ከጭንቀቱ የተነሳ መፈንዳት\\nነበረበት ። ፊታውራሪ ድንገት ተነስቶ ለመሄድ በመቸኮሉ ተገርመው ፡\\n«የዘመኑ ልጆች እኮ አንድ ቦታ አርፋችሁ መቀመጥ አትችሉም ። ምን\\nየሚያስቸኩልህ ነገር መጣ?» ብለው ፤ እንዲቆይ ቢጠይቁትም እሺ አላላ\\nቸውም ። ሲወጣ ሩጫ ነበር የቀረው ።\\n\\nከግቢው ወጥቶ ቁልቁለቱ ላይ ሲደርስ በሚንቀጠቀጥ እጁ ቁራጭዋን\\nወረቀት ከኪሱ አወጣና ትንፋሹን ዋጥ አድርጎ ሲያነብ ፤ በቆንጆ ትላልቅ\\nየእጅ ፅህፈት የተላለፈለት መልእክት ፤ «የሚነበብ መፅሀፍ ካለህ ላክልኝ ፥\\nአደራ» የሚል ነበር ። ወረቀትዋን ገልብጦ ጀርባዋን ተመለከተ ። ወረቀ\\nትዋ ተጩማሪ መልእክት አላዘለችም ። የወረቀትዋ ነጭ ጀርባ ንፁህ ነጭ\\nነበር ። በሳቅ ፈነዳ ። ሳቁ በመላ ሱጴ የሚሰማ ያህል ነበር ። ቁልቁለቱን\\nወርዶ ፤ በትምህርት ቤቱ አድርጎ ፤ መበተን የጀመረውን የእሁድ ገበያ\\nአቁዋርጦ ቤቱ ሲደርስ ሁሉ የኮረኮሩትን ያህል ይስቅ ነበር ።\\n\\nእርሾ እንደ በዛበት ሊጥ ኩፍ ጠላ ከቤት የጠበቀችው ሽታዬ ፤ ሳቱ\\nደበልጥ ሕስቆጣት ። ሳቁን ለማቆም አልቻለም ። ሽታዬን ሲያይ እንዲያ\\nወም ባሰበት ። ጥፍሮቹን የዘረጋ ነብር መስላ ታየችው ።\\n\\n«ከሴት ልጅ ጋር ይሳቃል እንጂ በሴት ላይ አይሳቅም ! እንደዶ ጉልቻ\\nተጎልቼ መጠበቄ ነው የማያስቅህ ?» ብላ ፡ ለምቦጭዋን በመጣል ደዶም\\nጎርሳ ዶም ለብሳ ስትመጣበት እጅዋን ይዞ ፤ «ባንቺ አይደለም የምስቀው ።\\nእውነት» ኣላት ።\\n\\n«ታዲዳያ ምንድን ነው የሚያስቅህ ?»\\n\\n«እንዳልሺው በውበት አይሳቅም ።»\\n\\n«እኮ ?»\\n\\n«አንዳንዴ የሳቅ በሽታ አለብኝ ። ዝም ብሎ ያስቀኛል ።»\\n\\n«ሆ ! ጠበል አትሄድም ታዲያ ?»\\n\\n«ለምን ?>»\\n\\n«ብ ቻቸውን የሚስቁት እብዶች ብቻ ናቸው ፤እኔ እንደማውቀው- - ”\\n«ቁልጭ ግጥጥ ብሎ ስለሚታደቸው ይሆናላ ወ»\\n\\n«ምኩ »\\n\\n«የሰው ልጅ ወይም የህይወት አስቂኝ መልክ ።»\\n\\n«እብድ ነኝ በላ ፻» .\\n\\n«ነካ የማያደርገው ማን አለ ብለሽ ? ሲያስቡት ያስቃል እኮ #።»\\n«ምኡ ?»\\n\\n«የሰው ነገር--ህይወት» ብሎ እየሳቀ ፡ «አለ' አይደል ? ኛሞት ጥላ\\nበላዩ ላይ ኦያንዣበበበት የሚኖር ፍጡር ሁሉ ጤነኛ መሰለሽ ? አዱን\\n\"},\n",
       " {'page_number': 62,\n",
       "  'text': \"ሀሠዲስ 61\\n\\nከሌላውጥበለጠ ይብድ እንጂ ነካ የማያዴርገው ሰው የለም ። በሁላችንም\\n\\nላይ ያለ በሽታ እኮ አንድ ነው---»ህይወት የሚሉት በሽታ ። አስቆ ያስለ\\n\\nቅሳል ። እንዴት ልበልሽ ? አለ አይደል---ሲቀርቡት እንደ ጥላ እየራቀ\\n\\nጩዷዬድ ፅላላዊ ህልውና---አስቆ የሚያስለቅስ ወይም አስለቅሶ የሚያስቅ»\\n፣\\n\\n«ሆ ! የምትናገረው አማርኛ ሁሉ አይገባኝም እቴ ። እውነትም አብ\\nደሃል ። የእብድ መድሀኒቱ እኮ እግፎ ብረትና ጠበል ነው» ብላው ፥* ተመ\\nልሳ ቁጭ ስትል ፤ «እሰሪኛ በቃ ። ከጠበሉም አጠጪኝ ። ከህይወት በሽታ\\nእፈወሳለሁ ። አልስቅም በቃ ። ዝም እንደ እናቴና አባቴ መቃብር» ብ፦\\nአት ሲያበቃ ፤ «እሱን እንተወውና ምሳሽን በልተሻል ወይ ?» አላት ።\\n\\n«ብቻዬን እንድበላ ኖሮአል የጋበዝከኝ ?»\\n«አይደለሉም ። አብረን የገረዴን ወጥ እንድንቀምስ ነበር ።»>\\n\\nብላ ምሳ ቀርቦ ሲበሉ ፥ «እኔ ብቻ ነኝ እንዴ የምበላው ?» አለችው ቆጣ\\n።\\n\\n«እኔኮ በልቼ ነው የመጣሁት ።»\\n\\nፍቨአይናለም ጋር ነው የበላኸው ? ኣይንህ ይጥፋና !» አለችው\\nትላልቅ አይኖችዋን እያጉረጠረጠች ።\\n\\n«አብረን አልበላንም ።»\\n«መልኬ በቃኝ ብላ ?» ስትል ጠየቀችው እያሾ፥ች ።\\n\\n«ጥርስዋን ተነቅሳ ነው» አላት ፤ ምን መፅሀፍ ልላክላት በማለት\\nእያሰበ ። ፲\\n\\n«ስቃ አሳየችህ ??» አለችው ጥፍሮችዋን እንደ አራስ ነብር እያቆመች።\\n\\nሁኔታዋ አሳማረውም ። የተቀባችው ቀይ የጥፍር ቀለም ደም መስሎ\\n-ታየው ። ‹'የአባብ መርዝ ከምላስዋ ስር አውጥታ ናምትትፋበት ይመሰል\\nኣሕይኖቹ> ጭፍን አደረገ ።\\n\\n«ይ፡ን ጎሪጥ አይንህን አንድ ቀን እንደማወጣልህ ታውቃለህ ?»\\nአለችው ፤ እንዶ-'እባብ ሲጥጥ በሚል ላንቃ ።\\n\\n«ምን ባጠፋሁ የኔ እመቤት ?» አላት * ስቆ ሊያሳስቃት እየሞከረ ።\\n\\n«ካለኔ ሌላ ያይና ዋ ! ብያለሁ» ስትል ፤ አይኖችዋ ውስጥ የሚዋጋ\\nቀንዳም ሰይጣን ያየ መስለው ።\\n\\n«አይን የተፈጤረው ሁሉን ለማየት ነው ፥\\nአጉቼቺን አይቶ ሴላ---እውድ---አላይ አለ ምን ነፎ-?» እያለ ዘፈነላት።\\nድምፁ መጥፎ አልነበረም ።\\n\\n«ኤይንህ ይጥፋ !» ብላ « ስለ ዘፈኑ አጅሙዋጨጠችውና ‹ «አስትማ\\nሪዎች ይትባሉ እንዲያው በየደረሳችሁበት የምታስትምሩበትን ሙጣማፍ\\n\"},\n",
       " {'page_number': 63,\n",
       "  'text': \"62 ሀዲስ\\n\\nሳትገልጡ አይናችሁ የሚንከራተተው የባላባትና የሀብታም ልጅ ኖለጋ\\nነው። አይደለም?መቼ አጣሁዋችሁና ? አይናለም ሱሚ ናት ። አትገኝም ።\\nይገባሃል?ግን እንተ አይገባህም ። እስቲ አለ እኔ ንክች ። እንተያያታለን ።\\nበዚህ ጥፍሬ ነው የምዘለዝልህ ። ይገባሃል ››» አለችው ፤ ንዴትዋ ገንፍሎ\\nእያፈጠጠችበት ።\\n\\n«አይን የተፈጠረው ሁሉን ለማየት ነው ፤\\nአንቺን አይቶ ሌላ --አዬዬ -- አላይ አለ ምን ነው !»\\n\\nዘፌኑን ደገመላት--ሲያስበው ብዘዐ ያማርኛ መፅሀፍ ይዞ አልመጣም ።\\n«ኡኡቴ--እሰይ !»\\n\\n«ድምፄ ወፍ ከዛፍ ያወርድ የለ ? ያያቴም ድምፅ ግሩም ድምፅ ነበር\\nአሉ ።የዘር ነዋ ። ምን ይደረግ ። መምህርነትም ከዘሬ የመጣ ነው» አላት ።\\n\\n«ካልክስ አቶ ይርጋ መጥተውልሃል» አለችው ።\\n«አትይኝም !»\\n\\n«እንዲያውም ማታ አንድ ወጠጤ አስተማሪ መጥቶልናል ሲሉ\\nነበር ።»\\n\\n«እውነት?»\\n\\nዩየመድ አለቃ አሽኔም ፤ 'ከወጠጤም ወጠጤ ፥ ገና ክመድረሱ-ለሙ'\\nንደር ሰዎች እብሪት የተሞላበት ደብዳቤ እየ7ፈ አስቸግሮአል” ሲላቸው\\nነበር» አለችው ።\\n\\n«ምን ኣሕሉት ታዲያ ?»\\n«ምን መልስ እንደ ሰጡት አልሰማሁም ።»\\n\\n«ኦ ! ሊከፈት ነዋ » አለ ድምፁን በመለወጥ --- ትልቁ የሱጴ ትም\\nህርት ቤት ሲከፈት ነው ! አንድ አመት ብዬሽ የለም ? አንድ የተረገመ\\nአመት ። ርግማን ባይኖርብኝ ኖሮ እኮ መጀመሪያውኑ እዚህ አልመጣም\\nነበር ። ርግማን ሳይኖርብኝ አይቀርም ። እውነቴን ነው ። አንድ አመት ።\\nዴቼዷ በረ፶፲ለግ፴፲፰ነ።፰ እንደ መጣሁ ከቪህም በጨለማ ተነስቼ ጭልጥ\\n\\n- በመ ሎ። ሊያስተምሩበት ቀርቶ ሲያዩትም ይቀፋል ፦\\nትምህርት ቤቱ ። የተረገመ ህይወት ። የተረገመ ትምህርት ቤት---*\\n\"},\n",
       " {'page_number': 64,\n",
       "  'text': 'ክፍል\\n\\nሱጴ የሆነ ነገር ሳይሰማ ውሎ አያድርም ። ትንሹ ነገር ወዲያውኑ\\nጆሮ ይገባል ። እንዳዲሳባ ፤ በሱጴ ማን ያየኛል ? ማን ይሰማኛል ? ብሎ\\nእንደ ልብ መሆን አይቻልም ። ወሬ እንዴት አድርጎ እንደሚዛመት ሀዲስ\\nሁልጊዜ ይደንቀዋል ።\\n\\nየአቶ ይርጋ አለሙን መምጣት ለማሳወቅ ነጋሪት አልተጎሰመም ።\\nደወል አልተደወለም ። እምቢልታ አልተንካለለም ። ጥሩምባ ተነፍቶ\\nአልተለፈፈም ። ግን አቶ ይርጋ አለሙ ከመቱ ወደ ሱጴ ከተመለሱ ማግ\\nስት ጀምሮ ከሶስት ወር በላይ ተዘግቶ የቆየው ትምሀርት ቤት በይፋ መከ\\nፈቱ ከዳር ዳር ተስምቶ ተማሬሪዎች በብዛት እየመጡ መመዝገብ ጀምረ\\nዋል ። ሌሎቹም አስተማሪዎች መጥተው ነበር ።\\n\\nከአቶ ይርጋ አለሙ ጋር ከመገናኘቱ በፊት አቶ ጣሴ ደጉን ፍለጋ ሄደ ።\\nበሱጴ አቶ ጣሴን የማያውቃቸው ሰው አልነበረም ። ትንሽ ትልቁ ያውቃ\\nቸዋል ። እና ፤ የሚኖሩበትን ቤት ለማግኘት ችግር አልገጠመውም ።\\nትንሽ ቤት ውስጥ ነበር የሚኖሩት ። የዶጁ አበባ በጣም ደስ ይላል ። አቶ\\nጣሴን ያገኛቸውም አበባ በመኮትኮት ላይ እንዳሉ ነበር ። ራሱን አስተዋ\\nውቆ ታፈስ ብሩ የላከላቸውን ስጦታ አስረከባቸው ።\\n\\nየተላክላቸውን ስጦታ ለማየት ቸኩለው ስጦታው የተጠቀለለበትን\\nወረቀት እየከፈቱ ፤ «ታፈሰ ደህና ነው ? ዋና ዲሬክተር ሆኖአል አሉ ።\\nእሰይ ። ሀው ያስቆጠሩት ልጅ ለዚህ ወግና ማእረግ ደርሶ ከሜየት የበለጠ\\nደስታ የሚሰጥ ነገር የለም ። አንዱም ተማሪዬ ሰሎሞን ዋለልኝ ረዳት\\nሚኒስትር ሆኖአል ። ታውቀዋለህ ?» አሉት ።\\n\\n«አዎን ፤ አንድ ቀን ተገናኝተናል» አላቸው ፥ ያንን አስቀያሚ ፖርቲ\\nእያስታወስሰ » .\\n\\n«ምን ነው ከፋህ ?»\\n\\nድንግጥ ብሎ ፤ «እረ ምንም አልከፋኝም» አለ ።\\n\\n«ሰሎሞን የበደለህ ነገር አለ ?»\\n\\n«እጸረ ምንም የለም» አለ ፤ ስሜቱን ከመቅፅበት ለማንበብ በመቻላ\\nቸው ከመግረም አልፎ እየተደነቀ ። .\\n\\n«ደህና » አሉት ፤ ታፈሰ የላከላቸውን ፓርከር ብእር በአድናቆት\\nእየተመለክቱ ቆዩና ፤ «መልካም ማስታወሻ ነው የላከልኝ ። ከብእር-የበ\\nለጠ መሳሪያ የለም» ብለው ፤ ባሳብ ጎዳና ላንዳፍታ ጭልጥ ብለው ከሄዱ\\nበሁዋላ ፥ «ታፈሰ ለዚህ ቁም ነገር ይበቃል የሚል ግምት አልነበረኝም ።\\nይገርማል ። ከፈሱ የተጣላ እብድ እንዲያው የሰይጣን ቁራጭ ነበር ። አሁ\\nንስ እንዴት ነው --- እብደቱን አልተወም ?» አሉት ።\\n'},\n",
       " {'page_number': 65,\n",
       "  'text': '64 ሀዲስ\\n\\nበቤ..ሎ.ብበሸበ›‹ከሬ፡...፡አ.በ6ክ፡፡፡፡ የ ጮ ፳290፻\\n\\nመናቸው ዘለግ ያለ ጠይም ፤ ራሰ በራ ሰው ናቸው ። እድሜ\\nኣ፡ጀ፡ፀቺነ ፰፲፲፪ሴበ፲፲ሆንም ሽበት አይታይባቸውም ። ወዛቸው እንዳለ ነው ።\\nሲናገሩ ያፍናቸዋል ። ትርፍ ስጋ የሚባል ነገር በሰውነታቸው ላይ አይታ\\nይም ።\\n\\n«ጨዋ ነው።እንዲያውም እንዶ ነገረኝ ከሆነ ስራውን ለቆ እዚህ ለሙ\\nምጣት ይፈልጋል ። ገበሬ ለመሆን ይመኛል» አላቸው ።\\n\\n«አዬ የሱ ነገር ! በልጅነቱም አንድ ነገር ላይ መርጋት አይወድም\\'\\nነበር ። አሁን ወደ ግብርና ለመመለስ ምን አስመኘው ? እዚያው ቢቆይ-\\nይሻለው ነበር ። ሚኒስትር ለመሆን ትንሽ ሲቀረው ። ምን ታይቶት\\nይሆን ?» ኤሉ በነገሩ እየተገረሙ ።\\n\\n«ግብርና ያዋጣኛል ብሎ አስቦ ይሆናል ። እውነትም ደግሞ ብዙ-\\nወጣቶች ደህና ስራ እየለቀቁ ወደ ግብርና በመግባት ላይ ናቸው ። ብዙዎ\\nቹም አመት በማይሞላ ጊዜ ውስጥ ከብረዋል» አለ.-።\\n\\nቤት እንዲገባ ጠየቁት ። ከደጁ ማማር የቤቱ ንፅህና ደግሞ ይበልጥ\\nዶደስ ይላል ” ወለሉ እንደ መስተዋት ፊት ሊያሳይ ምንም አይቀቅረውም ።\\nየቤቱ እቃ ሀሁሁሉ በስርኣት ተቀምጦ ይታያል ። ቤቱ ውስጥ ሌላ ሰው የለም #\\n\\n=ሻሂ ላፍላልህ ?»\\n\\n«እሺ> አለ ። ፕሬሙዛቸውን ቱግ አድርገው ሻይ አፍልትው ሰጡትችዎ\\nእንዶዚያ ማሩም ጣእም ያለው ሻይ የትም ቀምሶ አያውቅም ።\\n\\n«ግሩም ሻይ ነው» አለ ።\\n«ልድግምህ?ጅ\\n«በቃሣጭ% ። አንዱ ያረካል ።»\\n\\n«እኔሙ ነኝሜ ሁልጊዜ የማፈላው ። እንደምታየው ሚስት ፤ ልጅ\\nየለኝም ። ልጆቼ ተማሪዎቼ ናቸው ። አትክልቶቼንና ተማሪዎቼን ከመን\\nከባከብ የበልለጠ ደስታ የሚሰጠኝ ነገር የለም» ካሉት በሁዋላ ፣ «ለመሆኑ\\nእዚህ እንዴት ልትመጣ ቻልክ ?”» ብለው ጠየቁት ።\\n\\n«የዩኒቨርሲቲ ተማሪ ነኝ ። በግል ችግር ምክንያት ስራ ስፈልግ ድን\\nገት እዚህ ስራ አግኝቼ ነው የመጣሁት ። ከታፈሰ ጋር ባንገናኝ ኖሮ እዚህ\\n፰፰፭ዐጣዖ ነበር ። ለማንኛውም ነገር እዚህ የምቆየው ላንድ አመት ነው»\\n\\n\\'መወም፦፥ =\\n\\nድንጥጉትኛ ሳል ያዛቸው ። ክፉኛ ይስሉ ጀመር ። ታፍነው የሚሞቱ\\nመስሎት ኤብሮአቸው ይጨነቅ ጀመር ። ሲጥ ሲጥ የሚል ደረቅ ሳል ነቦር\\nየሚስሉት ። አሰሎ ፤ አስሎ ፤ አስሎ ሲተዋቸው በእፎይታ ወዶ ው\\nበሃይል ተነ-ፈሱና ፥ ጻሃይለኛ ኣስም አለብኝ ። ከፋ ጠቅላይ ግዛት ውዕጥ\\n፪ስ፲ዘ፲ርልነ፬፲ የያዘኝ ። ቆይቶብኛል ። ገድሎ አይገድለኝ ነገር እገፎሂዖ\\nሰቃየኛል ። በተለይም የዚህ ወራት የአበባ ሽታ ሲሸተኝ ይብስብኛ\\'\\nየጠመኔ ብፍኝም አይወድልሜም» አሉት ። በ\\n\\n«ታዲያ ለምን አይተውትም 19\\n«ምኑ\"”።ኃ2፻ቅ\\nሡሡጎናግጤነ፲ ..ጅ\\n'},\n",
       " {'page_number': 66,\n",
       "  'text': 'ሀዲስ 65\\n\\n«ከሁለቱ ትለይቼ መኖር የምችል አይመስለኝም ። የሚገርመው\\nነገር ልክ እንዳንተው ላንድ አመት አስተምሬ ሌላ ስራ እፈልጋለሰሁ ብዬ\\nነበር የመምህርነት ስራ የጀመርኩት ። ይሄው ሰላሳ አመት አለፈኝ ።\\nበአብዛኛዎቹ የኢትዮጵያ ጠቅላይ ግዛቶች ተዘዋውሬ አስተምሬአለሁ ።\\nየማስተማር ነገር ደምህ ውስጥ ከገባ አይወጣም ።ካንተ የሚበልጡ\\nአፍርቶ ማየት --- ትልቅ ቦታ ደርሰው ትልቅ ቄም ነገር ሲሰሩ ማየት\\nደስ ይላል ። በህይወት ከዚህ የበለጠ ወሮታ ምን አለ ? ትልቅ ቦታ ሳይ\\nየደረሱ የቀድሞ ተማሪዎቼ ሌላ ስራ እንፈልግልህ እያሉ ሁልጊዜ ያስቸማ\\nሩኛል ። እኔ ግን አልፈልግም ። ክፍሌ ገብቼ ሳስተትምር የሚሰማኝ ደስታ\\nይሄ ነው አይባልም=» አሉት ።\\n\\nቀለሙ ተለይቶ የማይታወቅ አንድ አሰንጋ ከፅህፈት ጠረጴዛቸው\\nላይ ተዘርግቶ እየ ። ታፈስሰ ስለ አቶ ጣሴ አለንጋ ያጫወተው ትገ] አለው ።\\n\\n«ታፈስ ስለዚህ አለንጋ አጫውቶኝ ንነበር» አላቸውና አለንጋውን\\nአንስቶ እየተመለከተ ፤ «እሱ ነው ወይስ ሌላ ?›» ብሎ ጠየቃቸው ።\\n\\nከተጎነንነ ቆዳ የተሰራ አለንጋ ነበር ።\\n\\n«እሱው ነው ። ከሰላሳ አመት በላይ እድሜ አለው ። ዛሬ ለብኩ ቁም\\nነገር የደረሱ ብዙ ሰዎችን ቀጥቶ ያሳደገ አለንጋ ነው ። ከትጭሟሪዎቼ መካ\\nከል ጀርባቸው የዚህን አለንጋ ጣእም ያልቀመሰ ጥቂቶች ናቸው ። በዱላሳ\\nአላምንም ። የፍቅር አለንጋ ነው » አሉት ።\\n\\nእንደገና ያስላቸው ጀመር ። ነፍሱ ከአቶ ጣሴ ዶደጉ ጋር አብራ ትጨ\\nነቀች ። አሁንም ሳሉ ብሎ ብሎ ሲተዋቸው በእፎይታ ተነፈሱና ፥ «በል\\nእንግዲህ እዚህ መምጣትህ ደዶህና ነው ። ምናልባት ትምህርት ቤቱቴ ደዶስ\\nአይልህ ይሆናል ። በላያችን ላይ ሊፈርስ ደርሶአል ። ታዲያ መንግስት\\nበጀት ካጣ ሠዝቡን እንዲረዳን ጠይቀን እናሳድሰው ወይም ሌላ እንስራ\\nሲሉት አቶ ይርጋ ደስ አይለውም ። እኔንማ እንደ ጠላት ነው የሚያየኝ ።\\nለመሆኑ ፕገናሜታችሁዋል ?» አሉት ። ኛ\\n\\n«ገና አልተገናኘንም» ብሎአቸው፥ ነገሩ ስለ ከነከነው፤ «አቶ ይርጋ\\nየሰው ምክር መቀበል ለምን ይጠላሉ ? ለበጎ አላማ መቀደም ክፉ አይዴ\\nለም። ለበጎ አላማ መተባበር ጥሩ ነው» አላቸው ። -\\n\\n«ነው።” ነው ልጄ። ግን እሱ ደስ አይለውም። ብዬ ብዬ ደክሞኛል ።\\nምን አገባችሁ ? አርፋችሁ አስተምሩ ። የናንተ ግዴታ ማስተማር ነው ።\\nሌላውን ለኔ ተውልኝ? ይላል ሲናገሩት ። እሱ ደግሞ አይሰራም ። “ለበላይ\\nአመልክቻለሠው\\'\" ነው የሚቀናው ሁልጊዜ ። ትምህርት ቤቱ እስኪወድቅ\\nድረስ መጠበቅ ምን ያደርጋል ? በዚህ ላይ ፥ ይህም ትምህርት ቤት ሆኖ\\nተጣቦአል ። በያመቱ ቦታ የለንም እያልን ከበር የምንመልሳቸው ልጆች\\nቁጥር ይህ ነው አይባልም ። ያሳዝናል» አሉ --አዝነው ።\\n\\n«በመምህራኑ መካከል መግባባትና ትብብር ካለ እኮ ነገሩ ቀላል ነው ።\\nማሳደስ ቀርቶ አዲስ ትምህርት ቤት መስራት ይቻላል ። ሰው ከተባበረ\\nየማይ,)ሰረ-ው ተአምር የለም መ\\n'},\n",
       " {'page_number': 67,\n",
       "  'text': '--88 ወዲስ ዴ\\n\\nዎን ፥ እሱስ ነው ። ግን የሚያጣላ ነው እንጂ የሚያስተ\\nሰው ፭፰ም # እንዳልኩህ ብዙ ትምህርት ቤቶች ዞሬ አስተምሬአለባፎቺ\\nሆኖም እንዴ አቶ ይርጋ ያለ ዲሬክተር አጋጥሞኝ አያውትም። ምክትል\\nዲሬክቲር አያስቀምጥም ። አሁንም የለንም ። ምክትል ዲሬክተር እንዴ\\nሆን ጠቅላይ ግዛቱ ብዙ ጊዜ ጠይቆኝ ነበር ። እኔ ከማስተማር ሌላ ምን\\nአልፈልግም ። አቶ ይርጋ ዛሬ አንዱን መምህር “ምክትሌ”? ላደርግህ ነውቱ\\nነገ ደግሞ ሌላውን ፤ እንዲሁ እያለ በማታለል * መምህራኑን እርስ በርሳ\\nቸው ሆድና ጅርባ ሲያደርጋቸው ይኖራል ። የኛ ነገር ያሳዝናል ። እኔም\\nከእንግዲህ የትም ልሄድ አልችልም ። አርጅቻለሁ ። ሌላ ቦታ ሄጄ አዲስ\\nጎጆ ለመቀለስ አቅም ያንሰኛል ። ግን በይበልጥ የሚያሳዝነኝ ፤ ቅን\\nሆነን ቅናውን መንገድ ለተማሪዎቻችን ለማሳየት አለመቻላችን ነው»\\nአሉት እዝን ፤ ትክዝ ብለው ።\\n\\nከአኤቶ ይርጋ ጋር ለመትዋወቅ ሄደዶ ።\\n\\nአት ይርጋ ሀዲስን ገና ሲያዩት አልወዶዱትም ። ከዩኒቨርሲቲ በመ\\nምጣቱ የተስማቸውን ቅሬታ ሳይሸሽጉ * «እንዴ ? ከመምህራን ማሰል\\nጠኛ ትምህርት ቤቶች የተመረቁ ስንት መምህራን እያሉ አንተን ለምን\\nላኮህ ? ትምህርትህን ብትጨርስ አይሻልህም ነበር ? ለመሆኑ የማስተማር\\nልምድ አሕለህ ? ወይስ ባንድ ድንጋይ ሁለት ወፍ መግደል እንዲሉ ፤ ላንድ\\nአመት አርፈህና ገግንዘብ አጠራቅመህ ለመመለስ ነው የመጣኸኽው 1ሠ\\nእያሉ በጥያቄ ሲያጣድፉት ፤ ከሰፊ ትከሻቸው ላይ ጉኙች ብላ የምትታየው\\nትንሽ መላጣ ጭንቅላታቸው እያስጠላችው ሰላላ ድምፃቸው ጆሮውን\\nእየወጋው ፤ ዝም ብሎ ሲያዳምጣቸው ከቆየ በሁዋላ ፥ «የማስትማር ልምድ\\nየለኝም ። ግን የሚቻለኝን እሞክራለሁ ። የመጣሁት ለእረፍት ሳይሆን\\nበችግር ምክንያት ነው» ሲላቸው ፥ ሁልጊዜ የሚያልበውን መላጣቸውን\\nበአዳፋሩ መሀረብ ጠርገው ፤ እኮ--ይህንኑ አይዶለም ያልኩት ? አስተ\\nማሪነት የችግር መወጫ አይደለም ። ሙከራ የምናካሂድበት ቦታም አይዶ\\nለም ። ዋነገውን ትውልድ ኮትኩተን የምናሳድግበት ክቡር ስፍራ ስለሆነ፣፤\\nእዚህ ዮሚያስፈልጉን በሙያው ጥሩ ልምድ ያላቸውና ለሙያው መስዋ\\nእት የሟሆኑ ዲስፕሊን ያላቸው አስተማሪዎች ናቸው። የነገው ትውልድ\\nኖማንም መለማመጃ መሆን የለበትም ። ዶደሞ እኮ የገረመኝ * የደሞዝህ\\n\\nዷገርትነው “ ባስተማሪነት የሰለጠኑም ያንተን ያህል ዶሞዝ አያገኙም»\\nሉት“\\n\\nአፁን ዝም ለማለት አልቻለም ። «ላገሩም ሆንነ ለትምዝህርት ቤቱ\\nእንዲሁም እርስዎ እንዳሉት ለሙያው አዲስ ነኝ ። አሁን ያዘዙኝን ቃ\\nላንዱ ነባር አስተማሪ ቢሰጡት አይሻልም 1» አኣላቸው ።\\n\\nአ>ዴ አግሱና ከተቀመጡበት ብድግ «የሚሻለውን የማው\\nቀው እኃ ነኝ ! ያዘዝኩህን ትሰራ እንደዑጂለጩኒ አልሰራም የምትፉ\\nክሆነም ንገረኝ» ብለው ፤ በሰላላዋ ድምፃቸው- አንዴ ጮሁበት “\\n'},\n",
       " {'page_number': 68,\n",
       "  'text': 'ተ ፡...ታ... . .. . . . ሀዲስ 67\\n«ለስራው አዲስ ነኝ እያልኩዎት ለምን እኔ ብቻ?-. .»\\n\\n«የመማሪያ ቦታ አይደለም ብዬሃለሁ ወንድም ! ትሰማኛለህ ፣ አስተ\\nማሪ ነኝ ብለህ ከመጣህ ሂድና ስራ ። እና ፣ ደግሞ ከእንግዲህ መልስ\\nአልፈልግም ! ባስር ቀን ውስጥ ብዬሃለሁ !»\\n\\nየተሰጠውን ትእዛዝ መፈጸም ነበረበት ። ምርጫ አልነበረውም ።\\nበዚህ አለም ምርጫ ያለው ማነው! በዚያም ላይ ማስተማር ነበረበት ።\\nየተሰጠው እልታዊ ፕሮግራም ቀላል አልነበረም ።\\n\\nአንዶኛ ክፍል ለመግባት ብቻ የተመዘገቡት ተማሪዎች ቁጥር ከሶ\\nስት መቶ በላይ ነበር ። ቁጥሩ አላስጨነቀውም ። ይልቅ የጨነቀው ከሶስት\\nመቶ ተመዝጋቢዎች መካከል በተሰጠው ጥብቅ ትእዛዝ መሰረት ስድሳ\\nብቻ እንዴት አድርጎ እንዶሚመርጥ ነበር ። ከስድሳ ሴሌላ ሳንድም ተጨ\\nማሪ ተማሪ ቦታ እንደዴ ሌለ ተነግሮታል ። ከባድ ፈተና ከማዘጋጀት ሌላ\\nምርጫ አላገኘም ። ፈተናውን ሲያወጣ ህሊናውም ጭምር ነበር አብሮ\\nየተፈተነው = አብዛኛዎቹን ተፈታኞች ለመጣል ሆነ ተብሎ ታስቦበት\\nየሚዘጋጅ ፈትና የትምህርትን መስረተ አላማ ውድቅ ከማድረግ አልፎ\\nፈታኙን ራሱን መልሶ ከባድ የህሊና ፈተና ላይ የሚጥል ከባድ ወንጀል\\nሆኖበት ሌሊት ሲቃዥ ያድራል ። ቀንድና ጅራት ያወጡ ህፃናት የገሃነም>\\nእሳት አስር እጥፍ የሚሆን አንድዶው *0 ዙሪያውን በመሾዞር እየጨፈሩ\\nእርቃኑን ጎት-ኑው ከእሳቱ ላንቃ ውስጥ ሲጥሉት ሆዳቸው የተነፋ ፥ አግራ\\nቸው የቀጠነ ፥*0 ጭንቅላታቸው የከበዶ ህፃናት እንይ ቢላዎ የትሳለ ጥርሳቸ\\nውን እንዶ ተናደደ ሰይጣን እያፋሙበት ከትምህርት ቤቱ ቅጥር ማቢ\\nውስጥ ካለው ትልቅ ወርካ ላይ አውጥተው ሆ እኢያሉ ሲሰቅሉት --- በሽህ\\nየሚቆጠር የህፃናት ሬሳ ከመቃበርእንዶ ትል ትፈልፍሎ ወጥቶ ሲወረው---\\nከጠራ ሰማጮ ድንጋት መብረቅ ትንትርክኮ ሲወድቅበት በህልሙ ይመጣ\\nበታል ። ከትምህርት ቤቱ ‹ግድግዳ ላይ እርቃኑን እንደ ቆመ አስዶግፈው\\nበጥይት እሩምታ ይደበድቡታል ። ግን አይሞትም ። ይጮሃል ። የሚያስጥ\\nለው የለም ። ሮጦ ለማምለጥ ይፈልጋል ። እግሩ አይነቃነቅም ። ሲመለከ\\nጥው ከቆመበት ቦታ ላይ እግሩ ስር አብቅሎአል ። ያበቀልለውን ስር ከእግሩ\\nመንቀል ያቅሞተዋል ። ሊነቃነቅ አይችልም ። ሌላ የጥይት እሩምታ ።\\nላብ በላብ ሆኖ እየጮኽ ይነቃል ።\\n\\nበሩ በሦሃይል ይንኩዋኩዋ ነበር ። ሰአቱን ሲመለከት ከጠዋቱ አሕስራ\\nሁለት ተኩሔፏ ይላል ። ተነስቶ በሩን ከፈት ። ማመልከቻ ፃፍልን ለማለት\\nየመጡ ሰዎች ይሆናሉ ብሎ አስቦ ነበር ። ቶሎሳ ነበር በሩ ላይ የቆመው።\\n\\nሀዲስ ሔኤንቅልፍ ያልጠገቡትን አይኖኝቼቹን እያሸ ፥፡ «ለካ አንተ ኖረሃል\\nየጥይት እሩምታ የምትለቅብኝ» አለው ።\\n\\n«የምን ጥይት 7?5\\n\\n«ተቶወውጮ ። መጥፎ ቅት ውስጥ ነበርኩ» ብሎት ን ተንጠራርቶ\\nአዛጋና 9 «ምን ነው  ዶህና ?» ሲል ጠየቀው ። :\\n\\n«በቀደም ለት የወሰድኩዋቸውን መፃፎች ልመልስ ነው» ብሎት\\nአራቱንም መፃህፍት ይሰጠዋል ።\\n'},\n",
       " {'page_number': 69,\n",
       "  'text': '“ፇእርአያ\\' » እንደ ወጣች ቀረች\"? ። *ፍቅር እስከ መቃብርሩ፡\\n\\'አደፍርስ”\\' ነበሩ---መፃህፍቱ ።\\n\\nተገርሞ መፃህፍቱን እያየ ፤ «ከመቼው አነበበቻቸው?>» አለው ።\\n\\nደሁሉንም በፊት አንብቤአቸዋሉሁ ብላሃለች» ኣለው ።\\n\\nእንግዲህ ካባቴ ዳዊት ሌላ የምልክላት መፅሀፍ የለኝ ፥ እያለ በሆዱ ፥\\n«ማንበብ ታዘወትራለች መሰለኝ ?» አለው ።\\n\\nደከመፃፍ ተለይታ ውላ አታውቅም ። በጀርባዋ ተጋድማ እሱኑ ስታ\\nነበንብ ነው የምትውለው ። ከራዲዮም ስር አትለይም ። ጠዋት ፥ ቀንና\\nማታ ራዲዮ እስኪዘጋ ድረስ ከስሩ አትጠፋም ። ወደ መቱ የወጣ ሰው\\nጋዜጣ ይዞ ካልመጣ መግቢያ የለውምጋ> ብሎ አጫወተው ።\\n\\n«ሃይለኛ ናት በለኛ ሠ»\\n\\n=<አራስ ነብር እንጂ ። ሌላውን ቀርቶ ጌቶቹንም ሲ“ጐ ታንቀጠቅጣ\\nቸዋለች ። ታዲያ እንዲህም ሆና ከትእዛዛቸው ውጭ ፍንክች የለችም ።»\\n\\nሀሠዲስ ተጣድፎ ፤ «በጋብቻም ቢሆን ?» አለው ። ቶሎሳ ጥያቄው\\nስላልገግባው ፥ «እንዴት ማለት ?» ብሎ መልሶ ጠየቀው ።\\n\\n«ማለቴ ፡ የማትፈቅደውን ሰው አግበ. ቢሉዋት እሺ ብላ ትቀበላለች?»\\n\\nቶሎሳ በነገሩ በመገረም የኮረኮሩትን ያህል ስቆ ፥ «ሴት ልጅ ምን\\nምርጫ እአላት ? የሚፈቃቀዱት ቤተሰቦች ናቸው እንጂጄ ጋብቻ በሴት\\nፈቃድ መቸ ሆነ? ምን ነው የጋለሞታዎች ነገር አደረከው ጃል? ወቸ ጉድ ዐ»\\n\\nአለና ፤ በሀዲስ ሞኝነት እንደገና ከት ብሎ ስቆ ለሌላ ጥያቄ እድል ሳይሰ\\nጠው ተቻኩሎ ሄደ ።\\n\\nጭሎሳ ሲስቅ ከሆዱ ስለሆነ ሳቁ እንደ ክረምት ሰማ ያጉረመርማል።\\nእንደየዚያ ከሆዱ ውስጥ እያጉረመረመ ሲስቅ ሳቁ በፀላይሱጼ ቦሮ የሚያስ\\n\\nተበሳጭቶ እየተነጫነጨ --- የፈተናውን ውጤት ወስዶ ልክ በተባለው\\n\\nፈተናውን ለማለፍ ያልቻሉትን ከ\\nተማረዎች አይቶ እንዳላየ ሕይኑንሁሎጉ የድ አርካ በላይ የሚሆኑ›\\n\\nምንድን ነው 9 አሉት አቶ ይርጋ ። ሰላላዋ ቸቸ በ ክ\\n'},\n",
       " {'page_number': 70,\n",
       "  'text': \"ሀዲስ 68\\n\\nእንደገና ተመልሶ ቆመ ። አቶ ይርጋ ከቢሮአቸው ውስጥ ትርፍ ወን\\nበር አያኖሩም ። ወንበር ጠፍቶ አይደለም ። እንዲቀመጥ የሚፈልጉት እን\\nግዳ ከመጣ ወንበር ያስገቡለታል ። አስተማሪዎች ግን እሳቸውን ቆመው\\nለማነጋገር ይገደዳሉ ።\\n\\nአሁንም አገሱበትና * «ከታፈሰ ብሩ ጋር ዝምድና አላቕችሁ ?› ብለው\\nጠ =\\n\\nከታፈሰ ዘንድ ይዞላቸው የመጣውን ደብዳቤ እያስታወሰ ምንም\\nዝምድና እንደ ሌላቸው ነገራቸው ። ደብዳቤውን ከሳምንት በፊት ሲሰጣ\\nቸው ከየት እንደ ተላከ ሊጠይቁት ቀርቶ ቀና ብለው እንኩዋን አላዩትም\\nነበር ። ከፊታውራሪስ ጋር ? ብለው ይጠይቁኛል ብሎ ጠብቆ ነበር።\\n\\n«እብሪት ደግ አይደለም» አሉት ።\\n«የምን እብሪት 1?»\\n\\n«ሳያስናብቱህ መሮጥ እብሪት ነው ። እብሪታችሁን እዚያው ዩኒቨር\\nሲቲአችሁ ብታሳዩዬ ይበቃል ። ለመንደዶር ነገረተኞች እብሪት የተሞላበት\\nማመልከቻ መፃፍ ጀምረሃል አሉ ። እንደ ሳውል ከአይናችሁ እኮ የሚወ\\nድቅ ቅርፊት የለም ። በትእቢትና በእብሪት አይናችሁ ተጋርዶአልና\\nምንም አይታያችሁም ። አሁን ያለህበት የስራ አለም መሆኑን አትርሳ ።\\nየቲዎሪ አለም ውስጥ አይደለም ያለኸው ። አሁን ልትሄድ ትችላለህ»\\nሲሉት ፤ ዘሎ ሊያንቃቸው ፈልጎ ነበር ። ንዴቱ ከጉሮሮው ላይ ተወትፎ\\nእፍን አደረገው ። ንዴቱን እንደ ምንም ውጦ ወጣ ። እንደዚያን ቀን ተናዶ\\nአያውቅም ። ሀዲስ በተፈጥሮው ተናዳጅ ሰው አይደለም ። ያን ቀን ግን\\nአቶ ይርጋን አንቆ ቢገድላቸው ፤ ወይም ቢያንስ ከመላጣቸው ላይ ዶህና\\nኩርኩም ቢያቀምሳቸው ዶደስ ባለው ነበር ። ንዴቱ ገንፍሎ በተነሳ ቁጥር\\nመላጣቸው ይታየዋል --- የማሾፍ ሳቅ ያሰኘዋል። መደበኛ ትምህርት ገና\\nያልትጀመረ ቢሆንም ፥ ክፍል ገብቶ ተማሮቹ ላይ 6ቀጥሎም ጣራውላይ፤\\nሲለው ደግሞ ጥቁር ሰሌዳው ላይ ለመጮህ ቢሞክርም ንዴቱን ሊወጣ\\nአልቻለም ። በቀጥታ ወደ ወይዘሮ ዝናሽ ቡና ቤት ሄዶ ሜታ ቢራ አዘዘ ።\\n\\nሽታዬ ጆሮዋን አላመነችም ።\\n\\n«አይንሽን ጎልጉይብኝ አላልኩም ። ሜታ ቢራ ነው ያልኩሽ» አላት\\nጠጉሩን በጣቱ እየቆፈረ ። ፲\\n\\n«ከመቼ ወዲህ ?› አለችው አፍዋን ከፍታ ።\\n\\n«ከዛራ ጀምሮ ። ያስተማሪዎች ጉሮሮ ፈሳሽ ነገር ያስፈልገዋል ።\\nሲደርቅና ሲዳረቅ ነው የሚውለው ። አስተማሪዎች በቀን ስንት ሰዓት\\nእንደሚለፈልፉ ታውቂያለሽ ? ሰባት ሰአት ። በህልማቸውም ሳይለፈ\\nልፉ አይቀሩ-ም ። ማስረዳት አለባቸው። ማስረዳት ---ማስረዳት ። ጉሮሮአ\\nቾቸው ይደርቃል ። ምራቃቸው ይደርቃል ። ምራቃቸው ደርቆ እንደ ሬት\\nእስኪመራቸው ድረስ ነው የሚለፈልፉት ። እና ፤ ፈተና ሲያርሙ ደሞ\\nልባቸው ይጆማል ። ለማስረዳት የሞከሩትን ሁሉ ያልተረዱ ብዙ ሆነው\\nይገኛሉ ። ቃ ሁሉ ጭኸትና ማስረዳት ዋጋ ቢስ ይሆንባቸዋል ። እና ፤\\nጉሮሮአቸው ይደርቃል ። ልባቸው ይደማል ። ህሊናቸው ቆስሎ ይመግ\\nላል።በፈተና መጣል ገሃነም መስደድ ማለት ነዋ ።የፈረደበትን'ልጅእድል\\nለዘለአለም መዝጋት ነው ። ሂድ * የህይወትን ጠመዝማዛ መንገድ ጥረህ\\n\"},\n",
       " {'page_number': 71,\n",
       "  'text': \"፡.ጌ.. ር 8\\n\\nውጣት ማለት ነው ። እግዜርስ አዳምን ይህን አይደለም\\nጄ፤ቃዬ ፈዯትና ሰጠው ። አዳም ከተከለከለችው ፍሬ በመብላቴ ፌ፲፲፤፲፯ወ፲ዌ\\nወደቀ ። በግንባርህ ወዝ ለፍተህ ብላ ብሎት ከገነት አባረሯው ። ልካ አይ«\\nለም ? አዎን ። እግዜር ላዳም ፈተና መስጠት አልነበረበትም « አዳም\\nፈተናውን እንደሚወድቅ አስቀድሞ ያውቅ ነበራ ! ሰውን እያወቀ በፌፈ. ተፍ\\nየሚጥል ጨካኝ አምላክ ነው ። መንግስተ ሰማያት ተመልሰን ለመግባጴ\\nፀሎት * ጦም ፡ ጂኒ ቁልቁዋል የምንልበት ምክንያት አይገባኝም ፡ ጩ\\nያባርረናላ ! ጨካኝ የሆነ የፍጥረት--አለም ጨዋታ ! ጉሮሮዬ ደዴርቆአል.«\\nቢራ ነው የምልሽ !» አላት ፡ አሁንም ጠጉሩን እየቆፈረ ።\\n\\nሽታዬ በመገረም አፍዋን ከፍታ ዘርዛራ ጥርሶችዋን እያሳየች ስታ\\nምጠው ከቆየች በሁዋላ ፥ «እግርና እጅ የሌለው ጉድ ነው የምትናገረወ\\nእቴ “ እውነትም የሚያስለፈልፍ ሰይጣን ይዞሃል>» አለችው ።\\n\\n«<አኔም ይህንኑ ነውኮ የምልሽ ። ምሱ ቢራ ነው ብዬሻለሁ» አላት «\\n\\nጠርሙሱ አቡዋራ የጠጣ ለብ ያለ ሜታ ቢራ ከፍታ ሰጠችው ። ከጠ\\nርሙሱ አንገት ላይ አቡዋራ ጠርጎ የጠርሙሱን ከንፈር ቀና ብሎ እንደ\\nሳመ፤*ወይዘሮ ዝናሽ ከብለል ክብለል እያለች መጣችና ሽታዬን ገና ሲታ\\nያት ፤ እንዴ ቄብ ዶሮ ማስካካት ጀመረች ። የተጐነጨው ቢራ ትን ሊለው\\nነበር። '\\n\\nማስካካቱዋን አቆመችና ወዶደ ሽታዬ እየተመለከተች ፥*\\n\\nፍቅር ያዘኝ ብለሽ አትበይ ዴንበር ገተር\\nእኛም አንድ ሰሞን እንዲህ አርጎን ነበር ።\\n.-.»- ውድቀት ስትሻ ስታበዛ ሩጫ\\n\\nሄዳ ታሸታለች የፍቅር አፍንጫ ።\\n\\nብላ ደግሞ አንዴ አስካካችና ፥ «ወንድን ያመነ ፥ ጉምን የዘገነ አንድ ነው\\nፍቅርዬ ። ወንድ ሲቀርቡት የሚርቅ ፤ ሲርቁት ዶሞ አልቅሶ ልቅረብ\\nየሚል ክሀዲና አደገኛ ፍጡር ነው ። ወንድ እኮ ልክ እንዴዶ ንብ ነው ። ከዚ\\nህም ከዚያም አበባ--ካየው አበባ ሁሉ ማር መቅሰም ይፈልጋል ። ለዚያ\\nውም በነፃ ። ሴት ደሞ ሁሉንም አይነት አበባ ልትሆን አትችልም ። ፅት\\nልጅ ማርዋን ደብቃ መያዝ አለባት ። ትንሽ ማላስ ፤ ዴሞ ያዝ ማድረግ ።\\nወንድ እንዲህ ነው መያዝ ያለበት ። ጨርቅን ጥሎ አብሮ በማበድ አይዶ\\nለም ። እንዴ ሰራ አይገድል» አለችና ሄዳ ከወንበር ላይ የተነደዶፈ የጥና\\nክምር መስላ ተቀመጠች ። ያገር ልብስ ታዘወትራለች ።\\n\\nሀዲስ  በንግግሩዋ ተናዶ ፤ «ሴቶችም ያው ናቸው ። ከዚህም ክ\\nያም መቅሰም የህይወት ህግ ነው ። ይህ መራራ ህይወት አንዳንዴ ም\\nፈጥ አሌለበት» አለና ፤ መራራ ቢራውን ጨልጦ ሌላ አዘዘ =\\n\\n«ኣውነትም ጉሮሮህ ደርቆአል » ራም ጠርምኾ\\nከ ። አለችና ሌላ አቡዋ\\n\\nእ\\n«ምን ነው ጉጐሮሮው አይደርቅ ። ከማንም ደንቆሮ ጋር ሲዳረቅ አይ\\nለም የሟሚውለው ?» አለች ዝናሽ ነጠላዋን እየቁዋጨች ።\\n\"},\n",
       " {'page_number': 72,\n",
       "  'text': 'ሀሠዲስ 71\\n\\n. ወዲስ ጠጉሩን እየቆፈረ ፤ «ከህይወት የተገኘ ልምድ ድምፅ ይሉ\\nሻል ይሄ ነው 1» ብሎ ፡ ቢራውን ተጎነጨ ። ።\\n\\n. ዝናሽ * «እንዶ ሰራ አይገድል» ብላ* ከንፈርዋን መጠጠችና ሀዲ\\nስን በእውን ሳይሆን በህልም እንደምታየው ሆና ፥ «ዋ እናቴ ።”\" እኔን\\nአፈር ይብላኝሜ ። ትዝ ይሉኛል እነዚያ የዩኒቨርሲቲ ኮሌጅ ወጣቶች ። ነጭ\\nሱፍ ልብሳቸውን ለብሰው ማታ ላይ ደጃች ውቤ በረሃ እንደ ጨረቃ ብቅ\\nሲሉ ። አይ እናቴዋ ። ከሰው የተፈጠሩ አይመስሉም ነበር ። እነሱንም\\nአፈር ጨክና ትበላ ይሆን ?» አለች ።\\n\\nሀዲስ ነጣ ያለ ኮትና ሱሪ ነበር የለበሰው ። በንዴት ጠጉሩን ቆ#ፈረና ፥፤*\\n«አፈር በልቶአቸው ይሆናል ። ኖሮ ኖሮ ካፈር የሚቀር ማን አለ ? ይህች\\nአለም ቤታችን ናት ያለውስ ማን ነው ? ቤታችን አይደለችም ። ቤት እኮ\\nወጥተትው የሚመለሱበት ቦታ ነው ። ካለም ከወጣን አንመለስባትም ።\\nእያለቀስን መጥተን ዝም ብለን ጥለናት ነው የምንሄይው --- በዝምታ ።\\n\\n«አፈር ነው ቤታችን ። ሌላ የዘላለም ቤት የለንም ። ቀና ብለን ብና\\nየው ስማዬ ባዶ ነው ። እንዳልኩት አፈር በልቶአቸው ይሆናል ወይም\\nጥርሳቸው ኤልቆ ድዳቸው ብቻ ቀርቶ የእድሜ ቁራኛ ሆነው ጎብጠው\\nይሆናል ። ኤለ አይደለም ፤ ህይወት ሳታስጎበድድና ባራት እግር አስኪዳ\\nሳታስግድ አትለቅም ። ህይወት እኮ በመጨረሻ ልትስቅብን፤ ልታሾፍብን\\nነው የምትፈልገው ። አይደለም ? ወይም በያሉበት እየበሰበሱ ይሆናል፤\\nወይም ካገር ትሰደው ሳህን እያጠቡ የፈረንጅ ዲቃላዎቻቸውን ፓያሳድጭ\\nይሆናል ። ምናልባት አንዳንዶቹ ስለ ውቤ በረሃ ያላቸውን ትዝታ ይፅፉ\\nይሆናል ። አላውቅም ። በዚህ አለም ማን የት እንዳለ ማን ያውቃል ?\\nሁሉም ብቸኛ ነው» አለና ቢራውን ባንድ ትንፋሽ ጨሰጠ ።\\n\\n«ምን ንው ቁጣ ቁጣ ይልሃል? እንዶ ሰራ አይገድልጋ» ኣለች ዝናሽ፥\\nነጠላዋን ቶሎ ቶሎ እየቁዋጩጨች ።\\n\\n«ቁጣ ቁጣ ፤ አለ አይደለም ፤ ንዴት ንዴት የማይለው በዚህ አለም\\nማን አለ ?» ብሎ « ፊቱን ሞዥቆ ፥* ጠጉሩን ቆፈር ቆፈር አድርጎ ሲያበቃ ፥\\nየቢራውን ጠርሙስ እያሽከረክረ ፤ «ይህች አለም በንዴታም ሰዎች የተ\\nሞላች ነች = አይደለም እንዴ ? ነው እኮ ። አጵድማሪዎች ፤ መልካቸውንና\\nስማቸውን ልዴተው በማያውቁዋቸው ተማሪዎች ይናደዳሉ ። ተማሪዎ\\nችም አስተማሪው የሚናገረው ስለማይገባቸው ይናደዳሉ ። ወላጆች -ልጆ\\nቻቸው እሺ ብለው ስለማይታዘዙ ይናደዳሉ ። ልጆች ወላጆቻቸው ስለማይ\\nሰሙአቸው ይናደዳሎ። ባል በሚስቱ » ሚስት በባልዋ ይናደዳሉ ።\\n\\n«እናቱ የሞተችበት ይናደዳል ። ፍቅረኛው የከዳችው ፤ ወይም ፍቅ\\nረኛዋ የክዳት ይናደዳሉ ። ሞትና መለያየት ሁልጊዜ አብረውን የሚኖሩ\\nስለሆኑ ሁልጊዜ እንናደዳለን። ወጣትነት እየከዳን ሲሄድ ፥ እንዴደ ቅጩል\\nእየጠወለግዊ እኖረገፈ የሚሄዶውን መልካችንን እያየን እንናዶዴዳለን ።\\nለማግኘት ዊምንፈልገውን ነገር ሳናገሜ ስንቀር እንናደዳለን ።“ለማድረግ\\nየምንፈልገውን ነገር ከፍርሃት የተነሳ ሳናዶርግ ስንቀር እንናዴዳለን ።\\nፍርሃታችን ያናድዶናል ። ሽንፈታችን ያናድዶናል ። በላያችን ላይ እንደ\\nጥላ የሚያጭዣብበው ሞት ያናድዶደናል ። አልስም በንዴታም ሰዎች የተፃ*\\nላች ነች ። ኢና * ንዴታችንን እርስ በርሳችን ላይ እንደ ጅራፍ እናጮነሃለን ።\\n'},\n",
       " {'page_number': 73,\n",
       "  'text': 'ከ ደ...6498ኒጢጤዱሽ\\n\\nቺ ፥ ይህ ሁሉ ንዴት ለምን ይመስሎታል ? አለ አይደለም\\nማንም አሁን ያለበትን ህይወት አሜን ፤ በቃኝ ብሎ አይቀበልም :\\nያለውም የሌለውም ፤ ሁላችንም * አለ አይደል ፤ አለማችንን ለመለወጥ\\nእንፈልጋለን ። ሰው እኮ የሚፈልገው አለምን እንዳለች ለመቀበል ሳይ ሆን\\nለመለወጥ ነው ። እና ፤ እንናደዳለን ። አለ አይደለም ፤ ህይወት ሁልጊዜ\\nአይመስሌ ናት ።\\n\\nኗእና ፥ እኔም አሁን ተናድጃለሁ ። ለምን ቢሉኝ ? ይህ ቢራ እንደ\\nፈለኩት ጭንቅላቴ ላይ ሳይሆን የወጣው ወርዶ ፊኛዬን ነው የወጠረው።\\nእና ፤ ያናድዳል» አለና ሂሳቡን ከፍሎ ወጣ ።\\n\\nየተናዶዱ ሰዎች ። የተናደደች አለም ። እስከ እግዜሩ ሰማይ ድረስ\\nዘልቆ የሚጮህ የንዴት ጅራፍ ። ከዝንተ አለም ጀምሮ በንዴት የቀላ\\nደም ። የደም እንጀራ ። ግን ይመሻል ይነጋል ። የአቶ ይርጋ መላጣ\\nቀንድ አብቅሎ ሊወጋው ሲያባርረው * እሱም መሮጥ ተስኖት ሲንደፋ\\nደፍ ፥ ችማ ሪዎች እንዴደ ማስጣል ቆመው ሲስቁቄቁበት --- ሲቃዥ አድሮ\\nትናዶ ነበር የነቃው ።\\n\\nከችምህርት ቤቱ ሲደርስ የፈተናቸው ልጆች ከዋናው ቢሮ ውጭ\\nተኮልኩለው አገኛቸው ። አንድ አይናው ዘበኛ ያቺን አንድ አይኑን አፍ\\nጥጦባቸዋል ። ጆሮ ቆራጣው ጠብደል ጥቁር ውሻ እንዶ ጉቶ ድልዱም\\nሆና የቀረችውን ቆራጣ ጭራውን እያወዛወዘ ተማሪዎቹ ላይ ይጮሃል ።\\n፮ዷስ መምጣቴን ሲያዬዩ ተማሪዎቹ ዙሪያውን ከበውት በጥያቄ ያዋክቡት\\nመር ።\\n\\nሀዲስ በንዴቱ ላይ ንዴት ጨምሮ ድምፁን ከፍ በማሜድረግ * «አንድ\\nጊዜ ዝም በሉ ! እንዴ ? ሁላችሁንም ባንድ ጊዜ ለመስማት አልችልም ።\\nያለኝ ሁልት ጆሮ ብቻ ነው ። የፈተናችሁን ውጤት እንደሆነ የምትፈልጉት\\nዲሬክትሩን ጠይቁዋቸው... .»\\n\\n«ዘበኛው አላስገባም አለን» ብለው ጮሁበት ።\\n\\nወዶ ዘበኛው ሂዶ ውሻውን በአይኑ እየጠበቀ ፥ «ለምን አያስገቡኦ\\nቸውም 7» ኣለው ።\\n\\n«በማን ሃላፊነት ?»> የሚል ጥያቄ አቀረበለት ።\\n\\nሀዲስ ወደ ልጆቹ ተመልሶ ፡ «አንዴ አድምጡኝ ልጆች ። ውጤታችሁ\\nማስታወቂያ ሰሌዳ ላይ ካልተለጠፈ መቼ እንደሚገለፅ ጠይቄ እኔ እነግራ\\nችሁዋለፁ ። እሺ ?» ብሎ በፈተናው ለወደቁት በልቡ እያዘነና እየተናዶዶ\\nሁሉም እኩል የሚጉዋጉበት ኣለም የሚል አሳብ በአእምሮው ውስጥና\\nእየተጉላላ ወደ አቶ ይርጋ ቢሮ በቀጥታ አመራ ። አቶ ይርጋ ጠዋት ቦማ\\nለዳ ከሁሉም ቀድመው ነበር ቢሮ የሚገቡት ። ቀና ብለው አላዩትም *\\nመላጣቸው አፈጠጠበት ። መላጣቸው በይበልጥ ተመልጦ ታየው “\\n\\n«ምን ኖሮአል ?» አሉት ።\\nየሙጣበትን ጉዳይ ባጭሩ ነገራቸው ።\\n'},\n",
       " {'page_number': 74,\n",
       "  'text': \"ሀዲስ 73\\n\\n«ፈተናውን አርመህ ጨርሰህ ሰጥተኸኝ የለም ?>»\\n«አዎን።»ጅ\\n«የቀረው ስራ የኔ ድርሻ ነው» አሉት ።\\n\\nወባ እንደ ያዘው ሰው መላ ሰውነቱ በንዴት ተንቀጠቀጠ ። የቆመ\\nበት መሬት ጭምር አብሮት የሚንቀጠቀጥ ነበር የመሰለው ። ከንዴቱ\\nየተነሳ ጉሮሮው ተዘግቶ ትንፋሽ ስላጠረው እንደ ምንም ብሎ በትንፋሹ\\nጉሮሮውን ጠረገ ።\\n\\n«ሌላ ጉዳይ አለህ?» አሉት ።\\nከንፈሮቹን በግድ አላቆ ፤ «እስኪያሰናብቱኝ ብዬ ነው» አሳቸው ።\\n\\nየበለዙ ጥርሶችና የቀሉ አይኖች አሳዩት ።\\n\\nእኔን ለማናደድ ካልሆነ በቀር ያለቀለት ጉዳይ ለምን እንደማይገለፅ\\nአይገባኝም ። ግን ምን አደረኩት? እያለ ሄዶ የሚጠብቁትን ልጆች በማፅ\\nናናት ከሸኘ በሁዋላ ለማስተማር ክፍል ገባ ።\\n\\n- ክፍሉ ብርሃን እንደ ልብ አይገባውም ። ይጨልማል ። ምርጊቱ\\nየፈረሰ ግድማዳ ያገጣል ። ከስር እግር ላይ እየዘለሉ የሚፈተፍቱት ቁንጫ\\nዎች ያዘልላሉ ። የክፍሉ ሽታ እስከ ሰማይ ድረስ ይቀረናል ። ከመቶ ሃያ\\nበላይ የሚሆኑ አይኖች ይቁለጨለጫሉ ። ስማቸውንና መልካቸውን ለይቶ\\nአያስታውስም ። 'የያንዳንዱን - ተማሪ አቅም አውቆ ሊረዳቸው\\nአይችልም ። ዝም ብለው አይናቸውን ያቄለጨልሙበታል ። ምና\\nልባት እሱም ዝም ብሎ እንደ ዮሀንስ መጥምቁ በምድረ በዳ የሚጮህ\\nይሇናል ። እፍግ ፤ ትፍግፍሟ ያለ ጨለማ---እና ዩ እዚህ ውስጥ ለመግባት\\nእድል የሟጠብቁ ብዙ ልጆች---ስር እጥፍ ድርብ ልጆች ከውጭ ይጠብ\\nቃሉ ። ኤጭ ! ማስተማር አይበለው ! ብሎ ሲደወል ወጣ።\\n\\nየፈዯናው ውጤት አልወጣም ። አቶ ይርጋን የገጠማቸው ችግር ሊገ\\nባው አልቻለም ። በበነገታው እንዲሁ ውጤቱ ሳይገለፅ ዋለ ። በሶስተኛው\\nቀን ላይ ነበር የፈፌተናው ውጤት የተገለፀው ።\\n\\nሀዲስ ለማስተማር ሌላ ክፍል ከመግባቱ በፊት ከበረንዳ ላይ ቆሞ\\nያስተውላል ። ፈተናውን ያለፉ መሆናቸውን ያወቁ አንዳንድ ልጆች እየ\\nሳቁ ጮቤ መርገጥ ይቃጣቸዋል ። አንዳንዶቹም ጮቤ ይረግጡ ነበር ።\\nስማቸውጉ ከወጣው ዝርዝር ውስጥ ያጡት ጥቂት ልጆች እንባ ያፈሳሉ ።\\nየእሱም ኤይን እንባ አቅሮአል ። አብዛኛዎቹ በእድላቸው አዝነው አቀርቅ\\nረው ይሄዲሉ።ሳቅ.. . .እንባ. . . ህይወት . . . የት ነው የሚሄዱት?....\\nትምህርት'ቤት ለመግባት እድል ያላገኙት ሁሉ የት ነው ያሉት?....ምን\\nይሆናሉ? . . . በቃ ወደ ገሃነም እንዲሄዱ ፈረድኩባቸው ማለት ነው....\\nብሞት አስተማሪ ኣልሆንም . . . ከዚህ የህሊና ገሃነመ እሳት ውስጥ መው\\nጣት አለብኝ . .. እያለ በአሳብ ጭልጥ ብሎ ሄዶ ስለ ነቦረ ሲደወል አል\\nሰማም ። '\\n\\nአስጭምሮ ከክፍል ሲወጣ ስሜቱ ትንሽ ለወጥ ብሎ ነበር ። እንዲ\\nያውም ፥ በክፍሉ ጣራ ላይ ፤ በመስኮትና በጥቁር ሰሌዳው ላይ ሽር እያሉ\\nየሚያልፉ- ወፍራም አይጦችና እንሽላሊቶች ባይኖሩ ኖሮ ዶደስ ብሎት በወጣ\\n\"},\n",
       " {'page_number': 75,\n",
       "  'text': '74 ሀዲስ\\nጪ\\n\\nነበር ። ሀዲስ በሆዳቸው የሚሳቡ አውሬዎች ፈፅሞ አይወድም -=ይ\\nፉታል ። በተለይም እባብ ፈፅሞ አይወድም ። እባብን ማን ይወዳል ነ\\nዶሮ እባብ ስለምትበላ ዶሮም አይወድም ። የሱጴ ዶሮዎች ዶግሞ ከየስን\\nሰሉ ስር እባብ አያጡም ። የሞት እባብ አንጠልጥለው ሲሮጡ ባያቸው\\nቁጥር ከሩቅ ይሸሻቸዋል ። የሞት እባብም አያምንም ። ክአዳምና ከሄዋን\\nጅምሮ በሰውና በእባብ መካከል ለዘለአለም ፀንቶ እንዲኖር የወረደው\\nርግማን ይሆናል በአእምሮው ውስጥ ተትቀርዖ የቀረው፦---እባብ የሰው እግር\\nእንድትነክስ ፥ ሰውም ጭንቅላትዋን እንዲቀጠቅጥ ። በሆዱ የሚሳብ\\nአውሬ ባየ ቁጥር ያዘልለዋል ።\\n\\nአይጥ ወይም እንሽላሊት ባየ ቁጥር ስለሚዘል ያራተኛ ክፍል ተማ\\nሪዎች ሁልጊዜ ይስቁበታል ። በተለይም ፋጡማ መሀመድ ማስቲካ ቀጭ\\nቅጭ እያዶረገች ሁልጊዜ ትስቅበታለች ። ባይዘልም ትስቃለች ። ሁልጊዜ\\nችትስቃለች ። ቁንጫዎች በልተውት ሲያክም ትስቅበታለች ። ባይሆን የእ\\nስዋን ስም አውቆአኣል ። የምትቀባው ዝባድና የምትታጠነው ከርቤ ይሁን\\nሰንዶል ካፍንጫው አይጠፋም ።\\n\\nትላልቅ አይኖችዋ እንዶ ቤተ መቅዶስ ጡዋፍ ያበራሉ ። ሲያስቡት\\nነቢዬዩ መሀመድ በእኢውነቱ ብልጥ ነበር ። ሰምችን ወዳለመው ጄና መሳብ\\nየሚቻልበትን ዘዴ ያውቃል ። ወደ እስላሞች ጀጄና የሚገቡት ልጆች ሁሉ\\nእንደ ወንዝ ዘለአለም ከሚፈስና ምንም ራስ ምታት ከማይሰጥ ወይን\\nጠጅ እየጠጡ * ልባቸው ከሚመኘው የፍሬና የስጋ ኣይነት እየበሉሎ ፥፤\\nየወርቅ ፅዋዌቸውን ይዘው በሚከተሉዋቸው * አይኖቻቸው እንዶ ጡዋፍ\\nበሚያበሩ ኮረዳዎች ትከበው ዘለአለም ዶደስታ ከማይለየው የገነት አትክ\\nልት ውስጭ ይኖራሉ ። ሀዲስ ለሃይማኖት ቁብ ቢኖረው የእስልምና ሃይማ\\nኖትን በመሙረጠ ነበር ። በህይወት ሳሉ ብዙ ሚስቶች የሚፈቅድ ፤ ከአይናማ\\nኮረዳዎኙች ኛማይለይ ሃይማኖት ምኑ ይጠላል ?\\n\\nስለ ፇይማኖት ባሰበ ቁጥር ፤ ንዳዱ እንደዴ እሳት በሚያቃጥል አሸዋማ\\nምድረ በዳ ውስጥ ከቴምር ወይም ከዘምባባ ዛፍ ጥላ ስር ቁጭ ብለው አት\\nክልት በሌለበት ስፍራ ተበልቶ የማያልቅ የጎመራ ፍሬ---አንዲት ጠብታ\\nውሀ በሌለበት በተጠማ ምድር ላይ ዘላለም የሚፈስ ቀዝቃዛ ጣፋጭ\\nውሆ--- ቁጥቁዋጦ ለአመል በማያበቅል አሸዋማ ምድር ላይ ለማየትም\\nሆን ለመብላት የሚያጉዋጉ ዛፎችና አበባዎች አፍንጫ በሟሚወጋ ዶረቅ\\nአየር ምትክ) የሸቱ መአዛ የያዘ ህይወት አዳሽና ፈዋሽ የሆነ ቀዝቃዛ አየር\\nባሸዋው ባህር ምትክ ዘላለም የሚፈስ ወተትና ማር---የሚያልሙ ጢማም\\nሽማግሌዎች በአይነ ህሊናው ይመጣሉ።እና ፥ ታላላቅ ሃይማኖቶች በምድረ-\\nበዳ ማበባቸው አያስደንቅም ። ምክንያቱም ንዳድ የበዛበት የምድረ በዳ\\nአሸዋ በሰው ላይ ፅላላዊ ህልውናን ያሳድራል ። እና ፤ ሃይማኖት ከምድሪ\\n\\n- በዳ የፈለጭ* ተረት ነው እያለች፤ፋጡማ መሀመድ የምትስቅበት ሳቅ እየታ\\nየው ፤ የፌተናቸው ልጆች ውጤት ከተለጠፈበት ሰሌዳ አጠገብ ሲደርሶ\\nለማየት ያህል ቆም አለ ። ዝርዝሩን አንዴ አንብቦ ወጣና ሊሄድ ሲዶ\\nአንድ ነገር ስለ ከነከነው ተመልሶ የስሞቹን ዝርዝር አንድ በአንድ ቀስ\\nብሎ ሕነበቢበ ። እሱ የሚያስታውሳቸው አንዳንድ ስሞች ንነበሩ ። ያስቀሩ\\nውን ኮፒ ክያዘው ፋይል ውስጥ አውጥቶ በጥንቃቄ ማሟመሳከር ጀመረ \"*\\nእውነትም እሱ ፈትኖ ያሳለፋቸው የአስራ አምስት ልጆች ሰም ተሰሶር\"\\nፈተናውን ያላለፉ ልጆች ስም በምትኩ ገብቶአል ።\\n'},\n",
       " {'page_number': 76,\n",
       "  'text': 'ሀሠዲ(/ 75\\nዴ ቲ መሠ ፣ በ.\\n\\nነገሩ በነጭ ወረቀት ላይ በጥቁር ቀለም ተፅፎ እያየ ማመን አቃተው ።\\nመረዳትም ተሳላነው ። ልቡ ሰይጣናዊ ከበሮ ይደልቅ ጄመር ። ንዴት ይሁን\\n፮፶ኔምት ፤ ሳቅ ይሁን እንባ--- የትኛው እንዴ ያዘው ሰይቶ ለማወቅ አል\\n\\nፈትናውን ሳያልፉ እንዲገቡ የተዶረጉትን ተማሪዎች ስም ዝርዝር\\nለቀመና ንዴት እየተና ነቀው አቶ ጣሴ ዴዶጉን ፍለጋ ሄደ ። አቶ ጣሴ ካንድ\\nክፍል ውስጥ ሆነው የሚያስተምሩትን ትምህርት ሲያዘጋጁ ኣገኛቸው ።\\nበያዙት ስራ ተመስጠወ- ስለ ነበሩ የሀዲስን ሁኔታ አላጤኑም ።\\n\\n«የማስተምርበትን “ኖት\"? እያዘጋጀሁ ነው ። ይህን ሁሉ ዘመን ሳስ\\nተምር ባሮጌ “ኖት” ተጠቅሜ አላውቅም ። አስተማሪ ዘላለም አዲስ ተማሪ\\nመሆን አለበት» አሉት ።\\n\\n«አቶች ጣሴ» አለ ሀዲስ ።\\n«ወዬ . . ,»>\\n\\n«አዲስ ነገር ገጥሞኛል ።»\\n«ምንድር ነው ልጄ ?›»\\n\\n«መንፈሴ \\'በጣም ታውኮአል> በማለት የመጣበትን ጉዳይ ከስር\\nጆምሮ ያጫውታቸው ጄጀሙር ።\\n\\nፈተናውን ለወዶቁት ልጆች አዝኖ የሚናገር መስሎአቸው ፤ «መቼስ\\nምን ይደረጋል !» አሉት ።\\n\\n«እንዴት !» አለ ።\\n\\n«አይዞህ ። ምንም አይዴለም ። አትዘን ። እንዳየኽውያለን ቦታ በጣም\\nየተወሰነ ነው ። ልንቀበል የምንችለው በጣም ከፍተኛ ውጤት ያመጡትን\\nብቻ ነው ። መቼስ ምን ማድረግ ይቻላል ?» አሉት ።\\n\\n«ያሳዘነኝ ቦታ ያጡት ልጆች ጉዳይ ብቻ አይደዶለም ። ፈተናውን ያለ\\nፉት ኣአንዳንድ ልጆች ተሰርዘው ያላለፉት እንዲገቡ መደረጋቸው ነው ፥\\nበጣም አድርንጎ ያሳዘነኝ ። እንዴት እንዲህ ይደረጋል !»> በማለት ወረቀቱን\\nሰጣቸው ።\\n\\nየተማሪዎቹን ስም በጥንቃቄ ሲመለከቱ ከቆዬ በሁዋላ ፤ ራሳቸውን\\nበሀዘን ነጭነቁና ፥ «ሆይ ! ጉድ ነው”ኮ ። በ”ውነት ይገርማል ። ብዙ ዘመን\\nሳስተምር እንዲህ አይነቱ ግልፅ አድልዎና በደል ተፈፅሞ አይቼ አላው\\nቅም ። አሄሄ ! የባላባቶች * የቱጃሮችና የባለስልጣኖች ልጆች ብቻ ነው”ኮ\\nመርጦ ያስገባው ። ላገሩ እንግዳ ለስራው አዲስ መሆንክን በማየት ሞኝ\\nያገኘ መስሎት ይሆናል እንዲህ ያደረገው ። አይ ይርጋ [>» አሉ አኣዝ\\nነው ።\\n\\nሀዲስ የባሰውኑኔተናዶ * «እኔ ነገሩን እንዲሁ አላልፈውም ። እንዴት\\nእንዲህ ድ.ዴደረጋል ! ፈተናውን ያለፉት የድሀ ልጆች ተባረው ፈተናውን\\nያላለፉት የሀብታም ልጆች እንዲገቡ ሲደረግ ቆሜ ማየት አልችልም !\\nእኢንድ ነግር ማድረግ!አለብኝ !» አላቸው ።\\n'},\n",
       " {'page_number': 77,\n",
       "  'text': '76 ሀዲስ\\n«እስቲ ረጋ በል ። እኔ ቀስ ብዬ ስለ ሁኔታው አነጋግረዋለሁ «።8\\n\\n«አይሆንም ። እርስዎ በነገሩ አይግቡበት ። ምን ያደርጉኛል ! ግፋ\\nቢል ከዚህ ይሂድልኝ ነው የሚሉት ። ሞት የለብኝም ። በእውነቱ አዲስ\\nትምህርት ቤትም መሰራት አለበት። የስንቱ ልጅ እድል  እንዲህ ሲቀጭ\\nዝም ብለን ማየት የለብንም» አለ በምሬት ።\\n\\n«አዬ አንተ ልጅ ! ሳይህ የጉርምስናዬን ዘመን ታስታውሰኛለህ ።\\nእኔም ማስተማር እንደ ጀመርኩ ልክ እንዳንተ ነገሩ ሁሉ በጣም እያሳዘ\\nነኝ ያስቆጣኝ ነበር ። በፈተና አሰጣጥና በትምህርት ክፍሎች መጥበብ\\nከብዙ ዲሬክተሮች ጋር በጊዜዬ ተጣልቻለሁ ። በዚህም ምክንያት ነው\\nካንዱ ጠቅላይ ግዛት ወደ ሌላው ስንከራተት እድሜዬን የጨረስኩት.. .»\\nብለው ነገራቸውን ሳይጨርሱ ፤\\n\\nኗእኔ ላንድ አመትም ቢሆን በዚህ አሰቃቂ ሁኔታ አልኖርም ። አንድ\\nነገር መደረግ አለበት !» ብሎ ተነስቶ ወደ ቤቱ ሄደ ።\\n'},\n",
       " {'page_number': 78,\n",
       "  'text': \"ክፍል ኔ\\n\\nሱጴ ቦሮ በጨለማ ተውጣሰለች ። ጥቅጥቅ ያለ ጨለማፕ--እንደ መ\\nብር ፀጥ--ረጭ--እረጭ --ዝም ያለ ጨለማ ። '\\n\\nከብቶች ገብተው ከታለቡ በሁዋላ የሱጴ ነዋሪዎች የትም አይሄዱም ።\\nሽማግሌዎች ቀፎ ቆራጭ መስለው ከጉብታዎች ላይ በመሰየም ጨለማው\\nላይ ያፈጣሉ ። የጠላ ቤት ጡጥፍ ይንቀለቀላል ። የጠጅ ቤት ኩራዝ\\nይንበለበላል ያረቄ ቤት ፋኖስ ወይም ማሾ ይንቦገቦጋል ። የምድጃ እሳት\\nይዳፈናል ። ድፍን ፤ ጥቅጥቅ ያለ ጨለማ ። ]\\n\\nአልፎ አልፎ የእጅ ባትሪ ብርሃን ጨለማውን እየሰነጠቀ ሲጉዋዝ\\nይታያል ። የጨለማ አይን ። የባለባትሪው ሁኔታ ብርሃን ከሚሄድበት አቅ\\nጣጫ ይታወቃል ። የሰከረው አያሳስትም ። የባትሪው ብርሃን አንዴ ወደ\\nሰማይ ፤ አንዴ ወደ ምድር ፤ አንዴ ወደ ቀኝ ፤ አንዴ ወደ ግራ ያበራል ።\\nአንዳንዴም ድርግም ብሎ ይጠፋል ። ወይም በጨለማው ባህሀር ሳይ ነጭ\\nየብርሃን ኩሬ ፈጥሮ ዝም ብሎ ይቀራል ።\\n\\nሀዲስ ከቤቱ ስብሳብ ላይ ምሰሶ ተደግፎ ቆሞአል ። ፍንትው ብላ\\nወጥታ ስቃ የምታሳስቅ ሙሉ ጨረቃ አትታይም ። ሆጭ ብለው ፈሰው\\nጠቅሰው የሚያጠቃቅሱ ምድረ ከዋክብት ከጥቁሩ ሰማይ ላይ አልተኩ\\nዋሎሉም ። ጭው ያለ ጥቁር ሰማይ ፤ ጥቅጥቅ ያለ ጨለማ ።\\n\\nያባ ጨፌ ድቤ ድው ፤ ድው ! እያለ ከሱጴ አድባር ጋር አድሞ ፡ '\\nየሱጴን ዛር ከተኛበት በመቀስቀስየገባ በረሃን አጋንንት ጠርቶ የውድቅት\\nዳንኪራ ማስረገጥ ገና አልጀመረም ።\\n\\nሀዲስ የወጣውን የፈተና ውጤት ካየ ወዲህ ብቻውን ሲያዝን ፤\\nሲስቅ ፥ ሲተክዝና ሲበሳጭ ነበረ የዋለው።እንባ እንባ ፥ ሳቅ ሳቅ ይለዋል--\\nከመሬት እየተነሳ ። አንዳንዴ እንደ እብደትም ይቃጣዋል ።\\n\\nከቤቱ ባሻገር ፥ ከእልቄ ወንዝ ማዶ ካለው ተራራ ላይ የሚኖረው\\nዋሽንት ተጫዋች ጣእመ ዜማውን ጭው ብሎ ከተዘረጋው ጨለማ ላይ\\nማንቆርቆር ጀምሮአል ። ሀዲስ ጆሮውን ያነቃል ።\\n\\nዋሽንቱ ጨለማውን እየጣሰ ፤ በቀዝቃዛው አየር ሳይ እየተንሳፈፈ ፣\\nአንዳንዴም የጠፋችውን ጨረቃና የተደበቁትን ከዋክብት ፍሰጋ ወደ\\nጥቁሩ ሀዋ ቀና እያለ ፤ ሲለው ደግሞ ከእልቄ ወንዝ ጋር እየተገማሸረ ወደ\\nገባ ወንዝ ሸለቆ በማሽቆልቆል ጭልጥ ብሎ ይወርዳል--እልል ፥ ኩልልል፤\\nጭልልል እያለ የሀዲስ ሀሳብ ከዋሽንቱ ጋር ከገባ ወንዝ ጋር ወድቆ እየተ\\nነሳ ወደ ባሮ ፤ ከባሮ ወንዝ ጋር እያሶመሶመ ወደ ጥቁር አባይ ፤ ከጥቁር\\n\"},\n",
       " {'page_number': 79,\n",
       "  'text': '78 ጋወዲስ\\nጪ\\n\\nአባይ ጋር እየተናደ የኢትዮጵያን ገላ አጥቦ ሲያበቃ ድንማል ጠረ\\nይዞ በምድረ ሱዳንና በምድረ ግብፅ በረሃዎች ሲንከራተት ይቆይና ወ2\\nሜዲቴራንያን ባህር ይንቆረቆራል ። እና ፥ እንደ ገና ተመልሶ ወደ ህዌው\\nይመጥቃል--- ጨረቃዋንና ከዋክብቱን ፍለጋ ። እየተናዴደም ‹ እያዘነም ፥\\nእያቃሰተም ፤ እየሳቀም ወዴ አለማት አብራክ ዘልቆ ይግባል ። ከዚያ ያጉ\\nረመርምና ወደ ምድሪቱ ይመለሳል ።\\n\\nከዝቁዋላ፡ ከኤረርክራስ ዳሸን ትራሮች ላይ ይነጥራል። ከኦሞ«።ክዋቢቤነ\\nከገናሌ ፥ ክአዋሽ ፥ ከተከዜ ወንዞች ላሳይ ይንሳፈፋል ። ክኢትዮጵያ አምባ\\nዎች ላይ እየወጣ ፤ የኢትዮጵያ ቀዬዎችን ፤ ጎጦችን * ማማዎችን ፥ የሳር\\nጐጆዎችን እየዳሰሰ የሶስት ሽህ ዘመን የትካዜ ፥ የሀዘንና የትስፋ ታሪክ\\nይተትርካል ።\\n\\nሀዲስ የባለዋሽንቱን ጨዋታ ባዳመጠ ቁጥር አሳቡ ክዋሽንቴ ጋር\\nአብሮ ይመጥቃል ፤ ይንሳፈፋል ፤ ይነሆልሳል ፤ መድረሻ ክሌለው ጥልቀት\\nውስጥ ይገባል * ጭልጥ ብሎ ይሄዳል ፤ ይበራል ።\\n\\n«ማሜን ነው የሰው ልጅ ኢምንት ነው ያለው ?\"» አለ ። «የሰው ልጅ\\nጭንቅላት ከአለማት ይበልጥ ግዙፍ ነው። ሰው ራሱ አለም ነው ። ከሚመ\\nለክታቸው ከክዋክብት ይበልጣል ። በሁለት እግሩ ቀጥ ብሎ ቆሞ የሚሄድ\\nያለ ሰው ሌላ ማን አለ ? ግን የሰው ህይወት እንዴት ያዊድዳል ? እንዴት\\nያሳዝናል ? ንዴትና ሠዝሸን ። ንዴት * ሀዘን ፤ ብሩህ ትስፋ ። ህይወት ያል\\nፋል ። ህይወት ይቀጥላል ። ዋሽንቱ የሚለው ይህን አይዶለምን ?»\\n\\nእዝን አለ ። ሀዲስ ሲያዝን እናቱ ባሳቡ ይመጡበታል ።\\n\\n።-ተቶግልቶ አበሳ ከመቁጠር አንደኛውን ሞቶ ማረፍ ይሻላል ። ግን\\nሞቶ ስሙ ሲጠራ የሚኖር ማን እንደሆነ ታውቃለህ ?\\n\\n-መ”ቓ#ን ነው እሱ እማዬ ?\\n\\n፦ የወለዴድ ። የወለደ ነው ልጄ። . . . የእጅህን ዋጋ አትጣ ። እጅህ\\nይባረክ-- .እህ... ጅ - *\\n\\nየመጨረሻ ትንፋሽ-- ለመኖር የሚደረግ የመጨረሻ ትግል- -የማ\\nይበገር የሰሙ ልጅ መንፈስ--ማን ነው እንዴደ ሞተ መቅረት የሚፈልገው!\\nዘለአለም ዮመኖር ትስፋ የሰው ልጅ ረሃብና ጥማሜት አይደለምን ? ተስፉ\\nቆርጦ እጅ ክመ;]ጠት መታገል ይሻላል---በዚህ አለም የሰው ልጅ ፈፅሞ\\nተሳፋ መቁረጥ ፻ለበቅዎ፸፮በሀይወት የመጀመሪያ ግዴታ መጠናከርና ሰፅም\\nኖ፭ ፲፪፪ ፰፲፲ጓግል የሰው ልጅ እጣ ፈንታ ነው--እንኖራለን--የሶወው\\nል 8: ጣ .\\n\\nዋሽንቴ አሁን ድምፁን ዝቅ እያዶደረገ እንደዴ መናዶድም እያለዕ\\nመቆጣት ጄምሮአል። ከዋክብቱንና ጨረቃዋን ክ፪፪፲ር፲፲፰በት ፈልጎ ሊያገኝ\\nእ፰ቻ፯ም “ ተትስፋ ወደ መቁረጥ ይቃረብና ደግሞ ይነሳል ፥ ያንሰራራል\"\\nይበራል ።\\n'},\n",
       " {'page_number': 80,\n",
       "  'text': \"ሀዲስ 79\\n\\nያባ ጨፌም ድቤ ድው « ድው ማለት ጀምሮአል።የጨለሰማውን ልብ\\nትርታ ያስተጋባል ። በምድር ከርስ ውስጥ ፤ ከጥቁሩ ህዋው አብራክ ውስጥ\\nየተደበቁትን * በጨለማ ክንፍ ላይ የሚበርሩትን ርኩሳን መናፍስት\\nይጠራል ። የገሃነም ዋይታ ፤ የሲኦል ሙኸት ፤ የዲያብሎስ ፉጨት ኢያሰማ\\nበሰው ልብ ውስጥ ፍርሃት ያሳድራል ። ፍርሃቴ ድል ፥* ድል ፤ ድል አድ\\nርጉ አይልም ። ፈፅሞ። ገብሩ፤ ገብሩ፥፤ ስገዱ፤ ስገዱ-ይሳል ፥ ጨርሶ በማይ\\nለወጥ ስልት ኢያስተጋባ ።\\n\\nእንቅልፍ የሚሉት ነገር በአይኑ አልዞረም ። ካቶ ይርጋ ጋር እንዴት\\nአድርጎ አይን ለአይን እንደሚተያዬ ነበር የሚያስበው . . . የትምህርት\\nቤቱ ጣራ ድንገት ተደርምሶ ሲወድቅበት . . . አቶ ይርጋ ድቤ እየመቱ\\nከመላጣቸው ላይ ቀንዶች አብቅለው ሲወጉት ከክፍል ክፍል ሲያራውጡት\\nእንዶ ንስር አሞራ ከፍ ብሎ አየር አየራቱን ኣየሰነጠቀ ሲበር አድሮ\\nወፎች ሲንጫጩ ነቃ ። 2\\n\\nያን ቀን ጠዋት ምንም አይነት ፍርሃት በልቡ አላደረም ። ነፃ ሰው\\nፍርሃት ኤይሰማውም ። ስለማይፈራም ኒነፃነቱን አክብሮ ያስከብራል ። ነፃ\\nሰው ከጭቆናና ከግፍ ሌላ የሚጠላው ነገር አይኖረውም ። የሚጠላሳውን\\nነገር ለማስወገድ ደግሞ አይፈራም ። በዚህ አለም ካንድ ጊዜ ሌላ ማን\\nይኖራል 7 እና * ያለ ነፃነት ደግሞ ህይወት ምንድን ናት? ባዶ ቕል ፤ የሚ\\nጮህ ባዶ ናስ!\\n\\nከት ብሎ ሳቀ---በራሱ ላይ ። ከትናንት ጀምሮ መፈላሰፍ በማብዛቱ\\nሳቀ ። አሳቦቹ ሁሉ እንዶ ባዶ ናስ መልሰው ከጆሮው ውስጥ ጮሁበት ።\\n.--አሳብ የሚሉት ነገር ርግማን ነው አለ።እንደዶ ባዶ ቅል በሚንኩዋኩት\\nአሳቦቼ ውስጥ የታየኝ ነገር ቢኖር ፈሪነቴ ብቻ ነው ። ፍርሃት ። አኣቤት\\nስንፈራ ! ፍርሃት ነው እኮ የህይወት ክብር የሚነሳን . . -እንዴ ገና ሳቀ ።\\nበሳቁ ውስጥ ፈሪ ስለ ፈራ ብቻ ከምንም ነገር ሊድን እንዶደማይችል ታየው።\\nበፈሪና በጀግና መካከል ያለው ልዩነት ምንድነው ? ብሎ ራሱን ሲጠይቅ\\nለጊዜው ዊመጣለት መልስ ፈሪ ሲሸሽ ፥ ጀጋግና ሲታገል የመሞታቸው ጉዳይ\\nብቻ ሆኖ ታየው . .. ሞት ለማን ይቀራል? ፈሪም ይሞታል። የሞት ሞት።\\nታሪክ ማለት ሞታችንን ከማሳመር ሌላ ምን ይሆናል ? ሰው የማይቀር\\nሞቱን በማሳመር ክብርና ሞገስ ሲሰጠው ይገባል ። ሸሽቶ የት ሊደርስ ?\\nከመቃብር የሚያልፍ የለ ! የህይወትን ጣጣ አይሸሹም*ይጋፈጡዋል\\nእንጂ።የጀግና ክብሩ የሞቱ ማማር ነው - - -ኢያለ ወደ ስብሰባ አዳራሽ ገባ።\\n\\nያን ጠዋት አቶ ይርጋ የአስተማሪዎች ስብሰባ ጠርተው ነበር ።\\nከጋሼ ቀሙሌ ጎን ሄዶ ቁጭ አለ ። ለመምሀሩ ተማሪዎች ያወጡለት የቅ\\nፅል ስም =በር ። ሀዲስ እውነተኛ ስሙን አያውቅም ። የሰውን ስም ማስታ\\nወስ አይችልም ። ጋሼ ቀውሌ ረጅም ቅልጥሞቹን በረጅሙ ዘርግቶአል ።\\nእንዶ ክሰሕት በላይ ጥላ ረጅም ነበር ። ጤነኛ 'ግንባር ኖሮት አይቶት አያ\\nውቅም ። ከግንባሩ ላይ ቁስል አይጠፋም ። በገባበት ክፍል ሁሉ አጎበሩ\\nይገጨዋል ። ሁልጊዜ ይገጨዋል ። ታዲያ ፥፤ 'ድንቅ ነው ይላል ።\\n«ድንቅ ነ ው» የሚል ቃል ከአፉ አይጠፋም ። ለማንኛውም ነገር የሚሰ\\nጠው መልለስ ፉ «ድንቅ ነው» የሚል ነበር ። አጎበሩ ሲፈነክተው ፥ «ድንቅ\\nነው» ይሕል ። እናትህ ሞተች ቢሉትም እንኩዋን «ድንውቅ ነው» ሳይል\\nአይቀርም ። ። .\\n\"},\n",
       " {'page_number': 81,\n",
       "  'text': '80 ሀዲስ\\n\\n«ለምንድን ነው ሁልጊዜ ድንቅ ነው የምትለው ?» አለው ሀዲስ ።\\n«ሁሉ ነገር ድንቅ ነዋ ።»\\n\\n«ተማሪዎች ጋሼ ቀውሌ ይሉሃል ።»\\n\\nዩድጋንቅ ነው ። የድንኮች ነገር ድንቅ ነው ።»\\n\\n«መቼ ነው “ድንቅ ነው” ማለትክን የምትተው ?»\\n\\n«ድንቅ ነው ። ስሞት ። ሞትም ድንቅ ነው ። አዲሳባ በሬሳ ሳጥን\\nሻጮች ደጅ ሳልፍ ነጋዴዎች እኮ ትክ ብለው ሁልጊዜ ያዩኛል ። *ምን\\nአይነት ሳጥን ነው የሚበቃውወ- ይሆን? የሚሉ ይመስላል ። ድንቅ ነው ።\\n\\n«ስለ ሞት ብዙ ጊዜ ታስባለህ ?»\\n\\n«እንዲያውም ። የማይቀር ነገር ምን ያሳስባል ? እኔ የማስበው ስለ\\nህይወት ነው። ህይወት ድንቅ ናት ። አንተስ ?»\\n\\n«እኔ ስለ ሞት አስቤ አላውቅም ነበር ። ግን እናቴ ከሞተች ወዲህ\\nሁልጊዜ ስለ ሞት አስባለሁ ።» .\\n\\n«ስለ ህይወት ማሰብ ጀምር ። ህይወት ድንቅ ናት ።\\n«ተአምር አያልቅም» ብሎ ዝም አለ---ሀዲስ ።\\n\\nከሀዲስ በስተቀኝ የተቀመጠው ሌላው አስተማሪ ዶድደግሞ ፥ «ጋሼ\\nማይዘር» ይባላል ። ተማሪዎች ለአስተማሪዎች መቼም የማያወጡት ስም\\nየለም። ጦጦች አይዶሎ? ጋሼ ማይዘር የተባለበት ምክንያት ማርክ ለመ\\nስጠት በጣም ስለሚቆናቆን ነበር ። አንዴ ጨክኖ ከሰጠው ማርክ ነቅነቅ\\nአይልም ፡ ያንኑ ማርክ ነበር ደጋግሞ የሚሰጠው ። በኑሮውም ቢሆን\\nእንዲሁ ጩጨቅ ነው ይባላል ። ቢሞት ከኪሱ ሳንቲም አውጥቶ ሰው አይጋ\\nብዝም ። ማብዣም ፈዕሞ አይቀበልም ።\\n\\n«ማርክ መስጠት ላይ ሙቅ ነህ ይባላል ?» አለው ሀዲስ ።\\n\\n«ማርክ ምዕዋት አይዶለም ። ምዕዋት የሚፈልግ ካለ ልመና መሄድ\\nአለበት ።>\\n\\n«አንድ አይነት ማርክ ነው አሉ ደግሞ የምትሰጠው ?›»\\n«የሙጀመሪያ አስተያየቴ የመጨረሻም ነው ።»\\n\\nከጋቼ ማይዘር ጎን.የተቀመጠው ሌላው አስተማሪ ደግሞ ‹፤ «አባ\\nመስጠች» ይባላል ። ደህና ማርክ ስለሚሰጥ ብቻ አይደለም አባ መስጠት\\nየተባለውመ“=ዱላውም ያንኑ ያህል ነበር። ጠመኔ ከወረወረ አይስትም።ክፍል\\nገብቶ ብዙ ጠመኔዎች ሳይወረውር አይወጣም ። ማርክ ላይ ግን ለጋስ\\nየለጋስ መጨረሻ ነው ይባላል ። «አስተማሪ ማርክ በመስጠት ምን የሚ\\nያጣው ነገፎ አለ.? የትምህርት ቤቶች አይነተኛ ተግባር ተማሪዎችን መር\\nዳት ነው = ህይወት ራስዋ ሁዋላ ምርቱን ከግርዱ ትለይ የለ? በትምህርቱ\\nጎበዝ የሆነ ተማሪ በስራ አለምም እንደዚያው ይጎብዛል ማለት አይደለም #\\nቸርቿቺልና ሕይንሽታይን ትምህርት ቤት ሳሉ ደደቦች ነበሩ ይባላል ። ማርዞክ\\nየችሎታ መለኪያ አይደለም» ይላል ።\\n\\n«ታጂያ የችሎታ መለኪያ ምንድን ነው ?»\\n'},\n",
       " {'page_number': 82,\n",
       "  'text': \"ሀሠዲስ 84\\n-ዴዴጮጮ ዬ ፕ . መሚስ 81\\n\\n፡ሀይወት፲፻ሀይወትቦ፺ገድ፲ጥቂቱወዴፊትይሄዳል፲ጥቂቱ\\n\\nፎ፭፯ ሁዋላ ይቀራል ። ህይወት ናት ደንበኛ የችሎታ መለኪያ ትምህርት\\n፡=ኋኃኔ\\n\\n«ትተአምር ኢያልቅም ።\\n\\nኗአዎን 0 ተአምር አያልቅም ። ግን ከተአምራት ሁሉ ይበልጥ ተአ\\nምር ራሱ ሰው ነው ።>\\n\\nኣል «ይህን አባባል ከዚህ ቀዶም ሰምቻለሁ ወይም አንድ ቦታ አንብቤ\\nሁ...»ጅ\\n\\nኣ\\n\\n«ከማክሲም ጎርኪ የተወሰደዴደ ጥቅስ ነው ።>\\n\\n«አምን * አሁን ትዝ ኣለኝ ።ወ\\n\\n«መፃናህፍት ማንበብ ትወዳለህ ፻ጅ\\n\\n«አምን ፤ መፃህፍት ህይወቴ ናቸው ።»\\n«እንግዲያውስ የማውስህ መፃህፍት አሉኝ» አለው ።\\n\\nክከአባ መስጠት ሁዋላ የተቀመጠው ሌላ አስተማሪ ዶግሞ ፥ «ጋሼ\\nታዲያስ ፻5 ይባላል ። ሁልጊዜ እንዴ ሳቀና እንዶ ቸኮለ ነው ። ሁልጊዜ\\nከፊቱ ላይ ፈግማጣታ አይጠፋም ። ምናልባት በአስም ላይ መሳቁ ይሆናል-፦፦\\nሕለም ታስቅ እንደዶሆን ። ደማሞ ሁልጊዜ እንዶ ቸኮለል ነው ። የት ለመድረስ\\nእንደሚጣይፍ አይታወቅም ። ታዲያ ክፍል በገባ ፡ጥር እንዶደምን አሕደራ\\nችሁ ? እንዶምን ዋላችሁ? ማለትን አያውቅም ። ሁውሁልጊዜ ፥ ኗታዲያስ\\nልጆች ገ= ይላል ።\\n\\n«አለናውወ ይሉታል ።\\n\\nበመንገድ ላይ ያገኘውን ሁሉ * «ታዲያስ ?» ሳይል አያልፍም ።\\n'አለምን በሙሉ እጅ የሚነሳበት መንገድ ከታዲያስ ሌላ የተሻለ ዘዴ አልነኔ\\n6ፀረውም ። ፍ=አለና>» ካሉት ሌላ ጥያቄ አይጠይቅም ። እየሳቀ ተጣድፎ\\nያልፋል ። ምናልባት ስለ ምንም ነገር ለማወቅ ስለማይፈልግ ይሆናል ።\\nማን ነው ስለ አለም ለማወቅ የሚፈልገው? ይልቅ የሚያስፈልገው ከተቻለ\\nአለምን መለወጥ ነው። . . . በማለት ሲያስብ አቶ ይርጋ ሙጡ።\\n\\nአቶ ይርጋ አስተማሪዎች ከሚሰበሰቡበት ቦታ ቀድመው አይረጋኙም ።\\n'ወድዴ ሁዋላ ቀረት ብለው መምጣትን ያዘወትራሉ ። ወደ ስብሰባው አዳራሽ\\nሲገቡ አስተመፃሪዎች ሁሉ ተነሱላቸው ። ክጋሼ ቀውሌ ፤ ከጋሼ ማይሸዘር\\nከጋሼ አባ መስጠትና ክጋሼ ታዲያስ ሌላ፤ ሌሎች አራት አስተማሪዎች\\n'አዳራሹ ውስጥ ነበሩ ። እምብዛም ትዝ አይሉትም ። እንዷ መናፍስት\\nጅልክ ብሌለሙ የሚጠፉ አይነት አስተማሪዎች ነበሩ ። ምናልባት ኣለም\\nብእንዶዚህ ያሉ አስትማረዎች አኣይነት የተጣበበች ትሆናለኝች--የተልየ\\nብሳብእና በሌላቸው ሰዎች--ዝም ብለው መጥተው ምንም አእይነት ዱካ\\nጣይተው ዝም ብለው -በሚሄዱ ሰዎች ። የተለየ መልክ ። የተለየ ስም ፥\\nጭተለየ ጠባይ የሌላቸው የአለም መናፍስት ።\\n\\nሕንዱ ልየት ያለ ነበር--ፍዱቤ ።=5 እንደ ዱቤ ያለ ወፍራም\\nዢዷአናጩ አስተማሪ ሀዲስ በህይወቱ አጋጥሞት አያውቅም = ጣን\\nየሚገርመው- ነገር ዱቤ ሰውነቱ አይኩክበዴውም፡፡ ትማሪዎችን ላባቸው ጠብ\\n\"},\n",
       " {'page_number': 83,\n",
       "  'text': 'ሸ .... ሮ 6\\n\\nእስኪል ሜዳ ለሜዳ ፥ ወንዝ ለወንዝ ሲያስሮጥ * ሲያዘልል ፥ ኩዋስ\\nሲያካርዔው፰፲ረ፰ሱም አብሮ ሲሮጥ ፤ ሲዘል ሲጫወት ይውላል ። ሰውነቴን\\nማነቃነቅ ይወዳል ። ታዲያ ይርበዋል ። ሁልጊዜ ይርበዋል ። ክኪሱ ውስጥ\\nየሚበላ ነገር አይጠፋም ። ቢያጣ ቢያጣ እንጆራ በሚጥሚጣ ይዞ ይጩ\\nጣል « ሁልጊዜ እንዴ በላ ነበር ። ለቁርስ ፍርፍር * ዳቦ * እንቁላል፡፤ ወተትት)፥\\nለምሳው ቢያንስ ሶስት እንጀራ ፤፥ ለራቁቱም እንዶዚሁ ይበላል ። ይበላል «\\nሁልጊዜ ፤ «ከሆድ የበለጠ የሰው ጠላት የለም ። ዘለአለም በቃኝን አያው\\nቅም ። ሰው እክ ሆድን የሚያክል ጠላት ተሸክሞ ነው የሚዊረው» ይላል 5\\n\\nአኣዱ-ይርጋ የሚያነሱት የተለየ ነጥብ አልነበራቸውም ። ለሃያ ደቂቃ\\nዎች ያህል ስለ ዲስፕሊን አስፈላጊነት ነበር አጥብቀው ሲናገሩ የቆዩት ።\\nበዲስፕልን ያልታነፁ መምህራን በዲስፕሊን የታነፁ የነገውን ትውልድ\\nለማፍራት አይችሉም ፤ አገራችን ባሁኑ ጊዜ በጣም የሚያስፈልጋት ነዝር\\nቢኖር ዲስፕሊን ነው። ልጅ አባቱን ፥ ታናሽ ታላቁን ፤ ጭፍራ አለቃውን፥\\nወጣት ሕዛውንቴቱን ማክበርና መታሸዝ ክጥንት ጀምሮ ባህላችን ከመሆኑም\\nበላይ ፥ ኢትዮጵያ አገራችንን አሁን ካለችበት የስልጣኔ ዴረጃ ሲያደርሳት\\nየቻለውና ታፍራና ትከብራ እንድትኖር ያደረጋት ዲስፕሊን ነው ። ሌላ\\nነገር አኦይደለም።ይህንን በመገንዘብ እኛ መምህራን ስለ ዲስፕሲን አጥብ\\nቀን ማስተትማር አለብን ። የቅለም ትምህርት ማስትማር ብቻውን ረብ\\nየለውም ። ዋናው ቁም ነገር ዲስፕሊን ነው ። ምማሣባሩ- የላላና የላሸቀ ትው\\nልድም ልራሱም ሆነ ላገሩ አይበጅም ። ላገራችን ችሣር አይነትኛው መፍ\\nትሄ ዲስፕሊን ነው፤መታዘዝን የማያውቅ ለማዘዝ አይችልም ። ለሰው\\nአክብሮት የሌለው ሊከበር አኦይችልም ። ጨው ለራስህ ስትል ብትጣፍጥ\\nጣፍጥ * አለበለዚያ ድንጋይ ነው ብለው ይጥሉሃል ሄ፤እንዶሚባለው ነው ።\\nነገር ከስሩ ፤ ውሃ ከጥሩ እንደሚባለው ዲስፕሊን ከትምህርትች ቤት መጀ\\nመር አልበት ። የአስትተማሪዎች ሀላፊነት ብቃትችና ጥራትች የሚለካው የነገው\\nትውልድ በሚከክተለው ዲስፕሊን ነው-. . . ወ.ዘ.ት. እያሎ እንዶ አባ ጨፌ\\nድቤ ስልቱን በማይለውጥ ሰላላ ድምፅ ዲስፕሊን . . . ዲስፕሊን- --\\nዲስፕሊን ሲሉ እውነትም የኢትዮጵያ ችግሮች ሁሉ መፍቅኛሄ ዲስፕሊን\\nመሆኑን ለማሳመን ምንም አይቀራቸውም ፡\\n\\nከዉስትማሪዎቹ ጥያቄም ሆነ አስተያየት አልቀቅረበም ። የመልካም\\nዲስፕሊን ምልክት ይሆን ? ሀዲስም ዝም አለ ። ስለ ዲስፕሊን ለቀሪው\\nህይወጐጭ የሚበቃውን ያህል ሰምቶአል ። ጋሼ ማጭይዘር ከትቀመጠቦበት\\nሲነሳ ስለ ዲስፕሊን ይጠይቅ ይሆን? በማለት በልቡ አሰበ ።\\n\\n«<ፎይ፦ሁሳችሁም እንዶምታውቁት በዚህ ትምህርት ቤት ውስጥ ያዕን\\nመምህራን ብዙ የትለያዩ ችግሮች ያጋጥሙናል ። እኔ የሚገርመኝ እንዶ\\nዛሬው  በባበምንሰበሰብበት ጊዜ የሚያጋጥመን ችግር የሚቃለልበትን መንገድ\\nየሚያሳኖን ቀርቶ አቅጣጫውን እንኳን የሚያመለክተንን ሀሳብ የሚሰጦ?ፕ\\nበሉ እንግዲህ የሰማነውን በልባችን ይሳደርልን ገህ ጣል: በጥ ል ፡ #ኖ\\n\\n[ 4\\nብሎ የሄበረው ክፍል በጭብጨባ ፲አስ፲፮፲ጋባ ። ” ኬ ሯ ሴል\\n\\nአቶ ይርጋ የሚያልበውን መላጣቸውን አስር አስሬ ይጠርጉት ነበር”\\n\\nጋ ቅውሌ ረጅም ቁመናውን እንዴ ሽመ “ «ድንቅ\\nነው አቓያውን ፈርቶ ዳውሳውን መደብጆጳብጩ ብዬ ፔዷ፲ፆፓ ፤፯ፋናፀጩቶ\\n'},\n",
       " {'page_number': 84,\n",
       "  'text': \"ህዲስ 83\\n\\nይርጋ ላይ ክመዘባነን አስትያየትህን በጋዜጣ አታወጣውም ኖሮአል ?\\nነገሩ በሁላችንም ልብ ውስጥ ያለ ቢሆንም እዚህ እንዶ ዮሀንስ መጥምቁ\\nበምድረ በዳ ብትጮህ ምን ይጠቅማል ? ድንቅ ነው በምድረ በዳ መጮህ»\\nአለው ።\\n\\nኣቶ ይርጋ ፈገግ አሉ።\\n\\n‹«ቤማን ላይ ቆመሽ ንጉስን ታሚያለሽ አሉ ። በማን ጋዜጣ ማን ሲፅፍ!\\nበጋዜጣ ስለ ችግርና ብሶት ሲፃፍ አላየንም። ኢትዮጵያ ምን ችግር አለባት ?\\nየጥጋብ አገር ናት ። እድሜ ለንጉሰ ነገስታችን» አለ ጋሼ ማይጃር ።\\n\\n«እንግዲያውስ ባፍ ይጠፉ በለፈለፉ ብለህ--ዝም፤ዝምታ ድንቅ ነው።\\nከአፍ የወጣ አፋፍ ይባላል ። አቶ ይርጋ የመንግስት ደንብና ሰርአት ሊያ\\nስለው፪ኮልሀ አይችሉም ። ስርአት የሚለወጠው በስርአት ነው» ብሎት\\nቁጭ ሊ። )\\n\\nአቶ ይርጋ የትባለውን ነገር ሁሉ በመጣደፍ ይዕፋሉ ። ሀዲስ ለማስ\\nፈራራት የሚያዶርጉት ሙከራ መሰለው ። ጋሼ ዱቤ ወፍራም ሰውነቱን\\nበቀላሉ ትሸክሞ ተነሳና ፥ «የኔ ጥያቄ ከሌሎቹ ለየት ያለ ነው» ብሎ መና\\nገር ጀመረ ፤ «እኔ እንኩዋን ሜዳ ሜዳውን ስሮጥ ስለምውል'ችግሩ ይህን\\nያህልም ላይስሰማኝ ይችላል ። ግን' ያሉን ክፍሎች በጣም ትጣበዋል ።\\nበዚያም ላይ ትምህርት ቤቱ በላያችን ላይ ሊፈርስ ነው።ይህን ጥያቄ አም\\n- ናም አንስቼ %በር ። ለዘንድሮ ምን ሊድዴረግ እንደ ታሰበ ለማወቅ እፈልጋ\\nለሁ። ሁልለትኛው ነገር ፤ መቼም የሆድ ነገር ሆድ ይቆርጣልና ዶሞዛችን\\nብየወሩ ሳይዘገይ እንዲዴርስን ምን አእንዳደዶረጉልን ለማወቅ እሕፈልጋለሁ ።\\nለወር ተኩል ፥ ለሁለት ወር ደሞዛችን ሳይክፈል እየቆየ እንዴት ይሆናል ?\\nሇድ ቀጠሮ ሕይሰጥም ። ባዶ ሆድም ዲስፕሊን እሺ ብሎ -አያከብርምጋ\\nብሎ ቁጭ ሲል ሁሉም ሳቁ። ኋ ፡\\n\\n'አቶ ይርጋ አልሳቁም ። ጥያቄ - በቀረበላቸው ቁጥር-መሳጣቸውን ያል\\nባቸዋል ። ኮስተር እንዳሎሉ ፥*'‹«ሙክት ሲሰባ- ሾተል ይልሳል» ብለው ዯረ\\nቱኖ ፤ «ለማንኛውም'ነገር ስለ ትምህርት ቤቱም ሆነ ስለ-ዶሞጻችሁ አከ\\nፋፈል ለጠቅላይ ግዛቱ ፅህፈት ቤት'በቃልም ሆነ በፅሁፍ አሳስቤአለሁ ።-\\nበዚህ አመት ደሞዛችሁ በወቅቱ እንደሚከክፈል ትስፋ አደርጋለሁ ። ስለ\\nትምህርት ቤቱ እድሳትም ሆነ መስፋፋት ጉዳይ ግን እንዶ አምናው\\nዘንድሮም የተሰጠኝ መልስ * “በጀት ኖየለም” ነው ። *በጀት የለም” ፡\\nሁልጊዜ የሚሰጠው መልስ ይኽው ነው ። እኔ በጀት አልሆንም እንግዲህ ።\\nከማሳሰብ  ሌላ ምን አድርግ ትሉኛላችሁ 1፡= አሉ እየተማረሩ ። ፡\\n\\nጺኢላጦስ ከደሙ ንፁህ ነኝ ብሎ እጁን ባዶደባባይ ታጥቦ ክርስቶስን\\nአሳልፎ ሲሰጭጥ በአቶ ይርጋ ተመስሎ ሀዲስን ታየው ። እሱም በተራው\\nቶነሳና ፥ ጠጐሩን ቆፈር.ቆፈር አድርጎ ሲያበቃ ፤ «መቼም ትምህርት ቤቱ\\nበላያችን ላይ ሊወድቅ የተቃረበ መሆኑ ሣልፅ ነው ። ታዲያ በጀት'የለም\\nስለ ተባለ ዝም ብለን ማየት የለብንም ። ይቅርታ ይደረግልኝና * በማሳሰብ\\n\\nል--- ;\\n\\nብቻ ሀላፊነትን ከራሳችን ማውረድ አንችልም....»ሲ\\n\\nአቶ ይርጋ ቱግ ብለው ፡ «ታዲያ ምን ይውን ነው የምትለው ! እና\\nየሞተችበትፍና ኅበያም የሄዶችበት እኩል ያለቅሳል ይባላል ። ፍየል ከመድ\\nረስዋ ቅጠል መበጠስዋ አሉ ። ዝም በል ። እንተን አያገባህም» አጵት ።\\n\"},\n",
       " {'page_number': 85,\n",
       "  'text': '84 ሀዲስ\\n\\n«ይናገር እንጂ ! ለምን ዝም ይላል ። ሁላችንም ሀላፊነት ኣለብንኔ\\nአቶ ጣሴ ደጉ ነበሩ ። -\\n\\nቀሱ እንባ አይገድም ብዬ ነው» አለ ሀዲስ ።\\n፮፮፰፰፣፮፲ ነ፩፲ፀ፰ረሀ ንካዋ ። ማን ከለከለህ !» አሉት አቶ ይርጋ ።\\n\\nንዴት እየተናነቀው * «ነገርዎ አሳዝኖኛል» ከማለቱ ፥ ይባስ\\n«ከል መልበስ # ያዘነ ከል ይለብሳል» አሉት ። \\'\\n\\n‹ስ ንዴቱን እንዴ ምንም ውጦ ጠጉሩን ቆፈር ቆፈር አደረገ\\nዕርአዎዷዳሩየትምህርት ቤቱ ሁኔታ ከል ቀርቶ ማቅኞም ያስደርባል ። በና .\\nየለም ስለ ተባለ ምን አገባን በማለት እንደ ኢላጦስ እጃችንን ታጥበን መኑ\\nመጥ የለብንም ። የህዝቡ ችግር ይመለክተኛል ፤ ምክንያቱም የኔም ችግ\\nነውና ። ህዝቡንም ይመለከተዋል ፤ ምክንያቱም የራሱም ችግር ነውና «\\n\\n«አዩ ፥ አቶ ይርጋ * ለበጎ አላማ የማይተባበር * የራሱን ችግር በራሱ\\nጥረት የማይፈታ ህዝብ የለም ። በተአምር መና ከሰማይ ኃወርዳል ፤ ውሀ\\nወደ ወይን ጠጅ ይለወጣል ብለን መጠበቅ የለብንም ። ህዝቡ ለጋራ ችግሩ\\nየጋራ መፍትሄ እንዲፈልግለት ካስተባበርነው ይህችን ትምህርት ቤት\\nመስራት ቀርቶ ተራራውን ሜዳ ሊያደርገው ይችላል ። እኛ ከልብ ካመን\\nበት ህዝቡን ማሳመን አያቅተንም ። በፊት እንዳልኩት ለበጎ አላማ የማይ\\nተባበር ህዝብ የለም ። ባጭር ጊዜ ውስጥ አዲስ ትምህርት ቤት ለመስራት\\nእንደዶምንችል አልጠራጠርም» አለና በረጅሙ ተነፈስ ።\\n\\n«ለተቀማጭ ሰማይ ቅርቡ ነው» ብለው አቶ ይርጋ ትረቱበትና ቀጥ\\nለውም ፥ «አዎን ፥፤ ማገር አያግዝ ቤት አስፋ ይላል አሉ። አንተ አሁን የም\\nትለውን ሳናስብበት ቀርትን አይዶደለም ። አዲስ አሳብ ያመጣህ መስሎሀ\\nከሆነ ተሳስተሃል ።» ወደ ጋሼ ዱቤ እየተመለከቱ ፥ «አይዶለም እንዴ ?»\\nካሉ በሁዋላ ወደ ጀመሩት ነጥብ ተመልሰው ፥ «በመፅልሀፍ የምናነበውና\\nበውጭው አለም የምናየው ነገር ሁሉ አንድ አይምሰልህ ። ህዝቡን ማስተ\\nባበር አንተ እንደምታስበው ቀላል ነገር አይዶለም ። ፡\\n\\n!\\n\\n“‹በቪህ ላይ ደማሞ ፤ በሁዋላ የመጣ አይን አወጣ ሆነና ነው እንጂ፤\"\\nህዝቡ ፤ ወዳጄ ፤ ጉልበቱንና ገንዘቡን አስተባብሮ መስራት ተስኖታል ።\\nጉልበቱም ገንዘቡም የለውም ። ካልክስ በመረዳጃ ስራ እምነት አጥቶአል።\\nለምን ? ብትለኝ ፡ ዛሬ ጭቃ ሹሙም ፤ ወረዳ ገዥውም ፤ የመጣው ባለስል\\n\\nጣን ሁሉ ኑ መንገድ ስሩ * ኑ ገንዘብ አዋጡ ፤ መንገድ ልንሰራላችሁ ነው!\\nክሊኒክ ልንከፍትላችሁ ነው የማይል የለም ።\\n\\n«‹የተሰራ መንገድ የለም ። ህዝቡ ስር ከመማስና ቅጠል ከመበጦስቦ ሶሳ\\nለፈም ። በግድም ሆነ በውድ የተሰበሰበው ገንዘብ ሁሉ እንዶ ቅቤ የ\\n\\nየያዘበት ጊዜ ነው « እንዶ ሰማኽው የኑሮ ውድነት ሁሉን\\n\\n«<አይምሰልህ ወዳጄ * ወጣቶች ስትባሉ መቼም ሁሉም ነገር ሜዳ\\nነገር ዋለም ። ሁሉም ሜ፲፩፲ በናንተ ቤት ዳገት ፤ ቁልቁለት ፥ ገዶል የ\\n\\nዳ ነው ። ኢትዮጵያ ተራሮች የበዙባት አገ\\n'},\n",
       " {'page_number': 86,\n",
       "  'text': 'ሠዲስ 85\\n- ቃሙ 83\\n\\nለችም---ለፍናንተ። ትምህርት ቤቶችና ክሊኒኮች ቢሰ ሩህንፃዎች ብቻቸውን\\nትምህርት ቤት ወይም ክሊኒክ ሊሆኑ የሚችሉ መሰለህ ? አሕስትማሪዎች ፥\\nየህክምና ባሊሙያዎች ያስፈልጋሉ ። እነዚህ ዶዴሞ እንዶ ሸቀጥ በፋብሪካ\\nየሚሰሩ አይምሰልህ ። የእነ ቶሎ ቶሎ ቤት ግድግዳው ሰንበሌጥ ይሉሃል\\nይ፰ወ፲ ነፀ፲፦ ። የመጣኽው ላንድ አመት መሆኑ ነው መሰለኝ እንዲህ የሚ\\nያዶርግህ !>\\n\\nሀዲስ ብልጭ አለበት ።\\n\\n«እርስም እንደሚሉት እንዲሁ ከመሬት ተነስቼ አይዶለም የምናገረው>\\nብሎ ጀመድሪ--- «በዚህ አመት አንደኛ ክፍል ለመግባት ከትመዘገቡት\\nከሶስት መቶ በላይ ከሚሆኑ ልጆች ውስጥ ቦታ አለን የትባለው ለስድሳ\\nብቻ ነው = ክበር የመለስናቸው ልጆች የት ይግቡ ነው የምንለው ? የከብት\\nጭራ እየተከተላችሁ ቅሩ ብለን እንፍረድባቸው ? ዘላለማችሁን ውሀ ቀጂጁ፥\\nእንጨት ሰባሪ ሆናችሁ ቅሩ ነው የምንላቸው ? ልጆቻቸው ትምህርት ቤት\\nያጡባቸው ወላጆች ይህ አይነቱን ፍርድ የሚሰጡ አይመስለኝም ። የምን\\nሰጠው ፍርድ ይህ ከሆነ ምናለ ! ታሪክን እንተወው ፥ ህሊናችን አይፈርድ\\nብንም ? ወይስ ህሊና የለንም ?\\n\\n«አሁቕም ቢሆን እኔ በበኩሌ ህሲናዬ እንዶ እሾህ እየወጋኝ ነው ።\\nየሚያሳዝነሜ ፣ ከሁለት መቶ ስድሳ በላይ የሆኑ ልጆችን ቦታ የለንም ብለን\\nእያለቀሱ ክበር እንዲመለሱ ማድረጋችን ብቻ አይዶለም» ሲል እንባ ይተና\\nነቀው ጀጆመርፎ ። እንባውን እንዶ ምንም ብሎ በመዊጥ ጭጠለና ፤ «ህሊናዬን\\nበይበልጥ የሚቆጠቁጠው ነገር የተሰጣቸውን ፈተትና ካለፉት ስድሳ ልጆች\\nውስጥ አስራ አምስቱ ተሰርዘው ፤ ሌሎች ፈተናውን ያላለፉ አስራ አምስት\\nልጆች እንዲገቡ መደረጋቸው ነው ። ማስረጃው በእጄ ይገኛል =»\\n\\nአቶ ይርጋ ከተቀመጡበት ትስፈንጥረው በመነሳላሳት ፤ «እዚህ ውስጥግ\\nየሚያገባህ ጭጉዳይ የለም !› አሉት ፥ ሌባ ጣታቸውን ቀስረውበት ።\\n\\nና«ለም”ን አያገባኝም ?»\\n\\n«የፖሊሲ ጉዳይ አንተን አይመለከትም ፣ አመፅ ነው እኮ ። ሌላ አይ\\nደለም ። ድይህን አመፅክን እዚያው የለመድክበት ብትሞክረው ይሻላል ።\\nእዚህ ያመይ ቦታ አይዶለም !>» ብለው ጮሁበት ።\\n\\nሀዲስ ጠጉሩን ቆፈረና ፤ «ፈተና ያለፉትን የድሀሠ ልጆች ጥላችሁ የባላ\\nባትች ፤ የነመዴ ፤ የመንግስት ባለስልጣን ልጆች አስገቡ የሚል ፖሊሲ\\nአላየሁም = ካለ እርስዎ ይንገሩን ። ክሌለ ግን የተሰረዙት ልጆች እንዲመ\\nለሱ አጥብጩቋ እጠይቃለሁ ። ትክክለኛ ስራ እንስራ ማለት ዶሞ አመፅ አይ\\nደለም !» ሺቢሲል-፦\\n\\nኤ\\n«ወንዐጠሬን ውሰዳ ! ይኽው ነው የቀረህ ! ነገሩ ዶሞ አንት እንዳልከው\\nአይዶደለም ። እኔ ይርጋ ይህ የሀብታም ፤ ያ የድሀ ልጅ ብዬ ለትምህርት\\nበዶረሱ ቡቃያዎች መካከል ልዬነት አድርጌ አላውቅም ። በስነ ስርአት\\nብቻ ሳይሆን በህግ ፊት ያስጠይቅሃል ። ስሞች ካንዱ ወረቀታ ወዶደ ሴላው\\nሲገለበጡ ምናልባት ስዞህተት ዴርሶ ይሆናል ። የትጭበረበሂ ነገር እንዶ\\n'},\n",
       " {'page_number': 87,\n",
       "  'text': '. ለህ አፍክን ሞልተሀህ መናገርህ አጉል ድፍረት ነው ። አየህ|\\n፰፲ነ ፰ሃ፭፰፮፲፱ስአመት ሙሉ ሳስተምር እንዲህ አይነቱ ውርደት ደርሶብኝ\\nአያውቅም ። መልካም ስሜ ደሞ በከንቱ ጠፍቶ የሚቀር አይምሰልህ5\\n\\nብለው አሁንም ጮሁበት ።\\nሀዲስ በሙኸታቸው ፍንክች አላለም ።\\n\\n«እኔ የጠየኩት የተሰረዙት ልጆች እንዲመለሱ ነው» አሳቸው ኮስተር\\nብሎ።\\n\\n«ባይመለሱ ምን ትሆናሰለህ !?»\\n\\n«የልጆቹ ወላጆች እንዲያውቁት አደርጋለሁ ። ከዚያም አልፎ ለበ\\nላይ አመለክታለሁ ። አለዚያ ህሊናዬ ሊያርፍ አይችልም ። መጥፎ ህሏና\\nይ ከምኖር ሞቴን እመርጣለሁ» አላቸው ድርቅ ብሎ ።\\n\\nአቶ ይርጋ መላጣቸውን እየጠረጉ ትኩር ብለው ይመለከቱት ጀመር።\\nምናልባት በሰው የተመሰለ ሰይጣን ነበር የሚመለከቴት ። በቀላሉ የሚያ\\nስፈራሩት አውሬ መስሎ አልታያቸውም ። ሌሎቼ አስተማሪዎች አንገታ\\nቸውን ደፍተዋል ። የሀሊና ፀሎት የሚያደርሱ ይመስላሉ ። ክፍሉ ፀጥ ብሎ\\nነበር ። ሠሀዲስ ሲተናነቀው የቆየውን እንባ መያዝ አቃተው ። የተወለደበ\\nትን ቀን ፥ እግሩ ሱጴ ቦሮን የረገጠበትን ቀን በልቡ ረገመ። አቶ ይርጋ\\nበእንባው ውስጥ ብዥ ብለው ታዩት ። አይናቸው የጥላቻ ጦር ይወረውር\\nበታል ። የጥላቻ ጦር መልሶ አልወረወረባቸውም ። ጥልቅ ሀዘን አጥንቱ\\nድረስ ዘልቆ ተሰማው ።\\n\\n«ስለ ትምህርት ቤቱ ስራ ምን ቆረጥን ታዲያ ?» ጋሼ ዱቤ ነበር።\\n\\nአቶ ጣሴ ደጉ ተነስተው ፥ «እኔ የመምህር ሀዲስን ሀሳብ እደግፋለሁ።\\nሴላው ቢቀር ሁለት መቶ ስድሳ ወላጆች ይተባበሩናል ። ጎበዝ ፥ መሞኮ፡\\nአለብን ። ጥቂት ሰዎች ተፍጨርጭረው መዳህ ካልጀመሩ ሌሎች በሁሰት\\nእግሮቻቸው ሲቆሙ አይችሉም» ብለው ቁጭ ሲሉ ፥ የተቀሩትም ኦሶ!\\nማሪዎች ባንድነት እጃቸውን በማሳየት ትባባሪነታቸውን ገለጡ ።\\n\\nያቶ ይርጋ ግልምጫ ሰው ለመግደል የሚችል ቢሆን ኖሮ አቶ ጣቄ\\nአይተርፉም ነበር ። ሀዲስ ትንሽ የተስፋ ጭላንጭል ታይቶት ፈገግ ኦፅ\\n'},\n",
       " {'page_number': 88,\n",
       "  'text': 'ክፍል\\n\\nየአስተማሪዎች ስብሰባ በተደረገ በሶስተኛው ቀን ፤ የፈተናው ውጤት\\n\\nመግለጫ ተነስቶ በምትኩ ፥ «የወጣው መግለጫ አንዳንድ ስህትቶች ስሳሉ\\nበት ሁኔታው ተጣርቶ ትክክለኛው መግለጫ በቅርቡ ይሰጣል--›-ጅ\\nየሚል ማስታወቂያ በተለጠፈ በሁለትኛው ቀዯን ፤ ፈተናውን ያለፉ ልጆች\\nስም ዝርዝር ወጣ ። የፈለገው ይህን ነበር ።\\n\\nተንኮል ካልተዉፀረበት በቀር መጀመሪያውኑ ስህተቱ እንዴት\\nሊደርስ እንደ ቻለ አሁንም አልገባውም። ለማንኛውም ነገር ስህተቱ ታር\\nሞአል ። አላማው የደረሰው ስህተት እንዲታረም ማድረግ ነበር ። ሀዲስ\\nበቂም በቀል ስለማያምን ይቅርታ ብላቸውስ ምናለዐት ? በማለት ወደ\\nቢሮአቸው ሲገባ ቀና ብለው ሳያዩት ፥ «ወንድም ፥ ስራ ይዝአለሁ ። ቢሮ\\nማንም በፈለገው ጊዜ ዘው ብሎ የሚገባበት የጋለሞታ ቤት አይደለም ።\\nጉዳይ ካለህ ቀጠሮ ጠይቀህ ና» አሉት ።\\n\\nመላጣቸው የሚያይ አይን ያለው መስለው ። ቀንዱዋን እንደ ተመ\\nታች ከብት ቶሎ ምልስ በማለት የሃፍረት ማቁን ተከናንቦ ሊወጣ ሲል ፤\\n«አላሰናበትኩህም» አሉት ።\\n\\nጀርባውን እንዴ ሰጣቸው ቀጥ ብሎ ቆመ ። ወጥቶ በመሄድና በመቆ\\nየት መካከል ነፍሱ ላንዳፍታ ትሙዋገተች። .\\n\\n«ምን ኖሮአል ዐ» አሉት።-\\n\\nይቅርታ የሚሉት ቃል ከአፉ ሊወጣ አልቻለም ። ፊቱን መለስ አድ\\n፪ጎ ጩ ጊዜ ቀጠሮ ጠይቄ እመጣለሁ ። የሟየስቸኩል ጉዳይ የለሰኝም»\\nላ ።\\n\\n«አዎን ፤ ምናለ ፥ እብሪት ነው» ብለው ፤ መላጣቸውን ከፊቱቴ ዞር\\nበማድረግ ፊት ለፊት እያዩት ፤ «አየህ ፤ ሀዲስ ፣ ባያድለኝ ነው እንጂ አን\\nተን ሶስት አራትዝዬበእድሜየሚበሙልጆችአዶርስነበር፲ካንተ\\n\\nውርደት ሳይሆን አክብሮት ነበር የምጠብቀው ። አየህ ፤ መልካም ስም\\nከሽቶ ይሸታል ይባላል ። መልካም ስሜን አጉል ጥርጣሬ ላይ በመጣልህ\\nበጣም አዝናለሁ ።\\n\\n«የሰው ሀዘን በከንቱ የሚቀር አይምሰልህ ። ሰው ከሚያዝንብህ\\nበመጩጭቤ ቢወጋህ ይሻላል ። ቢሮዬ መጥተህ ስህተቱን ብታስታውቀኝ ወዲ\\nያውኑ ይታረም ነበር ። ወይም ተመካክረንበት አንድ ዘዴ እንፈልግለት\\n\\nነበር ። ይርጋ ተንኮል ሰርቶአል ብለህ በመገመት በቅን ልቦና የተሰራውን\\nስህተት በልብህ ይዘህ ባደባባይ ስትወነጅለኝ እኔ ለራሴ አላሸንኩም ።\\n'},\n",
       " {'page_number': 89,\n",
       "  'text': \"88 ህዲስ\\nሙ\\n\\nነገፍ አችስረቅ አትፍራ ነው = የሚሰራ ሰው ይሳሳታል ። ይልቅ ያዘንኩት\\nልወጣቱ ትውልድ ነው ፡\\n\\nፍለውንጀላም ሆነ ለማንኛውም ነግር ትጣዶፋላችሁ ። መሽቶ የሚነ\\nስላችሀቾም = ማስተዋል የለም ። አህብሮት ፤ ዲስፕሊን የሚባል ነዢቲ\\nበፍንት ቤት የለም ። ሌላው ቢቀር ሽሸበት አይከበርም ? ሃያ አምስት አመት\\nሙሉ በገጠር እየትንክራተትኩ ሳስትምር የኖርኩት የድሀሠውን ልጅ ነው 5\\nአይምስሰልህ = ይርጋ ለባለጠጋ ልጆች አያደላም ። ይህን ትምህርት ቢት\\nደግሞ እንዶ ልጄ አድርጌ ነው የምመለክተው ። ልጅ አልሰጠኝም ! ሌላ\\nልጅ የለሜም ። ትምህርት ቤቱን የሚጎዳ ነገር ማየት አልፈልግም ። የሟ\\nዉጠቅም ንገርም ካለ ደዴሣሞ እኔ እንድስማማበት ያስፈልጋል ። ገባህ?....\\nልማንኛውም ነገር ያለፈ አለፈ ፍላለፈ ክረምት ቤት አይሰራም ይባላል ።\\nኣሕሁን ዮምፈልገው ያስቅረኗኸኽውን ኮፒ እንድትችሰጠኝ ነው ። ዱሮውንም\\n\\nዉቧቢሆን ድለኔ ፈሙቃድ ኮፒ ማስቅረት አልነበረብህም> አሎሰትና በረጅሙ ተነ\\nልፈኩ።\\n\\n5ጭድጅጁጅ ጥዬዋልሁ> ብሎ ዋሸ ።\\n\\nእንጆ እውነቱ ከሆነ ቀዶ ሊጥለው አስቦ ነበር ፡ አሁን ግን ኣሳቡን\\nእመወመጠ ።= ሽ\\n\\n<ቼዳጻዳህን ሲያዩት ሞኝሜ ችመስላለህ ?››\\n=ሞጅጭድጅጁ ጥጭዬዋልሁ ።>»\\n«ለምን ቀጆድክው?››\\n\\n«፻ጻኣ9ትቲ ክታረድመ ምን ያደርግልኛል ? ዱሮውኑ ኮፒ ያስቀረሁት\\nልጥንሙሕ ብዬ ነው እንጂ ለትንኮል አልነበረም ፡= እኔ ትንኮል አላውቅም ።\\nፌት ልዴት መናገዖዝር ተንኮል አይደለም ። ጤናማ ምልክት ነው›» ሲላቸው ፥\\nኖውሸት ሳቅ የሚስቅው አይናቸው ስይጣናዊ ተንኮል ይ.ፈነጥቅ ነበር ።\\nበወዲስ ላይ አሉባልውታው ትጋኖ መወራት የጄጀመረውም ከዚያ በሁዋላ\\nነበር =\\n\\nነጥጭሩ ባሉባልታ ትወስክኖ አልቀረም ። የታጠቁ ፖሊሶች ክሚያስተምር\\nበት ክፍል ድረስ መጥትው ለጥያቄ እንጆሚፈልለግ ነገሩት ፥\\n\\n<ዮምን ጥያዊቂ 7»\\n\\nጻኗበሁዋላ ይድዴርሱበታል ። እሕሁን እንሂድ »\\n<ድላ3ሀና = ለጂሬነትፍ ልንግራቸው ፡»\\n<፲ሎሯትምትኖስክስ =፡»\\n\\n<ኢና 7>» '\\n\\n«እና< ፡ እኔ ምንም ኣ.(ድገባሜም ብለኞዋል ።››\\n\\nት”ፃሬዎቹ በረንዳ ላይ ትዶርድረው ወሬ የዳም ። ፋጡማ\\nመሠመድን ጠሯውትና አዯ ጣሴን ፈልጋ ለጥያቂ ወደዶ ፆሟጺጽ በመኗነ፡ቢያ መወሰ\\nጁን እንድትነግራችቸው አደራ ብሎአት እንደ በግ እየተነዳ ሄደ ። ሁለተኛ\\nእመልለሳዉሁ የሚል ማምት አላደረበትም ። ለጥያቄ ትፈለጋለህ ተብሎ ሄዶ\\nሯውቃል ። እንደ እውነቱ ከሆነ ስምንና አድራሻን ከሚመለከት ሌላ ጥያቁ\\nየሚየያቅርብም አልነበረም ። የስውዬው ሀጢአት ከተነበበለት በሁዋላ\\n\"},\n",
       " {'page_number': 90,\n",
       "  'text': \"ወዲስ 89\\n\\nበቃ--ፍፁም-ጨለማ ። አለምን ረስቶና በአለም ተረስቶ በጨለማ ተውጦ\\nቀርቶ የግፍን-ፅዋ እስኪያቅር ድረስ መጨለጥ ። የምን ሰብአዊ መብት ?\\nድሀሠ መብችት አለው ያለውስ የማን ቂል ይሆን ? ድሀ መብት አልነበረውም።\\nቅርሱ ግዴታ ብቻ ነበር---ለእግዜሩና ለንጉሱ ። ህገ መንግስት ? የምን\\nህግ መንማስት ? መብት አይሰጥ ወይም አይነፍግ ። የኢትዮጵያ ህገ\\nመንግስት አባት በህግና በህዝብ ላይ በአደባባይ የትቀኙት ቅኔ ፤ ይበል *\\nየሚያሰኝ መልካም ሰምና ወርቅ ፥ ምስጢሩ ተፈቶ የማያልቅ ። እንዳያማህ\\nጥራው፤ እንዳይበላ ግፋው ነበር ነጉሩ። አይ ጥበብ ፡ አይ ዘዴ! ስዩመ እግ\\nዚአብሄር *ሞአ አንበሳ 8እምነገደ ይሁዳ። የቤተ ዳዊትን ፥ የቤት ሰሎሞንን፡፤\\nየቤተ ይሁዳን ጥበብ እንዳለ የማን ቤት ወረሰና ! ተአምር አያልቅም ።\\n\\nኖወፍ መንጋ ወዶድ ገባ በረሃ ሲበር ተትመለከተትና ነፃነት ደህና ሁሜጭብሎ\\nእንዶ ታጆበ ወዶ ፖሊስ ጣቢያ ሲዘልቅ ከመቶ አለቃ አሽኔ ትከሻ ላይ\\nያለው ኮክብ ብልጭ አለበት ። ፖሊስ ባየ ቁጥር የሀዲስ ልብ ይሸበራል ።\\nየአራት ኪሎ ጋዜጠኞች ፤ «በየአመቴ የሚያገረሽ በሽታ» ወይም «የድን\\nቁርና ትእይንትችት» የሚሉት የአራት ኪሎ ግርግርና ሽብር ይመጣበታል ።\\nበሚያስለቕስ የመርዝ ጢስ የዶም እንባ ሲያስለቅሰውና ባልቶተወለዶዴ አኣን\\nጀት በቆመጥ እንደዶ አህያ ሲነርትው ይታየዋል። ትው ስማኝ ሀገሬ.-.-\\nትው ስማኝ ሀገሬ . . * የማሜን ጆሮ ቢሰማ ! ተማሜሪ በባዶ ጉልበቱቴ ጠዋት\\nበማለዳ ጠጠር ላይ እንዲሄድ ሲደረግ ማን ዞር ብሎ ሊያይ! . . . የጥጋበ\\nኞች ዋይታ ፤ ተልባ ቢንጫጫ ባንድ ሙቀጫ እንዲሎ ። የገደል ማሚቶ\\nበልቶት ዮየሚቅር መጨኸት ። እና ፤ መፍትሄው ፤ ዞሮ ዞሮ መዝጊያው ጭራሮ\\nእንዲሉ ፡ ትማሪዎች አጥፍትዋል « ወላጆች ይካሱ ማለት ነበር።\\n\\n-ችትጉስ መሀሪ-ነው። ማሩልን ። አባች መሀሪ ነው ። ማሩልን ።\\n\\nእንማዲህ ምህረቱ ከዙፋን ይወርዳል.። አባት መሀሪ አይዴል ? አባቱን\\nክዶ በሀሠይለ ስላሴ የማይምል ማን ነበርና ! አፉን የፈታው በሀይለ ስላሴ፡\\nፊደል # ብሎ የጀመረው በሀይለ ስላሴ ፤ ክአንዶደኛ ዶረጃ ትምህርት ቤት\\nጀምሮ እስከ ዩኒቨርሲቲ ድረስ የተማረባቸው ትምህርት ቤቶች የሀይለ\\nስላሴ * ድወልዶ ያደገበት ጎዳና የሀይለ ስላሴ ፥ የሚዳኝበት ህግ በሀይለ\\nስላሴ ፤ ቴያትር ቤቱ የሀይለ ስላሴ ፤ በትረ መንግስቱ የሀይለ ስላሴ ፤ ቶወ\\nልዶ የሚ<ኖርበት አገር የሀይለ ስላሴ---ኖሀይለ ስላሴ * ለሀይለ ስላሴ ፤ በሀይለ\\nስላሴ---ዣጭን በሌላ ሊምል ! |\\n\\n«ቤች ለእምቦሳ» አለው የመቶ አለቃ ኣሸኔ ፤ በሲጃራ የበለዙትን\\nጥርሶቹንጭ በመጠጥ የቦዙትን አይኖቹን ኢያሳየው ።\\n\\nሀዲክ፲ ወንበር ስቦ ቁጭ አለ ። ከመናገር መስማት ይሻላል ብሎ ዝም።\\n\\n«አጉድ ቀን እዚህ እንዶደምንገናኝሜ ይታየኝ ነበር» አለው ።\\n«እጉዴት > . 'ሜማጆኡ\\n\\n«የመጣህበት አላማ ምን እንደዴ ሆነ መቼ አጣሁትና ።\\n\\n«ምንድን ነው የመጣሁበት--አላማ 7 ፩\\n\\n«አቕተው ንግረኝ» አለው ጥርሱን ነክሶበት ።\\n\\nፍህ,ዚህ የሙጣሁበት አላማ ፥* አላማ ከሆነ 0 ለማስተማር ነው...%\\n\\nዋሙ- አለቃ ጠረጴዛውን በጡጫ አንዴ ነርቶ ሁልጊዜ ዴም ለበሰውጅ\\nበሚታዩችጅ ጎረጥ አይኖቼ እየገረመመው ፤ «አዎን ፡ ክድሀሠ ልጅ ሴላ የጌታ\\n\"},\n",
       " {'page_number': 91,\n",
       "  'text': 'ሺ ..ከ ‹በከሀከከከከው፡፡፡.” ም ሽ\\n\\nልጅ ትምህርት ቤቱ ገብቶ እንዳይማር ለማስትማር ነው የመጣኽው አይ\\nዶለም ? መቸ አጣውዑት ። አንተ ባትነማሣረኝም እኔ አውቀዋለሁ። “ፋኖ +ሰ\\nማራ * ሩኖ ተሰማራ ፤ እንደነ ሆቺ ሚኒ ፡እንዶ ቼ ጉሻራ”? ብላችሁ የለም ?\\nድሃ ጌታ እያላችሁ በሰላም ተከባብሮ የሚኖረውን ህዝብ ለማበጣበጥና\\nፀንቶ የቆየውን የኢትዮጵያን አንድነትች ለማናጋት ። ሰይጣናዊ አላማ\\nችሁን መቼ አጣሁት ?\\n\\n=።የኢትዮጵያ ጠላቶች መሳሪያ በመሆን የወላጅ እናታችሁን ጡት\\nየምትነክሱበትቅ ፥ እንደ ይሁዳ አሳልፋችሁ የምትሰጡበት ምክንያት...\\nአይ ፤ ኢትዮጵያ የወሳድ መሆን መሆንዋ ነው የሚያሳዝነኝ ። በእውነቴ\\nያሳዝናል ። ገንዘብ ያለው በገንዘቡ ጉልበት ያለው በጉልበቱ እየተረዳዳ\\nሮዴስላምና በፍቅር የሚኖረውን ህዝብ ባታበጣብጡት ምን አለበት!»\\nለው ።\\n\\nሀዲስ በትእግስት ሲያዳምጠው ከቆየ በሁዋላ ፤ «ጌታዬ ይቅርታ አድ\\nርግልሜና በእውነት የምትለው ነገር አይገባባኝምጋ አለው ።\\n\\n«የሌባ አኣይነ --ዶዴረቅ መልሶ ልብ ያደርቅ እንደሚባለው * ስንትዋወቅ\\nምን ነው ባንትናነቅ ። የሰራኸው ወንጀል. ቀላል መስሎህ እንደሆነ የምት\\nቅልደዶው ካሁኑ ጀምሮ ቀልድህን ብታቆም ይሻላል ። ቆቅልድና ቅዘን ቤት\\nያጠፋል አኣሉ» ብሎት ፥ ጠረጴዛውን እንደገና በጡጫ ዶበደበና ከመቀመ\\nጫው ተስፈንጥሮ ትነስቶ ላዩ ላይ እያንዣበበበት ፤ «የባላባት ፤ የቱጃር\\nነጋዴ ፤ ዊባለስልጣን- ልጆች ትምህርት ቤት ጉበብትተው እንዳይማሩ ብለህ\\nአሁን ማ ጅሙት አድማ አልተነኮስኩም ነው የምትለኝ? ህዝቡን ማነሳሳት\\nአለብን ኤላልኩም ነው የምትለው ? አገሪትዋ የማ መሰለኙህ እ ? መንማ\\nስትስ በማን ትክሻ ላይ የቆመ ይመስልሃል ? ከባድ የፖለቲካ ወንጀል ነው\\nኖተናገርከክው ። ድሀ * ጌታ በማለት ወገን ከወገን ጋር እንዲጋጭና .-ሃገር\\nእንድትክፋፈል ክማድረግ የበለጠ ወንጀል የለም “\\n\\n«ግን ነገሩን ሳታውቀው አኤድርገኽው ይሆናፍል ። በነገሩ ትፀፅትህ\\nየእምነት ቃልክን ከሰጠህ ጉዳዬ ቀለል ይልልሃል ። ከኢያያዝ ይቀደዳል\\nካንነጋግር ይፈረዳል ይባል የለ። ወጣቅኛ ነህ ። ነገሩ እንዲከብድብህ አልፈል\\nማም ። ምኞትም የለኝም ። አይ ካልክ ግን ፤ ምናለ ፤ በቅሎ ማሰሪያዋን\\nበጠሰቕች ጢቢሉ * ለራስዋ አሳጠረች እንዶሚባለው ይሆናል ። አስብበት»\\nአለው ፤ ሌሴባ ጣቴን አፍንጫው ላይ ቀስሮበት ።\\n\\nሀዲፅስ አይኑ እንዳይንሸዋረር አይኑ ስር ያለውን የመቶ አለቃ ሌባ ጠት\\nእየሸሸ ፤ «የመቶ አለቃዬ ፤እንዲያው ሊበ ሉዋት የፈለጉዋትን አሞራ ጅግራ\\nናት ይሉጭዋታል እንደ ሚባለው ሆዋ ነው እንጂ ፥* እኔ አንተ እንደምትለው\\nየፖለቲካ ተልእኮ የለኝም ። የፖለቲካ ጣጣ ውስጥም አልገባሁም.---ቓ\\n\\nየመቶ አለቃ የሀዲስን ንማግግር አቋዋርጦ ጠረጴዛውን እንደገና በጡጫ\\nደዴብድቦ ሲያበቃ ፤« ሲጃራ አውጥቶ ለኮሰና በቦነነው ጢስ ውስጥ እያየው ፤\\nደ«ቀልድሁሆን ተወኝ ብያለሁ ! ስማ ወንድም ፤ ተራ ነገር ቀርቶ የዝንብ ጠን\\nጋራም አታመልጠኝም ። ተማሪዎች ስትባሉ ያለ ፖለቲካ ሌላ ምን ስራ\\nአላኙችሁ ዖ=. ? ትምህርቱን እንደሆነ ሕእርግፍ ኢድርጋችሁ ትታችሁዋል ።*\\nፈተና በድረስ ቁጥር ውሀ ቀጠነ ብላችሁ ስላማዊ ሰልፍ የምታደርጉበት ፤*\\n'},\n",
       " {'page_number': 92,\n",
       "  'text': 'ሀሠዲስ 91\\nር የየየየየየየየየየየየየየየየ፡ሎዋሎዋሎ፡..፡.፡ፈመ\\n\\nመስኮት የምትሰባብሩበት ፥ ህሣን ለማስከስር በተሰማሩት ፖሊሶች ላይ\\nድንጋይ የምትወረውሩበት ምክንያት ምን እንደሆነ ለማንም ስውር ኣይ\\nዴለም ። ያለ ፈተና ክክፍል ክፍጓ እየቀለዳችሁ ለማለፍ ነው ።\\n\\n«ግን የምችቀልዱት በራሳችሁ ላይ ነው ፤ በማንም ላይ አይደለም ።\\nየምታጠፉት ንብረትና ጊዜ የኢትዮጵያ ህዝብ ንብረትና ጊዜ መሆናቸውን\\nአዙራችሁ አትመለከክቱም ። ግዴታችሁ ምን እንደዶሆነ አታውቁም ። የት\\nማሪ ግዴታ መማር ነው ። የአስተማሪዎች ግዴታ ማስትማር ነው። ፖለ\\nቲካ የናንተ ስራ አይዴለም ። ተምራችሁ ነገ የምትደርሱበች ጉዳይ ነው ።\\nግን በጥባጭ ካለ ንፁህ አይጠጣም እንደሚባለው ፥ ከሁዋላ ሆኖ የሚጎተ\\nጉታችሁ የውጭ እጅ እንዳለ እናውቃለን ። የማናውቀው ነገር የለም ።\\n\\n«ግን ምን ይደዴረጋል ? ሁልጊዜ የምለው ነገር ነው እኮ ። መግዛት\\nያለባቸው አይገዙም ። መማር ያለባቸው አይማሩም ። መታዘዝ ያለባቸው\\nአይታዘዙም ። አሉባልታ ብሄራዊ ሙያችን ሆኖአል ። የፉክክር ቤት ሳይ\\nዘጋ ያድራል ኣሉ ። ይህች ታፍራና ተክብራ የኖረች አገር ይኽው ነው\\nየቀራት በናንተ ምክንያት ። እንዳልኩህ ሀቁን ብትነግረኝሜ ይሻልሃል ።\\n\\nልረዳህ እችላለሁ> ብሎት ፥ የሲጃራውን ቋራጭ ካንድ አሮጌ መኮስትሪያ\\nውስጥ አወዶመሙ።\\n\\nሀዲስ ብስጭት ብሎ ፡፤ «ሀቁን ልነማሣርህ ጆምሬ ነበር አኮ> ኣሕለው ።\\n<እኮ ንግረኝ !»>\\n\\nሀዲስ አእምሮውን ሰብሰብ ኣድርጎ የነገሩን አመጣጥ ከስር ጀምሮ\\n\\nሲያስረዳው ክቆየ በሁዋላ ፤ «አዎን ፥ ነገሩ እንደዶዚህ ነው ። እኔ ለምን\\n\\nየሀብታም ልጆች ይማሜራሉ ? አላልኩም ። ፈተናውን ያለፉት ልጆች ተሰር\\n\\nዘው ፈተናውን ያላለፉት ኣንዳጻንድ የባላባቶኙችና የነጋዴ ልጆች ለምን እን\\n\\n፰ገቡ፲ ፲ዴረገ ? ነው ያልኩትወ» ብሎት ፤ በረጂሙ ተትነፈሲና ጠጉሩን ቆፈር\\nፈር ኣድረገ ።\\n\\n«አሁን ያልክው ለመደዴረጉ ምን ማስረጃ አለህ ? የሰው ስም በከንቱ\\nማጥፋት ራሱ ወንጀል ነው። አሁን ማ ይሙት ኣቶ ይርጋ ይህን አዴረጉ\\nብለህ ልታሳምነኝ ነው ?- አሎባልታ የትም አያዶደርስህም» አለው ።\\n\\nሀዲስ የያዘውን ማስረጃ ይዞትች ከመጣው ፋይል ውስጥ መዞ ጠረጴዛው\\nላይ ቁጭ አኣድዴረገለት ። የመቶ አለቃ አቨሸኔ ድንግጥ ሲል አየው። ነገሩ አሁን\\nበይበልጥ ግባው።ማስረጃውን ይዞ በማቆየቴቱ ዶደስ አለው --- መቶአለቃው\\nሀዲስ ያልጠበቀው ዱብ እዳ ነበር ። ማስረጃውን እያፈጠነ ያነብ ጀመር ።\\n\\nአንብቦ ከጨረሰ በሁዋላ ፤ «ይህ ማስረጃ ብቻውን በቂ አይዶለም»\\nኣልው ፤ በቦነነው የሲጃራ ጢስ ውስጥ እያየው ። ረጁም ፥ ጠይም ፤ አጥን\\nታም ፊቱ ሁልጊዜ በሲጃራ ጢስ ጉም ውስጥ ነው ።\\n\\nደሌላ ምን ይፈለጋል ?»\\n«<ብዙ፦ ነገር አለ ።»\\n«እንዶምን ያለ ?ጅ\\n\\n«አጉተ ኤሁን ማስረጃ ነው ብለህ ያቀረብከው ወረቀት ፥*0 አንዳንድ\\nስህተት መድረሱን ነው እንጂ ወንጀል ወይም አድልዎ ኖትፈፀመ መሙሆኑጉ\\n'},\n",
       " {'page_number': 93,\n",
       "  'text': '92 ሀዲስ\\n\\n« ይሁንና ክስ የቀረበብህ ስም በማጥፋት ሳይሆን\\n፰፤፷፸ፅክ፰፷ቲካ፸ ውዝግብ በትም ህርት ቤቱ በመፍጠርህ ነው ፥ቅየዷታ\\nጡ አንዳንድ አስትማሜሪዎች ይህንኑ አኦረጋግጠ ውብ ስ\\n\\nክር ቃላቸውን የሰ \\'\\nበተጨማሪም በአካባቢው የተገኘው መረጃ ይህንት የፖለቲካ ዝንባ ጩ ፡\\n\\nያስረዳል» አለው ።\\n\\n«ለምሳሌ ?» አለው ቅንድቡን ከፍ አድርጎ ።\\n«ለምሳሌ ላንዳንድ የመንደር ነገረተኞች የምትፅፈው ማመልከቻ.,\\n\\n«እኖ ?>\\n\\n«እፍ ፣ የሰው ማንነቱ የሚታወቀው በሚያሰፍራቸው ቃላት ነው\\nበእብሪት የታጠረ ነው ። የወረዳ ገዥው አቶ ጥላሁን ሸዋረጋ ይህጌ\\n\\nእንዳጣራ ጠይቀውኛል ።»\\n\\n«ፍሬ ነገሮችን ብቻ ማስፈር እብሪት ነው ከተባለ ምናለ ? ጥሩ ነው,\\nነገር እንዶ ተረጎሙት ነው ። ግን ፤ እውነት ተሸፍና አትቀርም ።»\\n\\nሲጃራውን ጸንዴት ኮሰተትረና ፥* «ለማንኛውም ነገር ንፅህናህሀን የሚያ\\nስረዳ ነግር አልነገርከኝም ። እንዳልኩህ የተክከክሰስክው በቀቶላል ነገር አይደ\\nለም› አለው ።\\n\\n«ለመሆኑ ማን ነው ከሳሼ ?\\n\\n«ማን ብልህ ትወዳለህ ? የከሰሱህ ጉዳዬ የሚመለክታቸው ፲ሰዖዖቶ\\nናቸው . ..»\\n\\n«አሺ አሁን ታዲያ ምን ላድርግ ?»\\n\\n«ዋ6ስ ጥራና ሂድ ።»>\\n\\n«የምን ዋስ ?»\\n\\n«ስችፈለግ የሚያቀርብህ ።»\\n\\n«ዋስ ከየት አመጣለሁ ። ላገሩ እንግዳ ንኝ ።>\\n\\n«ታዲያ ምናለ ። ጥሩ ማሜረፊያ ቤት አለን» አለውና ፥፤ የዛጉትን ጥ\"\\nቹን አሳየው ።\\n\\n- ሀዲስ ብልጭ አለበትና ፡ «ስማ ወንድም ! ማንም በተንኮል ተነሳሶ፥\\nበውሸት ስለ ከስሰኝ መታሰርም ሆነ ዋስ መጥራት የለብኝም። የራሴቀር ፡\\nቆማንንም። ፀእ፬፪ፔትአያለንምክን፲፲፲፲፲ያትሡሊደፈር ማየት አልወድም ፪፪፲ቮ እ\\n፤ ። እና ፤ አሁንም ብትፈልግ ግደለኝ እንጂ እዚህ ቆ\\n፲፲፡፲፪ምፓ፭፶፬ ብሎት ቆርጦ ሊሲወጫሲነሳ ፥ አቶ ጣስቾ ዶጉና ታፈሰ ብሩ ቋቻ\\n\\nገቡ ። ፶\\n\\n፡ ጎ\\nታፈሰና ሀዲስ የጋለ ሰላምታ ተለዋወ ሎ ዞ ታፈፅ ታ\\nከመቶ አልቃ አሽኔ ጋር አስተዋወ፰፲ የሚታው ። ች\\n\\n«የፌታውራሪ ወንድም ልጅ ኖት » ዕ\\nድሪ\\n\\n. «አንተ በለኝ» ብሎት ፡ ወደ ሀዲስ ዞር አለና ፥ «ገና ኦ«።” ከመ\\n\\nየምሰማው ነገር ምንድን ነው?፡» ብሎ ጠየቀው ። “\\n'},\n",
       " {'page_number': 94,\n",
       "  'text': \"ሠዲስ 83\\n\\n«ምኑም አልገባኝም ። ፖለቲካዊ ወንጀል ፈፅመሃል ይሉኛል ። መላሳ\\nቅጡ የጠፋ ነገር ነው» አለው።\\n\\nኞ ታፈለ ወዶ ፖሊሱ መለስ ብሎ ፥ ‹«የምን ፖለቲካዊ ወንጀል ነው ?\\nሙው።\\n\\n«አውን ማድ የለም ። ዋስ ጠርቶ ሊሄድ ይችላልጋ አለ ።\\n«እኔ ዋስ እሆነዋለሁ» አሉ አቶ ጣሴ ።\\n\\n«ኢእርስዎ ዶደግሞ ምን አገባዎትና ! ከእሱ ጋር ከሚዶልቱት ሰዎች\\n“ውስጥ አንዱ እርስዎ ኖት ይባላል ። ለምን አርፈው አይቀመሙጡም'?፤»\\nአላቸው እየገላመጣቸው ።\\n\\n«ምን ነው አያገባኝ ! ያገባኛል እንጂ ። ሰው በጎ ሲያስብ ትከታትሎ\\nማጥፋት ዶግ አይዶለም ። ሲሆን ማበረታታት ያስፈልግ ነበር ። አኔም\\nበጊዜዬ ጭትተባባሪ ባገኝ ኖሮ ይህ ትምህርት ቤት እስካሁን በጥሩ ሁውኔታ\\nበተሰራ ነበር ። ቢያቅትሜ ዶሞ ለመተባበር ልስነፍ ?> ሕሎት ፤ ሳል\\nእፍን እድዶረጋቸው ።\\n\\n«በማያውቁት ነገር ገብትው አሁን ባይናገሩ ምናለበት >\\n\\n«ነግሩን አሳምሬ አውቀዋለሁ ። ትንኮል ነው ። ሌላ አይዶደለም ።\\nዌንሰራ ወይም አናሰራ ፤ ትንኮል ብቻ ። አንትስ ብትሆን ነገሩን መቼ አጣ\\nሙ 7?>\\n\\n. ፍየተንኮል ተባባሪ ነህ ሊሉኝሜኝ ይሆን 7>»\\n«ምን ቆርጦሜ። ቤታችንን ታውቀዋለህ ማለቴ ነው እንጄጁ-.› .>\\n«<ጡረታዎን በጤና ቢጠባበቁ ምናለበት !>\\n\\n«የመምህር ጡረትኛ የለውም ። ሳስተምር ክፍል ውስጥ ነው የምሞ\\nተጉትው ። ስለ ዋስትናው ልፈርምና እንሂድበት» አኣሉት ።\\n\\n«ማድ የለም ። እኔ ዋስ እሆነዋለሁ» አለ ታፈስ ።\\n«ጌታዬ አንተ ዋስ ክሆንክው በዶስታ» አለ የመቶ አለቃ ።\\n\\nከኤስር ዴቂቃ በሁዋላ ሶስቴቱም ተያይዘው ክመቶ አለቃ ኣቨሽኔ ቢሮ\\nወጡ ።\\n\\nከፓሊስ ጣቢያው ቅፕር ማግበ. እንዶ ወጡ ፡ «ተንኮል ነው እኮ>» አቶ\\nጣሴ ፤« ኗደለማስፈራራት የትዶረገ ተንኮል ነው ። የሚያሳዝነው ደግሞ አሽኔ\\nየይርጋ መሳሪያ መሆኑ ነው ።=»\\n\\n«ኖዮትሳሰረ የጥቅም ግንኙነት እንዳላቸው ?» አለ ታፈስ ።\\n\\n«ኤብረው ቡና ሲነግዱ « ሲጠጡና ሲበሉ ነው የሚውሱት ። የወረዳ\\nገዥውም ቢሆን የእነሱ ግብረ አበር ነው ። ባያውቀው ነው እንጂ ይርጋ\\nለእሱም አይተኛ ። ተንኮል ብቻ ! አብሮ.ከመብላት * ከመጠጣትና ሰው\\nከማማት- ሌላ አብሮ መስራትን ፤ ላንድ አሳማ መሰለፍን አያውቅም ።\\nክነፈሰሙ ጋር አብሮ መንፈስ ። ክበሮ መደለቅ ። ሸርተት ሲል ምሳሩን\\nማብዛት ። ተንኮታኩቶ እስኪወድቅ ድረስ እየተከታተሉ መጥለፍ ፥ ግብ\\n\"},\n",
       " {'page_number': 95,\n",
       "  'text': '94 ሀዲስ\\n\\nአት መሬቱን ማጣደዶፍና ቃሬዛውን ባስር ሳንቲም ምስማር ቸንክሮ በው\\nሸት ሀሠዘን ክንፈር መምጠጥ ። ያሳዝናል ስነ ልቦናችን ። ጠባያችን ሁሉ\\nእንዶጆ ስነ ግጥማችን ሰምና ወርቅ ነው» አሉ ። ቀጠሱና በችግር እየትነፈሱ፤\\n«አሁንም ቢሆን ይርጋ አይትኛልህም ። ካሁኑ መምህራኑን በተንኮል መከ\\nፋፈል ጀምሮፎሮአል ። ያው የተለመዶዴ ዘዴውን በመጠቀቅም ላይ ነው» አሉ ።\\n\\n«እንተ ግን በምንም ነገር አትደናገጥ ትስፋም አትቁረጥ ። እንደም\\nገምተው ከሆነ ፤ የዚህ ትምህርት ቤት ተስፋ አንተት ነህ ። ግድ የለም ፤\\nእኔም አለሁልህ ። ሌሎችም አሉ ። እኔን የሚቆጨኝ ነገር ቢኖር እንዳንተ\\nአፍላ ጉልበት በነበረኝ ጊዜ ተስፋ መቁረጤ ነው። አንተንም ሁዋላ እንዳይ\\nቆጭህ» አሉ አኢቶ ጣሴ ። ቀጥለውም * «በሉ እናንተት ተጫወቱ ። እኔም\\nወደ ቤቴ ልግባ» ብለው ሄዱ።\\n\\nከአድማስ ስር ያቆለቆለችው ፀሀይ እንዶ ባህር ቀዝቅዞና ጠለቅ ብሎ\\nከተንጣለለው ሰማይ ላይ የቅለጠ ወርቅ የምታፈስ ትመስላለች ። የወፍ\\nመንጋዎች ለመስፈር ወደ ገባ በረሃ ይበራሉ ። የነፃነት ፀአዳ ሸማ ፥* ሰላም\\nላንቺ ትሁን አለና በልቡ ፤ ወደ ላይ አሻቅቦ ወፎቹን በአይኑ ላንዳፍታ ተከ\\nትላቸው ። አንድ ዴደቂቃ የጨለማ ተስፋ ቢስ ህይወት ። በሌላ ደቂቃ ልብ\\nሙሉ የፈካ ተስፋ ። ህይወት ክንፍዋን ዘርግታ ትበራለች ።\\n\\n«ጊዜ እኮ ቆማ ማንንም አትጠብቅም ። ምን እናድርግ ታዲያ ?»\\nአሕለው ታፈሰ ።\\n\\nጠብመንጃ ያነገቱ ሁለት ሰዎች በብር መረሻት የተንቆጠቆጠች\\nበቅሎ ይዘው ይጠብቁት ነበር ።\\n\\n«የገቢ እልሃለሁ» አለው ቀዝቃዛ አኣየር እየተነፈስ ።\\n\\n«የት አንሂድ ታዲያ ?» ብሎት ካንዱ አጃቢ ሽጉጥ ወስዶ ከጎኑ\\nሻጠና አሽከክሮቹን ሸኛቸው ። ፡\\n\\n«ዝናሽ ቡና ቤት --- የሱጴ ሂልተን ። ሌላ የት ይኬዳል ? ሱጴ አዲሳባ\\nመሰለችህ ? ሱጴ መሸት ካለ ወይ መኝታ ወይም ወደ ዝናሽ ቤት» አለው ።\\n\\n«አዲሳባ ያለሁ እየመሰለኝ ነው ። ያዳቆነ ሰይጣን ሳያቀስ በቀላሉ\\nይለቃል ብለህ ነው ?» ብሎ መለሰለት ።\\n\\nታፈሰ ሲራመድ ይፈጥናል ። ረጋ ብሎ መሄድ ፤ ረጋ ብሎ መናገር\\nአይሆንለትም ። አሳቡም ይፈጥናል ። ክምላሱ የሚቀድሙትን አኣሳቦች\\nለመግለፅ ኤንዳንዴ ይቸገራል ።\\n\\n«ትምህርት ቤታችሁ አንተን ፍለጋ ሄጄ ነበር ። ትናንት ከመሸ በሁ\\nዋላ ነው የሙጣሁት ። መንገድ ላይ ሁሉ ሳስብህ ነበር ። ትምህርት ቤታ\\nችሁ አቶ ይፎጋ ቢሮ ገብቼ ስጠይቅ ፡ “\"ፖሊሶች አሁን መጥተው ወሰዱት\"\\nአሎኝ% ። “ቕበምን ምክንያት ይሆን ?” ብሳቸው ፤ መጀመሪያ መልስ ሊሰጡኝ\\nአልፈለጉም = አጥብቄ ስጎተጉታቸው ጊዜ ፥ *ምን ይታወቃል ? የዘመኑ\\nልጆች አእጃቸውን የሚያስገቡበት ቀዳዳ ሕይታወቅም” አሉኝ ። “አይ እንግ\\n'},\n",
       " {'page_number': 96,\n",
       "  'text': 'ሠዲስ 95\\n«.ሎ‹ሙ›።. .ሖሒ.ሖ.ዐ.። 7፻ሻ፡፡ሠክ99809፪9ጐ4068፡99698፡በ፳86፡፡)88፡ዘሠ፡፡፡፡፡6)ጻቁ8፡ደክ፡ዘ‹ዘጩጩጭሠብ፡ከሀ፡ቿ፡‹›አጸጸፍዩየጸየዝ6453553አቹቹ አ ክ 0 ሼ ዖ 08ጐ፡ ዕ ስክ፡ዓ ዓ ፡ ል9 19 ቹ ና እ\\n\\nሳታውቅ ለምን ትሄዳለህ ? ሳይቸግር ጤፍ ብድር ! በከባድ ፖለቲካ ወን\\nጀል ተፈልጎ እንደሆንስ ? ዶሮ መሞትዋ ላይቀር ስትንዶሩፋደፍ ሰው ትበክ\\nላለች አሎ ። አርፈህ ተቀመጥ ወንድሜ ። በገዛ እጅህ መዘዝ አታምጣ”\\'\\nእያሉ ያከክላክሉኝ ጀሙር . . . ጭፍራዎ ሲያዝ እንዴት ዝም ይላሉ ? ባይ\\nሆን የትያዘበትን ምክንያት አውቆ ዝም ማለት ያባት ነው\" ብላቸው ፥\\n“ምናገባሜ ወንድሜ ። እሱም አርፎ የሚቀመጥ ስው አይምሰልህ ።\\nተንኮለኛ ነው ። የቄስ ልጅ አይደል ? አንትም የሚያገባህ ጉዳይ የለም ።\\nአርፈህ ትቀመጥ ። አሳ ጎርጉዋሪ ዘንዶ ያወጣል ይባላል ። የተፈለገበት\\nጉዳይ ክባድ ቢሆን ነው እንጂ ሰው በግ አይደል ዝም ብሎ ወደ ፖሊስ-\\nጣቢያ የሚጎተት? ሲሉኝሜ ካነጋገራቸው ነገር ሸተተሜና ስመጣ መንገግድ\\nላይ አቶ ጣሴን አገኘሁ ። አቶ ጣሴ በጣም ይወዱሃል ። ሳየው « የወጣትነ\\nቴን ዘመን ያስታውስኛል አሉኝ ። እድለኛ ነህ ። ዝነኛም ሆነሃል> አለሙ።\\n\\n«እንዴት 17»\\n\\n«ስምህን የማያውቅ የለም ። አሽከሮቼ ቅቕድም ስላንተ ያጫውቱኝ\\nነበር›... »\\n\\n. ሀዲስ ከታፈሰ ጋር እኩል ለመራመድ እየተቸገረ ፤* «ምን ብለው 17»\\nሲል ጠየቀው ።\\n\\n«ለጭቸገረ ሰው ሁሉ ማመልከቻ ስትፅፍ.ነው አሉ የምትውለውጮ ።\\nጉማሪዎችህም ኣሁን ገና ጥሩ አስትማሪ አገኘን እያሉ ያወራሉ አሉ ።\\nማን እያሎ ነው የሚጠሩህ አሉ? . . .አምን “ጋሼ ትአምር አያልቅ”? ። ሲያና\\nድዱህም*፤ ጥያቄ ሲጠይቁህም “ተአምር አያልቅ”? ትላለህ አሎ። ወላጆችም\\nባንተ መድዝ ማጉረምረም\\'ጀምረዋል አሉኝ....» .\\n\\nሀዲስ ቁና ቄና እየተነፈሰ * «ለምን ?5 አለው ”\\nታፈሰ እንዶ መበሳጨት እያረገው ፤ «ጥያቄ ታበዛለልህ ፲> አለ ።\\nሀዲጳሰ ፤ «አኣዝናለሁ» ብሎት ዝም አለ።\\n\\n«የድሀሠ ልጆችን ሰመርዳት የፕነባውን ሰው ምን ሕድርማግ ሲሉት ነው?\\nእያሉ ነሙ የሚያጉረመርሙችት» ብሎት ወዶ ፊት እየገሰገሰ ፤ «ኣንዯትዯ\\nያለብህ የመጀ፳ጆመሪያ ግዴታ ራስክን መርዳት ነው ። የራስህ ጌታ መሆን ።\\nጌትነኔት”“ሃለት ያለ አሳብና ያለ ጭንቀት መኖር ማለት ነው። ያለ አሳብና\\nያለ ጭንቀት መኖር ደግሞ የሚቻለው ብር ሲኖር ነው ። የራስህ ጌታ\\nስትሆን ድሄ ሌላውንም ልትረዳ ትችላለህ ። ገንዘብ ካለ በሰማይ መንገድ\\nአለ ።\\n\\n«ያለ ገንዘብ ሰው ሰው አለመሆኑን አይቻለሁ ። በኢትዮጵያ ውስጥ\\nባሁኑ ጊዜ. ሰው ማለት ብር ያለው ነው ። ስልጣንም ቢሆን ያለ ብር ዋጋ\\nየለውም። የሀይለ ስላሴ ባለስልጣኖች በብር ሲሸጡና ሲለወጡ ነው የሚው\\nሉት ። ህይወት ያለ ገንዘብ ምን ዋጋ አላት? አየህ ፡ አለም ብዙ የሚያጉዋጉ\\nቆንጆ ቆ>ጆ * ውብ ነገሮች ፊትህ ላይ ስታስዶንስ ትውላለች ። ታዲያ ያለ\\nገንዘብ አይገኙም ። ያለ ገንዘብ የህይወት ውብ ነገሮች አይገኙም ። ማግሩም\\nሻሂ ፥ ያለው ይጠጣል ፥ የሌለው ያፈጣል እንደዷ ሚባለው ነው ። ያለ ገንዘብ\\nከጥሩ የህይወት ምንጭ * ክህይወት ሻሂ ፉት ማለት አይቻልም> እያለ\\nብር ፤ ብፎ ፤ ብር ፤ ሲል ከዝናሽ ቤት ዶርሰው ሲገቡ የሚጨሰው እጣን\\nቡልቅ ቡልቅ እያለ ትቀበሳቸው ።\\n'},\n",
       " {'page_number': 97,\n",
       "  'text': 'ዜ ቪ..፡፡ክክከከ61498ምሙዴ ሸ\\nዝናሽ ከቡና ሲኒዋ ላይ ቅና ብላ የወርቅ ጥርስዋን ብልጭ አድደረገች ፡ሖ\\n\\n«ቀሃ ጄባ * አቦል ጄባ ፥ የሱጴዋ አድባር ትቀበለን አቦ> ብሎ ከዝናሽ\\nጎን ሄዶ ሻጥ አለ ታፈሰ ።\\n\\n«ውይ በሞትኩት ! በስማብ እቴ» ብላ አማተበች ።\\n\\n«ምን ታየሽ ? ዲያብሎስ ? ወይስ መላኩ ገብርኤል ?» አላት እየሳቀ ፤\\nነጭ ጥርሱ በጠፍ ጨረቃ ካፎቱ የተመዘዘ ስለት ይመስል ያንፀባርቃል ።\\n\\nዝናሽ አይን አይኑን እያየች ፥ «ቁርጥ እኮ ነው> ኣለች ።\\n\\n«ቁርጥ ማንን ? ዝኑ ዝናሽ ። ካዲሳባ ድረስ ዝናሽሸን ሰምተን መጣን ።\\n፪ዐስኪ ጀባ» አላትና ፤ ሲጃራ አቀጣጥሎ የጢስ ቀለበት እያክታተለ ይለት\\nመር ።\\n\\nታፈስ እያክከክታትለ የሚለቀው የጢስ ቀለበት እየሰፋ ሄዶ በንኖ\\nእስኪጠፋ ድረስ በአይኖችዋ እየተከተለችው * «ቁርጥ ልኡልዬን ።\\nየውቤ በረሃ ልኡል የምንለው ልጅ ነበር ። እንዳንት ቀይ፤ ፀጉረ ሱዕ4ጫ፥፣\\nመልክቀና ልጅ ነበር። አይጨዋታ ! አይ ዳንስ ። ታንጎውን ሆነ ሻልሱን፤\\nሩምባውን ሆነ ማምቦውን ፤ ቻቻውን ሆነ ማሪንጌውን * ሎንጋውን ሆነ\\nሳምባውን ፤ ቡጊ ውጊውን ሆነ ሮኩን ሲረገረገው ፤ አይ እናቴ ! እንዲ\\nያው ከሙ፲ሂቃውና ክምቱ ጋር አብሮ የተፈጠረ ይመስል ነበር ። ዋ እና\\nቴዋ! በተልይ ዳንስ *« በሌሪና ዳንስ የምትል ሙዚቃ በጣም ይወድ ነበር።\\nበዚያ ነጭ ልብሱ በቀይ መብራት እንደዴ አንዝርት ሲሾር ፤ ሲሽከረከር\\nልብን እያንሳፈፈ ይዞ ጭልጥ ይል ነበር- - . » ስችል-ፅ፦\\n\\n«ወዴት \"ጋ አላት ።\\n\\n«ወዶ ፍቅር አለም ነዋ ።ወዶ ሌሊት ውበት>» ብላ አንዴ አስካካችና ፤\\n«ከክልኡልዬ ጋር ደንሶ ከሌላ ጋር መደነስ እረ ኤዲያ ! እንዶ መራገጥ\\nነበር ። በጪያ ዳንሱ የሰው ልብ ይዞ ጭልጥ እያለ “ቁምቢ ብትይኝ አላሳዝ\\nንሽም ? በፍቅርቨሸ ጥም አርሬ ለምን ልሙትብሽ በዚህ በረሃ ?\\'እፀ በለስ\\nነሽ ። ልቅመስሽና ልኮነን በቃ\"7ሲል የውቤ ልጆች ልብ ፀሀይ እንዴ ነካው\\nቅቤ ቅልጥጋ» አለች ፤ ክፊትዋ ቆሞ የምታየው ይመስል ባዶው አየር ላይ\\nአፍጥጣ ።\\n\\n«አንዊስ 7» አላት ።\\n\\n<በኤእቕጭፉ ውስጥ ሙትት ። ሰርሳሪ ሌባ ነበር ።»\\n«የም ሌባ 7» አላት ።\\n\\n“«የሴጅ ልብ ሌባ ነዋ» አለኙው ።\\n\\n«ታዲያ እኔ ሌባ እመስላለሁ ?» ብሎ ታፈሰ በክንዱ ጎንዋን\\nወጋ አደዴረ.ጋት ። ድ\\n\\nአንድ ኤጨይነት ስሜት ሳይቀሰቀስባት አልቀረም ። ችና\\nወፍራም ሰውሙነትዋን በቀሳሉ ትሸክማ ተነስታ ፥--- ያ ዊ የከከጻቹ\\n\\nምዝቱ፡ ሲጀነን ያገር ልጅ ጅንኑ ተጀንነህ ና\\nበፍቅፎህ ካልቀዴስኩ ሌቱም አይነ፭፰ኝ ጫኝ\\nጅንኑ ያገር ልጅ ናልኝ አይናማው ጅንኔ በዝና\\n'},\n",
       " {'page_number': 98,\n",
       "  'text': \"ሀዲስ 97\\n\\nጅንኑ ካራዳ * ጅንን ካራት ኪሎ\\nጅንኔ በምሽት ትጀንነህ ናልኝ ች ከ ኝ ይ\\nበፍቅርህ ካልቆረብኩ ሌቱም አይነጋልኝ\\n\\nጅንኑ ያገር ልጅ ፍቅር ይቀሰሳል ከጊዮርጊስ በላይ\\nጅንን ሲል ሌቱቴ በጨረቃ ብርሃን ከውድቅቱ ላይ\\nጅንን ተጀንነህ ና እንቁረብ በፍቅር\\n\\nውቤ በረሃ ላይ በጊዮርጊስ ጥላ ስር\\n\\nጅንኑ ያገር ልጅ ልደታም ባትደርስ ተጀንነህ ናልኝ\\nካንተ ጋር ካልቆረብኩ ሌቱም አይነጋልኝ ።\\n\\nበትዝታ ቅኝት እየተወዛወዘች ከዘፈነች በሁዋላ ፥ «ሆይ ሆይ ቻቻቻ ፤\\nየኛ መደሰቻ» ብላ ዳንሱን ጭምር ስትለው ታፈስ ተነስቶ. ..ቻቻ..-\\nቻቻቻቻ እያሉ አብረው ዳንሱን ያቀልጡት ጀመር.--ቻ...ቻ..-\\nቻቻዐዐፀቻቻ፲፬፬ቻቻ፯፬፲\\n\\nበዳንሱ በሁዋላ * «እንደ ሰራ አይገድል» አለች እንባዋ ግጥም ብሎ ።\\n«ለመሆኑ ከውቤ በረሃ ሱጴ ድረስ ምን አመጣሽ ?» አላት ታፈሰ ።\\n\\n«ከውቤ በረሃ የወጣሁበት ታሪኩ ብዙ ነው ። ሱጴ ግን አንድ የታ\\nመመ ዘመድ ለመጠየቅ መጣሁ ። የታመመውም አልዳነ--እኔም እዚሁ\\n.‹ቅረሁ እልሃልሁ =ወ»\\n\\n«ጨካኝ አይዴለ ?>» አላት ።\\n«ማን ?» ስትለው ፥-፦\\n\\n«እግዜሩ ነዋ ። እንዴ ሰራ የማይገድለው።፤ ወጣትነትንና ሀብትን\\nሰጥቶ የሚነሳው> ብሎ እየሳቀ መለሰላት ።\\n\\nበውቤ በረሃ ከአራዳው ጊዮርጊስ ጥላ ስር እንደ ጥላ ኮብልሎ ያለፈ\\nውን የጅንኖችን ዘመን በታፈሰ ላይ እያየች ተቁዋጥሮ የቆየው እንባዋ\\nኮለል ብሎ ወረዶ ። እንዴ ታፈሰ አንጀቱ እጥፍ ያለ ጅንን ወጣት ባየች\\nቁጥር የጥንቴ ትዝ እያላት ሳይሆን አይቀርም እዝን ትላለች ። «በህይወት\\nመንገድ ላይ ተላለፍናት> ያለችው ትዝ አለው---ሀዲስ ። የህይወት ዋንጫ\\nሙሉ ትዝታ ። ግን ለምን በህይወት እናዝናለን ? እስካሉ ድረስ በህይወት\\nመኖሩ ራሱ ይበቃ የለም?አለ ።\\n\\nዝናሽ እንባዋን በነጠላዋ ጫፍ አድርቃ ለሀዲስ ቢራ ለታፈሰ ውስኪ\\nቀድታ ሰጠ፮፲፲፲፲።፲፲፶፡፲፲፮፲ኚ፻፲፮፲ነ ፣ ሀዲስን *ኗሽታዬ አንተን ፍለጋ እንደ ሄደች አልተመ\\nለሰችም» ብላ በጆሮው ሹክ አለች «\\n\\n«ለምጉ ?» አላት ።\\n\\n. «ምናው ፣ ድንጋይ እንዴ ወረወሩባት ወፍ ድንገት ብር\\nብጻ'ነው የመረናው ልጅ ላው ታፈሰ የተቀዳለትን ውስኪ ሳይቀምስለት\\nወደ ውጭ ኢረጨው ።\\n\\n«ውይ በሞትኩት ! ምናገኘሀበት ?» አለችው ዝና'ሽ ደንግጣ ።\\n«ላድባፎዋ ነው> ብሎ ሌላ እንዲቀዳለት እጁን ዘረ=2 # ድጋሚ ቀዳ\\n\"},\n",
       " {'page_number': 99,\n",
       "  'text': \"98 ሀዲስ\\n\\nችለት ።--እስዋንም ጋበዛት ። ለራስዋም ቀዳች ። ሀዲስ የተዶፋው ውስኪ\\nእያሰቆጨው ሀብታም ነኝ ለማለት ነው ? ጉረኛ ! አለ በልቡ ።\\n\\nደ<ለውቤ በረሃ ጅንኖች ዘመን» ብሎ መለኪያውን አነሳ ።\\n«ያራዳው ጊዮርጊስ ቁጣ በታትናኖናን ቀረ ልጄ» አለችና ቁና ተነፈሰች።\\n\\n«አንዱን ጅንን እንኩዋን ሳታስቀሪ እንዲያው ያሳዝናል» አላት አይ\\nኑን ከተንጠለጠለው ቦርሙመዋ ላይ ተክሎ ።\\n\\n«ክቡሬ ክቡሬ የንጉሱ አሽከር ባለ ጎፈሩ» ብላ ዝም አለች ። ከአገ\\nጭዋ ስር የተንጠለጠለው ስጋ ሁለተኛ አገጭ ያላት ያስመስላታል ።\\n\\nአንድ የክብር ዘበኛ ሻምበል ወዳጅ ነበራት ። ስለ እሱ ሀዲስን አጫ\\nውታዋለች ። ትዝ ሲላት ስለ ሻምበል አበበ ማውራት ትወዳለች ። ደጃች\\nውቤ ሰፈር ቆንጆ ሴት መጣች ወይም ቤት ከፈተች ከተባለ ይሞታታል\\nእንጂ የግድ እስዋን ማግኘት ነበረበት ። የታወቀ ጠቦኛ ስለነበረ በጊዜ\\nመጥቶዱ በር ያዘጋል # ጡንቸኛ አልነበረም ። እንዲን፦ው ሰውነቱ እንደዶደ\\nጅማት የከረረ ሰው ነበር ። ታዲያ ሴትዮዋን በጣም ወይደ:: - ቢባል ከሳም\\nንት በላይ ከቤትዋ አይቆይም ። ደግሞ ሌላ ቤት ሄዶ በር ያዘጋል ። ላንድ\\nሳምንት ይሞሽራታል ። ሴትዮዋ ከሻምበል አበበ ጫጉላ ቤት ገብታለች\\nይባሳል ። የዝናሽ ስም በውቤ በረሃ ተጋኖ መወራት እንደ ጀመረ ሄዶ በርዋን\\nአዘጋት። ሳምንት መጣ፤ሄደ። ወር ተተካ።ወራት አለፉ፡፡ ከዝናሽ ቤት ተኝቶ፡\\n«ያቀመሺኝ ቅጠል ምንድን ነው ማርከሻው ? ሌላ ሰው አስጠላኝ እስከ\\nመጨረሻው» እያለ ይዘፍን ጀመር ይባላል ። የኮርያ ጦርነት ሊያያቸው ።\\nእሱም አልተመለሰ ፥ እስዋም አልሆነላት ። በርዋ መከፈት ሲጀምር በውቤ\\nበረሃ አዳዲስ የምሽት ልእልቶች ተፈጥረው ቆዩዋት ። አንዳንዶቹ የዱሮ\\nአሻሻጮችዋ ነበሩ ። በደጅዋ እያለፈ የሚሄድ እንጂ ጎራ የሚል ጅንን አል\\nነበረም ። ከደጃች ውቤ ሰፈር ስትርቅ ስትርቅ ይኸውና ሱጴ ደርሳለች ።\\nከሱጴ በሁዋላስ ? የትም የምትሄድ አትመስልም ። ከህይወት ጋር የሞት\\nሽረት ትግል የምታደርግበት የመጨረሻ ምሽግ ! ተጉዘው ተጉዘው ከዝግ\\nመንገድ ላይ ሲደርሱ ወዴት ይኬዳል ? በትዝታ ጎዳና ወደ ሁዋላ . . . ወይ\\nሁዋሳ . . . አፈር እስኪነክሱ ድረስ.›-»\\n\\n- ወምን ነው ዝም አልክ ?ዝምታ ታበዛለህ ። የዝምተኞች . ቦታ ቤተ\\nስኪያን ጉዋሮ ነው» አለው ታፈሰ ነጭ ፲ፃርሱ፺ ካፎቱ እየመዘዘ ።\\n\\nሲሄድ ይፈጥናል ። ሲናገር ይፈጥናል ። ሲያስብ ይፈጥናል ። ስስ\\nከንፈሮቹን አሹሎ የሲጃራ ጢስ ቀለበት አከታትሎ ከለቀቀ በሁዋላ\\nአንዱ የጢስ ቀለበት በሌላው ውስጥ ገብቶ ሲጠፋ እያየ ፥ «ህይወት ጤዛ\\nናት ። ሳትረግፍ በፊት መደሰት ነው ። የዘለአለም ዝምታ ሲመጣ ይመ\\nጣል። ድምፃችንን ስንሰማ ነው እኮ መኖራችንን የምናውቀው» አለው።\\n\\n«ውስኪ እየረሙ መደሰትና መጮህ ነዋ !» አለው ሀዲስ በቀልድ።\\n\\n<አዎን፡፤ ውስኪ መርጨት የሚያስደስተኝ ከሆነ ለምን አልረጨውምቃ\\nብሎ ዮየውስኪ መለኪያዋን እያሽከረከረ ተመቻችቶ ተቀመጠና ‹'ፍ9ን\\nውስኪ ለመርጨት ገንዘብ እንዲኖርህ ያስፈልጋል ። --ገንዘብ ደግሞ\\nደስ በሚለን ነገር ላይ ካላጠፋነው የገንዘብ ጥቅሙ ፤ የህይወት ጣእሙ\\nምኑ ላይ ነው? በዚህ እለምላይየዘኖረውአኘድጊዜብቻነው፲ም\\n\"},\n",
       " {'page_number': 100,\n",
       "  'text': 'ሀዲስ 99\\n\\nተኛ እድል የለንም ። ገንዘብ ኖሮን ደስ የሚለንን ነገር ካላደረግን ደግሞ\\nኖርን ማለት መራራ ቀልድ ነው» ካለ በሁዋላ ሲያስብ ቆየና ፤ «ያለ ገንፀብ\\nደስታ አለ ቢሉህ አትመን ። የዋሾዎች ወይም የደካሞች ወሬ ነው ። ያለ\\nገንዘብ የሚገኝ ነገር የለም ። ሰው በመሰረቱ አላቂ እቃ ላይ የሚያተኩር\\nእንሰሳ መሆኑን አትርሳ ። የተራቡ ሰዎች ስለ እግዜርና ስለ አስርቱ ቃላት\\nቁጭ ብለው የሚያስቡና የሚፈላሰፉ አይመሰልህ ። የተራበ ወስፋት\\nለዚህ ጊዜ የለውማ ። የሚያስቡት ወስፋታቸውን እንዴት ሲያስታግሱት\\nእንደሚችሉ ነው ። ግን ስላሰቡት ብቻ ምግብ አይገኝም ። ይገኛል ወይ?\\nሙሴ የለማ ጣፋጭ መና ከሰማይ የሚያወርድ ። ዛሬ ገንዘብ ነው እግዜር ።\\nሀይል ነዋ ። ገንዘብ ሀይል ነው ። በሞትና በሽረት መካከል ያለውን ጥያዌፔ\\nጩስጆፔዐ ገንዘብ ነው ። ገንዘብ ካለህ በምድር ላይ የማትገባበት ገነት\\n፦።\\n\\nሀዲስ « «ለጥቁር ወርቅ» ብሎት የቢራ ጠርሙሱን አነሳ #\\n\\nእሱም * «ለጥቁር ወርቅ» አለና ውስኪውን ባንድ ትንፋሽ ጨልጦ\\nሌላ ሲጃራ ኣቀጣጠለ ።\\n\\nሀዲስ ታፈሰ ከአፉ ቡልቅ ቡልቅ እያደረገ በማከታተል የሚለቃቸውን\\nየጢስ ቀለበቶች በአይኑ እየሸኘ ፥ «ጨክነህ የምትመጣ አልመሰለኝም\\nነበሙጮ ሲለው ፡፥---\\n\\n«ለምን ?» ብሎ ጠየቀው ።\\n\\n«አለ አይደለም ? አንድ ነገር አደርጋለሁ ብለው ብዙ ሲናገሩ ሷያዴ\\nርጉት ይችጻሉ ። ያኔ ሳይህ የምትናገረው ራስክን ለማሳመን ያህል እንጂ\\nበእውነት እምነት አድሮብህ የምትናገር አልመሰልከኝም ነበርጋ» ብሎ መለ\\n\\nሰለት ።\\n\\nታፈሰ ከተቀዳለት ውስኪ ላይ ፉት አለና * «ልክ ነህ ። ሰመቁረጥ\\nቸግተቸግሬ ነበር።ጨክኖ ከሀይለ ስላሴ ቢሮክራሲ መውጣት ለቆየበት ያስ\\nራል ።\\n\\n«ለምን ?»\\n\\n«ስላሳልነበርክበት ምናልባት የምልህ ነገር ሳይገባህ ይችላል» ብሎ\\nንግግሩን በመቀጠል ፤፡ጾዩአየህ ፤ በሀይለ ስላሴ ቢሮክራሲ ውስጥ ነፃነት ተነፍ\\nገህ ትኖራልህ ። ሁሉንም እሺ ጌታዬ ትላለህ ። በጭፍን ስልጣን ታምና\\nለህ።ለጭፍን ስልጣን ትንበረከካለህ ። ከጭፍን ቢሮክራሲያዊ መመሪያዎ\\nችና ልምዶች ሌላ እውቀት አይኖርህም ። ከጭፍን የአሰራር ዘዴ ዝንፍ\\nማለት አይቻልማ ። በምጫረሻ በራስህ ላይ እምነት ታጣለህ ። ያኔ ኤክ\\nስፐርት ትዳላለህ ። የራስህ አስተሳሰብ የሌለህ እቃ ሆነሃላ» ካለ በሁዋላ ፤\\nአሳቡ ከምላሱ ስለሚፈጥን ሁለቱን ለማስተባበር ያህል ፍን ቆም\\nአድርጎ አማመጡንም አመቻቸና ፤ «እቃ ስልህ ውሸት ፥ ሰብቅ ፥* ቅጥ\\nፈትና አሉጣልታ የተካነ እቃ ማለቴ ነው ። ህሊና የሚባል ነገር የለም ።\\nቢኖርም የየዋሆች ልቅሶ ነው ይባላል ። ብልጦቹ ከፍ ያለ ዋ2 ለሚከፍል\\nለማንኛውም ባለስልጣን ይሸጡታል ። አንዱ በሌላው ይቀናል ፤ ይመቀ\\nኛል ፥ እና » በሰብቅ ፥ በውሸትና በአሉባልታ ሊያጠፋው ይነሳል ። በዚህ\\nአደ3ኛ ጨ<ታ ውስጥ ከላይ ለመድረስ የሚችሉት ጠንካሮች ወይም ጠን\\n'},\n",
       " {'page_number': 101,\n",
       "  'text': '400 ሀዲስ\\n\\nካራዶ ወይም ወገን ያላቸው ብቻ ናቸው ። የዳርዊን ቴዎሪ\\nሲውልቺየትይየሚፈልግ ሰው ካለ የሀይለ ስላሴን ቢሮክራሲ መ፶፺፰፲፲፲፲፪\\nይበቃዋል» ብሎ እንደገና ቆም ከማለቱም ሴሌላ * አቅማመጡንም በመ\\nወጥ ንግግሩን ቀጠለና * «ሴት ማቃጠርም አለ። ብልጥ ብልጡ እየ ቀመ።\\nወዶ ላይ ያሳልፋል ። በእቁባቶች ቤት እየተሰበሰቡ ማታ ማታ ኣብር\\nካርታ መደብደብ ፤ ክራር እየመቱ ወይም እያስመቱ ጉብልዬን መዝፈን)\\nውስኪ መጨለጥና ጮማ መቁረጥ መሾም ለሚፈልግ ሰው ሁሉ ግዴታው\\nነው።\\n\\n«ሁሉም መሾም ይፈልጋል ። አበሻ ሹመት ይወድ የለ? ሁሉም ለሼ\\nመት ይሞታል ። ሹመት የሚታየው ክሜያስከትለው ሀላፊነት አንፃር\\nሳይሆን በሚያመጣው ክብርና ገንዘብ አኩዋያ ነው ። ሹመትህ ከፍ ሲል\\nነዋ መኪና ፥ ቪላና መሬት የሚመጣው ። ጠዋት ጠዋት ግቢ እጅ እየነሱ\\nያዩትን ቪላ ፥ የከተማና የገጠር መራት መለመን ነው በቃ ። ስልጣን ካለ\\nበሰማይ መንገድ አለ ። ሊቅነትም የሚመጣው ከስልጣን ጋር ነው ። በስ\\nልጣን ሊቅነት ይህም አኣለ ለካ ብላችሁ የለ ? “ጠይቁ ታገኛላችሁ\\' ብሎ\\nየለ መፅሀፉ ። ለእግዜር ምን ይሳነዋል ? እጅ ካልነሱና ካልለመኑም እኮ\\nችግር ነው ። ጌቶቹ ፤ *“ይህ መናጢ የድሀ ልጅ ኮርቶ ነው እጅ የማይነሳንና\\nችግሩን የማይገልፅልን ? ምን አግኝቶ ነው እንዲህ የጠገበው ? እኛ አይደ\\nለንም ከትቢያ ያነሳነው ?\\' ካሉ መልሰው ትቢያ ያዶርጉታል ። ነገሩ እኮ\\nእግዜር ይሰጣል ፤ እግዜር ይነሳል ነው ።\\n\\n«ውሁሉም ሹመት ስለሚፈልግ ሲለምን ፤ ደጅ ሲጠና ፥ እርስ በእርሱ\\nእንዶ ቄራ ውሻ ሲናከስ ነው የሚውለው ። እንዶዚህ ያሉትን ሰዎች\\nዶግሞ ከፋፍሎ መግዛት ቀላል ነው ። ሽሜ ምኑ ሞኝ መሰለህ ? ሙዳ ስጋ ፤\\nጣፊያ * ልፋጭ ከክላይ ሲወረውር --- በቃ ---እዚያ ላይ እንዴ ቄራ ውሻ\\nጭራ እኖዋቆሉና ክራንቻ እያሳዩ መቦጨጫቅ ነው›» አለና ፤ መነሻ ነገሩ\\nስለ ጠፋው ፤*«ምን ለማለት ነበር ይህን ሁሉ ያመጣሁት?» ብሎ ጠየቀም።\\n\\n«ከሀይለ ስላሴ ቢሮክራሲ መውጣት ያስቸግራል በማለት ነው ”\\n«አዎ * አስቸጋሪ ነው ።»\\n\\n«ገፅታው እንዲህ አስቀያሚ ከሆነ ለምን ያስቸግራል ?›» አለው\\nሀዲስ ፤ የታፈሰን አሳብ መስመር ለመከተል እየተቸገረ ።\\n\\n«ፐንግትህ ድረስ ተዘፍቀህበት ከኖርክበት በሁዋላ ጥሎ መውጣቱ\\nያስቸግራል ። በራስህ ላይ እምነት አጥተሃላ ። የቢሮክራሲያዊ ህይወ\\nሁለተኛ ተፈጥሮህ ሆኖአላ» ብሎት አሁንም አቀማመጡን አመቻቸና\\nመለኪያውን እጁ ውስጥ እንደ እንዝርት እያሽሞነሞናት ፥ «የሚያሳዝነው\\nየተማረው ወጣት ሁሉ የመንግስት ስራ ፈላጊ መሆኑ ነው ። ሌላ ሾም\\nንም « ሹመት ነዋ ጭንቅላታችን ውስጥ ያለው ። የተማርነው ለመ ሆን\\nለመሙሸለም ይመስለናል ። በሁለት እግራችን ቆመን የራሳችን ጌታ ለመራ\\nአንፈልማም ወይም አንችልም ። ዘለአለም ሞግዚት ያስፈልገናል \"ሞት\\nሳችን ላይ እምነት የለንማ ። በዚያ ላይ ካራዳ ህይወት ርቆ መኖር ረት\\n፤ፆመ ስለናል ። ወኔ የለንም ። ድፍረት የለንም ። ኮስታራ ወኔና ዶኚ፤ፓና\\nያ ችውልድ ራሱንም ሆነ አገሩን ሊጠቅም አይችልም * ያውቦኃ+\\n፣ መ ልጣኔና ሀብት የተገነባው በማን መሰለህ ? በተአምር አዶይዶ\\nድፍረትና አርቆ ማስተዋል ባላቸው ሰዎች ነው» አለው*\\n'},\n",
       " {'page_number': 102,\n",
       "  'text': '፡ ሀዲስ 101\\n«ለደፋርነትህ ፅዋዬን አነሳለሁ» ብሎ የቢራ ጠርሙሱን አነሳ።\\n\\nታፈሰ አፀፋውን አልመለሰለትም ። ከት ብሎ ይስቅ ጀመር ። እንባ\\nእስኪወርዶውና ሆዱን እስኪያመው ድረስ ሆዱን ይዞ ሲስቅ ቆየና\\n«ማምቦ !» ብሎ ተነስቶ ማምቦ እየደነሰ ወደ ዝናሽ ሄደ ።\\n\\nሀዲስ ታፈስን ያሳቀው ነገር ምን እንደሆነ አልገባውም ። ሊገባውም\\nአልቻለም ። ነገሩ ተምታታበት ።\\n\\n«ቡምቡም...ቡቡቡምቡም. . . ሁለት ወደግራ ሁለት ወደ ቀኝ... .»\\n\\nየራስ አለም ፈጥሮ መደሰት ። ደስታ እንዳደረጉት ነው ። ያለፈውን\\nአለም አሁን እንዳለ አድርጎ ማየት ። ማን ነው በእውነታ አለም ውስጥ\\nየሚኖረው ? ያለፈውን ህይወት በማስታወስ ወይም መጭውን ጊዜ በመመ\\nኘት አሁን ያለውን እውነታ ለማምለጥ የሚደረግ ከንቱ ሙከራ---እያለ\\nበአይኑ ዳንሰኞቹን ሲከተል ሽታዬ መምጣትዋን አላየም ነበር ።-እስዋም\\nቤጧካዬፈጆናለ በዝናሽ ዳንስ እየሳቀች ፤ «ፖሊሶች ወሰዱት ሲሉ ሰምቼደንግጩ\\nነበር» አለችው ።\\n\\n«ዋስ ጠርቼ መጣሁ ። ዋስ የሚሆን ዘመድ አያሳጣ ማለት ነው» አላት\\n«ለምን ኖሮአኣል ለመሆኑ ?\\n\\n«ምንም አይደለም ። አንዳንድ ተንኮለኞች የሚፈጥሩት ችግማር ነው ።\\n፲፲፲፲ ላ፲፲፲፰፲፸፲፲፲ቡ መሰረታዊ ፍልስፍናችን አይደለም ወይ ? ምንም አይደለም?»\\n።\\n\\n«አንተን ፍለጋ የመጡ ሌሎች\"መአት:ሰዎች ነበሩ» አለችው ።\\n«እነማን ልጄ > አላት። -\\n\\n«አላቃቸውም ። ወላጆች ሳይሆኑ አይቀሩም ። ተማሪዎችህም በብ\\nዛትችነበሩ ። እስከዚህ ድረስ የሰው ፍቅር አፍርተሃል ለካ ፻» አለችው እየ\\nሳቀች ። ፡ 1\\n\\nየዝናሽ ዳንስ ሳይሆን አይቀርም የሚያስቃት ። ዝናሽ ስትደንስ እንደ\\nበሬ ሻኛ ትግላበጣለች ።\\n\\n«ያንቺን ልብ በምን የማረኩት መሰለሽ ታዲያ ?» ብሎ ቀለደና ፤«እነሱ\\nለኔ ያላቸውን ፍቅር ቅንጣት ያህል ፍቅር በልቤ ቢኖረኝ ምንኛ በታደልኩ\\nነበር ።ግን ፍቅር የለኝም።ልቤ ባዶ ነው ። ውስጤ ጠጠር ነው.. . .» ሲል\\nታፈሰ ተመልሶ መጣ ። 1\\n\\nአይኑ\\' ክሽታዬ!ላይ!አርፎ ነበር ። ሀዲስ አስተዋወቃቸው።\\n\\n«ውብ ፀጉር አለሽ ። ቆንጆ ፀጉር ያሳቸው ሴቶች ደስ ይሉኛል ። ቆንጆ\\nየሴት ፀጉር ሳይ ውስጡ ገብተህ ጥፋ ጥፋ ይለኛል» አላት ።\\n\\nሽታዬ እንደ ልጃገረድ ተሽኮረመመችና ወደዶ ዝናሽ ሄደች ። በአይኑ\\nተከተላት ። ሽታዬ የሚስብ አካሄድ ነበራት ።\\n\\n«ውስኪ ጄባ » አለ።\\n'},\n",
       " {'page_number': 103,\n",
       "  'text': '102 ሀዲስ\\n\\nቆፈር ቆፈር አደ\\nሀዲስ እንዴ ልማዱ በጣቶቹ ጠጉሩን ረገና ‹ፍ\\nእንዶዚ፮፲ ያሳቀህ ነገር አልገባኝም>» አለው። ቅድም\\n\\nኗ«ድፍረት የሚባለው ቃል ያስቀኛል» ብሎ እንዶ ገና ከት ብሎ ሳቆጊ\\n«ለምን ?»\\n\\n? ለምን ? ጥያቄ ታበዛለህ ። ድፍረት ብሎ ነገር! ባዶ ቃል\\nማን ዷጧፍረት ያለው ? እርሳው» ብሎት አቀማመጡን አመ ነፀ፰፲\\n«ይልቅ ማስተማሩን ትተህ ከኔ ጋር ብትሰራ ምን ይመስልሃል ? ብዬ\\nመሬት አለኝ ። ብዙ ድንግል መሬት ። ለኔና ላንተ ቀርቶ ለብዙ ይበቃል «\\nአብረን ሚሊዮኔሮች የማንሆንበት ምንም ምክንያት የለም» አለው።\\n\\n«እኔን ምን አስመረጠህ ?›» አለው ሀዲስ ፥ በነገሩ እየተገረመ ።\\n\\n«ጠባያችን የሚስማማ ስለ መሰለኝ ነው» ብሎት ሲጃራውን አቦነነና›\\n«እኔ እንዶምታየኝ ፈጣን ነኝ ። አንት ደግሞ ረጋ ያልክ ነህ ። በጣም ስፈጥን\\nልጉዋም ትሆነኛለህ ። አንተ ደግሞ በጣም ስታዘግም እኔ ወደ ፊት እስብ\\nሃለሁ ። ከዚህ የበለጠ ምክንያት ምን ያስፈልጋል ?» አለና ውስኪውን\\nጨልጦ ሴላ ሲጃራ አቀጣጠለ ።\\n\\nሀዲስ ጠጉሩን ቆፈር ቆፈር አድርጎ * «እኔ የራሴ እቅድ አለኝ» አለው።\\n\\n«ትምህርትህን ለመቀጠል ?» ብሎት አቀማመጡን እንደ ልማዱ\\nድንገት ለወጠና ፤ «እሱን እርሳው ። የሀይለ ስላሴ ቢሮክራሲ ከአፍ እስከ\\nገዴፉ በፓጽማሩ ሰዎች ጢም ብሎ ሞልቶአል ። መቀመጫ የለም ። ብታገ\\nኝሜም በስብሰህ ነው የምትቀረው ። ለሹመትና ለእድገት “ሀሎ”? የሚልልህ\\nዶህና ወገን ያስፈልግሃል ። ቅድም ያልኩት ነገር ነው እኮ ። ከመንስሥት\\nስራ ሌላ አይታየንም» አለ እንዴ መበሳጨት ብሎ።\\n\\n«እሱን ማለቴ አይደለም ።»\\n«ታዲያ ሌላ ምን እቅድ አለህ ?»\\n\\n«አዲስ ትምህርት ቤት ለመስራት አቅጃለሁ ። እቅዱን የማሜ ኖቀናብር\\nአንድ ኮሚቴም ተቁዋቁሞአል ። አዲስ ትምህርት ቤት ያስፈልጋል *\\nአሮጌው ሊሲፈርስ ነውቓ ሲል ፤ ታፈስ በሳቅ ፈነዳ ።\\n\\n«ምን የሚያስቅ ነገር አገኘህ?» ብሎ ጠየቀው ሀዲስ እንደዴ ልማዱ\\nረጋ ብሎ ። እርጋታ መቼም የታወቀ ጠባዩ ነበር ። ዝናሽና ሽታዬ እየተሳ\\nሳቁ ተያይዘው ወጡ።\\n\\n«በጣም -ነው እንጂ የ ኮሩትን\\nያህል ክት ብሎ ሳቀ ። ጂ የሚያስቀው» ብሎት * እንዴ ገና የኮረ\\n\\nአ\\nበማለት ሩን እንድንስቅ ቀልዱን ለኔም አጫውተኝ» አለው፤ ኮ\\n\\nታፈሰ ሳቁን አቆመና በቁም ነገርኩህም\\nእንጂ የትምህርት ኤክስፐር ነገር ፤ ‹ስማ ሀዲስ ፥ ኣልፃፇ ን “ሁት\\n. በትምህርት ፍልስፍናና አስጁ፮፪፪ ፰፰፱ሪ፻፸ ከኑሀዮ ዩኒክርሲቲ ያ\\n'},\n",
       " {'page_number': 104,\n",
       "  'text': \"- .....666..-:51-3\\n«እና ?» አለ ሀዲስ * ግንባሩን አጨማዶ ።\\n\\n«እና ፤ አንድ ከጭቃ የተሰራ ትምህርት ቤት በመስራት አይደለም\\nለኢትዮጵያ ችግር መፍትሄ የምታገኘው . . . » ከማለቱ ፦--- “\\n\\nሀዲስ አቁዋረጠውና ፤ «እድሜአቸው ለትምህርት የደረሰ ልጆች\\nየከብት ጭራ እየትከተሉ ሲቀሩ ዝም ብሎ በማየት ነው ታዲያ ?» አለው ።\\n\\nታፈሰ ተቆጥቶ ፤ «ስናገር አታቁዋርጠኝ ። ሲያቁዋርጡኝ አልወድም»\\nብሎት ተነጫነጨና ፥ «ልብ በል እስቲ ። እየው ፣ መንግስት በሽህ\\nየሚቆጠሩ የጭቃ ትምህርት ቤቶች በየቦታው መስራት የሚያቅተው\\nአይምሰልህ ። ይቻላል ። ግን ኢትዮጵያ አሁን ባለችበት የኢኮኖሚ\\nሁኔታ የትምህርት አላማ መሆን ያለበት ትምህርትን የማዳረስ ጉዳይ\\nአይደለም ። ትምህርትን የማዳረስ ጉዳይ በሁለተኛ ደረጃ የሚታሰብበት\\nነው ። እሱ ቆስ ተብሎ ይደረስበታል» አለና ፤ ሲጃራውን በፍጥነት ስቦ\\nባፍንጫው ጢሱን እያተነነ ፥0 «አሁን ኢትዮጵያ የሚያስፈልጋት ነገ ያገ\\nሪቱን ፖለቲካዊ 0 ማህበራዊና ኤኮኖሚያዊ ህይወት ሊመሩ የሚችሉ\\nምርጥ ምሁራን በጥንቃቄ ኮትኩቶ ማፍራት ነው ። ይሄ ነው ዋናው\\nቁም ነገር ። በባእዳን ኤክስፐርቶች ስንመራ መኖር የለብንም ። የትም\\nህርት አሰጣጥ ፕሮግራማችን እዚህ ላይ ማተኮር አለበት ። ባሁኑ ጊዜ\\nትምህርትን ማዳረስ በሚለው አላማ ላይ ማተኮር ፤ አንዶኛ 9 ትምህርትን\\nበአይነት ዝቅ ማድረግ ይሆናል ። ሁለተኛ ፤ እና ፤ በጣም አዶገኛው ደግሞ ፥\\nእንዱስትሪ ሳይስፋፋ » ፍላንታቸውን ልታረካላቸው የማትችለውን\\nብስል ከጥሬ የሆኑ የስራ አጦች ሰራዊት መፈልፈል ይሆናል.። እንዳል\\nኩት ይህ ዝንባሌ ፤ ፖለቲካዊ አደጋና የማኅበራዊ ኑሮ ቀውስ በገዛ እጅ\\nመጋበዝ ነው ። ቢሮክራሲ የተማረውን ሁሉ ሲውጥ አይችልም» ካለው\\nበሁዋላ ነገሩን በማያያዝ ፤ «ለዚህም ነው'? መንግስት ሴክተር ሪቪው\\nወይም የትምህርት አጠቃላይ ጥናት የጀመረው ። ጥናቱ ተጠናቆ ለው\\nሳኔ ቀርቦአል ። እኔም በጥናቱ ላይ ነበርኩበት ። ግሩም ጥናት ነው ። አሁን\\nኢትዮጵያ ልገጠማት የትምህርት ችግር መሰረታዊና ዘላቂ መፍትሄ\\nየሚሰጥ ጥናት ነው ። የዚህ ጥናት አላማ ምንድን ነው ? ብትለኝ ፥* ባጭሩ ፥\\nብሩህ አእምሮ ያላቸው ተማሪዎች በፈለጉት የትምህርት መስክ ወደ ፊት\\nእንዲገፉ # የተቀሩት ደግሞ የእጅ ሙያ እውቀት አግኝሜተው ባሉበት\\nአካባቢ እጥቅም ላይ እንዲውሉ ፤ ራሳቸውንም ሆነ ህብረተሰቡን እን\\nዲረዱ የሚድደርግ ጥናት ነው ። መፍትሄ ይሉሃል ይሄ ነው። ጭቃ\\nቤት መስራት አይደለም መፍትሄው» አለና በአሳቡ የረካ ይመስል በረ\\nጂሙ ተንፍሶ የሞቀ ፈገግታ አሳየው ።\\n\\nሀዲስ በነገሩ ሲያስብበት ቆየና ፤ «አንድ ጥያቄ አለኝ» ከማለቴ\\nታፈሰ አቁዋረጠውና ፤ «አንድ ጥያቄ ካለህ ላጂስ ዘመን ጋዜጣ ላከው»\\nአለና ቀለደበት ።\\n\\n«እውሄቴን ነው ጅ\\n«እሺ ፤ ምንድን ነው ጥያቄህ ?»\\n«ትምህቹርት በሰፊው ቢዳረስ ለማን ነው አደጋው ?>»\\n\\n«ምን አይነት የጅል ጥያቄ ነው ? ላገሪቱዋ ነዋ !» አለው በእጁም\\nጭምር እየ+ተናገረ ።\\n\"},\n",
       " {'page_number': 105,\n",
       "  'text': '404 ሀዲስ ርዓውን ው\\n\\n«አይዶለም ። ራስክን አታታለው ። አደጋው ለገዢው ወገን\\nለገዛ አገሩ አደገኛ የሚሆን ህዝብ የለም> አለው ፍርጥም ብሎ ። ነው :\\n\\nታፈሰ ከመቀመጫው ዘሎ ለመነሳት እየቃጣው ፥ «ኤዲያል\\nሬሾሉሽኔነሪ ! ጭቃ ለጠፍ ለጠፍ ። ተምረናል የሚሉ ማይማን በኝበጃ፤\\nመፈልፈል ። ባንተ ቤት እንግዲህ ይሄው ነው መፍትሄው ?›» አለ እያላ\\nገጠበት ።\\n\\nሀዲስ መልስ አልሰጠውም ። ዝም አለ ።\\n\\n«ምን ዝም ያሰኝሃል ? ሬሾሉሽነሪ ከመሆንህ የተነሳማ ትምህርት\\nቤት ለመስራት ብቻህን ታጥቀህ ተነስተሃል ፤ ኤ ?»\\n\\n«ብቻዬን አይደለሁም ።»\\n«ታዴዲየ፻ስ ?»\\n«ህዝቡ ይረዳኛል ።»\\n\\n«አትቃዥ አቦ !?» ብሎት አቀማመጡን ከመቅፅበት ለወጠና ፤\\n«ህዝቡ አንተን መርዳት ቀርቶ-. ራሱንም መርዳት አልቻለም ። እሱን\\nአርሳው፡፡ ፍፁም ቅዢት ነው። የዩኒቨርሲቲ ተማሪዎችን ቅዥት ብትረሳው\\nይሻላል ። ይህ ህዝብ ምን እንደሆነ ታውቀቅዋለህ ?»\\n\\n«አንተው ንገረኝሜ» አለው ፊቱን አጨማዶ ።\\n\\nእንዶድ ልማዱ አቀማመጡን ለወጠና * «ገና በመካከለኛው ጭለማ\\nዘመን የሚኖር ህዝብ ነው» አለው ።\\n\\n«እንዴት 7?»\\n\\n«ሃይማኖቱ ከጅማት የከረረ ፤ ሰሎሞናዊ ሀሠረግ በሟሚል -ተረት\\nየሚያምን ፤ ያርባ ቀን እድሌ የተፃፈው ገና ስወለድ ነው ፤ ሰው ያስባል፥፤\\nእግዜር ይፈፅማል ፤ ምን አለፋኝ ? እሱ ያለው ላይቀር ፤ ለሁሉም ጊዜ\\nአለው ፤ ያለጊዜው አይዘራም * ያለጊዜው አይታጨድም ፤ ማንም\\nከተቆረጠልት ቀን ላያልፍ ፤ ለዚች ጠፊ አለም * እግረ መንገዳ?፡--\\nላጭር ጊዜ ለምንኖርባት ጊዜያዊ ኪራይ ቤት ማሰብ ከንቱነት ነኣ.,\\nእያለ በመካከለኛው ጭለማ ዘመን የሚኖረውን ህዝብ እለውጦዋኮሬ\\nማለት ቅዥት ነው» ብሎት ፤ አሳቡ ራሱ ስላሳቀው እየሳቀ * «ከቅዣ ለሁ\\nቅዥት ። አንድ የጭቃ ትምህርት ቤት በመስራት ህዝቡን እረዳውገ\\nወይም እለውጣለሁ ማለት ደግሞ የባሰ ቅዣት ነው» ብሎት ሰጃሥገን\\nማግ አድርጎ የጢስ ቀለበት እያከታተለ ከለቀቀ በሁዋላ * “*አበሻ\\nበከንቱ አታጥፋ ፤ይህ ህዝብ ያመሰግነኛል ብለህም አታስብ ሣ“ለሀም\\nአቃቂር ማውጣት እንጂ ማመስገን አያውቅም ። ያስታውሰኛል ሃራዎ\\nአታስብ ። የህዝብ የማስታወስ ችሎታ እድሜ አጭር ነው * ዕጾ!/ል።\\nዶግሞ ፤ እንዶ ገባኝ ከሆነ እንደ አቶ ይርጋ ያሉ ምቀኞች ተነሶተት ሠብሁጎ ።\\nያጠፉሃል = ለምን ብለህ ነው ጣጣ ውስጥ የምትገባው ? ቂዶ ኦትፀመት\\nይልቅ ቅዣዥቱን ተወውና ከኔ ጋር እንስራ ። እንዳንተ ያለ የተማረ- በሀር\\n፰፪፰ ስፈልገኛል ። የሚያነጋግረኝ ሰው እፈልጋለሁ # ኮድንቁር\\n\\nጥ ጳምጩ ብቻዬን መኖር አልፈልግም» አለው #\\n'},\n",
       " {'page_number': 106,\n",
       "  'text': 'ህዲስ 105\\n\\nሀዲስ ጠጉሩን ቆፈረና ፤ «ሁሉም ነገር አንተ እንዶደምትለው አይመ\\nስለኝም # አንተ የምታወራው ስለ ፊውዳሎች ነው ። ህዝቡ ግን ለውጥ\\nፈላጊ ነው ። እውነቴን ነው ። ቅዥት አይደለም ። እዚህ ከመጣሁ ጊዜ\\nምሮ እንኩዋን አይኔ ብዙ አይቶአል ፤ ጆሮዬ ብዙ ሰምቶአል ። አንድ\\n፤ርታ ይሰማኛል ። የለውጥ ትርታ ነው ። ይታየኛል» አለው ።\\n\\n«ምን አይነት ለውጥ 12\\n\\n«አላውቅም ። ግን ከትከሻው ላይ ተጭኖት ያጎበጠውን ሸክም\\nለማውረድ እንደሚፈልግ አውቃለሁ ።»\\n\\nታፈሰ እየቀለደበት *0 «ሶሻሊስታዊ ለውጥ ለምን አትለኝም ?\\nዩኒቨርሲቲ ውስጥ ይህንኑ አይደለም ስታቦኩ የምትውሉት ? የኤርትራ\\nአርነት ንቅናቄ የሚባለውም እዚያው ነው አሉ የተፈጠረው ። እና ፤\\nደግሞ ትደግፉታላችሁ አይደለም ?» አለው ።\\n\\n«የሀይለ ስላሴን ፊውዳላዊ ስርአት የሚገረስስ ከሆነ ለምን አይድዴገ\\nፍም ኦ› በማለት ጥያቄውን በጥያቄ ኮስተር ብሎ መለሰለት ።\\n\\nታፈሰ በመገረም ራሱን ክፉኛ ነቀነተና *0 «እሺ እሱስ ይገርሰስ ።\\nእኔም እንዳንጉተ ለውጥ ፈላጊ ነኝ ። ለውጥ የማልፈልግ አይምሰልህ ።\\nየድንጋይ ዳቦ ዘመን በምትሉት ጊዜ እኔም ለውጥ ፥ ለውጥ ከሚሉት ተማ\\nሪዎች ውስጥ አንዱ ነበርኩ» ብሎት አቀማመጡን እንዶ ልማዱ ከመቅዕ\\nበት ለወጠና * «በነገራችን ላይ ፤ በዩኒቨርሲቲ ኮሌጅ ተማሪዎች ተወክዬ\\nየኢትዮጵያድ ተማሪዎች አንድነት ማህበር የተባለውን ድርጅት በህንፃ\\nኮሌጅ ውስጥ ከመሰረቱት ተማሪዎች ውስጥ ነበርኩ ። በመንግስቱ ንዋይ\\nየታህሳስ ግርግር ጊዜ \"መሬት ላራሹ\" ብለው ስላማዊ ሰልፍ ካዶረጉት\\nቀንደኛ ተማሪዎች መካከል አንዱ ነ[ርኩ ።\\n\\n«አይናችንን የከፈቱልን በሀይለ ስላሴ ስኮላርሺፕ የመጡት ያፍሪቃ\\nተማሪዎች ነበሩ ። ጊዜው ተለወጠ ። ኦኛም ተለወጥን ። ከህይወት የም\\nታገኘው ልምድ ብዙ ነገር ያስተምርሃል ወ=\\n\\n«እንጆምን ያለ?ቋ ብሎ ጠየቀው ሀዲስ ።\\n\\n«መጀመሪያ ነገር ህዝብ ፤ ህዝብ ማለትን ታቆማለህ ። ምክንያቱም\\nህዝብ ሲባል የግለሰቦች ጥርቃሞ እንደ መሆኑ መጠን ሁሉም በፊናው\\nለራሱ ጥቅም የሚሩዋሩዋጥ መሆኑን ትገነዘባለህ ። እና ፤ የሰው ልጅ\\nበመሰረቱ በጎ አሳቢ እንዳልሆነ ታያለህ ። ህይወት ብዙ ነገር አስተምሮ\\nኛል ። ለሙጥ ፤ ለውጥ እያሉ መጮህ ቀላል ነገር አይምሰልህ ። የሰውን\\nተፈጥሮ ሌመለወጥ አትችልም መ\\n\\nሀዲስ ጠጉሩን ቆፈረና ፤ «ሰው ከንብረት ጋር ተፈጠረ አሉህ ? ከንብ\\nረት ጋር ይቀበራል አሉህ ? አንት ከህይወት አገኘሁ የምትለው ልምድ\\nየካፒታሊስቶች ስርአት ያመጣውን ባህርይ ነው ። እውነቴን ነው... .\\nስማኝ እንጂ . . . ይህች አለም የጋራ ንብረታችን ናት ። በጋራ ልንጠቀም\\nባት ይገባል . . . ስማኝ እንጂ - . - አስጨርሰኝ - . . ይሀች አጭር የሰው\\nልጅ ህይመት በተቻለ መጠን ለሁሉም ጣፋጭ እንድትሆን ከማድረግ\\n'},\n",
       " {'page_number': 107,\n",
       "  'text': 'ማ የለም ። ይህች አለም ሰጥቂቶቹ የሳቅ አለም ›\\n፤ፃ፲፰፡፪ነ የ፪፰፰ ጋጻኋም ፣0 ለብዙዎቹ ሲኦል ለጥቂቶቹ ገነት ብት ሆንላዖብኀዛ\\nዶስታ ሊኖረው የሚችለው የጋራ ደስታ ሲኖረው ነው-። የሰው መድሀኒቲ\\nሰው ነው ። ሰው ለተሻለ የጋራ ህይወት ፤ ለጋራ ዶስታ ራሱን ሊለውጥ\\nየሚችል ይመስለኛል» አለው #\\n\\n«አቤት ! አቤት ! እንዲህ አርጎም የለ» ብሎት አፌዘበትና ፤ «ጥ\\nክሽን ሪሌሽንን ምንድን ነው የምትሉት በዩኒቨርሲቲ ቁዋንቁዋችሁሮ፻፪\\nአለው ራሱን እያከክክ ።\\n\\n«የምርት ማንኙነችት» ብሎ ነገረው ።\\n\\n«አዎን ፥ ባንተ ቤትእንግዲህ የምርት ግንኙነት ሲለወጥ የሰው ተፈጥ\\nሮም አብሮ ይለወጣል ! አይ እናቴ ! እንዲህ አይነቱን ቀልድ ተወኝ አቦ ።\\nህልም ነው> አለ ታፈሰ ።\\n\\n«ግን ጥሩ ህልም ነው ። የቆየ የሰው ልጅ ህልም ነው። አንድ ቀን እውን\\nይሆናል ።ው\\n\\n«አታልም ያለህ የለም ። እድሜህን ሙሉ ልታልም ትችላለህ ። ግን\\nሶሻሊስታዊ ለውጥ በኢትዮጵያ ይመጣል ብሎ ማሰብ እብዶት ነው»> ብሎት\\nአቀማመጡን ለወጠ ።\\n\\n«ለምን ?» |\\n«ኦፋ ? እንዶ ህፃን ለምን ? ለምን ? ማለት ባታበዛ ምናለበት !»\\n«እሺ መ\\n\\n«የሀይለ ስላሴ ፊውዳላዊ አገዛዝ እንዳልከው ይገርሰስ እንበል ። ምን\\nድን ነው በእሱ ቦታ የምትተካው ? ሶሻሊስታዊ ስርአት ልትለኝ ነው!?\\nእብድ አትውን ። አሁን ያለው ስርአት ቢገረሰስ አገሪትዋ ምን ላይ ልት\\nወድቅ እንዶምችችል አስበህበታል ?» ብሎት ውስኪውን አንስቶ ከጨለጦጠ\\nበሁዋላ ፤ <አንተም ሆንክ ሌሎች ያሰባችሁበት አይመስለኝም ። በጣም\\nበጥንቃቄ የሚያዝ ፖለቲካዊ ሚዛን የሚያስፈልጋት ኣገር ነች *\\nየእምቡዋይ ካብ ስትሆን ለማየት የሚፈልጉ ብዙ ጠላቶች ዙሪያዋን\\nዋታል ። ዮየብዙ ጎሳዎችና ሃይማኖቶች አገር መሆንዋን አትርሳ # ይህ\\nሁሉ የፖለቷካ ጥበብና ሚዛን ያሻዋል ። ለውጥ ፥ ለውጥ ማለት ቀላል ነውጾ*\\nአለው ፤፡ምላሱን ያዝ እያደረገው ።\\n\\nጩና ለ፡ሂ፲፭ፔወዎ፪፯ር፲ ን ፭፲ነተኛ እንዴኝ፡ .»» ሶስት ሽህ ዘመን አንቀላ\\nሶስት ሽህ ዘመን ዝም ነው የምት\\nለኝ ፥ አይጆለም ?» አለው ፤ ጠ ንዔየቆ ዝ ፲ብለ፺ እንተኛ\\n\\nታፈስ ብስጭት አያሶፉ\\nልግም ማሴቴ አይደለኃድዐጩ ቱንጥር እያለ ፡ ኗ«ለውጥ ፈፅም\\nጄኮህስ ፻5\\nውጭ ያስፈልገና\\n«ምጉ አይነት ለዑፃል ።\\n'},\n",
       " {'page_number': 108,\n",
       "  'text': 'የ ጫ6\\n\\n«የመፃፍና የንግማግር ነፃነት ። የመሬት ይዞታ መስተካከል ። በህግ\\nተርጉዋሚና በህግ አስፈፃሚ ተቁዋሞች መካከል የስልጣን መከፋፈል ።\\nበህግ ስር የሚተዳደር ዘውዳዊ አገዛዝ ። እና ፤ ይህን ሁሉ ያቀፈ የሚያሻማ\\nህግ መንግስት» ብሎች መለኪያውን አንስቶ በንዴት ክውስኪው ትተጎነ\\nጨና *«አሁን የሚያስፈልጉን ለውጦች እነዚህ ናቸው።ግን ሮማ ባንድ ቀን\\nአልተገነባችም ። ጊዜ ይወስዳል ። ለውጥ ስንል ዶግሞ በታሪካችን ፤ በባህ\\nላችንና በልማዳችን ላይ የተገነባ ለውጥ መሆን አለበት ። ኢትዮጵያ ረጅም\\nታሪክና ሰፊ ባህል ያላት አገር ናት ። ይህንን ፀጋ እንዳሮጌ ቁና አውጥተን\\nመጣል የለብንም ። በራሳችን ላይ እምነት እንዲኖረን ያስፈልጋል ። መሰ\\nረት እንዲኖረን ያስፈልጋል ። መሰረት የሌለው ለውጥ ድቡሽት ላይ እንደ\\n፰፪፰ ፎጄዷ ከፍ እያለ በሄዴ ቁጥር አወዳደቁም እንደዚያው ፍፁም ይሆ\\n\\n=።\\n\\nሀዲስ ተራውን ሳቀበትና ፥* «ባንተ ግምት ህዝቡን የራበው የመፃፍ\\nነፃነት ነው ፤ እ ? የጠማው የንግግር መብት ነው ፥ እ ? ብዙሃኑን የኑሮ\\nሸክም የሆነበት የስልጣን አለመከፋፈል ነው ፤ እ ? ባንተ ቤት ዘጠና አም\\nስት በመቶ ማይም የሆነው ህዝብ ችግርና ብሶት የመናገርና የመፃፍ መብት\\nወይም በወረቀት ላይ የተፃፈ ህገ መንግስት ነው፤እ? ታስቃለህ ። በእው\\nነት ታስቃልህ» አለውና የፌዝ ሳቅ ፊቱ ላይ ሳቀበት ።\\n\\nታፈስ ጥርሱን ነክሶበት ፤ «ባንት ቤትስ ?ፐ2”አለው ።\\n\\n«ህዝቡ የሚፈልገው ከብዝበዛና ከጭቆና ራሱን ነፃ ኣድርጎ ከማይ\\nምነት ፥ ከእጦትና ከበሽታ መላቀቅ ነው # የተበዘበዘና የትጨቆነ ህዝብ\\nምን ጊዜም ቢሆን መሰረታዊ ፍላጎቱ ነፃነት ፥ እኩልነትና ፍትህ ነው ።\\nእነዚህ ደማሞ ያለ ስር ነቀል ለውጥ አይገኙም ። ህዝቡ ለቅንጦችት ነፃነት\\nደንታም ሆነ ጊዜ የለውም !» አለው ድምፁን ሳይወድ በግድ ከፍ አድርጎ ።\\n\\n«ለሶሻሊዝም ነዋ ደንታ ያለው !» አለው ፥ የምፀት ፈገግታ ከፊቱ\\nላይ ለጥፎ ።\\n\\n«ለድሪቶ አሳብና ለተደረተ ለውጥ አይደለም» አለው ሀዲስ ፥ አሁንም\\nሳይወድ ድምፁ ከፈለገው በላይ ከፍ እያለበት ።\\n\\n«ቂል ሆንክብኝ» ብሎ ምርር በማለት ታፈሰ ንግግሩን ጀመረ ፣\\n«ሶሻሊዝም ሲባል ትርጉሙ የገባህ አይመስለኝም ። እኔ ሶሻሊዝም የምለው\\nሰው ሰርቶ የሚያድርበትን ስራ መፍጠር ነው ። ግን ስራ መፍጠር አትች\\nሉማ ። በዮኖትኛው እውቀት ? ቁጭ ብላችሁ ስር ነቀል ለውጥ እያላችሁ\\nመጮህ ይዯቶላችሁዋል ። የፀረ-፦-ስራ ሶሻሊስቶች ሙኸት ሰልችቶኛል ።\\n\\nኗበነዝ “ወዶ ሁዋላ ቀረን ፤ የስልጣኔ ጭራ ሆን * ትናንት\\nነፃነታጥውን ፰፩ጎላዷዙ ያፍሪቃ አገሮች እንኩዋን ቀድመውን ሄዱ ፪\\nስለዚህ ስር ነቀል ለውጥ ያስፈልገናል” አይደለም ወይ የምትሉት ? ማን\\nለውጥ ስለ መጣ የግድ እድገት የሚከተል ኣይምሰልህ ። የእድገት ችግሩ\\nምርት አይደለማ ። ችግሩ ህዝቡ ያለው የማምረት ችሎታ ነው ። ሁዋላ\\nቀርነት ምን ማለት እንዶሆነ ይጋባሃል ? የሁኖዋላ ቀርነት ትርጉም በመሰረቴ\\nየአእምሮ ውዋላ ቀርነት ማለት ነው ። እና *# ሶሻሊዝም ስታመጣለት ህዝቡ\\nምን የሚጋራ መሰለህ ? እልም ያለ ድህነት “ ሴላ ምን ሊጋራ ይችላል ?\\n'},\n",
       " {'page_number': 109,\n",
       "  'text': \"‹6ሀዳስ....ሙኢሙኢሙ-ኢ.ኡሎጵሙኡሠ8ጩጭችትዙ\\n\\nትጮሁ አሁን ምናለበት ! ባዶ ህልማኙ\\nዝም ብላችሁ በምድሬ በዳባ ርሸሲቲ ባዶ አየር ላይ ብት ሁን,\\nየቂሎች ጎነታችሁን እዚያው ዩዴረኪያ ወ አንስቶ ወ ስኪውንረጩ፤ዷጡ ።\\n\\n» ብሎ መ\\nቆሀ፪በ፰ጩ፪፲ ወሰ፲፲ጻ፲፶ኑራ አቀጣጥሎ እያከታተለ የሚለቃቸውን የጭስ ቀለበ\\nቶች በቀሉ አይኖቹ ይመለከት ጀሙር “\\n\\nን መቆፈር ሳይሆን ቡጭር ቡጭር አድረገና ፥ «የ\\nሀልም፲፭፲፱ዲ፪ጨ፮፲ሲ ያስቀኛል ። አፍንጫ እየቆጠሩ በቁጥር መጫወት\\nያስቃል ። ለብዙሃኑ ህዝብ--ብተለይ በአእምሮ ወደ ሁዋላ ቀርቶአል ለም\\nትለው ህዝብ--የስልጣን መከፋፈል * የንግግርና የመፃፍ መብት ፥ ህ1\\nመንግስት የምትለው ባዶ ኩዋኩዋታ ሁሉ ምኑም አይደለም ። እሱ\\nየቡርዥዋ ካፒታሊስቶች ህልም ነው ። የብዙሃኑ ህዝብ ህልም አይደለም።\\n\\n«የብዙሃኑ ሀልም እውነተኛ ነፃነትና እኩልነት ነው ። አዎን ፥ እንዳ\\nልከው ድህነቱን ለተወሰነ ጊዜ ይጋራ ይሆናል ። ያንዳንድ ጥጋበኞችን\\nግሳት ከመስማት አብሮ መደህየት ይሻላል ። አብሮ የተሰቃየ ህዝብ አብሮ\\nመደሰቱና መበልፀጉ አይቀርም ።\\n\\n«ካፒታሊዝም ብዙሃኑን ህዝብ ከማይምነት * ከእጦትና -ከበሽታ ነፃ\\nሲያወጣ በ፡ዩኔክ አላየንም ። የታሪክ ቀስት የሚያመለክትው ወደ ሶሻሊ\\nዝም ነው። ዋታሪክን ጎማ ወደ ሁዋላ ለማሽከርከር ማንም አይችልም !»አለ።\\n\\n«እና # ሶዥሊዝም አገራችን ይመጣል ነው የምትለው ! ብሎ ታፈሰ\\nበሳቅ እንደግና ፈነዳ ። ሆዱን ይዞ የኮረኮሩትን ያህል ከት ብሎ ሳቀ ። ሳቁ\\nአላባራ ስላለው ሳቀ ። ሀዲስም የታፈሰ ሳቅ ስላሳቀው አብሮት ይስቅ\\nጀመር ። ታፈሰ ስቆ ስቆ ሲያበቃ :-\\n\\nደህና ሁኝ አራዳ\\n\\nየኔ ፅጌ ረዳ\\n\\nተለያየን በቃ ደህና ሁኝ አራዳ\\nጥቁቂሩ ወርቅ ጠርቶኝ ወጣሁ በማለዳ\\nደህና ሁሜ አራዳ\\n\\nየኔ5 ዕጌ ረዳ\\n\\nዳ ዳ ዳዳዳዳ - - . እያለ ሲንገዳገድ ተነስቶ * እየተንገዳገዶድ ብቻውፎ\\nቻቻ ዳንስ ይደንስ ጀመር ። ዝናሽና ሽታዬ አልነበሩም ። የሁለቱም ውሶ\\nእንዴ ተቀዳ ቀርቶአል ።\\n\\nር\\n«ዳዳ . . . ዳዳዳዳ . . .ጥቁር ወርቅ ሲፈነዳ.. ፬ቻቻቻቻ፲፬፸ብ\\nበስልቻ . . .» እያለ ሲደንስ ከቅየ በሁዋላ ፥ ሽጉጡን መሾ ሲዝ፰፻፭፰\\nመጣና በተኮላተፈ ምላስ ፥ «ከኔ ጋር ሚሊዮኔር መሆን አትፈልግም '\\nአለው ሽጉጡን ሀዲስ ግንባር ላይ ደግኖበት ።\\n\\nየሽጉጡ አፈ-ሙዝ ቀዳዳ ከመጠን በላይ ሰፍቶ ታየው ።#\\n«ካፒታሊዝም]1ባንተ ቤት ሙሞፍዋች ነው ‹፥ ኤ ?»\\n\\nሀዲስ ቀስ ብሎ ከሽጉጡ አፈ- ዞር አደረ? ፀቀ።\\nቃዛ ላብ ጀርባውን አሰመጠው « “መሙገዘ ሏይ ፌቴን\\n\"},\n",
       " {'page_number': 110,\n",
       "  'text': '699፡9፡9፡9.5፡55.፡ ው ፡ ...፡\\n\\n«እና ፥ ባንተ ቤት የታሪክ ቀስት የሚያመለክተው ወ\\nነው፤ኤ?እና ፤ ባንተ ቤት እኔ ከዚህ የመጣሁት ህዝቡን ሪ ዴ ፶፪ቃ፯ገ፲፲፩\\nአንተ ደሞ የቆምክው ለህዝቡ ነው ፤ ኤ ? አንድ ጭቃ ቤት በመስራት ።\\nኦሀ፲ዘ፲፲፭፶ል ጪዐዬላሱእዔ ራፎ፺፻፤፰፲ ስብ ጀጅግና ነህ።እኔ ደሞ ባንተ ቤት\\nለ የምወድ ፦.ግብግብ ነ ተ\\nእኔ ወኔ የሌለኝ ፈሪ ነኝ ፤ ኤ ?» ። ቼ ። ባንተ ቤት\\n\\nሀዲስ ከግንባሩ ላይ መንጠፍጠፍ የጀመረውን ተዝቃዛ ላብ በእጁ\\nቀስ ብሎ ጠረገና ፤* «እንዲህ ያለ ነገር አልወጣኝም» አለው ።\\n\\n«አሁን የምንጫወተውን ጨዋታ ታውቀዋለህ ?»\\n«አላውቀውም ። ግን ጥሩ ጨዋታ አይደለም ።»\\n«የሞት ጨዋታ ይባላል ።»\\n\\n«ደዴስ አይልም ።»\\n\\n«ሞትን.ትፈራለህ ?»\\n\\n«ለምን አልፈራም ? ህይወት ምን እንዶ ሆነች የማያውቅ ብቻ ነው\\nሞትን የማሚማይፈራው.-... .»\\n\\n«ምንድን ነች ህይወት ?»\\n\\nሀዲስ አቀርቅሮ ዝም አለ ። የሽጉጡን አፈ-ሙዝ ቀዳዳ ባየ ቁጥር\\nአፉ እየሰፋበት ይሄድ ነበር ። ጭለማው ቀዳዳ የምፀአት ቀን ቁዋንቁዋ\\nየሚናገር ይመስላል ። በቀዳዳው ውስጥ ወዶ ዘለአለማዊነት የሚያስገባ\\nጭለማ በር ተከፍቶ ታየው ። ፲\\n\\n«ንገረኝ እኮ ። ምንድን ነች ህይወት ?»\\n\\n«ህይወት ላንዱ ሚሊዮን ብር፤ለሌላው ጭቃ ቤት ናት። ጥቁር ወርቅ\\nጭቃ ቤት ። እንዶ ሁኔታው ነው» አለው ።\\n\\n«ጅል ! እንደሱ እንድትለኝ አልነበረም የፈለኩት ።ጅ\\n\\n«ምን እንድልህ ኖሮአል የፈለከው ?»\\n\\n«ህይወት ርግማን ናት እንድትለኝ ነበር ።»\\n\\n«ለኔ የተባረከች ናት ።»\\n\\n«እና ፤ መኖር ትፈልጋለህ ?»\\n\\n«አምን ፥ መቶ አመት ። ቢቻል ከዚያም በላይ. ..»\\n\\n«ለምን 7»\\n\\n«ሞች ካረጀ አጥንትና ከተጨማደዶደ ቆዳ ሌላ የሚዘርፈኝ ነገር እንዳ\\nይኖረው ኔዋ ።»\\n\\n«ሞጅችንም ልትረታው ትፈልጋለህ ፤ ኤ ?»\\n\\n«ቢቻለኝ ለምን አልፈልግም ? ሞትን ድል የማድረግ ፍላጎት በሁ\\nሉም ልብ ውስጥ ያለ ነገር ነው ። ማን ሞትን ይሻል ? ሰው ለህይወት ነው\\n-»\\n\\nየሚታገለው\\n\\nኣድ፣ ጋ ፈስ እንዶ ገ ነዳና የሸጉጡን አፈ-ሙዝ ወደ ጣራው ቀና\\n“ድርጎ ሁልት ዷይጓና፻፭፲ነ፡ነ፰፡፫ሎ ተኮሰ ። «በቃ ገዴልኩት ሞቶአል» አለው።\\n\\n«ማ> ነው የሞተው 7?»\\n'},\n",
       " {'page_number': 111,\n",
       "  'text': '110 ሀዲስ\\n\\n«ሞት ። ሞትን ገደልኩልህ» ሲል ዝናሽና ሽታዬ ተከታትለው እየ\\nሮጡገቡ።\\n\\n«ምንድን ነው እሱ ? በሞትኩት ምንድን ነው \"» ትል ነበር ዝናሽ ።\\nሁለቱንም እንደ ትንግርት እያየች ።የወደቀ ሬሳ አልነበረም ። ወከክ ብሎ\\nየሚነደውም ማሾ የሚያሳየው ጉድ አልነበረም ።\\n\\nታፈሰ በሳቅ እየተንከተከተ ፤ «እሱን ነበር የምንጫወተው» አላት ።\\n«ምኑን ?›» አለች ፥ በአይንዋ ይጫወቱት የነበረውን ነገር እየፈለገች ።\\n\\nየሽታዬ አይን ተጎልጉሎ ሊወጣ ደርሶአል ። የተተኮሰባት ሚዳቁዋ\\n\\nይመስል ደንግጣለች ። ለመጮህም ይቃጣት ነበር ። አንዴ ወደ ሀዲስ ፤\\n\\n. ዶኘፏሞ ወዶ ታፈሰ ትመለከታለች ። የፈሰሰ ደም አልነበረም ። የባሩድ ታ\\nብቻ ነበር ።\\n\\n«የሞት ጨዋታ ። የሞት ጨዋታ ተጫውተሽ ታውቂያለሽ ?» ሲል ፤\\nታፈሰ በፊት የሸኛቸው ሁለት አሽከሮች ከየት እንዴ መጡ ሳይታወቅ\\nገብተው “ሸጉጡን ከእጄጁ ቀሙት ።\\n\\n«ህይወት ጨዋታ ነች ። የሞት ጨዋታ ። ከሞት ጋር የድብብቆሽ\\nጨዋታ ። ኩኩሉ አልነጋም ። ጭቃ ቤት ፤ ኤ? ሀሀሀ ሆሆሆ....»\\n\\nሰዎቹ ግራና ቀኝ ደግፈውት በግድ ይዘውት ሲወጡ :>=\\n\\nደህና ሁኝ አራዳ\\nየኔ ፅጌ ረዳ\\n\\nሽው ሽው ባራዳ\\nቀረ በማለዳ\\nዳዳዳዳ\\n\\nጥቁር ፭ርቅ ሲፈነዳ\\n\\nብር በስልቻ... እያለ ሲጮህ ፡፥---\\n\\nድምፁ እየራቀ ፤ እየራቀ ከጭለማው ጥልቀት ውስጥ ይሰማ ነበር ..-\\n'},\n",
       " {'page_number': 112,\n",
       "  'text': 'ክፍል ፳\\n\\n[ጢ]\\n\\nጡዋት ከ |ለዳ ሽታዬ ሀዲሰን ከጣፈጠ እንቅልፉ ቀሰቀሰችው ።\\n«ስንት ሰአት ነው ?» አላት እየተነጫነጨ ።\\n«አስራ ሁለት ሰአት ተኩል ነው» አለችው ።\\n\\nየጡዋት እንቅልፉን በጣም ስለሚወድ ማለዳ ሲቀሰቀስ ይነጫነጫል።\\nየማለዳን ጭጋግም ፤ ጭፍግግ ግራጫ መልክ ማየት አይወድም ። ያባቱ\\nዳዊት ባሳቡ ይመጣበታል ። የሚያዛጋ ቆፈናም ግራጫ አለም ይታየዋል ።\\nግራጫ ወርቅ የደረበች ፥ አንገትዋን በሀዘን የዘለሰችና በገዛ እንባዋ የራሰች\\nተፈጥሮ በአይነ ህሊናው ትመጣለች ። ጤዛ እኮ ተፈጥሮ ማለዳ የምታነ\\nባው የሀዘን እንባ ሳይሆን አይቀርም ይላል ። የማለዳ ውበት ከምኑ ላይ\\nእንደሆነ አይገባውም ። የሚያዛጋ ግራጫ ፥ ቀዝቃዛ አለም ። ወፎች ማለዳ\\nዝማሬ የሚያቀልጡበት ምክንያት ምስጢር ይሆንበታል ። ማለዳ ፥ ሰወ\\nፎች ፤ ለመንገደኞች ፥ ለለማኞችና ለመርዶ ነጋሪዎች ነው ይሳል ።\\n\\nጭንቅላቱ የከበደው ይመስል በሁለት እጆቹ ደግፎት ቁጭ ብሎ ቀረ።\\nማለዳ ባዶ ጭንቅላቴ እንደ ድንጋይ ይከብደዋል ። እንደ አንዳንድ ሰዎች\\nቶሎ ነቅቶ እንደ ወፍ ብር ብሎ መሄድ አይሆንለትም ። ፍዝዝ ብሎ ይቀ\\nራል ። አስሬ ያዛጋል # ሰው እለቱን የሚጀምረውና የሚጨርሰው በማዛ\\nጋት መሆኑ ይገርመዋል ። እሱ እያዛጋ እንደ ቀንድ አውጣ ሲጎተት ጊዜው\\n-ደግሞ እንደ ወፍ ክንፍ አውጥቶ ይበርበታል ።#እና ፥የሚይዘውና የሚለቀው\\nነገር እየጠፋው ተጨንቆ ይበሳጫል ።\\n\\nሀዲስ አዛጋና ሽታዬን ቀና ብሎ በቀሉት አይኖቹ ተመለከታት ።\\nዝጄዘ ቾ፵ ቆማለች ። በዚያ ጭጋጋም ሰአት ከእንባ አገር ተልካ የመጣች\\nመሰለ ።\\n\\nጠጉሩን እንደ ልማዱ ቆፈፌረና ፤ «የማንን መርዶ ልትነግሪኝ ነው በለ\\nሊት የመጣሽው ?» ብሎ ጠየቃት ፤ እየተነጫነጨ ።\\n\\n«ታፈሰ አንተ ከሄድክ በሁዋላ ተመልሶ አልመጣ መለለህ !» አለ\\nችው ፥ ለምቦጭዋን ጥላ ። አመድዋ ወጥቶአል ። ተኝታ ያደረች አትመ\\nስልፆ =።\\n\\nምን ሊያረግ ?» አላት ።\\n«ምን ለማረግ ይመስለሃል አንተ ስታስበው ?» አለችው ፤ ጥያቄው\\n፡ |\\n\\nአስቆጥቶአት\\n\\n«ምናውቃ ንቺው ንገሪኝ» አላት ጫማውን እያጠለቀ ። ሱሪ\\nን ከማጥለቁ ጩ ጁግፀጎ ማጥለቅ ይቀናዋል ። እና ፥ ሁልጊዜ የሱ\\n“ን እግር እጥፋት በጫማው ተረከገ ይተረትራል ።\\n'},\n",
       " {'page_number': 113,\n",
       "  'text': '412 ሀዲስ\\n፱ቃጎ\\n\\nቾርእኔኑ ፍለጋ ነዋ ! ሌላ ለምን ይመስልሃል?» አለችው እየተነግነ\\nጨ .\\n\\n«አንቺን ፍለጋ ? ለምን ?» አላት በነገሩ ሳያስብበት ። ማለዳ ሲነሳ\\nነገር ቶሎ አይገባውም ።\\n\\nከስር እጥፋቱ የተተረተረው ሱሪ የጫማውን ተረከዝ ይዞበት ሲነ\\nጫነጭ በትዝብት እያየችው ፤ «በሩን ካልከፈታችሁ ብሎ ሲሰብረው ሲል\\nከተከፈተለት በሁዋላ “ካንቺ ጋር ለማደር ነው ይህን ጨለማ በስካር ልብ\\nሰንጥቄ የመጣሁት ። መንገድ ስደርስ ጠጉርሽ ትዝ አለኝ\" እያለ ያስቸግ\\nረኝ ጀመር> አለችው ፥* ጣቶችዋን በንዴት እያንቁዋቁዋች ።\\n\\n«እናገ» ኣላት ።\\n\\n«አይሇንም ። እኔ የምወደው ሰው አለኝ ። ያም ሰው ጉዋደኛህ ነው\\nብለው ሊለቀኝ መሰለህ ! ጠጉሬን ጭምድድ ኢድርጎ ይዞ “እኔም ወንድ ነኝ።\\nከማን የማንስ መሰለሽ ? ወይስ የኔ ብር ዋጋ የለውም አሉሽ!?» ብሎ ያን\\nመከረኛ ሽጉጡን ሲመዝ ጊዜ እትዬ ዝናሽ ፈርተው ጥለውኝ ውልቅ\\nአሉ ። እኔም ለህይወቴ ፈርቼ ፤ ይኽውልህ ቁከሱ ጋር ለማዶደር ተገደድኩ ።\\nዋ ሴት መሆንሠህ ብላ ጣትዋን ቁዋ አድረገች ።\\n\\n«በውነት ባለጌ ነው» ብሎ ነቅቶ ልብሱን እንዶዴዶ ነገሩ ቶሎ ለባበሰና ፤\\n«አሁን የት ነው ያለው ?» አላት ።\\n\\n«አይ!እኔኮ እንድትጣሉ አይደለም ። ሱጴ መቼም እንኩጥዋን የሆነው\\nያልሆነውም ነገር ይወራልና ከሌላ ሰው ክመስማትህ በፊት እኔው ልንገ\\nርህ ብዬ ነው እንጂ ፤ የሞት ጨዋታ እንጫወት ክሚል እብድ ሰው ጋር\\nእንድትጣላሳ አይዶለም =።»>\\n\\n«የሞት ጨዋታ የሚለው ለጉራ ነው እባክሽ ። ህይወት ምን እንዶ\\nሆነች ሳያውቁ ስለ ሞት ትርጉም ማውራት ጅልነት ነው» ብሎአት ፤\\nሊወጣ ሲል ታፈሰ ብሩ በሩን ከፍቶ ሰተት ብሎ ገባ።\\n\\nሽታዬ «በሞትኩት !፻» ብላ ሮጣ ወደይ ጉዋዳ ጥልቅ አለች።\\n\\nታፈስ ቃል አልወጣውም ። እንደ መጣ ሄዶ ከሀዲስ ፊት ተንበረከኮክና\"፤\\n«እግዜር ካዴረጋቸው ስህተቶች ውስጥ አንዱ እኔን መፍጠሩ ነው ። መጥ«ፍ\\nነኝ ። ይቅርታ አድርግልኝ ። መጀመሪያ በነገር አስቀየምኩህ ። መገጥፍ\\nቀልድ ነበር ። ይኸው ሳያንስህ ደግሞ ሴትክን ቀማሁህ ። ከዚህ የቦሶጦ\\nበደል ምናል? ግን አናደኸኝ ነበር ። እና ፥ ያደረብሜን ቁጭት ለመ\\n\\nሴትክን ልቀቕማህ ፈለኩ ። ኣሁን ካላይሪዞ\\nልኝ አልነሳም» አለው ወ ግን ነገሩ አሳዝኖኛል ። ይቅርታ\\n\\nህዲስ መቼም ልቡ ምልስ ስለሆነ ይቅርታ አድርጎለት ታፈሰ ከተንቦሪ\\n\\nከከበት እንዲነሳ ትከሻ . ኩሀ\"\\nብሎ ጠ 2 ውን ይዞ እየጎተተው ፥ «ምን አድርጌ አናደድ\\n\\nተ ይ ና አበፎ፡ ? ከግፈሮቹ ኩብት መለለዋል ። የጾ።።\\n'},\n",
       " {'page_number': 114,\n",
       "  'text': 'ዴ == ዉ 1 ዓ13\\n\\n«በጣም ነው እንጂ ያናዶደድከኝ» ብሎ ከተንበረከከበት ተነሳ ።\\n«እኮ ምን አድርጌ ?\\n\\n«ችኮ ሆንክብኝ ። ይቅርታ አድርግልኝኖእኔ ካንተ በእድሜም ሆነ\\nበልምድ እና በትምህርትም ቢሆን እበልጥሃለሁ ። ግን፤0ይህ ሁሉ ላንተ\\nዋጋ ያለው መስሎ አልታየህሀም ። ዝም ብለህ ቴዎሪ ነው የምታነበንበው ።\\nእና ፤ በዚህ ላይ ደግሞ የመንግስት ስራዬን ጥዬ እዚህ የመጣሁበትን አላማ\\nስታራክስብኝ በጣም ነው ያናደድከኝ ።«»\\n\\nነገሩን ቀበል አደረገና * «አንተ ባላማህ ካመንክበት እኔ ምንስ ብልህ\\nምን ቸገረህ ?» አለው ።\\n\\n«እሱስ ሕውነትክን ነው ።»\\n«ታዲያስ 7»\\n\\n«ግን ፡ ያልገባህ ነገር አለ ።»\\n«ምን?>»\\n\\nታፈሰ በሀሠዲስ ጥያቄ እንደ መበሳጨት ብሎ የቀረችውን አንድ ሲጃራ\\nአቀጣጥሎ ሲያበቃ የሲጃራውን ፓኮ አጨማዶ ጣለና በሚለቀው የጢስ\\nቀለበት ውስጥ በቀይ አይኖቹ እየተመለከትው ፤ ‹በዚህ እድሜዬ\\nመጥፎውን ኪከዴግ ለይቼ የማላውቅ ህፃን ይመስል ፤* አንት ሶሻሲዝም ምና\\nምን እያልክ ሌሌብነት ፤ ለዝርፊያና ለቅሚያ የመጣሁ አድርገህ ታወራለህ ።\\nሬታውራሪ ዶማሞ “አውሬ * ጨካኝና ነፍሱን ለብር የሸጠ የብር ስልቻ እያዴ\\n፪፱ጉ፡፪ ፥ አባትህ መሬት ላይ ያሉትን ጭሰኞች ብትነቅል ገዝቼሃለሁ\" ይሉ\\n\\nልየ።\\n\\n«‹የባላባቶች ክብርና ግርማ ሞገስ፤ያገራችን ወማሣና ስነ ስርአት መሰረት\\nመሬት ብቻ ኤይምሰልህ ። ጭሰኞቹም ናቸው ። የአያት የቅመ አያቶቻቸው\\nአጥንት ከተቀበረበት መሬት ትነቅለው ሲያመልኩትና ሲስሰግዱለት ከኖ\\nሩበት አድባር ርቀው ጭሰኞች የትም እንዲስዶዱ ማድረግ መዘዙ ሁዋላ\\nደግ አይደለም ። አውራ ያጣ ንብ ምን ረብ አለው ? ከኖረበት መሬት ተነ\\nቅሎ የትም የሚባክን ሀዝብ እየበዛ ሲሄድ ሁዋላ እንዴት ? በማን ? በምንስ\\nህግ ይዳኛል 2 ስር የሌለው ህዝብ የትኛውን ሁግ ይፈራል ? የየትኛውን\\nወንዝ ወይም ቀዬ አድባር ያከብራል ? የየትኛውን ሽማግሌስ ምክር ይቀበ\\nላል ? ለየትኛው ባላባት እሺ ብሎ ይገዛል ? እንግዲህ አገር ፤ ወገን ፡ ስነ\\nስርአት ጠፋ ማለት አይደለ? እኛስ ምን አለን ብለን እንኖራሰለን ? የባላባት\\nስልጣን እንደሆን ተወስዶአል ። ጭሰኞችን ነቅለን ካበረርን ምን ሊቀረን\\nኣሁን ፥ እንዲሁም ለወደፊት ፤ መሬት ፤ ሰውና ጀግናነት ነው ። ምን አጣ\\nህና ነው ገበሬ ካልሆንኩ የምትለው ?” እያሉ ገና ከመምጣቴ አላስቆም\\nአላስቀምጥ -በለውኛል ።\\n\\n‹‹አን- ጾሉሽነሪ ነኝ ባይ ነህ ። ፊታውራሪ ደግሞ\\nእልም ያ፰፲ኔ፰፲፩፰ልጆና፮ዶ፪ 2 ኣንት ከጊዜው በጣም ቀድመሃል ። እሳቸው\\n.ቬው በጣም ወደዶ ሁዋጳላ ቀርተዋል ። ሁለታችሁም ብትሆኑ የማታው\\nዩትና ያልገባችሁ ነገር ቢኖር በኢትዮጵያ እያቆጠቆጠ የመጣው ካፒታለ.\\n'},\n",
       " {'page_number': 115,\n",
       "  'text': '.፡. ጸየከበ.ከከከ.6.፡፦ሙ.።።. ሮ\\n\\nዝም መሆኑን ነው ።\"የኢንተርፕረነሮች” ዘመን ነው ። አንተ እንደምትለው\\nጊዜው የወዛደዶሮች አይደለም ።\\n\\n«ለመሆኑ “\"ከኢንተርፕረነሮችና” ከወዛዶሮች ማን ቀድሞ የተገኘ\\nመሰለህ ? “ኢንተርፕረነሮች” ናቸው # ኢንዱስትሪያል ሬሾሉሽንን ያመ\\nበ፥፡ት” ኢንተርፕረነሮች”መሆናቸውን አትርሳ ። ከኢንዱስትሪያል ሬሾሉሽን\\nየምንማረጩ ቁም ነገር ቢኖር ፤ የስልጣኔ ታሪክ ጎማ በመጀመሪያ ድጠ\\nየሚያልፈው ድሀውን ገበሬ ነው ። በመጀመሪያ የሚፈርሰው ቢት የድ\\nሀው ገበሬ ቤት ነው ። ስልጣኔ የተገነባው በድሀ ገበሬዎች ጥፋት ላይ\\nነው።\\n\\nኗደእና ፣ ማንም ይህን ሂደት ሊለውጠው አይችልም ። መሬት ወደ\\nካፒታል መለወጥ አለበት ። ያያት ፤ የቅመ አያት አጥንት ፥ አድባር ምና\\nምን --እኔ ለዚህ ሁሉ ደንታ የለኝም ።መሬት ለጥቅም መዋል አለበት ።\\nየጭሰኞች ጭንቅላት በመቁጠር ተኮፍሰን የምንኖርቦት ጊዜ ኣክትሞ\\nአል ። እንዳልኩህ ጊዜው \"የኢንተርፕረነሮች” ጊዜ ነው። ግን ግራና\\n#ዓዌሜ እኤያላችሁ ጥርጣሬ ታሳድሩብኛላችሁ» ብሎት የ“ና፣-ውን የሲጃራ\\nጢስ ሠዲስ ፊት ላይ አቦነነበት ።\\n\\n«ቆርጠህ ከመጣህ ለምን ትጠራጠራለህሀህ ?›>»\\n<የቆረጥኩ አልመሰለህም አይደለም ?>» አለው ።\\n\\n<ካልክስ በነገሩ የቆረጥክበት አትመስለኝም ። ልብህ አሁንም ያለው\\nአዲሳባ ይመስለኛል» ብሎ ቁርጡን ነገረው ።\\n\\nፍ<ለምን የ2=ረጥኩ አልመስልህም ?» ብሎ ጠየቀው ።\\n\\nዴእንጃ ። ብቻ አለ አይደል * ብዙ በመናገር ራስክን ለማሳመን የምት\\nጥር ትመስለኛለህ ።ሐይዞህ ፥ በርታ ብሎ የሚያደፋፍርህ ሰው የምትፈልግ\\nነ5፦ የሚመስለኝ» ብሎ መለሰለት ።\\n\\nታፈሰ የሲጃራውን ቁራጭ በጣቱ ወዶ ውጭ አስፈንጥሮ ጥሎ የማገ\\nውን አንድ አገር ጢስ በሀይል ወዶደ ውጭ እየተነፈሰ አቡኖ ሲጨሙርስ \\'\\n«ልኒነ) ንህ» ብሎ ነገሩን በመቀጠል * «እንዶ እውነቱቴቱ ከሆነ የፈለ\\nሹመ፦- ባገኝኖሮ አልመጣም ነበር። የሀይለ ስላሴ መንግስት ለሚሸራሞወ\\nጳት ሰዎች ብቻ ነው ሹመት የሚሰጠው ። እኔ ግን ሸርሙጣ አልምሰል።፤ *\\nአደደለም ድ ለ መ አርፍ አብላለሁ ወው አጋመሚኩመት\\n\\nመ ፥\\n\\nአን፡ንድ ሰዎች አይደለሁም ። ርሹ አበሳስሁ፡ብቤው:እንድያዬ\\n\\nፍነፃነት ይሰማኛል ። የሀይለ ስላሴ መንግስት ደግሞ ነፃነት የሚዕማ\\n\\nቸሮዷጎ ሰዎች አይወድም ። እና ፤ ጉዋደኞጳ: ሚኒ።፰፲ሮቾ 06ምክትል ሚኒስት\\n* ረዳት ሚኒስትሮች ሲሆኑ እኔን አልሾመሜም “\\n\\nንይ\\n\\n«ከጉዋደኞችህ በታች ሆነህ መኖ, ስሜት ኦ\\nክ አርብህ ታውቃለህ ? ከነሱ በጭንቅላት መ ሞ ሆንክን /\\n\\nመናደድ ፣ መጠጣት ፥፤ መናገር ትጀምራሶ\" ህ\\n'},\n",
       " {'page_number': 116,\n",
       "  'text': ' ..86......፡፡›ጠመፎ . 36..:፤\\n\\nራስክን በገሻ እጅህ እያጠፋህ ስትሄድ ጉዋደኞችህም እየሸሹህ ይሄዳሉ ።\\nእንግዲህ የሚቀርህ ውርዶትና\\nከነኃያ እመጣውት ። ቅሌት ነው ። ይህ ከሚደርስብኝ ብዬ\\n\\n«ግን ችሎታ ያለኝ መሆኔን ማሳየት አለብኝ ። አራዳ ተፍታኝ ወድቄ\\n\\nአልቀርም ። ታያለህ» ብሎት ወለሉን በንዴት ረግጦ ወጥቶ ለመሄድ\\nወደ በሩ ሲንዴረደር ፥---\\n\\n«ቁርስ ለምን አትበላም |» አለው ።\\n«በጠዋት እህል አይዋጥልኝም ።»\\n«የት ነው የምትሄደው 1\\n\\n«ወደ መሬቴ...»\\n\\n«ቆየኝ አብረን እንወጣለን ። እኔም የትምህርት ቤቱ ኮሚቴ ስብሰባ\\nአለብኝ ።» .\\n\\n«መንገዳችን የተሊያየ ነውጅ ብሎት እንደ ልማዱ እየተቻኮለ ወዶ\\nበ፲ሩ፲፲፲ ሲሄድ ወይዘሮ ዝናሽና ሽታዬ ወደ ውስጥ ገፍትረውት ተትክከታትለው\\nገቡ። .\\n\\nየሁለቱም ሻሽ ተፈቶአል ። ነጠላዎቻቸውም ከትከሻዎቻቸው ላይ\\nወርደው መሬት ለመሬት ይጎተታሉ ። ሁለቱም ቁና ቁና ይተነፍሱ ነበር ።\\n\\nዝናሽ ሻሽዋን ?.ያስተካከለች ሀዲስና ታፈሰን በአይኖችዋ ከቃኘች\\nበሁዋላ ፥ ኗደህና ናችሁ ?ዌጋ ኣአለች በመገረም ።\\n\\nሀዲስ ተገርሞ * «ነ”ን ነው ? ምን መጣ ?» አላት።\\n\\n«እኛስ ተጋዶላችሁ ብለን ደንግጠን ነበር ስንሮጥ የመጣነው» ብላ\\nሽታዬን በአይኖችዋ ገረፍ አደረገች ።\\n\\nሀዲስ ነገሩ ገባውና እየሳቀ ጠጉሩን ቆፈር ቆፈር አድርጎ ፤ «ለምን\\nእንጋደላለን ?» አላት ።\\n\\nታፈሰ ዞ ከበር ላይ ቁሞ የሚሉትን ያዳምጣል ። ሽታዬ\\nእየሰረቀች ጩዬንቕፆ ትመለከታለች ። ከክሁለቱም ጋር አይን ለአይን\\nጋጭ አንግትዋን ትደፋለች ። ዝናሽ እንዴ ልማድዋ አንዴ አስካካች ።\\n\\n«ምን አሳቀሽ » አላት ታፈሰ ።\\n\\nእንደ ገና አስካካችና ፤ «ወንድነት የሚባል ነገር መቅረቱ ነው የሚያ\\nሰቀኝ « ጭ 1፡ ብላ ፣ በንቀት እንትፍ አለች ። . ፤\\n\\nህዲስ ነገርዋን ቀበል አዴረገና ፥ «እንዴት ?» አላት ።\\nሷት «አበስኩ ዝበርኩ « እቴ ።እንዶ ሰራ አይገድል * አሉ ። ዱሮ ናማንን\\n\\nማን ዴፍሮ - ምድር ቀውጢ ትሆን ነበር እንጂ ። የሰላ ሙቤ በጠፍ\\nጧረቃጥጳፃብሎዴዎዢፅሲጤፆፀጀፃናፀድቆመመቤል\\n'},\n",
       " {'page_number': 117,\n",
       "  'text': '316 ዳዬ |\\n\\nዋ ! እናቴዋ ። አይ ዘመን ! አያልፍ የለምና አለፈ።አበስኩ፤እቴ። ዩ\\nግኖች ዘመን በወንድ አልጫዎች ዘመን መተካቱ ነው የሚያስቀኝ»ኔ ፫\\nአሁንም አስካካች ።\\n\\n«እንዴፕ ?» አላተ ሀዲስ ።\\n\\n«ወንዱ ምን ደካማ ቢሆን የልብ ኩራት ነበረው ፤ ለሴትም ክብር ይሰጥ\\nነበር ። የማንን ወንድ ውሽማ ማን ነክቶ ።ሕረ ኤዲያ!› አለች ።\\n\\n«በሴት ላይ መፋለጥ ከውቤ በረሃ ጋር ሞቶአል» ብሎአት ሰአቱን\\nተመለከተና ትቶአቸው ውልቅ ሲል በር ድረስ ተከትላው ፤ «ሚስቶቻች\\nሁንም ቢወስዱባችሁ እንዲሁ ሳትሉ አትቀሩም !» ብላ አሁንም እንትፍ\\nአለችበት ። ታፈሰ ሲስቅባት ይሰማ ነበር ።\\n\\nሀዲስ ሲስቅ አይታው ፤ «አንተን ብሆን አልስቅም ነበር» አለችው ።\\n«ታዲያ ምን ያደርጋሉ ?» አላት ።\\n«ታንቄ እሞታለሁ. . .»\\n\\n«ምን በወጣኝ ። ልንሞትላቸው የሚገባ በህይወት ሌሎች ብዙ ቁም\\nነገሮች አሉ ። ለሴት ብሎ እንዴት ሰው ይሞታል ?» አላት እየቀለደ ።\\n\\n«ኤጭ 1» ብላ ወደ ሽታዬ ዞረችና ፤ «እኔ አንቺን ብሆን እነዚህን\\nውሾች ሁለተኛ ዞር ብዬ አላይም ። ዛሬ እንዲህ የሰሩሽ ነገ ቀን ተራ ሳያስ\\nገቡሽ አይቀሩም ። አበስኩ ገበርኩ ፥ እቴ ። ይህ እድሜ የሚሉት ጣጣ የማ\\nያሳየን ጉድ የለም» ብላው ነጠላዋን መሬት ለመሬት እየጎተተች ስት\\nወጣ ፥ ሽታዬን ያዝ አድርጎ ወደ ሁዋላ አስቀራትና ፤ «አንቺ ላይ ካልተጋ\\nደልን ወንድ ላንባል ነዋ !» አላት እየቀለዴ --- ሀዲስ ።\\n\\nቀ ችፀኃልስ አልሰጠችውም ። በንቀት አይን እየተመለከተችው ዝም ብላ\\nረች።\\n\\n«ሲያዩሽ የከፋሽ አትመስይም» አላት ።\\n«እንዴት ማለት?»\\n«ታፈሰን በማግኘትሽ ።»\\n\\nአሁንም ዝም ብላ ቀረች ።\\n«ንገሪኝ እንጂ 1!» አላት ።\\n\\n«ሸጋ ነው ። የልብ ትከሻዋን\\nጭምድድ ያዛት ፲ያዴርሳል፲ ስትለው ፤ ሳይታወቀው\\n\\n«ምን ልትሆን |» አለችው ።\\n\\nቅርብ ለቅርብ ሆነው አይን ለአይን 4\\n\\nዬ ። በእስዋ አይ\\n፲፰፮ዴ፲ ር፯፲፰ገሚ፲፲ አይን ውስጥ ንዴት ይታይኚቼኬር = ለምን ድንገት ፰፮፰\\nበትነበር። 7 እዚያው አንቀህ ኣንደፋድፋት የሚል ስሜት\\n\\nጤየልብኣላዶርሴግሂፄኣላቅዐ\\n'},\n",
       " {'page_number': 118,\n",
       "  'text': 'ሀዲስ 117\\n\\nእጁን ምንጭቅ አድርጋው ወጣች ። ስድብዋ እንደ ጨቤ ልቡን\\n\\nአዴረገው ። ወይስ ቅናት ነበር ? ው\\nሰው ላይ ከት ብሎ ሳቀ.... ስጡ ባለው በማያውቀው ሌላ\\n\\nየጠዋት ፀሀይ የሳቁን አፀፋ መለሰችለት ። ተንጣሎ የሚታየው\\nጥልቅ ሰማያዊ ሰማይ ቢንጠራሩ የሚዴረስበት ይመስላል ። ታላቅ ሰአሊ\\nለጌጥ ያህል ነካ አድርጎ ያለፋቸው ቅቦች የሚመስሉ ስስ ደመናዎች ከት\\nልቁ ሰማያዊ ሰማይ ላይ አልፎ አልፎ ይታያሉ ። ይነፍስ የነበረው ቀዝቃዛ\\nአየር ዛፎችን ቀና ጎንበስ ፤ እጥፍ ዘርጋ እያደረገ በስልት ያስዴንሳል ፤ ጫካ\\nውን እያተራመሰስሰ በሹክሹክታ ያናግራል ። በወፎች ዝማሬ ፤ በእንቁራሪ\\nቶች ቁርርታ ፡ በጅረቶች ሹዋሹዋቴ መልካው ከሩቅ እንዲያው ያስካካል ፤\\nእልልታ ያቀልጣል ። ንቦች ከአበባ ወዶደ አበባ እያመሙ ይበራሎ። ቢራቢ\\nሮዎች ውር ውር ይላሉ ። ተፈጥሮ ሞገሳዊ ውበትዋን ተጎናፅፋ እንዲያ ስራ\\nበዝቶባት ስታሸበርቅ በየማሳው የተሰማራው ገበሬ ግን ባንፃሩ የደስታ\\nመልክ ኣይታይበትም ፤ ማርና ወተት ይፈስባታል በሚሉዋት አገር ሀዘን\\nቤት የተቀመጠ ይመሰስላል ። ሁሉም የህይወት ጣጣ ትከሻው መሸከም\\nያቃተው ይመስል አፍንጫውን ከመሬት ላይ ተክሎ ያዘግማል የታመቀ\\nብጭት እየተነፈሰ ። ምድሪሬሪቱም ጭምር እንዳትከዳው ከመሬት ጋር ተጣ\\nቁቆ ፎፀሂጎተዙ እግሩ አቡዋራ ያቦናል እሱም አቡዋራ መስሎ አቡዋራ\\nለብሶ....\\n\\nገበሬው ሞፈርና ቀንበር እንዶደሚጎትቱት ከሲታ በሬዎቹ እርፉን\\nይዞ በጣእር ይጎተታል ። የቀዴደዴው ፈር መቃብር ሆኖ እዚያው ይውጠው\\nይመስል ምድሪቱን ትኩር ብሎ እያየ ፤ አፈር ጨብጦ ፤ አፈር መስሎ ፥\\nአፈር ነክሶ ።\\n\\nበዚች ምድራዊ ገነት በሆነች አገር ውስጥ ትካዜና ሀዘን አሁን ምን\\nይባላል ? ወይስ በገሃነም ነፃነት ይሻል ይሆን ? የተሰበረ ቅስም ፤ የፈፌሰሰ\\nወኔ፤* የታጠፈ አንጀጄት ፥ የጎበጠ ጀርባ ፤ አፈርና ላብ ፤ ዋይታና ለቅሶ በዚች\\nውብ ፥0 ድንግል ኣገር !\\n\\nከል * ማቅ ፥ ቡቱቶ ። እናት አለም አዝናለች ። ልጆችዋ በልባቸው\\nደስታ የላቸውም ። እህ---አንቺ የኩሩዎች ፤ የደጎችና የጀግኖች ውብ እናት\\nአገር ፤ የወላድ መካን የሆንሽ ይመስል ዝምታሽና ሀዘንሽ ሰምንድን ነው?\\n\\nሀዲስ እንዲህ ባሳብ ተመስጦ ሲጉዋዝ መንገዱ አልታወቀውም ።\\nኮሚቴው ከሚሰበሰብበት ክፍል ሲደርስ ግን አንድም ሰው አልነበረም ።\\nሰአቱን ተመለከተ ። ከቀጠሮው ሰአት አስር ዴቂቃዎች ያህል ቀደም ብሎ\\nመድረሱን በመገንዘቡ ቁጭ ብሎ የማስታወሻ ደብተሩን እያገላበጠ ያስብ\\nጀመር ። ፎቂቃዎች ድንጋይ እንደ ተወረወረባቸው ወፎች ብር ብለው\\nሄዱ ። የመጣ ሰው ግን አልነበረም ።\\n\\nእንደ ግና የእጅ ተመልከተ።የሰአት እጆች ቀጭ ተጭ እያሉ\\nሲዞሩ ሰአዷና አልፎ ሰፄአጪተካ ፥#ቀን ቀንን ሲወልድ *ወር በወር ሲተካ ፤\\nዛሙን በዘመን ሲለወጥ. . . ሲሄድ ሰአቱ ቀጭ ቀጭ እያለ- - .ምን ይነግ\\nረን ይሆን ጅ ምን አቀድክ ? ምን ሰራህ ? የትናንቱን ቀን እንዴት ኣሳለፍ\\n፮፲፯፲፲፲፬ ? ዛሬዝስ እንዴት ይዘኽኸዋል ? ነገንስ ለራስህና ለሰው ልዥ ምን ታደ\\nበታለህ ?\\n'},\n",
       " {'page_number': 119,\n",
       "  'text': '-418 ዲክ ኢ |\\n\\nሰው እንዶ መሆንህ ፥ በዚህ አለም ታሪካዊ ድርሻህን እየፈፀምክ\\nከሆነ አንተ ደስተኛ ነህ ። ማለፊያ ህይወት ኖረሃል ። ሞት ምንህም አደ/\\n\\nለም--ብስራህ ከሞት በላይነህ-.--።*\\n«ምን ነው ተክዘሃል ፻፡» -- ቀውሌ ነበር።\\n\\nሀዲስ ባሳብ ጎዳና ጭልጥ ብሎ ሄዶ ኖሮ «ቀውሌ» ሰሳምታ ሲያቀር\\nለት እልሰማም ነበር ።- እንደ መባነን ብሎ ፡ «የቀጠሮ አለማክበር ልማ\\n\\nዳችን እያሳሰበኝ ነው» አለው #\\n\\n«አዎን ፤ መጥፎ ልማድ ነው» አለውና ረጃጅም ቅልጥሞችን ዘርግቶ\\nቁጭ አለ ።\\n\\n«ግን መጥፎ ልማድ መሆኑን እያወቅን አናርመውም ። በከንቱ የጠፋ\\nጊ.ዜ ብልህ አያዶርገንም * አደህይቶን ነው የሚሄደው ። በጊዜው መጠቀም\\nያልቻለ ሰው የት ሊደርስ እንደሚችል እኔ እንጃ != ኣለ ሀዲስ ሰአቱን\\nእየተመለከተ ።\\n\\nየት ይደዴርሳል ብለህ ነው? --- ማን ክመቃብር ያልፋልጋ አለው።\\n\\nሀዲስ ራሱን ነቀነቀና ፤ «አይምሰልህ ። ጊዜ ከኛ ውጭ የሆነ ነገር\\nአይዶለም ። በሚገባ ልንጠቀምበት ከቻልን ከመቃብር በላይ ለመሆን እን\\nችላለን ። የሰው ፍፃሜው መቃብር አይዶለም> አለው ።\\n\\n«እንዴት ቢባል ?»\\n\\n«በስራችን ። የሰው ልጅ በስራው ይኖራል ። ስራን የሚወስነው ደግሞ\\nጊዜ ነው ። የሰው ልጅ የጊዜ እስረኛ አይዶለም ። የጊዜ ጌታ ነው» አለው።\\n\\nቀውሌ ረጃጅም ቅልጥሞቼቹቼን ዘርግቶ ሲያዳምጠው ቆኖየና ፤ «ካስተማ\\nሪነት ይልቅ ደዴራሲ ብትሆን ይሻልህ ነበር» ኣለው ”\\n\\nሀዲስ መልስ ለመስጠት አላመነታም ፥* «ምን አውቄ ? ምንስ ለማለት?»\\nብሎ ንማግሩን ቀጠለና * «የባዶ ቃላት ክምር መፅሀፍ ። ሰለ\\nህይወት ኖዋማውቀው ብዙ ነገር የለኝም ፤ ስለ ድርጊትስ ምን አውቃሶዕ፦!\\nእውቀት ኣለ ድርጊት ካለማወቅ ይቆጠራል ። እና ፤ ስለ ህይወት ሀቅ ም?\\nአዲስ ነግር ልፅፍ እችላለሁ ብለህ ነው ? ሀቀኛ ይራስያን መፃፍ እያቃታት\\nችው እጅጣ የሚጨነቁ ናቸው ይባላል ። ሀቅ ታስጨንቃለች ። ሲፈልገዋ፥\\n\\nስው ምን አውቃለሁ ? ልቤ በቂ ፍቅር የለውም ። ፍቅርንና ተስፋን ዕፍ\\nልብዑስፃጢያላድሩቃላትየለፅ፣ዎዐሡየኃዐንፈስፃጎካሬስለሡ፪\\nየሰውን ልብ ለማጠናከር እልችልም ። የመንፈስ ድሀ የሆነ ዕፅው ም ተማሩ\\nፎሰው ያንኑ ድህነቱን ነው ። ደዴራሲ መሆን አልችልም ። ይልቅ ማስ“ፍን\\n\\n«እንዴት ?» አለው ቶውሌ ቅልጥሙ>ን እኖለበሰበ =\\n\\n«ተማሪዎችን ከፊቴ ሳይ አእምሮዬ\\nጩሀብሎወየዬ፲ ይነቃል ==\\n'},\n",
       " {'page_number': 120,\n",
       "  'text': '፡ ሀዲስ 119\\n\\n«ለጋ ህፃናት ከፊቴ ተኮልኩለው ሳይ ፤ እንዴት ልበልህ ? --- በውስ\\nጣቸው የነግው ብሩህ አለም ይታየኛል ። እና ፥ ከለም መሬት ላይ ፍሬ\\nስዘራ አያለሁ ።የተዘሩት ፍሬዎች ስር ይዘው ሲያብቡ፣፤ በአይኔ ይመጣሉ\\nየአለም አበቦች ። ክፍል በገባሁ ቁጥር ያበባ አትክልቶቼ መሀል የቆምኩ\\nነው የሚመስለኝ ። ታዲያ የሚገርምህ ነገር ፤ ባሳቤ የሚመጣውና በአይኔ\\nየማየው ነገር አልጣጣም ሲለኝ እናደዳለሁ ።ንድድ እያለኝ እበሳጫለሁ “»\\n\\nቀውሌ ነገሩን አቁዋረጠውና ቅንድቡን ከፍ ዝቅ እያደረገ ፤ «ምኑ\\nነው የሚያናድድህ ?ገ» አለው ። ።\\n\\nሀዲስ ጠጉሩን ቆፈር አድርጎ ፥ «የህፃናቱ ጠውልጎ መታየት ነው\\nየሚያናድዶኝ ። ሆዳቸው ይጮሃል ። ወስፋታቸው ይንጫጫል ። የረባ\\nምግብ አያገኙማ ። አብዛኛዎቹ የሚሞቅ ጨርቅ ከጀርባቸው ላይ የላ።\\nውም ። ብርድና ረሃብ ያንቀጠቅጣቸዋል ። ልባቸው አርፎ የሚማሩ አይመ\\nስሉኝም ። እና ፤ እጨነቃለሁ ።\\n\\n«አብዛኛዎቹ በችግር መንገድ ላይ ሲቀሩም ይታየኛል ። እና ፤ ከንቴ\\nልፋቴ ያበሳጨኛል ። በዚያ ላይ ደግሞ የምናስትምራቸውን ነገር ሳስበው\\nአንዳንዴ ፈፅሞ ተስፋ እቆርጣለሁ ። ምንድን ነው የምናስተምራቸፉ።፦ ?\\nያረጀ * ያፈጅ ፥ የሻገት ግብረገብ ። እንዲህ አይነቱን ጊዜ ያለፈበትን ትም\\nህርት ቀስመው የሚያድጉ ልጆች የህብረተሰቡ ሀቀኛ ዜጋዎች ሲሆኑ\\nእንዴት ይችላሉ ? አለምን እንዳለ አሜን ብለው እንዲቀበሉት ነውኮኩ የም\\nናስተምራቸው ። ግን የትምህርት አላማ ይህ ኣይደለም ። ትምህርት ፥\\nአለምን ለተሻለ ህይወት የምንለውጥበት አይነትኛ መሳሬራያ ሊሆን ይገባል።\\nየአውቀት ጥቅሙ ከምን ላይ ነው አለምን እንድንለውጥ የሚያስችለን መሳ\\nሪያ ካልሆነ? በእውነቱ ባስተማሪዎች ላይ ያለውን ሀሳፊነት ሲመለክቱት\\nበጣም ከባድ ነው ። የነገውን ትውልድ ፥ የነገውን አለም የመኮትኮት ፥\\nኖዋማነፅ ሀላፊንት ነው ። እና ፤ ስንቶቻችን ይህን ከባድ ሀላፊነት ለመሸከም\\nየህሊና ዝግጅት አድርገናል ? እኔ በጣም ነው የሚከብዶኝ» አለውና ፥\\n\\nበረጅሙ ተነፈሰ ።\\n\\n«ግን እድለኛ ነህ ።»\\n«ለምን?ጋ\\n«ጭንቀትህ ላንድ አመት ብቻ በመሆኑ ።»\\n\\nሀዲስ ትክዝ ብሎ ፤ «ማን ያውቃል ?» አለና ሰአቱን ሲመለክት\\nየስዎችን መምጣት የሰማ ስለ መሰለው ጆሮዎቹን አቆመ ። እውነትም\\nሲጠበቁ የነበሩት አስተማሪዎች ነበሩ--ጋሼ ዱቤና የተቀሩት ። ዘግይተው\\nመድረሳቸው ምንም አይነት ስሜት አላሳደረባቸውም ። ያስቡበትም አይመ\\nስሉም ። ነውሩ ከምኑ ላይ ነው ? ዘግይቶ መድረስ የተለመደ አይደል !\\nጨዋ ፡ የጨዋ ልጅፀሀይ ሞቅ ካለች በሁዋላ አይደል ቀስ ብሎ ወደ አደባባይ\\nብቅ የሚለው ?\\n\\nሁሉም ስፍራ ስፍራቸውን ከያዙ በሁዋላ፤ «ዛሬ እንድንሰበሰብ የጠ\\nራሁዋቕችሁ ስል ኮሚቴአችን ስራ ለመነጋገር ነው ።5\\n\\nጋሼ ዱቤ ነገሩን አቁዋረጠውና ፤ «ምን አዲስ ነገር ትፈጠረ ?» ብሎ\\n.ጠየቀው ። ኣ\\n'},\n",
       " {'page_number': 121,\n",
       "  'text': \"፣ .ዜ... ክ .ዒኢ..ዴመጮፎ\\n\\n«ባለፉት ጥቂት ቀናት ውስጥ ያልጠበኩት አንዳንድ ነገር በመ\\nነው» በማለት ንማግግሩን ጀመረ ። «ነገሩ ስላሳሰበኝ ነው ። የዚህ ኮ፶፯ኪ፰\\nሰብሳቢ አድርጋችሁ የመረጣችሁኝ እናንተው ናችሁ ። ነገር ግን ለ ስብሰኣ\\nስትጠሩ አብዛኛዎቻችሁ አትመጡም ። በተለይም ፥ ባለፉት ጥቂት ቀናት\\nያልሆነ ምክንያት እየፌጠራችሁ መቅረት ጀምራችሁዋል ። በዚህ\\nየትም ልንዴርስ አንችልም ። ማንም ሳያስገድድን ወደን የጀመርነውን ነቲ\\nከግቡ ማድረስ አለብን ። በተግባር ላይ የማናውለው አላማ ፤ አላማ ነው\\nለማለት አይቻልም ። ችግር ካለ እንወያይበት ። ከሌለም ትባብረን እንስራ«\\nበእውነቱ * እናንተ እንዴት እንደምታዩት አላውቅም እንጂ እያንዳንዳችን\\nታሪካዊ ሀላፊነት አለብን ። ይህ ትምህርት ቤት ከያንዳንዳችን መስዋእት\\nነትን ይጠይቃል» አለ ።\\n\\nክፍሉ ላይ ከባድ ፀጥታ ወደቀ ።\\n\\n«የማይገባህ ነገር አለ» -- ጋሼ ማይዘር ነበር ።\\n«ምን ?» አለ ሀዲስ ቀና ብሎ ።\\n\\n« የፖለቲካ ጉድጉዋድ  እየተቆፈረልን ነው ያለው» ብሎ\\nጀመረ -- ፍኗእስር ቤት ውስጡ ምን እንደሚመስል አይተህ ታው\\nቃለህ ? አታውቅም ። ቁንጫና ቱሀን ፈትፍትውህ  አያውቁም ።\\nሰው በሰው ላይ  ተደራርቦ በሚተኛበት ክፍል ውስጥ ጎንህሀን\\nየምታሳርፍበት አጥተህ- በቁምህ እንቅልፍ እያንገላጀጄጀህ ሞትክን\\nየተመኘህበት ጊዜ አላጋጠመህም ። ገለባው ጉሮሮ  የሚያደማ\\nየፉርሽካ ዳቦ ፥ ባረረ ዶኬ * እየተናነቀህ ፤ ለመኖር ያህል በልተህ አታው\\nቅም ። ከሰዎች ጋር በሰንሰለት ተቆራሜተህ ሰገራ ወጥተህ ታውቃለህ ?\\nአታውቅም። አለና ፤ኮቱንና ሸሚዙን ከመቅፅበት አውልቆ ወደ ሀዲስ\\nበመዞር * ነብር በንዴት የቡዋጨረው የሚመስለውን ዥንጉርጉር ጠባሳ\\nጀርባውን እያሳየው ፤ «እንደዚህ ጀርባህ እስኪተላ ድረስስ ተገርፈህ ታው\\nቃለህ ?»> ብሎ ጠየቀውና ኮቱንና ሸሚዙን ከመቅፅበት እንዳወለቀ ሁሉ\\nከመቅዕበት ለብሶ ሲያበቃ ፤ «ከዚች አጭር ህይወት ውስጥ ፥ ደጁ እየና\\nፈቀህ ፤ ላንዲት ደቂቃ ብቻህን ሆነህ የራስክን አሳብ-ለማሰብ እየተመኘህ፤\\nብቻህን ሰገራ የምትወጣበት ጊዜ እየናፈቀህ ፤ ጥሩ መኝታና ምግብ በኮ\\nይንህ እየዞረ ፤ ሶስት አመት በእስር ቤት ማሳለፍ ቀልድ አይደለም ።ይ።\\nጣጣ ሁሉ የደረሰብኝ ለምን ይመስልሃል ? አንድ ቀን በስካር ልብ ፤ የሶዕ\\nሞን ዘር የሚባለው ነገር ተረት ነው” ስላልኩ ብቻ ነው ። እረ ሰክሬ ነ“\\nብል ማን ሰምቶኝ ! “ሆድ ያባውን ብቅል ያወጣዋል ተብዬ” ፍዳዬን ቀ”\\nስኩ ። ባንድ ፊት ሞትክን እየተመኘህ በሌላ ደግሞ ትንፋሽህ እን\\nህይወትን የሙጥኝ ስትላት አበሳው አይጣል ነው ። ያንን ፍዳ እንዶ ?።\\nለመቅመስ አልፈልግም» ብሎ ዝም አለ ።\\n\\n«ዊ8ፉርሽካ ቂጣ ! ጎመን በጤና ሚታገስ ሆድ *ጅሪ\\nየሚችል ጀር<ባ የለኝም ፤ አቦ» አለ ፰፩ ጁቬሃ፭፲ን የ ”\\n\\nሀዱስ አንገቱን ደፍቶ ሲያዳምጥ ከቆየ በሁዋላ ቀና በማለት * *: ፡\\nቲነዷ ' ጅኒ የምትሉት ነገር አልገባኝም ። እኛ የተነሳነው አዲስ ት\\n\\nቤት ለመስራት ነው ። አዎን ፤ ሀዲስ የ ህ ትምህር\\nቤት ገብተው እንዳይማሩ ሀብታም ልጆች እዚ ፖሉሶ\\nጣቢያ ልጥያቄ ተጠርቼ ነ፤ፎ፤ዔኦድማ ያስመታል በመባል ተከስጁ ።\\n\\nእኔ የሰራሁት የፖለቲካ ወንጀል\\n\"},\n",
       " {'page_number': 122,\n",
       "  'text': \"ሀዲስ 121\\n\\nእኔ ያልኩት ነገር ቢኖር ፤ “በፈተና ያለፉ ልጆች ተሰርዘው ፤ የወደቁት\\nአንዳንድ የሀብታም ልጆች ለምን እንዲገቡ ተደረገ?' ነው ያልኩት ። ደግ\\nሞም ማንንም ለማሳደም የሞከረ ሰው የለም ።\\n\\n«ይህ ኮሚቴ የተመሰረተው ለአድማ ሳይሆን ለበጎ አላማ ነው ።\\nየትምህርት እድል ተነፍገው ለሚኖሩ ልጆች ትንሽ የተስፋ በር ለመክፈት\\nነው» ካለ በሁዋላ ፤ ስሜቱ በሃይል ስለ ገነፈለበት ፤ የተቀመጠበትን ወን\\nበር በቡጢ መታና ፥ «አንዳንድ ምቀኞች በሚያውጠነጥኑት ሴራ መሸበር\\nየለብንም ። የተነሳሳነው ለበጎ አላማ እስከ ሆነ ድረስ ቆርጠን መስራት\\nአለብን ። አላማ ያለው ሰው እስራት ፤ ግርፋት ፤ ረሃብ ፥ ስቃይ ወይም ሞት\\nምኑም አይደሉም ። ከመሞታችን በፊት አስሬ መሞት የለብንም ። ኤጭ !\\nምንድን ነው የሚያስፈራን ! ድንቢጥ እንኩዋ ካቅምዋ ልብ አላት ። ሀተታ\\nአላበዛም ። ስራችንን እዚህ ላይ እናቁም ? ወይስ እንቀጥል ? ውሳኔው\\nየናንተ ነው !» አለና ጠጉሩን ቆፈረ ።\\n\\nኗእንዴ ! የምን ወደ ሁዋላ ማለት ነው !» አሉ አቶ ጣሴ ፡ «ሁላችንም\\nስንመኘው የነበረ ነገር አይደለም እንዴ ! ምኞት ብቻውን እስከ ዛሬ የትም\\nእንዳላዴረሰን አይተናል ። መምህር ሀዲስ እንዳለው ምኞታችንን በእው\\nነት ከልብ የምናምንበት ከሆነ ፤ ወደ ተግባር መለወጥ አለብን ። እስካሁን\\nእርስ በእርሳችን ሆድና ጀርባ ሆነን እንድንኖር የተደረግነው አይበቃንም\\nወይ ? ጎበዝ ! ለተንኮለኞች በር አንክፈት ። ለበጎ አላማ እንተባበር ።\\nተንኮለኛው ማን እንደ ሆነ ሁላችንም እናውቃለን።እኔ በበኩሌ ፤ ከዚህ\\nልጅ ጋር ተሰልፈን ስራውን እንቀጥል ነው የምለው ።»\\n\\nእንደ ገና ቤቱ ላይ ታላቅ ፀጥታ ወደቀ ።\\n«ታዲያስ ጎበዝ !» አለ ጋሼ ታዲያስ ።\\n«ታዲያ ምን ?» አለው ሀዲስ ።\\n«እንበተን ወይስ እንቆይ ”»\\n\\n«ውሳኔው የናንተው ነው ብያለሁ» ብሎት ፤ ሳይወድ በግድ ድምፁን\\nከፍ አድርጎ ፤ «ለመሄድ የምትፈልጉ ካላችሁ በሩ ክፍት ነው ። ግዴታ\\nየለባችሁም ። በይሉኝታና በፍርሃት ምንም ማድረግ አይቻልም ። ውዴታ\\nካለ ግን አንዲት ትንሽ ትምህርት ቤት መስራት ቀርቶ ታላቅ ተራራ መፈ\\nንቀል ይቻላል» አለ ። .\\n\\nጋሼ ማይዘር ተነስቶ ወጣ ። ሌሎች ሁለት መምሀራን ተከትለውት\\nወጡ ። “አለም ምን ጊዜም የቆራጦች ናት !” የሚል አሳብ መጣበት።\\n\\n«ታዲያስ ጃል 8› አለ ጋሼ ታዲያስ ።\\n«ታዲያስ ስራችንን እንቀጥላ!» አለ ሀዲስ ።\\n\\nአቶ ጣሴ ደጉ ፍዝዝ ብለው ይመለከቱት ነበር -.\\n\"},\n",
       " {'page_number': 123,\n",
       "  'text': 'ምእራፍሽ፪\\nክፍል ፪ሸ\\n\\nሀምሌ ግም ሲል ፤ ሰማዩ ፊቱን አጥቁሮ ሲያጉረመርም ፥ ደመናው\\nዝናብ ቁዋጥሮ ሲያንዣብብ ፤ የምድር ማህፀን ሲርስ ፍሬ ተቀብሎ ፍሬ\\nሊሰጥ፤ በዶፍ ውስጥ ቀና ጎንበስ ይላል -የቡና ገበሬ የቡና ችግኝ ሊያፈላ-\\nሊተክል ፤ ሲኮተኩት ።\\n\\nችግኞቹ ስር ሰደው ስር በመያዝ ቀና ማለት ሲጀምሩ የጎመራ ቀይ\\nየቡና ፍሬ በአይነህሊናው ከሩቅ እየታየው ተስፋው ያንሰራራል ። እና ፤\\nፍሬ የከለከሉትን አሮጌ የቡና ዛፎች እየገነደሰ ይጥላል - አድባርዋ ታውቃ\\nለች እያለ-ችግኞቹ አድገው ከሚሰጡት የመጀመሪያ ፍሬ ሸምጥጦላድባ\\nርዋ ቡነ-ቀላ ሊያቀርብ በልቡ ቃል እየገባ ።\\n\\nየተተከሉት የቡና ችግኞች ስርይይዛሉ።ህይወት በክረምት ብርድ ተቆ\\nራምዳ እያሸለበች ታዘግማለች ። የክረምት ጭጋግና ደመና ለመስከረም\\nወርቅማ ጮራ ቦታውን ይለቃል ። መሬቱ ጠፍ ብሎ ፤ ሰማዩ ኩል መስሎ\\nሲንጣለል * ወንዞች እንደ መስተዋት ጠርተው ልጃገረዶች ውበታቸውን\\nሲያዩባቸው ፥ የቡና ምንጣሮ በደቦ ይጀመራል ። ወንዙ ፤ ሜዳውና ሸንተ\\nረሩ በስራ ዘፈኖች ያስተጋባሉ ። ስራው ይፋጠናል ። ስታሸልብ የከረመ\\nችው ህይወትም ፍጥነት ትጀምራለች ።\\n\\nታህሳስና ጥር ላይ ሱጴ እንጆሪ መስሎ ያሸተ ቡና ጫካ ትሆናለች ።\\nፍሬአቸው የከበዳቸው የቡና ዛፎች ጡትዋ እንዳጋተ ላም ወይም ቀንየ\\nእንደ ደረሰ ነፍሰ ጡር ከብደው ይንዝረገጋሉ።እንጆሪ መስሎ ያሸተው\\nየቡና ፍሬ ያስጎመጃል ። ወፎችና ልጆች ጎምጅተውም አይቀሩ ፤ ከእሸቱ\\nበልተው ፍሬውን ይጥላሉ ። የተጣለውም የቡና ፍሬ ለከርሞ ችግኝ ሆና\\nበየዱሩ ያቆጠቁጣል ። ሀይወት ትቀጥላለች ።\\n\\nጥርላይ ከቡና ኡደት ጋር የሱጴ ስልተ-ሀይወት ይለወጣል ።ቡና ዕ”\"\\nሸምጠጥ ፤ ለመልቀም ፥ ለማድረቅ ፤ ለመፈልፈል ፤ ለማጠብና ለ\\nየደቦ ስራ አይበቃም። ,በሽህ የሚቆጠሩ ሰራተኞች ያስፈልጋሉ ። ይዞሀ?ት\\nየሚያውቁ ቦዘኔዎች ከሰባት ቤት ጉራጌ ፤ ከወሎና ከትግራይ በቡድን ም\"\\nተው ጊዜያዊ ሰፈር በማበጀት ስራ መጫረት ይጀምራሉ ። ቃላቸው ዞ7\\nስለሚሆን በዋጋ የሚከራከራቸው የለም ። ያሉትን ዋጋ አሜን ብሎ ኮ”\\nቀበል ሌላ አያዋጣም ። ቡና በጊዜ ተለቅሞ ፥ በጊዜ ገብቶ ፤ በጊዜ መዞኖ\\nአለበት ። የጥር ቡና ገበያ ቆሞ ማንንም አይጠብቅም ።\\n\\nዘላን ኮማሪዎችና ሴተኛ አዳሪዎችም የቦ እግ፲ር ስተከትለያ\\nመጥተው የሻማ ፤ የኩራዝና የፋኖስ ሰፈር ያበጃሀለኔዐሟቹ፤ዎቡላና ያተላ ሾፖ\\n'},\n",
       " {'page_number': 124,\n",
       "  'text': 'መ ስ 123 |\\n\\nጉሮሮአቸው የሸረሪት ድር አድርቶ ዝጎ ለደግ ቀን የመሰንቆዎቻቸ\\nውን ጭራዎች በባህር እጣን ሲያሙዋሹ የከረሙት አዝማሪዎች ፤ ጉሮሮ\\nአቸው በጠጅ ርሶ ፤ ግንባራቸው በአረንጉዋዴና በቀይ ብር አጊጦ እንዲ\\nያው ማቅራራት * ማስካካት ይጀምራሉ...-\\n\\nአበጅሽ ! አበጅሽ! አበጅሽ!\\n\\nያገዳ ጥንቅሽ መጠው ያደጉ ቅልብ የሀረር ሰንጋዎች የሚመስሉ የቡና\\nመሬት ባለርስቶች ፤ በቡና ንግድ የከበሩና የወፈሩ ቱጃሮች ፥ ቱባ ቱባ ብር\\nተሸክመው ገንዘብ የቸገረውን ሰው ኩሩቅ የሚያሸቱ አራጣ አበዳሪዎች ፥\\nቅልብልብ ደላላዎችና ትእግስት የሌላቸው የጭነት መኪና ባለቤቶች ከዝ\\nናሽ ቡና ቤት ይሰበሰባሉ ...\\n\\nሆይ ሆይ!\\nእንዴ ሰራ አይገግድል!\\n\\nከጠዋት እስከ ማታ ጠርሙስ ዊስኪ እያወረዱ መለኪያዎቻቸውን\\nአንስተው ባስቀመጡ ቁጥር የቡናን ዋጋ ከፍና ዝቅ ለማድረግ ይችሉ የነበ\\nሩት የቡና ንጉሶች ዘንድሮ የልባቸውን ያደረሱ አይመስሉም ። ካንድ ቦታ\\nላይ ችግር የፈጠረባቸው አንድ ነገር ያለ ይመስላል ።\\n\\nአነስተኛ .የቡና ገበሬዎች እንደዶ ዱሮ ከደጃቸውና ከጉዋሮአቸው\\nየሸመጠጡትን ጀንፈል ቡና በስልቻ ይዘው ወዶገበያ ሲመጡ አይታዩም።\\nእነዚህ አነ ስተኛ ገበሬዎች በግል ወደ ገበያ ይዘውት የሚያመጡት ቡና ነበር\\nእንደ ምጉንጭ ከዚህም ከዚያም ተጠረቃቅሞ የቡና ገቢያ ባህር ይፈጥር\\nየነበረው = አሁን ግን ምንጮቹን ምን ነካቸው?\\n\\nአልፎ ኣልፎ የታፈሰ ብሩ ስም ከጆሮ ይገባል ።-የታፈሰ ስም በተነሳ\\nቁጥር የፊታውራሪ ተካም ስም አብሮ ይነሳል ።\\n\\n«ፊታውራሪ በወንድማቸው ልጅ ስም የቡና ንግድ ጀመሩ እንዴ?\\nእየተባለ ይወራል ።\\n\\nየታዴሰ ስም ሲነሳ በየቦታው ይሰማ እንጂ እሱ የትም አይታይም ።\\nየቡና ቱጃፎች በእግር በፈረስ ይፈልጉታል ።ደላላዎች ያሳድዱታል ። የማ\\nያሳድደው ቴጃር ቡና ነጋዴ አልነበረም። በእሱ ምክንያት ያንድ ፈረሱላ\\nቡና ዋጋ በየቀኑ እየጨመረ ከመሄዱም ሌላ በቱጃሮች ላይ ያልታሰበ የመ\\nዶናገጥ ሁኋታ ፈጥሮ ነበር ። ግን ታፈሰ የትም አልነበረም ። ሀዲስም ፈልጎ\\nሊያገኘው አልቻለም ።\\n'},\n",
       " {'page_number': 125,\n",
       "  'text': '124 ሀዲስ\\n\\nኻ\\n\\nበቡና ገበያ ትርምስ ውስጥ ማ ማንን ፈልጎ ሊያገኝ ይችላል? ሁሉም\\nቡና ለመግዛትና ለመሸጥ ይሮጣል ፥ ይጣዶፋል ። ለሰላምታ እንኩዋን\\nየለም ። ታዲያ ከደራ ቡና ገበያ ጋር በብዙ ሰዎች ላይ የሚደርሰው ም\\nሀዘንም ያንኑ ያህል ነበር ። ያተረፈው የሚደሰተውን ያህል ያጣውም ያዝ\\nናል ።\\n\\nበክረምቱ ወራት የቤተሰቡን ህይወት ለማዳን ሲል የቡና ዛፎቼን\\nእግር ቆጥሮ የሸጠው ድሀ ገበሬ ፥ ቡና ደርሶ በአበዳሪው በገፍ ተትሸምጥጠ\\nሲወሰድ እየተመለከተ ከዳር ቁሞ ባዶ እጁን በማጨብጩብ የደም አንባ\\nያለቅሳል ። ያምናው ክረምት ጨለማ ነበር ። የክርሞውም ክረምት ጭላን\\nጭል አያሳየውም። ለመኖር እንደ ገና መበዴር እንዳለበት እያሰበ ከዝያ\\nአፋፍ ላይ ቆሞ የተወለደበትን ቀን ይረግማል ።\\n\\nአንዳንዶቹም ቡና ሸጠው ያገኙትን ብር ሰአራጣ አበዳሪዎች በው\\nድም ሆነ በግድ ያስረክቡና ከእሳት ዳር ትቀምጠው የትራቡና የተራቆቱ\\nልጆቻቸውን እንባ ባቀረዘዙ አይኖች እየተመለከቱ ጥሬ እንዳጣ ፈረስ\\nእህህ ይሳሉ ።<\\n\\nአምናና ካቻምና የ ቡና ዛፎችዋን ተስፋ አድርጋ የቆየች ሚስት ዘንድ\\nሮም እንዳለፈው የመከራ ጊዜ ሁሉ እጅዋ አመድ አኣፋሽ ሆኖ ሲቀር እያ\\nናች የዶቀውን ቡሃቃ ሳትከድን ቤትዋን ጥላ ትጠፋለች ። ውብ ገላዋን\\nየምትሸፍንበት ብጣሽ ጨርቅ ያጣች የደረሰች ልጃገረድ አሁን ካለሁበት\\nመራራ ህይወት የባሰ ምን ሊመጣ? በማለት እድልዋን ለመሞከር ከቡና\\nጋር ተጭና ትኮበልላለች ። ለፍቶ መና የቀረው የቡና ገበሬ የቤተሰቡን\\nችግር ዳማሣመኛ ላለማየት ርጥብ ሳር በጥሶ መንገዱን ርጥብ አድርጊልኝ በማ\\nለት አድባርዋን እየተማፀነ ከልጆቼ ጋር በአይነ ስጋ በዶህና አገናኝኝ እያለ\\nየገባን ወንዝ ተሻግሮ ይጠፋል ። ጥር ወር ላይ የቤተሰብ ኑሮ ይሳላላል ፤\\nይናጋል ። ይፈርሳል ። ይህ ሁሉ የቡና ማክተሚያ ወግ ይሆናል ። ሀይወት\\nትቀጥላለች ። ስቃይ ይደርሳል ፤ ያልፋል ፥ አዱኛ ይመጣል ፥ ይሄዳል፤\\nደስታ ይገግኛል ፤ ይጠፋል ። የከሰረውም ከሰረ › ያሑረፈውም አተረፈ፤ የጦ\\nፋውም ጠፋ ። ግን በሰው ልብ ተስፋ አይሞትም ። የከርሞ ሰው ያድር??\\n፤፲፰ጾል ሯ አምናና ካቻ፪፴፲፲ናጡ በክረምት ወራቶች የተተከሉት የቡና ኛ፲አ፲፫\\n\\nው ልከርሞ ፍሬ ይሆናል ። ህይወ ም ቢሆን\\nልፍም--ችቀጥላለች ። መ ዮ ያ\\n\\nየቡና ቅሽር ብናኝ ሰከን ብሎ የቡና ንግዱ ሲል የሱጴ ሀ\\n\\nየ አ ት አ ር ድ መ መ\\nራና እን\\n\\nቴን ይጥልለታል ። ን ራራ ተ ልጅ\\n\\nሀዲስ ሳህሌ እንደ ተመቸው ሰው ፡ ሮበታል *ቶ?\\nከሌት እንቅልፍ አጥቶ ያላንዳች እረፍት ሲሰራ የኩረመ ሰው አይመሶዶም\"\\n\\n| ል\\nለአዲሱ ትምህርት ቤት ስራ የሚያስፈልገውን ና የማቆሪያ\\n\\nርዳታ ለመሰብሰብ የተማሪዎች ቀን በአል ፥ ቕወላጾየዷንዴበ በኦሚልቻላ፱ቸ፱፪\\n\\nጀ፪፲ ‹ ተማሪዎችን-አስተባብሮ በቡና ለቀማ ስራ ማሰማራት፤፤ቦ በየማዕፖ\\n'},\n",
       " {'page_number': 126,\n",
       "  'text': \"፤፣.ዉጤ8ክሎሔ-:።ዴ ዴ ሞ የየሸየየየሽ ሀዲስ 125\\n\\nእየሄደ አላማውን ማስረዳት ፤ ገበያ በዋለበት ቦታ ሁሉ በመገኘት ርዳታ\\nመለመን ፤ ከድሀ ገበሬዎች በገንዘብ ምትክ ያገኘውን ጀንፈል ቡና ሰብስቦ\\nገበያ በሚውልበት ቦታ ሁሉ እየሄደ ጉሮሮው እስኪደርቅ ድረስ በመከራ\\nከር መሸጥ ፤* እንደ ሂሳብ ሹምም ሆኖ ቀን ሲሰራባቸው የዋሉትን የደረሰኝ\\nካርኒዎች ውድቅት ድረስ ቁጭ እያለ መመርመር ቢኖርበትም፤ድካም የሚ\\nሉት ነገር አይሰማውም ነበር ።\\n\\nካርኒውን በተመለከተ ቀቅጥር አቶ ይርጋ ሊፈጥሩበት የሞከሩት ችግር\\nትዝ ይለዋል ። ህጋዊ ካርኒ በመንግስት ተፈቅዶ ካልታተመ በስተቀር በት\\nምህርት ቤቱ ስም ማንም ሰው ክመሬት ተነስቶ የርዳታ ገንዘብ ሊሰበስብ\\nአይችልም ፤ ሁዋላ በሀላፊነት ማን ይጠየቃል? ይህ ካልሆነ በትምህርት\\nቤቱ ውስጥ የወላጆችም ሆነ የተማሪዎች ቀን በአል ተደርጎ ቀዳዳ ሳንቲም\\nበርዳታ መልክ ቢጠየቅ ውርድ ከራሴ ብለው አሻፈረኝ በማለታቸው የስራ\\nአስፈፃሚ ኮሚቴ አባላትም ፈርተው ፤ «ነገሩ;እዚህ ላሳይ አበቃ» ሲሉት፦-\\n\\n«ግን ለምን!» አለሰ ።\\n\\n«የገንዘብ መስብሰቢያ ካርኒ ማሳተም ቀላል ነገር አይደለም ። ለመን\\nገድ * ለክሊኒክ ፥ ለትምህርት ቤት ስራ እያሉ ካርኒ በማሳተም ህዝቡን ዘር\\nፈው የውሀ ሽታ ሆነው የሚቀሩ ሌቦች እየበዙ ስለ ሄዱ ፈቃድ በቀላሉ\\nአይገኝም ። አቶ ይርጋ የነገሩን አስቸጋሪነት እያወቀ ነው ካርኒ ካልታትመ\\nሞቼ እገኛለሁ ያለው ። የዋዛ ሰው አይምሰልህ ። የሚሄድበት መንገድ አይ\\nታወቅም ። አስፈቅዶ ካርኒ ለማሳትም አንድ አመት ይፈጃል ። ካመት\\nቧፄኬየላ ደሞ አንተ የለህም ። ነገሩ አበቃ ማለት ነው» አሉት አቶ ጣሴ እየ\\n\\nጨ ።ወ\\n\\n«ሁዋላ የሚመጣብንን መዘዝ አታውቀውም ። ሳንቲም ሳናጎል ትም\\nህርት ቤቱን ብንሰራም ዘርፈው በልተዋል ተብለን መወንጀላችን አይቀ\\nርም ። የወደቀ ዛፍ ምሳር ይበዛበታል እንዲሉ ፤ ከተወንጀልን በሁዋላ\\nየሚመሰክርብን ይበዛል ። የተዘረጋልን ወጥመድም ይኸው ነው ። እያየን\\nእወጥመድ ለምን እንግባ?› ስላሉት ደረሰኝ ከማሳተም በቀር ሌላ ምርጫ\\nእንዳልነበረው በማወቅ ወዶ መቱ ለመሄድ ተነሳ።\\n\\nበበራሪ መኪና የገባን ቁልቁለትና ዳገት በጣር ቡዋጦ ወርዶና ወጥቶ ፥\\nኖጳን አልፎ ፤ የሶርን ወንዝ ተሻግሮ መቱ እንደደረሰ የተንቁዋቁትን አጥን\\nቶቹን ለመዘርጋት ገና ሲንጠራራ ፤* ታፈሰ ብሩ በብዙ ሰዎች ታጅቦ እየተ\\nጣደፈ መንገድ ሲያቁዋርጥ ከሩቅ አይቶት ሮጦ ያዘውና ፤ «የት ጠፍትህ\\n፲፤፲፪፩ምክ ጃል'»» ብሎ ጠየቀው ፥ ከጠጉሩና ከቅንድቦቹ ላይ አቡዋራ እያራ\\n።\\n\\n«አልጠፋሁም ። ስራ በዝቶብኝ ነው ። ከትናንት ወዲያ ነው እዚህ\\nየመጣሁት» ሲለው ፤ እያንዳንድዋ ደቂቃ የምታመልጠው ይመስል ሰአ\\nቱን አስሬ ይመለከት ነበር ።\\n\\n«ሱጴ አንተን የማይፈልግ የቡና ነጋዴ የለም ።»\\n\\n«አውቃለሁ ። አፋቸውን ከፍተው ይጠብቁኝ ። እኔ በምፈልገው\\nጊዜ ፥0 ቦታና ሁኔታ ያገኙኛል» ብሉት ሀዲስ በለበሰው ኣቡፍራ በመጥግ\\nረም ፤ «አንተስ እዚህ ምን አመጣህ?»\\n\"},\n",
       " {'page_number': 127,\n",
       "  'text': \".‹428 ሀዲስ ኢ\\n\\nዋራውን ከላዬ ላይ እያራገፈ መቱ የመጣበ\\nአ መክክ አ አጽው፣ ታፈሰ እንባ እስኪወርደው ድረስ ሆዱን ይ፤\\nሲስቅበት ፣ ያጀቡትም ሰዎች ምንም እንኩዋን የተባለውን ነገር ባይሰ\\nሙም ኣብረውት ይስቁ ነበር ።\\n\\n«እንዲህ የሚያስቅ ነገር ምን አገኘህ?» አለው * አቡዋራም ጠጉሩን\\nቆፈር ቆፈር ኢያዶደረገ #\\n\\nምታስቀቅው» ብ\\n\\n«ታስቃለህ ። ሀይለ ስላሴ ይሙት በጣም ነው የ ው» ብሎት\\nእንደዶ ገ፰ስር፷ዱን ይዞ ሲስቅበት ከቆየ በሁዋላ እንባውን እየጠረገ ፥ «ሳይህ\\nምን ምስል በአይኔ ይመጣል መሰለህ»\\n\\n«ምንድን ነው የሚመጣብህ]?»\\n\\n«የጥራጥሬ ክምር በሞላበት ክፍል ውስጥ አንዲት የወደዶቀች ጥሬ የም\\nትፈልግ ኣይጥ ምስል እየታየኝ ነው የምስቀው ። አታስቅህም?» ብሎት\\nእንዶ ገና ከት ብሎ ሲስቅበት ፤ትቶት ሊሄድ ሲል ታፈሰ ትከሻውን ይዞ እያ\\nቆመው ሰአቱን ተመልክቶ ሲያበቃ ፤ «ስራዬ ብለህ ለያዝከው የእብድ\\nወይም የሞኝ ፈሊጥ ጊዜ ባይኖረኝም እረዳሃለሁ ። ግን እንዶ እውነቱ ከሆነ\\nእንዳንተ ያለ ጭንቅላት ያለው ሰው በእንዶደዚህ ያለው የቂል ስራ ላይ ጊዜ\\nውን በክንቱ ለምን እንዶደሚያጠፋ አይገባኝም ። የችምህርት ቤቱ ነዝር\\nእንደ ውቃቢ በላይህ ላይ ሰፍሮ በሽታ ሇኖብሃል ። ደረሰኝ ለማሳተም\\n\\n- ፈቃድ አይደለም የምትፈልገው? እሺ ፥ በል ተከተለኝሜ » ብሎት አጃቢዎ\\nቹን ሸኝቶ እየተጣደፈ ሲቀድመው፤ከእሱ እኩል ለመራመድ እየሞከረ ፦\\n\\n«በምሰራው የማታምን ከሆነ ለምን ትረዳኛለህ?» አለው ።\\n\\nታፈሰ በፍጥነት ወደ ፊት እየተምዘገዘገ › «አንትን ለመርዳት ብዬ አይ\\nምሰልህ ።»\\n\\n«ለምን ብለህ ነው ታዲያ?ገ» ብሎ ቆም ሲል ፡ .\\n«ገንዘብ ያለውን ሃይል ላ , «ፈቃ\\n፰፪ግ፰፣ተሀ ተአምራዊ ትምሳ፲፸፩ኤ፲፲ሀ ብዬ ነው» በማለት ፥* ዞር ብሎ\\n> ብሎት ፥ ከጠቅላይ ግዛቱ ትምህርት ቤት ስራ አስኪያጅና '\\nጅሮንድ ጽህፈት ቤቶ ውስጥ\\nተመልለ ጠፍር፣ ፲አ፫ይጩት *5 ግማሽ ሰአት በማይሞላ ጊዜ\\nትምህርት ቤት ማሰራት ቀርቶ\\nሰጠው =ወ\\n\\nሀዲስ\\nሎ ጠየቀ፭ው፲ቃዳ፭ን በቀላሉ በማግኘቱ ደስ እያለው ፥ «ምን አሉኝ እባክህ?*\\n\\nእየተገረመ ፣ «8 ጥ ለሰ!» ብሎት በቀረበበት ክስ ፍጎከ፰ዳ፰፲፪ሷ፶\\nላድማ የማይመ ው* ለተማሪዎች አርአያ ሊሆን ት\\nነው ያቀረቡብህ ስ፲፲፰፲ዴገኛ የፖለቲካ ሰው ነው ፥፣ የሚል ከባድ ሪ”ፖ“\\n\"},\n",
       " {'page_number': 128,\n",
       "  'text': 'ዳበው፡፡፡መመመ፡፡.--ክዜርጹ: በ8 . :. -.8\\n\\nየተሰጠውን ፈቃድ በደስታ አገላብጦ እያነበበ ፥ «እንደየእቅማችን\\nለሀዝብ ያለብንን ግዴታ ለመፈጸም መሞከር አደገኛ የፖለቲካ ወንጀለኛ\\nየሚያሰኝ ከሆነ ምናለ--አይከፋኝም ። ግድም የለኝም ።#ይልቅ የሚከፋኝ\\nባለችኝ ትንሽ አቅም ለዚህ ደግ ህዝብ ምንም ሳላደርግ ብቀር ነው ። ወን\\n\\nማለትም እሱ ነው» ብሎት ወረቀቱን በጥንቃቄ አጣጥፎ ኪሱ እየከ\\nተዮ፥ርያቶ ይርጋን ክስ እርሳውና ይልቅ ደረሰኙን የት እንደማሳትመው\\nንገረ ።#>\\n\\n«አዲሳባ ነዋ ። እዚህ ማተሚያ ቤት የት አለ? ለዚያውም ገና ሳንሱር\\nማስደረማ አለብህ»\\n\\n«አትለኝም!»\\n«ሌላ ምርጫ የለህም ።»\\n\\n«ታዲያ ምን ይሻላል?» ብሎ ግራ ሲገባው በማየቱ ታፈሰ «ኦፋ!»\\nብሎ ወረቀቱን ተቀብሎት ፤ ዛሬ ወደ አዲሳባ የሚሄድ ሰው አለ ። እሱ\\nአሳትሞ ያመጣልሃል ። ስለ ማተሚያ ዋጋም አትጨነቅ ። የኔ መዋጮ ይሆ\\nናል ። ለማይረባ ነገር መዋጮ አድርጌ አላውቅም ። ግን ፤ ታሳዝነኛለህ»\\nብሎት ጥሎት ሊሄድ ሲል ከተል ብሎት ፤ «ምን ስትሰራ እንደ ከረምክ\\nአልነገርከኝም።ወ\\n\\n«ጊቓዜ ሲገኝ ። አሁን ጊዜ የለኝም»ጋ ብሎት የመቱን መንገድ አቡዋራ\\nበጫማው አንስቶ እያቦነነ ጥሎት ሄደ ።\\n\\nሀዲስ የቀረውን ጊዜ በመቱ ያሳልፈው የሚነበብ ያማርኛ መፅሀፍ በመ\\nፈለግ ነበር ። መፃህፍት-ቤት የሚባል ነገር በከተማው አልነበረም ። ከአ\\nእምሮ ድህነት የከፋ ነገር የለም ። \\'\"በቁዋንቁዋችን የምናነበው-ነገር-እየፈ\\nለግን ስፍጣ ያሳዝናል ። የሚያሳፍርም ነገር ነው---የሶስት ሽህ ዘመን ታሪክ\\nተሸክመን *0 ከማንም በፊት የፊደል ባለቤት ሆነን ፣ የስነ ፅውፍ መናጢ\\nድሆች ሆነን ስንገኝ!\\'? እያለ ፤በሚያፈጡበት ብዙ ወጣት ሴተኛ አዳሪዎች\\nእንደ ተክበበ ካንድ ቡና ቤት ተቀምጦ ሲበሳጭ ነበር፤አንድ ሱቅ በደረቴ\\nመጥቶ ፎመፅሀፍ ይገዛሉ?» ብሎ የጠየቀው ።\\n\\nሱቅ በደረቴው ከያዛቸው መፃህፍት ውስጥ\\'\"አንድ ለናቱ” “ቀሪን ገረ\\n\\nመው\"” “የታሪክ ማስታወሻ? የተባሉትን መፃህፍት መርጦ ፤ በዋጋቸው ላይ\\n\\nየ፲፲፺፶ርክር ሳያበዛ ፥ «እነዚህንም እንዳላነበበች ተስፋ አድርጋለሁ» በማለት\\nዛቸው « ፡\\n\\nበማሜግስቱ የመርዳሳ ጅሩን በቅሎ ተከራይቶ ፤ መርዳሳን ፤ «ታዲያ መን\\nገዱ እንዴት ይዞሃል?» ሲለው ፦\\n\\nልስለጁሰዎ ፥«ካለሱ ምን ህይወት አለኝ? ህይወት ነው ጌታው» ብሎ ሲመ\\n\\nመልዕ ፡«አይደክምህም ወይ በየቀኑ በዚህ መንገድ ስትመላለስ?»\\n«ጌታው ፥ ህይወት ራስዋ አድካሚ ነች ። ከማንክራተት ሌሴላ ምን\\n\\nደላት ወ ተንከራተቺ ያላት ነፍስ ስትንከራተት ትኖራለች» እያለ ከበቅሎ\\nእኩል በመሮጥ ይመልስለታል ።\\n'},\n",
       " {'page_number': 129,\n",
       "  'text': '--128 ወዲክ ኢኢ\\n\\nሀዲስ ድካሙን አይቶ ዋ! ከበቅሎ እኩል ሮጦ ማደር! ብሎ መርጳ\\nከለመዳት ጥላ ስር ላንዳፍታ አረፍ በማለት ከሚያውቃት ምንጭ ቀዝቃ)\\nውሀ ሲጎነጭና ከማጅራቱና ከግንባሩ ላይ ውሀ ሲያፈስ እያየው ፥ «አርስህ\\nብትበላ እኮ ይህ ሁሉ ድካም አይኖርብህም ነበር ።»\\n\\nመርዳሳ በሀዲስ ሞኝነት እየሳቀ ፥ «በማን እድሌ ጌታው? ድሀ የ\\nርሰው ቀርቶ ለመቃብሩም ቦታ አጥቶአል ። ቢያርስስ ምን ሊተርፈው)?\\nደክሞ ለቀን ጅብ» በማለት እያጫወተው ነበር ጀምበር ሳትጠልቅ ሱጴ\\nየደዴረሱት ።\\n\\nሀዲስ ወደ ቤቱ አልሄደም ። በቀጥታ ያመራው ወደ ፊታውራሪ ቤት\\nነበር--እንዳላነበበቻቸው ተስፋ አደርጋለሁ እያለ።ትምህርት ቤቱ አጠገብ\\nሲዶርስ ሳያስበው ቆም አለ ። እና ፥ እጆቹን ተመልክቶ መንገዱን ቀጠለ።\\nወዶ ፊታውራሪ ቤት የሚያወጣውን ዳገት ሲያያዝ * አሁን ምን ላደርግ\\nነው የመጣሁት ልል ነው? ምን ምክንያት ይኖረኛል? በማለት ልቡ ቢያመ\\nነታም እግሩ ይራመድ ነበር ። እንዲሁ እያመነታ ሄዶ ሲደርስ ግቢው ጭር\\nብሎ አገኘው ። ወደ ሁዋላ የመመለስ ፍላጎቱ ቢበረታም አላስቻለውም ።\\nየመጣው ይምጣ በማለት ቆርጦ ዘው ብሎ ገባ።\\n\\nቀና ሲል አይናለም ከሰገነቱ ላይ ቆማ በምሽት ጀንበር ብርሃን ጋዜጣ\\nስታነብ ኢኖያት ። ልቡ ካለችበት ዘላ ከጉሮሮው ላይ የትወተፈች ይመስል\\nትንፋሹ ታነቀ ። ጀንበሪቱ ሳትጠልቅ ትንሽ እንድትቆይ ሊማለዱዋት\\nየሚፈልጉ ይመስል ፤ ርግቦች ከጣራው ላይ እየተነሱ ወደ ጀንበርዋ አቅ\\nጣጫ ይበሩ ነበር-። አይናለምም ነጭ ጉም በመሰለው የሀገር ልብስዋ ነጠላ\\nዋን ክንፍ ኣሕድርጋ እያውለበለበች የምትበር መስላ ትታየው ነበር--ነፋስ\\nየበተነው ጠጤጉርዋ የምሽት ጀንበርዋን ብርሃን እየጋረዶ ። በድኑ ነበር ያንን\\n\\nስሞተኛ የኤንጨት ደረጃ የወጣው ። ደረጃው ሳይሆን ልቡ የሚያቃስት\\nነበር የሚመስለው ።\\n\\n«ፊታውሪ.ሪ አሉ?»\\n«የሉም ።»\\n\\nየት እንደ ሄዱ ለመጠየቅ አልፈለገም ። ፊትዋ ላይ የሚተረማመሰው!\\nየምሽት ጀንቦር ብርሃን የሚመስለው ደም ልቡን -  አተረማመሰበት *\\nበሚንቀጠቀጡት ከንፈሮቹ ፥ «ምንድን ነው የምታኑቢቧው?ገ» አላት ፤ ኦሮጉ\\nየአዲስ ዘመን ጋዜጣ ቅጂ መሆኑን እያወቀ ።\\n\\n«አሮጌ ጋዜጣ ።»\\n\\nአለም ሁሉ ወደሙ\\n\\nቃተ ወርድ\"\\nዛፎ= እየዘፈኑ ዳንኪራ የሚረጓግ .አልቄ ወንዝ እየዘፈነ የሚ\\n\\nየሚረግጡ ይመስለው ነበር ።\\n\\nዴቴ ርፀጋ፡ዲስ ጋዜጦች አምጥቼልሻለሁ.... እ...-ጥቂት መፃህፍትም ፫ገሰ፲፪\\n'},\n",
       " {'page_number': 130,\n",
       "  'text': \"ሀሠዲስ 129\\nኮሬንቲ የያዘው ይመስል መላ ሰውነቱ ተትንቀጠቀጠ ። መፃህፍቱፓ\\nሆኑ ጋዜጦቹ ሣግራና ቆቀሜ ከሙሬት ሲወድቁ እጆቻቸው እንዴ ተቆላለ4\\nቀሩ ። ላንዳፍታ አይን ለአይን ተጋጩ ። የንዳድ በሽታ የያዘው ይመስሪ\\nሰውነቱ ነዶደደ ። እጆቹን አልቦት ነበር ። ቀስ ብሎ እጆችዋን ለቀቀቶ ።\\n\\nርግቦቹ ለምሸሽቱ ጄጀንበር መልእክታቸውን አድርሰው እየተመለሰ\\nከጣራው ላይ ይሰፍሩ ነበር ። ጀንበሪቱ ግን እያሸቆለቆለች ሄዳለች ። የወ\\nዴቁትን መፃህፍትና ጋዜጦች አንስቶ ቀና ሲል የጀንበሪቱ መልክና አይና\\nለም ፊት ላይ ይተራመስ የነበረው ቀለም አንድም ፤ ሁለትም ሆኖ ተማታ\\nበት ። የሚነፍሰው ቀዝቃዛ አየር ጠጉርዋ ውስጥ ገብቶ ይ=ፄወት ነበር ።\\n\\nመፃህፍቴንና ጋዜጦቹን ሰብስቦ እየሰጣት ፤ «መፃህፍት ማንበብ ደ፤ያ\\nይልሻል?» አሕላት ።\\n\\n«አዎን * ከመፃህፍት ሌላ ምን መስኮት አለኝ?» አለችው የመፃህፍ\\nቱን አርእስቶች አገላብጣ እያየች ።\\n\\n«እንዴት?7>»> አላት ።\\n\\n«መሄጃ ዋለሜማ ። ምን መሄጃ አለኝ?»\\n\\n«እንዳላነበብሻቸው ተስፋ አለኝ ።»\\n«እነዚህንስ አላነበብኩም ። ለመሆኑ ስለ ምንድን ነው የሚናገሩት?»\\n\\nደስ እያለውና የሚያልቡትን እጆቹን ሱሪው ላይ እየጠረገ ፥ «ሁለቴ ፤\\nበቀጥታ የታሪክ መፃግህፍት ሲሆኑ አንዶኛው ‹«አንድ ለናቱ”? የተባለው መፅ\\nሀፍ * ታሪክም ነው ፤ ልብወለድም ነው» አላት ።\\n\\nነፋስ የበዙነውን ጠጉርዋን ከፊትዋ ገለል አድርጋ ፤* «እኔ ደስ የሚለኝ\\nልብወለድ መፅቃሀፍ ነው። በተለይ ስለ ፍቅር የሚተርክ ልብወለድ መፅሀፍ\\nበጣም ዶስ ይለኛል» ብሳው እንደ መተትከዝ ካለች በሁዋላ ፤ «ለመሆኑ መቼ\\nነው የምትመሌሰው?» አሕለችው ።\\n\\n«ወዴት?ው\\n«ወዶ አዲሳባ ።»\\n\\n«ከሰባት መር በሁዋላ ነው» ሲሳላት ፊትዋ ከቃላቱ ጋር ሲጨልምፖ'\\nታየው ።\\n\\n«ምን ሆንፀሽሽ?»\\n\\n«ምንም ። ጀንበር ልትጠልቅ ስትል ልቤ ያዝናል» አለችው * ፈገግ\\nለማለት እየሞከረች ። ማን አልሆነላትም #\\n\\n«ነገ ተመልሳ ትወጣ የለ?»\\n\\n«አዎን ። ብቻ ልቤ ማዘኑ አይቀርም» ብላው ርግቦች ሲበሩ በማየ\\nትዋ ፤ «እነዚያን ርግቦች ባዴረገኝ» አለች “\\n\\nበምሽት ጅን በር እንዴ ቤት መቅዶስ ጡዋፍ\\nናችዋ ክርግቦቹ ጋር አብረው ይበሩ ነበር ።\\n\\n«ለምን?ወ ኣለት ። በአይኑ አይኖችዋን እየተካተለ “\\n\\nየሚያበሩት ትላልቅ አይ-\\n\"},\n",
       " {'page_number': 131,\n",
       "  'text': '--430 ሀዲስኢ\\n\\n። ወዶ ፊለጉበቸ ቦታ ይበራሉ» አልችው ፡\\nእንባ ፰፪የጓረ፩ዷላ፭፲፰ « እንባዋን እንዶ ምንም ውጣ ፮፭ «እሁድ እሷያፏየጁኮ\\nክርስቲያን ለምን አትመጣም?» ብላ ያላሰበውን ጥያቄ ጣለኝችበት «\\n\\n«ምን ላዴረግ?»\\n\\n«ም” ነው ክርስቲያን አይዶሰህም?»\\n‹«ምን እንዶሆንኩ አላውቅም።»\\n<እንዴትገ7>»\\n\\nኗእኔ የማምነው ህይወት * ነፃነትና ደስታን መሻት በሚሉት ሃይሣግ\\nኖት ነው--ሃይማኖት ሊባል የሚችል ከሆነ» አላት ።\\n\\n«ጥሩ ነው።»\\n<ምኑ?»\\n\\n<የምትክተለው ሃይማኖት» ብላው * ተጋልጦ እፓ:”2. ፅርሀ አርያም\\nያበራ የነበረውን ዶረትዋን በነጠላዋ እየሸፈነች * «ህይወት ሰጥቶ ነፃነት\\nየሚነፍግ እግዜር ደስ አይልም ። ያናድዳል» ስትለው በነገርዋ ተትዴንቆ ፈዞ\\nቀረ።\\n\\nክዚያ ቀን ምሽት በሁዋላ እሁድ በደረሰ በማለት ቀኑ መሽቶ አልነጋ፤\\nወይም ነግቶ አልመሽ እያለው ሲጨነቅ ነበር የከረመው ። አይደርስ የለ\\nምና እሁድ እያዘገመ ዶደረሰ ። ከመቅዶሱ ወዲህና ወዲያ ማዶ ሆነው አይና\\nችዋ እአንዶ ጥዋፍ እያንቦገቦጉበት ከሩቅ እየተሰረቁ ከመተያየት ሌላ ተገና\\nኝተው ለመነጋገር እድል አልነበራቸውም። ልትነማግረው የፈለገችውን ነገር\\nለማወቅ ያደረበት ፍላጎት ስለ ትምህርት ቤቱ ከሚያውጠነጥነው አሳብ\\nጋር ትዶምሮ እረፍት አሳጥቶት ነበር ...\\n\\nማሪ ሰሴቀቀን ሆኖበት ነበር ።\\n\\nበሶስተኛው ሳምንት መጨረሻ ላይ ደረሰኞቹ ታትመው ሲደርሳት\\n፸፲፡፭፮ስ፲፰፪ፀረ ብዛት ድንጋይ እንዴ ተወረወረባት ፮፰ ነበር በሮ አቶይሮ\\n\\nኤቶ ይርጋ ክቡና ሽያጭ ያገ\\n\\nስለ ነቦ«\\nያለ ቀጠሮ በመምጣቱ ደስ አላላ ኙትን ብ፲ር ዐር ዘግተው ይቆጥፕሩ\\n\\nየሚሜነግሩዋችሁን አትሰሙም ። ቦ ከሪ\\nየተሞላው ልባችሁ አያስተውልም , ምሉታዶ\\nውን ብር ለብለድት የ ፡ ኢያ ይምጋ ይ ቃስ፣\\n\\nያ\\nዴረሰኞቼን ፊታቸው ቁፋጭ ለማመን ?/፡፣\\nቸው * ፍእንዴት በቀላሉ ሊሳካልህ ቻኒ.2 አይናቸውን ሰማመት ብለዎ\\n'},\n",
       " {'page_number': 132,\n",
       "  'text': 'ሠዲስ 131\\n\\n«አሁን የርዳታ መሰብሰቡን ስራ ልንጀምር እን ›\\n«ርዳታ የሚሰጥህ ካለ ምናለ» ብለ ዝም አለቸጄመሀ\\n\\n«እሺ ። ስራውን የምን ምር መሆናችንን እንዲያውቁት ነው ።»\\nጥርሳቸውን ነክሰው * ነልህ ምናለ!» አሉፀኑ፲፲ጁ፲፲፲የ\\n\\nዴረሰኞቹ እጁ ከገቡ ወዲህ የሚያሳስበው ነገር አልነበረውም ። በትም\\n\\nሀርት ቤቱ ስራ እየተጠመደ በሄደ ቁጥር የአይናለም ነገር ካሳቡ እየራቀ\\n\\nይሄድ ነበር--ተቆርሳ የማትበላ የህልም እንጀጅራ ፤ እያለ።ታዲያ የሚገርመው\\n\\nኔገ፰ ፪፲፲፯፲በ፮ልቅ ብሎ ሰውነቱ እንዴ ባህር ዳር ቄጤማ እየለመለመ ሲሄድ\\n- ሠ=\\n\\n«ምን አግኝተህ ነው እንዲህ ያማረብህ ፥ ጀል?» አሉት አቶ ጣሴ፤በመ\\nውደድድ አይን እያዩት። ጃ\\n\\n«ተስፋ 6 ተስፋ ያለመልማል ። የምንጠወልገው ተስፋ ስናጣ ብቻ\\nነው» አሳላሳቸው ።\\n\\n«አምን ፤ ተስፋ የህይወት ምግብ ነው» አሉት ።\\nእየሳቀ ፤ «የሚወዱትም ስራ ከምግብ ይቆጠራል» አላቸው ።\\n\\n«አዎን ፤ እውነትክን ነው ። እኔም የማላረጀው በዚሁ ምክንያት ነው።\\nከማስተማር ይበልጥ ደስ የሚለኝ ነገር የለም>» አሉት ።\\n\\nታዲያ መንገዱ ውሉ ቀና ሆኖልት አልነበረም እንዲህ የሟሚለው ።\\nርዳታ ለመጠየቅ ሲሄድ ውሾች የሚለቁበት 0 ወይም የመጣበትን ጉዳይ\\nካዳመጡ በሁዋላ።ሌባ ሁሉ!ምላሳችሁ የመላእክት--ልባችሁ የሰይጣናት።\\nሌሎች በብጣኸ ካርኒ ሲዘርፉን የከረሙት አነሰንና ነው? ሄዶደህ ሞኝህን\\nፈልግ ። ሰው አንዴ ሁለቴ ይታለላል ፤ ም”ነው ጃል? ለሶስተኛ ጊዜ አይ\\nታለልም = የሌባ አይነ ዴረቅ መልሶ ልብ ያደርቅ» ብለው እየገፈተትሩ ከቤ\\nታቸው የመሚያስወጡትም ነበሩ ። ሆኖም እልፍ ሲል ፥ «ለግብር ካልሆነ በቀር\\nመቼም እኛን ዞር ብሎ የሚያየን የለም ። ራሳችንን ካልረዳን ማን ይረዳናል?\\nያንዳንድ ሰዎች ሌብነት ተስፋ ሊያስቆርጠን አይገባም>» ብለው ፤ቀ-ዋጠ\\nሮአቸውን ፈተው የተጨማዶዶች ብር ወይም ነጭ ሽልንማግ በእምነትና\\nበተስፋ የሚሰጡት ደግ ሰዎች ሲያጋጥሙት የእሱም እምነት ይጠነክርና\\nተስፋው ይታዴሳል ።\\n\\nርዳውታ መሰብሰብ ከጀመረበት ጊዜ አንስቶ እስካሁን ድረስ ካጋጠ\\nሙት ችማሮች አንድ ቀን የደረሰበት ችግርና ያገኘው ልምድ ክሁልም\\nይበልጥ ችዝ ይለዋል #\\n\\nእለቴ አርብ ነበር ። እኩለ ቀን ሆኖአል ። ከጠራው ሰማይ እንብርት\\nላይ የተንጠለጠለችው የቀትር ፀሀይ አናት ትወጋለች ። የሚወብቅና አቡዋ\\nራማ ቀን ነበር ።\\n\\nቀሩጥራቸው ከመቶ የማያንስ ተማሪዎች ከአንድ የቡና ትክል ማሳ\\nውስጥ ገብተው ‹፤ ዘፈን እየተቀባበሉ ፥ እየተሳሳቁና እየተንጫሙ እንጆሪ\\nመስሎ የ-+ተንዣረገገ ቡና ይሸመጥጣሉ ፤ ይለቅማሉ ፥ ይሸከማሉ * ይገለብ\\nጣሉ ። ኤንዲያው ወበቁም ወበቅ ሳይመስላቸው ስራውን ባፍላ ጉልበታ\\nቸው እንዳንበጣ ይወርዱበታል ። ሀዲስም ከተትማሪዎቹ እኩል እየተሩዋሩ\\nዋጠ ቡፍ ይለቅማል ፥ ይሸከማል * ያወርዳል » የጠማውን ውሀ\\nያጠጣል . . . ስራው ላይ የተሰማሩት ጎህ ገና እንዶ ቀደዴ ቢሆንም\\n6አንዳጥ-ዱም ላይ የድካም መልክ ፈፅሞ ኣአይታይም ።\\n\\n'},\n",
       " {'page_number': 133,\n",
       "  'text': '432 ህሠዲስ\\n\\nሀዲስ በልቡ ወዶው የሚሰሩት ምን ቢያዶክም * ምን ስቃይ\\nዴስ ይላል * ምክንያቱም « ድካሙ * ስቃዬ ፥ ትግሉ ሳይሆን የሟዴ፤ኚ፡።ት\\nጉት የሚጠብቀው ጣፋጭ ውጤት በመሆኑ ነው * እያለ ሸክሙን አውርር\\nቀና ሲል ፥ ቆንጨራ የያዙ የቀን ሰራተኞች ከጫካ ውስጥ ከየአቅጣግዑርጸ\\nብቅ ፥ ብቅ ፉ ኢእያሉ ሲከቡዋቸው ይመለክታል ። ቀደም ብሰው ሁኔታውን\\nየተረዱ አንዳንድ ተትማሪዎች ከክበባው አምልጠው እየጮሁ ወደ ከ\\nይሮጣሉ ። ጭጨኽት የሰሙ ትማሪዎች እየተዴናገጡ ክቡና ጫካ ውስጥ\\nጋግተው በመውጣት የተለቀመ ቡና ከሚከምሩበት ገላጣ ስፍራ ላይ\\nበሰቡ ፥ የቀን ሰሯተኞቹም ቆንጨራቸውን መዘው እየከበቡ ቀስ ብለውእየ\\n\\nተጠጉዋቸው ይመጣሉ ።\\n\\nቀዝቃዛ ላብ ጀርባውን ሲያሰምጠው ይሰማዋል ። የተማሪዎቹ ፥ በተ\\nለይም የልጃገረዶቹ፡፤ ሙኽት እየበረክተ በሄዴ ቀሩጥር ጉልበቱ ጭምር ሊከ\\nዳው ይከጅላል ። በኩሊዎቹ አይን ውስጥ ይታይ የነበረው ጥላቻ በልቡ\\nየባሰ ሽብርና ፍርሃት ይለቅበታል ። ለምን እንዶሆነ ሳያውቀው ፤ ላንዳፍታ\\nከመትረየስ ላንቃ ፊት ፀጥ ብሎ የቆመ ያቡነ ጴጥሮስ ምስል ይመጣበታል።\\nድንገግት ድምፁን ከፍ በማድረግ ፤ «ምን ሆናችሁዋል ! እስቲ አንዴ ፀጥ\\nበሉ!» በማለት ተማሪዎቹን ዝም ያሰኛል ።\\n\\nበቀትር አየር ላይ ከባድ ፀጥታ ይወድቃል ። ድው ድው የሚለው ያባ\\nጨፌ ድቤ ሳይሆን ህይወትን የሚማፀን የሰው ልብ መሆኑን ይገነዘባል ።\\n\\nሀዲስ ከተማሪዎቹ መካከል ወጣ ብሎ የዶረቀውን ጉሮሮውን በት\\nንፋሹ ጠርንጎ እየከፈተት ፥ «ወንድሞቼ ፥ ምንድር ነው ከኛ የምትፈልጉት”›»\\nበማለት የክበቡዋቸውን ኩሊምች ይጠይቃል ።\\n\\nራሱ ላይ አዳፋ ጨርቅ የጠመጠመ ፤ እጀ-ጉርድ ዝንጉርጉር ሹራ።\\nያጠለቀ አንድ ጠብደል ሰው ቆንጨራውን ይዞ እንዴ ሀዲስ ከኩሊዎቹ ምነክ\\nክል ብቅ በማለት ፤* «እናንተስ እዚህ ምን ታረጋላችሁ!»> ብሎ እንዴ ነጎድ\\nጉዋድ ያጉረመርምበታል ።\\n\\nጎልያድ እንደዚህ አይነት አስፈሬ ድምፅ ቢኖረው ኖሮ ፡ዳዊት ኮ*\\nእግሬ አውሟኝ ብሎ በፈረጠጠ ነበር ፤ ይላል ሀዲስ በተሸበረ ልቡ ።\\n\\n«ቡና ነው የምንለቅመው ። ሌላ ምን » ብሎ ይመኦሶ\\nታል ፤ አይኑን ከቆንጨራው ላይ ሳያነሳ ። ሥር\\n\\nፍዋጋ እየተጫረታችሁ በእንጀራችን መግ መራችሁት ከመኝ\\nወዲህ ነው!» ብሎ ቆንጨራወጎጀኢየ፰፣፲ወዘ ይጁየዷዩ ያነባርቅበታ .፣\\n«እነማን?»\\n፰፰ኑ፰ ፲ኗግሪዎችሂ፲ ዴለም ,»\\nጋ “\\nታ ዳ፲፻ስ፲፲፲ፀ፲ሜረትም በእንጀራችሁ ለመግባትም ኦይ “\\n«ቡና ለቅመን በምናገኘው ገንዘብ ትም ለማሶ\\nህርት ቤታችንን\\nነው ። ሌላ አላማ የለንም» ይለዋል ጠጉሩን ፻፮፪፻ፐ፲ፊረ ። .\\n\\n«እኛ ኖተነገረን ይህ አይዴለም\\n፲ው ጠጋ\\n'},\n",
       " {'page_number': 134,\n",
       "  'text': '«ምንድን ነው የተነገራችሁ?››\\n\\n«ዋጋ እየሰበራችሁ ስራችንን ልትቀሙን ተነስታችሁዋል ተብሎ\\nነው የተነገረን ። እኛ ዋጋ አነስን ብለን የተውነውን ስራ ዋጋ ሰብሮ ማን\\nወንድ ሊሰራት---እ? ደም ይፈሳል እንጂ!!» ።\\n\\n«ማን ነው እንዲህ ያላችሁ?»\\n«ማን ቢሆን ማ እሱ ምን ያረግልሃል?»\\n\\nሀዲስ ጠጉሩን ቆፈር ቆፈር ያደርግና፡ «የለም ወንድሞቼ፡ የተነገራችሁ\\nነገር ውሸት ነው ። ቅድም እንዳልኩት የኛ አላማ ትምህርት ቤታችንን\\nማሰራት ነው ። ትምህርት ቤታችንን ለማሰራት ያለንን ቁርጠኛነትና\\nበጎ ፈቃድ ለመግለፅ ክህዝቡ መዋጮ መሰብሰብ ብቻ በቂ ሆኖ አላገኘነ\\nውም ። እኛም ራሳችን በጉልበታችን ሰርተን ገቢ ለማግኘት በማሰብ ነው\\nቡና ለቀማ ስራ ላይ የተሰማራነው። እንድታውቁልን የምንፈልገው፤የግል\\nጥቅም ለመሻት ወይም በእንጀራችሁ ለመግባት አይዴለም ይህንን ስራ የጀ\\nመርነው ። እናንት በዋጋ ተጣልታችሁ የተዋችሁት ስራ መሆኑን አስቀ\\nድሜ ባውቅ ኖሮ እነዚህን ንፁሃን ወጣቶች እዚህ ጣጣ ውስጥ ባላስገባሁም\\nነበር ።ጥፍተኛው እኔ ነኝ ። እኔን የፈለጋችሁትን ነገር ልታረጉኝ ትችላላ\\nችሁ ። ምንም በደል ያልሰሩትን እነዚህን ንፁሃን ተማሪዎች ግን ተውዋ\\nቸው--ይሂዱ›» ብሎ ዝም ይላል ።\\n\\n«ለመሆኑ በስንት ብር ነው የተኮናትራችሁት?»>\\n«ባንድ ሽህ ብር ።>\\n«እኛ በሶስት ሽህ ብር እምቢ ያልነውን?»\\n\\n«እንዳልኩዋችሁ እኛ ስራውን የፈለግነው ለጥቅም ብለን አይዶዴ\\nለም ።»>\\n\\nአይናችው ደም ጎርሶ ዶም ለብሶ ያፈጡባቸው የነበሩት ኩሊዎች\\nእርስ በእርሳቸው መተያየት ይጀምራሉ ። በቃል የሚለዋወጡት አሳብ አል\\nነበረም ። ነገር ግን አንዱ የሌላውን አሳብ የሚያነብ ይመስላሉ ። አየሩ ላይ\\nወድቆ የነበረው ከባድ ፀጥታ የባሰውኑ እየከበደ ይሄዳል ። ነፋሱም ጭምር\\nፀጥ ብሎአል ። ዛፎች አይንቀሳቀሱም። የቀትርዋ ፀሀይ አትሞቅም--ትበርዳ\\nለች። ሰማዩ ቀጥሎ የሚመጣውን ነገር ለማየት ያልፈለገ ይመስል ጥቁር\\nዳመና መጥቶ ፀሀይቱን ይጋርዳታል ።\\n\\nምን አስበው ይሆን? ልባቸውን ዘልቆ ለማወቅ ያቅተዋል ። ልብ የላ\\nቸውም፥፤የህይወት ችግር ልብ ነስቶአቸዋል ፥ ከጭካኔ ሴላ ልብ የሳቸውም፤\\nእያለ ሲያስብ ፤ አንዱ ከመካከሳቸው ወጣ ብሎ እግሩ ስር አስር ብር ይጥ\\nላል። *ጎልያድም”\" ለጥቆ አስር ብር ይጥላል ። የተቀሩት ሁሉ ወደ ፊት እየ\\nመጡ አረንጉዋዴ፡ ብጫ ፤ ቀይ ብር እግሩ ስር በሚጥሉበት ጊዜ ፤ ክፋት\\nካሰበበት ቦታ ደግነት ፈንቅሎ በመምጣቱ ልቡ ክሩኛ ተነክቶ ስለ ሰው\\nልጅ ያለን ሕስተሳሰብ ምንኛ ስህተት ነው? እያለ ፈዞ ቆሞ ትኩስ ጣፋጭ\\nእንባ ማንባት ይጀምራል ። በእንባው ውስጥ ከፊቱ ቆመው የሚታዩት የበ\\nፊቱ አስፈፊና ጨካኝ የምድር ጎስቁዋሎች ሳይሆኑ የአለም ውብ ሰዎች ይሆ\\nናሉ ። የሰው ልብ ከመናኛ ጥቅም በላይ ሲውል የሚጎናፀፈው ግርማ ሞገ\\nስና ውበት በእንባው ተፅፎ ይነበብለታል --- በምስኪኖች ልብና ጎጆዎች\\nውስጥ የሚኝዶዴው ዘለአለማዊ የይግነት እሳት ላንቃ ከፊቱ እየነደዴ ሰማይ\\n'},\n",
       " {'page_number': 135,\n",
       "  'text': '‹‹ሀመለ እልኣ፦፡፣፦ልገልኤ . ፣\\nር አበቦች ወደ\\nድረስ ዘልቆ ይንቦገቦጋሖል - - - ከዋክብትና የምድ ሰ\\nብ ተለውጠው ስማይና ምድርን አጊጠው ይታዩታል.-.-. ል\\nአመፅ ነው!ምንድር ሃው እዚህ በመካሄድላ\\n\\n«ምንድር ነው! የምን\\nያለው!» የሚል ድምፅ ሰምቶ ሀዲስ ከጣፋጭ የቀን ህልሙ ባንኖ ይነቃል;\\n\\nየመቶ አለቃ አሽኔ ድምፅ ነበር.። ደመናው ገፎ የቀትርዋ ፀሀይ ብነ\\n\\nብሳለች ። መቶ አለቃ ሸጉጡን መዞ ይዞ እየተንጎራደዴ ሕይኑን አንዴ ሀዲስ\\nእግር ስር በተቆለለው ብር ላይ ፤ በሌላ ጊዜ ዶግሞ በኩሏዎቹና በተማሪዎቼ\\nላይ በመወርወር ፤ «ምንድር ነውኮ! ማን ነው የሚያስረዳኝሜ» ይላል እየደጋ\\n\\nገመ =\\n\\nጠብመንጃዎቻቸውን አቀባብለው የዶገኙ አራት ፖሊሶች ግራና ቀኝ\\nእያማትሩ አብረውት ይንጎራደዳሉ ። ተማሪዎቹን የቀጠረው የቡናው ባለ\\nቤት የአብድ ነጋሪት የሚያክለውን ቦርመሙን አንገፍጥጦ የሚያልበውን የተ\\nደራረበ ማጅር ግንዱን በዝንጉርጉር መሠረብ እየጠረገ ፖሊሶቹን ተገን\\nበማድረግ ቀጭን እግሮቹን አንፈራኮ ቆሞ ያለክልካል ።\\n\\nየተማሪዎቹ ወላጆችና ዘመድ አዝማድ ፤* እንዲሁም የደረሰውን ጉድ\\nለማየት እንዳለ ተገልብጦ የመጣው የሱጴ ህዝብ ትክሻ ለትክሻ ገጥሞ አቡ\\nዋራውን ሰማይ ድረስ በማስነሳት አእንዶ ዴራሽ ጎርፍ ወዶ ሬት እየተናደ ተማ\\nሪዎቹ ወዳሉሎበት ሲገሰግስ ከሩቅ ይታያል ።\\n\\nየመዱ አለቃ ቀያይ አይኖቹን ሀዲስ ላይ ኤሕያጉረጠረጠበት ፤ «የዚህ\\nሁሉ ሁከት ምክንያት አንት ሳትሆን አትቀርምና ብታስረዳኝ!» ይለዋል፤\\nከትእዛዝ ጭምር ።\\n\\n«ም>ድን ነው የማስረዳው?›»\\n«ም>ንድር ነው እዚህ በመካሄድ ላይ ያለው?!>\\n\\n«እንዶምታየው መዋጮ እየሰበሰብን ነው» ይለ ሀዲስ ፤ እግሩ\\nስር የተከመረውን ብር ተመልክቶ እያመለከትው ፀይ ዋል\\n\\nአንዲንድ ኩሊዎች አሁንም መዘዝ ብለው በመውጣት ወደዶ ፊትቶ0\\nጨጡፀበሀዲስ እግር ስር ከተቆለለው የብር መአት ላይ ተጨማሪ ብርይዶ?\\n\\nመቶ አለቃ በገጠመው ነገር ግራ መ * «የምን\\nመዋሥጮ ነው እሱ?» ይለዋል ድምፁን ለ፰ጩባ፩፲፰፲ር፰ የፓ “\\n\\nፎላ ሱ ከ; . . ስ\\nበው. ሱ ችምህሀርት ቤት ማሰሪያ የሚሆን ገንዘብ ነው የምንሶቦ\\n\\n«ከማን?›»\\n\\nከከጉትማ ተገልብጦ ቃ\\nቱን ኮ\\nናንቆ ይታያል ። ህዝቡ ከነጠመ ክነጹላፔ፭፮\\n\\nሲታይ ለደመ ስላል\\nውን ይዘሙ፥ «ልጄን! ልጄን ራ ሆ ብሎ የወጣ ይመስላ ሴቶ\\nችም !› ኢኣያሉ እዬዬ ልጡ ዙ\\nንበሩ ። ዋተትነሳው አኣኩዋ 1 አቸውንፀየፖቀ ። ተ፲፲ፃላ፻ለ፲\\n'},\n",
       " {'page_number': 136,\n",
       "  'text': 'መ ።-ጮቨክርሮም። ፡ ... 2 2\\n\\nየተዘረገፈ አንጅት * ወይም ተቀንጥሶ የወዶቀ ጭንቅላት ፡ ወ\\nድር ላይ በራሱ የዶም ኩሬ ውስጥ የተጋዶመ ትኩስ ሬሳረየጆነዷተኗ፰፭\\nበረም \"ዋይታው ወደ ሹክሹክታ ፤ ሹክሹክታው ወዶ ዝምታ ፤ ዝምታው\\nወይ ከባድ ፀጥታ እየተለወጠ ሲሄድ ፤ ሀዲስ ወደ መቶ አለቃ አሽኔ ዞር\\nብሎ* «እያየህ ክማን ብለህ ለምን ትጠይቀኛለህ?» እንዳለው አቶ ይርጋ *\\nብሎ የቆመውን ህዝብ ጥሰው ገብተው * ቁርጥ * ቁርጥ በሚል\\nትንፋሽ ፥ «አላልኩህም! ምን ብዬህ ነበር!> ይሎታል መቶ አለቃውን ።\\nላባቸው በማጅር ግንዳቸው ይንቆረቆራል ።\\n\\n«ምን ብለኽኝ ነበር?ወ ይላል የመቶ አለቃ አሽሸኔ ትቆጥቶ ።\\n«ይህ እንዴሚዶዴርስ አስቀድሜ ነግሬህ አልነበረም?»\\n\\n«ምን ዴረሰ?»\\n\\n«ይህ..-ያልኩህ-...ይሄ ነዋ--.»\\n\\n«እኮ ምን?>\\n\\nአቶ ይርጋ ግራ ይጋባሉ ። የባሰውኑ ያልባቸዋል ። ክሀዲዷስ እግር ስር\\nከተቆለለ ብር ሌላ ምንም አይታያቸውም ።\\n\\nመቶ አለቃ የአቶ ይርጋን መርበትበትና ግራ መጋባት ትመልክቶ\\nይስቅና ፤ «ይልቕ አንተም አዋጣ» ብሎ አስር ብር ከኪሱ በመምዘዝ ከሀ\\nዲስ እግር ስር ጮሙወረውራል ።\\n\\n«ምን?>\\n«ለትምህርት ቤትህ ማሰሪያ ነዋ =»\\n\\nእያላባቸው ቀስ ብለው አስር ብር ከኪሳቸው አውጥተው ይጥላሉ ።\\n\\nለተማሪዎቹ ስራ የሰጠው ባለርስትም ለመለገስ ክኪሱ ገንዘብ መዘዝ ሲያ\\nደርግ የመቶ ብር ቅጠል ይወጣል * ዴንግጦ መልሶ ብሩን ይከታል ። አሁ\\nንም ሲመዝ የፇምሳ ብር ቅጠል ብቅ ይልበታል ። አሁንም ይዶዴነግጥና\\nመልሶ ብሩን ይክታል ። ለሶስተኛው ጊዜ አስር ብር ሲወጣለት የሻገተትተ ጥር\\nሱን እያሳየ ከሀዲስ እግር ስር ይጥላል ። ክዚያ በሁዋላ ችእይንቱ ሁሉ ወደ\\nአንድ ትልቅ የመዋጮ በአል ይለወጣል- - . ሆ\\n\\nበዚያን እለት የዶረሰውን ታሪክ የሰሙ ሌሎች የቀን ሰራተኞች\\nቡድኖች ሀዲስን ፍለጋ ትምህርት ቤቱ ድረስ እየመጡ የእርዳታ እጃቸውን\\nበደስታ ይዘረጉለት ነበር ።\\n\\nተለይቶ የሚታመስ መልክ ኖሌላቸው ህይወትን .0”ተ\\nዋት ጅግኖች ፣ እያለ ሀዲስ በዐዘን ተጳሞልቶ ወንሾችን እያቁዋሪጠ ፤ ተራ\\n'},\n",
       " {'page_number': 137,\n",
       "  'text': '436 ሀዲስ\\n\\nጣና እየወረዶ አብሮአቸው ሲጉዋዝ ይቆይና ፥ አደራ\\n፰፰፰ ፰፪ሮስል ወዶ ትምህርት ቤቱ አሳብና ስራ በተጠናከረ መዷኮዷኖ፪፲፮\\nለስ ነበር ።\\n\\nቀጥለው አሙት *፤ ጥር ወር ሳይ * አንዳንዶቹ የከርሞ ስው\\n\\nለተለቦፀ፡፤ው ስራ ሩ በተለመዶው መንገድ * የተለመዶደውን ዘፈን እዷዖዘነው\\nተትመልሰው በሚመጡበት ወቅት ያዲሱ ትምህርት ቤት ስራ ተጠናቆ፰ኑ\\nልግሎት ላይ ውሎ ሲመለከቱ ምንኛ ደስ ይላቸው ይሆን? «የዚህ ትምሀርኑ\\nቤት ስራ ሲጀመር እዚህ ነበርኩ ። ርዳታም ሰጥቻለሁ ። እንዴት መሰለ\\nርዳታ ልንሰጥ የቻልነው? ታሪክ ነው እኮ-..» እያሉ ስለ ትምህርት ቤቲ\\nሲጨዋወቱ ለምን አይደሰቱም? አነሰም በዛም ባንድ ታሪካዊ ተግር\\nውስጥ ታሪካዊ ድርሻቸውን ለግሰዋል ፤ በማለት የቤቱን ፕላን እየተመለ\\nከተ አንዳንዴ ያስባቸዋል ።\\n\\nግን አሳቡ እዚያው ላይ ተገትቶ አይቆምም ። ያዲሱን ትምህርት ቤት\\nፕላን በተመለከተ ቀሩጥር አሳቡ እንደ ንስር አሞራ መጥቆ መብረርይጀዖም\\nራል ። አዲሱ ደወል ሲደወል ይሰማል # ትምህርት ቤት አጥተው በእረኝ\\nነት ይኖሩ የነበሩት ህፃናት ደወሉን ሰምተትው እየተንጫጩ ተንጋግተው\\nወዶ ክፍል ሲገቡ.-... በጣውላ የተነጠፈው ክፍል በወርቅማ የፀሀይ ብርፃን\\nተሞልት ፤ የተማሪዎቹ ፊትና በክፍሉ ውስጥ የትዶረዶሩት አዳዲስ ጠረ\\nጴዛዎች * ክፍሉን ያጥለቀለቀውን የብርሃን ጎርፍ መልሰው ሲያንፀባርቁ፤\\nዶዴስ የሚል ቤት ለደስተኛ ተትማሪዎች. .. በአይኑ ይመጣበታል ።እና ፤ወደ\\nእውነታ ተመልሶ ፡ ፕላኑን ስራ ላይ ለማዋል ያጋጠመውን ያልታሰበ አዲስ\\nችግር ሲያስብ ይበሳጫል ፥፤ አንዳንዴም ነገሩ እየገረመው ብቻውን እንደ\\nእብድ ይስቃል ።\\n\\nፕላኑ እንክን ኖሮት ወይም ካቅም በላይ ሆኖ ተገኝቶ አልነበረም\"*\\nፕላኑ ችኙግር አልፈጠረም ። ከብዙ ዘመን በፊት በመሆንዲሶች ተነድፎያቶ\\nይርጋ ዉቧሮ ግድግዳ ጌጥ ሆኖ የቆየ ግሩም ጭላን ነበር ። የሚሻሻል ነገር\\nቢኖር * ፕላኑን ለማስፈጸም የሚያስፈልገው ወጩጪ ከብዙ ዘመን በፊት የ?ተ\\nተመነ እንዶ መሆኑ መጠን ከጊዜው የዋጋ ሁኔታ ጋር አስተያይቶ የግሶተ\\nካክሉ ጉዳይ ነበር ። እሱም ቢሆን ተስተካክሎአል ። ከአስራ ሁለት ኦመት\\nበፊት ኤርባ ሽህ ብርይፈጃል ተብሎ የተገመተው ቤት አምስት እጅ መም፡ና\\n\\nመገኘቴ ሀዲስን ሳያስደንቀው አልቀረም ። ገንዘቡም - አልፊጠሪም\"*\\nበቂ ገንዘብ ነበር ። « ሻግፎ\\n\\nችማር የፈጠረው ያዲሱ ትምህርት ከየትኛው ቦታ ሦ\\nይጣል? የሚለው ጥያቄ ነበር ። ከባድ የሆሟ፡ዷቺ፰፣ መሰናክል።ፆ\\n\\nቤት መሰረት ለመጣል የታሰበው ያሁት ትዖ ሀ፲\\nርት ቤጭ አቅራቢያ ያለው ት ር” በዚ\\n'},\n",
       " {'page_number': 138,\n",
       "  'text': 'ሀዲስ 137\\n መጨመጨ- ። መ መ ፡ መ ። - -- - - - -››› በ መ ላ ዱ ሓ ከ ‹ ‹ ‹ ፡\\n\\nአልነበሬም ። ሁለተኛ ፥ እዚያው አካባቢ ሌላ ቦታ እንዳይመረጥ በቂ\\nቦታ አልነበረም ። ሶስተኛ ፤ ክዱሮው ትምህርት ቤት ራቅ ብሎ ሌላ ቦታ\\nመፈለግ የማይታሰብ ነገር ሆኖ በመገኘቱ ነበር። ለትምህርት ቤት የሚሆን\\nሰፊ ቦታ አይኑ እያየ የሚሰጥ ሰው ባሁኑ ጊዜ የት ይገኛል? በቀላሉ ለመ\\nግዛት ይቻላል ብሎ ማሰብ--ያውም የቡና አገር--ፈፅሞ የሚያዋጣ ነገር\\nአልነበረም ። የህዝብ ገንዘብ ካልሆነ ቦታ ላይ ወስዶ ለማፍሰስ ካልሆነ በስ\\nተቀር ። ዞሮ ዞሮ ወርካው ካለበት ስፍራ ሌላ አማራጭ ቦታ መፈለግ እን\\nዲያው ቀልድ ነበር ። ግን እንዴት ተትዶደርጎ!\\n\\nከብዙም ዘመን ጀምሮ እንደ እግዜር ሲመለክበትና ሲሰገድበት ፥ በየ\\nአመቱ » በተለይም በህዳርና በግንቦት ወራት ፤ ያልተቀጠቀጡ ኮርማዎች\\nሲጣሉሌት ፥ ንፍሮ ፤፡ ቆሎ * ቡና ጠላና ቂጣ ሲቀርብለት የኖረውን ፤ ደም\\nመረጨትና ቅቤ መቀባት የለመደውን ወርካ ማን አባቱ ደፍሮ ንክች አድ\\nርጎት!እሱ ምሱን አግኝቶ ካልታረቀ ከገባ በረሃ ዛር ማን ሊያስጥል? የሙ\\nታንን መናፍስት ማን ሊያስታግስ? ወይም የውቃቢን ቁጣ ማን ሊያበርድ?\\nወይስ ቆሌዋን ማን ሊያስደስት? ዴይም ካጣ ፥ ካልሸተትው እጣንና ከርቤ-፦-\\nአቦል ቡና--ማአት---ቁጣው ይወርዳል፡፤ ወርዶም አያባራ ። ዝናብ ይጠፋል፡፤\\nወንዞች ይዶርቃሉ ፤ ከብቶች ያልቃሎ፡ በሽታ ባገር ገብቶ ቀባሪ ይጠፋል፦\\nእና ፥ የሱጴ ምድር በሚያቃስቱ የሙታን መናፍስት ትሞላለች ። ያኔ ከወ\\nርካው ጫፍ ላይ ተጠምጥሞ የሚኖረው ታላቅ ዘንዶ ሲወራጭ ምድሪቱ\\nትሰነጠቃለች * የአለም ፍፃሜም ይሆናል ፤ እየተባለ ፥ ወርካው የሰው ልጅ\\nሳያርፍበት » ደም የለመዶደውን ግንዱን አወፍሮ ፤ ቅርንጫፎቹን በየአቅ\\nጣጫው እየዝረጋ ደረቱን ለፀሀይ ገልብጦ ሰጥቶ ዝንት አለም ይኖራል ።\\nጊዜው በመለወጡ ነበር እንጂጥንትማኮ ካለ ልጃገረድ ዶም እርቅ አያወር\\nድም ነበር ይባላል ። በጣልያን ወረራ ጊዜም ቢሆን የሰው ዶም እየጠጣ\\nመኖሩ ይነገራል ።\\n\\n. ደኗይሄውና! እናንተን ከዘመነ ጨለማ ወዶ ስልጣኔ ብርሃን ለማሸጋ\\nገር የመጣውን ደጉን የሮማን መንግስት አሜን ብካችሁ ባለመቀበላችሁ\\nአድባሩ ጥቆጥቶአል ። ሽፍቶችን ይዛችሁ ካላመጣችሁ አይታረቃችሁም ፥\\nአይን ያለው ይመልከት ፤ ጆሮ ያለው ይስማሟ « ልብ ያለው ያስተውል ። ጥላ\\nችሁ ካድባሩ ጋር ነው» እያሉ ፤ ገበያ በዋለበት ቀን ሁሉ የወርካው ሊቀ\\nጳጳስ፤አባ ጨፌ በመስበክ ፤ የተማረኩትን አርበኞኙፔኙ ፤ ወይም ከአርበኞች\\nጋር ግንኙነት አላቸው ተብለው የተጠረጠሩትን ሰዎች ፤ ወርካውን አስደዶግ\\nፈው በጥይት አረንዛ ይረሽኑ ፥ ወይም ከወርካው ላይ አውጥተው ይሰቅሉ\\nነበር--መርካው ህዝቡን እንዲታረቅ ።\\n\\nወርካው ምን ያላየው ታሪክ ይኖር ይሆን? ጊዜን አሻፈረኝ ብሎ ይኖ\\nራል--ይህቹዌ የድንቁርና ዛፍ!\\n\\n«ምን፲ይበጀናል ታዲያ?» አለ ሀዲስ ለተሰበሰበው ኮሚቴ።\\nመጀሯመሪያ የተናገሩት አቶ ጣሴ ዴጉ ነበር።\\n\\n«ቦታው መቼም ላዲሱ ችምህርት ቤት የሰጠ ነበር።ነገር ግን«ወርካውን\\nልንቆርጠው አንችልም ። ቃልቻው ሁሉ ይነሳብናል ። ህዝቡም ቢሆን\\nዶዴስ አይለውም ። ከሁሉም ነገር ይበልጥ መጠንቀቅ ያሶብን ደግሞ ነገሩ\\nከሰው ጆፎ እንዳይገባ ነው ። ወርካውን መንካት ቀርቶ ፣ እንዲህ ልማድረማ\\nኣስበው ነበር ብንባል * ነገሩ ሌላ ትርጉምና መልክ ይሰጠዋል»-አሉ ።\\n'},\n",
       " {'page_number': 139,\n",
       "  'text': '138 ሀዲስ\\n\\nጣ\\n\\n«አዎ» አለ ዱቤ ፥ «በሰው አምልኮ መግባት ሁዋላ መዘዙ ብኩ ነ\\nበእሳት ባንጫወት ይሻላል ። አቶ ጣሴ እንዳሎት ሌላው ቀርቶ ነገሩ፺፰፪\\nሳታችን እንኩዋን በኛ መሀል መቅረት አለበት ።»\\n\\nፍ«እንማማል ነው የምትለው?» በማለት አባ መስጠት ሁሉንም አንዴ\\nአሳቀ ።\\n\\n«እሺ * ምን እናድርግ አሁን?» አለ ሀዲስ ።\\n\\n«ከዚህ በፊት እንዶ ተነጋገርነው ትምህርት መስጠት ካልቆመ በስ\\nትቀር አሮጌው ትምህርት ቤት በቆመበት ቦታ ላይ ለመስራት አንችልም።\\nሌላ ሰፊ ቦታ የሚሰጠን ሰው ዶግሞ የለም ። ለማድረግ የምንችለው መንግ\\nስትን መሬት መለመን ብቻ ነው» አሎ ።\\n\\n«ጊዜ ይፈጃል!» አለ ሀዲስ ።\\n\\n«ጳልምን ፊታውራሪ ትካን መሬት አንለምንም ። ጳሞልቶአቸዋል»5 አለ\\nኣአባ መስጠት ።\\n\\n«እዚህ ከኬተማ ላይ ሰፊ ቦታ የላቸውም ። ያላቸውንም ሱቆችና ወፍጮ\\nቤቶች ሲሰርተውባቸዋል» በማለት አቶ ጣሴ ዴጉ መልስ ሰጡት ።\\n\\n«ታፈሰን ብንለምነውስ!?». አለ ሀዲስ ።\\n«ጠይቄውሙ ነበር» አሉ አቶ ጣሴ ።\\n«እናገ>\\n\\n«‹ድሮ የሰጠሁት መቼ አነሰ? አለኝ ። ችግሩን ባጫውተው ፥፤ \\'ለምን\\nወርካውን ቆርጣችሁ አትጥሉትም! እኔ እንዶ ካራሜሌ የማድለው መሬት\\nየለኝም” ብሎሜሼ ሄደ» አሎና አጫወቴት ።\\n\\n«የሰይጣን ጆሮ አይስማው!» አለ ዱቤ ።\\n«የቱን?» አለ ጋሼ ቀውሌ ።\\n«ቆርጦ ዮየመጣሉን ነገር!» ብሎ መለሰለት ።\\n\\n«ይህ ሁሎ ሰፊ መሬት እያለ እንዴት እንቸገር1» አለ ሀዲስ ጠጉ፥?\\nበንዴት እየቆፈረ ።\\n\\n«ያለን አማራጭ እንዳልኩት መንግስትን መሬት መለመን ነሟ\\'\\n\\nለምሳሌ ገበያው የሚቆምበት ቦታ ጥሩ ነው አይጠፉም”\\nአሉ ኣቶ ጣሴ ። ነው። ለገበያ ሌዳ ቦታ\\n\\nላፊ\\nኮሚቴው በቪሁ አሳብ ተስማምቶ ትበተነ ። ሀዲስ ግን “\"ለጎምን\\n\\nነዳውም?””“የሚል አሳብ አድሮበት ነበር።ውሎ አድሮጢ ባሰበበት ፎያር\\n\\nካውን እንዳል \\'ገማፈንዳት የተሻለ ዘዴ አላገኘም ። ማን እንዴችት፣! ነ?፤ ክታ\\n\\nዴረ እንቅልፍ ጅነሳው ጅሯመር ። ጡዋ ወጣ ሲዶ\\nፈፅ ብሩ ጋር በሩላይዷኖጾ ዐአንድጓ ት ከይቱ ጻ.\\n\\n«የት ጠፍተህ ከረምክ?» አለው ሀዲስ ።\\n'},\n",
       " {'page_number': 140,\n",
       "  'text': 'ሀዲስ  139\\nሌቻ\\n\\n«ስራ ይወኝ ነው» ካለው በሁዋላ ፥* «ምን ነው የደከምክ ትመስሳለህ?»\\nአለው*\\n«እንቅልፍ ኣጥቼ ነው....»\\n\\n«ስለ ችምህርት ቤቱ ስታስብ ይሆናላ!»\\n«መሬት ብትሰጠን ኖሮ አላስብም ነበር--.=\\n\\n«እንዶ ካራሜላ የማድለው መሬት የለኝም ብዬ ላቶ ጣሴ መልስ ሰጥ\\nቻለሁ ። እዚህ የመጣሁት መሬት ለማደል ሳይሆን ለማልማት ነው “\\nመሬት ካፒታል ነው ወንድም ። አንዴ የሆነ ሆነና ነው እንጂ አሁን ትችም\\nሀርት ቤቱ ያለበት ቦታም ለስራ ያስፈልገኝ ነበር ። ከጥቂት ጊዜ በሁዋላ\\nያ መሬት ግማሽ ሚሊዮን ብር ያወጣል ። መሬት ጨው እየሆነ በመሄድ\\nላይ ነው ። የምለው ነገር የሚገባህ ከሆነ» ብሎት ተያይዘው ወደ ቤት እን\\nደገቡ ፤ ጩግንኛወም ነገር ችግሩ ወርካው ከሆነ ለምን ቆርጠህ አትጥለ\\nሙ ሙ ፡\\n\\n«እያሰብኩበት ረነው፡፡»\\n\\n«ምን ማሰብ ያስፈልጋል? ማድረግ ነው ። ድርጊት! ድርጊት ። አኔም\\nድርጊት ላይ ነበርኩ ። እየሆነልኝ ነው» አለ ።\\n\\n«ምኑ?>»\\n«በቅርብ ጊዜ ሚሊዮኔር ሳልሆን]አልቀርምለ። ታያለህ1!»\\n«እንዴት ተሳካልህ እባክህ?»\\n\\n«ድርጊት! ድርጊት! ብዬሃለሁ» ብሎት * ምን ሲያዴርግ እንዴዶዴ ክረመ\\nያጫውተው ጀመር ።\\n\\nታፈሰ ብሩ አዲስ አበባን ለቆ ሲመጣ ከሃያ ሽህ ብር የሚበልጥ ገንዘብ\\nአልነበረውም ። ይህንንም ያገኘው መኪናውንና የቤት እቃውን በመሸጥ\\nነበር ። አላማው በያዘው ገንዘብ የቡና ችግኝ ገዝቶ ለመትከል ነበር ። ሲያ\\nስበው ፤ ጊዜ የሚፈጅ ነገር ሆኖ ታየው ። ሚሊዮኔር ለመሆን አምስት\\nወይም አስር አመት መጠበቅ የሚያዋጣ ነገር መስሎ አልታየውም ። የተ\\nከላቸው የቡና ችግኞች ገና አድገው * አፍርተው ፤ ተለቅመው---እንዲህ ያለ\\nትእግስት የልውም ። ስለዚህ አቁዋራጭ መንገድ መፈለግ ጀመረ ። ጥሩ\\nዘዴ መጣለት ። የባላባት ልጅ ነው ። ስም አለው ። የታጠቁ ትከታዮች\\nአሉት ። ቢግርፍ ፥* ቢያስር ፤ ወይም ቢገድል ማን ይነካዋል? ማን ኤባቱ\\nደፍሮ ከእሎሉ ፈቃድ ውጭ ሊሆን ይችላል? ከባላባት የመወለድ እድሎንና\\nሃይሉን መሰረትና መከታ በማድረግ ፤ የታጠቁ አሽከሮቹን አስከትሎ\\nበሱጴ እየዞፎ ፤ አነስተኛ የቡና ገበሬዎችን ሲቻለው በማግባባት ፤ ሳይቻ\\nለው በማስፈፌራራትና በማስገዴድ ሰብላቸውን እሱ በቆረጠው ዋጋ ፤ ያውም\\nበዱቤ በገፍ ይሰበስብ ጀመር ። በጥቂት ሳምንታት ውስጥ ያብዛኛዎቹን\\nነስተኛ ቡፍና ገበሬዎች ሰብል በውድም ሆነ በግድ እጁ ለማስገባት በቃ ።\\nእምቢ በማለት ሊጋፈጡት የሞክሩት አንድ ሁለት አነስተኛ ቡና ገበሬዎች\\nልታወቀ ምክንያት በየቦታው ትዶፍዯትው ቀሩ ።\\n\\nዎኙ በዚህ ፀ›ኔታ የሰበሰበውን የቡና ሰብል ወዲያውኑ ለቱጃር ቡና ነጋዴ\\nየ አሳልፎ አልሸጠም ። ቡና ከገበያ በመጥፋፉቱ ዋጋው እየተወዶዴ ሄዴ ።\\nእጥረት ለምን እንደ ተፈጠረ ነገሩን ተክታትለው የደዴረሱበት ታላላቅ\\n'},\n",
       " {'page_number': 141,\n",
       "  'text': '- 4 ሀዐዳስ ከ ሌዋኞ ዖሂ ያሸቪኡኦኦኦ.ጫዓዒዓአኬ\\n\\nች ፈሰን በእግር በፈረስ ይፊልጉጓ፲ ጀጆመር ። በእሱ ዎክንያ\\n።ም ይረሰባቸው አንዳንድ ታላላቅ ነጋዴዎች ሊያጠፉትም ፈልገኗ\\nአልሆነላቸውም ። ታፈሰ የሚያስከትላቸው የታጠቁ አሽከሮቹ\\nቀላል አልነበረም ። በተለይም ዋና ጣላቶቹ የቡና ደዶላሳዎችና አራጣ\\nአበዳሪዎች ነበሩ ። አንዳንዶቹ የተወለዱበትን ቀን እስኪረግሙ ድሪለ\\nተደብድበው ፥ እንዲሁም አንድ ሁለት የሚሆኑት ዶዴማቸው ደመ ከልብ\\nሆኖ ስለ ቀረ የሚቁዋቁዋመው ሰው ጠፋ።\\n\\nበሱጴሌ ቡና ንግድ ብቸኛ ሃይል መሆኑን ካረጋገጠ በሁዋላ ፥ ያንድ\\nፈረሱላ ቡና ዋጋ ስንት መሆን እንዳለበትች በስልጣኑ ይዶነግግ ጀመር።«\\nቴጃሮች * እሱ ባለው ዋጋ እጁን ስመው ቡናውን ከመግዛት ሌሴላ ምርጫ\\nአልነበራቸውም ።\\n\\n«እንዳልኩህ » ሀብታም ለመሆን ሁልጊዜ ካፒታል አያስፈልግም»\\nአሕለው * ነጭ ጥርሱን እያሳየው ።\\n\\n«ሃይል መጠቀቅም ነው ዘዴው?»\\n\\n«አምዎ ፤ ኩቷ ኩቲን የምትበላበት አለም ነው ። ይህን መርሳት የለብ\\nህም ። በትክክል የሚሰራው ህግ ይኽው ብቻ ነው።.- .-»>\\n\\n«በዱቤ ቡና የወሰድክባቸውን ሰዎች ከፍለሃቸዋል ብዬ ተትተስፋ ኦደር\\nጋለሁ- - .»\\n\\n«እየክፈልኩዋቸው ነው ። በዚህስ አልጠረጠርም ። እጥፍ ድርብ ዋጋ\\nአግኝሜቼበታለሁ ። አይዞህ ፤ ልብህ አይድማ ። እኔም ባልኖር ፥ አራጣ አበዳ\\nሪዎችና ዴላላዎች ይጫወቱባቸው ነበር ። አታልቅስብኝ ። ልቅሶ የሚያ\\nበዙ ሰዎች አልወድም ። ልቅሶ የደካሞችና የየዋሆች ስራ ነው» አለው\"\\n\\nሀዲስ በጥሞና ነገሩን ሲያዳምጥ ነበረና እንዶ ልማዱ ጠጉሩን ቆ«ር\\nቆፈር አድርጎ በልቡ ተአምር አያልቅም “የማፊያ\\'\\nስራ ስሰራ ነው የከረምኩት በለኛ!» አለውእቼ፡ለ ይችቾዎችዩ\\n\\nታፈስሲ ኮስተር ብሎ ምንም ሳያመንነታ ፥ ፍ መስሉሎፃሃ\\nኖሮአል? ሠቀኛ ነጋዴ አለ ቢሉህ አትፅ፫፲፺ ። ዷኚቺ፥ኚ ፲፰የ፯ድቅ፮፤ት ነውቆ\\nብሎት እንዴ ልማዱ በድንገት አቀማመጡን ለውጮጦ የምፀት ፈገግታ እያሳ\\nየው ፥ «ስማ ሀዲስ * እነዚህን ሞራልና ሃይማኖት የሚባሉትን ነገሮችሶ\\nካሞች ተዋቸው። አለም ምን ጊዜም ቢሆን የጮሌዎችና የጠንካሮች ናት+\\nሰው መሞቱ ላይቀር ህሊናና ሀላፊነት በሚባሉት ጣጣዎች ለምን ራ/\\n\\nአራዳን ስ\\nእንደ ሆንኩ አሳያቸዋለሁ ። እመነሜ ፣ ፡ ጫ ። እሃዚያን ው\\n\\n«ስራሙን ገና#መጀመሬ ነው ‹ ሁኔ#\\nለ ተሻለሉ\\nር አ. ፸ዷ፯ጊ፫፲፫ : እንደማገኝ ጥ፭፲ፔ፫ጩፒ፰ን፯ልኩ፰፺፰\\nአገር ናትው አለው « ብዙ የብር አምባሮች የሚሰበሩባት\\n'},\n",
       " {'page_number': 142,\n",
       "  'text': 'በከበ ሩጫ-ጧሎምሎሎ።ጵም።።ስጠው፡፡፡ /፡\\n\\n«የቡና ተክላውን ስራ ትተውከው ማለት ነው?>\\n\\n«እሱንም በቅርቡ እጀምራለሁ ። ጭሰኞቹ እንዲለቁ ተነግሮአቸዋል ።\\nፊታውራሪ ትካ በጣም አዝነዋል ። አይኔን ለማየት አይፈልጉም ። እሳቸው\\nመቼም ያለ ጭሰኛ ትንፋሽ ሊኖሩ የሚችሉ አይመስሳቸውም ። አሁንም\\nየሰው ክብሩ ሰው ነው ማለታቸውን አልትውም ። እኔ ደሞ ለጭሰኛ ግድ\\nየለኝም ። መሬቱ ያስፈልገኛል ። ለኔ የሰው ክብሩ ገንዘቡ ነው ፤ጭሰኛ አይ\\nደለም» ካለው በሁዋላ ፤ ሌላ ነገር ትዝ ብሎት ፥ «መሬቴን እየዞርኩ ስጎበኝ\\nምናገኘሁ መሰለህ? አለም ከክተፈጠረች ጀምሮ ያልተነካ ድንግል ድዴን ።\\nወይራ * ወርካ * ዝግባና ጥድ ብቻ ነው ። ሰዎች አምጥቼ አስገምቼው ነበር።\\nቢሸጥ በጊዜው ዋጋ ስንት ያወጣል አሉኝ መሰልህ? አምስት መቶሽህ ብር።\\nግን አሁን አልሸጠውም ። ካራት አምስት አመት በሁዋላ ፥ ምናለ በለኝ ፤\\nከሚሊዮን ብር በላይ ያወጣል ። ምን ትፈልጋለህ እንግዲህ? ገንዘብ ካለ\\nበሰማይ መንገድ አለ ነዋ! አዲሳባ ላይ የምሰራው ቪላ እኖ* የማዴርገው\\nፓርቲ ይታየኛል» ብሎት የሀዲስን ፊት በሙሉሌ አይኖቹ ባንዳፍታ አጠ\\nናና * «ምን ነካህ?ሙቋ በማለት ጠየቀው ።\\n\\n«ሳስብ ንበር ።»\\n«ምን?ው\\n«በጣም ትልቅ ምኞት ነው ያለህ» በማለት አሾፈበት ።\\n\\n«ውሻ አኤትውሁን። ገንዘብ፡፤ ስልጣን ፤ ሴት--ከዚህ የበለጠ በአለም ምን\\nትፈልጋለህእዌ ብሎት ሳቀበትና ፤* «ዳሩ ግን አንተ የምትኖረው በምኞት\\nአለም ውስጥ ነው» በማለት እንዴ ገና ሳቀበት ።\\n\\n«ምናልባት ይሇን ይሆናል ።»\\n\\n«ለመሆኑ ያ መከረኛ ትምህርት ቤትህ ከምን ዶረሰ?»ጅ\\n«ወዶ መቆሙ ዶርሶአል» አለው ተክዞ ።\\n«በወርክካው ምክንያት?»\\n\\n«አምን ።“»\\n\\nታፈሰ ሩቅ እየተመለከተ ፤ «ታውቃለህ? ስለ እሱ ወርካ የቆየ ትዝታ\\nአለኝ» አለሙ ።\\n\\n«የምን ትዝታ?»\\n\\nታፈሰ ብሩ ህፃን ሆኖ እልቄ ቅድስት ማርያም ትምህርት ቤት ሲማር ፤\\nደፋር መሆኑሟኃ ለጉዋዶኞቹ ለማሳየት ሲል ፤0 ወርካው ላይ የወጡ ልጆች\\nባጭር ይቀጫሉ ፥ ወይም ወርካው ላይ የሚኖረው ዘንዶ ይውጣቸዋል እየ\\nተባለ የሚነገረውን የማስፈራሪያ ቃል ከምንም ሳይቆጥር ፥ ከወርካው ላይ\\nተንጠላጥሎ ድየው አላፊ አግዳሚ ሁሉ ፤ “አይንክን ላፈር ያርገው! የሱጴ\\nአድባር እንዳሌለች ባጭሩ ትቅጭህ!? እያለ እንዴት ይረግመው እንዴዶነበርና፤\\nእናቱ ይህን በሰሙ ቁቄጥር የረገሙትን ሁሉ አስጠርተው ፤ “ማሩልኝ\" በማ\\nለት እንትፍትፍ ሲያሰኙበትና ሰዎቹ ከሄዱ በሁዋሳ ቅቤ በጠጣ ጉማሬ *\\nሁለተኛ ይለ-ምድሃል?” እያሉ ልቡ እስኪጠፋ ድረስ እንዴት ይገርፉት\\nእንዶ ነበረካጫወተው በሁዋላ፡«አባ ሰይጣን የሚለው የቅፅል ስም የወጣ\\nልሜ በዚሁ ምነገንያት ነው።>» በእውነትም የሰይጣን ቁራጭ ነበርኩ።መቼ\\nእናደብቻ መሰለህ? ገበያ በቆመ ቀን ከገበያተኞች ጥንቅሽ አገዳና ሸንኑራ\\n\\nገዳ እየመዘዝ-ኩ-ባቸው እሮጥ ነበር ። አሁን ሳስበው ይገርመዊል ።\\n'},\n",
       " {'page_number': 143,\n",
       "  'text': '442 ሀዲስ\\n\\nቼን ስለሚፈሩ የሚነካኝ አልነበረም ። ሆኖም ፥\\nየፀ፲ዖ፲፲፸፡፭፲ር፪ነዓ ፎጂኃነሰዔሟሮ እስካሁን አልተርፍም ነበር ። ይኸውልህ ፥ ጊዚ\\nጣል ። እና፡ እያንዳንዱዋ ደቂቃ ባለፈች ቁጥር መቃብራችንን እያቀረበኝ\\nትሄዳለች ። ሰው የሚቸግረው ነገር ቢኖር ጊዜ ብቻ ነው ። ወርካው ግንይና\\nራል ። እኛ ካለፍን በሁዋላ ሁሉ ይኖራኣ፤ ክኛ በፊት እንዶ ነበረ ሁሉ «\\nእሱን ባደረገኝ» አለ ።\\n\\n«እኔ ግን ባፈነዳሁትና ከዚህ አለም ባጠፋሁት ነው የምለው» አለ\\nሀዲስ * ጠጉሩን እየቆፈረና ጥርሱን በንዴት እየነክሰ ።\\n\\n«ችግር ውስጥ ትገባለህ ። »\\n«አውቃለሁ።»\\n«ታዲያ ምን ልታዶርግ ነው?»\\n\\nሀዲስ በእልክ ትከሻውን ነቀነቀና ፤«ምናዶርጋለሁ? በገዛ እጁ ተገር\\nስሶ እንዲወድቅ ሄጄ እሰግድለታለሁ ። ወይፈን እሰዋለታለሁ» ብሎ ቡጢ\\nጨብጦ እየሩ ላይ ከወረወረ በሁዋላ ፤ «ይገርማል ፤ አንድ የድንቁርና ዛፍ\\nየሰውን ፍላጎት ሲገታ» በማለት ለራሱ አልጎመንመ ።\\n\\nታፈሰ የቦት ጫማውን ጫፍ ሲመለከት ቆየና ፤ «አንድ ዛፍ መጣል\\nአቅቶህ ነው እንዲህ የምትጨነቀው?!?» አለው ።\\n\\n«<ተራ ዛፍ ባለ መሆኑ ነው ።»\\n\\n«አውቃለሁ ። ግን ኦንዳልከው ለምን አታፈነዳውም ወኔ ካለህ›\\n«ወኔ የማጣት ነገር አይዶለም ። »\\n\\n«ፓታዲያ ምንድር ነው?»\\n\\n«ጀሟብዶኛነት የትም አያዶርስም ብዬ ነው...»\\n\\n«ጭ! እንግዲያውስ እንዳልከው ሂድና በገዛ እጁ ይወድ\\nቅልሃል ። ግን እኔ አንተን ብሆን የምፈልገወስዴድጩ ነበር» አለውና\\nከተቀመጠቦርት ድንገት ተስፈንጥሮ ተነስቶ ቆመ ።\\n\\n«ኣንዴት? እስቲ ንገረኝ።»\\n«በእውነት ችግርህ ይኸው ነው?»\\n«ኣምን።»\\n\\nታፈሰ ፀጥ ብሎ ሲያስብ 8 ታዞ።\\nላይሆን ቂምም አለጂ ወው ፣ \\' ፍስለ ወርካው የልጅነት ት”\\n\\n«ፍዊዩቀመስከው ዱላ?»\\n«ኢኣሱም አንዱ ነው ።»\\n«ሴሳው ደሞ ምንድን ነው?»\\n\\n«ፍ » ብሎ*\\nዝም አለኗስቶች አባቴን ሰቅለው የገዶሉት ከእሱ ወርካ ላይ ነወ” \"\\n\\nዖምታ ውጦኣቸው አይን ለአይን ተጋጨ....\\n\\n3.ናፈነዳዋለን!> ካለ በሁ\\n\\n« , ቐብ\\nአንተ ለመርዳት\\n\\nዋላ ፤ ታፈሰ ሰይጣናዊ ሳቅ ሳቀፍ አታ*\\nወይም ጅል አላማህን ለ፲፲፰፲፲ፍ፲ አይዶሰም”\\n'},\n",
       " {'page_number': 144,\n",
       "  'text': 'ሀዲስ 143\\n«ያባትህን በቀል ለመወጣት ይሆናል-.-.»\\n\\n«ለእሱም አይደለም ።»\\n\\n«ታዲያ ለምንድን ነው?»\\n\\n«አንድ ነገር ማድረግ ። ራሱ በቂ ምክንያት ነው ። እና ፥ዶግሞ ምንም\\nፍንጭ ሳይተው ማምለጥ ። ደስ ይላል ። ግን እንዲህ አይነቱ ነገር አንተን\\nአይገባህም ። አሁን እንዲያው በሞቴ ይሀ ትምህርት ቤት ምን ጥቅም ይሰ\\nጣል ብለህ ነው ጊዜህን በከንቱ የምታጠፋው?>» አለው ።\\n\\n«አንድ ታሪክ ላጫውትሀ?›\\n«እንዲያው ለጫወታ ያህል አጫውተኝ »\\n\\n«አንድ ወጣት መንገደኛ አንድ ቀን አንድ በጣም ያረጀ ሽማግሌ\\nየዛፍ ችግኝ ሲተክሉ.ያገኛቸውና “የምን ችግኝ ነው የሚተክሉት ፤አባቴ?\\'\\nብሎ ይጠይቃቸዋል ። *ጣፋጭ ፍሬ የሚያፈራ.ዛፍ ነው\\'? ይሎታል ። “ከስ\\nንት አመት በሁዋላ” በማለት ሲጠ ይቃቸው፤ “ተሰባ አመት በሁዋላ\"? ሲሱት\\nወጣቱ በጣም ይገረምና ፤ «ከክፍሬው ሳይቀምሱ ምን ያደርግልዎታል? እን\\nዲያው በከንቱ ነው የሚለፉት\" ይላቸዋል ። ሽማግሌውም በወጣቱ ነገር\\nተገርመው ፥ *አይ ልጄ ፥ እንዳልከው እኔ አልደርስበትም። ግን ወይዚህ\\nአለም ስመጣ አለም ባዶ አልነበረችም። እኔም ከሄድኩ በሁዋላ ባዶ አትሆ\\nንም።እኔ ስበላው የኖርኩት ፍሬ አባቶቼ ከተከሉት ዛፍ ነው ። እኔም በተ\\nራዬ ለልጆቼ በመትከልላሳይ ነኝ\\'? አሉት ይባላል» አለው ። .\\n\\n«ምን ለማለት ነው?»\\n\\n«ሁፁላችንም ለግላችን ብቻ ሳይሆን ለሰህብረተሳቡም ደህንነት ግዴታ\\nአለብጉ ለማለት ነው---»\\n\\n«የቀሳውስት ስብከት!»\\n«ይላል አባ ሰይጣን!» አለ ሀዲስ ።\\n'},\n",
       " {'page_number': 145,\n",
       "  'text': 'ክፍል ፤\\n\\nድፍን ሱጴ ቦሮ ከኖጳና ከሱጴ ባላባት ቤተሰቦች ጋብቻ ሌላ ወሬአ\\nነበረውዎ ። ጃኖ ከላያቸው ላይ ጣል የተደረገባቸው የደለቡ ሰንጋዎችነ\\nየስቡ ሙክቶች ወደ ፊታውራሪ ተካ ግቢ ሲሳቡ ያየ ሁሉ ፤ ከፊሉ ፤ «አጅሬ\\nመቼም ሁሉን ነገር በጊዜ ነው ። የቀጠሮ ነገር አይሆንላቸውም ። ጠ\\nመጣል ከጀመረ መንፈቅ አልፎታል አሉ» ሲል ፥ ሌላው ደግሞ ፤ «አዬ)\\nበድግስስ ፊታውራሪ አያናን የሚያስንቅ በድፍን ኢሉባቦር አይገኝም ፣\\nበያመቱ ለህዳር ሚካኤል የሚያደርጉት ድግስ እረ ኤዲያ! ሁለተኛ ጮማ\\nባይኔ አልይ ያሰኛል ። ጠጁስ ቢሆን ፥ እንደ ገባ ወንዝ አይደለም እንዷ\\nሞልቶ የሚፈሰው ። ልጃቸውን ሲድሩማ ምኑ ቅጡ ፥፤ አለም ሳያልፍ አይ\\nቀርም...\\n\\n«ደሞስ የእሳቸው ድግስ በበአል ቀን ብቻ መቼ ሆነና? ቤታቸው ዘወ\\nትር ሰርግና ምላሽ ነው ። ታዲያ ምን ያደርጋል? ያብሎ ያጠጡ እንጂ ሳን\\nቲም የምትባል ነገር አንስተው መስጠት አይወዱም ። የገንቨዘብ ነገር ሲነ\\nሳባቸው እንዴዶ እግር ውስጥ እሳት ያንገበግባቸዋል» እያሉ በሁለቱ ባላባት\\nቤቶች ስለሚደረገው የሰርግ ድግስ ዝግጅት ያወራሎ ።\\n\\nውስጠ አኣዋቂዎች ነን የሚሉ አንዳንድ ሰዎች ደግሞ ፥ «ፊታውራሪ\\nአያና ዘወትር የሚያበሉት እኮ ወደው አይደለም ። እህል ስለማይበላላቸው\\nነው ። ሰው ሲበላ በማየት ነው የሚደሰቱት ። ይህን አታውቁም ኖሮአልጳ!\\nግበል እኮ ይህን ጮማ ጨርሰው ። ዱሮውኑ ላትበላ ለምን መጣህሀ? ይሀ?\\nሳትጨርስ ከዚህ ውልፍት ማለት የለም!?\\' እያሉ ቁ!ቁ! ካላሰኙ አይለቁም።\\nታዲያ ለራሳቸው ፤ ቁራሽ እንጀራ በወጥ ጥራጊ በድስት ተጠብሶ ካልሆነ\\nበቀር ሌላ ነገር አይበሉም ።\\n\\n«ስለ ገንዘብ ሲያስቡና ሲጨነቁ ነው የሚውሉት ። አቤት ሰው ሲሷጦ\\nራጠሩ! ቤታቸው የሄደው ሁሉ ገንዘብ ሊለም፮ቸው የመጣ ነው የሚመሶ\\nቸው ። እና ፤ አስቀድመው ስለ ችግር ማውራት ይጄምራሉ ። ሳልባቶ\\nሀብት እንዲህ አድርጎ መጨነቅ! የቡና መሬቱ ፥ ሁዳዱ፣ የእህል ወፍ”\\nሱቅ፤የሉካንዳ ቤቱ ሳይቀር የእሳቸው ነው ፡\\n\\n«ሀብታም ባይሰስትምናለበት?» ንዴት ሀብታ ያ\\nይሆን ነበር? ነው ጥያቄው ። የገንዘብ ፫፰ባ፸ጪ፮፰ኖእ ። ፀፀናጤፆ፰፪\\nይመስል ስለ ችግር ሲያወሩ ነው የሚኖሩት « ግንዘብ የልብ ስር ነ”\"\\'\\nሚሉ በር ዘግተው ሲቆጥሩ ነው የሚውሉት ።\\n\\n«ከልጃቸው ከዳኞቸውም ጋር ኖሩት ቦቦሂ\\nምክንያት ነው ። ሲነሳክት ሽጐኮናሆ፰ናር ጀደ፲፰፰ዘ፶፲፰፪፲፭ አንዳንያፀፖ\\n'},\n",
       " {'page_number': 146,\n",
       "  'text': 'ክ ሀዲስ 145 1\\n\\nግድ ይዞ ነው አሉ ሳጥን የሚያስከፍታቸው ። ሰይጣን ነው። ግን ምን\\n፤፤ድርግጀ አላስተማሩት ፥ ስራ የለው ። \"\\n\\n«እሱ ማጣን እንደ እሳቸው አይደዶለም ። ካባቱ የነጠቀውን ገንዘብ የትም\\nለማንም እንዳፈር ሲበትነው ነው የሚውለው። ነጋ ጠባ መጠጣት፥መስ\\nከር ፥ አዝማሪ አቁሞ ማዘፈን ፤ ከበር መልስ መጋበዝ ነው ልማዱ። ሰሰው\\nበጣም የሚያዝን ቦርቡዋሬ ከመሆኑ የተነሳ ፤ ተቸገርኩ ካሉት ሄዶ አባቱ\\nያንቃል # ]\\n\\n«ካገባ እሱም ምናልባት ይለወጥ ይሆናል ። ጎጆቿ የስንቱቴን ዳተኛ\\nልብ ትሰብር የለ ። እሳቸውም ቢሆኑ ትዳር ከወጣ በሁዋላ በቂ መትዳዴዶሪያ\\nጳይሰጡት አይቀቅሩም» በማለት ጉድ ያወራሉሎ ።\\n\\nበእድሜ የገፉ ሽማግሌዎች ግን ስለ ሁለቱ ባላባት ቤተሰቦች ጋብቻ\\nአንስተው በሚጫወቱበት ወቅት ዴደጋግመው የሚጠቅሱት የሁለቱን ቤትተ\\nሰቦች ታሪካዊ ጠላትነት ነበር ። «ዶም ሲቃቡ የቆዩት ቤተሰቦች አሁን\\nበጋብቻ ለመሙተሳሰር የፈለጉት ለምን ይሆን? ጊዜ መቼም የማይሽረው\\nቁስል የለ ። እድሜ መስተዋት ነው ፤ ብዙ ነገር ያሳያል ። የገባን ወንዝ\\nልጆች ሲያፋጁ እንዳልኖሩ ሁሉ!» በማለት እየተገረሙ ያለፈውን ታሪክ\\nያስታውሳሉ ።\\n\\nጥንት ዮኖፊታውራሪ ተካ አያት ሱጴ ቦሮንና ኖጳን ኢያስገበሩ በሚገዙ\\nበት ዘመን ፤ የፊታውራሪ አያና አያት ታማኝ ሎሌአቸው ነበር ይባላል ።\\nተኩሶ የማይስት ክር ከሩቅ የሚበጥስ ጄጀግና--የጀግኖች መስፈሪያ ቓኋና\\nነበር ። ታዲያ ፤ የፊታውራሪ ተካ አያት ጎበዝ ይወዱ ነበርና ከገባ ማዶ ያለ\\nውን አገር ኖጳን ይሾሙታል ። ጀግንነቱንና ለጋስነቱን በማየት የኖጳ ህዝ\\nብም አሜን ብሎ በደስታ ይቀበለዋል ። ምክንያቱም የፊታውራሪ ተካ\\nአያት--ሁዳዴን እረስልኝ ፤ የምኖርበት ቤት ስራልኝ ፤ ‹\\'በቤቴ ዙሪያ\\nአጥር እጠርልኝ ፤ ዘመቻ መሄዴ ነውና ከግብርህ በላይ ትርፍ ስጠኝ ፥ ድግስ\\nአለብኝና እርዳኝ፤ እንግዶች መጥተውብኛልና ተቀብለህ አስተናግድልኝ--\\nበማለት የሰው ትከሻ ቀርቶ ምድሪቱ ልትሸከመወ- የማትችለውን የግና፡\\nቀንበር ከላዬ ላይ በመጫን ክፉኛ አስመርረውት ነበርኖንው ። የህዝቡን\\nምሬት በመመልከትና የራሱንም የስልጣን ጥላጎት ለማርነነት ግራገፆ”ፃሃች\\nጆቴ ራሱን ፊታውራሪ ይልና ለተድሞ ጌታው አልገብርም ብሎ አሻፈረኝ\\nይላል ። የሱጴው ባላባትም በዚህን ጊዜ ተናዶው ሽፍታ ተነስቶብኛል\\nበማለት ጦሪ-ቸውን ክተት ብለው የገባን ወንዝ ይሻገራሉ ። ሁለት ሰአት\\nባልፈጀ ውጊያ እየፎከረ የገባን ወንዝ የተሻገረው ጦር ድል ይሆናል ።\\n\\nፊታውራሪ ቦሮ ከጥቲት ትከታዮቻቸው ጋር ያመልጣሎ ። ልጆቻቸች\\nውን ፥ «የኖኋን ነገር እንዳትረሱ» በማለት እንደ ወተወ>ቱ ነበር የሞቱት\\nይባላል ”\\n\\nየፊታሙውራሪ የፊታውራሪ አያና አባቶችም ፤ ይህንኑ ቂም በተል\\nበመውረስ ። በሪጂጋፔጁናኦን፰ የሌላውን አገር እየዋወረረ የድሠውን ዶም በከ\\nንቱ ሲያፋስሱ ከቆዩ በሁዋላ ነበር በራስ ናዴዶው ዘመን በያዙዋቸሙ ማጋዛቶች\\nክልል ውስጥ በመወስሰን ነ,ጦርነጵ መቆጠብ ኖጀመሩትና ህዝቡም ሰላም\\nያገኘው ።\\n'},\n",
       " {'page_number': 147,\n",
       "  'text': '-146 ሀዲስ ን.ሊሒኢ-  ሔሙ።።: ሙ\\n\\nበፊታውራሪ ተካና በፊታውራሪ ኦያና ዘመን የማእከላዊው መንግስት\\nስልጣን ፤፡ይበልጥ እየተጠናከረና እየተስፋፋ በመሄድ፥፤* ሁለቱም ህዝ\\nለጦርነት መጋበዝ ቀርቶ እንደ ለመዱት ግብር ለመሰብሰብም እድል አል\\nነበራቸውም ። በፋሽስቶች ወረራ ጊዜ ፊታውራሪ ተካ ክራስ እምሩ ሀይለ\\nስላሴ ጦርና ከጥቁር አንበሳ ጦር ጋር በመቀላቀል ኣርበኝነት ስለ ገቡና\\nበሌላ በኩል ደግሞ ፊታውራሪ አያና ለወራሪው ጦር ስላደሩ ፤ የወራረው\\nጦር የበላይ አዛዥ ጄኔራል ጋዜራ የዋሉለትን ውለታ በመቁጠርና ፍላነ\\nታቸውንም በመገንዘብ ሱጴንም ጭምር እንዲገዙ ሾሞአቸው ነበር «\\nአዝማሪዎች እያቆሙ፦---\\n\\nገባን ተሻግሮ ሱጴን ለማስገበር\\nሲናፈቅ የኖረ የቆየ ህልም ነበር\\nፍች አጥቶም አልቀረ ፤ የማታ የማታ\\nበዳግማዊ ዮሴፍ ባያና ትፈታ\\n\\nበማሰኘት መሲንቆ ሲያስመቱ ነበር፡ አምስቱን የወረራ *5*መንያሳለፉት ...\\n\\nባንዲራ ከተመለሰ በሁዋላ ፊታውራሪ ተካም በበኩ፡:፡፦ው ብድር ለመ\\nመልስ ሕዲስ አበባ ድረስ እየተመላለሱ ፥ «አያና ለጣልያን ጦር አድሮ ጀግ\\nናኖችን ሲወጋ የኖረ ባንዳ ነበር» በማለት ክስ ቢያቀርቡም የሚያዳምጣቸው\\nሰው አልነበረም ። ክሳቸውን የሚያቀርቡት ለቀድሞ ባንዳዎች መሆኑ\\nየገባቸው ክጥቂት ጊዜ በሁዋላ ነበር ። እንዲያውም ይግረምዎት ተብሎ\\nሳይሆን አይቀርም ከጥቂት ወራት በሁዋላ ፊታውራሪ አእያና የውስጥ አር\\nበኛ ነበሩ ተብለው ፤ ማእረጋቸው እንዲፀናላቸው ትዶርጎ ካባም ጭምር\\nተሸለሙ ። ያኔ ነበር ፊታውራሪ ተካ ፡ «ኢትዮጵያ አገሬ ሞኝ ነሽ ተላላ ፤\\nየሞተልኽሽ ቀርቶ የገደለሽ በላ ... ስደችም ለወሬ ያመቻል አሉ» ብለው ዝም\\nማለትን የመሪረጡት ። ፊታውራሪ አያናም የገንዘብን ጥቅም በይበልጥ የተ\\nረዱት ሪያኔ ነበር ይባላል ።\\n\\nታዲያ ይህ ሁሉ በመካከላቸው ኢእያለ አሁን ከመሸ ጋብቾች ለመሆን\\nየፈለጉት ለምን ይሆን? የሚለውን ጥያቄ እያነሳ ነበር ሁሉም ቡና የሚያን\\nቃርረው ። እርገጠኛው መልስ ይህ ነው ብሎ የሚናገር አልነበረም ። የባላ\\nባቶችን ምስጢር ማን ያውቃል? ምናልባት እነሱ የዘመናቸው የመጨመረቸሸ\\nዎቹ ትውልድ መሆናፍቸውን በመገንዘብ በመካከላቸው ከትውልድ ወዶ ትው\\nልድ የቕየውን የጥላቻ ታሪክ አጥፍተው በፍቅር ለመተካት ይሆናል--ዞ\\nመናቸው ጋር ከሞት አፋፍ ላይ የቆሙ ሰዎች የመጨረሻ ኑዛዜ!\\n\\nሀዲስ ስለ ሰርጉ በሄዶበት ቦታ ሁሉ ይሰማ ነበር ። በደረሰበት ቦታ\\nሁሉ ክሕይናለም ሰርግ ሌላ ከጆሮው የሚገባ ወሬ አልነሃበረም ። ንፁህ ኦየር\\n\\n፰፲፫ፈስ ወዶ መስክ ወጣ በሚልበትም ጊዜ እረኞች በየአፋፉ ላዶ\\n\\nኣኢዘም ተደገሰ እዚያም ተድገሰ\\nየቕጭየው ጥላቻ በፍቅር ፈረስ\\nየተጣለውም ዳስ እየሰፋ ሄጄዴ\\nየሚጠራኝ አጣሁ ሆዴ እየወደዶዷዴ\\n\\nሺቪ. እየታረዶ ባይናለም ስናይ\\n\\nየድሀ ልጅ ጮማ ቆርጦ ያቃል ወይ?\\n'},\n",
       " {'page_number': 148,\n",
       "  'text': \"ሀዲስ 147\\n\\nአሽከርስ በቅቤ በልቶ ያቃል ወይ?\\nአሆ ጉማ ፥* የዶም ጉማ ፤ አሆ ጉማ ፥ አሆ ጉማ!\\n\\nሉ በመዝፈን መልካውን እያናገጥሩ- ያሸሹታል ። እንሶስላ ሞቀው ፥ ሳዱላ\\nቸውን አሳምረው * አሸንክታባቸውን አጥልቀውና የክት ልብሳቸውን ለብ\\nሰው ከፊታውራሪ ግቢ ዘወትር ምሽት ላይ በመሰብስብ ድቤ እየመቱ\\n\\nም በማለት የሰርግ ዝክፈን መዝፈን የጄመሩት የሱጴ ልጃገረዶች ውድ\\nቅት ድረስ አያስተኙትም ። እንቅልፉን እያባረሩበት በግድ ስለ አይናለም\\nእንዲያስብ ያዶርጉታል ። ከቤት መቅዶስ ውስጥ ቆማ ድርገት ከመውረዱ\\nበፊት ቅዳሴው እጅግ በሚዶምቅበት ወቅት ፤ አይኖችዋን እንዶሚንቦገቦ\\nገው የቤት መቅደስ ጡዋፍ እያንቦገቦገች ጉም መስሎ በሚንሳፈፈው የእ\\nጣን ጢስ ውስጥ ስትመለክተው በአይኑ ትመጣለች ። ብጫ ፤ ሰማያዊና\\nቀይ ቀለሞች በተቀባው የቤተ መቅዶስ መስኮት ውስጥ ተሰርቃ የገባችው\\nየጡዋት ጮራ ፊትዋ ላይ ባረፈች ጊዜ ከድንግል ማርያም ስእል ጋር መል\\nክዋ ሲማታበት ትዝ እያለው እንቅልፍ አጥቶ ከደረቅ አልጋው ላይ ይገላ\\nበጣል ። አንድ ነገር ልታዋየው እንደ ፈለገች ልቡ ያውቃል ። ምን ይሆን?\\nበማለት በደረቅ ሌሊት እንቅልፍ አጥቶ ይጨነቃል ። የልጃገረዶቹ ዘፈን\\nከሩቅ ሲሰማ ተስፋ ይቆርጥና በትምህርት ቤቱ ስራ መፅናናት ሲጀምር የወ\\nርካው ጥላ መጥቶ ጥቁር ግርዶሹን ይጥልበታል ። ታፈሰ ብሩን ምን እንደዶ\\nዋጠው አይታወቅም ። እንደ ልማዱ ጠፍቶአል ። እና ፥ ወርካው አሁንም\\nግርማ ሞገሱ የሆነውን ደረቱን ወዶ ሰማይ ገልብጦ ፀሀይ በመሞቅ ላይ ይገ\\nኛል።እና-*ሀዲስ ስራ በመፍታቱ ያዝናል ። ጊዜ ይበራል ።ጊዜ እሱን ጥሎት\\nለመብረር የተነሳ ነበር የሚመስለው።\\n\\nበዛፊው ምሽት እንዶ ሌሎቹ ምሽቶች እምብዛም አልትጨነቀም ።\\nዘንድሮ ቦና ሊሆን ነው ሲባል ድንገት የመጣው የበልግ ዝናብ በሃይል\\nይወርድ ስለ ነበረ የልጃገረዶቹ ዘፈን አይሰማም ። ያባ ጨፌም ድቤ ያለ\\nወትሮው ወጥ ብሎ ነበር ። ዋሽንት ተጫዋቹም ድምፁን ካጠፋ ሰንብቶ\\nአል።የሚወርደው ዶፍ የቤቱን ቆርቆሮ ሲያናግር ብቻ ነበር የሚሰማው ።\\nዝናብ ከሀዘን ጋር የተቀላቀለ አንድ አይነት ልዩ ስሜት ይሰጠዋል ። ዝናብ\\nሲወርድ በሚሰማበት ጊ.ዜ አንድ አይነት የሀዘን ሙዚቃ ከልቡ ውስጥ\\nፈልቆ መንቆርቆር ይጀምራል ። ባጭር የተቀጨ ፍቅር እንባ ወይም ሞልቶ\\nየፈሰስ የግፍ ፅዋ ወይም ህይወት የተትጠማ ሰው ምስል ይመጣበታል ።እኖና ፤\\nሹዋ እያለ የሚወርደው ዝናብ እያባበለውና ሆዱን እያባባው ወደዴ እንቅልፍ\\nአለም ይዞት ጭልጥ ይሳል ።\\n\\nሀዲስ የነቃው እንቅልፉን ጠግቦ ነበር። ውብ የሆነች የጡዋት\\nፀሀይ ፰፱ጥ፡ያሟ፭ኚ ስፀቃፃዩ የጠራ ስማያዊ ነበር ። ክሳር ስለት ላይ ኮለል\\nብለው የሟታዩት ጤዛዎች የተዘሩ አልማዞች ይመስላሉ ። ዝናብ ሲያጥ\\nበው ያደረው አየር ቀዝቀዝ ከማለቱም ሌላ አቡዋራ አቡዋራ አይሸትም።\\nየዱር፥የበረሃ-'ሽቴ ነበር የሚነፍሰው ። እያራዋጨና እጆቹን እያሻሸ ከመ\\nስኮቱ ላይ ' ዞር ብሎ የስድስተትኛ ክፍል ተማሪዎችን ደብተሮች ማረም\\nጀመረ « አኤርብ ፤ አርብ የሙከራ ፈትና ለተማሪዎች መስጠት ይወዳል።\\nታዲየ አርብ በደረሰቅሩጥር ተማሪዎቹ ፥ና፦፦\\n\\nሀዲስ የሚባለው አዲሱ መምህር\\nአርብ አርብ ያሸብራል የሱጴን ኣሕድባርሩ\\n\\nእያሉ ይ“ጭኑበታል ።\\n\"},\n",
       " {'page_number': 149,\n",
       "  'text': '፡ ፡...8በበክከከከ፣ ፡ መ ርሸሽ\\n\\nዕ ይሰማል ።\\nየማረሙን ስራ ትንሽ እንዳካሄደዶ የመኪና ድምዕ ይድር ጎማዎ\\nበወፍራም ሰንሰለቶች የታሰሩ በጭቃ የተለወሰ ላንድሮቨር መኪና ነበርቼ፲\\nላንድሮቨሩ መጥቶ ከደጄ ሲቆም ነበር በውስጡ የነበረው ሰው ታፈሰ ብሩ\\n\\n«አንተ መቼም ጭራው የማይያዝ ሰው ሆነሃል ። ዶደሞ የት ጠፍተህ\\nከረምክ?> አለው ።\\n\\n«አዲሳባ =\\n\\n«ምን ልታዶርግ?››\\n\\n«ይህችን መኪና ልገዛ-››.»\\n\\n«ለምን ብለህ?>»\\n\\n«ለፍጥነት ። የንግድ ስራና ፍጥነት ሊለያዩ አይችሉም ።>\\n«አዲሳባ እንዴት ናት?»\\n\\n«አየሩ ዶስ አይልም ።»\\n\\n«የእንዴት?>»\\n\\nታፈስ በቀረበለት ውሀ ጭቃውን ከእጁ ላይ እያጠበ ፤ «አራዳ ላይ የሚ\\nነፍሰው የፖለቲካ አየር ፈፅሞ ደስ አይልም ። ሰው ሁጵ የሚያወራው በየ\\nቀኑ እየናረ ስለሚሄዶው የኑሮ ውድነት ነው ። ወሎም ረሃብ ገብቶ ህዝቡ\\nበመሰደድ ላይ ነው ይባላል ። በተለይም ነገሌ ያለው ጦር በማጉረምረም\\nላይ ነው እየትባለ ሰው ሁሉ ውስጥ ውስጡን ይንሾካሾካል ። የመንገደኛው\\nአይነ ውሀ ደስ አይልም ። አንድ አይነት የእምቢትኛነት መንፈስ ይታይ\\nበታል ። የጎሪጥ ነው የሚያይህ ። በመኪና የሚሄድ ሰው ሲያዩማ ይብስባ\\nቸዋል ። የሆነ ነገር ከስር እየፈላ ነው ። የዩኒቨርሲቲ ትማሪዎችም ያው አመ\\nታዊ በሽታቸው እያገረሸባቸው ነው» ብሎት ፤ ግድማዳ ላይ በተሰቀለው\\nየራፊት መስተዋት መልኩን ጠጋ ብሎ በማየት ቅልተው የሚታዬትን አይኖ\\nቹቿን ካባበሰኖ እኝ ብሎ ጥርሶቹን ካየ በሁዋላ ፤ «ያዲሳባ የምሽት ህይወት\\nግን አልተለወጠም ። እንዲያውም ይባስ ብሎ ትጡዋጡፎአል። አስረ\\nምችው ነው በየቦታው። ከተማው በሙሉ “ጉብልዬ ጉብልዬ\" *ሸጋው ቦነ\\n\\nይዬ” “አለምዬ” ሳቢዬ” “ወገኔ\"? እያለ ነው . ው አቦ፦ማሜኒ\\nቻ፡ ች ሲዘፍን የሚያድረ\\n\\nክትፎ » ጥብስ ክትፎ ፤ በሺ ሸን ፈልተዋል ። ጥሬ ክትፎ\\n\\nሻዝ ሬጋል ውስ እረ ኤዲያ! የሚ\\nገርመው ነገር ዶሞ ኖየሴቱ ውበት እያበበ መ፻፶፲፲፲፰፲፬፮፬ወነራወረ፬፰ ከተማው ጨር፤\\nየሴት ፮፺በያ ሆኖአል ። ይህችኛዋን ይዞ ያችኛዋን መተው ሀጢአኣት ፡\\nይታያደ“ል ። አስተያየታቸ\"ጽ መርዝ ይትክልብሃል ። በቃ ከወጥመዳ፻“\\nውስጥ ሄዶ መውደቅ ነው ። አስርቲ ቃላት ጤና ይስጥልኝ! ኦታ\\nውበት በምድር ዘርቶ አታመንዝር ጦሞ , 4\\n\\nፈክፈችው በዚህ ፤ ማዳም ሮብ› ፩፲፲፩ሸቱ የትቅባችው በቪያ ፤ ግ፣፣፰ ር የፖ\\nጠበችው በጎን፣* “ላፋም” የታወ\\n\\'ል. 2 አሜንጫሀ ይሰክራል = ኣብህ ጥፍት ይላል። ሳትወድ ቦ\\n'},\n",
       " {'page_number': 150,\n",
       "  'text': ': መ . ፡\\n\\nውሻ ጠረናቸውን ተከትለህ ትሄዳለህ--ሽቱአቸውን ምናቸው ላይ እንዶሚ\\nቀቡ ለማወቅ ። ያሳዝናል--ላዲሳባ ውብ ሴቶች ሁሉ የሚበቃ ጊዜ ሲጠፋ\\nአያሳዝንም፣ ስታያቸው ህይወት ምን ያህል አጭር እንዶ ሆነች ትረዳለህጋ\\nብሎት ባሳብ ተውጦ ሲተክዝ ቆየና ፤ «ስለ አዲስ አበባ ቆነጃጅት የተፃፈ\\nአንድ ግጥም ላሰማህ» ብሎት ጄጆመረ ፥ ‹\\n\\nጉዋ! ያዲሳባ ቆንጆዎች\\n\\nየውበት ድባብ የንጋት ቅንድቦች\\nአይናችሁ ከጥልቅ ሸለቆ ላይ\\n\\nኣእንዶ ተኛ ኩሬ ውሀ ሰናይ\\n\\nሲያዩት መልሶ መልክ የሚያሳይ\\nሽበቴን አየሁት ካይናችሁ ላይ ።\\nጉንጫችሁ እንዶ ምሽት ጀንበር ያማረ\\nህብረ-ቀለም የተነክረ\\n\\nሁለጳት ላይ የተከፈለ\\n\\nሮማን የመሰለ ።\\n\\nየዶም ግባታችሁ--መልኬ መገርጣቱን\\nያሳየኛል ፤ በእድሜ ዳዋ መበላቱን ።\\nክምላሳችሁ ስር የሚፈሰው ማርና ወተት\\nክትንፋሻችሁ የሚወጣው ሙቀትና ግለት\\nየገላችሁ ውበት የጠረናችሁ ሽቶ\\nሌላ ገነት አያስመኝም ነበር ክቶ ።\\nህይወት አዳሽ ትንፋሻችሁ\\nገነታዊ ሽቱ ጠረናችሁ\\nአሁን ራቀኝ\\nብርድ ብርድ አለኝ\\nአረጀሁ መሰለኝ?\\nወጣትነት--የህይወት አፍላ\\nህይወት አዳሽ ትንፋሻችሁ\\nኮብላይ እንዶ ጥላ ።\\nይዞ ጭልጥ ፤ ዘርግቶ ጨለማ ክንሩን\\nእድሜ ነ.,ያክከሰመ የወጣት ውፀቱን ፤\\nእያክሰለ ፍሙን እያዳፈነ ረመጡን\\nክልቡ ላይ ኢያቀዘቀዘ የህይወት ነበልባሉን ።\\nየህይወት ህግ ስርአት\\nየሰው ታሪክ ኡደት\\nትውልድ ያልፋል\\nትውልድ ይተካል\\nፀሀይ ትወጣለች\\nፀሀይም ትጠልቃለች\\nውበት ግን ዘላለማዊ ነች-፦ትኖራለች ።\\nነፍሴ ለውበት እንዶዴ በረሃ አሸዋ\\nእንዶ በረሃ አሸዋ ትጠማለች ።\\nእንዶ መድረክ ተዋናይ ድምሁን ክፍ ዝት ፤ እጆሯቹን ወደ ላይ ወዶ\\nታች ፡ ፊቱን ክነስተር ለተቅ እያዶረገ ግጥሙን አነብንቦ ከክጨረሰ በሁዋላ ፤\\n«ውብ አይደይለም? ዶግሞስ አያሳዝንም?» አለው ።\\n'},\n",
       " {'page_number': 151,\n",
       "  'text': '፡..ዜ. ሙ 9\\n\\n«ልቅሶ ነኝው›>» ሕለ ሀዳ፭፶፸ለ፡፡ -\\n‹«‹የምን ልቅሶ ነው የምትለው\\n«ወጣትነት እየከዳው በመሄድ ላይ ያለ ሰው ልቅሶ ።»\\n\\n‹«አይዶለም ። የግጥጮሙ ዴራሲ ጉዋዴኛዬ ነው›» ብሎት ፥ ስለ ዶራሲው\\n-ህይወት ያጫውተው ጀ፲መር። ውበት በጣም የሚጠማው ሰው ነው» ነ\\nጋገርክከው ልቡ ሸፍቶ ይሄዳል ። አንድ ያሰበው ነገር ቢኖር ባካል ካንተ ጋር\\nእያለ በመንፈስ ሌላ ቦታ ሆኖ ነው የሚታየው ። ታዲያ በቅርብ የማያው\\nቁት ሰዎች ኩራተኛ ወይም ምፀተኛ አድርገው ይቆጥሩታል ።ግን እሱ ሁል\\nጊዜ የሚያስበው ስለ ድርሰቱ ነው ። እንዲያውም አንዳንዴ ድንገት ተነ\\nስቶ ደህና ዋሉ-ደህና እደሩ ሳይል ይሃዳል ።\\n\\n«አንድ ቀን *ለምን እንዲህ ትሆናለህ? ለምንስ ጉዋዶኞችህ እንዲቀየ\\nሙህ ታደርጋለህ? ለድርሰት ስራህ ለምን ጊዜ አታበጅለትም??\\' ብዬ ስጠ\\nይቀው ምን መልስ ሰጠኝ መሰለህ?፣ የሚገርም ነው ። *ምን ላድረግ ብለህ\\nነው?፣ ድርሰት የነፍሴ ጥሪ ናት ። ጊዜና ቦታ መርጣ አትመጣብኝም ።\\nቆሌ ናት ። ባሰኛት ቦታና ጊዜ ትቆላኛለሰች ፤ ታምሰኛለች ። እንዴ ዛር የትም\\nትመጣብኛለች ። ቀናተኛ እመቤት ናት። ፍቅርዋን ለማንም አንዳጋ\\nራባት አትፈልግም ። ስርቃት ታባርረኛለች ፦ ስቀርባት ዶግሞ ትርቀኛለች።\\n\\n፰ዷኗኒት ክፉ ባላጋራ ናት እባክህ ። ለተወዳጃት ይብላኝ” ብሎ ሲያስብ\\n2=ሙ-\\n\\n. « “ነጉሩ ይህ ብቻ አይደለም\" አለኝ « “ሌላስ ምን አለ?\" አልኩት።*\\nየድርሰት ፍቅር ጣጣው ብዙ ነው እባክህ ። አንድ ልቦለድ መዕፅሐፍ ቦጀ\\nምር ቶሎ ልጨርሰው እፈልጋለሁ ። ለምን መሰለህ? ሳልጨርሰው የሚሜ?\\n\\nድለኝ ይመስለኛል ። እና ፤ ከጀመርኩት ድርሰት ጋር የነፍስ ግቢ ፤ የነፍቦ\\nውሟ ፍልሚሜያ እንጀምራለን ። እኔ ልጨርሰው፣፤ ሱ ሊገድለ\\n\\nነው። ዴደራሲ መሆን ዘላለም ነፍሰስሰ ጡር መሆን ነው\\'”ኮ ። ሴት ከወለዶች ቦ፦\\n\\nዋላ ምጡ ትዝ አይላትም። ሌላ ታረግዛለች። ምጡን ሁል ጊዜ ብታቦታዎነ\\n\\nን\\nጠይቅዖ፪በ፶፲\\nእንዳልኩህ ቆሌዋ ፤ ዛርዋ የሚፈልገ ማ\\nውንሁ ው ክፊትኖ\\nበሰው ላይ ትስቃለች ፥ ትሳለቃለች ፡ ታሾፋለ፭፲ ፡ይ ያህላግጣለች ; ፶፲፻ኒ፲ ።\\nብ የለውም ት።ግን ፅ\\nምዜም ቢሆን ብቸኛ አይደለም = ደግነቱ እ፤፤፡ነላድይቼውፆ ያለኝ ቫ፭፲ዐ፲፰ዶ\\nስ፬፰ = ታዲያ ይገርምሃል ። የድርሰት ካራማ ፊትዋን ያዞረችለት እለዔዖዐፖ .\\nግ ጠጣል ። ያኮረፈችውም ቀ+ን ተናዶ ይጠጣል ። እንዴ ጦጣ ፓረያ\\nበፈ ም ሲሉት › *ተውጁ እባካችሁ » ሰው ዶስታ የማራ ሎ\\nላምጮ ሲሆን ብቻ ነው ሖ ሰው በመሰረቱ ፈጣሪ ነው ሯፌቭቦሎ ያ\\n-ዝ\\nአየር ላይ ሙመንሳፈፍ ነው”? ይላል ›»›- ና ኞን ደው\\n\\n#\\nታፈ ነ ቆመም\\nቀጠለ ፀስ ስለ ደራሲ ጉዋደኛው የጀመረውን ጨዋታ በዚሁ አላ\\n'},\n",
       " {'page_number': 152,\n",
       "  'text': \"6795፡፡፡ ‹ ሀዲስ 151\\n\\n«ባለፈው ሰሞን የሆነውን ነገር ላጫውትህ ። ገብሬ መቼም ሌሊት\\n\\nኛም ። ሌት ደስ ይለዋል ። የሌት ውበትና ምስጢር ይማርከዋል ፥\\nይኮረኩረዋል ። ይገርምሃል እኮ ፤ “*ሰው ራሱን መሆንና መኖር የሚጀምረው\\nምሽት ላይ ነው ። መስከር ፥* መደስት * ማፍቀር ፥ ማሰብና መፍጠር ፤ይህ\\nሁሉ የሚጀምረው በሌት ነው። በመላ አለም ስንቱ ለፍቅር እንደሚቃትች፥\\nለፍቅር እንዶደሚጠማ ፤ በፍቅር እንደሚረካ እስቲ አስብ? ቀን ያለ ስራ ፤\\nያለ ሩጫ ምን አለ? ቀን ምን ይታይበታል? ምን ውበት አለው?!” ይላል ።\\nእና ፥ የህይወትን ጠረን እያሸተተ ሌት እንደ ጅብ ይዞራል ። የህይወት ጅብ\\nነው ። ታዲያ ይሄውልህ ባለፈው ሰሞን ከእሱ ጋር ሌቱን ሙሉሎ ስንዞር\\nወገግ አለ ። ነግቶአል ፤ አልነጋም እያልን መወራረድ ጀመርን ። ሁለታች\\nንም ሰክረናል ። ከህይወት አረቄ ብዙ ጠጥተናል ። እሱ አልነጋም ይላል ።\\nእኔ ነግቶአል እላለሁ ። እንዲሁ እየተከራከርን በመኪና ስንሄድ ፤ ገብሬ\\nየመኪናውን መስተዋት ዝቅ አደረገና ፤ አንድ መንገዶኛ ጠርቶ *ስማ ወን\\nድም ። ሰራተኛ ነህ?-› . -.እየው እስቲ ። ሁለታችን ትወራርዶዴናል ። እኔ አል\\nነጋም እላለሁ ። እሱ ደግሞ ነግቶአል ይላል ። ገላግለን ። ማናችን ነን ልክ?\\nአለው ። ሰውዬው በነገራችን ተደንቆ ሲመለክተን ከቆየ በሁዋላ ፤ ምን\\nአለን መሰለህ! ይገርመሃ ል ። “ዋ ወንድሞቼ! እኔም እንደናንተው ላገሩ ባዳ\\nለስው እንግዳ ስለሆንኩ ይንጋ አይንጋ? ምና“*ውቄ!” ብሎን *#*ወቸ ጉድ!\\nወይ ትአምር!? እያለ መንገዱን ቀጠለ» ብሎ በ ሳቅ ፈነዳና « «‹ይኽውልህ ፤\\nገብሬ በሰውዬው ነገር ስለ ተነካ “ላገሩ ባዳ” በሚል አርእስት ልቦለድ\\n፪፲ሪክ መ፸ፃ፲ፍ ጀጄምሮአል ። የደራሲ መነሻ የህ ይወት ገጠመኝ ነው» አለና\\nታፈሰ ተክዘ ።\\n\\nታፈስ ስለ ዴራሲው ይህን ሁሉ ለምን አእንዶደሚነግ ረው ሀዲስ አልገ\\nባውም። ጠጐሩን ቆፈር ቆፌር አዴረገ ። '\\n\\n«እውነትም *ላገሩ ባዳ?» አለ ሀዲስ ።\\n«አዲሱ ጎሳ ቢላው ይሻል ነበር አርእስቱን--..»\\n\\n«አዎ 9 በህብረተሰቡ ውስጥ ስር መሰረት የሌለው ትጎሳ ። እሱም ጥሩ\\nነው--ላርስት ።»>\\n\\n«እኔ አእኮ» አለ ታፈሰ ፤ ‹አንተ በምታስበው መንገድ አይደለም የም\\nናገረው ። እኔ የምናገረው ፤ ባስተሳሰቡ * በእምነቱና በምኞቱ ምክንያት\\nየተነሳ፥ በህብረትሰቡ እንዶ ባዳ ወይም እንዶ አዲሱ ጎሳ ስለሚታየው\\nአዲስ ትውልድ ነው።»\\n\\n«ህም... በህልም አለም ውስጥ የሚኖር አዲስ. ትችውልድ.--»\\n\\n«ህልም አልከው? አዲሳባን ባየሃት? ጦፋስች» ብሎት አዲስ አበባን\\nበአይነ-ህሊናሙ እንዴሚያይ ሆኖ ሩቅ እየተመለከተ ፤ «ያዲሳባ መንገዶች\\nበዓለም ላይ ዊተስሩ የመኪና አይነቶች እንዴ ትንግርት የሚታዬ ባቸው የት\\nርኢት መድሪሠኮች ሆነዋል ። የመኪናውን አይነት ተወው ። አዲስ የሚሰ\\nኗትን ቪላዎች ብታይ! አቤት! አቤት! አፍ ያስከፍታሉ ። ምናለፋህ * አን\\n\\nንዱ ስፈር “ቤል ኤር» ተብሎአል ። በቦሎቄቴና በሰሊጥ ንግድ የከበሩ አዳ\\n፤፬፭ መሳፍንት ምን የማይሰሩች ነገር አለ ብለህ ነው? አለም ጠባቸዋ\\nኣዚዩ ፋ.ህ የምታንቀላፋው * የምታዛጋው * የምታዘግመው ህይወት\\n\\nያ ታስካካ ለች ፤ ትላጋለች ፤ ትጦፋለች ። አሁንማ ተወው ። በመብራት\\n\"},\n",
       " {'page_number': 153,\n",
       "  'text': 'ኪ ደ...ለሙ ፡\\n\\nች ነው ። ክጃንሆይ ሰማንያኛ አመት ልዴት በአል አንስታኳከ\\n፰፪፭ጁዴ፰፲ፊች ፣ እንቅልፍ በአይንዋ የማይዞር የማይመሽባት ከተማ ሯዷ፤ዮ\\nይህ ሁሉ ህልም አይደለም ። እውን ነገር ነው ። የዚህ እውን ነገር ተላራ::\\nካልሆን የህይወት አተላ ሆነን እንቀራለን ። እሱን ተወውና አሁን የጫፎ\\nንቀኝ ምን መሰለህ? የሱጴን ረጅም ህይወት--አልባ የሆኑ ሌሊቶች እን ዴት\\nእንዶደማሳልፍ ነው ።»\\n\\nሲያዳምጠው ቆይቶ፤ «አሁንስ ቢሆን ምን የሆን ይ መስልሃልኬ\\nብሎ ጠዩቀው ሀዲስ ፤ *አተላ\" የሚለውን ቃል ይዞ ።\\n\\n«‹ምንድን ነን?»\\n«‹የህይወት አተላ! የህይወት አተላ ነን» አለው።\\n\\n«አይ መምሬ ቄሱ!›» ብሎ ተለደበትና ፤ ያዲሳባን ውበትና ህይወት\\nልታደንቃት የምትችለው ለትንሽ ጊዜም ቢሆን ተልይተሃት ስትመለስባት\\nነው ። በተትለሰይማ ገንዘብ ሲኖርህ ምስጢርዋ ይገለጥልሃል ። ውበትዋ ይታ\\nይሃል ። ብዙ ምስጢር ደብቃ የያዘች ፤ አስደናቂ ውበት ያላት ከተማ ናት--\\nአሾን ፦ ፍሌም -- ባላንቻጋ ፦ ሽቱ ። ኦህ ፦ ተወኝ አቦ ። ይህች\\nጣፋጭ ህይወት አኣጭር ናት ። እንዴደ ጣፈጠች አታልቅም» አለውና ተስፋ\\nቆርጦ እጆቹን ወደ ላይ ወረወራቸው ።\\n\\nሀዲስ አተርቅሮ ሲያስብ ቆየና ጠጉሩን ቆፈር ቆፈር አድርጎ ፤ ‹«ለብ\\nዙዎቹ ጣሟን ገሃነም ናት›> አለው ።\\n\\n«እሱን አላውቅም!»\\n«በህዝቡ አይነ ውሀ ላይ ስለሚነበበው ቁጣ የነገርከኝ መስሎኝ?»\\n«ምን ይጠበስ ታዲያ! አሳ በቤንዚን?»\\n\\n«ኤንጂው ታመጩ.ው አንቺው ታሮጩው ፤ አሉ ። ህዝቡ ፊት ላይ\\nአንድ አይነት የእምቢተኛነት መንፈስ ይነበባል ያልክው አንተው ነዞ ።\\nእኔ አይዴለሁም ። በህሀዝቡ አይነ ውሀ ላይ የሚነበበውን ብሶት ለማየት\\nአዲስ አበባ መወጣት አያስፈልግም ። ምናልባት በይበልጥ የሚታየወ\\nእዚህ በገጠሪቱ ኢትዮጵያ ነው ።»\\n\\n« አኢና?›>\\n\\n«አና ፤ የሆነ ነገር አይሸትህም ወይ? ማለቴ ሃንው ።»\\n‹‹አንዶምን ያለ?ይ\\n\\n«የሆነ ነገር « አንደ ለውጥ ሽታ ያለ ።»\\n\\n“ላ፤\\nታፌሰ እንዶ መበሳጨት ብሎ ፤ «አትቃዥጭ አባነ)ህ!» ካለው ቦ” ዖ፲\\n«ምናልባት ሽማግሌው አንድ ነገር ያደርጉ ይሆናል ። ጃጅተዋል * ሰሟም\\nየሚጠብጉጥጦ አንድ ነገር ሳያደርጉ አይቀተሩም እያለ ነው ።*” አለቃ\\n\\n«አ>ዶምን ያለ?»\\n\" ኦ\\n«ለምሳሌ ፻ወዳ ን ለአልጋ ወራሽ እንዶ መስጠት ያሶ ነገር ን ተሎ\\n\\nዛህገ መንሣስቱቁን ማሻቫሻል ። ከ፲፲ሃሪ፲ላ የቡና ኾበና ላይ ቆረቆንዳሠ፲፬ ዘናፀዖ፡\\nነ፲ላነ፲ነ፲ በፅናጮሥ ያፅገነግ፡ሳል ። ቆረቆንዳጠ፲ሀ፲ነ ፲ጸን፲ስ፲፲፸ፀ፬፲ ዐነባዐዖ በ፲፶፲\\n'},\n",
       " {'page_number': 154,\n",
       "  'text': \"ሠዲስ 153\\nጢ\\n\\nሲመምሩበት ግን ተመልሶ ይረጋል ። የፖለቲካም ነገር እንደቪዚሁ ነው>»\\nብሎት እጆቹን በማወናጨፍ የፖለቲካውን ነገር ካሰቡ አውጥቶ ወዲዴ\\nጠጣለና * «ይልቅ ያንን ነገር ይፔ መጥቼአለሁ» አለው ።\\n\\n«የቱን?»\\n«ፈንጂውን ነዋ ፤ ጅል!>\\n«አትለኝም!» አለው ሀዲስ እየፈነደዶቀ ።\\n\\n«ዛሬ ማታ የሚዘንብ ይመስልሃል]?>» ብሎ ጠየቀው ፤ ታፈሰም የሀዲስ\\nስሜት ተጋብቶበት እጆቹን እያሻሸ ።\\n\\n«እንጃ ። ግን ለምን?»\\n\\n«ማታ ሲዘንብ መብረቅ ነበር?»\\n\\n«አዎን ፤ አልፎ አልፎ መብረቅኞቅ ነበር...»>\\n«ነጎድጉዋድስ?»\\n\\n«ሀይለኛ ነጎድጉዋድም አልፎ አልፎ ይሰማ ነበር...»\\n\\nጥሩ ነው ። ዛሬ ማታም ዝናብ ፤ መብረቅና ነጎድጉዋድ እንደሚኖር\\nተስፋ አዴደርጋለሁ ። ዛሬ ካልሆነ ሌላ ቀን ። ሁልጊዜ ሌላ ቀን አለ ። ሌላ\\nምሽት ) ሌላ ንጋት ፤ ሌላ ፀሀይ ።»\\n\\nአለው አውንም አልገባኝም ። የመብረቁና የነጎድጉዋጉዱ ጋጋታ ምን ፋይዳ\\nለው፲፲\\n\\n«ወርካውን መብረቅ ቢመታውስ? ፈንጂው ነጎድጉዋድ ቢሆንስ?»\\n«አባ ሰይጣን» ብሎት ዝም አለ ።\\n\\nታፈሰ እየሳቀ ፤ «ታውቃለህ ፤ አሳቡ የመጣልኝ ትናንት ማታ ነው ።\\nዝናብ ሲወርድ አሳቡ ድንገት ብልጭ አለልኝ ። አሁን ሳስበው በሌሊት\\nሄዶ ወርካውን ዝም ብሎ ማፈንዳት የሚያዋጣ አልነበረም ። አደገኛ ይሆን\\nነበር። ሙብረቅ መቼም የሚወድቀው ትልቅ ነገር ላይ ነው ። ለምን ወር\\nካው ላይ ወደቀ?--የቁጣ ምልክት ሊሆን ይችላል ። ፍፁም ሊደዴረስበት\\nወይም, ጨርሶ ሊያጠራጥር የማይችል ወንጀል ይሉሃል ይኽ ነው።፡››\\n\\nሀዲስ አይኖቹን እያቁለጨለጩ ፤ «በወርካው ቦታ አዲሱ ትምህርት\\nቆሞ ክድንቁርና የመነጩጨ አጉል ባህል አመድ ላይ እንደ ብርሃን የጠራ\\nእውቀት ሲያብብ አይታይህም?›» አለው ።\\n\\n«አይታየኝም ። ቅዥትክን ተወኝ ብያለሁ ።>\\n\\nየለ «ታዲያ ምንድንነው የሚታይህ? ወይስ ምንም የሚታይህ ነገር\\nም?»\\n\\n«እኗ ታየኝ ባችንን ሰርተን ማንም ሳያውቅብን ስናመልጥ\\n። በግ፶፲፩፪ጌ፲፡ ለዎ፡፤ልወርካውን መብረቅ መታው ብለው ሲያወሩ ስን\\nነው ዮሚታየኝ ። ክሰራነው ጀብዱ የምናገኘው ደስታ ነው የሚታየኝ ።\\nጅጀብዱ የህይወት ቅመም ነው ። አንዳንዴ አዶጋን ፊት ለፊት ካላዩ የመኖር\\nጄርጉሙ ሙረሳል ። ህይወት ራስዋ አንድ አጭር የጄብዱ ምእራፍ ናት ።\\nላ አይታየኝም ። '\\n\\nነው\\n\\nስቅ\\n\"},\n",
       " {'page_number': 155,\n",
       "  'text': 'ሺ . -«<..ቨጮ<ጮ።በሽ\\n\\n«ክዚያ በሁዋላ ከትምህርት ቤትህ ጋር ገዴል ወይም ገሃነም ኢ\\nትችላለህ!>» ብሎት እያዛጋ ተንጠራራና * «ምስጢሩን ለማንም እን፰፪፰\\nገርክ መቼም ትስፋ አለኝ» አለው ።\\n\\nገረድ ቁርስ ይዛ መጣች ። ትሪው በትኩስ ለጋ እንፍር\\nኮሞ፪፮፰፪ ። እንቁላሎችና የዶሮ ብልቶች ክተከመረው እንፍር፮ርር\\nውስጥ ተሽጠው ይታያሉ። ጤና አዳም ጣል ያለበት እርጎ በሽክናዎች ቀር\\nቦአል ።\\n\\n«እብድ መሰልኩህ?» አለው ሀዲስ ፤ ፊቱን ኮስተር አድርጎ በገፍ የቀ\\nረበውን ቁርስ እየትመለከተ ።\\n\\n«አንዳንዴ ሳስበው ጤነኛ አትመስለኝም» ብሎት ፥ እንፍርፍሩን\\n\\nቶሎ ቶሎ ጎርሶ እርጎውን ከተጎነጨ በሁዋላ ፥ « አቶ ይርጋ ምን ያስባሉ?»\\nኣለው ።\\n\\n«ወዶደዱም ጠሉም ነገሩን የተቀበሉት መሰለኝ ።»\\n\\nየታፈስ አበላል አስነምጅቶት ሀዲስም መብላት ጀመረ ።\\n«ምን አሉህኮ›\\n\\n«መቼ ነው? ባለፈው ቀን ቢሮአቸው ድረስ ጠርተውኝ ፡ *አይዞህ ፤\\nበርታ ። ግን የሰው ነገር ስማ ።ዱሮውኑም ቢሆን ሳታ”ክረኝ ብቅቀር ነው\\nእንጂ ችላ ያልኩህ የትምህርት ቤቱን መሰራት ጠልቼ አይዴደለም ። የጊዜ\\nችግር ሆኖብኝ ነው እንጂ እኔም ካሰብኩበት ዘመን የለኝም ። ፕላኑን ካዘ\\nጋጀሁት እንኩዋን ይኽው አስር ነው አስራ ሁለት አመት ሆኖአል ።ግን\\nኣአድምጠኝ ። ተማክረው የፈሱት ፈስ አይገማም ይባላል” ብለው ሸኙ\\nእልሃለሁ ። በእውነት ልቤን ነው የነኩት ። ስላለፈው ሁሉ ይቅርታ እንዲያ\\nዶርጉልኝ ጠይቄአቸው ወጣሁ» አለው ።\\n\\n«ሌላ ምንም አላሉህም?»\\n\\n«ሌላ ችዝ የሚለኝ ነገር የለም» ፣«አዎን፤\\nአሁን ትዝ ሕለ% › ብሎት ሁለቴ ከጎረሰ በሁዋላ\\n\\n።ምን ያህ ጁ ነበር»\\nአለጩ፡ ጋ ያህል ገንዘብ እንደ ሰበሰብን ጠይቀው\\n\\n«ስንት ነው?»\\n\\nእስካሁን ድረስ ፡› ሁልት ሽህ ብር ከአርባ ሳንቲም ሰብስ\\n\\n«ክዚያስ?»\\n\\n«<ገንዘቡን የት ነው =። ፎ ርአቶ\\nጣሴ ዘንድ ፍው አልኩቆ፰፰፫፫፲፲ገ፷ሁትሠ ብለው ጠይቀወማሣ ነበ\\n\\n“እውነትዥክን ነው?»\\n\\n«ይህን ህታሉ ገንበብ- ኣን\\n\\nክ ኮታፖ\\nስገቡትም?»\\n\\nዴት ቤት ታስቀምጣላችቕችሁ? ለምን 9?\\n'},\n",
       " {'page_number': 156,\n",
       "  'text': 'በስ።ዘ ፡ 8\\n\\n«እዚህ ባንክ የት አለ?»\\n«መቱ የለም ወይ?7>»\\n\\n«መቱ ድረስ እየተመላለሱ በየቀኑ ገንዘብ ማውጣት እንዴት\\nላል? ለዚያውም ዶሞ ቼኩ ላይ ሁለት ሰው ካልፈረመበት እያሉ ፮፲፲ጣ ፲፤፲፲፰\\nጣጣ ያበዛሎ ።»\\n\\nታፈሰ ጣቱን ዴረቅ እንጀራ ላይ ጠረገና ፥ «በል ወንድሜ ፥ ሰው ሳይ\\nሰማችሁ ቶሎ ሂዱና ባንክ ጨምሩት። ሌባ ሌሊት ቤታቸውን ሰርስሮ ገብቶ\\nቢሰርቅባቸውስ? የሱጴ ሌባ ባንድ ሌሊት ካምስት ሜትር በላይ ርቀት ያለው\\nጉድጉዋድ ቆፍሮ ሲገባ ይችላል» ብሎት ፥ ጣቶቹን እንደ ቡሄ ጅራፍ አከ\\nታትሎ ካስጮኽ በሁዋላ ፥ «አሁን ገና ገባኝ!» አለ ።\\n\\n፦ «ምነ?» አለ ሀዲስ ፤ የጎረሰው እንፍርፍር አልዋጥ ብሎት እየተናነ\\nው። -\\n\\nታፈሰ የፈጠጡትን አይኖቹን ሀዲስ ላይ ተክሎ አሁንም ጣቶቹን\\nያስጮህ ነበር ። «ነገሩ ማልጥ ብሎ እየተነበበልኝ ነው.--»\\n\\n«ምንድን ነው የምትለው!» የሀዲስ የዴም ስሮች ተገታትረው ነበር፡፡\\n«ገባኝ ስልህ።»\\n\\n«ሀዲስ ሌባ ሰረቀኝ ብሎ ገንዘቡን ሊበላ ነው እዚህ ያስቀመጠው\\nብለህ አስበህ እንደሆነ ተሳስተሃል!»\\n\\nሀዲስ ሲናገር ንዴት እየተናነቀው ነበር ።\\n\\n«ይኸን ማለቴ አይዶለም ።»ጅ\\n«ታዲድያድ ምንድን ነው የምትለው?»\\n\\n«ምን ቢያስቡ ነው ገንዘቡን የት እንዳስቀመጥከው የጠየቁህ፻»\\n«ምን አውቃለሁ? ጠንቁዋይ አልቀልብ ።»\\n\\n«ስማቼ ሀዲስ ። በጣም ሰው ታምናለህ ። አየህ ፥ ህይወት ገና ብዙ አላ\\nቆሰለችህም ። ብዙ ጠባሳዎች ልብህ ላይ አላስቀረችም ። ስለዚህ ሰው\\nታምናለህ...»\\n\\n«ኦፋ! ስብከቱን ተወውና ምን ሰማለት እንደፈለክ ንገረኝ-- »\\n\\n«እስቲ አስበው ፤ እነዚያን መጥፎ ደብዳቤዎች የፃፉብህ ሰው አሁን\\nበድንገጉት ተሄስተው አለሁልህ የሚሉህ ለምን ይመስልሃል? ነብር ቆዳውን\\nአይለውጥም ይባል የለ ። በተለይም አቶ ይርጋ አይለወጡም ። ትኩላ\\nናቸው ። ገንዘቡን ምን እንዳስቀመጥከው ከታወቀ በሁዋላ ፤ እንበል ሌባ\\nቢሰርቀውስ? ምን አደረኩት ትላለህ? ሌባ ሰረቀን ብትሉ ማን ያምናችሁ\\nዋል? ከዚህ አቅጣጫ በነገሩ አስበህበታል?»\\n\\n«ምን ነው ጃል! አቶ ይርጋ ያቶ ጣሴን ቤት ሰርስረው ይሰርቃሉ ልት\\nለኝ ነው?7»\\n\\n«እሳቸሙ ባይሰርቁም ሊያሰርቁ ኣአይችሉም---?»\\n\\n«ተው ኢኳባክህ ጃል ። ያላሰብኩትን አታሳስበኝ ። እኔ በበኩሌ እንዒህ\\nያዶርጋሉ ብፍ ፈፅሞ አልጠረጥርም።»\\n'},\n",
       " {'page_number': 157,\n",
       "  'text': '156 ሠሀዲስ\\n\\n«እንማሣዲያውስ የኔ ጥርጣሬ ይሆናል ። እርሳው> ብሎት ጣቱን ታ\\nወጣ ። ሀዲስም ትከክተትተለሰው #\\n\\n«ይህ ሁሉ እቃ ምንድን ነው?»\\n\\nላንድሮቨርዋ መአት እቃ ተጭና ነበር ።\\n\\n«ቡዋንቡዋዎች * የመታጠቢያ ቤት እቃዎችና ጄኔሬተር ነው ።ኔ\\n«ለምንህ?›\\n\\n«ታያለህ» ብሎት መኪናውን እየከፈተት ፥ «በነገራችን ላይ ፥ ከፈታ\\nውራሪ ቤት ወጥቼ ማዶ አባቴ ቤት ገብቻለሁ ። ኢያሳዶስኩት ነው ።\\nእንዲህ አይምሰልህ ። ግሩም የድሮ ቤት ነው ። ከፈለክ ለምን አብረን\\nሄዶን አታኖውምገ?»\\n\\n«ልብህ መቼም ካራዳ አይለይም> ብሎት ሳቀበትና * ‹«አሁን ልመጣ\\nአልችልም ። የማርማቸው ዶብተሮፎች አሉሜሼ። ሌላ ጊዜ››.»\\n\\n«ቻም ! የሚዘንብ ከሆነ ማታ እመጣለሁ ። ገንዘቡን ግን ባንክ ብታ\\nስገቡት ይሻላል ። ወይም ለኔ ብትሰጡኝ ጥሩ ነበር ። ይህን ያህል ገንዘብ\\nተንተርሶ መተኛት ሀጢአት ነው። ብትሰጡኝ ብዙ ትርፍ አገኘበት ነበር።\\nግንዘብ ገንዘብን ይወልዳል» አለው ። ፡\\n\\n«የህዝብ ገንዘብ እንዴት:!አድርገን!»\\n\\n“‹ህዝብ ፤ ህዝብ አትበል ፤ ያመኛል! እኔ የማወራው ስለ ትርፍ ነው።\\nሀጢአት ምንድን ነው? ብትለኝ ይህን ያህል ካፒታል ተንተርሶ መተኛት\\nነው። ያል ትርፍ እድገት የለም» ብሎት ላንድሮፎሸቨሩን አስነስቶ በሁዋላ\\nጎማምቹጭታቃ ረጭቶበት ሄዶ። ፡\\n\\nሀዲስ የተማሪዎቹን ደብተሮች ወዶ ማረሙ ስራ ተመለሰ ። ታፈሰ ተክ\\nሎበት የሄዶደው መርዝ ካሰቡ አልጠፋም ። በግማሽ ልቡ ፤ ኤጭ ፤ አጉል\\nጥርጣሬ ሄው ። መሸነፋቸውን አውቀው ይሆናል ። መሸነፍን በዐጋ ምመቶ\\nበል ራሱ ክድል ይቆጠራል።የትልቅነትም ምልክት ነው።ስለዚህ ኦኔ ነኝየሶ\\nራሁት በማለት የምስጋናው “ባለቤት\" ለመሆን ፈልገው ይሆናል ። ቢ፻\\n\\nፋይዳ ይኖረዋል? በማለት አሳቡን ይደመድምና የያዘውን ስራ ማፋጠንቆይጀ\\nምራል ። ረፋዱ ላይ ስራውን ጨርሶ ንሁዑህ አየር ለመቀበል ወዶመ ስኮቱ\\n\\nሄዶ እንዶ ቆመ ቶሎሳ እየተጣደፈ ወዶዴ ቅ ይመፅ\\nውና በሩን ከፍቶ ይጠብተዋል9 . \\' ቡት ሲመጣ ከሩ\\n\\nሰላምታ ተለዋውጠው ቤት ከገቡ \\'ጓ5ው የፀፆጣሁት ፡\\nይለዋል ጭሎላ ጎፈሬውን ጥቁር ጉም ፰፷ፀ፲፰ፊ፪ፓ ም\\n\\nክመ ን?ፕ ከፊታውራሪ?»\\n«አምጮዶለም ። ከክአይናለም ነው፤፲፱፴\\n\\nየሀሟስ ልብ ስንጥቅ ይልበታል ። ያዴ ቶሎሳ\\n\\n, ረበትን ስሜት ኮ\\n\\nዴ፤፡ አኦየፈልገ*«እሺ...። ምን ነበር መል፤ክቱጀጋትንሲለውፀ ቶሎሳ ነጦ\\n- ላይ ኤንስቶ ክዶረት ኪሱ ወረቀት አሕውጥቶ ሰጠው ።\\n\\nመጮዶይ\\nቃን\\n'},\n",
       " {'page_number': 158,\n",
       "  'text': 'ሀዲስ 157\\n\\nቀጡ ነበር። ቶሎ ብሎ ጄርባውን ወዴዶ ቶሎሳ አዞረ ። እግሮቹም እን፪፲፤፯፭\\nጤነኛ አልነበሩም ። ትንፋሹንም በሚገባ ለመቆጣጠር አልቻለም ።ትኩ\\nሳት በጣም ይዞት የልቡ ትርታ ጨምሮ ነበር ። ወዶ ጠረጴዛው ሄዶ\\nወረቀቱን ከጠረጴዛው ላይ ዘረጋና ትንፋሹን ዋጥ አድርጎ ዴደብዳቤውን\\nያነብ ጀመር፦፦\\n\\n«ይድረስ ለ .-.ሀዲስ» ብሎ ይጀምራል ዴይብዳቤው። *ለወንድሜ” የሚ\\nለው ቃል ከመሃል ተሰርዞአል...\\n\\n«ያመጣህልኝን መፃህፍት ለማንበብ አልቻልኩም ። አሳቤ እየባከነ\\nያስቸግረኛል ። የረጋ መንፈስ ከሌለ የሚያነቡት ነገር ሁሎ ተመልሶ እን\\nግዳ ይሆናል ። ከዚህ ቀጥሎ የምነግርህ ነገር አለኝ ። ይህን; ዶዴብዳቤ አንብ\\nበህ እንደዶ ጨረስክ መልሱን ፅፈህ ላክልኝ #1]\\n\\n«እንዶ አንድ ቀኑ ፊት ለፊት ተገናሜተን ለመነጋገር እድል አላገኘ\\nንም ። በቤተ ክርስቲያን ያደረግነው ቀጠሮም አላመቸም ። ስለዚህ ይህን\\nደብዳቤ ልዕፍልህ በቃሁ ።\\n\\n«አባቴ ሊድረኝ ነው ። ወይም ነገሩን ሰምተኸሽው ይሆናል ። እኔ ሟግን\\nበገዛ እጄ በገመድ ታንቄ እሞታታለሁ እንጂ አባቴ የመረጠልኝን ሰው አላ\\nገባም ። እንዳልኩህ *0 ሞቴን እመርጣለሁ ።\\n\\n«ፍላጎቴ ለመማር ነበር ። ነገር ግን አባቴ ከአይኑ ርቄ እንዳልሄድ ስለ\\nሚፈልግ ሳያስተምረኝ ቀረ ። እንዳገባው የታሰበው ሰው ከኔ የባሰ ማይም\\nነው ። ከመሸታ ሌላ አያውቅም ይባላል ። አባቴ ይህን እያወቀ ለዚህ ሷው\\nሊድረኝ መነሳቱ የበደል በደል ነው ። ለሞተ ታሪክ አዲስ ምሕእራፍ የመነ)\\nፈት ፍላጎቱ አይኑን ጋርዶታል ። እኔ ደግሞ ልጂህ ከንቱ ፍላጎት በመስዋ\\nእትነት ለመቅረብ አልፈልግምሮ\\n\\n«አሁን የምለምንህ ይዘኽኝ ወዶ አዲስ አበባ እንድትጠፋ ነው ።\\nአዲስ አበባ ራሱን የቻለ ዱር ነው ሲሉ እሰማለሁ ። ማንም ፈልጎ አያገኘ\\nንም ። እንዴት እንኖራለን ብለህ አታስብ ። በቂ ገንዘብ ይዝ እመጣለሁ ።\\nእንዶደምታስተምረኝ ተስፋ አለኝ ። በእንግሊዝኛ የተገፃፉ መገህፍት እንዴ\\nልቤ አንብቤ ብሞት ግድ የለኝሜም ። ይህን ሁሉ የምነግርህ ስለማምንህ\\nነው ። መልሱን ላክልኝ-.-ያንተው.-. አይናለም ተካ መ\\n\\nድምይልዋ እየተሰማውና;ባሳቡ መጥታ እየታየችው ደብዳቤውን እንዶ\\nገና አነበበሙ ። የተጨነቀች ነፍስ ከገሃነም አውጣኝ እያለች ስትጮህ ይሰ\\nማው ነበር ። ጭንቅላቱን ይዞ ወረቀቱ ሳይ እንዳፈጠጠ ቀረ ። እሺ ይሁን\\nወይም የለም አይሆንም የሚል ቀቅላል መልስ አልነበረውም ። እንደ እው\\nነቱ ከሆነ ምንም መልስ አልነበረውም ። የተጨነቀችው ነፍሱ ከውስጡ\\nእየተወራጨች የመረረ እንባ ስታለቅስ ይሰሳማው ነበር ። ህይወት በየማእ\\nዘኑ ለምን እንዲህ አድርጋ እንደምትፈትነው ከቶ ሊገባው አልቻለም ።\\nወዶ ላይ -ትንስቶች የጠረፉን ግድግዳ በመምታት ተመልሶ የሚወድቅ ማእ\\nበል የመስሰለ ንዴት ከውስጡ ገንፍሎ እየተነሳ ተመልሶ ሲወድቅ በሚንሳ\\nክሁ: ቡ » ይሆቻን ዎህል ስታምነኝ አዲስ አበባ ይዝርአት መሄድ ቀርቶ ›\\n\\nነ ለምን ኤብሬኤት ግደል አልጋባም? በማለሰት እጅ ለኣጅ ተያይዘው\\n'},\n",
       " {'page_number': 159,\n",
       "  'text': '458 ሀዲስ\\nጪ\\n\\nበጠፍ ጨረቃ ጭልጥ ብለው ሲጠፉ ይታየውና ወዲያው የህዝቡ ጨ\\nክሩቅ ይስማል---አንተ እምነተ-ቢስ!እያለ እድሜ ልኩን ሲከተለው ፻ፀ፯፲፪ሀ፰\\nሙኸኽትችት፣ ባሳብ ሲጨነቅ ያሳለፈው ጊዜ ግፋ ቢል ካንድ ደቂቃ አይበል\\nጥም ። ማን ያቺ ደቂቃ እንዶ ዘመን ረዝማ ነበር የታየችው ። በዚያች አንድዴ\\nአፍታ ውስጥ ክራሱ ክዘለአለም ጋር ፊት ለፊት የተጋጨ መስሎት ነበር\\nየተሰማው ። የውበት ፥ የፍቅር ፥ የተስፋ ፤ የስቃይ ፥ የጭንቀት ፤ የእምነትና\\nየከሀዲነት አፍታ ። በዚያች አፍታ ውስጥ የኢዮብን ስቃይ ሳይቀበል ፥ የዳ\\nንቴን ገሃነም ሷያቁዋርጥ ፤ የአለምን ንዳድ አሸዋዎች ሳይጉዋዝ አልቀረም።\\nጴጥሮስ ወዶ መንግስተ ሰማያት የሚያስገባውን በር የሚከፍተውን ቁልፍ\\nአልስጠውም ። ለሁለት የተክከክፈለው ልቡ መልስ አላገኘም ።\\n\\n«አሁን መልሱን ልልክልሽ አልቻልኩም ብሎሻቫሻል በላት ።\\n«እንዴት አድርጌ?ሙ\\n«ምን ማለትህ ነው?>ጭ\\n\\n«መልሱን ይዘህ እንድትመጣ ብላ ነው የላክችኝ ። ይኽኔ ቁጭ ብላ\\nትጠብቀኛለች ።>=\\n\\n«ታዲያ ምን ይሻላል?»\\n\\n«የሚሻለውማ መልሱን ፅፈህ ብትሰጠኝ ነሙ ወ»\\n«ቀላል አይዶለሲም ።»\\n\\nኣ<ምኑ?ጅ>\\n\\nኗመልሉሱ ።»\\n\\n«አኤሳብክን ወረቀት ላይ ማስፈር ምን ያስቸግርሃል? እድሜ ለአይና\\nለም እኔም እፅፋለሁ ። ጥሩ አድርጋ ፊደል አስቆጥራኛለች ።ው\\n\\n«ለጊዜው ይህ ነው ብዬ የማሰፍረው መልስ ስለ ሌለኝ ነው መ\\n«ይህንኑ - ልንገራታ?»\\n«የቱን?ውጅ\\n\\n«ለምን ብትለኝ * ለጊዜው ይህ ነው ብዬ የምልከው መልስ የለኝም\\nብሎሻል ብዬ ።>»\\n\\n«የሷም! የለም! እንዴ እሱ ብለህ\\n\\n፡ከታዷያጠ፲ አትንገራት ።»\\n፪፳::7 ፦።ሉ ለምን እስዋ ዘንድ ሜም?\\n\\n«የች? ቤት?»ጅ ች ።\\n\\n«አምን ።>\\n\\n«ፊታውራሪ አሉ ። በዚህ ላይ ግ ነው “ ግቤይ\\nበርበሬ በሚተነጥሱ ፤ እህል በሚፈጨ ዮኛሾፔጩቻ በማረ\\n\\n፯ቕ፶፫ኮዕዎቾፃጣዐኣል፲ሰሮጐየዶርዕየለ፲ለ፻ካቲትሣርያዖሡቦር\\n\\n«እ>ዶ ምንም ብለህ ዘዴ ፈልግልኝ» አለው ‹ ሰርጉ ምን ያዞ። ??\\nእንዴ ቀረው እያሰበ ። አስራ አምስት ቀን ንበር የቀረው “\\n\\nቶሎሳ ጥቁር ጉም የመሰኋውን ቀርቅሮ ያቦብ\\nነበር ። ፊቱ ብልጠቱን እንዶ ጠራ ዐስተየትጎፈሪሟለ፰ያዴ፲፰ጎ፯ሳያል ።እ”\\n'},\n",
       " {'page_number': 160,\n",
       "  'text': 'ሀዲስ 159\\n\\nአይን የሚፈጥኑት ትናንሽ አይኖቹ ነገር የሚያ አይመ\\n፮ስ፫ር፲ የዶሳገ፤፡ ቆዳው ገር ቢያስመስለውም ብልጠቱ፰፰፪፰፲፰፲የሚቕ፰\\nአልነበሩረ\\n\\n«እስዋ እሺ ካለች ዶህና›› አለ ።\\n«ለመሆኑ አሁውሁን እንዴት ናት?»\\n\\n«አዬ የስዋን ነገር ተወው ። በጣም ያሳዝናል ። እህል መቅመስ ከተ\\nወች ቆይታለች ። እንዶ ዱሮዋም መፅሀፍ አታነብም ። ሰው አታናግርም ።\\nያዶስ ፮፯፲ፅ፸፲ብ፰፯ኃል፯፮፲ ሳነቅዋ ሁሉ ቀርቶ ቤቱን ጭር አድርጋዋለች ።\\n\\nጠ ው ። ፊታውራሪም የሚያዶርጉት\\nቾው ግራ ገብቶአቸዋል ። » ሰ ሟ\\n\\nሀዲስ አውቆ እንዳላወቀ በመሆን ሊያውጣጣው ፈልንጎ ፤ «ለምን ይመ\\nስልሃል እንዲህ የምትሆነው?›> ብ ሎ ጠየቀው ።\\n\\n«መዳርዋን ጠልታ ነው።»\\n«ታዲያ ለምን አይትውዋትም?ገ፲»\\n\\n«እንዴት ተብሎ፤ ከፊታውራሪ ትንፋሽ አንዴ የወጣች ቃል አትታ\\nጠፍም ። ቃላቸውን ማጠፍ ሞት ነ ው የሚመስላቸው ። አገርስ ምን ይላቸ\\nዋል? አሸንሩፋ ቀረች መባልም እኮ ውርዴት ነው ።»\\n\\nሀዲስ--የማናቸው ፈቃድ ያሸንፍ ይሆን? እያለ ያስብ ነበር። በመጨረ\\nሻም--ጠንክራ ፈቃድዋ እንባዋ ውስጥ ሙዋምቶ ትሸንፋ መሄድዋ ይቀራል?\\nእና ፤ ለዘለአለሙ ሊለያት ልቤ የገባን ወንዝ አብሮአት ተሻማሣሮ ይሄዳል ።\\nለመጨረሻ ጊዜ ዶህና ሁሜ አድባርዋ ትከተልሽ ለማለት ። *ሃይ ፥ ሃይ ፡\\nሃይ፥፤ ሎጋውሽቦ? እየተባለ ተሞሽራ ስትሄድ እንባዋ ዴዶርቆ የጨው አምድ\\nእስኪመስል ድረስ ትረማግመኝ ይሆናል ። የእስዋም እርግማን እንዴዶ ህዝቡ\\nውኸት እድሜ ልኬን ሲክተትለኝ ይኖራል ። ምናልባት ህይወት ራስዋ ርግ\\nማን ሳትሆን አትቀርም ። አላሳውቅም ። ማን ያውቃል? ታዲያ ይህሀን ያህል\\nየምሰቃየው ለምንድን ነው? ይህ የተረገመ ትምህርት ቤት!\\n\\n«እሺ እንግዲህ ዘዴ ከተገኘ ተመልሼ እነግርሃለሁ» ብሎት ወጥቶ\\nሄደ --ቶሎሳ ።\\n\\nሀዲስ ደብዳቤውን ለሶስተኛ ጊዜ እንደገና አነበበው ። አይኖቹ እንባ\\nቁዋጥረው ነበር፡---ብቻዋን ሳገኛት--ያውም ባገኛት--ምንድን ነው የምላት?\\nአይናለም እወድሻለሁ ። ከልቤ አፈቅርሻለሁ ። ይፔሽ ብጠፋ ዴዶስታውን\\nኣልችለውም። ማን.. . ግን-- ምን፣እንዴት ሊገባት ይችላል? ሰው ቀርቶ ሰማ\\nያውያን መላእክትም ቢኖሩ ባለ ጥበባቸው ሁሉ ሲገባቸው አይችልም ።\\n\\n--ሁለት የወደደን ሰው ስሜት ማን-ሲረዳ ይችላል? መወሰን ምንኛ\\nስቃይ ነው1 ሆኖም በዚህ አለም ስንቶቻችን ነን ሀይወታችንን በሚመለከት\\nሰ ነገር የምንወስነው? ለቪህ ነው ብዙዎቻችን በባርነት ኖረን የም\\nው እ ቡሚ መመስን አጨ ምን ፍ ስንን ለን\\nእን ንወድ! እንዶ የዋሁ\\nቀ መ ው ሃ ች ሌለበት አለም ውስጥ መኖር\\n\\nና ትበ\\n%ጭ ጪግ፵ንጩ፲፶ያ፪፯ውሳኔ ሰአት ሸሸቶ ሊኖር አይች\\n'},\n",
       " {'page_number': 161,\n",
       "  'text': '160 ሀዲስ\\n\\nካለ ውሳኔ ሀይወት አትሆንም ። መወስን የሰው ል;\\n“- ማች፡‹ፍሞ ማጥ ሰው ብቻ ነው ከመወሰን ስቃይ ትገላግሎ ነፃ የሚቼፆ፹፰\\nእያለ ሲያስብ በሩ ሲመታ ሰማ ።\\n\\nአንድ ፖሊስ ከበር ላይ ሞ ይጠብቀው ነበር ።\\n\\nመቼም ዖ፶፤ኒ፬ስ ባየ ሩጥር ልቡ ስለሚዶነግጥ * «ምን ነበር?» አለው,\\n«የወረዳው ገዢ ይፈልጉሃል»\\n\\nደማንን? እኔን? ለምን?»\\n\\n«ጥራው አሉኝ እንጂ ጉዳዬን አልነገሩኝም ።»\\n\\nአቶ ጥላሁን ሸዋረጋ የወረዳው ገዢ ፤ ከዚህ በፊት አነጋግረውት አያ\\nውቁም ። አብዛኛውን ጊዜ ሱጴ አይኖሩም ። ሲያሰኛቸው ወዶ ግዛታቸው\\nእንዴ መስቀል ወፍ ብቅ ብለው ይጠፋሉ ። አብዛኛውን ጊዜያቸውን የሚ\\nያጠፉት መቱና አዲሳባ በመመላለስ ነበር ። የሱጴ ወረዳ ገገፒ ትብለው ከመ\\nሾማቸው. በፊት መጀመሪያ በቤት መንግስት ውስጥ ባሽከርነት ሁዋላም\\nበቤተ ርስት ፀሐፊነት ያገለግሉ ነበር ይባላል ። ታዲያ ከቤት መ<ንግስት\\nጋፎ ቀቅጥታ ግንኙነት አላቸው ስለሚባል ይፈራሉ ። ለምን ይሆን የፈለጉሽኘ\\nእያለ ትነስቶ ከፖሊሱ ጋር ሄዶ #,\\n\\nየወረዳው ፅህፈት ቤት ግቢ ስፍርፉሩጥር በሌላቸው ባለ ጉዳዮችተጥ\\nለቅልቆአል ። ሸህ አይን አፈጠጠበት ። ፖሊሱ በቀጥታ ወዴ ወረዳ ገዢው\\nቢሮ መራው ። ቢሮው ውስጥ የትተረጨውሏየቁንጫ መግዶያ መድሀኒት\\nቁንጫ ቀርቶ ሰው ይገድላል ።\\n\\n«ቁጭ በል» አሉት አቶ ጥላሁን «!\\n\\nሀዲስ እጅ ነስቶ ቁጭ አለ ። በሰንዶደቅ አላማ ትከቦ ከግድግዳ ላይ ተሶ\\n\\n፮፲፪፲ ሪ፭ት ሰፊት የሚታየው2ሂየንጉሰ ነገስቱ ፍቶግራፍ ሰው ወዴ ታች ይጫ\\n\\n«ምንድር ነው”ኮ ይህ ሽፍታነት!\\n«የቱ ሽፍታነት ፤ ጌታዬ?፲ው አለፔ፪ስ =\\n\\nአቶ ጥላሁን ከቅላኃፃቸው የተነሳ የፈረን ክልስ ስላሎ ። በራ\\nቸው ገለጥ ፤ ገለጥ ያለ ነው ። ፤ ጅ፲ ኝ\\nሊነካ ምንም አይቀረውም » ፣ ን፦ሙ የታችኛውን ከን\\n\\n«የፊታውራሪ ተካ ዘመ\\nር፰፲ይዴለሁፆ፲ ።»ጅ ጭ ነ9፻»\\n«ታዲያ ምንድር ነው ቤታቸው\\n\\nያት ጭላሁን ።\\nለም ትርበው እንፍ መ 2.የህዘን ጥላ የሚያንግኖብብበት ይመስሳፉ “\\n\\nዶጆሚኖሩ አይነት ከጫት በስው ላይ ያሳድራት *\\n'},\n",
       " {'page_number': 162,\n",
       "  'text': '“- መ -»ዲስ 161\\n\\nጥላሁን ሸዋረጋ\\n\\nየፈፊረሱ ስም - የጅብ መንጋጋ\\nአሳዶ ገዳይ በጉቦ\\n\\nበሚያዝያ ሲምብር ባምሌ ወጀቦ\\n\\nየተባለ ስለ አቶ ጥላሁን በጆሮ የሚነገረው ነገር ትዝ አለ\\n፰ለጠ ሲሻር ይቆጨዋል» እንዲሉ፤ ስለ ጉቦ አይናቸውን ኢየ፡፩፪፰ዷ፪፶\\n\\n«ምን ኢድርጌ?» አኤለ ሀሠዲስ ።\\n\\n«ምን ኢድርጌ! ማን አለብኝ ብለህ ተነስተህ የለም ወይ? እንዴት\"ኑ\\nነው ነገሩ? ወይስ ጥላሁን ፤ ማንም እንደ ፈለገው ቄገብቶ የሚጨፍር በትን\\nየጋለሞታ ቤት ይጠብቃል አሉህ!» አሉት ተቆጥተው።\\n\\nድምፃቸው እንዶ ነጎድጉዋድ ነው የሚያጉረመርመው። ሲናዴዱ አፍ\\nንጫቸው በይብልጥ እየረዘመ የሚሄድ ይመስላል ።\\n\\n«ስለ አዲሱ ትምህርት ቤት ነው?» አለ ሀዲስ ።\\n\\n«አዎን = መንግስት አለ ። አስተዳዴር አለ ። ማንን አስፈቀድክ?ማንን\\nጠየክ? ፕላኑጋን ማን አፀደቀልህ? ህዝቡን ለመሰብሰብም ሆነ መዋጮ ለመሙ\\nጠየቅ ማን ስልጣን ሰጠህ?> በማለት በጥያቄዎች አጣደፉት ።\\n\\n«እንዴዶ ጭጥፋት ከተቆጠረብኝ እተወዋለሰሁ *፥* ጌታዬ ። በቅንነት ያደረ\\n፫ ነው እንጂ ፤ ማን አለብኝ በማለት የሰራሁት ነገር አይዶስም» ኣላ\\n።\\n\\n«ከህዝብ ገንዘብ ከሰበሰብነክ በሁዋላ እተወዋለሁ ማለት ምንድር ነው\\nትርጉሙ? ወምይ›ስ ጥላሁን የእድጋት እንቅፋት ነው ልማለት ነው? ስማ፤ የሱጴ\\nህዝብ አይኑን ለመክፈት የቻለው እኔ እዚህ ከመጣሁ በሁዋላ ነው ። ክባላ\\nባቶች መንጋጋ አውጥቼዋለሁ ። ቀን ከሌት እየደክከምሁለት ነው ። የእድ\\nገት አጋር እንጂ እንቅፋት አይደለሁም -» ሲሉ፤ ሀዲስ አቁዋረጣቸውና፡\\n\\n«እንዴደሱ አሳልኩምኮ ፤ ጌታዬ» አለ ።\\n\\n«አንዴ ፣ አናግረኝ እንጂ! የዘመኑ ልጆችኮ ሰው ከመጤፍ አትቆጥ\\n\\nሩም። መረን ፀጥታቾሁየልቺ በነግራችን ላይ አዲሳባ ያለህ አይምሰልህ ።\\n\\nጥላሁን ቀልድ አላውቅም ። በስልጣኔ ቀናኢ ነኝ ። በስልጣኑ የማይቀና\\n\\nሰው ባለ ስልጣን አይደለም። ራሱን ያስደፈረ ባለ ስልጣን የመንግስትን\\n\\n፰፲ ረተዔጁጡ አክብሮ ያስከብራል ማለች ዘበት ነው ። እና ፤ ወዳጄ ቀልድ\\n!\\n\\n«ከዛሬ ሯምሮ ያለኔ ፈቃድ በዚህ አገር ምንም ለማድረግ እንደማት\\nችል እወቅ ፲፮ግፃ፲ ስቺፉወጎ አቄም ማሰቴ አይዴለም» አሉት ።\\n«እንዴት ላድርግ ታዲያ?»> አለ ሀዲስ ማራ ተጋብቶ «\\nየሰውዬሙ ጫወታ ሊገባው አልቻለም #\\n«ለመሆ> እስካሁን ስንት ግንዘብ ሶብስባሃል?»\\nሁለት መቶ አስራ ሁለት ሽህ ብር ።“»\\n'},\n",
       " {'page_number': 163,\n",
       "  'text': '162 ሠዲስ ፥\\nጣ |\\nማስታወሻ ደብተር ላይ የሆነ ነገር እየፃፉ ፦፥---\\n«ስንት ክፍል ያለው ትምህርት ቤት ለመስራት ነው የታሰበውኬ\\n\\n«ስምንት የመማሪያ ክፍሎች ፤ አንድ አዳራሽ ፤ አንድ ቤተ\\nፍት * እንዲሁም አራት ፅህፈት ቤቶችና አንድ ያስተማሪዎች መሰብሰ\\nቢያ--.»\\n\\nአሁንም እየፃፉ ፥ «ስራው መቼ ይጀምራል!?» በማለት ጠየቁት ,\\n«ስራውን ለመጀመር ተዘጋጅተን ነበር ። ማግን-...» ከማለቲ ፥\\n«ግን ምን?» አሉት ።\\n\\nስለ ገጠማቸው የቦታ ችግር አንስቶ ካጫወታቸው በሁዋላ ፥ ዩ«ቦታ\\nእንዲሰጠን እዚሁ አመልክተን ነበር። ያስጠሩኝም ለዚሁ ጉዳይ መስሎኝ\\nነበር» አለ ።\\n\\n«የገበያው ቦታ አይሆንም ። እሱ ከህዝብ ጋር የሚያጣላ አሳብ ነው።\\nለስንት ዘመን የኖረ ገበያ ወደ ሌላ ቦታ ይዛወር ተብሎ እንዴት ይጠየቃል!\\nአንተስ ብትል እሺቪ ። ወጣት ነህና ነገሩን አታውቀውም ። አቶ ጣሰሴ ደጉ\\nካንተ ጋር ማበራቸው ነው የገረመኝ ። አዎ ፥ ችግራችሁ ይገባኛል ። አዲሱ\\nትምህርት ቤት እስኪሰራ ድረስ ትምህርት ማቆም አይቻልም ። ወርካው\\nደግሞ የህዝብ አድባር ስለሆነ እሱን መንካት በሰው አምልኮት መግባት\\nይሇናል ። የህዝቡን ሰላምና ፀጥታ የሚያኖናጋ ነገር በማዛቱ ውስጥ መደረዓ\\nቀርቶ መታሰብ የለበትም ።\\n\\n«ግን ቦታው ቢገኝ ስራው ምን ያህል ይፈጃል?» አሎሉት እየፃፉ ፡\\n«ምናልባት አንድ አመት...»\\n\\n«ከህዝብ የተሰበሰበው ገንዘብ አሁን የት ነው ያለው?»\\n«በኮሚቴው ስም ባንክ ልናገባው አስበናል» በማለት ዋሻቸው *\\n\\nያቶ ጥላፁን ፊት ድንገት ሲለወጥ ታየው ።\\n\\n«ህጋዊ ሰውነት ያለው ኮሚቴ ነው?ጅ\\n«የለውም» አለ ። ሟ ክ፪ ፡\\n\\n«እንግዲያውስ የህዝብ ገንዘብ ራሳቸውን ኮሚቴ ብለው ቦሶየ”\\nሰዎች እጅ መኖር የለበትም ። ገንዘቡ ቢጠፋ ወይፃ፲፲፯ ቢባክን ሁዋላ ተና\\nያቂው ማን ነው? እኔ ጉዳዩን የምመለከተው በዚህ መልኩ ኦያቼ\\nለም ። ገንዘቡ የትም ባክኖ ቢቀር ህዝቡ በልማት ስራ ላይ እፖነትያጣ፰፲\\nእኔ እዚህ እያለሁ እንዲህ ያለ ነገር መሆን የለበትም ። ሀላፊነት ኮሶ*።\\nአንድ ነገር ቢደርስ እጠየቅበታለሁ....»\\n\\nዞ\\n«ህዝቡ ከጣለብን እምነት ት ያስፊልጋኦ\\nአለ ሀዲስ ጠጉሩን ቆፈር ቆፈር ድጩ ህጋዊ ሰውነጥ\\n\\n«እንዴት! እንዴት!››\\n\\n«ህዝቡ የጣለብን እምነት አይበቃም ወይ? ማለቴ ነው» ኦሶፅ*\\n«አልጠየቅም ልትል ነው!» ብለው ብ፰ግ አሉ።\\n\\nነ ከዖፆ\\nቁመናቸው እንደ ሸም ቆየ ቾቸው የተነ\\nጀርባቸው ጎበጥ ይላለ በ ሬዘመ ነው ። ከመርዘማቸ\\n'},\n",
       " {'page_number': 164,\n",
       "  'text': 'ጻ ፡፡ጡርር:::የ..፡፡\\n\\n«አላልኩም» አለ ።\\n«እህሳ?»\\n\\n፻፪፲ፃፆ፲ዝ፶፲፲፰፰፰፲ ዷዊቕኛል ።* አደራ ሰጥቶኛል ። ለኔ ከዚህ የበለጠ\\nህግ ግዴታ ያስፈልጋል ከተባለ ኮሚቴው ህጋዊ\\nሰውነት እንዲሰጠው በፅሁፍ እንጠይቃለን» አለ ። «\\n\\n«እስከዚያስ ድረስ?» አሉት * «ገንዘቡ በማን እጅ ይቆያል?»\\nሀዲስ ኮስተር ብሎ ፥ «በኮሚቴው እጅ ይቆያል» አለ ።\\n\\nጠረጴዛውን በጥፊ መትተው ፤ «ፈፅሞ! በሰነድ ተይዞ ወደ ወረዳው\\nካዝና መግባት አለበት ። እምቢ ካላችሁም ምናለ ፤ የጥላሁን ግዛት የሽፍ\\nቶች አደባባይ ሲሆን እናያለን ።\\n\\n«ደግሞም ይህን ያህል ገንዘብ ለትምህርት ቤቱ ብቻ መዋል የለበ\\nትም ። የሱጴ ህዝብ ልማት ቅደም ተከተል ይዞ በስራት መሰራት ይኖርበ\\nታል ።ይህን የሚወስንልኝ ደግሞ ያንተ ኮሚቴ አይደለም። ግዛቱ የኔ ነው።\\nዬዬቕ፡ዷ ዷከስቸኳይ ገቢ ባታደርጉ ሁዋላ ውርድ ከራሴ ብያለሁ» ብለው\\n\\n።\\n\\nከአቶ ጥላሁን ቢሮ ወጥቶ በቀጥታ ወደ አቶ ጣሴ ዴጉ ቤት ሄዶ ። አቶ\\nጣሴ አትክልታቸውን በመኮትኮት ላይ ነበሩ ።\\n\\n«ምን ነው ዶህናገ» አሉት ፤ የፊቴን መጥቆር አይተው ።\\n\\n«እረ ጉድ ፈልቶአል» አላቸው ።\\n\\nጉሮሮአቸውን ጠረጉና ፥* «ምን ሆነ?» አሉት ።\\n\\nካጫወታቸው በሁዋላ *።«ምን ማድረግ ይሻላል?» አላቸው ምርር ብሎ።\\n\\nኣቶ ጣሴ ካንጀት ሳቁና ፥ «ጅብ በማያውቁት አገር ሄዶ ቆዳ አንጥፉ\\nልኝ ይላል አሉ» በማለት እንደዴዶ ገና ሳቁ ።\\n\\n«ባስቸኳይ ገንዘቡን ካዝና አስገቡ ነው”ኮ የሚሉት» አለ ።\\n«የቱ ካዝናገ»\\n«የወረዳው ፅህፈት ቤት ካዝና---»\\n\\n«ወዶ ኪሴ ቢል ይሻል ነበር? እሱን ተወው ። የቀን ጅብ ነው ። ከዚህ\\nበፊት ፥ የመጠጥ ውሀ አስገባለሁ ፥ መንገድ እሰራለሁ ፥ የገባን ድልድይ\\nአሰፋለሁ ብሎ ከህዝቡ በግድ የገፈፈውን ገንዘብ የበላው አነሰውና ነው\\nዶግሞ አምጡ የሚለው?\\n\\n«የመ ሳባ ባለ ስልጣኖች መተያያ ሊያደርገው ፈልጎ ነው ።\\nኣይምስልሀቱዴ፤የስጉ ብሎ ለህዝብ ጎንዘብ አሳቢ! ያው እንዴ ልማዱ ለባለ\\nስልጣኖች፥፤ ቅቤ ፤ማርና ወርቅ ሊጭንበት ነው ። አጅሬ ይህን ያህል ገንዘብ\\nእጁ ገብቶ ይቅርና ፥ አንዲት ብር ንቆ አይምርም ። ላንድ ብር የድሀ መቀ\\nነት የሚያስፈታ ሌባ ነው ፤ መቼ አጣሁት ። አውቀዋለሁ» አሉት ።\\n\\n«ታዲያ አሁን ምን እናድርግ ነው የሚሉት?» አለ ሀዲስ ተጨንቆ ።\\n'},\n",
       " {'page_number': 165,\n",
       "  'text': 'ኪ . መ -\\n\\nርጡ፲ዝሦሣለቅዙ፲ጠሙጩጊየጢ\\nዘብ ለቀን ጅብ አሳልፈን መስጠት የለብንም “ ምፍጓቱ ያደርጋል ብ\\nንሙ?»\\n\\n«ገፍቶ ክመጣም ሌላ ርምጃ እንወስዳለን» በማለት አደፋፈሩት ,\\n«ምን? እንዶምን ያለ?» አለ የልብ ልብ ተሰምቶት ።\\n\\n«ከዚህ ቀዶደዶም የተዋጣው ገንዘብ የት እንደ ደረሰ ህዝቡ መጠየቅ አን\\nዲጀምር እንገፋፋለን ። ፈስ ያለበት ዝላይ ስለማይችል ያኔ ዝም ይላል «\\n\\n«ፖለቲከኛን ማሸነፍ የሚቻለው በፖለቲካ ነው ። ህዝቡ ዛሬ እንደ\\nበፊቱ አይዶለም ። አይኑን ከፍቶአል ። ለምን? በምን ምክንያት? እንዴት!\\nኦያለ መጠየቅ ጀምሮአል ። ደ\\'ሞ ልንገርህ ። ስለ ገንዘቡ እንዲያነሳ የገፋ\\nፋው አቶ ይርጋ ይሆናል ወ»\\n\\n«ካሉስ አቶ ይርጋ\"ገንዘቡን የት ነው ያስቀመጣችሁት?”ብለው ጠይቀ\\nውኝ ነበር» አላቸው።\\n\\n«ምን አልክው ታዲያ?» አሉት ።\\n«እርስዎ ዘንድ መሆኑን ነገርኩዋቸው.--»\\n\\n«አዬ አንተ ልጅ!!» አሉ ራሳቸውን ነቅንቀው።፤ «ቅንጣት ታህል\\nጥርጣሬ ለልብህ ቢሰጠው ምና\\'ለበት? ለወዶፊራቱ ማግን አስብበት። ጥራት\\nያለው መስተዋት ሆኖ መታየት ደግ አይደለም ። ከቅንነትና ከየዋህነት\\nየተነሳ ሞኝ አትሁን ። ግን አይዞህ ። አትስጋ ። የጀመርነውን በጎ አላማ\\nከግቡ ሳናደርስ ክንዳችንን አንተራስም ። ጥላሁን ፈሪ ያገኘ መስሎት\\nይሆናል የደነፋብህ ።”»\\n\\nሀዲስ በአቶ ጣሴ ቆራጥነት ልቡ እየተበረታታ ‹ «እኔም”ኮ ህዝቡ ኮጣ\\nለብን እምነት ሌላ ምን ህግ ያስፈልጋል ብዬ ነበር» አላቸው ።\\n\\n«ልክ ነህ» አሉ አቶ ጣሴ ፡ «ምናባቱ ይሆና ው።ግፋ ቢል\\nያው እንዶ ለመደዶው ትምህርት ቤት ላሰራ ፭፲ወ፲ ቺፃሎብሷዬኔዓ ይሰጥ ይሆ\\nናል ። የገንዘቡን ልክ እና ስራው መቼ ተጀምሮ እንደሚያልቅ የጠጦየቀ\\n\\nለዚሁ ነው ። ምን እሱ * ይህን አግኝቶ ይቅርና ሰዎች ወፍጮ ሲተኮክ* \\'\\nየቡና ማበጠሪያ ሲያቆሙ እኔ የሰራሁት ነው ብሎ የሚደነፋ ሰው ነው 4\\n\\nየውሸት ስታትስቲክ አቀናብ ስተ*\\nጣሪ ጥለም . ሮ በማቅረብ የሚወዳደረው ወረዳ ኦ\\n\\n«በሱጴ ይህን ያህል ቡና እግር በዚህ አመት ተተከለ ፤ ይህን ታ\\nቁዋመ፦---ጸረ ስንቱ? የዶሮ 1ና ል ቸ ር\\n\\nበማስታወቂያ ሚኒስቴር ሳይኖሩት ”\\nበተለይ\\n፰ገልግሎ፰ ዐኪ፮ ግብረ በላው ነው» በማለት ፥ ስለ አቶ ጥላሁን ሸዋ\\n\\nሌላ ንጋት ። ሌላ ፀሀይ ። ሌላ ልፉ ሊነዕ\\nሰውነቱ ቀሎት ነበር የተነሳው ። ባላሮ ይርወ ፲፮፲፲፲፲፴ር፲፡ፋ፲ ፲ባ፰፰፲ገ፰ቆሪጠ .\\n'},\n",
       " {'page_number': 166,\n",
       "  'text': '1፣፡ዔዌ፡.ም።።ዴዴዱዱ6........ዉ..6ን\\n\\nስራ ግዴታና በፍቅር መካክል ምርጫ ማድረግ ቀርቶ የምኑንም ፅዋ ቢሆን\\n፭፲ያ፲ለ አንዳች ማመንታት አንስቶ መጨለጡ አይቀርም። የምትቀረንን ጊዜ\\nከዚህም ከዚያም ሳይሆሇን በክንቱ ማቃጠል ራሱ የከንቱ ከንቱነት ነው በማ\\n\\'ለት ወዴ ጠረጴዛው ሄዶ ፤ «ውድ አይናለም» ብሎ ገና መፃፍ ከመጀመሩ\\nበር ተንኩዋኩዋ ። ቶሎሳ ነበር ።\\n\\nቶሎሳ ክንብንቡን አውልቆ እየተጣደፈ ፡«እንሂድ ። አይናለም ከቤት\\nትጠብቅሃለች» አለው ።\\n\\nሀዲስ ወረቀቴን ቀዶ ጥሎ ከቶሎሳ ጋር ተነስቶ ለመሄድ እየተዘጋጀ ፤\\n«ቤት ሰው የለም1» ይለዋል ።\\n\\n«ማንም የለም ። ፊታውራሪ ወደ ቤተ ክርስቲያን ሄደዋል #እሁድ\\nአይደለም እንዴ? ስራ ቤቶችም የሉም ። እስዋ ብቻ ናት ቤት ውስጥ ያለ\\nቾ፬፲ ጆ>»\\n\\n«አንተስ ከፊታውራሪ ተለይተህ እንዴት ቀረህ?»\\n\\n«አዎን * ሌት ክዘብ ፥ ቀን ካጀብ አልቀርም ነበር ። ዛሬ ግን ቤት ጠብቅ\\nተብዬ ነው የቀረሁት» ብሎት ነጠላውን ከፍ አድርጎ የታጠቀውን\\nመሳሪያ አሳየው ።\\n\\n«ምን ነው ዶህና1»\\n\\n«አንድ ሴራ በመዶለት ላይ መሆኑ ተደርሶበት ነው ።»\\n«የምን ሴራ?ጅ\\n\\n«አይናለምን ጠልፎ ለመውሰድ ።»ጅ\\n\\n«ምን!1!...ማን?»\\n\\n«መቶ አለቃ አሽኔ።»\\n\\n«አትለኝም!»\\n\\n«አምን ፤ ሽማግሌዎች ልኮ ጠይቆ ነበር ። ፊታውራሪ ይህን ሲሰሙ\\nያደረባቸው ንዴት መቼም ይህ ነው አይባልም ። “*ይሁን መቼስ ፥፤ የሰውን\\nምኞት መከልከል አይቻልም ። ግን ከምኞቱ የድፍረቱ! የራሱን ቦታና\\nየሰው ልክ የማያውቅ ባለጌ፤ ሞኝ ሲስቁለት ያከበሩት ይመስለዋል። ድሀ\\nበድህነቱቴ ላይ ቅሌት ባይጨምር ምናለበት \" እያሉ ሲናደዱ ነው የከረ\\nሙት ። እሱም በበኩሉ እንዴት ይንቁኛል በማለት ጠልፎ ሊወስዳት መን\\nገድ እየፈለገ ነው አሉ ። ይሥጣና ከጎኑ ያገኘዋል!»\\n\\nከቤት ተያይዘው ወጥተው መንገድ ከጀመሩ በሁዋላ ሀዲስ በልቡ ተአ\\nምር አያልቅም እያለ ፤ «ለመሆኑ እንዴት ደረሳችሁበት እባክህ?» አለው ።\\n\\n«የተዴረገ ነገር ቀርቶ የታሰበም አያመልጠን ። አቶ ይርጋ ፥ “ሀኪም”\\nየሺጥላና እሱ ሆነው ይህንኑ ሲያሴሩ ነው የሚውሉት አሉ ። የወጠኑት ተን\\nል ይገርምፃል =»\\n«ምንድን ነው የወጠኑት?»\\n\\n«አቶ ይርጋ ፊታውራሪን ትምህርት ቤቱን ይጎብኙልን ብለው ሊጋ\\nብዙ = ለትምህርት ቼኒቱ ስራ ብለው ርዳታም ሊጠይቁ ። ግቢው ባዶ\\n'},\n",
       " {'page_number': 167,\n",
       "  'text': '166 ሀዲስ\\n\\n. ኢኢ\\n\\nመቶ አለቃ ከታጠቁ ጥቂት ሰዎች ጋር በጎን ሄዶ አይናለምን ጠ\\nፎኛነጃዛቆያፆዮ ሽማግሌዎች ልኮ ሊታረቅና ሊክስ =» ልፎ\\n\\n«ምን አለውና ይክሳል?»\\n\\n«ሀብትስ ሞልቶአል ። እያሰረ ፤ እየፈታ ሲዘርፍ አይዶደለም የሚው\\nለው? ካቶ ይርጋም ጋር ተሻርኮ ቡና ይነግዳል ። አራጣ ያበድራል ። ገንዘ\\nብስ ሞልቶታል። ለካሳው ብዙ ወቄት ወርቅ አዘጋጅቶአል አሉ ።»\\n\\n«እስከዚህ ድረስ?»\\n\\n«አዎን ። እድሜ ለወይዘሮ ዝናሽ ከምስጢሩ የማናውቀው ነገር አን\\nድም አኣልቀረን ።»\\n\\nከትምህርት ቤቱ አጠገብ ዴርሰው ነበር ። ሀዲስ ትምህርት ቤቱን ለማ\\nየት አልፈለገም ። ፊቱን አዙሮ አለፈ ። ወዴደ ፊታውራሪ ግቢ የሚያወጣ\\nውን መንገድ ሲያያዙ ፡፥---\\n\\nአይናለም አይናለም\\nየማይልሽ የለም...\\n\\nየሚለው ግጥም ባሳቡ መጣበት ። አንድ አይነት ቅናት መጥቶ አደዴረበት ።\\nወዶ እስዋ ነበር የሚሄዶደው ። ከቤት ውስጥ ብቻዋን ትጠብቀዋለች ። አሰም\\nከውጭ ይጠብቃታል ። ያለ እስዋ ብቻውን ተመልሶ ለመምጣት የሚችል\\nመስሎ አልታየውም ። ቅናት ልቡን ይዞ ያሜከው ነበር ። እንደሚያፈቅ\\nራት አወቀ ። እና ፤ ስቃይ ሆነበት ። ላሳርና ለስቃይ ይሆናል የተፈጠርኩት\\nብሎ አሰበ ። ክግቢው የውጭ ካብ አጠገብ ሲዴርሱ ነበር ብዙ የጠብመንጃ\\nአፈ-ሙዞች ከካቡ ላይ ብቅ ብቅ ብለው የታዬት ። ቶሎሳ ፊት ፊት ቀድሞ\\nእየመራው ዋናውን ቤት አልፎ ወደ ጉዋሮ ወሰደው ።\\n\\nራች ክብ ነበረች ። ጎጆይቱን የከበበችው ትንሽ መስክ አረንጉዋዴ የፉርስ\\nምንጣፍ ትመስላላች ። በእንክብካቤ የተያዙ ፅጌ - ረዳና ጋሩፋ አበባዎች\\nክጎጆዋ ደጃፍ ላይ ይታያሉ ። ከጎጆዋ በስተቀኝሜና በስተግራ ትንሽ ራቅ ።ቿ\\nየትርንጎ ፤ የሎሚ ፤ የሮማን ፤ የብርቱካን ፤ የዘይቴንና የእንኮይ ዞፎች\\n\\nቶሎሳ እንዴ ጥላ ውልብ ብሎ ከ አስቀድዛ\\nአበቦቼ ዶደስ አይሉም?ፐ» አኣለችው « ጎኑ ጠፋበት ። ከሰላምታ\\n\\nካንገቱ ጀምሮ እስከ ጫፉ ድረስ ያጌጠ ረጅም ቀሚሶ ሶቦ›\\nነበር።ትልቅ የወርቅ መስቀል ፀዙቾየ፡በንጥ ፰፲፲፱ለት ክፍሎ እፀፀቕላሡ ፲ኗ፪\\n፰፲ፔረ፰፲ኃ፯ያ፰፺ “ ከትከሻዋ ላይ ወርዶ የወዴቀው ጠጉርዋን በይበል\" እሪ\\nስላሉ ። በይበልጥ ማንን ያደምቃል? የሚል ፉክክር የገጠሙ\\n\\n«አንቺ ይበልጥ ዶስ ትያለሽ» ኣላት ።\\nጉንጮችዋ እንዶ ፅጌ-ረዳ ኣበባ ፈኩ።\\n'},\n",
       " {'page_number': 168,\n",
       "  'text': 'የበመሔሑሉ . :5.:ብ6\\n\\n«እዚህ ነበር ሳነብ የምውለው ።»\\n«አሁንስ?» ለጥያቄው መልስ አልሰጠችውም ።\\n\\n«ከዚች ትንሽ አለም ሌላ አላውቅም» አለችው\\nለይ ከሚጫወቱ ድንቢጦች ላይ አሳርፋ = ፡ አይዊፍዋንቻ መስኩ\\n\\n«ትንሽ ገነት ናት» አላት ፤ ያበቦቹ መአዛ እየሸተተው ።\\n«ሮሚዎና ገጾዞልየትን አንብበሃል ፤ እርግጠኛ ነኝ።»\\n«አዎን ። ቆይቻለሁ ካነበብኩት ።»\\n\\n«ልብወለድ እንዲያው ልብወለድ ይባላል እንጂ በሰው ላይ ይደርሳል።»\\n«ልብወለድ ቢሆንም የህይወት መስተዋት አይዶል?»\\n፲፲፲፲፤፩፸ማ፲ፆዘነ፲፲፲፶፲፱ጉመ የዝዙልየት ታሪክ በከፊል የኔ ታሪክ ይመስለኛል።»\\n\\n«የሮሚዎና የዝልየት አባቶች ጠላቶች ነበሩ። የኔና የዚህ ሰውዬ አባ\\nቶችም እንደነሱ አባቶች ጠላቶች ነበሩ ። ሮሚዎና ገቦልየት በጣም ይዋዶ\\nዳሉ ። ግን የሚዋደዱ ሰዎች እንክን አያጣቸውም እንደሚባለው ሁለቱም\\nይሞታሉ ፤ በመጨረሻ ቤተሰቦቻቸው ሊታረቁ ። የኛ ታሪክ እዚህ ላይ ለየት\\nይላል ። እኔና ልጁ በአይን ተያይተን አናውቅም ። አባቶቻችን ናቸው\\nበግድ የሚገፋፉን ። በልጆቻቸው ጋብቻ ቃል ኪዳን ሊገቡ ። ቢታረቁ ደስ\\nይለኛል ። እኔ ግን የቃል ኪዳን ማስሪያ መሆን አልፈልግም ።ወ»\\n\\n«አዎን ፤ እሱን በደብዳቤሽ ገልፀሽልኛል›-›-»\\n«ታዲያ ምን ነው መልስ ያልፃፍክልኝ?»\\n«አሳቤን መቁረጥ አቅቶኝ ነው ።“»\\n«አሁንስ?ው»\\n\\nጠጋ አላት ። ከተቀመጠችበት ተነስታ ወዶ ሁዋላ አፈገፈገች ። ዴደመ\\nነፍሱን በይበልጥ ተጠጋት ። ከሁዋላዋ ግድግዳ ስለነበረ የምትሸሽበት ቦታ\\nአልነበራትም ። እጆችዋን ይዞ ወዴ እሱ ሲስባት በልጃገረድ ስሜትዋ እየ\\nችው፥፤«ምን ሆንክ? ሰው ይመጣብናል!» ብትለውም ጨክኖ ሊለ\\nቃት አልቻለም = ያደረበት ስሜት ከማሰብ ችሎታው በላይ ሆኖ እንዷ\\nፈረስ ይጋልበው ነበር--እየገረፈው ፥ እየኮረኮረው -* እያጋለው.-- እና\\nእስዋም የልጃገረድ እፍረትዋን ገልጣ በግለቱ ሃይል ውስጥ ባህር እንደገባ\\nዉው እየሙዋሙ-ዋች ትሄድ ነበር--የስሜት ጣእም--የምድር ጨው---የባ\\nረኚጣፀቐቶሀይፀት ሽቱ መአዛ ገነት--የፀሀይ ስባሪዎች ፍንጣሪ--ዘላ\\n።\\n\\nአል፻ኋቀ”ዞ መጨረሻ ክሌለው ህይወት ባህር ውስጥ ሰጥሞ እንጆ ወጣ\\n\\nተንፍሶዕ ለቀቃትና * «ካንቺ ጋር የትም ብሄድ ዶስ ይለኛል ።\\nኣቤች ትንሽ ገነት ፲፲ስ፪፪ዐ አይሆ፲ዝዘዖ፲፰፰፡ቅራችን ትልቅ ገነት በሆነ\\n8\\n\\nካንቺ ጋር ሆኖ ምን ገሃነም ይኖራል?ማን---»\\nናግን ምንኮ› አለችው ።\\n\\n. ። እንዶ ሀር ነዶ ተዘናፍሎ የተበ\\n፭፲ጎድዝ፲ጎ እ ም ር አዴረንች ። እንዶ ፅዝ-ረዳ ፈክቶ ፊትዋ\\n\\nእንድ አይነት ጥላ ይጫወት ነበር\\nኒ\\n'},\n",
       " {'page_number': 169,\n",
       "  'text': 'አ - ኋቨጧ<ጡጤበሽ\\n«አዶደራ አለብኝ # »\\n«የምን አዶራ!?»\\n\\n«የህዝብ አደራ ። ምናልባት ስለ ትምህርት ቤቱ ሰምተሽ ይሆሁ\\nከህዝቡ ገንዘብ ሰብስቤአለሁ ። አየሽ ፥ ህዝቡ እምነት ጥሎብኛል ፲፲፰፩ሀ፪\\nእምነት አጉድዬ ብጠፋ የት እደርሳለሁ? የትም ብደርስ ከገዛ ህሊናዬ ሳጩ\\nልጥ አልችልም ። እርግጥ « ህዝቡ አንድ ሰሞን ጉድ ብሎ ነገሩን ይረሳዬ\\nይሆናል። አንድ እምነተ-ቢስም ሰው ተስፋ ላያስቆርጠው ይችላልህ\\nትዝብቱ ነው እንጂ ህዝቡ ምን ጊዜም ቢሆን ተስፋ አይቆርጥም። እኔ ጥ\\nከህሊናዬ ገሃነም አልድንም ። ከመጥፎ ህሊና የኖባሰ ጅራፍ የለም ። የምልሽ\\nሁሉ ትርጉም ላይሰጥሽ ይችል ይሇናል ። አላውቅም ። እንዴት ብዬዩ ላስረ\\nዳሽ እንደምችል ይቸግረኛል።»\\n\\n«ታዲያ ለምን መጣህ?»ጅ\\n\\nአይኖችዋ እንባ አላቀረሩም ። ንዴት ነበር የሚፈነጥቁት ። የተስፋ\\nማጣት ጥላ ፊትዋ ላይ ያንዣብብ ነበር። - እንደ ገና እቅፍዋ ውስጥ ገብቼ\\nበሙዋሙዋሁ ፤ ትንሽ ተስፋ በሰጠሁዋት ፤ የሚል ስሜት ነበር ያደረበት።\\nማግን የሚሰጣት ተስፋ አልነበረም ። ውስጡ ባዶ ሆነበት ። እንደ አዳም\\nከጎድኑ አንድ አጥንት አውጥቶ የሰጣት ይመስል ስሜቱ ውጋት ሆነበት።\\nትንሽ ገነት።---ከህይወት ዛፍ ላይ የፍቅር ፍሬ እንብላ ስትለኝ እምቢ ማለቴ\\nስለ ምን ነው?! ክዚች ትንሽ ገነት ከእስዋ ጋር ወጥቼ ብሰድድ፡ ስዴት ከሆትነ--\\nራሱ ፅድቅ አይደለምን? ገሃነም አባቱን! ማን በዚህ አለም ስንቱን ተመኝ\\nተን እንዘልቃለን? ምኞት ። ምርጫ ። ውሳኔ ። ስቃይ ። ህይወት ስቃይ\\nነች ። ብትሆንም እንኖራታለን ። ጥያቄው ፥፡ ክህሊናችን ጋር ሰላም ኖሮን\\nእ፺፭፲፲፲ኑ ቤ፰፲ን፫ሪት ነው ። ኦ ፥ አንተ የህሊና እሾህ! አንተ የተረገምክ ትም\\n፡።፣ር 6/፡:6:..ቹ\\n\\n«ምን ነው ዝም አኣልክ!1?»\\n«ምን ልበል?>\\n«ተስፋ ጥዬብህ ነበር ።»\\n\\n«አውቃልለሁ ። ግን ተስፋ ልሰጥሽ አልቻልኩም ። አዝናለሁ # ለራፅ\\nነው የማዝነው ። ምናልባት ሞሜ ሳልሆን አልቀርም ። ነኝ-..»\\n«ይህን ልትነግረኝ ነው የመጣኽው?ወ\\n\\nፊትዋ ላይ ያንዣብብ የነበረው ማለዳ ጮራ ፉ\"\\nማለት ጀምራ ነበር ። ጭሳ ጠፍቶ እንዶ\\n\\n«አዎን ። እና ልሰናበትሽ» አላት ።\\n\\n«ስንብት» ብላ ቃሉን ደገመችና ፥ «በዚህ በቀላሉ መሞት \"\\nቻልበት መንገድ አለ ይሆን?» ብላ ጠየቀቾቺዑ ፭ለም\\n\\n#\\nክንፈሮችዋ ሊፈነዱ የዴረሱ የፅጌ-ረዳ እምቡጦች መስሶዎወ ነፀ።\\nአይኖችዋ ላይ የሆነ መራራ ቀልድ ብጤ ይነበባል ወ\\n\\n«ቀላል ሞት የለም»\\n«ለምን?ጅ ዳ ት ”\\n\\n«ህይወት ትተናነቀናለች ።»\\n'},\n",
       " {'page_number': 170,\n",
       "  'text': 'ሀዲስ 169\\nመ\\n\\n«ሞት ምን ይመስላል?»\\n«በምን አውቃለሁ?!?» -\\n«እንዲያው ስታስበው?»\\n\\n«የህይወት አለመኖር ይመስለኛል ። የሳቅ የልቅሶ--የደስታ የሀዘን፡\\nየፕመዋዶደድ ፥ የመለያየት ፤ የስቃይ የእፎይታ ፥ የተስፋ አለመኖር ። አለ ኣይ\\nደለም *፥ ዘላለማዊ ጨለማና ዝምታ ። አላፀቅሦዐ ..ጅ\\n\\n«ህይወትስ ምንድን ነች?»\\n«ለራሴም ባወቅሁት ።»\\n\\n«\"\\'አባቴ ይህች አለም*፤ ይህች ህይወት ‹ የከንቴቱ ከንቴ ናት ። ህይወት\\nማለት ነፋስ እንደ መከተል ነው። ህይወት እንዶ ሽንኩርት ነው--ቢልጡት\\nውስጡገለባ ነው ። ዞሮ ዞሮ የስው ልጅ የመጨረሻ እድሉ ትቢያ--ትል\\nመሆን ነው\" ይላል ። እና ፤ ሁል ጊዜ ከመፅሀሆፈ መክብብ እየጠቀሰ “ከንቴ ፤\\nኸንቱ፡ የክንቱ ከንቱ፡ ሁሉ ከንቱ ነው ። ከፀሀይ በታች ለሚደክምበት ድካም\\nሁሉ የሰው ትርፉ ምንድር ነው? ትውልድ ይሄዳል ትውልድ ይመጣል--\\nምድር ግን ለዘላለም ትኖራለች ። ፀሀይ ትወጣለች ፥ ፀሀይ ትገባለች፡፤\\nወደምትወጣበትም ስፍራ ትቸኩላለች ። ነፋስ ወደ ደዴቡብ ይሄዳል ፥* ወደ\\nሰሜንም ይዞራል ፥* ዘወትር በዙረቱ ይዞራል ፥ ነፋስም በዙረቱ ደግሞ ይመ\\nለሳል። ፈሳሾች ሁሉ ወዶ ባህር ይሄዳሉ፡፤ ባህሩ ግን አይሞላም...ከፀሀሠይ\\nበታች አዲስ ነገር የለም ። ሁሉ ከንቱ ነፋስንም እንደ መከተል ነው\" ይለ\\nኛል። እና፤ እኔ ደማሞ ነገሩ ይህ ከሆነ የህይወት ትርጉሙ ምንድን ነው? እላ\\nለሁ» አለች ትክዝ ብላ ።\\n\\n«አባትሽ ለመሆኑ ስንት አመት ይሆናቸዋል!?»\\n«ስድሳ ወይም ስድሳ ሁለት ። ትክክለኛ እድሜውን አላውቅም ሠ“»\\n«ከዚህ በላይ እድሜ ቢጨምሩ የሚከፋቸው ይመስልሻል?»\\n\\nኗ«እኔ እንጃ ። እንዳባባሉ ከሆነ ህይወት ለሱ ዋጋ የላትም ። በዚህ አለም\\nሁፁላችንም በጉዞ ላይ ያለን እንግዶች ነን ።»\\n\\nሀዲስ ሳቀና ጠጉሩን ቆፈር ቆፈር አድርጎ «እንዲህ አይነቱን ስብከት\\nአትስሚ ። እድሜን ጠገብኩ በቃኝ የሚል የለም ። ህሀይወት ትተናነቀናለች\\nብዬሽ የለም ። ህይወት ከንቱ የከንቱ ከንቱ አይዶደለችም ። በህይወት የመ\\nጀመሪያ ግዴታ ህይወትን በፀጋ መቀበል ነው።ዋየህይወት ኮስታራ መልክ\\nበግድ ፈገግ ልትል የምትችለው ያኔ ነው። በዚህ አለም ተስፋ ከመቁረጥ\\nመታገቄል ይሻላል። ለመኖር የምናዶደርገው ትማግል እራሱ ክቡር ዋጋ ነው። እር\\nግጥ ሞት አይቀርም ። ሆኖም የማይቀር ሞትን በህይወት ፀንተው መጠበቅ\\nጀግንነት ነው ። የሰውን ልጅ ከወራዳ ሞትና ከትቢያ በላይ ሚያውለው\\nምን መሰለሽ? ጀግንነቱ ነው--ለህይወት ያለው ፍቅርና በህይወት ላይ ያለው\\nት።= የሌላ ግብ መረማመጃ አይይለችም ። አማራጭ የሌላት ራስዋን\\nየቻለች ግብ ፤ ክቡር ነገር ነች # ይህች ውብ አለም ቤታችን ናት ። ሌላ\\nያለን አይመስለኝም ።\\n\\n. «ብዙ ጊዜ ስለ ጭንቀት ፣ ስሶ ቃይ ስናስብ የህይወት በረከት ፡ ፀጋና\\nእፒቦት ይዘነጋል ። ጤነኛ ሰው ስበለ ጤናው አያስብም ። ማን ትንሽ የጤና\\nኣክጳ ሲያገኘው ስለ እስዋ ይጨነቃል ፥* ይበሳጫል ። ስለ ህይወትም ያለኝ\\n\\nስተሳሰብ እንደዚሁ ነው ። ውበትቅዋ ፥*ልግስናዋ ፤ በረከትዋ አይታሰበ\\n'},\n",
       " {'page_number': 171,\n",
       "  'text': '170 ሀዲስ\\n\\n፩፶፱፩፲ኣኣ\\n\\nንም። ለምን ስለ ሞት እናስባለን? ህይወት ክፊታችን ተዶቅና እያለችነጨ\\nግርማ ሞግስዋን ተጎናፅፋ እየተንቦገቦገች ስትጠራን ለምን እንሸሻታለእ\\nየሰው ልጅ ጀግንነት መሶኪያ ከዚህ ላይ ነው» አላት ።\\n\\nአሁን የቀልድ ነገር አይኖችዋ ላይ አይነበብም ። ከትንሽ ገነትዋ ባዣ\\nገር ሩቅ እየተመለከተች ቁምነገር በተሞላበት ድምፀት ፥ «አዎን ፥ እንጻ\\nልክው ህይወት አማራጭ የላትም ። ግን በህይወት ምርጫ ስናጣ ምን እና\\nደርጋለን? ዝም ብለን የሚመጣውን ሁሉ እንቀበላለን? ወይስ ምን እናደር\\nጋለን? “ምን ነው እንደ ርብቃ ፈቃደኛ ብትሆኝ?” ይለኛል አባቴ ። እኒ\\nርብቃ አይደለሁም ። እንደ ይስሃቅም ያባቴን ፈቃድ ለመፈጸም ለመስዋ\\nእትነት እንዶ በግ አልጎተትም ። አየህ ፤ ምርጫ የለኝም ። እና 0 ምርጫ\\nየሌላት ህይወት ምንድን ናት? ከሞት አትሻልም» አኣለችው ።\\n\\n«ታዲያ ምን ልታደርጊ አኣስበሻል?ጅ\\n«ገና አልወሰንኩም ። ደህና ሁን ።»\\n\\nከመሄዱ በፊት እቅፍ አድርጎ ሊስማት ፈልጎ ነበር ። ተከላከለችው።\\n«ጉንጭሸሽን ስሜ ብሄድ ምናለበት?»\\n\\n«አይሆንም ። ይልቅ ስራው እንዲቃናልህ እመኛለሁ ።»\\n«የቱ ስራ?ጅ\\n\\n«የትምህርት ቤቱ ስራ ። ባይሆን አንተ ምርጫ አለህ ።»\\n\\nየቶሎሳን ጥላ ያየ መሰለው ። ግን ዞር ሲል ቶሎሳ የትም አልነበረም።\\nኖጡዋትዋም ፀሀይ ሞቅ ብላለች ። አበቦቹ ዶደረታቸውን ገልብጠዋል ። ንቦች\\nካንዱ አበባ ወደ ሌላው እየበረሩ ማር ይቀስማሉ ። ርግቦች ከዋናው ቤት\\nጣራ ላይ ተነስተው አንዴ ደረታቸውን አንዴ ጀጅርባቸውን ለፀሀይዋ እየ\\nሰጡይብራሉ። ዞር ብሎ ፤ ምናልባትም ለመጨረሻ ጊዜ ፥ አይኖቹን ጣል\\n\\nካዴረገባት በሁዋላ ፡ «አንችንም ይቅናሽ» ብሎአ ል *፥«አንዴ\\nቆይ» አለችው ። ቆም አለ ። ጭ ለወድ\\n\\n«ተዋውቆ መሊያየት መጥፎ ነው ።»\\n\\n«አዎን መጥፎ ነው ። “ግን አል 2 ቁስሎ\\n“ ፎ አልፎ ያጋጥማል ? እና ፡አ\\n«ፍቅር እንከን አያጣውም ይባላል ።»\\n«አዎን ። እንከን የማያጋጥማቸው የታደዶሉ ናቸው ።»\\n\\n«አለመታደል ክፉ[» ብላ መስ ልት\\nሰጨው ሰከሒ ፡ ቀልዋን ካንገትዋ ላይ አወለቀችና\\n\\n«ለምን ብለሽ1?» አላት ።\\n\\n«ለትምህርት ቤቱ» ብላው እጅዋን ቆየችና ?\\n«መስቀሉን ሽጠህ በምታገኘው ገንዘብ ለጪጋ፰ሡለ ስታ\\nበት ። መታሰቢያ ይሆነኛል ። ምኞቴ ነው ወ ተቀበለኝ» አለችው “\\n\\n«እመኝሜኝ ። በተደወለ ቁጥር ድምፁ የሚያስተጋባ ግሩም ዶወዶ\" ለ#\\nጳለትሦ \\'ልዶወል የሚኖር ደወል አሰራልሻለሁ» ብተለ፲፫ ፣ መስቀሉን ተቶ\"\\n'},\n",
       " {'page_number': 172,\n",
       "  'text': '- ዐዲስ 171\\n\\nአይኖቹ እንባ አቅረው ነበር ። ጉንጭዋን ሰጠችው ። እንባዋን ቀመሰ።\\nጥሎአት ሲሄድ የገዛ ስሜቱን ከመፍራቴ የተነሳ መለስ ብሎ አላያትም ።\\nንባዋ ጨው ጣእም ብቻ ነበር ምላሱ ላይ የቀረው ። መለስ ብሎ ሊያ\\nያት ልቡ እየፈለገ መሌስ አላለም ። ምላሱ ላይ የነበረው የእንባዋ ጨው\\nእንደ ሎጥ ሚስት የጨው አምድ አድርጎ እዚያው እንዳያስቀረው ወደ\\nሁዋላ የሚጎትተውን የስሜት ገመድ በግድ ወደ ፊት እየሳበ ሄደ፤ የወጣችው\\nፀሀይ ጨለማ ሆናበት.-›\\n'},\n",
       " {'page_number': 173,\n",
       "  'text': 'ክፍል ፤\\n\\n]\\n\\nተማሪዎቹ ከጥቁር ሰሌዳው ላይ የተፃፈላቸውን የቤት ስራ በጥድ\\nፊያ ይገለብጣሉ ። ከክፍል የሚወጡበት ሰአት ተቃርቦአል ። ልባቸው ወደ\\nሜዳ ሮጦአል ። ጆሮአቸው የሚጠብቀው የደወሉን ድምፅ ነው ።\\n\\nደወል ። ሀዲስ ካንገቱ ላይ ከልቡ አጠገብ ያንጠለጠለውን የአይናለ\\nምን ወርቅ መስቀል አስታወሰ ። ልቡን ሞቅ አለው ። መስቀሉ ከልቡ አጠ\\nገብ እንዳለ ለማወቅ ደረቱን ዳበሰ ። እዚያው ነበር ። መስቀሉን ላለመሸጥ\\nወስኖአል ። ገና ባያስገምተውም ፤ ግምቱን ከኪሱ አውጥቶ ለመክፈል\\nቁርጥ አሳብ አድርጎ ነበር። መስቀሉ ካነገቱ ሳይለይ ፤ ከልቡ አጠገብ ሳይ\\nርቅ ፥ አብሮት ከርሰ መቃብር መውረድ ነበረበት ። ከአይናለም መስቀል\\nየሚለየው ነገር ፈፅሞ አልነበረም ።\\n\\nስአቱ ደርሶ እስኪደወል ድረስ በመስኮት ወዴ ውጭ ሲመለከት\\nከርቀት ላይ አመፀኛው ወርካ በኩራት ደረቱን ለፀሀይ ገልብጦ ሰጥቶ ቆሞ\\nታየው ። የህይወት ጥላ ሆነበት ።-ሌላ አማራጭ መንገድ መፈለግ አለብኝ፡\\nአለ*ጥርሱን ነክሶ ።\\n\\nካለፈው እሁድ ጀምሮ አልዘነበም ። ጥቁር ደመና ከሱጴ ሰማይ ላይ\\nመሰብሰብ ይጀምርና ድንገት እንደ ጥላ እልም ብሎ ይጠፋል ። የሱጴ አየር\\nእየወበቀ ፤ መሬቱም ግለት እየጨመረ ይሄድ ነበር ። ወርካው በቅርንጫ\\nፎቹና በቅጠሎቹ መሀከል እንደ ካፍያ በሚወርዱት የፀሀይዋ ጨረሮች እየ\\nታጠበ ታላቅ የምፀት ፈገግታ እያሳየው የሚቀልድበት መስሎት ተናዶ\\nክመስኮቱ ላይ ዞር ሲል ደወሉ ተደወለ ።\\n\\nተማሪዎቹ በስርአት ተሰልፈው እንዲወጡ በማለት ቢጮህም የሚሰ\\nማው አልነበረም ። ከበረት እንደ ተለቀቁ እምቦሳዎች እየቦረቁ ሲወጦ፤\"\\n4 ጡማ ብቻ ነበረች እንደ ልማድዋ ወደ ሁዋላ የቀረችው ።\\n\\nአላትርክፍል ውስጥ ማስቲካ ማኘክ ክልክል ነው ብዬሽ አልነበረም?»\\n።\\n\\nሲያዩዋትም ፥ ሲያናግሩዋትም ፥ ሲቆጡዋትም ሳቅ ይቀናታል “ ኮሳት\\nአገር የመጣች ትመስላለች ። ፋጡማ ብሎ በስምዋ አልነበረም*\\nዋሳቅ እናት\\' እያሉ ነበር የሚጠሩዋት ። የሚዘቻች\\n\\n«ተደውሎ የለም እንዴ!» አለችው እየሳቀች ።\\n\\nጎበዝ ተማሪ ነበረች ። ሁል ጊዜ ከክ ጣለች።*ታዳዱ/\\nበፊት እንዲህ ጎበዝ አልነበረችም፤ ርኣን፰፫፰፰፲፭ቼዷፔ፶ታ መጎበዝ የጅ\\n'},\n",
       " {'page_number': 174,\n",
       "  'text': \"ሸ ሎ 998........86 ...55\\n\\nረጭው»ይሉታል ሌሎች አስተማሪዎች ከቅርብ ጊዜ ጀምሮ በምታሳየው\\n. ጥረት እየተዶነቁ ። አንዳንድ ተማሪዎችም ጋሼ ወዲስ አይኑ ስላረፈ\\nበት ነው በፈተና አንደኛ የሚያደርጋት የሚሉ መሆናቸውን ሳይሰማ አል\\nቀረም # የሚያውቀው ነገር ቢኖር እሱን ለማስደሰት ጥሩ ጥረት የምታደ\\nርግ መሆንዋን ብቻ ነበር ።\\n\\nየሚያስተምርባቸውን መፃህፍት እየሰበሰበ ፥ «ለመሆኑ ማስቲካውን\\nየት ደብቀሽ ነው የምትይዥው?» አላት ።\\n\\n«ከምላሴ ስር» ብላው ሳቀች ።\\nእሱም ነገርዋ አስቆት ፥ «ሳቅሽን ብታካፍይን ጥሩ ነበር» አላት ።\\n«ምን ያደርግላችሁዋል!?»\\n\\n«ሁላችንም ካንቺ ጋር እንድንስቅ ነዋ ። ሳቅ የደስታ መስተዋት\\nነው።»\\n\\n«ሲያዝንም የሚስቅ አለ ።»\\n«አዎን ፤0 ግን እሱ የልቅሶ ዋዜማ ነው ።»\\n\\n«አባቴ አዲሳባ እህቶችሽ ዘንድ ተቀምጠሽ ብትማሪ ይሻልሻል ይለ\\nኛል» አለችው ።\\n\\n«ጥሩ ነዋ» አላት ።\\n«እኔ ግን አልፈልግም ።»\\n«ለምን አትፈልጊም?»\\n\\n«እዚሁ ብማር ዶስ ይለኛል ። ያዲሳባ ትምህርት እንደሚሉት አይደዶ\\nሷዖ ። በዚህ ላይ ዶይግሞ የባላገር ኑሮ ደስ ይለኛል ። ያዲሳባን ግርግር አል\\n'ድም ወ ጅ\\n\\n«የባላገር ኑሮ መውዶድሽ ጥሩ ነው ። የኢትዮጵያ ህልውና መሰረት\\nባላገር አይደል? ስቃዩም ባላገር ነው ያለው» ብሎአት ሊሄድ ሲል-፦ 7\\n\\n«ይህን ሰሞን ካባቴ ጋር ኣአዲሳባ ሳልወጣ አልቀርም» ኣለችው ።\\n«እውነት?»\\n\\n«ግን እህቶቼን ጠይቄ ቶሎ እመለሳለሁ» ስትለው ፤* ያደራ እናቱ\\nእትዬ በለጡ ትዝ አሉት። ሸክላ የሚመስለው ሰውነታቸው ታየው ። ቀይ\\nአፈር ባይኑ መጣ ። ቁጭ ብለው ስለ ቀይ አፈር ሲያልሙ ታዩት ። የእናቱን\\n\\nትንሽ ገንዘብ የተወላቸው ቢሆንም ከተለያቸው ጊዜ ጀምሮ ገንዘብ\\n\\nአልላከላቸውም ።---ስድስት ወር ሊሆነኝ አይደለም እንዴ ከተለየሁዋቸው?\\n\\nሲል አሰበና › «የምትሄጂበትን ቀን ከነገርሽኝ የምልክሽ ነገር አለኝ ። ለመ\\nአዲሳባን በደንብ ታውቂዋለሽ?» አላት ።\\n\\n«እንክት!1 አካልለዋለሁ» አለችውና ሳቀች ።\\n\\nእሱም ስቆ ለውን ጠረንዋን እየተነፈሰ ወጣ ። አባ\\nቅና፤ቷቶ ፀ፲ሀ፲፲፲፪፲፲፲፲፲፰ሪ፲ፃ፰፰ር፻ባ፰፲ና በዝባድ ንግድ በሱጴ የታወቁ ነጋዴ\\n። ከበሩ ወጣ እንዳለ አቶ ይርጋ ያዙትና ወደ ቢሮአቸው ወሰዱት ።\\n\"},\n",
       " {'page_number': 175,\n",
       "  'text': '174 ሀዲስ\\nጪ\\n«ቁጭ በል» አሉት ።\\n\\n=-ከመቼ ወዲህ ሰው ቢሮአቸው ሲገባ ቁጭ በል ማለት ጀመሩ:!እፅ\\nበመገረም ሄዶ ቁ፪ጌ አለ ። ትህትናም አብዝተው ነበር ። የጋረዳትን ዘ፤፤\\nደመና ፈልቅቃ ገና ያልወጣች የሳሳች ብርሃን የምትመስል ዶደካማ ፈገግታ\\nከፊታቸው ላይ ትጫወታለች ።\\n\\n«ርዳታ መሰብሰቡ አፍጥኖአችሁ ነበር ። ስራው ላይ ስትደርሱ ም)\\nያዛችሁ!?» አሉትና አንዴ አገሱበት ።\\n\\n«ለጊዜው ወደ ሁዋላ የያዘን አንድ ችግር ብቻ ነው....»\\n«ገንዘብ አነሳችሁ እንዴ?»\\n\\n«ገንዘብ አይዶደለም ። እድሜ ለህዝቡ በቂ ገንዘብ ተገኝቶአል ። ችግር\\nየሆነው የቦታው ነገር ነው።» .\\n\\n«የምን ቦታ?›»\\n\\n«የት ቦታ ላይ ቢሰራ እንደሚሻል ። መሬት እንዲሰጠን ለመንግስት\\nማመልከቻ ፅፈን መልሱን እየተጠባበቅን ነው ።»\\n\\nአቶ ይርጋ ፈገማግ አሉ ።\\n\\n«እስክዚያስ ድረስ?» አሉት ።\\n\\n«ቁጭ ብለን መልሱን መጠበቅ ነው ።»\\n«መልሱ ያልመጣ እንዶሆንስ?ው»\\n\\n«ምን ማድረግ ይቻላል? ምናልባት ትምህርት ቤቴ ለክረምት እስኪ\\nዘጋ ጠብቀን ስራውን እንጀምራለን--አሮጌው ቤት በቆመበት ቦታ ላ።፤\\nእሱም ፈቃድዎ ከሆነ» አላቸው ።\\n\\n«ድልድዬን የምንሻገረው ስንዶርስ ነው ይባላል ። እስቲ ለዚያ ያድ\\nርሰን ። ግን ትመለስ የለም እንዴ?»\\n\\n«ወዴት?»\\n«ወዶ ትምህርት ቤትህ ።»\\n«አዎ ።» .\\n\\n«ታዲያ የጀመርከውን ስራ እንዴት አድርዝሀ ልትሄድ ነው ያሳ\"\\n\\n«አቶ ጣሴ አሉ ። እሳቸው የኖሩት\\nጥዳይ ነ « ስራውን ይቀጥላሉ ። ሲመኙት\\n\\nሰይጣናዊ ፈገግታ አሳዩዬት ።\\n\\nትንሽ ቆዬዩና ፥* «አሁን የፈለ \"\\n«ለምን ነበር?» ኩህ ለሌላ ጉዳይ ነበር» አሉት\\n\\n«የፊታችን ቅዳሜ ፊታውራሪ ተ+ካ ርት ቤቱን እፃጼፃፀፑፆፃፎ\\n\\nቸል ም ግ ባላባቶትች፰ሀ፡፲፲ላላቅ ነጋዴዎች ተ\\n'},\n",
       " {'page_number': 176,\n",
       "  'text': 'ሀዲስ 175\\nኢ\\n\\n«እሺ» አለ *፣ ተንኮሉን እያውጠነጠነ ።\\n\\n«እና * ትንሽ ንግግር ታያ <ጋለህ ። ያዲሱን ትምህርት ቤት ፕላንም\\nታስረዳለህ» አሉት ።\\n«መልካም ነው ። እዘጋጅበታለሁ» ብሎ ወጣ ።\\n\\nፊታውራሪ ጥሪውን ተቀብለው እንደሆነ ወይም አልተቀበሉት እንዶ\\nሆነ ቆይቶ ለማጣራት አልፈለገም ። ጠላት የባላጋራውን ልብ ቢያውቅ\\nአርፎ ይቀመጥ ነበር እያለ ወጥቶ ሄደ ። ግን ፤ ፊታውራሪ ነገሩን እንዴት\\nለመያዝ እንዳሰቡ ቀኑ ደርሶ ለማየት ልቡ ክፉኛ ተነሳስቶ ነበር #\\nሆኖም ልቡ እንዶደ ተንጠለጠለ አልቆየም ። በማግስቱ ፉ «ለቅዳሜ አይመ\\nቸኝም ። አንድ ወንድሜ ድንገት አርፎ ሀዘን ላይ ተቀምጫለሁ። ጉብኝቱ\\nከልጄ ሰርግ ውጭ እንዲሆን ቢደረግልኝ ደስ እያለኝ እገኛለሁ» የሚል\\nመልስ ፊታውራሪ መላካቸውን ሰማ ። እነ መቶ አለቃ አሽኔ ከዚህ በሁዋላ\\nምን ያደርጉ ይሆን? የሚል አሳብ ስላደረበት ልቡ እንደ ገና መንጠልጠል\\nጀመረ ። ምን ለማድረግ እንዳሰቡ ለማወቅ በጣም ፈልነጎ ነበር ። እና ፥ ወደ\\nዝናሽ ቡና ቤት ሄደ ። ቡና ቤቱ በሰው ጢም ብሎ ተሞልቶአል ። ሀሆዲስ አካ\\nባቢውን ለመምሰል ቢራ ካዘዘ በሁዋላ ሰው የሚለውን ጆሮውን ጣል አድ\\nርጎ ያዳምጥ ጀመር ። ዝናው በሱጴ ተናኝቶ ስለ ነበር ፤ አንዳንድ ሰዎች አው\\nቀውት ሳይሇን አይቀርም ፤ ተሰርቀው እያዬት ይንሾካሾካሉ ። አብዛኛዎቹ\\nግን ድምፃቸውን ከጫጫታቸው በላይ ክፍ አድርገው የሚያውሩት ከጥቂት\\nቀናት በፊት ዳሪሙ ላይ አንድ ባላባትና ሾፌር በጥይት ገድሎ የእርሻ መኪ\\nናዎችንም ስላቃጠለ አንድ ገበሬ ነበር ።\\n\\n«የትኛው ባላባት ናቸው እባክህ መ\\n\\n«ቀኛዝማች በቀለ ቴጂ ስልሆ--የዳሪሙው ። እኝህ ሰፊ እርሻ ጀም\\nረው የነበሩት--አገግገፋን በትራክተር ፈነቃቅለውት ነበር። አቤት! አቤት!\\nየእርሻው ስፋት ላይን ይታክታል.---»\\n\\n«በጀ? እሺ?»\\n\\n«ቆመው ሲያሳርሱ ድንገት ከተፍ ብሎ እሳቸውንም ፥ የትራክተሩ\\nንም ሾፌር በደረት በደረታቸው ለቆ በጥይት ከዘረራቸው በሁዋላ ትራክተ\\nሮቼቹን በእሳት አጋይቶ ሄዴደ አሉ እየሸለለ ፤ እየፎክረ ። ዋቆ ይባላል ኣሉ ።\\nአንድ አይና ሰው ነው ይባላል --.»\\n\\n. ።ወዲስ ትዝ አለው ። የዋቆ መልክ ክፊቱ መጥቶ ቁልጭ ብሎ ታየው ።\\n\\nትራክተሮቼ የሚፈነቃቅሉት መቼ መሬቱን ብቻ ሆነ፡ያባቶቻችንንም አፅም\\n\\nጭምር ነው...ሮወይም እንዲህ ያለ ነገር -- እያለ ለፊታውራሪ ተካ ያሰማ\\nስሞታ መጥቶ ክጆሮው ላይ ዶደወለ- - »\\n\\n«አቤት፣! አቤት!፣ እሺ ፤ በጀጄ? በምን የተነሳ ነው አሉ እባክህ?»\\n፡ጭሰፃቸዑ ነበር--.-»\\n\\n«8መናዊ እርሻ አስፋፋለሁ ብለው ነቀሉት - --»\\n\\n«በጀ? ጉድ ነው እኮ-.--»\\n«ሁለታችንንም ይብላ አላቸዋ ! »\\n'},\n",
       " {'page_number': 177,\n",
       "  'text': '4176 ሀሠዲስ\\nጪ\\n\\n«ምኑ ጃል?»\\n«አፈሩ ነዋ ።»\\n\\n«አቤት! አቤት! ታሪክ ነው ። ጉድ ነው እኮ! እንዳመለጠ ቀረ ወይስ\\nተያዘ?»\\n\\n«ተያዘ ። ጥይት አልቆበት ተያዘ ለሉ---»\\n«አዬ ፤ያሳዝናል.-..»\\n«ምኑ?»\\n\\n«አንድ ጥይት ለራሱ ባለማስቀረቱ ያሳዝናል ። ጀግና ሰው ስንቁን\\nመርሳት የለበትም።»\\n\\n«ጀግና አልከው!?»\\nኗ«እህሳ?»\\n\\n«ወንበዴ ብትለው ይሻል ነበር ። ጭሰኛ ሁላ አልነቀልም ብሎ ማመፅ\\nክጆመረ እኮ ወዳጄ ፤ ነገ ማንም በመሬቱ ላያዝ ነው ። ሁዋላ መዘዙ ብዙ\\nነው ። አሁንም ቢሆን ቀኛዝማች ላይ የደረሰው ብዙ ነገር ቆስቁሶአል ።\\nባለ መሬትና ጭሰኛ የጎሪጥ እየተያዩ ሁዋላ አይሆንም ።»\\n\\nሀዲስ ሰዎቹ የሚጨዋወቱትን ነገር ማዳመጥ ትቶ ባሳብ ጎዳና ጭልጥ\\nብሎ ሄዶ ። አንድ ነገር ድንገት ተገለፀለት ። ነገሩ እንዶ ብርሃን ወለል ብሎ\\nታየው። አረመኔአዊ ጭካኔ በተሞላበት ቂም በቀል ተነሳስተህ በግፍ ሰው\\nገዶልክ ብሎ ያገሪቱ ህግ ዋቆ ላይ ይፈርድ ይሆናል ። ግን ያገሪቱ ህግ የማን\\nነው? የማንን ጥቅም እንዲበነ6ብቅ ነው የተዶነገገው ? ከማን ጥቅም አኳያ\\nነው አይቶ የሚፈርደው? - .. በስርአቱ ላይ የተከፈተ ያንድ ሰው ጦርነት---\\nሰዉ፡ ጀግና ሞተ አይልም..- አንድ ጥጋበኛ ወንበዴ ተሰቀለ ነው የሚለው---\\nይህንን ነው የሚለው ህጉም ፤ ሌላ ምን ለማለት ይችላል?\\n\\nያንድ ሰው ጦርነት ። ያንድ ሰው ሰራዊት ። የት ሊያዴርስ? አንድ እጅ\\nብቻውን አያጨበጭብም ። አንድ እንጨት አይነድም...\\n\\n‹‹መሬፊት ላራሹ!»\\n«ፊውዳላዊ አገዛዝ ይውዶም!ሁ\\n«ተው ስማኝ ሀሆ<ሬ ፥ ተው ስማኝ ሀገፊ....»\\n\\nየዩኒዜቬርሲቲ ተማሪዎች ሙኸት፤ ብሶት ፥ ትናንት ትቶት የመጣ”ወ\\nነዘርክር ጭቅጭትና በመካከላቸው የነበረው ያሳብ መለያየትና የእርዕ ቦኦ\\nርስ ጥላቻ ፡ ንቀትና ሽኩቻ ትዝ አለው ። በህገ መንማግስት የተወሰነ ዘው*ዊ\\nአገዛዝ ይኑር ፡ የንግግርና የመሰብሰብ ነፃነት ይታወጅ ፤ ኢትዮጵያ ኮጻ።\\nየበለጠ ለውጥ አያስፈልጋትም ፤ በማለት ሽንጣቸውን ገትረው የሚምጥ\\nገኀ ተማሪዎች ነበሩ- ። አወናባጅ ፤ የስርአቱ አፈ ቀላጤዎች ፥ የመሳፍ?*\\nቡችሎች ፡ የሲ- አይ- ኤ-ቅጥረኞች ይባሉ ነበር ። እሳት የላሰው ኦብ፯፮ፔ\\n\\n«ፋሩና ተሰማሪ-!\\nእንዶነ ሆ ቺ ሚን እንዶ ቼ ጉቬራ1»\\n'},\n",
       " {'page_number': 178,\n",
       "  'text': \"- .ሜስ 477 .\\n\\nለት ስብሰባውን የስሜት እሳት ሲለቁበት * ተ\\n\\nይማሞ በተራቸው ተነስተው ፥ «እናንተ ኢትዮ፮፰፯ጩ\\nትም ፥ ኢትዮጵያ * አታውቃችውም ፡ ባእዳን ናችሁና የባእዳንን አሳብ ልት\\nጭኑባት ነው የምትፈልጉት! የማርክስና የሌኒን ሰይጣን የተጠናወታችሁ\\n\\nበማለት ሲጮሱ ፤ ባዳራሹ ውስጥ ይፈጠር የነበረው ውጥረት ሁሉ\\nለሀዲስ በአይነ ልቦናው ልክ እንደ ፊልም ይታየው ጀመር. .. የኔስ አቁዋም\\nምን ነበር? ብሎ ራሱን ጠየቀ ።\\n\\nአሳቡ ያደላ የነበረው ወደ ስር ነቀል ለውጥ ፈሳጊዎች ቢሆንም ፤ ልቡ\\nበሙሉ ከነሱ ጋር አልነበረም ።\\n\\n“በጽሁፍ ሰፍሮ የሚገኘው የሰው ልጅ ታሪክ የመዶደብ ትሣግል ታሪክ\\nነው ---”\\n\\n“የአለም ወዛዶደሮች ተባበሩ ?'\\n\\nእንዴት? አእምሮው ውስጥ ዘወትር የሚመላለስ ጥያቄ ነበር ። እን\\nዴት? መልስ አልነበረውም ። «የምንናገረውን ለምን በስራ አንገልፅም?\\nከብዙ ጮኽት ትንሽ ስራ ትበልጣለች ፤ ብዙም ትናገራለች ። ለውጥ ፥\\nለውጥ ስለ ትባለ ውሀው ወደ ወይን ጠጅ ትለውጦ የቃና ዘገሊሲላው ትኣአምር\\nሊደገም አይችልም ። ጥያቄው ምን እንበል? ሳይሆን ምን እናድርግ? ኣእጃ\\nችን ምን ይስራ? ነው» እያለ ይወተውት ነበር ። ጉዋዶኞቹ ፥* «አሁንስ እጅ\\nእጅ አልክ» እያሱ አፍንጫቸውን እስኪይዙበት ድረስ ።\\n\\nአሁን መልሱን ከክዋቆ በማግኘቱ ደስ አለው ። ድርጅት ። ሕዎን ፥\\nድርጅት ፥ አለ ። በኢትዮጵያ ስንትና ስንት አዋቂዎች አሉ ። ነገር ግን የሚ\\nያስተባብራቸውና የሚያዶራጃቸው የለም ። እና ፤ አንድ በአንድ ይሰበራሉ፡፤\\nይማገዳሉ ፤ ወንበዴዎች ተብለው ። አንድ ሽማማግሌ ሲሞት ሲል ልጆቹን\\nሰብስቦ የሰጣቸው ምክርና የምክሩ ሀቅ ባሳቡ መጣበት - .-እያንዳንዱ ልጅ\\nአንዳንድ ዘንማ አመጣ ። ስበሩት አሳቸው---አባትየው ። እያንዳንዳቸው የያ\\nዘንግ ያለ ምንም ችግር ሰበሩ ። ሌሎች ዘንጎች አምጡ አላቸው ።\\nአመጡ ። አንድ ላይ እስሩዋቸው አላቸው ። አሰሩ ። አሁን ስበሩ አላቸው።\\nዬሉካ፮ አንድ በአንድ ለመስበር ሞከሩ ። አልቻሉም ። ህብረት ፤ አንድነት\\nነውና!\\n\\nድርጅት ነው የሚያስፈልገን ፤ አለ ። ግን እንዴት? የትምህርት ቤቱን\\nቾላበራዷኣጀዎራለሁ ብሎ የተነሳበትን ቀን ረገመ ። ሽታዬ ሌላ ቢራ አመጣ\\n።\\n\\n«መች ሴላ አዘዝኩ?» አላት ። ከእንቅልፍ እንዴደ ነቃ ሰው ባንኖ ።\\n«ታዞልህ ነው ። የበፊቱም ተትከፍሎአል» አለችው ።\\n\\n«ማን ንው የከፈለልኝ?»\\n«ሰው።>\\n\\nመ፸፬\\nፔ»- ጠብ ካልፈለጉ በቀር የሱጴ ሰዎችን ግብዣ አልቀበልም ብሎ\\nጀያዐጂላስ እንጆማይቻል ስለሚያውቅ የታዘዘለትን ቢራ ተቀበለና » «ቤቴን\\nየሽ የገፎፈሽ ሰው አለ?» አላት ።\\n\"},\n",
       " {'page_number': 179,\n",
       "  'text': '178 ሀዲስ\\n\\n«ፍቅር የጋራ ሲሆን ነው» አለችውና ክፈተችለት ።\\n\\n«ልቤ ሁለት ፍቅረኞች አንድ ላይ ማስተፍናገድ እያቃተው +ፍጌ\\nነው....» ፊ\\n\\n«ሌላዋ ዶደግሞ ማን ናት!?»\\n«ጣውንጓ ሽን መቼ አጣሻት?»\\n\\n«ትምህርት ቤቱ፣? ዝጋ ባክህ1» ብላው * «ቢራ! ቢራ!›» እያለ የሚፎህ\\nዶንበኛ ለማስተናገድ ሄዶች ።\\n\\nእንዶ አራት ኪሎ ጋዜጠኞች ለወሬ የተቅበዘበዘችው ነፍሱ አልረ\\nካችም ። እነ መቶ አለቃ ለጥቀው ምን ርምጃ ለመውሰድ እንዳቀዱ የሚያ\\nውቅበት መንገድ አልነበረውም ።--እንኩዋን ሰላይ አልሆንኩ-0#ብሆን ኖሮ\\nእንዴት ያለ መጥፎ ሰላይ ይወጣኝ ነበር! ብሎ ቢራውን አጋመሰና የተቀ\\nረውን ጥሎ ተነስቶ ሄደ ። የመንፈስ እረፍት አጥቶ ነበር ። ለወሬ የማይቸ\\nኩል የነንበረ ሰው አሁን ድንገት ተነስቶ ወሬ ማሽተት የጀመረበት ምክን\\nያት ግልፅ አልሆነለትም ። ሰላም አልነበረውም ። ወዶ መራመድ አል\\nቻለም ። መውጫ መንገድ ከሌለው ጫካ ውስጥ የገባ መስሎት ነበር የሚ\\nታየው ። እና ፥ ወርካው ሁል ጊዜ ከፊቱ አይለይም፡፡ ዞር ባለ ቁጥር ይገጨ\\nውና መውጫ መንገድ የለም ይለዋል-..\\n\\nተትነስቶ ወደ ፊታውራሪ ተካ ግቢ ለምን እንዴዶዴ ሄዴም ምክንያቱ አልገ\\nባውም ። ሲደርስ ነበር የታወቀው ። ውስጣዊ ሰላም አልነበረውም ። ሲገባ\\nለማየት የፈለገውን አላየም ። አይናለም አልነበረችም ። ራፊታውራሪ ተካና\\nመምሬ መሀሠሪ ብቻ ነበሩ ። እልፍኙ ስፋት የጨመረ መስሎ ታየው።\\n\\n«<ወሸዘን ላይ ኖት፤፲ሲሉ2ሰምቼ ነው የመሙጣሁት» አለ እያጉትመተም ።\\nለምክንያት ያለው ነገር ነበር እንጂ ለዚህ ብሎ አልመጣም ።\\n\\n«ሕምን--ኖቀኛዝማችን ነገር አሁን ቢረሱ ምናለበት! ሀዘን ማብዛት\\nፈጣሪን ማማረር ይሆናል ። ደግ አይደለም ። እሱ ስጠ ፤ እሱ ነሳ ። ተመስ\\nግን ማልት ነው» አሉ መምሩ ። -\\n\\nፌታውራሪ ትክዝ ብለው፲ሲያስቡ ቆዬና ከንፈራቸውን መጠው ሶ/\\nበቁ*ፍእሱማ ነው።ግን አብሮ አድጎ አብሮ ያረጁት ጉዋዶኛ ድንገት ሱጎ\\n\\nግ!\\nመምሩ በረጅም ጣቶቻቸው ሪዛቸውን , «ምን ይዶ‹\\nጊዜ ያመጣውን አሜን ብሎ መቀበል ባ ው ዜ አለው “\"\\nየለ? እንዶ ጊዜው ማጎንበስ ያስፈልጋል» አሎ ።\\n\\n፥\\nፈ.ታውራሪ እየተከዙ የነጠላቸውን ቁጭት ተሉን አቆመናል\\n«አይ መምሩ!እንደ ጊዜው አጎንብሱ አሉ?እንዶ ጩዬብሉ ቢሉያይ\\n'},\n",
       " {'page_number': 180,\n",
       "  'text': 'ሠዲስ 179\\n\\nር። \"ንጉስ የወዴደው ፤ ዘመን የወለደው” ይባል የለ? ንጉሉ እብድ ከሆ\\nኔዬልት እንዴ ትህትና ይቆጠራል ፥ መንፈሳዊ ከሆነ ቄስ ሁሉ አስተዳዳሪ፲ፔ\\nአማካሪ ይሆናል * የንጉሱ ጠባይ ንማግድ ፤ ብልጠት ፥ ቅናትና ሰው ማታለል\\n፤ ተንኮል ፤ አልጠግብ ባይነትና ብልጠት፤ አፈ ጮሌነትና ውሸት\\nእንደ ጥበብ መቆጠር ይጅምራሉ ። በእድጫሜአችን ያየነው ፤ የዴረሰ ነገር\\nነው።ልኡል ራስ ካሳ\"“ፍኖተ አእምሮ---የእውቀቅት ጐዳና\" በተባለው መፅሀ\\nፋቸው ነገሩን ጨርሰውታል ። መፃፉስ ቢሆን ፤#*መቼ መረጣችሁኝ ‹፤ እኔ\\nመረጥኩዋችሁ እንጂ” ብሎ የለ?» ብለው ትንሽ ተከክዙና ፡---\\n\\n«ሀብት ማጋበስ የጊዜአችን ፈሊጥና አላማ ሆነና ትተነው በምናል\\nፈው ጥሪት ላይ መተላለቅ ጀምረናል ። ንጉስ የወደደው ፥ ዘመን የወለዶይው\\nፈሊጥ! አይ ጉድ! ሰው እንዴት የገንዘብ ተገዥ ይሆናል? ለማናውቀው\\nዘመን የገንዘብ ሴሰኛ መሆን የሚያሳዝን ነው ።\\n\\n«በውርደት የተበከለ ሽበት ይዘን ወደ መቃብር መውረድ የሞት ሞችት\\nነው ። ሰው በጭስኛው እጅ ሲጠፋ! አይ ቀኛዝማች! ምክሬን አልቀበል\\nብሎ ነው? ኮ» ሲሉ፦-\\n\\nመምሬ ነገራቸውን አቁዋረጡዋቸውና ‹ «አዬ---ኖኢሳቸውን ነገር ይት\\nውት ብዬ ምን ነው? እግዜር መቼም መሬት ወርዶ ስው አይቀቶጣ ። ሰውን\\nየሚቀጣው በሰው ነው» አሉዋቸው።\\n\\n«እውነት ነው» አሉ ፊታውራሪ ፤ «እግዜር ሰውን የሚቀጣው በሰው\\nነው።ልክ ነው ። ጭሰኛም ምሪት ነው። በሱ ፈቃድ የትመሩብን ናቸው።\\nተርበው እንዳያዝኑ * ጠግበው እንዳይበድሉ አድርጎ መያዝ ሲቻል ክመ\\nሬት ተነቀሉ ብሎ ማባረር አሁን ምን ይባላል? እንኩዋን በፈጣሪ ፊት በሰ\\nውም ዘንድ የሚወዶድ ነገር አይደለም ።\\n\\n«ግን ምን ይዶረጋል? መወዶድና መጠላት ያለበችትን ነገር ሁሉ ረስተ\\nናል። ክፉን ክደግ ለይቶ ማየት አቅቶናል ። ከችኩልነትና ከቸልተኛነት\\nአስተዋይነት ፤ ከእብሪትና ከልክስክስነት ችህትና ፤ ከብልጠትና ከሞኝነት\\nብልህነት * ክጀብዶኛነትና ከፈሪነት ጀግናነት ፥ ከብኩንነትና ከንፉማነት\\nልግስና፥ ከስግብግብነትና ጨርሶ ራስን ክከመጣል በቃኝ ባይነት፤ ይመረጥ\\nነበር። ኢጵትዮጵያዊ ባህርያችንን ሲገዛ የኖረው ይኸኽው መካከለኛውን መን\\nገድ መርጦ የመሄድ ተግባራችን ፥ በዚህ ላይ ፈሪሃ እግዚአብሄር ያለን መሆ\\n\\nያገር መውደድ ጠባያችን ነበር። ዛሬ ይህ ሁሉ ቀረ---»\\n\\nፊታውራሪ ተካ ከሙዋቹ ዘመናቸው ጋር የሚያቃስቱ መስለው\\nታዩት--ለሀዲስ። ፊታውራሪ--ከሞት አፋፍ ላይ ደርሶ በማጣጣር ላይ ላለው\\nመን ተጨንቀው ልባቸው የሚዶደማውን ያህል ፤ የሱም ልብ አቅጣጫ\\n፲ኣ፪፲ዛ፸ በሙባከን የሚደማ መሆኑን ሲገነዘብ ሰቆቃቸው ይበልጥ ይሰማው\\nመር ፡\\n\\nመምሩ ጭራቸውን የር ላይ ነሰነሱና * «ባገራችን ትምህርት\\nነህና ኖርሮ ፰ጋራሁሉ ኘ፸፲፲፰ ፲፪፮ልዶረስብን ነበር ። ሳይቸግር ጤፍ ብድር\\nነው*ኮ ነግሩ ። ያዳቆነ ሰይጣን ሳያቀስ መቼ በዋዛ ይለቃል?\\n\\nራችንን ሰማንያ አሀሠዱ መፃህፍት\\n\\n«እህ-ን ው ማ ይሙት፦ያገ\\n\"ሚገባ ያጠና፩፰ውዲ፭፸ፌረንጆች በምን ያንሳል? በሰማይ ስለ በረሩ ፥ በምድር\\n'},\n",
       " {'page_number': 181,\n",
       "  'text': 'እ ዚ....የከከከ... ሚ በበሽ\\n\\nፊታውራሪ በመምሩ አሳብ አለመስማማታቸውን ራሳቸውን በመነቅ\\nነቅ ገለጡና ፤)0 «ልማዳቸውን ለነሱ ትተን ጥበባቸውን ብንማር አይከፋም\\nነበር ። ጣልያን ምሽጋችንን ሰብሮ ድንኩዋኑን ቅድስት ምድራችን ላይ\\nለመትከል የበቃው በምኑ መሰሎት?!? በጀግንነቱ አይዶለም ። ጎራዴያችንን\\nመዘዝ ስናደርግበት “ማ ማ ሚያ! ማ ያል!? እያለ የድመት አይን የሚመስሉ\\nትን አይኖቼቹን ኢያቁለጨለጨ ፊቱን ትኩስ ሳምባ አስመስሎ ሲጮህ አይ\\nተናል ። ልብና ወኔስ ከኛ ዘንድ ነበረች ። እኛን የፈታን አሮፕላኑ ፤ መት\\nረየሱና ጾምቡ ነው...›\\n\\n«ታዲያ እንዲህ አይነቱን ጥበብ ይማሩ ሲባል፤አብዛኛዎቹ ተምረፈው\\nየሚመለሱት የፈረንጆችን ያኑዋኑዋር ዘዴ ብቻ ሆነ ። የሰውን አገር አለባ\\nበስ * አመጋገብና ያስተሳሰብ ዘይቤ የለመደ ልቡ መሸፈቱ ይቀራል!? ሽፍ\\nቶች ብቻ ናቸው ባገሩ የሞሉት ። ጥንቱን ነበር እንጂ አልሞ መደቆስ አሁን\\nምን ያደርጋል ድስት ጥዶ ማልቀስኮ»› ብለው ተረቱና ወድዶ ሀዲስ ዞር ብለው፦\\n\\n«ትጫወት እንጂ» ኣጵት---\\n«ኢያዳመጥኩ ነው» አላቸው ።\\n\\nመምሩ የያዙትን ጭራ እንደ ገና አየር ላይ ነሰነሱና ፤ «አዎን ማዳ\\nመጥም ትምህርት ነው ። ምንስ ቢሆን የቄስ ልጅ አይደለህ? የዘመኑ ልጆች\\nለመናገር ትሮጣላችሁ ። እኛ የምናውቀው ዝም አይነቅዝም መባሉን ነው*\\nአዋቆች ዝምታን የሚመርጡ ከሆነ ለሞኞች ምን ያህል በበጀ ነበር፡ ኦህ\\nአንድ ቦታ ላይ አብዝተው ቢዘሩት ፍሬ ይሰጣል? ገለባ ሆኖ ነው የሜቶጎ\\nረው ። ነገርም ሲበዛ እንዲሁ ነው ። ብዙ ቢተቹ ይሰለቹ ፥ ብዙ ቢያወ?፣\\nይዘነጉ ይባላል እስከ እነ ተረቱ ። የዘመኑ ልጆች ዝምታን አታ ፡\\nአ፲፮፰፪፲፭፲፱፰ሁ የሰላ ገነዴሪዳቾዴኦ የከረረ ነው ። ፈትል ቢያከሩት ይበጠቦ ፤ዷፔ\\nወ ውወ ማተሩና፥ ፍግን ትምህ ሰራለሁ\\nገንዘብ ትሰበስባለህ አሉ?!» ኣሎት ። “\\n\\n- ፍዩአዎን ። አሁን ያለው ትምህርት ሊፈርስ ነዎ \"\\nያሉት ክፍሎችም በጣም ተጣበዋል» አ፲፮፰፸፲ም ዳ\\n\\n«ያገራችንን ትምህርት ብታስ ፈረንጅ ት”\\nህርት የምትሉትስ ምኑም አልረፆብንበትድይዷእጡፃጂ ይሀ፲፻ ም\\n\\nፊታውራሪ አይናቸውን ወዶ ወርወር ረጋቸው\\nከክተፍ አለ ። አፍ አውጥተው አልተጨ ፡ ናሠከየቕድነሉዮ በመጣባ?\\nተመልቦ ወጣ ። የመምሩ አይን ሳቅ ማለት ጀምሮ ነበር “ ታፖ\\n«የህክምናና የእደ ጥበብ ትምህርት ቢስፋዱ » አሎ-ሥኀፖለ\\nራሪዐጠዛሬየድፀልጅሁሉጣርመ።ኔቃ ም\\n'},\n",
       " {'page_number': 182,\n",
       "  'text': '። ሀዲስ 181\\n\\nቅምህርት ብቻ ሆነ ። ሰውን የማስተዳደር ስልጣን በትምህርት አይዶ\\nይመየዋሚገኘው ። እሱ የፈጣሪ ፈንታ ነው። ከሰው መርጦ ለሹመት ‹ ከእ\\nጎጤቆፀርጦለታቦትይባልየለኩሲ፦\\n\\nለጠቁና ፤ «በህክምናውስ ቢሆን ፈጣሪ ያላለው ይሆናል?\\n\\nየሚቀጥል ሀኪም የለም ። እሱ መድሀኒት ይሁን ያላለው መድሀሆ\\n\\nኒት ሊሆን አይችልም ። የፈረንጅ ሞኝነት እስከዚህ ድረስ ነው ። እድሜን\\n\\nቆርጠው እስካልቀጠሉ ድረስ በምንም አይበልጡን ። የኛው ስር መማስና\\n\\nቅጠል መበጠስ ይሻላል ። እነሱ የሚያውቁት ይህን አትብሉ ፤ ያንን አት\\nጠጡማለት ብቻ ነው። እሱ ያለው ላይቀር» አሉ።\\n\\nቶሎሳ ሁለት ብርሌ ጠጅና ሻይ በብርጭቆ ይዞ መጣ ። ሀዲስ ምን ነው\\nአሁን ቶሎሳን ባደረገኝ? የሚል አሳብ መጣበት ። አንዴ ወደ ጉዋዳ ዘው\\nብሎ ገብቶ የአይናለምን አይን አይቶ ቢመለስ ደስ ባለው ነበር ። ግን ሳይ\\nወድ ቁጭ ብሎ በሚያሰለቸውና በማይጥመው ጭውውት መካፈል ነበረ\\nበት ።«።አብዛኛዎቻችን ወደ አስተዳደርና ወደ ፖለቲካ ትምህርት የምናዘ\\nነብለው ወደን አይደለም ። ምክንያት አለው» አላቸው ።\\n\\n«ምንድር ነው ምክንያቱ?» ብለው ጠየቁት ፊታውራሪ ።\\n\\nመምሩ ሀዲስ የተናገረውን የሰሙ አይመስሉም ። የብርሌአቸውን\\nአንገት ጨብጠው ጠጃቸውን ያንዶቀድቁ ነበር ። ማንቁርታቸው በሰመ\\nመን ተይዛ ከፍ ዝቅ እያለች ከጠጁ ጋር ስትጫወት ትታያለች ።\\n\\nሀዲስ ጠጉሩን እንደ ልማዱ ቆፈር ቆፈር አድዴረገና ፤ «እንደሚታወ\\nቀው የእደ ጥበብ ሙያ ባገራችን የተጠላ ነው። አቶ ሀዲስ አለማየሁ “ፍቅር\\nእስከ መቃብር\" በተባለው መፃፋቸው እንዶደ ገለጡት ፤* ነጋዴፌው መጫኛ\\nነካሽ ፥ ገበሬው አፈር ገፊ ፤ ሸማኔው ቁጢት በጣሽ *0 አንጥረኛው ብረት\\nቀጥቃጭ ፤ ሸክላ ሰሪው ፥ ቡዳ * ጠይብ * ፋቂው ወናፍ ነፊ፤ ድንጋይ ጠራቢ\\nእየተባሉ ከህብረተሰቡ ተገልለው እንዲኖሩ ሲደረግ ቆይቶአል ። አሁንም\\nያለ ፤ የሚታይ ነገር ነው ። ሰው መቼም የሚሰደብበትን ሳይሆን የሚከበር\\nበትን ሙያ ነው የሚመርጠው ። ባሁኑ ጊዜ የሚያስከብረውም ደሞ ይኸው\\nያስተዳደርና የፖለቲካ ትምህርት ወይም በጠቅላላው የቀለም ትምህርት\\nስለሆነ ነው ሁሉም ወደ እዚያ የሚያተኩረው #\\n\\n«ባገራችን ለጊዜው አክብሮት የሚሰጠው ሌላ ሙያ የለም ። ድምፃ\\n፻ዊው አዝማሪ ፥ ሰአሊው ቀለም ቀቢ ፤ ፀሀፊው ወረቀት አጥቁዋሪ፤ ሌሎችም\\nንደዚሁ እየተባሉ በሙያቸው ሲሰዶደቡ ነው የሚኖሩት ። ለሰውነታቸው\\nካብር ለሙያቸው ዋጋ የሚሰጥ የለም» ሲል፦፦\\n\\nመምሩ ብርሌአቸውን አኖሩና * «ታዲያ ሙያ ስለ ለወጡ የፋቂ ልጅ\\n፤ጧፋላጁዔጅ መባሉ ይቀራል ወይ ? ነብር ቆዳውን ሊለውጥ አይችልም»\\n\\nከሰማይ ተወስኖ የተሰጠ አይደለም ብዬ ነው» አላቸው ፤\\n'},\n",
       " {'page_number': 183,\n",
       "  'text': '---1892 ዲክ ኢኢ\\n\\nመምሩ በያዙት ጭራ አየሩን ገረፉና * «ነው እንጂ ! እሱ ያላለ\\nየሚሆን ማን አለ፣ ምድርን የዘረጋ ፤ ሰማይን ያለ ምሰሶ ያቆመ ‹ ቀላያትን\\nየቀዶዶ እሱ ምን የሚሳነው ነገር አለ? ሁኑ ያለውን ነው የምንሆነው «\\n\\n«ለጭቅነት ፤ ለዱግነት ፥ ለምስሰኔነት * ላለቅነት * ላንበልነት ፥ ለሻ\\nለቅነት ለእንዶራሴነት ፥ ለወንበርነት * ለንጉስነት የሚመርጠው ማን ነው\\nልትለኝ ነው ታዲያ? ገበሬ ፥ ነጋዴ * አንጥረኛ » ቀጥቃጭ ፤ ሸክላ ሰሪ እን\\nጨት ሰባሪ * እንጀራ ጋጋሪ የሚያዶዴርገው እሱ ነው ። ከሱ ትእዛዝ ውጭ\\nምን የሚሆን ነገር አለ? ከፀሀይ በታች አዲስ ነገር የለም ብሎአል ጠቢቡ\\nሰሎሞን ። ሁሉም ይህን አውቆ ፤ የተደለደለለትን እንጆራ አሜን ብሎ ተቀ\\nብሎ ፥ የበታች የበላይን አክብሮ ቢኖር መቼ ችግር ይገጥመሙን ነበር ። ለዘ\\nመን ፀንቶ የኖረው ስርአታችን ወጋችንና ልማዳችን መቼ ይኖናጋ ነበር!\\nሁሉ ከሆነ ቃልቻ ፥ ማን ይሸከም ስልቻ አሉ ። ሁሉም ሊሆን የማይገባውን\\nልሁን የሚልበት ዘመን መጣ። ከዚህ የከፋ አመፅ ምናለ ታዲያ! ይህን ሁሉ\\nጣጣ ያመጣው ይኸ ዘመናዊ ትምህርት የምትሉት ፈሊጥ ነው ።\\n\\n«የገበሬው ልጅ ገበሬ ፤ የነጋዴው ልጅ ነጋዴ * የፋቂውም ልጅ፤\\nፋቂ፡፤ የተጥቃሙም ልጅ ቀጥቃጭ--ሁሉም ለዘር ማንዘሩ የተሰጠውን ሙያ\\nትመስገን ብሎ ካልሰራ ያንድ አገር ኑሮ ዘለቄታ አይኖረውም ። ሁሉም እግ\\nዜር በጥበቡ ባደዴለው ሙያ ፀንቶ ቢኖር ፤ ምንኛ መልካም በሆነ ነበር ።\\nእንዴ * የወፍ * ያንበሳ ፤ የነብር ልጆች ፤ ወፍ፡ አንበሳ፡ ነብር ከመሆን ሌላ\\nምን ሊሆኑ ይችላሉ? እኛ ግን የታደለንን ባህርይ ስተን ወዶ ጥፋትጎዳና እያ\\nመራን ነው። ከመአቱ ይሰውረን ከማለት ሌላ ምን ይዴረጋልገእ>» ብለው በረ\\nጅሙ- ትነፈሱና ብርሌአቸውን አኣነሱ ።\\n\\n. ፊታውራሪ ወዶ ጉዋዳ ፊታቸውን መለስ አዴረጉ ። ቶሎሳ እንዶ ልማዱ\\nፈጄኖ ከፕተፍ ሲል በጆሮው አንድ የሆነ ነገር ነገሩት ። እጅ ነስቶ ተመልሶ\\nወ ።\\n\\nሀዲስ የመምሩ አስተሳሰብ እየገረመው ፣ ለያንዳንዱ ሰው\\nሙያ መርጦ ይሰጣል ሊሉ ነውገ?» አላቸው ። 1፡ ጭ\\n\\n«እንዴታ!»\\n\\nለን «አይመስለኝም ። እርስዎ በሚሉት መንገድ ብንሄድ የት እንደርዕ\\n\\n«ማን ይደርስብናል? ብትል\\n«ወእንዴት?፻› አለ እየሳቅ ፣ ፣ ባ »\\n\\n«ነጮች ሰልጥነናል ቢሉ አይም በለማሪ\\nቢበሩ* በምድር ቢሽከረከሩ ፡ የሆረጠ የጩ፲ቢ፻ፎ፰፪፰ለፔ መኝታ\\n\\nቶሎሳ ር “ሼቬሎፕ የታሸግገ ወረቀት ይዞ ታውራሪ ሶና\\n5.ቃ መጥቶ ሰፊ\\nቸው ። ፊታውራሬ .2ቀቱን ተቀበሉና አድራሻውን ካነበቡ በሁዋ* ።\\n'},\n",
       " {'page_number': 184,\n",
       "  'text': 'የጠበ፡፡፡ሚዴር ፣ የ ፡\\n\\nጥበብ ትምህርት ቢስፋፋ መልካም ነው፡፡ አፄ ቴዎድሮስም ጥቅሙን\\nጩዖኀዐፀቅ ነበር ዋ! እንዳሰቡት ቢሆን ኖሮ እንግሊዝ የታባቱ ዶፍሮ\\nመቅደላ ድረስሰ ይዘልቅ ነበር? አበሻ ጠላቱ ከያዘው መሳሪያ ጋር ተመሳሳይ\\nየሆነ መሳሪያ ካለው የማይበገር ህዝብ መሆኑን በአድዋ አስመስክሮፎአል\\n፪ው ቀርቶ ምድራችንም ጦረኛ ነው---ለጠላት አይመችም ። ያንበሶች መኖ\\nዕያ፣የነብሮች ተራራ ነበረች ። ዛሬ ግን አይደለም ። በጦርኖ በጎራዴ ታን\\nክና አሮፕላን መመከት እንደማይቻል ማይጨው ላይ አይተናል ።\\n\\n«ዛሬ ልብ ብቻውን አይበቃም ። የራሳችን መሳሪያ ያስፈልገናልቹሽ፡\\nጠላት ለጠላት መሳሪያ ይሸጣል ወይ? ምን ቆርጦት! ወዳጅ መስሎ ቢሸ\\nጥም ልቆጣጠር ማለቱ አይቀርም።እንዶዚህ ያለች ውብ አገር፤ ሁሉም የሚ\\nመኛት አገር ይዞ መተኛት አይቻልም ። ቆንጆ ሴት የሚያገባ ሞሜ ነው\\nእአሉ ። የተባበሩት መንግስታት ፤ ኮሌክቲቭ ሴኩሪቴ የሚባለውም ነገር\\nእንዲያው ነው ። የማንን ነፃነት ማን ይጠብቃል? ኣለም የጉልበተኞች\\nናት ። ባይናችን ያየነው ፤ የምናውቀው ነገር ነው ። የሰላም ዳኛ ፤ የነፃነት\\nዋስትና ከሃይል ሌላ ነገር የለም “\\n\\n«ታዲያ ምን ያደርጋል? ይህ እኢያለ ዛሬ ሁሉም ሆድ አምላኩ ሆነ ።\\nከገንዘብ ሌላ የሚታየው ነገር የለም ። ተብለጭልጮ መታየት ብርቅ ሆነ ።\\nያገር ጉዳይ ተረሳ ። መተሳሰብ ፥* መተባበር ጠፋ ። በገንዘብ ፍቅር ልባችን\\nታወረ ፤ ወኔአችን ተሰለበ ። የሰሲው ልኩ የሚታወቅበትም ሚዛን የብር ክረ\\nጢት ሆነ ። ኣአይ ዘመን! ምን ጉድ ጊዜ ያሳየን ጀመር እባካችሁ?የ» ብለው\\nቶሎሳ ያመጣውን ወረቀት ሰጡት -- ሰሀዲስ #“\\n\\nየሰርግ ጥሪ ወረቀት ነበር ።;የጥሪውን ወረቀት ኪሱ እየከተተ ፥ «አመ\\nሰግናለሁ» ብሎ እጅ ነሳ #“\\n\\nፊታውራሪ፡ «ልጃገረዶችም የርብቃን ፈቃደኛነት አጤ> ብለው ተከ\\nዙና ፥ «በልጄ ላይ አርሙሜ የማይቆርጥ ወላጅ፤ ልጁን ይወዳል ማለት አይ\\nቻልም ይል ነኝበር መክብብ» አሉና አንድ ነገር ትዝ ብሎአቸው ፥ «አስተ\\nማሪዬን ፤ መክብብን እንደምትመስል ነግሬሃለሁ ከዚህ ቀደም?» አሉት ።\\n\\n«አምን=»\\n\\nትና ፲፭ፎ፱\\nፈሰ ለቄታ ማሰብህ ደግ\\nቢሰጢውያዷሟ፭፪፭ት፻ የሱም ልብ በፍቅረ ንዋይ ታውሮአል ።\\n\\nፁ ነገር በሜቻ፸፪ባሁ፸፸ እረዳሃ\\n“ሻ ች ላ፣*የነገራቸውን ኣ ይረው ፤\\n\\nካግን እነ አችዬ መ ለት መጀመርከውን በጎ ነገር የተንኮል ወዋመድ\\nማሰባቸው እጅግ ያሳዝናሉል # አዬ! የሰው ልክ አለማወዯች!ወ\\n'},\n",
       " {'page_number': 185,\n",
       "  'text': 'ር ..ከ ።\\n\\nመምሩ ተቆጥተው ‹፥ «እሱን ይተውት እባክዎን ። ልብ ቢመዛ ኣይ\\nሆን» አሉ ።\\n\\n«ማሰባቸውም ድፍረት ነው ። ጊዜው ተለወጠና ነው እንጂ እንደ\\nቢሆን ኖሮ ከዚህ ዶጅ ተጥለው አርባ አርባ መገረፍ ነበረባቸው ። ብቻ ዖ:\\nይደረግ? ጊዜ የሰጠው ቅል ድንጋይ ይሰብራል አሉ ። ትንፋሼ እያለ አሁን\\nማይሙት ! እናቱ ሆድ ተመልሶ ይገባ መሰለው ?\\n\\nመምሩ አሁንም ፤ «ይተውት ብዬ ምን ነው! ባልሆነ ነገር መናደድ\\nደማግ አይዶጆለም» አሎ ።\\n\\n«ሆኖአል እንጂ! ባይሆንም ሆኖአል ። ልቡ ከተመኘ ባያደርገውም\\nአድርጎታል ። ተደፍሬአለሁ ። ያስደፈረኝም ጊዜው ነው። ከዚሁ ሁሉ አስ\\nቀድሞ. ቢገድለኝ ምን ነበረበት! ሰው ለውርዶደት ተጎልቶ ለምን ይኖራል!\\nእሱ እኮ የገደዶለኝ ደፍሮ ሽማግሌዎች የላከብኝ ቀን ነው ። የሱ ድፍረት፥፤\\nየሽማማግሌዎቹ ቅሌት ። አይ የሰው ልክ አለማወቅ ። ስልጣኔ አጉል መንጠ\\nራራት ነው አሉ? ልክን ማወቅ ነበር ። ምንቸት ጋን አይሆን ። ምጣድ የድ\\nስት ባልንጀራ ነኝ ብሎ አለላ ተከድኖ ቀሚስ ለብሶ ከማድ አይቀርብ ። አይ\\nሞቱ! ሞት ለካ የሚናፈቅበትም ጊዜ አለ!»\\n\\n«አፍዬ ፊታውራሪ ምን ነው ። በተከሉዋት ታቦት ይፔዎታለሁ ።\\nእንዴ፣! ድስቡ እንጂ ። ኢዮብ ያ መከራ ሁሉ ሲዴርስበት የስዎን ያህል\\nአላማረረም ። እስዎ ምን ደረሰቦትና ነው? መቼስ ምኞት አይከለከልም»\\nአሉ ።\\n\\n«ልኩን የሚያውቅ ሰው ለምኞቱ ልክ አለው ። ለምኞቱ ልጉዋም ያደ\\nርጋል። ልኩን የማያውቅ ባለጌ ብቻ ነው ምኞቴን ስድ የሚለቀው ።ይምጣ\\nብቻ ያቺን ሰአት ነው በናፍቆት የምጠብቀው ። ልኩን እንዲያውቅ ይ\\nረጋል- - -»» ሲሉ ፤ ስለ ምን እንደሚከራከሩ ጠረጠረ ።\\n\\n«ድርሽም አይል.-.» ]\\n«የጭዘጋጀጆለትን አያውቅ ይዘጋጅ የለ?»\\n«እንዶ ተነቃበት አውቆአል።»\\n«ማን ነግሮት!?»\\n\\n«እኔ ። ኤአስጠንቅቄዋለሁ»\\n\\n«ማን አልዎትና!»\\n\\nከፊታውራሪ ግንባር መሀል ያለው ስር ተገትሮ ነቦር“\\n\\nአይኖቻቸው እንዴዶ እሳት ቀልተው እሳት የፀጌሟቅቆን ሷጩዴ ነበር።ቦሶቦ ጦ፭\\nራቸው ቆሞ የቆሰለ አውሬ መሰሉ ። ከተቀመጡበት እንዴዶ ወጣት ተዎዔ,)\\nው ነገ፥?\\n\\nጉድ ነው የሰሩኝ ዘንድሮ ። እንደ ዘንድሮ ገ፲፬ዴ፲ ሆፔ አላውቅም # አቶዩ:-,\\n\\nየነ\\nመምሩም በበኩላቸው ተነስተው የያዙትን ጭ የር ላይ\\nሰነሱ * «ጭፋት አይደለም»> ሲሎ :--- ጾ ድ ባጮ እ\\n'},\n",
       " {'page_number': 186,\n",
       "  'text': \"‹ ሜስስ 185፡\\n\\nንሽ ሰው\\n\\nንዴ!! ባለጌን ጉቀው ሲተውት ነው'ይ አለዚያማ አብሮ መዋረድ ይመ\\n፭፲ል ራ፲ል፻ አልነቁብኝም ብሎ ቢመጣና በደጅዎ ነፍስ ቢያልፍ ፀፀጠቆይቅዖ\\nይቀ ጅ\\n\\n«ማን ነው የሚጠይቶቆኝ? ታጥቆ የመጣ ሌባ ደጄ ቢወድቅ ምን የሚያ\\nስጠይቅ ነገር አለ! ልጅህ ተገዳ ስትወሰድ ዝም ብለህ ማየት አለብህ የሚል\\nህግ የለም ። እባክዎን ይተውኝ ። ነገር ካበላሹ በሁዋላ ምን ያደርጋል!>»\\nአሉዋቸው ጮኽው ።\\n\\n«የለም ፊታውራሪ» አሉ መምሩ አዘንብሎ የሚታየውን ክብሳታቸ\\nውን እያስተካከሉ * ኗከሱ ጋር ግብግብ መግጠም የርስዎን ክብር ፍንሶ የር\\nሱን ጀግንነት ከማሳየት ሌላ-ትርፍ የለውም ። አይሆንም ። ባለጌን ከሩቅ\\nመሸሽ ነው የሚሻለው ። እንዴ! ስንት ዘዴ እያለ ካንድ ትንሽ ሰው ጋር\\nግብግብ ለመግጠም እንዴት ይፈልጋሉ? ሁዋላ አይሆንም ። በተከልዋት\\nታቦት ይዢዥዎታለሁ ።\\n\\n«ሰይጣን ሊያስተን አይገባም ። በልጅምዎ ፈቃደኛ አለመሆን እንዶ\\nዚያ ሲያዝኑ የታፈሰ ነገር ተጨመረብዎት ። በመቶ አለቃው ድፍረት ሲያ\\nዝኑ የቀኛዝማች በቀለ መርዶ መጣብዎት ። ሀዘን ሲበዛ ደግ አይዶለም ።\\nለሰይጣን መግቢያ ቀዳዳ ይሇናል ። ሰይጣን ሲፈታተንዎት ነው ። በዚህ\\nእድሜ እልክ መግባት የለቦትም ። ለዚሁ ብለሁ አይዴለም እንዴ ልጅዎን\\n\\nአያና ልጅ ለመስጠት የወሰኑት--ቂም በቀልን ፥፡ እልክን ክል\\n\\nለፊታውራሪ\\n\\nብዎ ለማውጣት? ከመቼው ረሱት? አዎን - .. ሰይጣን ሲፈታተንዎት ነው።\\nሌላ አይደለም ። እንዴ ጀመሩት ልብዎን ወደ ዳዊት አምላክ ይመልሱ>»\\nብለው ሲጨርሱ ፊታውራሪ መልስ አልሰጡም ።\\n\\n«በስመ አብ ወወልድ ወመንፈስ ቅዱስ» ብለው ዝም አሉ ።\\n\\n' መምሩ ፤ «አዎን ። አሜን» ብለው ወድ ሀዲስ ዞር በማለት ፤ «የሰማ\\nነውን በልቦናችን ያሳድር ። ግን ሲያዩህ ማር ካፍህ ጠብ የሚል አይመስ\\nልም» አሉት ።\\n\\n«ልጃችን ለሱም የሚተኙ አይደሉም ። ተጠንቀቃቸው»\\nኣንዳላትካአዷዷ ፲አ፲፲፸ኒ፮፫ዞሂሉ ሰዎች ሙኸት ከደጅ ይሰማ ጀመር “\\n\\n።-“አቤት! አቤት! አቤት!\\n\\n«ምንድን ናቸው?» አሎ ፊታውራሪ #“\\n«የልጅ ታፈሰ ጭሰኞች ናቸው=» አለ ቶሎሳ ።\\n«ምንድን ነው የሚፈልጉት?»\\n\\n«አቤት ለማለት ነው የመጣነው ይላሉ “»\\n«ስንት ናቸሙ?የጅ\\n\\n«አእረ ብዙ ናቸው መ\\n\\n-“-አቤት! አቤት! አቤት!\\n\"},\n",
       " {'page_number': 187,\n",
       "  'text': 'ኬጎ\\n\\nፊራታውራሪ ተካ ተነስተው ወደዶ ሰገነት ወጡ። መምሬ መሀሪም +\\nሉዋቸው . - . ህሀዲስ ላንዳፍታ ወዶ ሁዋላ ቀረት ብሎ ፤ ቶሎሳን፦፡ ።አይና፰፰\\nአሁን እንዴት ናት?» ብሎ ጠየቀው ። .\\n\\nኝ «አሁን ዶጆዶህና ናት ። እንዶደ ዱሮዋ መሳቅና መጫወት ጀምራለችኔ\\nው ፡\\n\\n«ኢእውነት?»\\n\\n«ሁላችንም ደዶስ ብሎናል ።»\\n\\n«ቆረጠላት መስለኝ?ው\\n\\n«ኦዎ ፥ መቁረጥ ይቀራል? ሲዳሩ ማልቀስ ወግ ነው=.-...\\n\\n።->-አቤት! አቤት! አቤት!\\n\\n. ምንድን ነው በደላችሁ? ለማስረዳት የምትችሉ ሰዎች ወዶፊትኑ»\\nአሉ ፊታውራሪ ትካ።\\n\\nግቢው +ጣቦ ሲታይ አገር ተገልብጦ የመጣ ይመስላል ። ሁሉም አደ\\nማድግዋል =\\n\\n«አቶ በቀለ! እስቲ ኣአንት አስረዳ» አሉ ፊታውራሬሪ ።\\n\\nሽበታቸው የትነዶፈ ጥጥ የመሰል አንድ ቀይ ሽሸማማግሌ እንዳደገደጉ\\nወዶፊት ብቅ ብለው መሬት ስመው እጅ ከነሱ በሁዋላ * «እግዜር ያሳይዎ፤\\nእዚህ እፊትዎ የቆምን ድሀዎች፤ የዛሬውን አያድርገውና ከክወንድምዎ ከቀ\\nኛዝማች ብሩ ጋር በጥልያን ወረራ ጊዜ በዱር በገዶሎ ተዘዋውረን እስከ\\nእለተ ሞታቸው ድረስ የተዋጋን ሰዎች ነን ። ዶስታቸውንም ሆነ መከራቸ\\nውን ተካፍለናል ። የጌታችን ልጅ መምጣቱን ስንሰማ ፥ ባባቱ እግር ተተ\\nክቶ ሊሰበስበን ነው በማለት ተዴስተን ነበር ። ይኽውና « መሬቱን ለቡና\\nእርሻ እፈልግዋለሁና ልቀቁ በማለት የታጠቁ አሽክሮች ይዞ ቤታችንን ዕ\\nያችን ላይ እያፈረሰብን ነው ። የት እንድረስ አባ ብያ! ካለ እርስዎ ማን\\nአለን> አሉ ሰውዬው እንባ እየተናነቃቸው።\\n\\nሀዲስም እንባው መጣበት ። ከፊታውራሪ ተካ በስትጀርባ ቆሞ ያ*\\nምጥ ነበር።\\n\\nራታውራሪ በለሆሳስ ፤ «አይዶደረግም!› ሲሉ ስማ።\\n\\n«ተዶርጎአል እንጁ * አባ ብያ። ባ መቼ እርስዎን እናቦቸ\\nግር ነበር!» ሕሉ አቶ በቀለ ። ብ\\n\\n«ለመሆኑ አሁን እሱ የት ነው ያለው!›\\nከክሰዎቼ መሀል አንዱ ድምፁን ከፍ አድርጎ * «አባ ብያ * ምድሪ*\\n\\n#\\nክዳችን ሰማፍ ተደፋብን ፡ ቀኑም ጨለመብን « ልጆቻችን ዳ ላይ ፈዕሳ\\nየት እንድረስ እንማዲህ? ከክዚህ የት እንሂድ!» ብሎ ጮኽ።\\n\\nሀዲስ ሕንባውን ለመያዝ አኣልቻለም ።\\n«አሁን የት ነው እሱ!» አሉ ራታውራሪ በቁጣ “\\n\\n«እ.ዚያው መሬቱ ላይ ነው» አሉ\\n«ምን ሦ”ያዶረገገ› ኣድበቀል።\\n\\n«ቤታችንን እያስፈረሰ ነው ።»\\n'},\n",
       " {'page_number': 188,\n",
       "  'text': '‹ ሜስ 187\\n\\nፊታውራሪ ዝም ብለው ሲያስቡ ቆዩና ፤ «አባ መርጋ መካከላችሁ\\nአለሠ አሉ ።\\n\\nአቶ በቀለ ነበር * «አባ መርጋ “እዚሁ ብትፈልግ ግደለኝ እንጂ ከቤቴ\\nአልወጣም * አይኔ እያየ ቤቴም አይፈርስብኝም\"\\' በማለት ከኛ ጋ፤ አልመ\\nጣም ። እንደ እሱ በማሰብ ክቤታችን አንወጣም ብለውያየቀሩ ሉሎች ሰዎ\\nችም አሉ» በማሰት መልስ የሰጠው ።\\n\\n«በቅሎዬን ጫንልኝ!» አሎሉ ፊታውራሪ. ..ይህን ጉድ ባይኔ ሳላይ አል\\nሞትም በማለት ሀዲስ በእግሩ ተከተላቸው ። ሰጋር በቅሎአቸው እንዴዶ ባለ\\nሙያ እንዝርት ትሾራለች ። የተከተላቸው ህዝብ ከሁዋላቸው ይተማል ።\\nከቦታው ላይ እንደዶ ደረሱ ፊታውራሪ ከበቅሎአቸው‹ሳይ ዱብ አሎ።\\n\\nታፈሰ ሽጉጡን ታጥቆ ሲጃራ እያጤሰ ካንድ ዛፍ8ጥላ ስር ቆሞ ነበር፡፡\\nጥቂት ጎጆዎች እንዳልነበሩ ሆነው ይታያሉ ። የተቀሩትን ለማሜፈራረስ\\nየታጠቁና ድልታጠቁ ሰዎች ይጣዶፋሉ ። ሴቶች ዋይታ ያሰማሉ ። ህፃናት\\nባዶ ሜዳ ላይ ፈሰው ያለቅሳሉ፡፡ የቤት ቁሳቁሶች የትም ተጥለው ይታያሉ።\\nውሾች ይጮሃሉ ። ሰንጋ የተጣለ ይመስል ጭልፊቶችና ጆፌ አሞራዎች\\nከላይ ያንዣብባሉ ። ሜዳ ላይ የፈሰሱትን ጫጭጩቶች እያነሱ የሚበሩ\\nጭልፊቶችም ነበሩ ።\\n\\n«እንዴት! እንዴት! ኣንተ!» አሉ ፊታውራሪ ድምፃቸውን ከፍ አድ\\nርገው ። ግንባራቸው መሀል ያለው ደም ስር እንደ ዘንማግ ቆሞአል ። ታፈሰ\\nሲጃራውን ጥሎ መሬት ላይ ረገጠና ፦፦\\n\\n«ምንድን ነው እሱ?» አላቸው ኮስተር ብሎ ።\\n«ምን ብዬህ ነበር!»\\n«ፊታውራሪ» አለ ታፈሰ * «በዚህ ጉዳይ አይግቡብሜኝ ።»\\n\\n«እንዴት አንተ! ማን ጠብቆ ባቆየህ መሬት! ሰው የሚልህን ነገር\\nእንዴት አትሰማም? ወይስ ልብህና ጆሮህ ተዴዶፍኖአል!»\\n\\n«ፊታውራሪ ይተውኝ ብያለሁ!!» አለ ተፈሰ ። በቁጣ ። «እኔ እዚህ\\nየመጣሁት ጭሰኞች የሚሰጡኝን ፍርሩፋሪ እየለቀምኩ ለመኖር አይደለም ።\\nየመንግስት ስራ ትቼ ገጠር የገባሁት ጭሰኞችን ለመንከባከብ ሳይሆን\\nመሬት ለሜልማት ‹ ያለ ስራ የተቀመጠውን መሬት እጥቅም ላይ ለማዋል\\nነው ። ባባቴ መሬት የፈለኩት\" ባደርግ የሚያዘኝ ሰው የለም ። መብቴ\\nነው። ይህን እንዲረዱልኝ እፈልጋለሁ #“»\\n\\nሲናቁር ሁሉ የደም ስሮቹ ይገታተሩ ነበር ።\\n\\n«እነዚህ ዴሆች ዱ ነው የምትለው? ጎጆ ሰው ላይ ማፈራረስ\\nእስ የት ያ፱፲፲ኘኸው ት፶፮ጋ፰፭ ነው? እነዚህ ሰዎች ፣ የጌታችን ልጅ ብለው\\nኣሽኮኮ እድሉ ያሳደጉህ መሆናቸውን እንዴት ትረሳለህ? ወይስ የገንዘብ\\nፍቅር እውር አድርጎሃል[» ሳጳው ጮሁበትና ወዶ ህዝቡ ዞር በማለት -፦\\n\\n«አባ መርጋ የት አለ? ጥሩት» አሎ ።\\n\\nአባመ ውን ጦር እንዶ ያዙ ከህዝቡ መሀል. ብቅ\\n\\n፰፲፲ነ፲ገ፥፲ ጠይፃረዐ፡ ፲ጋ፲፪፲፲፬፲፲፲ሪ፹ጃሪ፺፰፲፰ዬው ። ቁመናቸው ዘለግ ብሎ ከወገባቸው\\nጎ\\n\\nበጥ ይላሉ ። አንጀታቸውን በድግ አስረዋል ።\\n'},\n",
       " {'page_number': 189,\n",
       "  'text': '188 ሀዲስ ፲\\nጣ\\n\\nፊታውራሪ ወዶደ ታፈሰ መለስ ብለው ፥ «ይህ ሰው ማፃን እንዴዷ ሆነ\\nቀዋለህ? ወይስ ረስተኸዋል? ረስተኸው ከሆነ እኔ ልንገርህ ። ነ፲፲፯፲፬፲፲\\nአባትህ በረሃ ለበረሃ ሲንከራተት ጣልያኖች እንዳይግድሉህ እንደ አውረ\\nበየጫካው እየኖረ ነፍስህን ያተረፈ ሰው ነው። ባይወልድህም አባትህ\\nነበር ። ዳሩ ምን ያደርጋል? ወይስ የተማርከው ትምህርት ውለታንና ይሉ\\nኝታን ቀቅላችሁ ብሉ ይላልሀ» አሉት ።\\n\\nታፈሰ በንዴት ጠጉሩን ነጨና ፥ «እኔ ስለ ውለታና ስለ ይሉኝታ ደንታ\\nየለኝሜም ። የመጣሁት ላንድ አላማ ነው ። አላማዬን የ”“ጄያደናቅፍ ነዢ\\nከፊቴ ቆሞ ማየት አልፈልግም! ከፊቴ መጥፋት አለበት ። በይሉሎኝታ ታስሬ\\nመሬቴን ጦም አላሳድርም ። በዛሬ ጊዜ ስንት ጭሰኛ አለኝ እያሉ ጭንቅ\\nላት መቁጠር ዋጋ የለውም ። ዛሬ ዋጋ ያለው መሬትና እውቀት ነው ። ለኔ\\nብለው እንዶሆነ የፈለጉበት ሊሄዱ ይችላሉ ። ኤሁንም ፥ በውድ ካልሄዱ\\nበ፭፰ኚ ይለቃሉ ። እንዳልኩት በርስቴ መጠቀም መብቴ ነው!» አለ ጥርሱን\\nነ \" «\\n\\nአባ መርጋ በሀዘኔታ ራሳቸውን ነቀነቁና ፤ «ታፈሰ ፥ በኔ ላይ ጎጆ\\nፍን ልታፈርስ? ጡር አይሆንብህም ፡ ልጄ ። የጌታፍ።፤ የቀኛዝማች ብሩ\\nአጥንትስ ምን ይልሃልሀ አሉት ፤ እንደ ገደል ማሚቶ በሚያስተጋባ\\nድምፅ ። ትላልቅ አይኖቻቸው እንባ ቁዋጥረው ነበር “\\n\\nሀዲስ ዝም ለማለት አልቻለም ። ንዴት ጉሮሮውን እየተናነቀው ፤\\n«ታፈሰ * እባክህ እነዚህን ሰዎች ተዋቸው ። ጎጆአቸውን አፍርሰህ የምት\\nጠቀመው ነገር የለም። የድሀ እንባ ምን ያዶደርግልሃል? እባክህን» በማለት\\nለመነው ።\\n\\n«አፍክን ዝጋ አንተ ደሞ! እዚህ ውስጥ የሚያገባህ ነገር የለም ። ሂድና\\nትምህርት ቤትክን ስራ ። እዚህ ምን ታደርጋለህ!ወጋ ብሎ መልሶ ጮኽኸበት*\\n\\n«አንድ ቀን ይፀፅትሃል ዋ!» አለው።\\n«ዝም በል ነው የምልህ!ወ\\n\\n«አባ ብያ”ሁ አሉ አቶ በቀለ፡፤ «እኛ እኮ እርስዎን ፈርተንና አክብሩ?\\nእንዲሁም የቀኛዝማች ውለታ ይዞን ነው የሚፈርሶቃው\\nበሬሳችን ላይ ይሆን ነበር =» እንጂ ጎጆአችን\\n\\n«አሁንም ነውህ» አሉ አባ መርጋ ጦራቸውን እየነቀነቁ ።\\n\\nሰባል ። በገዛ መሬቱ የፈለገውን ሊያዶደርግ ይችላል ። መብቱ ነው”ፆ\\n\\nተም ግዴታችሁ ነው ። ተስማምታችሁ ነ፰ አልከ፡ እንጂ፣! ለዛቻም በስ፲፡\\nችሁ እንዴ! ምን ሲደረግ ። ይህ ነው እኮ የሚያሰጋኝ ። ፈጣሪ በረቂቅ ነ\\nጣኑ ደልድሎ የዳረገልንን መብትና ግዴታ ካላከበርን ምን ሰላም ይኖፉሄ\\n\\nመአተ ቁጣውም በላያችን ላይ ባቸውን\\nኋይ፡ ኢያስብቪፍጠል፡ . ይሇናል» አሉ በንዴት ‹ ካ\\n\\nታፈስ በፊታውራሪ አነጋገር የ ምቶት * «ይህን >ዞ\\nለም እኔስ የምለው! ዛሬ እንዲህ ያሉ ነግ ምን የሚያደርጉ መሰም?\\n።\\n\\nጊ\\n'},\n",
       " {'page_number': 190,\n",
       "  'text': 'ር ሌ ዲ 189 -\\n\\nምን ሊያደርጉ! ምን ሊሆኑ! ዝም በል አንተ» ብለው አን መ\\n\\n. ወዶ ሰዎቹ መለልስ በማለት ፥ «የጌታችሁ ልጅ ነው። በበደለ ያቺ፣ነጂኋ ።\\n\\n፲፲፲፲፲ናናነ ተም ለእግዜር ይቅር በሉት ። ግዴታችሁንም ማወቅ ጥበብ ነው ።\\n\\n፤ሪሃ እግዚአብሄርም ይዶርባችሁ ። ዛቻ ደግ አይደለም ። ተደርጎም ታስ\\nቦም አይታወቅም ። ሕረ እንዲያው ምን ሲደረግ!» አሉ ።\\n\\n«ፊታውራሪ ተሳስተዋል ። በእውነት ተሳስተዋል» አለ ተፈሰ ብስ\\nጭት ብሎ ።\\n\\n«ሁዋላ ማንን ይዘህ ልትኖር ነው?»\\n\\n«ገንዘቤን ። ዛሬ ዋጋ ያለው ፥ ዘመድና ወገን የሚሆነው ገንዘብ ነው።\\nጭሰኛ አይደለም ። ፊታውራሪ በእውነት ነገሩ አልገባዎትም» አለ ጠጉ\\nሩን እየነጨ ።\\n\\n«እሱን ትወው› አሉ ፊታውራሪ ፤ «ለጭሰኞች አዴላህ ልትለኝ ነው ።\\nአይደለም ። ግን ሰው በዚህ አለም ማንን ይዞ ይኖራል? ባዶ መሬት ድረስ\\nልኝ ተከተለኝ ቢሉት ትነስቶ አይመጣም ። ዋ! ተው ታፈሰ ። ይልቅ ምኑም\\nያልገባህ ሕንት ነህ ።=>»\\n\\n«እባክዎን ነገሩ እንደሱ አይዶዴለም!»\\n«እህሳ?»\\n\\n«መብት አሕአለን ነው”ኮ የሚሉሱት!›\\n«የምን መብት?» .\\n\\n«በዚህ መሬት ላይ ። ባዕመ ርስቴ--»\\n\\n«ምን ቆርጦአቸው! እንዲህ ያለ ነገር አልወጣቸውም ። በማ መሬት\\nማን መብት አለኝ ይላል? ተበደልን ነው የሚሉት ። እና ፤ ቅድም እንዳል\\nከት ፈጣሪ በጥበቡ የዳረገልን መሬት ምን እንዶሆነ ማወቅ አለብን ።\\nበዚች ምድር ፍጥረት ሁሉ ቦታ ቦታ አለው ። ጌታ መበደል ፥ ድሀ መለገም\\nየለበትም ። በል አሁን ፤ ከዛሬ ጀምሮ ብትዶደርስባቸው ጥልህ ክኔ ጋር ይሆ\\nናል» ብሌው ። በቅሎአቸው ሳይ ወጥተው ሄዱ ።\\n\\nእልልታው ቀልጦ ያስተጋባ ነበር ።\\nሀዲክ ሄዶ ከታፈሰ መኪና ላይ ተሳፈረ #\\n\\nታፈሰ ፤ «በእውነት ይህ ሸማግሌ ጃጅቶ ጅል ሆኖአል!› እያለ ይሳ\\nጾብ ነበር «\\n\\nምን ያድርጉ ነው የምትለው?»\\n\\n«የጥ ክትሞአል ። እየሞተ በሚሄድ ስርአኣት ላይ\\n፩፪ፎልጥዬቱ፸፭ዳ፰ዷ፲፰ዶ፮ጋልፔ ጭሰኛ ዋጋ የለስውም። አዲሱ ሃይል ፤\\n\\nእማዜር ፤ ገንዘብ ነው- ።»\\n«አሁን ምን ልታዶርግ ነው ታዲያ?» .\\n\\n- የመ-፣ ት ለቀ\\n. «ታይለህ ። ዛሬ ባይሆን ነገ አባርራቸዋለሠ ። እዚህ\\n*8 ኣይዎጆለም!> ፰ሎይፀፀኪናውን አስነስቶ በረረ *\\n'},\n",
       " {'page_number': 191,\n",
       "  'text': '190 ሀዲስ\\n\\nጪ\\n\\n«ተዋቸው እባክህ ። አብዛኛዎቹ ደዶክመዋል ። አኣርጅተዋል .\\nይሂዱ ፫ የምትለው?» መኪናዋ በገደዶል አፋፍ ላይ ስትበር ሀዲስ ጩ\\nሹን ዋጥ አድርጎ ያዘ ።\\n\\n«ዝም በል ብዬሃለሁ ። አንዯተን ኢያገባህም ። ለኔ ብለው እንደሁን\\nገሃነም ሊገቡ ይችላሉ ። እኔ የሚስበው ስለ መጭው ጊዜ ነው ። አንት ዝም\\nብለህ ስለዚያ ጭቃ ትምህርት ቤትህ አስብ ። በኔ ጉዳይ ኣትግባ! እሺኬ\\n\\nኖሙኪናው ጎማ የገዶደሉን ጠርዝ ነክቶ ሲጠመዘዝ የሀዲስ ልብ ባፉ\\nትፈትልካ ልትወጣ ዴርላ ነበር ። ጥርሱን ፤ ነክሶ የተቀመጠበትን ወንበር\\nበእጁ ጭምድድ አድርጎ ይዞ ዝም አለ ። ሳይታወቀው ያልበው ጀመር ።\\nመኪናዋ ሜዳ ሜዳውን ስትይዝ ነፍሱ መለስ ኣለች ። እንደ በረረ ሄዶ\\n#ያዲስ ቡት አጠገብ ቆመ ።\\n\\nሀፀዲስ በእፎይታ ተንፍሶ ፤ «ለምን ቤት አትገባም?» ብሎ ጠየቀው።\\n«እቸኩላለሁ ።»\\n\\n«ወዴት?»\\n\\n«በጉዳዬ አትማግባ ብያለሁ!»\\n\\n«አትቆጣ ። ምናልባት ዛሬ ማታ የዘዝነበ እንድሆነ የት አገኝሃለሁ»\\n\\n«ቤት ታገኘኛለህ ። እንዲያውም አንድ ነገር ዛሬ ባፈነዳ ደስ ይለ\\nኛል! ቻዎ።»\\n\\nሀዲስ ቤት ሲገባ ፤ ሰአት አልፎ ኖሮ ፥0 ገረዱ እያጉተመተመች ምሳ\\nውን አቀረበችለት ። አንድ ሁለት ጊዜ ጎርሶ ተወው ። እህል አላሰኘውም ።\\nአንድ ልቡ * ምን ነው ይህ ዝናብ በመጣ እያለ ይመኛል ። አንድ ልቡ\\n\\nትዝታና ንዴት ሲፈራረቁበት ነበር የዋ\\n\\nው መ ፍትም\\nሰላም አልነበረውም ። የቤቱ ብርሃን ድንለ ዝ ል\\n\\nእንይ ፎጠ ሄዶ ከታፈሰ ብሩ ግቢ ሲደርስ የታጠቁ አሽክሮቹ ኮዎ\\n\\nር ላይ ኣቆሙት ። አደገኛ ጠላት ይመጣብናል ፲፲፤፲፸፲ግሰት ነቅተው የሜሬ\\nብፍዴ መስለው ታዩት ። አይነ ውሀቸው ዶስ አላለውም ። ሁላቸውም\\nንፈስ ርጋታ አይታይባቸውም ። ይቁነጠነጣሉ ።\\n\\nኢረ ጉዋዶኛው ነኝ» ም\\n\\n«ወሆንም * አሁን ማንም አይገባም «=\\n«ቀጠሮ ስላለኝ ነው...አ\\n'},\n",
       " {'page_number': 192,\n",
       "  'text': 'ተ - ወዲስ 181.\\n\\nርአልተነገረኝምጋ አለው ጠብመንጃውን እንዶ ህፃን ፎየ\\nጦስ፲ቶ፲ጎፊፊውያስዴነግጣል፱አይኑያስፈራል፲ ልጅ ታቅፎ የያ\\n\\n«እሺ አልገባም ። ግን » ሀዲስ መጥቶአል ብለህ ንገርልኝ ። ለብርቱ\\nጉዳይ ነው። በጣም አስቸኩዋይ ነው---ጎሽ እባክህን የኔ ወንድም» በማለት\\nእየተለማመጠ * ወደ ላይ አንጋጦ ሰማይ ሰማዩን ይመለከት ነበር ። ሰማዬ\\nበጣም እየጠቆረ በመሄድ ላይ ይገኛል ።\\n\\n«ማን አልከኝ?» |\\n«ሀዲስ ። ሀዲስ ሳህሌ በልልኝ ። ጎሽ የኔ ጌታ ።»\\n\\nአጠገቡ ላለው ሰው አንድ ነገር በጆሮው ሹክ አለ። ሰውዬው ወዶ ቤት\\nሮጠ። የፊታውራሪ ቤት መንትያ የሚመስለው ባለ አንድ ፎቅ ቤት ከፍራ\\nፍሬ ዛፎች መካከል ብቅ ብሎ ፊት ለፊት ይታያል ። ሰማዩ አጉረመረመ ።\\nዝናቡ ትንሽ እንዲቆይ በማለት ለዝናብ አምላክ በልቡ ትንሽ ፀሎት አደ\\nረገ ። የተላከው ሰው እየ ሮጠ ተመልሶ መጣና ይግቡ ተብሎአል ብሎ ነገ\\nረው።እየተጠማዘዙ ወደዶ ስገነት የሚወጡት ዶዴረጃዎች በእብነ በረድ የተሰሩ\\nናቸው።ዱትኩስ የቤት ቀለም እውድ ያደርጋል። አንድ ቀጭን አጭር ወጣት\\nበሩን ከፈተለት ። ወደ እልፍኙ ሲገባ የኤሌክትሪክ ብርሃን አጥለቀለቀው ።\\nወለሉ ላይ የተነጠፉት ሰፋፊ ቀይ ምንጣፎች ከተመሳሳይ የመስኮት መጋ\\nረጃዎች ጋር ተዋህደዶው አይን ያሞቃሉ ። መደገፊያዎቻቸው ያጌጡ ስማያ\\nዊና ቀይ ሶፋዎች በወግ ተደርድረዋል ። ካንድ ትንሽ ቤት መንግስት የገባ\\nመስሎት አፉን ከፍቶ የቤቱን ዕቃ አይነት ሲመለከት ፤ ታፈሰ ብሩ ፤ ከሀር\\nየተሰራ ነጭ የሌሲት ልብስ ላይ ሰማያዊ የጡዋት ካፖርትዶርቦ ከጉዋዳ ብቅ\\nአለ ። የሰከረ ይመስላል ።\\n\\nፎይዷጋ ሁሉ የመሳሪያና የዘበኛ ጋጋታ ለምንድን ነው?፡» አለ ሀዲስ ።\\n«የት?»\\n\\n«ውጭ በር ላይ ።»\\n\\n«ለጥንቃቄ ነው ።»\\n\\n«በገዛ እጅህ ነው”ኮ ጠሳት የምታበዛው።»\\n\\n«ህም ።=ጅ\\n\\n«የመጣሁት ለዚያ ጉዳይ ነው- - -»\\n\\n.. ዩደየቱ ጉዳይ?» አለውና የሚሰጠውን መልስ ሳይጠብቅ ሄዶ በሁለት\\nብርጭቆዎች ውስኪ ቀድቶ ሲያበቃ ፤ አንዱን በበረዶ ብቻ ፤ ሁለተኛውን\\nበበረዶኖና በአምቦ ውሀ አድርጎ ተመልሶ መጣ ። አምቦ ውሀ ያለበትን\\nውስኪ ለሀዲስ ሰጠው ። እጁ ይንቀጠቀጣል ። ከስካሩም ሌላ ሃይለኛ\\nድካም ያለበት ይመስላል ።\\n\\n«ኤሞሃል ወይስ ምን ሆነሃል?» አለው ሀዲስ ባይኑ እያማተረው ።\\n\\n«ደህና ነኝ ፥ ለጤናችን» ብሎት ብርጭቆውን ወደ ላይ አነሳ ።\\n\\nሲ ሰማዩ በሃይል ማጉረምረም ጀምሮአል ። መብረቁ ብልጭ ድርግም\\nል በመስኮት ይታያል ።\\n\\n«የመጣሁት ስለ ወርካው ጉዳይ ነው ። ዛሬ ማታ ይዘንባል ። ይዘን\\nባል ብዬ ተስፋ አዶርጋለ፰፰፬ አለው ስሜቱ ዐጉጉት እየተነሳሳ ።\\n\\nአዝናለሁ ። ዛሬ ማታ አይሆንልኝም» በማለት መለሰለት ።\\n'},\n",
       " {'page_number': 193,\n",
       "  'text': '፵፶፩፬ጎ\\n\\nሀዲስ ወሽመጡ ቁርጥ ብሎ ፤ «ለምን? ለምን አይሆንልህምግ» ብሎ\\nጠየቀው።\\n\\n«ምክንያቱን አሁን ልነግርህ አልችልም ። ዛሬ ካንተ ጋር- ለመሄድ\\nአልችልም። ለማንኛውም ሌላ ቀን ይዘንባል #ምን የሚያስቸኩልህ ነገዢ\\nአለ8ው አለውና ውስኪውን ተጎነጩጨ ።\\n\\nሀዲስ በብስጭት ከውስኪው ደህና አድርጎ ተጎነጨለትና ፤ «እሺ «\\nአንተ ለመሄድ ካልቻልክ ፈንጂውን ለኔ ስጠኝ» ብሎት ነጎድጉዋዱ ሲያ\\nጉረመርም አዳመጠና ፥፡ «ዛሬ ማታ መሆን አለበት ። ቁጭ ብዬ ዝናብ ‹ነጎ\\nድጉዋድና መብረቅ ስጠብቅ አልኖርም ። ጊዜ የለኝም ። ለኔ ብለህ ፥ እባክ\\nህን>» አኣለሠው( ።\\n\\n«ፈንጂው እንዴት እንደሚሰራ ታውቃለህ?»ጅ\\n\\n«አሳየኝ ። የክብሪት እንጨት ራስ የምታክል ጭንቅላት ያለኝ መሰ\\nለህገ9»\\n\\nነፋስ በሃይል ሲነፍስ ይሰማል ። መብረቅ ብርቅ * ብርቅ ይላል ።ነጎ\\nድጉዋዱ። ሌላ መብረቅ ። ታፈስ ሀዲስን ይዞ ወዶ ፅህፈት ቤቱ ሄዱ ። ከጠ\\nረጴዛው መሳቢያ ውስጥ አንድ ትንሽ የብረት ሳጥን አውጥቶ ከፈታትና\\nፈንጂውን አሳየው ። ትንሽ ፈንጂ ናት ።\\n\\nሀዲስ ተግርሞ ፤ «አሁን ይህች ፈንጂ ያንን ወርካ እውነት ታፈነዳዋ\\nለች?ገ» አለው ።\\n\\n«ወርካውን ቀርቶ ጋራ ትንዳለች....»\\n«እንጉዴት ነው የሚሰራው?»\\n\\n1 ር፪፲፮፸፺፪፲፰፲፫ ፲፲ሮ፲ሀ፻፲፲ነእ ፭ቄ፰አ ረ፮፶ዔፍ ልብ አርገህ ተመልከት ። ጫን ፰\\n\\nው ው መስራት ይጀምራል ። ይህኛውን\\n\\nቁልፍ በመጠምዘዝ ሰአቱን ታስተካክላለህ ። ፭፲፭ፈለገፀ፲፲ ሴዷንድ ፣ ደቂቃ\\nወይም ሰአት እንዲፈነዳ ልታስተካክለው ትችላለህ ። ጊዜውን እንዶ ፊሶፅ\\nከው ካስተካክከልከው በሁዋላ ፤ ይህን ቀይ ቁልፍ ጫን ታዴርጋለህ ። ጊዜው\\nሲደርስ ቡም!ቢ በቃ ። ረዘም ያለ ጊዜ ብትሰጠው ይሻላል ። አለዚያ አን፥\\n\\n፫ከ፲ ክወርካው- ጋር.ያፈነዳሃል ። ቢሆን ጥሩ ነበር» አለውና ፈንጂው?\\n\\nው ።\\n\\n«ቀላል ነው ። አመሰማናለሁ ። »\\nመዝ ነብ ጀምሮአል ።\\n\\n«ይሯሄኛውስ ምንድን-ነው?» ብሎ ሀ ቀው ። ሌላ ትን\"\\nሰማያዊ ቡዋት ከብረት ሳጥኑ ውስጥ ንበር 2 ጦየቀው ”\\n\\nኗእሰሱ- ፤ ለአይናለም የገዛሁት ስጦታ ነው አል» ብ፲ት\\nቡዋቱን ከፍቶ ስጦታውን አሳየው ። ከወርቅ ፡ፎጤዴጀሟነአት ነበር\"\\n\\nያ\\nሰአቴን ባድፍቆት አይን እያገላበጠ ሲመለከተው ከቆየ ዐታኖጳ..\\n«ስጦታ ከክምትገዛላት ይልቅ ፤ ጥያቄዋን ተቀብ ብትወሶ*\\nይበልጥ ዴድስ ይላት ነበር› አለው 2 ለህ አዲሳባ\\n'},\n",
       " {'page_number': 194,\n",
       "  'text': 'ር - ወዲስ 13. |\\n\\n«እንዶ ጠየቀችኝ በምን አውቀህ?»\\n\\nሀዲስ ነገር እንዳመለጠው አውቆ ድንግጥ አለ።\\n«ማን ነገረህ?»ዌ አለው ታፈሰ መልሶ ።\\n«እንዲሁ ሰማሁ ።»\\n\\n«እኮ እንዴት? የት? ከማንገ» በማለት በጥያቄ አጣደፈው ። ጊዜ አልሰ\\nጠውም ። አሁንም ቀጠለና ፥ «ከእስዋ ካልሆነ በቀር ይህን ምስጢር ከየት\\nልታገኘው ትችላለህ? ማወቅ እፈልጋለሁ» ብሎ ቀይ አይኑን አፈጠጠበት ።\\n\\n«እሺእሱዋው * ናት የነገረችኝ። አሁን ዴስ አለህ? መሄድ አለብኝ ።»\\n\\nታፈሰ የሀዲስን ትከሻ ጭምድድ አድርጎ ይዞ አቆመውና ፥ «ለምን?\\nበምን ምክንያት? የት ታውቃታለህ?» በማለት በጥያቄ እንዶ ገና አጣዶ\\nፈው ።\\n\\n«እንዶ መርማሪ ፖሊስ-ጥያቄ አበዛህብኝ ጃል! ተወኝ ልሂድበት»\\nአለው ፤ ነገሩ ካፉ በማምለጡ መልሶ ራሱን እየረገመ ።\\n\\n«አንተንም ጠይቃሃለች ፤ አይደለም? እውነቱን ንገረኝ?»\\n\\n«አፖመወ |\\n\\n«እፍገወ\\nኗእና » ምን?»\\n«ምን መልስ፻ሰጠሃት?>»\\n\\nሀዲስ ተናዶ ፤ «ምን መልስ የምሰጣት ይመስልሃል! ግዴታና ሀላፊ\\nነት አለብኝ» አለው ። ፡\\n\\n«የምን ግዴታጀ፲የምን ሀላፊነት?»\\n«የችምህርት ቤ>ኃቴ ስራ ። ለህዝቡ የገባሁት ቃል.--.»\\n\\n«እሱን ተወው! አሁን ማ ይሙት ለዚህ ብዬ እምቢ አልኩዋት ልት\\nለኝ ነው?! ቅጥፈት ነው። የሆነ ተንኮል ይሸተኛል ። የሆነ ሆኖ ባትደርስ\\nባት ይሻልሃል! ቀልዴን አይዴለም» በማለት ዛተበት ።\\n\\nከ ሀዲስ ጠጉሩን ቆፈረና ፤ «እኔ ላይ ከምትዝት ይልቅ ፤ የምትወዳት\\nኛነ ፤ ከምትጠላው ጋብቻ አድናት» አለፅው ።\\n\\nመብረቅ ተሰነጠቀ ። ነጎድጉዋድ አስተጋባ ።\\nለሱ ዘዴ ይፈለጋል ። አንተን አያገባህም ፣\" አርፈህ ተቀመጥ!>\\n\\nሀህዲስ ፈንጂውን ይዞ መሄድ ከጀመረ በሁዋላ መለስ በማለት ፤ «ፈቃ\\nጽሀ ከሆነ ሽጉጥና የእጅ ባትሪ አውሰኝ» ብሎ ጠየቀው # ፩\\n\\nየልጅ ባትሪውንስ እሺ ፤ ግን ሽጉጡን ምን ታደርግበታለህ?»\\nለጥንቃቄ ያህል ።»\\n\\nታፈል ወደ ም ሳይቆይ ተመልሶ መጣና ሽጉጥና\\nጁኣዑጀቆ ባት ሰጠፎ ፶ፔ፪፯ሮ፤፲፲ ሽጁዖጩዙእጁ ላይ እየመዘነ ሲመለከትው ከቆዮ\\nአለዉዷ\\' ፬፲ ሺ። አመሰግናለሁ ። ግን አብረን ለመሄድ ብንችል ጥሩ ነበር»\\n'},\n",
       " {'page_number': 195,\n",
       "  'text': \"154 ሀዲስ\\n\\nጫ\\n\\n«አልችልም።»\\n«እኮ ለምን? ፌራህ?»\\n\\n«ማ! እኔ?» በማለት ዶረቴን በትምክህት መታ ፤ መታ ኣደረ\\nጫጉላ ቤት ነኝ ። በዚህ ምክንያት ነው የማልሄደው ። ፈርቼ አይደለዎ ;\\nሰውን ቀርቶ እግዜርንም አልፈራም=» አለ ።\\n\\n«አግባህ እንዴ!» አለ ሀዲስ ፥ ነገሩ ገርሞት ።\\n\\n«አይጾለም ። ታፈስ ያገባል ብለህ እንዴት ታስባለሀ? ባንድ\\nታስሬ መኖር አልችልም ። ሴቶች ቶሎ ይሰለቹኛል ።» ሲት\\n\\n«ታዲያ ጫጉላ ቤት ነኝ ስትል ምን ማለትህ ነው?» አለው ተወናብዶ።\\n«አንዲት ልጃገረድ ይፔ ነው =»\\n\\n«በማድ!» ፡\\n\\n«የፈለከውን በል ።»\\n\\n«የማን ልጅ ናት?»\\n\\n«ያንድ ገበሬ ። ብታያት ቆንጆ ናት -.- አትጨነቅ ለወሳጆችዋ በቂ\\nየዶም ካሳ ይከፈላቸዋል» አለ እየቀለደዶ ።\\n\\nሰውነቱን ዝግንን አለው --- ሀዲስ ። አንድ ነገር መጥቶ ሰውነቱን ወረ\\nረው፡። በእጁ የያዘውን ሽጉጥ ወዶ ላይ ቀና አድርጎ ታፈሰ ልብ ላይ ዶገነበት።\\nታፈፊስሰ መጀመሪያ እንደ መሳቅ 0 ቀጥሎም እንዶ መደዴንገጥ ካለ በሁዋላ\\nፈዞ ። ዝም ብሎ ቆሞ ቀረ ። ሀዲስ አላበው ። ላቡ በጆሮ ግንዱ ሲወርድ\\nይታይ ነበር ። ጡዋት የሰማው የሴቶች ዋይታና ኖህፃናት ለቅሶ መጥቶ\\nጆሮው ላይ አስተጋባ ። የሸሽማግሌዎቹ ሀዘን ታየው ። እጁ ተንቀጠቀጠ ።\\n\\n«ምን ሆነሃል! ምን ነካህሠ በማለት ታፈሰ አይኖቹን አፍጦ ወተወተ።\\n\\nሀዲስ መልስ አልሰጠውም ። ዝም ። ዝምታ “ 'ፈሰ ዶንግጦ ወዶይ\\nውዋላው ቀስ ብሎ እየሄዴ ፡ «አንተ ሰው ፥ ጤና ቼይዴኝፎሀፆ እንዴ?» ይል\\n\\nሀዲስ አሁንም ታፈሰ ልብ ላይ እንዳነጣ ፡ ኖቼቹ ፈጠ\\nዋል ። ከንፊሮቹ ደርቀዋል ። እጁ በሃይል ተጉቀከቀ፡ ፡ የጨዋቱ ፮፲፩፯፲\\n\\nጩዐጥናው ዞር ሲልለት ፥0 አዲሱ ትምህርት ቤት መጥቶ ከፊቱ\\n\\n«ም -..ምላሙን አትንካው ው\\nሕ.-.-አልጠበቀም ፤ትሰማኛለህ9 . ፣ ” “ዲስ] ትሰማኛለህ? ሽጉ\\n\\n፡አዳጎነፀ እሰማሃለሁ» ኣላዐዐ አይ፦ን ጨፍኖ ።\\n\\n«የሞት ጨዋታ ትዝ ይልሃልነ»\\n“ዊቀልዴን ነበር። እባክህን ጣትሀህን ከምላጨ ላይ አንሳው ”\\n\\nሀሠዲስ የሽጉጡን አፈሙዝ ቀ?\\nኖምር ይሆናል!» ፲፲ሀ፸፲፰፲፭፲፲፲፲፲፲፩፲ኣ ፪፰ ዷኮች ክ።ቅዝቆ ‹ «ጨዋታው አንድ\\nጨለማ ፥\\n\\nመብ ለነጎ፦\\nጉዋድ « ዶፍ ፲፲፲፲፲፲፲፲፱፲በ ፡ ረቅ። ነጎድጉጥድ... -ሌላ መብረቅ “ ለላ ? ,\\n\"},\n",
       " {'page_number': 196,\n",
       "  'text': 'ክፍል ፪\\n\\nሀዲስ ድንገት ከእንቅልፉ ነቃ ። ንቁ ሇኖ ነበር ። እንደ ልሜዱ ከመ\\nዛታው ላይ ቆይቶ በሰመመን እየተገላበጠ ማድፈጥ አልፈለገም ፡ ከመኝ\\nታው ውስጥ ዘሎ ወጥቶ መስኮቱን ከፈተው።ውብ የሆነች የጡዋት ወር\\nቅማ ፀሀይ እጅ ነሳችው ። ጨረሮችዋ እንደ ሙሽራ እድምተኞች እየጨ\\nፈሩ ገብተው ክፍሉን ሞሉት ። ከፀሀይዋ ጋር ሳቀ ።\\n\\nበጭቃ የተለወሱትን ጫማዎቹንና ልብሶቹን በቆሻሻ ሸሚዝ ጠቅልሎ\\nከሳጥኑ ውስጥ ቆለፈበትና አዲስ ልብስና ጫማ አወጣ ። ጢሙን ሷላጭ\\nሁሉ ጠይም መልኩን ከፊት መስተዋቱ ውስጥ እያየ ፈገግታውን መግታት\\nአልቻለም # ከመስተዋቱ ውስጥ ከመልኩ ባሻገር ፤ ወርካው ፤ እንደ ነጎድ\\nትጉዋድ እያጉረመረመ ሲወድቅ ታየው ። የፈንጂውና የነጎድጉዋዱ ጭጨኸት\\nጆሮው ላይ መልሶ አስተጋባ ። ከጨለማው አብራክ ውስጥ ቅፅበታዊ ገሃነመ\\nእሳት በድንገት ብልጭ ብሎ መልሶ ድርግም ሲል ፥ የወርካው ቅርንጫ\\nፎች እንደ ግዙፍ የሌሊት ወፎች ጨለማውን ሰንጥቀው እየበረሩ የትም\\nሲጠፉ ቁልጭ ብሎ ታየው ። ጆሮ የሚያደነቁር ፤ ልብ የሚያሸብር ፥ በሰራ\\nአከላት ፍርፃሃት የሚለቅ ታላቅ አወዳደቅ ነበር ። ከዚያ በሁዋላ አንድ ታላቅት\\nያጥታ በላዩ ላይ ወደቀ ። ከልቡ ትርታና ጀርባው ሳይ ከሚወርደው ገዝናብ\\nሌላ ድምፅዕ አልነበረም ። ወርካው በመውደቁ በዚያ ጨለማ መድረሻ ያጡ\\nአሞራዎች እንደ ጥቁር ቀስቶች በላዩ ላይ ተወርውረው ባለፉ ጊዜ አቤት\\nየደነገጠው መደንገጥ። ልቡ ዘላ ባፉ ልትወጣ ነበር ።--የድንቁርና ዛፍ\\nወደቀ፥፤አለ።\\n\\nጠይም ወጣት ከመስተዋቱ ውስጥ ብቅ ብሎ ሳቀበት ።\\n\\nገረዱ ለቁርስ ፍርፍር ከምራ ስታቀርብለት እንደ ሌላው ጊዜ ወስፋቱ\\nአልተቆለፈም ። አንድ አይነት ጭንቀት ከጥቁር ፥ ጨምዳዳ ፊትዋ ላይ\\nይታይ ነበር ። ምግብ ስታቀርብ አስቀድማ እንደምትቆጣ ስሰሚያውቅ ፤\\n፯ረ፲፲፲ስለአላስቆጣ፲ነዎ ፥ በልቼ ፻፸ስ፲ዬስ፲፲፲፲ፆ፸፩፪፪፲፪፡፰፲ነ በማለት ከፍ፭፶፲ሩቱጋ፪፲ ኸግብት\\nመግጠም እጄጁን ሊሰድ ሲል፤።«።« ወይ ትምህር\\nበርክቶአል» አለ፶፸ ። |\\n\\nጭንቀትዋ ወደ ፍርሃት ተለወጠበት *\\n\\n«ምን ተፈጠረ?»\\n\\nዩእረ ጉድ ነው ። እንዲያው ጉድ ነው=\\n\\nየፊትጥርሶችዋ ረጃጅሞች ስለሆኑ ከንፈሮችዋን መክዶን አትችልም።\\nደምንድን ነው እሱ= አላት ፤ በልቡ ፤ ለካ ጥሩ ተዋናይ ነኝና እያለ ።\\n«ወርካው ወድቆ አደረ አሎ ።2\\n\\n5የቱ ወርካ?ዕ ፶\\n'},\n",
       " {'page_number': 197,\n",
       "  'text': \"196 ሠሀዲስ |\\n«ኤረ ጉድ ነው! እንዲያው ጉድ ነው!!»\\n\\n«ምን ሆኖ ነው!»\\n«መብረቅ መታው ይላሉ።»\\n\\n«ወቸ ጉድ ፥፤*9 እውነትም ይገርማል» አለ * ውስጥ ውስጡን በደስታ\\nእየፈነዶደቀ ።\\n\\nገረዱ በሁኔታው ተገርማ ትክ ብላ አየችው ።\\n«እህም. ..ዛሬ እርጎ የለም እንዴ!» አላት #።“\\n\\nእርጎ ልታመጣለት ወደ ጉዋዳ ገባች ። የሚሰማውን ውስጣዊ ደስታ\\nልመደበቅ  ባለመቻሉ 'በራሱ ተናዶ ራሱን በኩርኩም ገጨ ። ወዲያውኑ\\nበር ሲመታ ሰምቶዱ ተነስቶ ሄዶ ፀበሩን ከፈዯው ። አቶ ጣሴ ደጉ ነበሩ ። ሰው\\nአየኝ ፥ አላየኝ በማለት ወዶደ ሁዋላ እየተገላመጡ ቶሎ ወዴዶደ ውስጥ ዘልቀው\\nበሩን ዘጉትና ፥0 «የሆነውን ነገር ሰምተሃል!»2 አሉት #\\n\\nአይናቸውን እየሸሸ ‹፡ «አዎን ፤ አሁን ሰራተኛዬ ነገረችኝ» አላቸው «\\n\\nይስርየኛኝ ፀሎት  ሰምቶ እግዜር በኛርነቱ ጣለው ልትለኝ ይሆን!?\\nወ ማሩ -\\n\\n «ታዲያ ምን ጣለው ሊባል ነው» አለ ፤ አንገቴን እንዶ ተዋጊ በሬ\\nአቀርቅሮ ።\\n\\nቋሀህም --.- ጉድ ነው እኮ ።ጅ\\n\\n«ምኑ?» አላቸው አንገቱን ቀተና አድርጎ ።\\n=«ጉዶኛ ነህ» አሉት ። .\\n«እንዴት?»\\n\\n«አይ ሀዲስ ። አይዞህ ። አትፍራ ። እንዶ ራሴ ያህል ነው የ“ግ8ውቅህ።\\nካንተ ሌላ ይህን ተአምር ደፍሮ የሚሰራ ሌላ ሰው የለም ። ያንተን ልብ\\nቢሰጠኝ ጥሩነበቦር» በማለት አስተማመኑት ።\\n\\nእሱም ቢሆን ከአቶ ጣሴ የሚደብቀው ነገር ስለሌለ ሀቁን ነገራቸው።\\n\\n«ምስጢሩን የሚያውቅ ሌላ ሰው ብቻህን\\nይዘህ ነው ያደረከው ።>» አለ ወይስ ምስጢሩን\\n\\n«ታፈሰ ብሩ ምስጢሩን ያውቃል»-ብሎ መለሰላቸው\\n\\nአቶ ጣሴ ራሳቸውን በቅሬታ ነቅንቀ ለ\\nበማለት ጠየቁት ። ' ው « «እንዴት ሊያውቅ ቻ\\n\\nታፈሰ ምስጢሩን ሊያውቅ እንዴት እንደቻለ ምክንያቱን ገለፀላቸው*\\n\\nተ ው  እሱ ማወቅ ደግ አይደለም» አሉት ፣ በፀፀት ራሳቸውን ፤\\n\\n«ምን ነው ምን ይሆናል ብለሁ ነው? »\\n\\n«ክቅርብ ቀን ወዲህ ፤ የእሉ ቃ አኾ›\\nጋፎ ሆኖአል» በማለት ነገፋት። ፣ ድርጋ እና ከመቶ አለ\\n\\n«ምን አገናሜቶአቸው?»ቃ\\n\"},\n",
       " {'page_number': 198,\n",
       "  'text': \"፣.ክብመ-።ፌፌፌቲ።።68.... .66፡-፡.\\n\\nብለው ክንፈራቸውን በሀዘን መጠጡና ፥ እንደ ታፈሰ ያለ\\nፅው ሀ ሁ ማስቆጠራ ይቆጨኛል ። የናት ሆድ ዥንጉርጉር ነ፸፲እገዶዷዴ\\nባለው የመምህራንም እድል እንደዚሁ ነው» አሉት ።\\n\\n«የምን ጥቅም?»\\n\\n«ታፊሰ በመቶ አለቃው እየተረዳ ጭሰኞቹን በዚህም በዚያም ብሎ\\nነቅሎ ሊያባርራቸው ይፈልጋል.--» ኛ ፤\\n\\n«እና ፤ እሎስ?ኮ» አለ ፤ ሀዲስ ተጣድፎ ።\\n\\n«እሱ ደግሞ በታፈሰ ተጠቅሞ ፤ የፊታውራሪ ተካን ልጅ ጠልፎ ለመ\\nውሰድ ይፈልጋል.--»\\n\\n«ያቶ ይርጋ ጥቅም ደግሞ እዚህ'ውስጥ ምንድን ነው?» ብሎ ጠየቀ *\\nአሁንም  ነገሩን ለመስማት እየተጣደፈ ።\\n\\n«አጅሬ ደግሞ በሁለቱ ተጠቅሞ አንተን ከዚህ ለማባረር ነው የሚፈ\\nልገው ። ሴራቸውን ሁሉ ደርሼበታለሁ» አሉት ።\\n\\n«ታላቅ ሴራ ነው ። ግን አይሆንላቸውም» አለ ሀዲስ ።\\n«ጥላሁን ደግሞ ካቶ ይርጋ ጋር ተጣልቶአል አሉ።»\\n«በምን ምክንያት?»\\n\\n«ምክንያቱ ምን እንደ ሆነ በውል አልደረስኩበትም ። በጥቅም ተጋ.-\\nጭተው ይሆናል ። ይህ ትምህርት ቤት ያላናከሰው ሰው የለም ። ዊተጣሉ\\nበት ምክንያት እኔ እንደሚመስለኝ ፥* በሃይል ተጠቅመህ ገንዘቡን ለምን\\nእጅህ አታስገባም ብሎ ይሇናል ኣቶ ይርጋ ።»\\n\\n«ጥላሁን ደግሞ በሃይል ለመጠቀም አልቻለም ። ፈስ ያለበት ዝላይ\\nአይችልም ብየህ የለምን? ለማንኛውም ነገር ያንተም ሆነ የኔ ህይወት አደጋ\\nላይ ነው ያለው» ካሎ በሁዋላ * በሠሆን ተውጠው ሲያስቡ ቆዬና ፥ «አንተ\\nንም ፍቅር እንዳያታልልህ እሰጋለሁ» አሉት ።\\n\\n«የምን ፍቅር?»\\n\\n«ለአይናለም ያለህ ፍቅር ። ሱጴ ተደረገ የተባለ ነገር ቀርቶ የድተፈሳም\\nኣያድርምቺ የሆነ ሆኖ ልብህ ወዴ ፰ዖሀርት ቤቱ ስራ በመመለሱ\\n\\nዶስ ብሎኛል» አሉት ፥ ጭንቅ ‹ እያላቸው ።\\nያ መከረኛ ሳል ሊነሳባቸው ይተናነቃቸዋል ።\\n\\n«በል ኣሁን ነገር ልምክርህ» አሉትና ረጋ ብለው ምክራቸውን\\nከለዝሱኑት በሁዋላ ፥፤፤ዴ አመጣጣቸው ሁሉ ሰው አየኝ ፤ አላየሜ በማለት\\nእየተገላመጡ ወጥተው ጄሄዱ ። ሀዲስ ትንሽ ቆይቶ እንዴ መከሩት ፊታው\\nሩሪ ቤት ለመሄድ ተከትሎአቸው ወጣ #\\n\\n፡ ን ሞቅ አለው ። ይነፍስ የነበ\\nቀኑ መስከረም የጠባ ይመስላል ፲ነ፫፲ር፲፲ #ጭቃው ግን አይጣል--አያ\\n\\nረ<ው ቀዝቃ መጥ\\nራምድም።ሁችም መንገድ እየመረጠ ለመራመድ ጥረት አያዴርማም ነበር ።\\nንታ አልነበረውም ።\\n\"},\n",
       " {'page_number': 199,\n",
       "  'text': '198 #ዲስ\\n\\nጓ\\n\\nሰዎች ክየአቅጣጫው ወድ ትምህርት ቤቱ ይሮጡ ነበር። ሱጴ ላይ\\nያን ቀን ጡዋት የቡና ጀጄበና የተጣደ አይመሰልም ። የትምህርት ቤቱ አካባ\\nቢምእንደ ደራ ገበያ በሰው ብዛት ተጥለቅልቆ በታየው ጊዜ ፤ የወደቀ\\nውን ወርካ ከበው የሚባባሉትን ነገር ሲያስብ ብቻውን ይስቅ ነበር፡፡ አቶ\\nይርጋ በዚህ ወቅት ምን ያስቡ ይሆን የሚል ጥያቄ ድንግት ብልጭ አለ\\nበት። ምን ያስባሉ? ጠርጣሪ ናቸውና ቢጠራጠሩስ ምን ማስረጃ ሊያቀርቡ\\nይችላሉ? ከታፈሰ ሌላ እኔ የማውቀውን ማን ሲያውቅ ይችላል - --መብረቅ\\nመትቶ የጣለው ወርካ ... በማለት እንደዴ ገና ብቻውን ይስቅ ጀመር...\\n\\nሀዲስን ብቻውን የሚያስቀው ነገር ምን እንደ ሆነ ቶሎሳ አልገባ\\nውም ። ተገርሞ ይመለከተው ነበር #\\n\\n«አይናለም ዛሬ እንዴት ናት?»\\n\\n«በጣም ዴህና ናት ። ልክ እንዴዶ ዱሮዋ የቤቱ ምሰሶ ሆናለች ። ፊታው\\nራሪም ዶስ ብሎአቸው ፈጣሪን እያመሰገኑ ይህንኑ አሁን ለመምሩ ሲያጫ\\nውቱዋቸው ነበር» በማለት መለሰለት “\\n\\n«ፊታውራሪ የት ሊሄዱ ነው የተነሱትጋ» ብሎ ጠየቀቆው ፥ ተጭና የም\\nችትጠብቀውን በቅሎአቸውን አይቶ።\\n\\nርወደ ትምህርት ቤታችሁ...»\\nሀዲስ ቶሎ ነቅቶ ስሜቱን እየተቆጣጠረ፡፥ «ለምን?» ሲል ጠየቀው ።\\nእንዶ ገና ትዋኖይ ሆነ ።\\n\\n«አልሰማህም እንዴ!»\\n«ምን?» አለው እንደማያውቅ ሆኖ “\\n\\nቶሎሳ በነገሩ በጣም በመገረም ስለ ወርካው መውዴዶቅ እየነገረው\\nወስዶ ከእልፍኝ አስገባው ። ፊታውራሬ ለመውጣት ተነስተው ነበር *\\n\\nበነጭ የሀገር ልብሳቸው ላይ የደረቡትን ጥቁር ካባ ክትከሻቸው ሳይ\\nአስተካከሉና፡«ከትምህርት ቤቱ ግቢ አቅራቢያ ያለው ወርካ ምን ሆኖ ወዶቀ\\nይላሉ?» አሉት ።\\n\\n«<መብረቅ ነው የጣለው ይላሉ!»\\n\\n«ታሪክ ነው። ምን ምልክት ሲያሳየን ን በሜ\\n“ብን ጊገዜ ዬ-=- ይሆን» በማለት ራሳቸው\\n\\nመምሩ ከጠዋት ድጋማቸው ላይ ቀና ብለው ጥሩ ምልክት\\nአለ ብለሁ ነው ። ኤሱ ያመጣውን እሱው ይ፪፯ል፺፯፪፰ሉ ።\\n\\nፈሰሰበት ። መክብብ እንዶ አረመኔዎች አይገባም\"\\nቀናተኛው ናራ::.-እ.ል አምላክ ይቆጣል፩፤፰፰ነፎ፪ ፰፲፲፲ስ፲፴\\n'},\n",
       " {'page_number': 200,\n",
       "  'text': '- ፡ ሠዲስ 199\\n\\nመምሩ ከድጋማኛቸው ላይ ቀና ብለው የሆነ ድምፅ አሰሙ\\nለም ሲነሳባቸው ዶስ አይላቸውም = . ..፡\\n\\n«እርስዎስ * አይሄዱም ወይ?»\\n«ድጋሜን አልጨረስኩም ።5\\n\\nመምሩ ጭቃ አይወዱም። ዝናብ ጠብ ካለ ከቤት አይወጡም።፡\\n«ምን ምልክት ሊያሳየን ይሆን!» አሉ ፊታውራሪ እንዴ ግና ።\\n\\n«በቦታው ላይ ቤተ ክርስቲያን አቁሙ ማለቱ ሳይሆን አይቀምር ።\\nመቼም የሱ መንገድ ረቂቅ ነው» አሉ መምሩ ፥ እንደ ገና ከድጋማቸው ላይ\\nቀና ብለው ።\\n\\n«/ለው መቼ አነሰና! ሰዉ እንደዶ ሆነ ለክርስትና፤ ለሰርግ ወይም ለቀ\\nብር ካልሆነ በቀር ወዶ ቤተ ክርስቲያን መምጣት ትቶአል ። ተጨማሪ\\nቤተ ክርስቲያን ምን ያዶደርጋል ብለው ነው? ሃይማኖት ቀርቶ ወግና ሥር\\nአት ሃይማኖት የሆኑበት ቤተ ክርስቲያን ። ጥንት ቲያትር ቤቶች እንደ ቤተ\\nክርስቲያን ይቆጠሩ ነበር ። ዛሬ ነገሩ የተገላቢጦሽ ሆኖ ቤተ ክርስቲያናት\\nቲያትር ቤቶች ሆነዋል\" ይል ነበር መክብብ፤ ነፍሱን ይማረውና» ሕሉ ፊታ\\nውራሪ ለመሄድ እየተነሱ ።\\n\\nመምሩ ሌላ የተቃውሞ ድምፅ አሰሙ ።\\nሀዲስ ፈገግ ብሎ ፥«ምልክቱ ምን እንደዶ ሆነ ገብቶኛል>» አሰ =\\n\\nየቄርጓዮጅ እኮ አንዳንዴ ይገለጥለታል። ምንድን ነው?> ብለው ፌሬታውራሪ\\nጠ ።\\n\\n«አዲስ ትምህርት ቤት በቦታው ላይ ይሰራበት ማለቱ ሳይሆን አይቀ\\nርም ። ቦታውን በልቤ ትመኝቼው ነበር» አላቸው #\\n\\nራፊታውራሪ በነገሩ ተገርመው ትኩር -ብለው ሲመለከቱት ቆዩና #«\\n«የሱን ተአምር ማን ያውቃል» ብለው ለመሄድ ተነሱ ።\\n\\nሀዲስ ተክትሎአቸው ወጣ ። ያለ ማንም ርዳታ ከበቅሎአቸው ላይ\\nክለው ወጥተው ኮርቻው ላይ ጉብ አሉ ። ሀዲስ ክግቢ ከመውጣቱ በፊት\\nበመነመነ ተስፋ ፊቱን ወዶ ቤት መለስ አዴረገ ። መስኮት ላይ ቆማ ነበር--\\nጊ ለም [! የጠዋት ፀሀይ ፊትዋ ላይ ታበራ ነበር ።ፀሀይዋን የምትመለ\\nነ ትመስላለች ። ፀሀይዋም በቀጥታ እስዋን የምትመለከት ትመስል\\nዱኗ፦ ስቃ ይሆን? እርግጠኛ አልነበረም ። ቶሎሳ ባይኑ ይከተለው ስለ ነበረ\\nብሎ አይኑን መስበር ነበረበት ።\\n\\nራታውራሪ ከክግቢ ሲወጡ የተክተሉዋቸው ጠብ .መንጃ ያነገተ አንድ\\nሰተቕግና ቶሎሳና ሀዲስ ነፎረዬ ። ሀዲስ በዚያ ጭቃ ከበቅሎዋ እኩል ለመሮጥ\\nሮ ነበር ። አንድ ግጥም ትዝ አለው ፦፦\\n\\nምኒልህ\\n\\nምን ነው ምናልንህ\\nበገዝበሬ ሰዶደድክበት አውሬ\\nካውሬም አውሬ\\n'},\n",
       " {'page_number': 201,\n",
       "  'text': '200 ሠዲስ ፲\\nዱጉ መቶ ታምሳ\\nገባሩ ሰላሳ ።\\nማንን ሊያዙ\\nዱጎች እንዲህ በዙ\\nለስንቱ ዱግ\\nችዬ ላደግድግ\\nለመቶ ታምሳ ጌታ\\nስታጠቅ ስፈታ\\nነጠላዬ\\nአልቆ በላዬ\\nማር ስሰፍር\\nምን ጊዜ ልቆፍር\\nክዳኛ እግር\\nሳልለይ ዘወትር\\nከበቅሎ እኩል\\nሲያሮጠኝ ይውላል ።\\n\\nፊታውራሪን የሚያጅቡዋቸው ለሰዎች ቁጥር ቀስ በቀስ እየጨመረ\\n\\nፊታውራሪ ባጀባቸው ከመዶስሰታቸው የተነሳ አዲስ ህይወት ዘር፲፲ያ፲፰\\nከኮርቻቸው ላይ ግዙፍ እየሆኑ ከመሄዳቸውም ሌላ ፥ እጅ አነሳሳቸው ፋ\\nተለውወጦ እንዲያው ግርማ ሞገስ ጩምሮ ነበር ። «የሰው ክብሩና ግ\\nሞግሱ ሰው አይደለም ወይ» የሚሉት ሀሆዲስን ትዝ አለው።\\n\\nት\\n\\nክትምህርት ቤቱ ሲደርሱ ልክ እንዳሰበው ምድረ ግቢው በሰዕው ብንፈ\\n\\nተጣቦ አገኘው ። ምድረ ግቢው እንዴ ደራ ገበያ ያጉረፀፀፎመያልዖሀፃል ።\\n\\nወራጅ ወንዝ ይንሹዋሹዋል ፤ አንዳንዴም እንደ ንብ መዓጋ ያ ጣሰ ቾኦ\\n\\nሀዲስ አላስችል ብሎት ፥ ትከሻ ለትከሻ ገጥሞ የቆመውን ህዝብ እየ ዓዘርሮ\\n\\nይንቱ ከሚታይበት ቦታ ላይ ብቅ አል ። ታላቁ ወርካ እንዴዶ ጎልያድ ዝኔ ከሱ\\nታየው ። ሆኖም አይኑን የማረክው ሌላ ኝገር ነበር ። መቶ አለቃ ኮ\\n\\nይረ\\nሎች ፖሊሶች ጋር.ሆኖ ቦታውን እየዞረ ቧ8ጥንቃቄ ይፈትሽ ነበር ፆ ኦቕሡፃ\\n\\nመያስቀይመጠና ይክተሉታል --- የእብድ ነጋሪት የሚመስለውን ቦሮመጓሩት፤\\n'},\n",
       " {'page_number': 202,\n",
       "  'text': 'ሀዲስ 201\\nሊ\\n\\nእንዶ ዮሀንስ መጥምቁ ቆዳ ያሸረጠ ፥* እየተጎናዘለ ከትከሻው ላይ የሚወ\\nርይውን ጠጉሩን በቀይ ሻሽ ሸብ ያዶረገ አንድ ጠብደል ባህታዊ ድምፁን\\nከፍ አድርጎ * «መአት መጥቶባችሁአል ። እግዚኦ በሉ ። የያሆጢኤታችሁን\\n\\nይሰግዱ ነበር ።\\n\\nፊታውራሪም አንጋቾቻቸውን አስከትለው በህዝቡ መካከል እየት\\nዘዋወሩ እጅ ያስነሱ ነበር ። የህዝቡ አይን እንዲያርፍባቸው የሚፈልጉ ይመ\\nስላሉ ። ሆኖም ባህታዊው የህዝቡን ቀልብ እየተሻማቸው ስላስጭገራቸው\\nጳሳይሆን አይቀቅርም አልፎ አልፎ ክፉኛ ይመለከቱታል ። ባህታዊውም ውሌ\\nይዞልኛል ፤ ሰው ሰምቶልኛል ፤ ውሌ ከሰጠኝ *፤ ቦታ ከተመቸሜ በማለት\\nየባሰውኑ ድምፁን ክፍ አድርጎ ያንኑ በመዶደጋገም ይጮህ ስለ ነበረ ፊታው\\nራሪን ልብ አላደረጋቸውም ።\\n\\n-ምናባቱ ይሆን የሚያወራው አለ ሀዲስ ። ታፈሰ ከመቶ አለቃ አሽኔና\\nከአቶ ይርጋ ጋር አፍ ለአፍ ገጥሞ ሲያወራ ድንገት ከሩቅ አይቶት ። የሰው\\nነቁቱን መወራጨትና የእጆቹን መወናጨፍ ሲመለከክቴ የተጋጋለ ክርክር የገ\\n\\n«ኦ ! አንተ ነህ እንዴወ» ብሎት ራቅ አለው።\\nሀዲስ *ቀውሌ\" አጠገብ መቆም አይወድም ።\\n\\nአነ ቁልቁል እያየው ፥* «ፀሎትህ የተሰማ ይመስላልጋ ፥* አለው በምፀታዊ\\nጋገር ”?\\n\\n«የመላኩ ገብርኤል ሰይፈ ነበልባል ተአምሩን ሰራ ። ተአምር ኢያ\\nልቅ» አለ ።\\n\\n«ከሰው የበለጩ ተአምራዊ ነገር አለ ብለህ =»\\n\\n«ምን ለማለት ነው?ውወ .\\n\\n«በፀሎት ወርካ ፈንግለህ የምትጥል.---»\\n\\n«ቅንጣት ታህል እምነት ጋራ ታፈርሳለች ይባል የለ» ኣለው “\\n«እና ብዙዎቻችን ደ”ሞ የሚጎ”ለን ይኸው ነው ።=\\n\\n«ልማለት የምትፈልገው ነገር አልገባኝም ።>\\n\\nታወ።፡።፭ተ የምታውቀውን የማላውቅ መሰለህ? እኔ የማውቅውንም አንተ\\n-..ጅ\\n\\nፍእኔ የማውተቀውን አታውቅም ፤ አንተ የምታውቀውንም አላውቅም ።\\nእላውቅም › አታውቅም ፡ አናውቅም ?>\\n'},\n",
       " {'page_number': 203,\n",
       "  'text': '202 ሆዲስ ፡ 9 ፍ\\n\\n«ምን አስቆጣህ ታዲያ?» |\\n\\n«ተቆጣሁ እንዴ!?» ሲል የራሱን ድምፅ ሰማ =\\n\\nሰው-ውታሉ ፀጥ ብሎ ነበር ። ደንግጦ ዞር ሲል ፊታውራሪ ከባህታዊው\\nጎን ቆመው-አየ ። ሁሎም እንደ እሱ ይመለከታቸው ነበር ። ምን ሊያደርጉ\\n: ይሆን? በማለት ሲያስብ ንግግር ማድረግ ጀመሩ፦--\\n\\n«ስማኝ የሱጴ. ሰው ። አሁን አባ መርቆርዮስ ያሉትን ሰምተሃል «\\nግን “እግዚኦ? ማለት ብቻ አይበቃም ። አድባሩ የወዶቀው እንዲሁ ያለ ምክ\\nንያት አይዶደለም.-.»\\n\\nሀዲስ ጆሮውን አቆመ ። መላ ሰውነቱ ወደዶደ ጆሮ ትለውጦ ነበር ፡:\\n\\nፈፊታውራሪ ቀጠሉ «#-«ያለ ምክንያት እሳት ክሰማይ ወርዶ አድባር\\nአይመታም ። ምልክት ነው ። የሰማይ ጌታ ፈቃድ ምልክት ነው-ጋ\\n\\nሀዲስ እንዳሰበው ስለ ሆነለት ውስጥ ውስጡን በደስታ ይፈነድቅ ነበር።\\n=--አይ -አቶ ጣሴ አለ! በልቡ ፤ ዘዴአቸውን እያደነቀ ።\\n\\nቀውሉሌ ፤ ጎንበስ ብሎ በጆሮው፤ ኗእንዲህ አይነቱን ነገር ስሰማ-በሃ\\nያኛው ምእተ አመት ሁለተኛ አጋማሽ ዘመን ላይ ያለን መሆናችን ያጠራ\\nጥረኛል» አለው ።\\n\\n«እሽሽ» ኤለ ሀዲስ ትእግስት አጥቶ “\\n\\nፊታውራሪ ይቅጥላሉ ፤ «አዎን ፤ የፈቃዱን ምልክት ሲያሳኖየን ነው ።\\nማሣን የሚሰጠንን ምልክት አናይም ፤ አንክትልም ፤ ፈቃዱንም አንፈፅምም #\\nልባችን ታውሮአልና ነው ። ልባችን ስለ ታወረ ጥንት ለእነ አብርሃም ፤\\nለእነ ሙሴ በቀጥታ ይገለጥ የነበረው አምላክ ዛሬ ርቆናል ። ሆኖም ፍቅሩን\\nአልነፈገንም ። በሚያሳየን ምልክት ወዶ ፍቅሩ ምንጭ እየጠራን ነው ፆ*\\nአኤድባሩን በእሳቴ የመታው ስታስቡት ለምን ይመስሳችሁአል? ፈቃዴን\\nፈፅሙ ሲለሰን ነው ።»\\n\\nቶሎሳ አንድ ነገር በጨርቅ ይዞ መጥቶ ሰጣቸው ። በእጃቸው የያዙ\\nትን ነገር ክፍ አድርገው ለህዝቡ ያሳዩ ጀመር ። ድንጋይ ነበር የያዙት ፆ\\nየሀዲስ አይን ተጎልጉሎ ሊወጣ ደርሶ ነበር ። ህዝቡ የባሰውኑ ፀጥፕ አሰፆ\\n\\n«ምን ሊያዶደርጉ ይሆን? ቋ ቀው\\nእሽሽ ።» . እሚበር .\\n\\nፊታውራሪ ይቀጥላሉ ፡ «ምንድር ነው ፈቃዱ? ምስጢሩ ስው‹ ስ\\n፲ ንግዲሀ\\nዶለም ። ብሩህ ልብ ካለን ምስጢሩ ግደፅ ሆኖለታዘይችላለ፲ዬትእጎ\\n\\n4 ሳታውቁት\\n፰፲፲፲፲፰፲የ፪ግዶለፀምእዚሁ በቆምኩበት ማቃዉላይ ከዚው ወርካ ላይ\\n'},\n",
       " {'page_number': 204,\n",
       "  'text': \". ህዲስ 203\\nሁሉም ክንፈሩን ይመጥ ጀመር ። ዴደመናው ሸሽቶ ፀሀይ ብቅ አለች።\\n\\nፊታውራሪ ይቀጥሳሉ ፥ «አምን ስም ያለው አይሞትም ። ለማንኛውም\\nር ይዞ የተቀደሰ ቦታ ለተቀደሰ ነገር ለመመረጡ እ፰ዖኗኖነ፹፣ተነሳ\\nት አላማ የተባረከ ለመሆኑ እሱ በተአምሩ ከላከው እሳት የበለጠ\\nዎልክት የለም ። እኔም ላዲሱ ትምህርት ቤት ክዳን የሚያስፈልገውን ቆር\\nቆዕ ሀሉ እሰጣለሁ ። ገንዘብ ያለህ በገንዘብህ ፤ ጉልበት ያለህ በጉልበትህ ፤\\nውቀትያለህ በእውቀትህ ተረዳዳ ። የአሱ ፈቃድ ነውና>» ብለው ፥ ይዘውት\\nየነበረውን.ድንጋይ ከፍ አድርገው ለህዝቡ ካሳዩ በሁዋላ ፤ ወርካው ከተነ\\nቀለበት * አፉን እንደዶ መቃብር ከክፍቶ ከሚታየው ጉድጉዋድ ውስጥ ጣሉ\\nትና ድምፃቸውን ክፍ አኤድርገው ፤ «ይህ ቃል ኪዳናችን ይሁን !» በማለት\\n\\nጮሁ።\\n\\nበቦታው የተሰበሰበው ሰው ሁሉ ወደ ጉድጉዋዱ እየሄደዶ በእጁ የያዘ\\nውወን ድንጋይ አንድ ባንድ ይጥል ጀመር ። አቶ ይርጋና መቶ አለቃም አል\\nቀሩ ።ታፈሰ ትልቅ ድንጋይ ይዞ ወደ ጉድጉዋዱ ሲሄዱ ከሩቅ አየው---\\nሀዲስ። ተአምር አያልቅም አለ በልቡ እሱም ድንጋይ እየፈለገ ።\\n\\nየተሸከመውን ድንጋይ ከጉድጉዋዱ ጥሎ ሲመለስ ፊታውራሪ በም\\nልክት ጠሩትና ፤ «እንግዲህ በርታ ። ፈጣሪ ምኞትህን ባርኮታል ። እግዜር\\nይርዳህ» ብለው መረቁት ።\\n\\nምርቃታቸውን እጅ ነስቶ ተቀበለ ። ታፈሰ ከፊታውራሪ አጠገብ ቆሞ\\nነበር።አቶ ይርጋና መቶ አለቃ ራቅ ብለው የጎሪጥ ይመለክቱታል ። ታፈሰ\\nእየተጣደፈ ወዴ ሀዲስ መጣና * «ትልቅ ስራ ነው የኖሰራኽው> አለው ።\\n\\n-«ምን ነበር-የሚሉህ?» ብሎ ሀዲስ .ታፈሰን ጠየቀው ።\\n«እነ ማን?>\\n«እነ አቶ ይርጋ ።»\\n\\n«እነሱ ! አዎፍመብረቅ ዛፍ እንዴት አድርጎ ክስር ፈንግሎ ሲጥል ይች\\nላል? ባይሆን ክላጳይ፡ ሁለት ላይ'ሰንጥቆ እንዶሆነ ነው እንጂ እያሱ ነበር የሚ\\nከራከሩኝ» በማለት ጥያቄውን መለሰለት ። |\\n\\n«ምንመልስ ሰወሃቸዋ፡ ታዲያገ?ገ»\\n\\n«አሁን እሱን ተወውና ፤ ይልቅ ፊታውራሪ ያደረጉትን ንግግር በደዶ\\nንብ አዳምጠሃል?» ብሎ ጠየቀው = . |\\n\\n«ኢአዎ ።\\n«ጥያቄዬ አልገባህም ። በተለይ ስለ\\n«አዎ 0 እሱንም ሰምቻለሁ “»\\n«ታዲያ ምን አሰብክ!?»\\n\\n' ፍምንም ። ምን አስባለሁዑ “»\\n\\n«ስማ ት\\nቱዎዴጧጤ ሀዲስ ። አዲሱ ትምህር\\n\\nአባቴ የተናገሩትን ማለቴ ነው ።»\\n\\nቤት ባባቴ ስም ፅ፲፰፲፪፰ አለበት «\\n፤ . መ ው።መሬ\\nነው እንድታስብበት የምፈልገው ፀሯዮፓኚፃበቕት ይገባዋል» አለ\\n\\n- መጠ\\nየጾሩዷሀኗን ንብረቱ ነው ። የስሙ መሙ/\\n\"},\n",
       " {'page_number': 205,\n",
       "  'text': \"ሺ ..ቪ...በከከከከ ሽ\\n«በዚህ ላይ ውሳኔ ልሰጥ አልችልምጋ አሉው ፍርጥም ብሎ.«\\n«ለምን?ጅ\\n«ጊዜው ሲደርስ ህዝቡ ይወስናል ።»'\\n\\n«የቱ ህዝብ1?ጅ ]\\n«ገንዘቡን ያዋጣው ህዝብ ።»\\n\\nታፈስ በሳቅ ፈነዳ ። ከት ብሎ ሳቀ ። ሳቁን የሰሙ ሰዎች ወደህሀ\\nታፈልሷ ይመለክቱ ነበር ። ታፈሰ ሳቁን አቆመና * «ፍሌቪሺሁ ብለህ ህዝቡ ድምፅ .\\nእንዲሰጥ ልትጠራ ነዋ» ብሎ አሁንም ሳቀበትና ፥* «ወይስ ያባቴ ስም መነ\\nሳት የለበትም ለማለት ነው!» አለ ግንባሩን ቁዋጥሮ ።\\n\\nሀዲስ ገልመጥ አለና ፤ «ቀስ በል ። አትሙህ ። እኔ ያባትህ ስም መነ\\nሳት የለበትም ማለቴ አይደለም ። ለኢትዮጵያ ጀግኖች አክብሮት -.አለኝ ።\\nግን የኔ አላማ በህዝብ ገንዘብ ያባትህን ስም ለማስጠራት. አይደለም ። ይህ\\nእንዲገባህ እፈልጋለሁ ። *ወጡ ሳይወጠወጥ ወስክምባዩ ቂጥ አለ”? እንዲሉ፥፤\\nትጉሰርቶ ሲያልቅ ብንነጋገርበት ይሻላል # አሁን ምን ያጣላናል ። ያኔ ህዝቡ\\nየፈለገውን ይወስናል» አለ ።\\n\\n«ታያለህ[ በማለት ዛተበት ።\\n«ምን ልትሆን!»\\n«ቆይማ ። ታያለህ ። ታፈሰ ምናለ በለኝ---»\\n\\nሀዲስ ተናዶ.ወዶ ታፈሰ ጠጋ ኣለና በለሆሳስ ፥ በወርካው አወዳ\\nዶደቅ ልትወነጅለችኝ አስብህ ከሆነ ነገሩን ካሁኑ ብትረሳው ይሻላል ። ሁለታ\\nችንም አንገታችን ድረስ የተዘፈቅንበት ጉዳይ መሆኑን አኤትርሳ ። አሳቡን\\nያመነጨኽኸውና ፈንጂውን ያመጣኽኸው አንተ ነህ ። ሌላም የማውቀው\\nብዙ ነግር አለ» አለው በደመ በራድነት ።\\n\\n«እንዶ ምን ያለ ነገር!»\\n\\n«አባ ቆሮ እና አባ ዋሴ የሚባሉት ሰዎች ትዝ ይሉሃል ?» አለው በጆ\\nሮው ።\\n\\n«ትዝ አይሉኝም ። ማን ናቸው?ጅ\\n\\n«ሰዎቹ ማን እንደ ነበሩ ብታስታውስ ጥሩ ነው ። በግፍ የፈሰሰው ዶማ\\nቸው ይጮሃል ። መሙኸቱ አሁን አይሰማህም ወይ!%\\n\\nታፈስ ጥርሱን ነክሶ አፈጠጠበት ። ሰው ል\\nይርገፊገፍ ነበር ። ነቱ በንዴት እንዴ በጋ ቅ\\n\\nሀዲስ አሁንም ወደ ታፈሰ ጆሮ ጠጋ ብሎ፥፤ «ስማ ታፈሰ» አለ፥ «ዕፆዶ\\nነገር አዴርጋለሁ ብለህም አታስብ ። በህ ሀርት\\nቤት ስራ በምንም ሁኔታ አይቆምም ጨ ፣ ያለሁ የዚህ ትም\\n\\nታፈሰ ንዴቱን እንዶ ምንም እየተቆጣጠረ ፥ «እናያለን! ግን ፀያዐደ\\nክም ጠላህም ይህ ትምህርት ቤት ባባ እናያ ብ\\nመራራ ሳቅ ሳቀበትና ከፊቱ ዞር አለ'ወ - ጥጆዶ ። ታያለህ 9»\\n\"},\n",
       " {'page_number': 206,\n",
       "  'text': \"ፀረፊዲስ 205\\nፖጊ\\n\\nተሰበሰበው ህዝብ አሁንም ጉድ ነው እያለ እንዶ ጉንዳን ዴይተራመ\\n] ፲የኦ፲፲፲ መቶ አለቃ አሽኔን በአይኑ ሲፈልግ አጣቸው ። ሁለ\\nቴም የሉም ። ከዚህ ቀደዶም አይቶት የማያውቀው አንድ ፖሊስ ነበር ቆም\\n\\nየሚያነጋግረሩው ። ሀዲስ ቀውሌን ፈልጎ አገኘውና ፤* «ይህ ፖሊስ\\nከየት መጣ? ክዚህ በፊት አይቼው አላውቅም> አለው ፤ በሌባ ጣቴ ወዴ\\nፖሊሱ እያመለክተው ።\\n\\n«አዲስ የመጣ ፖሊስ ነው ። ወታደር ጎይቶም ይባላል ። አንዳንድ\\n\\nአሁን ገና ደህና ፖሊስ መጣልን እያሉ ስለ እሱ ያወራሎ። የያዘውን\\n\\nነገር ቢሞት አይለቅም ይሉታል ። እንደ ሰማሁት ከሆነ ካሁኑ ከመቶ አለቃ\\n'አሽኔ ጋር በስራ መጋመጨት.ጀምሮአል» አለው ወዴ ታች እያየው ።\\n\\nሀዲስ ከቀውሌ ራቅ ብሎ ቆመ ። አቶ ጣሴ ደጉ ትከሻውን ነካ አድ\\nርገውት ዞር ሲል * «ዘ8ዴአችን ሰራ አይዴለም ወይ?» አሉት ።\\n\\n«ጥሩ አድርጎ» አላቸው ።\\n\\n«አዎ፤የሰውን ስነ ልቦና ማወቅ ይጠቅማል» አሉትና ገልመጥ እያሉ\\nኩተ፡ዷከቱ በሁዋላ *ቆ ናያ መናጢ ም እያለ ነበር ባማሜቕሜጨቀጭቅህ» ሲሉ\\nጠየ ።\\n\\nታፈስ ክፊታውራሪ በስተጀርባ ራቅ ብሎ ቆሞአል ። በቀሼኝ ኣእጁ ቡጢ\\nጨብጦ የግራ እጁን መዳፍ እየዴጋገመ ይመታል ።\\n\\nይጨቃጨጩቁበት የነበረውን ጉዳይ እና ዋሰጠውንም መልስ ንገራ\\n።\\n\\n«ደግ አደረክ> አሉ አቶ ጣሴ + መልካም ቢያስብና ቢሰራ ያባቱን ስም\\nበተሻለ ሁኔታ ያስጠራ ነበር ። ግን አልታዶሉም ። ባለጌን ካሳዶገ ዮጋይለ\\nፀደቀ ።ያደረግውን ሰምተሃል?>\\n\\n«ምን አዴረገ?>\\n\\n«የሰው ልጃገረድ አበላሸ ። እሱ ብሎ ላባቱ ስም አሳቢ! ፊታውራሪ\\nአሁን በማነጋገር ላይ ያሉት የልጅትዋን አባት ነው---»\\n\\nሀዲስ ወዴ ዴታውራሪ ዞር አለ ። አንድ ገበሬ ክፊታቸው ቆሞ ፊታው\\n። አስሬ እጅ ይነሳል ። አፈር እየዘገነ ይበትናል ። ርጥብ ሳር\\nእየነጨ ይበትናል #\\n\\n«ምናለ በገንዘብ ይታረቃሉ>» አሉት አቶ ጣሴ ።\\n\\nሀ ፊታውራሪ ጠጋ አለ ። ወዲያውኑ ቶሎሳ\\nኣየተጣ፤፪ ፄ።ኙፄሟነጁዴዬውታበፀሼፈን 0 በፊታውራሪ ጆሮ አንድ\\nካገር ሹክ አለ ። ፈታውራሪ ድንግጥ ሲሉ አያቸው ። ካባቸው ከትኳሻቸው\\nኋይጋ ወደቀ። ራሳቸውን ያዘዙ ። ታፈሰ ሮጦ ዴግፎ ያዛቸው ። ሀዲዷስ ባፍበልጥ\\n\\nኣለ «\\n\"},\n",
       " {'page_number': 207,\n",
       "  'text': '..ከ ሚ ሚበሸ\\n=ሙቼ ነ ው!» ፅሉ ይታውራሪ ።\\nሀዲስ ጆሮውን አቆመ ።\\n«አሁን ነው» አላቸው ቶሎሳ ።\\n\\nሰው ሁሉ በፊታውራሪ ሁኔታ በመዴናገጥ * «ምን መጣ ምን ሆኑ»\\nእያለ ዙሪያቸውን መሰብሰብ ጀምሮአል ።\\n\\n ፍወላዲትዋ ምን ነው ምን አልኩሽከ» አሉ ፊታውራሪ እንዴገና ራላ\\nቼቹውኃ ይዘው ።\\n\\nልቡ ተ+ተሸበረ--ሀዲስ ። ብዙም አልተጠራጠረም ። ነገሩ ምን እንደ\\nሆነ ገባው ። «ኗጠለፉዋት አይደል!ሀ አለ።\\n\\nፊታውራሪ ባንዳፍታ ዯልውጠው ጃጅቶ ሊወድቅ የደረሰሴ ሽማግሌ\\nመሰሉ ። ታፈሰና ቶሎሳ ደግፈዋቸው ወደ ታፈስ መኪና ወሰዱዋቸው ።\\n\\n«ጉድ ሆንኩ ። ወይኔ ! በገዛ እጄ እጄን ቆረጥኩት !» ይሉ ነበር፦\\nራታውራሪ .።\\nመኪናዋ አንዴ አጉዋርታ ፤ ጭቃ እየረጨች በረረች #\\n\\n«ምን ሰምትው ይሇሆን?ገ» አለ ቀውሌ በዚያ ቁመቱ ሀዲስ ላይ እንደ\\nጭላ እያንዣበበበት ። *\\n\\nሀዲስ ራቅ እያለው ፣ «ምን አውቄ» አለው ።\\n\\n<መፎዶ ያሰሙ ይመስላሉ.›-›»\\n\\n«ክከመርዶም መርዶ ሊሆን ይችላል» ብሎት ፡ ጥሎት ሮጠ ። ወዴት\\nእንዴሚሮጥ አያውቅም ነበር ። ግን ትንፋሹ እስኪቆረጥ ድረስ ነበር የሚ\\nሮጠውጮ ። , -\\n\\nህይወት---አጭር---ሩጫ---ናት...-ፍጥ..-ፍጥ›:.-ሩጭ. › ሩጭ--ማን\\nወዴት? የዝናሽ ቡና ቤት በር ከውጭ በሰረገላ ቁልፍ ተቆልፎከአል ። የተ\\nዘጋ በር ። የተቆለፈ በር ። የተዘጋ ፥ የተቆለፈ ህይወት ። በሩን በሃይል ደ0\\nዶበው ። አቤት የሚለው አልነበረም ። ቁና ቁና እየተነፈሰ የ\\nበር-ተዶግፎ ቆሞ ሳልለ ቅልጥ ያለ ኡኡታ ስማ ። ጆሮውን አቁሞ ያዳምጥኖ\\nጀመር ። እሱ ከሚኖርበት ቤት አቅጣጫ ነበር ኡኡታው-የሚመጣው ፆ\\nያው የተለመደው ዱላ ሳይሆን አይቀርም ብሎ ዝም አለ ። ክጠጅ ቤት ወጣ\\nብሎ በጠገበ-ዱላ አፍት ላሳናት መፋለጥ በሱጴ እንግሣዳ ነገር አልነበረም *\\nኡኡአውም .ቢሆን የተለሌመደ “ሙዚቃ\" ነበር ወ . ኗ |\\n\\nበሩን በቡጢ ገጨና ፥ “እርግጠኛ ነኝሜ 0፤ ጠል ስዶአታል ?\\' አለ።ፆ\\n\\n“ሇ! እሱ እኮ ሲፈጥን ከአይን ይቀድማል ፥ ፎላትቺ፡የጩ ሰው ዷጌዲ እያሉ\\nአንዳንድ ሰዎች ስለ መቶ አለቃ-አሽኔ የሚጫወቱት ነገር ትዝ አለው።\\n ዋቆ የተያዘ ሰሞን ስለ መቶ አለቃ ጀግንነት . -የሜወ\\nራው ነገር ሁሎ ጆሮው ላይ ያስቶጋባ ጀመር --- ርጳ፲፪፲፲ጆጄ፭ ፭፲፲፲፲፲፲፲እላኛ\\n'},\n",
       " {'page_number': 208,\n",
       "  'text': \"‹‹ ወጫስ 207\\n\\nእንዴይ በግ እየነዳ የሚመጣ ጀግና! እናቴ ወለድኩ ትበል ። እንዴ!\\nሱእዚህ ባይኖር እኮ የሱጴ ሌባ አያኖረንም ነክር ። ፀጥ አርጎ እኮ ነው\\nአገሩን የያዘው ። ቆራጥነቱያስ! አይ ቆራጥ! በለው ካለ ፍንክች የለም ። ዶግ\\nነትም ፪፪፯፲ ወ፲፶፲፮ደ፪፲ ፻፲ለ፪፲፪፲፪ ሰ፲፭፲ሰበልቶ ዷነጃቶ የሚጠግብ አይመስለውም ።\\nመመሙን ጠት ሰው ተቸግሮ ካየ ገንዘብ ኪሱ ባደ በ\\nድሮም ቢሆን የሚሰጥ ጄግና!ጅ |ኢ;ንን;ችዴን.፣ ፡\\n\\nፊታውራሪም ቢሆኑ ስለ መቶ አለቃ አሽኔ ወንድነት ተጠራጥረው\\nአያውቁም ። «አጉል ድፍረቱን ቢተው እኮ ማስአይፊያ ጀግና ነበር። እሱ ባይ\\nኖር የዋቆን እጅ የቱ ወንድ ደፍሮ ይይዝ ነበር?» በማለት ስለ ወንድነቱ\\nያላቸውን አድናቆት ሳይሸሽጉ ይናገራሉ ።\\n\\nሀዲስ ቡጢ ጩጨብጦ በሩን እንደገና በሃይል መታው። የውሻ ልጅ?'\\nአለ። ራሱን ነበር የሚሰድበው።-- “በዚህ አለም ቀንቶአቸው ሲኖሩ የሚች\\nሉት በገጠማቸው እድል ያለ ምንም ማመንታትና ማወላወል ለመጠቀም\\nወደ ሁዋላ የማይሉት ብርቱዎች ብቻ ናቸው * የትቅረነው የሀይወት አጫ\\nፋሪዎች ነን! አለ በንዴት ።\\n\\n'ጫጉላ ቤት- --አይናለም. ..በጀርባዋ ተንጋልላ.- ..ጠጉርዋ ተበትኖ...\\nየረገፈ አበባ --ጥርሱን ነክሰ ።\\n\\nኡኡታው እየበረክት ሄዶ። ኡኡታው አሁንም የሚመጣው እሱ\\nከሚኖርበት ቤት አቅጣጫ ነበር ።\\n\\n=-እንደዶ እሱ ድፍረት ቢኖረኝ ኖሮ ይኽኸኔ ከአይናለም ጋር ካንድ ጫጉላ\\nቤት ውስጥ የህይወት ማር ወለላ እጠጣ ፥ ለእግዜር አፍንጫ ዴስታ ብቻ\\nከገነት የተተከለች ብርቅ አበካ እሸት ፥0 ለመላእክት ጆሮ ብቻ ተብሎ\\nየተቀነባበረ ጣእመ ሙቪቃ አዳምጥ ነበር ፤ አእያለ ወዴ ቤቱቴ ማምራት\\nጀመረ። ከመንደሩ ሲዶደርስ ኡኡታውና ሣርግሩ ከአቶ ጣሴ መኖሪያ ቤት\\nዶጃፍ ላይ ሆኖ በማየቱ ዶነገጠና እየፈጠነ ወደ ቤታቸው አመራ ።\\n\\nፁሉም ባንድነት ይጮሃል ፥ ሁሉም ባንድነት ይናገራል ። የሚደማ\\nመጥ አልነበረም ። ተያይዞ መጨሙዋጩጭዋህ ብቻ ነበር። ሰዎችቿን እየገፋ እንዶ\\nምንም በማለት ስው---ሰራሽ ቀልለበቱን ጥሶ ወዶደ ፊት ብቅ ሲል ፤ አንድ ጠብ\\nደል ፥ ቀይ ፥ ራስ በራ ሰው * ካናቱ ላይ እንዴ ምንጭ ቡልቅ ፥ ቡልቅ እያለ\\n\\nወርድ ዶም ከተፈጠረች ትንሽ የዶም ኩሬ ውስጥ ሽብልል ብሎ ወድቆ\\nእየ። ስውዬው'አልሞትም ። ትንሽ ትንሽ ይትነፍሳል ። ያደፈጠም ይመ\\nስላል ። ቀና ባለ ቁጥር ሁሉም በያዘው ዱላ ስለሚወርድበት የሞት\\nመስሎ አድፍጦአል ። የት እንደሚያውቀው ጠፋው እንጂ የሰውዬው\\n\\nልክ ትዝ ብሎታል ።\\n\\nየቤት ሰራተኛው ከተሰበሰበው ህዝብ መሃል:ቆማ አያት ። እህል ውሀ\\nዮሣያሰኝ ዱላ ይዛለች ። እየተጋፋ ሄዶ ተጠጋትና * «ምንድን ነው ነገሩ *\\nረጋላ እናት1» አላት ።\\n\\nሂሌባ ተይዞ ነው» አለችው ፀሀይ የሚሞቀውን ጥርስዋን እያሳየችው ፍ\\nምን ሌባ?>\\n\\n«ያቶ ጣሴን ቤት ሰብሮ ገብቶ ሊሰርቅ ሲል የተያዘ ሴባ ነው።»\\n«ቀን በቀን 7» አለ ሀዲስ * ተገርሞ “\\n\"},\n",
       " {'page_number': 209,\n",
       "  'text': \"208 ሀዲስ\\nጪ\\n\\n«በመንዶሩ የቀሩት አንዳንድ ሴቶች ቤቱን ሰብሮ ሲገባ\\nበመጨመሙዋመጩመዋህ ባይዙት ኖሮ የልቡን ሰርቶ ያመልጥ ነበር» አለችጡ\\nበያዘችው ዱላ መሬቱን እየቆረቆረች ።\\n\\nወዲያውኑ አቶ ጣሴ ደጉ ሲሮጡ መጡ።ገና ከመድረሳቸው *«ምንድን\\nነው እሱ! ምንድን ነው እሱ 1›› እያሉ ጮሁ ።\\n\\nከክተስበሰቡት ሰዎች መሃል አንዱ *0 «ቤትዎን ሌባ ሰብሮት ነውኔ\\nላቸው ።\\n\\nሌላ ነገር አልጠየቁም ። እንደ እብድ ዘለው ወደ ቤት ገቡ ። የበሩ\\nቁልፍ ትሰብሮአል ። ሀዲስ ተከትሎአቸው ወዶ ቤት ገባ ። ትያዩ ። ቤቱ\\nውስጥ ሌላ ሰው አልነበረም ።\\n\\nቤት እንደዶ ገቡ በቀጥታ ያመሩት ወዶ አንድ አሮጌ የሳጠራ ወንበር\\nነበር ። ካሳጠራ የተሰራውን ወንበር ወዶ ታች ገልብጠው ውስጡን ተመ\\nለክቱ ። ሰውነታቸውም ፡«እጃቸውም ይንቀጠቀጥ ነበር። ክሳጠራው ወንበር\\nውስጥ ምን እንዶደዶሚፈልጉ ሀዲስ አልገባውም ። ብቻ የሳጠራውን ወንበር\\nእንዶ ነበረ መልሰው ካስቀመሙጡ በሁዋላ ፤ በረጂሙ ትንፍሰው ፤ «ተመስ\\nግን አምላኬ› አሎ።\\n\\nክዚያ በሁዋላ ራሳቸውን ይዘው 0 ቤታቸው ላይ የዶደረሰውን ሁኔታ\\nበህዘን እኖተመለክቱ ፥ «አየህልኝሜ ይህን ጉድ !» አሎ።\\n\\nእብ ድ ሲጫወትበት የዋለ ቤት ይመስላል ። አቶ ጣሴ መቼም ስርአት\\nያልያዘ ነገር ማየት አይወዱም ። መሜታቸው ምስቅልቅሉ ወጥቶአል ።\\nሳጭናቸው ተሰብሮ እውስሰጡ የነበረው ልብስ ሁሉ ትጎልጉሎሕል ። የፅህ\\nፈት ጠረጴዛቸው መሳቢያዎች ተሰብረው የትም ተጥለዋል ። የተማሪዎች\\nዶብትርና ወረቀት ወለሉ ላይ ተበትነዋል ።\\n\\nወዶ ሀዲስ መለስ ብለው ፥0 «ለመሆኑ ሌባው ተያዘ ወይስ አመለጠ?»\\nብለው ጠየቁት ።\\n\\nቢያልባቸውም አሁን ነፍሳቸው ተመልሳ የገባች ይመስላሉ ።\\n«ተይዞአል» አላቸው ።\\n\\nአንድ ፖሊስ ክወዶደቀው ሌባ ላይ እያንዣበበ ፥ «ዋእ ወዲ አይተ *\\nተነስ እንጂ ምን የሞተ ሰው መስለህ ትተኛለህ»> ይለው ነበር ። ሌባው ኦም\\nልቆ ሲመለከት ፖሊስ በማየቱ ነፍስ ዘርቶ ክተኛበት ብድግ አለ # የዱላ\\nመአት ወርዶበታል ‹ “ሌባ ተይዞ ዱላ ይጠየቃል?' እንዲሉ ።\\n\\nአቶ ጣሴ መናፍስት ያዩ ይመስል ድንማሣ ው-ፅ-ሀዲስ*\\nፊታቸው ሁሉ ባንዳፍታ ተለዋወጠ ። አይናቸፎንጁኋቫ፰ቃኃቐው ይመ\\nስሳሉ ።\\n\\n«ምን ሆኑ?>» አላቸው ሀዲስ ።\\n\\n«ይህ ሰው ያቶ ይርጋ አሽከር አይዶደለም እንዴ!!> አኤሎሉ *0 በመግረም\\nአፋቸውን ይዘው ፡ «አንተ» አሉ ወይ፣\\nው ል 2 ቀጥለውም ፤ «ወዳጆ አይዴለህም\\n\"},\n",
       " {'page_number': 210,\n",
       "  'text': \"ሀሠዲስ 209\\n\\nቃጾጐ፱፲\\n\\nሌባው ፥ ወዳጆም ይሁን ማን መልስ አልሰጣቸውም ። ሀዲስም በመ\\n«ናበዱ ነገሩን ለማገፍዘብ አልቻለም ። አሳቡ ሁሉ ተበታትኖአል ።\\n\\n«ያውቁታል?» በማለት አዲሱ ፖሊስ አቶ ጣሴን ጠየቃቸው ።\\n«አላምሬ» አሉ አቶ ጣሴ ፥ «አቶ ይርጋ ቤት የኖረ አሽክር ነው ።»\\n\\n«ማን ነው አቶ ይርጋ?--የትምህርት ቤቱ ዲሬክተር?» በማለት ፖ' ለ.ሱ\\nጠየቃቸው ።\\n\\n«አዎን» አሉት አሁንም በመገረም አፋቸውን ይዘዝው ። ሌባው አን\\nዴም ቀና አላለም ። እንዳቀረቀረ ቀርቶአል ። ደሙ በጆሮ ግንዱ ይወርዳል ።\\n\\n«የርስዎ ቤት ነው የተሰበረው ፥፤0 አይዶለምገ?ገ»\\n\\n«ነው» አሉት ፖሊሱን ።\\n\\n«የጠፋዎት እቃ ወይም ገንዘብ አለ?»\\n\\n«ለጊዜው አላውቅም» ኣሉት ።\\n\\n«ፖሊስ ጣቢያ መጥተው ቃልዎን ሊሰጡን ይችላሉ?»\\n\\n«ዶደስ እያለኝ።»\\n\\n«አንዴ ወዶ ቤት ለመማግባት ይፈቀድልኝ» በማለት ጠየቃቸው ።\\n\\n«ይቻላል።»ጅ\\n\\nፖሊሱ ወዶድይ ቤት ገግብቶ ጥቂት ደቂቃዎች ከቆየ በሁዋላ ተመልሶ\\nመጥቶ ። «እሺ እንግዲህ>» አለ * «የምስክርነት ቃላችሁን ለመስጠት የም\\nትፈልጉ ከኔ ጋር ወዶ ጣቢያ ኑ ።»\\n\\nእህል ውሀ የማያሰኝ ዱላ የያዙ የመንደር ሴቶች ቃላቸውን ለመስጠት\\nወደ ጣቢያ መንጋጋት ጆመሙሩ ።\\nሀዲስን ፤#«አንተ እዚሁ ቆይ» አሉት አቶ ጣሴ።\\nየሀዲስ ሰራተኛ ከሰዎቹ ተነጥላ እየሮጠች ተመልሳ መጣችና፤ «ኗ«ጡዋት\\nአንድ ደብዳቤ ሰው ልኮ ነበር» አለችው ።\\n«ከየት?7»\\n\\nችኝ «ከክእመቤት አይናለም ጋ ነው ብላ ነው አንድ ሴት አምጥታ የሰጠ\\n።»\\n\\n«የት አለ ዶብዳቤው?»\\n«ቤት ነው ። ጠረጴዛው ላይ ።»\\n\\nሀዲስ የአቶ ጣሴን ቤት በር ዘግቶ ጠባቂ ካቆመ በሁዋላ ወዴ ቤቱ እየ\\n\\nዊጠ ሄደ « ሲደር [ 'ዴ ፖሊስ\\nቋ፲ ቆልፎ አገኘውፖ።--፦ ጅል! አለናወ ጣቢ\\nዖኣ፬፲ ፣ሸ.... እጣቢያ፲፲፲፲፭፲፲ ጃይፀዬ ዶረሰባቸው ። ሰራተኛውን ክሁዋላዋ ሳብ\\n\\n«ውይ አ ስቼው» ብላ ቁልፉን ከመቀነትዋ ላይ ፈታ\\n‹ጻችው ። መቺም ቀጉ ለሩጫ ዳርኔታልና ቁልፉን ይዞ እንዴገና ወደ ቤቱ\\n\"},\n",
       " {'page_number': 211,\n",
       "  'text': '፪. የከዘጠጨ፡ ዞጤክ..ዊብሙ ። ር\\n\\nይሮጥ ጀሙር ---“ሩጥ ያለ ቀን ያስሮጣል” እያለ ። የበሩ ቁልፍ ሁልጊዜእ\\nብሎ አይክፈትለትም ። ያስቸግረዋል ። እንደ ምንም ተናንቆ ከፈተ ። ሰራ\\nተኛው እንዳለችው ፤ ደብዳቤው ጠረጴዛው ላይ ነበር ።\\n\\nያ የሚያውቀው የአይናለም የእጅ ፅሁፍ ነው ። የልብ ትርታው ሲዘል\\nተሰማው ። እሱም የሰላምታውን ነገር ዘሎ ያነብ ጀመር -፦ ፍ-..ስለዚያ\\nጉዳይ በዛሬው ቀን ቆርጫለሁ ። ከዚህ በሁዋላ የሚሆነውን ነገር አላው\\nቅም ። ቢሆንም ዛሬ ይለይልኛል ። ከዛሬ በሁዋላ ምናልባት የማንገናኝ\\nከሆነ የትምህርት ቤቱን ደወል ነገር አዴራ ። ድምፁ ዴስ የሚል ቆንጃጀ\\nዶወል እንዶሚሆን ተስፋ አለኝ ። በል ደህና ሁን» የሚል ነበር ደብዳቤው።\\n\\nመልእክቱ አልገባውም ። እንቆቅልሽ ሆነበት ። እንዴገና መልሶ ቀስ\\nብሎ አነበበው ። ቃላቱም * አረፍተ-ነገሮቹም ያው እንዶ በፊቱ እንቆቅልሽ\\nሆኑበት ። ወረቀቱ ላይ የውሀ ጠብታ የሚመስል ነገር ይታያል--እን\\nባዋ ይሆን? ሳይታወቀው ደብዳቤውን ወደዶደ አፍንጫው ወስዶ አሸተተው።\\nዶስ የሚል ገነታዊ ሽቱ ያዘለ የገነት አየር የተነፈሰ መሰለውና እንደገና አሸ\\nተተው ። እና * ግራ ተጋብቶ--ምን ማለትዋ ነው? አለ ። «ስለዚያ ጉዳይ በዛ\\nሬው ቀን ቆርጫለሁ?»፡---የቱ ጉዳይ አለ ። ነገሩ የባሰውኑ ፍች የሌለው እንቆ\\nቅልሽ ሆነበት። --ብቻዬን ተነስቼ ኮብልዬ ጠፍቻለሁ ማለትዋ ይሆን? ግን\\nብቻዋን ተነስታ የት ልትዶደርስ? የት ልትሄድ ትችላለች? ከተወለዶች የገ\\nባን ወንዝ ተሻግራ አታውቅም ። አለምዋ ከምታየው አድማስ አልፎ አያ\\nውቅም። ወይስ-.-ወይስ ከመቶ አለቃው ጋር ኮብልላ ይሆን.- --ወደ አዲ\\nአዲሳባ ...ይህን አልነበረም የምትመኘው?.-..አምዎን ፤ ሊሆን ይችላል-››\\nአስተምርሻለሁ ካላት...አጅሬ ወስጄ አስተምርሻለሁ ብሎአት ይሆናል›\\nእሱ የልቡን ካገኘ ምን ግድ ይኖረዋል?-..እሱ እንዶደሆን ይሉኝታ የለ\\nውም - - ግን እንደዴ አይናለም ያለች ልጅ ካገኘ ለምንና ለማን ብሎ ነው\\nይሉኝሜታ የሚኖረው?-..እኔ ነሜ እንጂ ሞኙ. . . እሱ ዶፋር ነው። ደፋር!\\n፰፲ሩ፲፮ር፻ ዴፋር።ኣያኗ ዷዐ፰ ፊ፪፲፲ውራሪ ግቢ ይሮጥ ጀመር. - ---አንተ ሞኝሩጥ--\\n\\n..‹ሩፍጫ ህ ነውና ሩጥ ...ህይወት ራስዋ ሩጫ ናት.-- ሮጦ\\n\\nየማይዶርሱበትን ነገር እየሮጡ ማሳደድ... የሌለ ነገር ማሳደድ -- ሶዶ\\nማሳደድ ..-የተረገመ ህይወት. . -የተረገመ ትምህርት ቤት---\\n\\nከፊታውራሪ ግቢ እንደ ሮጠ ዴረሰ ። ቆም ብሎ ትንፋሹን ያዘ ። ነ?፥\\nትንፋሽ የሚያስይዝ ነበር ። ምንድን ነው ጉዱ አለ ። የሆነውን ነገር የሚነ\\nግረው ሰው አልነበረም ። ትርምስ ግርግርና ለቅሶ---ጨኽኸትና ዋይታ #“ዎ።?\\nዶች ራሳቸውን ይነጫሉ ፤ ሴቶች ደረታቸውን ይደልቃሉ ። ምንድን ነ\"\\nነገሩ እያለ ሲጨነቅ ቶሎሳ ራሱን ይዞ እየተንጎራደዶዴ ሲጮህ ከሩቅ አየ”\"*\\nሮጦ ወደ እሱ በመሄድ ነገሩ ምን እንዴ ሆነ ጠየቀቅው።\\n\\n«የውሸት ሳቅ ኖሮአል ለካ... ለትዶ\"\\nንኑ እየደጋገመ ነበር የሚጮኸወ ስ፲ታፃ፪፲፲ኘ፲ኝን ነበር ለካ-.» በማ\\n\\n«ምንድን ነው ነገሩ? ንገረኝ እባክህ!»\\n'},\n",
       " {'page_number': 212,\n",
       "  'text': 'ጮኢ....፡ .\\n\\n«እጄን ቆረጠችው ...እህህህ!»\\n\\n«ምን አድርጋ!»\\n\\n«ምኑ ይወራል ! ምኑ ይወራል! እህህህ!»\\n«ለቅሶውን አቁምና ንገረኝ!»\\n\\n«ለሰው የሚራራው አንጀትኖ እንዴት በራስዋ ላይ ጨከነ! ጨከነ\\nጨከነ!፤እሀሀህ!ው\\n\\n«አሁን የት ናት? የት ናት?!»\\n«እልፍኝዋ ውስጥ ናት ። አትተርፍም ! አትተርፍም! እህሀህ!»\\n\\nቶሎሳን ለቆ ወደ አይናለም እልፍኝ ሮጠ ። በሩ ተዘግቶ ነበር ። በሩን\\nለመስበር ምንም አልቀረውም ። ታፈፊሰ ነበር የከፈተለት ። ፊታውራሪ ፤\\nመምሩና ታፈሰ ሶስቱም አፋቸውን ከፍተው ቀሩ ። ተንደርድሮ እንዴደ ገባ\\nተንደርድሮ ሄዶ አይናለም ላይ ወደቀ ። ከድንክ አልጋዋ ላይ ተጋድማ\\nነበር ። 1\\n\\n«አለሁ በዬኝ እባክሽ ! አለሁ በዩኝ ! ዋፋተኛው እኔ ነኝ ! እኔ ነኝ\\nጥፋተኛው ፥ ለዚህ ያበቃሁሽ ! እባክሽ አለሁ በዬኝ ›\\n\\nአይኖችዋን ቀስ ብላ ከፈተች ። በእንባዎቹ ውስጥ ጎህ ሲቀድ ታየው።\\nህይወት ሰጪ የሆነችው ፀሀይ እየወጣች-ትሄድ ነበር ። ሶስቱም አፋቸውን\\nእንደ ከፈፌቱ ቆመው ይመላከቱዋቸው ነበር ። በተለይ ፊታውራሪ የማይታ\\nመን ራእይ የሚመለከቱ ይመስል ያረጁ አይኖቻቸውን ማመን አቅቶአቸው\\nነበር ። ጆሮአቸውም የሚሰማውን ነገር ማመን የተሳነው ይመስሳል.-››\\n'},\n",
       " {'page_number': 213,\n",
       "  'text': \"ክፍል ፲፪፻\\n\\n«አፍርሱልኝ ነው'”ኮ እምለወው!»\\n\\nሰውዬው አበዱ እንዴ? የሚል ይመስል ነበር፤ ሰዉ ሁሉ ። እውነትም\\nፊታውራሪ ያበዱ ይመስሉ ነበር ። የሳሳው ጠጉራቸው ቆሞአል ። ከግን\\nባራቸው መሃል ያለው የደም ስር ተቆጥቶ ተገትሮአል።እርጋታ አጥተዋል፡\\nቁጭታቸውን የሚወጡበችት ነገር አጥተው ሲቅበዘበዙ ሳያቸው ሰው፥፤ታድና\\nየሚበላ አውሬ አፕቶ የተናደዴደ ያረጀ አንበሳ ይመስሉ ነበር ። ለአይናለም\\nሰርግ ሲሰራ የከረመው ታላቅ ዳስ ባንዳፍታ ድምጥማጡ ሲጠፋ እያዩ፣\\n«አዎን ፥ ከፊቴ አጥፉልኝ! ጥንቱን የተረገመ ምኞት ምንም ቢያደርጉት\\nአይባረክም ። ገባ ለያይቶን የሚኖረው ያለ ምክንያት አይደለም ። ግን በዚህ\\nእድሜ ባያሳዝነኝ ምን ነበረበት? ደስ ብሎኝ ለመሞት አልታደልኩም ።\\nርግማን ነው ! ሌላ አይደለም።ርግማን ነው!» ይሉ ነበር ፤ ደጋግመው።\\n\\nታፈሰ አጠገባቸው ቆሞ ዳሱ ሲፈርስ ይመለከት ነበር ። ፊታውራሪ\\nበንዴት ዞሩበት ።\\n\\n«ይህን ርግማን ፥ መአተ ቁጣ በቤቴ ላይ ያመጣኸው አንተ ነህ1›\\nብለው ጮሁበት ።\\n\\nዳተኛ አንገቱን ደፍቶ ፥* «ምን አድርጌ?» አላቸው ።\\n\\n«ዴደሞ ምን አድርጌ? ይለኛል! የሌባ አይነ ደረቅ መልሶ ልብ ያደርቅ\\nአሎ ። የድሀ እንባ አታምጣብኝ ብዬህ አልነበረም?» ፡\\n\\n«ብለውኝ ነበር።»\\n\\n«ታዲያ ምን አደረክ? ሄደህ ጭሰኞችን አባረርክ ። የሰው ቤት አፈሪረ\\nስክ #ይባስ ብለህ የሰው ልጃገረድ አበላሸህ ። መቼም ሰው የሚነግራችሁን\\nነገር አትሰሙም ። ተቃራኒውን ነው የምታደርጉት ። ልባችሁ አይታወቅ ፤\\nአመላችሁ ቅጥ የለው ። መአት ዘርቶ ፍዳ ማጨድ!!›\\n\\nታፈሰ ጻጠገባቸው ዞር አለ ።\\n\\nዳሱን ወዴሚያፈርሱት ሰዎች እየተመለከቴ ፥* « ቶሎ ፥ ቶሎ\\nበሉ ። የሰው ምኞት እንዴ ሆነ ከንቱ ነው። የክካንቱ ከን ፰፭፲፰፲፪ ይሎ ነበር ፆ\\n\\nሀዲስ ፤ዳሱ ከጊዜ ወደ ጊዜ እያይገ ሲሄድ ባየ ቁጥር› ውስጥ ውሶጦ?\\nይፈፋው ነባር ። አሁን ግን ይ. ቡ ላይ ያለው ደስታ ይ ሁን ሀዘን ለይቶ ለማ\\nጋቅ አልሯለ” ። ማንኛውም ነ;ገር ጨልኖበቤቅ #ዩርርሠ“\\n\"},\n",
       " {'page_number': 214,\n",
       "  'text': \"ወዲስ 213\\n«አዎን ፤ ከፊቴ አጥፉልኝ!» አሉ ፊታውራሪ ጮክ ብለው ።\\n\\nእየነሙና እያጨበጨቡ ይንጎራዶደዱ ነበር ። ሁኔታቸው ኤስፈራው--\\n#ኑንም። እንዴ ታፈሰ ከፊታቸው ዞር ሊል አስቦ ነበር ። ድንኀት ጴጠ\\n\\nክን. ፡\\n\\nሳቱ በእፎይታ ተነፈሰ ። ልዩ ልዩ ጥላዎች ከፊታቸው ላይ ያንዣብቡ ነበር።\\nደብዳቤውን አንዴ አንብበው ወጡት።ግን ያልገባቸው ነገር እንዳለ ክፊታ\\nቸው ያስታውቅ ነበር.። ግንባራቸውን ቁዋጥረው ለሁለተኛ ጊዜ አነበ\\nቡት። አሁንም ነገሩ ግር ስላላቸው ግንባራቸውን ሳይፈቱ *\\n\\n«የምን ዴወል በ።ኮ እሱገ» አሉት ።\\n\\nርዙምሀርት፩ .»»ቕ\\n\\n'«የቱ ትምህርት ቤት?»\\n\\n«አዲሱ ትምህርት ቤት።>\\n\\nነገሩ ጸበይበልጥ አስገርሄሞሄአቸው ትኩር ብለው ይመለከቱት ጀመሙር ።\\nሆኖም እሱን የሚመለከቱም አይመስሉም -- ሲያዩአቸው ። እንዴት ሇና?\\nየት ሄጄ? በማለት ራሳቸውን የሚጠይቁ መስለው ነበር የሚታዬት ። ይህን\\nብቻ አልነበረም በላያቸው ላይ ያየው ። ድንገት በራሉ ላይ እምነት ደጣ ።\\nከስልጣኑ የወደቀና ያረጀጅ- አምባ ገነን ምስል ነበር በአይነ-ህሊዊኖው የሙ\\nጣው--ሲመልከታቸው። ብዙ ነገር እንዶ ፈስጉት-በፈለጉበት ጊዜ ሲያዶዴ\\nርጉ የኖሩ ሰው ፤ አሁን ልጃቸውን በፈቃዳቸው አንስተው የመዳር ቀላል\\nነገር ከቁጥጥራቸው ባሻገር ሆኖባቸው * በራሳቸው- ላይ. እምነት « ፀህይ\\nወት ላይ ተስፋ አጥተው አይናቸው ውስጥ ይነድ የነንበረው እሳት በርዶ\\nሲመለከታቸው ፥ በመፍረስ ላይ እንዳለው ዳስ ውልቅልቅ።፤ እንክትክት\\nእንኩትኩት ብለው ታዬዩት ። አዘነላቸው። . ፡\\n\\nአንድ የረሱት ድንገት ትዝ ያላቸው ይመስል ጥቁዋጥሮ\\nየነበረውን ር፡ነባራቸ። ነጄ፤ዐ አዴረጉና *.«ቅድም ስትፍናገረው ከነበረው\\n\\n'ካርውስጥ የምታስረዳኝ ነገር አለ» አሎ “\\n- 5ምን ነበር?» አላቸው ።\\n\\n«“>ኢእኔ ነሜ ጥፋቶኛው” ስትል ምን ማለትህ እንይ ሆነ ብታስረዳኝ?»\\nኪ፲፲ት ።\\n\\n«እኔ.\\n«አምን።ወ\\n«መቼ ነው እንዲህ ያልኩትያየ»\\n\"},\n",
       " {'page_number': 215,\n",
       "  'text': '244 ጋዲስ - . ና ሽ\\n\\n«ቅድም ከቤት ስትወጣ--፣:እ... እያለቀስክ0፥ ኔ -ነኝ ጥፋትኛጨ›\\nትል ነበር.-.-.እ...» |\\n\\nሀዲስ ትዝ አለው ። ሌላስ ምን ቀባጥሬ ይሆን አምላኬ? ብሎ አሰበ «\\nጣን አላሙነታም ። የሆነውን ነገር ሁሉ ከስር አንስቶ ነገራቸው ። አንጻንዴ\\nኖየሚያዳምጡት አይመስሉትም ነበር። የሚነፕራቸውን ነገር ማዳመጥ ትተው\\nባሳብ ጭልጥ ብለው ይሄዱና ፥ «ወይ ጉድ?! ጉድ ነው”፡ ። ከቤቱ ጣራ ስር\\nኖሚሆነውን ነገር ሁሉ አውቃለሁ የሚል ማን ነው? ክንቱ ነው ። የቤ\\nጉድ ሁሉ የሚያውቅ የለም ። ወይ ጊዜ! አባትና ልጅ ልብ ለልብ የማይተ\\nዋወቁበት እንዲህ ያለው ክፉ ጊዜ ይምጣ! ችንግርት ነውሀ በማለት ክፉኛ\\nራሳቸውን እየነቀነቁ ያጨበጭቡ ጄጀመር።\\n\\nአንዳንዴም ታውሮ ከርሞ ድንገግት በነቃ ጊዜ በገጠመው አዲስ እው\\nነታ ምን ማድረግ ይቻለው ዘንድ አጥቶ እንደሚቸገር, ሰው ይሆኑበት\\nነበር ። ምናልባትም የገጠማቸው ነገር የልብ ኩራታቸውን ጭምር ሳይነ\\nካው አልቀረም ። «ወይ እኔ ሰውዬው! እሺሠመሙ አሉት በመጨረሻ ።\\n\\n«ይሄው ነው» አላቸው ።\\n\\n«ለትምህርት ቤቱ ስራ ስትል ነዋ አይሆንም ያልካትየወ\\n«አዎን ። የህዝብ አዶራ አይዶል?»\\n\\n«ስራው ባይዝህስ ኖሮገ>ወ\\n\\nሀዲስ አቀርቅሮ ዝም ብሎ ቀረ ። ግን ፊታውራሪ ጥያቄኤአቸውን በዚ\\nያው አላቆሙም። «“‹እኔ ነኝ ጥፋተኛው”\" ስትል ምን ለማለት አስበህ እንዴ\\nሆነ አሁንም አልገለፅክልሜም> አሉት ።\\n\\nሀዲስ ጠጉሩን ቆፈረና ፤ «ፈቃድዋን ብፈፅም ኖሮ ይህ አዶጋ አይደር\\nስባትም ነበር ለማለት ነው» አላቸው ፤ ፍርጥም ብሎ ።\\n\\n«ግን እኔን ገድለህ ሄድክ ማለት ነው ። ወይ ፈጣሪ! የጥፋት መልክ\\nተኛ ነህ ወይስ ምንድር ነው? ወይ ትአምር! የዚህ ነገር ትርጉሙ ምንድር\\nነው”ኙኮነ? እያሉ ራሳቸውን በመነቅነቅ ሲያጨበጭቡ ቆዩና ፦---\\n\\n«ቶሎሳ፲የት አለ?>» አሉ ።\\nክኖዋት መጣ ሳይባል ክተፍ አለል ።\\n\\n«መምሩ ኖት ናቸው?>»\\n\\n«ከኤእመጭቤቴ እልፍኝ ናቸው? ።>\\n\\n«ምን ያይ.ሰራሉ?»\\n\\n«ዳዊት እየዶገሙ ጠበል በመርጨትላይ ናቸው «>»\\n\\n«ጥራቸው» አሉትና ፤ ወደ ሀዲስ.መ ነገር\\nአደራ ብላህ የለ? አምን ። ጥሩ ነው ። ምናለ» በማኒጥ ተበዚ ወው ሲመሶ\\nክቱ ቆዬና » ትዝ ያላቸው ነገር ስለ ዘገነናቸው ሳይሆን አይቀርም ፤ «በቦስመ\\nሆፔ ሄጃለሁ ። ለተዝካሬ የሚወጣውን ገንዘብ ላዲሱ ትምህርት ቤት ዶወዶ\\nአውልልኝ ። ክዚህ ሌላ ኑዛዜ የለሣጫም” ብላለኙች ትታልኝ ልትሄድ ዕ\\nችው ደብዳቤ ላይ» አሉና በነገሩ በጣም አዝነው ለእሱ ሳይሆን ለራሳቸም\\n-“ይህን መአት የሚያመጣብኝ ፈጣሪ ምን ብበድለው ይሆን? ለሰው ክፉ\\n'},\n",
       " {'page_number': 216,\n",
       "  'text': \"ኡጠ ይወዲዷስ 215\\nረለሁ ፍ የተራበ ሰው ጦሙን *« የተቸገረ ባዶ እጁን ከደጄ ትመልሶ አያ\\nውቅ # የድሀ እንባ የለብኝም ። ምን በደልኩ? በምን ዐወጢአቴ ያልዘፀራሁ\\nትን መከራ ያሳጭዶኛል?\\n\\nእስዋስ ብትሆን? ለወግ ለማእረግ ላብቃሽ አልኩዋት እንጂ ሌላ ምን\\nስሪልኝ አልኩዋት? ካይኔ አትራቂ ማለት ነውር ነው? ሀጢአት ሃው? ኮብ\\nልላ ለመጥፋት ወይም ራስን ለማጥፋት መነሳት አሁን ምን ይባሳል? ወይ\\nጊዜ! የዘመኑን ልጆች ልብ እንዲህ ያጠጠረው ፥ እንደ አሸዋ ሆዳቸውን\\nያሻከረው ነገር ምንድር ነው? ወይስ በእነሱ ሊቀጣን አስቦ ይሆን? በማለት\\nብቻቸውን ሲያወሩ ቆዬና እንዴገና ወዴ ሀዲስ መለስ ብለው « «መቼም እሱ\\nያመጣውን ሰው አልችል አይልም ። ማለፊያ ነው። ሴው ያስባል እሱ ይፈ\\nፅማል፤ የሰው ምኞት ብቻውን ከንቱ ነው' ይል ነበር መክብብ» ብሰው\\nንግግራቸውን በማቁዋረጥ አተኩረው ሲመለከቱት ከቆዬ በሁዋላ ፤ «መክነ\\nብብን እንደምትመስል ክዚህ ቀደም ነግሬሃለሁ?» በማለት ጠየቁት ።\\n\\n«አምዎን» ብሎ መለሰላቸው ።\\n\\n«አዎን ። እሱም እንዳንተ ከስንት ትውልድ ጀምሮ ዘር ማንዘሩ ሁሎ\\nቄሶች ነበሩ ። ከአስራ አራት ትውልድ ጀምሮ ። ግን ምን ያደርጋል? ቄስ\\nለራሱ አያውቅ ። እሱም በገዛ እጁ ነው ራሎሱን ያጠፋው» ብለው አሁንም\\nለሀዲስ ሳይሆን ለራሳቸው ፤ --ሰሴው ራሱን በገዛ እጁ ለማሜጥፋት እንዴት ይነ\\nሳል? ለሰው ምንም ፍቅር የለውም ማለት ነው”ኮ ። ለቀሪው ማሰብ እንዴት\\nለሰው ልጅ ይሳናል? ሰው ሙዋች ነሙ ፥ ቢሆንም ከፍጡራን ሁሉ የርህራሄ ፥\\nየመስዋእትነትና የመቻል ተሰጥኦ ያለው ያለ ሰው ማን ኣለ!? አይ ሳው!\\nበማለት ሁዑለቴንም እጆቻቸውን ወደዶ ሁዋላ አጣምረው ይዝው በማቅርቀር\\nወደ መሬት እየተመለክቱ ሲያስቡ ከቆዬ በሁዋላ ፥* «ዴማ ነው እሱ ያለው\\nላይቀር ። ደግነቱ ለተዝካርዋ ሳይሆን ለሰርግዋ የታስበውን ወጭ ለትም\\nህርት ቤቱ'ስራ እንዲውል አደርጋለሁ ። ፈቃዱ ይህ ከሆነ ። ግን ከተሰራ\\nላይቀር ሰፋ ይበል ። ለስምዋ መጠሪያ ቁና ሰፋች መባል ዶግ አይዴደለም ።\\nስም አይሞትም» አሉት ። .\\n\\nሀዲስ ባንድ ፊት ዴስ ሲለው በሌላ በኩል ልቡ እየተከፋ ፥ «አስቀድም\\n፤፲፪ዷ፲፮ ፕላን አለ። አሁን እሱን መለወጡ ጊዜ ይፈጃል» አላቸው እየተ\\n5\\n\\n«ሙቼ ኖተሰራ ፕላን ነው?»\\n«ቆይቶአል።>»\\n\\nእንደመ ቁዱያ የቆየ ፕላን ለዛሬ አይሆንም ። ዛሬ የሚታቅዶውም ለወደ ፊቱ፡\\nላይ ፌ ጋለማል ሆኖ መቅረብ አለበት ። ሱጴ ደግሞ እያዴገች በመሄድ\\nነው ያለችው ። ግን 0 ምን የሚያስቸኩል ነገር አለ?» አሎት ።\\n\\nየሚይ ው ሱጴ-የመጣው ላንድ አመት ጊዜ ብቻ ክመሆኑ በስትቀር\\nስቸኩል ሌላ ነገር አላገኘም ።\\n\\nእስከጂፔልስ ኣልሰጠኸኝም ። ምን የሚያስቸኩል ነገር አለ? አዲሱ ፕላን\\nጋጅበት ጊዜ ድረስ አንድ ወይም ሁለት ወር ቢዘገይ ምን ልዩነት\\n\\nያ\\n፲፲፲፲፩፲፲፲ል፻ ከትሳራ ላይቀር ቁዋሚና ዘላቂነት ያለው ነገር ቢሰራ ይሻላል\\nነው» ኣሉት ። ፦\\n\"},\n",
       " {'page_number': 217,\n",
       "  'text': 'ሸው ፡ ኪ.... ክዊ\\n\\n«የሯመርኩትን ስራ በጅምር ትቼ መሄድ ስለማልወድ ነው›» ብሎ\\nሃቁን ነግራቸው “\\n\\n«የት ትሄዳለህ?»\\n\\n«የመጣሁት ላንድ አመት ነው ። ከመጪው መሙስከረም በፊት ወደ\\nትምህርት ቤቴ እመለልሳለሁ ። እና ፤ ከመመለሴ በፊት ስራው አልቶ ልማ\\nየት ፈልጌ ነው እንጂ ሌላ የሚያስቸኩልስ ነገር የለም>» አላቸው ።\\n\\nፊታውራሪ በነገሩ በመገረም ራሳቸውን ነቀነቁና * «“ሰው ያስባል ፥\\nእሱ ይፈጽማል”\" ይል ነበር መክብብ ። አዎን ፤ ልክ እሱን ነው የምትመስ\\nለው ። የነገውን ማን ያውቃል? የነገው ቀርቶ ዛሬ ጠዋት ክቤቴ ስወጣ ይህ\\nአዶጋ ይደርስብኛል ብዬ አላሰብኩም ነበር ። ሞትም ሆነ \"እንጅራ ባሰቡት\\nቦታ ላይሆን ይችላል ። የህይወት ምስጢርዋ ረቂቅ ነው ። አስቲ አስብበት።\\nለትልቅ ትምህርት ቤትም ትልቅ ደወል ማስፈለጉ አይቶርም ። ችግር ከገ\\nጠመህ እረዳሃለሁ ። ቅድም እንዳልኩት ለልጄ ሰርግ ታስቦ የነበረው ወጪ\\nሁሠሁሉ ለዚሁ ስራ ይውላል...» እንዳሉት መምሩ እንዶ ወፍራም ቁምቡርስ\\nእየተሳቡ መሙጡ ።\\n\\nሀዲስ ፊታውራሪን ተሰናብቶ በመሄድ ላይ ነበር ።\\n\\nሐ «መሙምሩ አሁኑኑሰርጉ መሰረዙን ለፊታውራሪ ይጻፉልኝ» ሲሉ ቆም\\n።\\n\\n«በምን ምክንያት ብዬ?»\\n\\n«የሆነውን ነገር ይሣግለፁለት ። ሰው ከሆነ እሱም ማዘኑ አይቅርም ሙመ\\n\\n«እንዴት ተብሎ? ባይሆን የሰርጉ ቀን ተላልፎአል ቢባል ይሻላል።\\nኖልጅ ነግር ነው የተሰራው ። ውሎ አኦድሮ ሳይፀፅታት አይቀርም ።»\\n\\nፊታውራሪ በመጨረሻ ያሉትን ሳይሰማ በመሄዱ ዯቆጩ ። መምሩ\\nጥጭምጥ”ማያቸው እስኪነቃነቅ ድረስ ነበር የሚከራከሩት ። --ምን ብለው ይሆን?\\nእንዶ እንቁ የሚያበሩት ከዋክብት ሰጥያቄው የሚሰጡት መልስ አልነበራ\\nቸውም ። ምፀታዊ ፈገግታ የምታሳየው ግማሽ ፤09 ብርማ ጨረቃም በበኩ\\n\\nይበትም ። ከዋክብቱና ጨረቃዋ አንድ ላይ አኢድመው ጉሞችን ከክሰማዩ ሳይ\\nለምሽቱ ያባረሩዋቸው ይመስል ። የሀዲስ ልብ በሀዘን ተወረረ ። በአይና\\nለም ላይ ስለ ደረሰው አደጋ ራሱን ይቅር ለማለት አልቻለም ። የወንጀሰዕኛ\\nነት ስሜት አድሮበት ነበር ። እና ፤ በእንቁ መሳይ ከዋክብት ጉራማይፅ\\n።ቻ፡መዖታ ተንጣጫሎ የሚታየው ጥቁር ሰማይ ሊያፅናናው ክቶ አልቻ\\n\\n-- የዛሬው ምሽት እንደዴ ሌሎች ምሽቶ ድምፁፀት አይዕሰማ0\\nትም ። የዋሽንት ድምፅ ኮለል እያለ ፀጩ፭ለየ፹፰ሸ፻ ሰማያት ሲሀዶ\\n\\nታሪክ የሚነማረው እየመሰለው ለወትሮፎው በሠዘን ተውጦ ያዳምጠት\\n'},\n",
       " {'page_number': 218,\n",
       "  'text': 'ሠዲስ 217\\nመ\\n\\nል ። ወደ ቤት ሊገጓ ሲል የሌሎች ዋሽንቶች ድምፅ ሰማ ። ሁለት\\nነበሩ።\" ነገሩ እንግዳ ስለ ሆነበት ---እነዚህ ደግሞ ከየት መጡ? በማለት\\nቆሞ ያዳምጥ ጀመር። ያባ ጨፌ ድቤ ከሰሞኑ ፀጥ ብሎአል ። -- ድቤው\\nተበሳ?የ ወይስ የት ሄዶ ነው? በማለት ራሱን ጠየቀ ።\\n\\nሁለቱን ዋሽንቶች ከዚህ ቀደም ሰምቶአቸው አያውቅም ። ነባሩ ባለ\\nዋሽንት --እንደ ሀዲስ ---ነገሩ እንግዳ ሆኖበት ሳይሆን አይቀርም ፤ ጨዋታ\\nውን አቁዋርጦ አዴፈጠ። አዲሶቹም ዝም አሉ። ዋሽንቶቹ አድፍጠው ሲጠባ\\nብቁ ብቸኛ ጅብ ከሩቅ ሲጮህ ተሰማ ። የቅርብና የሩቅ መንደሮች ውሾች\\nእየተቀባበሉ ይጮሁ ጀመር ። *አታሳልፈው! አታሳልፈው! ያዘው!\\'? የሚ\\nባባሉ ይመስላሳሉሎ.። የጉረቤቱ አውራ ዶሮ እንዴ ልማዱ ድንገች ጮኽ ።\\nእኩለ ለሊት ሳይሆን ድንገት ተነስቶ ይጮሃል --ሁል ጊዜ ። ሀዲስም በሚ\\nሰማው ጊዜ ሁሉ፤ *ይህ አውራ ዶሮ እብድ ሳይሆን አይቀርም” ይላል ።?\\nፀ፲፰ፖ ከጨረሰ በሁዋላ የመንደሩ ዶሮዎች ሙኸቱን ተቀብለው ማስተጋባት\\nይጀምራሉ ።\\n\\n=--ዋኖመንደሩ ዶሮዎች እብዱን አውራ ዶሮ ተክከትለው ያለ ጊዜ ከጮሁ\\nእብድ መሆን አለባቸው፥ ይላል--አንዱ ሌላውን እየተከተለ ሲጮህ እያዳ\\nመጠ ። ጊዜን በመለካት ረገድ የዶሮዎች ትንሽ ጭንቅላት ያለው ምስ\\nጢራዊ ተሰጥኦ ሁልጊዜ ይዶንቀዋል ። -- ምፅአትን አስቀድመው ኖየሚያበ\\nስሩእነሱ ሳይሆኑ አይቀሩም ፤ ይላል ።እና ፤ በምፅአት ቀን ፤ፀክንፉን ክአጥናፍ\\nእስከ አጥናፍ የዘረፈጋ አውራ ዶሮ ዳመና ላይ ቆሞ ሲጮህ ባሳቡ ይመጣበ\\nታል ። የሴትሙሽኸች ጨለማውን ሰንጥቆ ይሰማ ጀመር ። “የሀኪም”\\nየሺጥላ የፍቅር ዱላ ።\\n\\nነባሩ ባለ ዋሸንት ጨዋታውን ጀመረ። ሀዲስ ጆሮውን አነቃ ። ኤዲጾ\\nቹም አብረውት ጀጄመሩ። ከነባሩ ባለ ዋሽንት ድምፀት ላይ የንዴት ስሜት\\nአይሎ ይሰማ ነበር ። ድምፁን በመሰባበር ወዴደ ላይ ከፍ እያለ * እኖራቀ *\\nእየመጠቀ፣0 ጭልጥ እያለ ሲሄድባቸው አዲሶቹም የእሱን ፈለግ ይዘው ሊከ\\nተሉት ይሞክራሉ ። ፍልሚያ ይዘው ነበር ።\\n\\nአለ፩እወዳታለሁ 5 ግን ኣውነትም ፤ እውነተኛ ፍቅር እንክን ኢያጣውም!\\n።\\n\\nግን፤---ስለዚያ ጉዳይ በዛሬው ቀን ቆርጫለሁ... ስትል ምንሜለትዋ\\nነው? በማለት ያስብ ጀመር ። የቱ ጉዳይ? በዴብዳቤዋ የተባለውን ጉዳይ እን\\nደሚያውቅ አድርጋ ነበር የፃፈችው ። ነገሩ እየቆየ ይከነክነው ጀመር ። ምን\\nማለትዋ ይሆን? ከዚህ ቀዶደም ያላትን ነገር ሁሉ ወዶ ሁዋላ ተመልሶ አንድ\\nበአንድ እያስታወሰ ያሰላስል ጀመር ። ፍንጭ የሚሰጠው ነገር አላገኘም ።\\n. ኤወይስ አሳቤን በተሳሳተ መንገድ ተርጉማው ይሆን? ሊሆንይችሳል ። ግን፤\\nኗጎዎ ትርጉም አላገኝለትም ። ምናልባት ሞትን እያሰበች አእምሮዋን በሳ\\n\\nነ \"ወቅት ይሆናል የፃፈችው-..የሞት ጥላ እየታያት ። ሀዘን የተጫ\\n\\nበደው ።\\n\\n-“ፍቅር ፥ ክሀዘን ሌላ ምን ሙዚቃ * ምን ቁዋንቁዋ * ምን ቃላት ይኖ\\nረ<ዋል ? በማለት የትካዜ ከርቤ ይታጠን ጀመር “ ከዋክብቱ ሁሉ የእንባ\\nመስለው ታዬችት ። ባለ ዋሽንቶቹም የልቡን ሀዘን የዴረሱበት\\n'},\n",
       " {'page_number': 219,\n",
       "  'text': '፡ 9 ፡።ክምክምክ:ጵ።..ሚ ቺ\\n\\nይመስል ፥ ጣፋጭ እሬት የሆነ ጣእመ ዜማ ፃልፃካለውዉለግላይያነ\\nቆረቁሩ ነበር ...\\n\\nዱዋ!\\n\\nየጨለማው ፀጥታ ተናጋ ። ሸለቆዎች የተኩሱን ሙኸት-ተቀብለው\\nአስተጋቡ ። ዋሽንት ተጨዋቾቹ ፀጥ ኣሉ ።\\n\\nዱዋ!\\n\\nኤላ ተኩስ ...እና ፤ እረጭ ያለ ፀጥታ..--\\n'},\n",
       " {'page_number': 220,\n",
       "  'text': 'ምእራፍ ፻\\nክፍል ፲፤\\n\\nአቶጣሴደጉ ሀዲስን ጡዋት በማለዳ ከጣፈጠ እንቅልፉ ቀሰቀሱት ።\\nእንዶ ፰ፃቆ ትንሽ ተነጫነጨ ። ሆኖም እንደ ሌላው ጊዜ ሳይሆን ቶሎ\\nብሎ ..\\n\\nአቶ ጣሴ ባንድ አዳር በጣም ተጨማደውና ጎብጠው ታዬዩት ። ተስፋ\\nየሚባል ነገር ከውስጡ ተጨምቆ የወጣ ሰው ይመስላሉ ። ትንፋጃቸው ሲጥ\\nሲጥ እያለ ያስጨንቃል ። እሳቸው ወደ ፖሊስ ጣቢያ ከሄዱበት ጊዜ ጀምሮ\\nአላያቸውም ። አልተገናኙም ። አደራ ብለው የሄዱትን ቤት ጥሎ በመሄዱ\\nሲፀፀት ነበርያደረው። ግን እድሜ ለሠራተኛው ቤቱ ባዶውንአልዋለም ።\\n\\n«ማታ የሆነውን ነገር ሰምተሃል?» አሉት ።\\n\\n«ምንም አልሰማሁም ። ምን ሆነ?» አሳቸው ፤ በእጃቸው የያዙትን\\nእቃ ባይኑ እየቃኘ ። አረንጉዋዴ የብረት ሳጥን ይዘዋል #\\n\\n«የተያዘው የይርጋ አሽከር ሞቶ አዴረ-.-ጅ\\n«እውነት! የት? እንዴት!?» አለ ሀዲስ ።\\n«ማታ ተኩስ አልሰማህም?»\\n\\n«አንድ ሁለት ጊዜ ሲተኮስ ሰምቼ ነበር---»\\n\\n«አዎን ፥ ከእስር ቤት ሰብሮ ለማምለጥ ሲሞክር ተገደለ ነው የሚ\\nሉት ። ግን እውነት አይደለም ። ነገሩን ዴደርሼበታለሁ» አሉትና ፥ ከአስማ\\nቸው ጋር እየተናነቁ ፥ «ለጥያቄ ትፈለጋለህ ተብሎ ነው ከእስር ቤት እንደ\\nበግ ተጎትቶ የተወሰደው። አሁን ማ\"\\'ይሙት ፥ በውድቅት ጭለማ ለጥያቄ\\nየሚፈለግ ተራ ሌባ አለ? ለዚያውም ጎይቶም የሚባለው ፖሊስ በመስቀ\\nለኛ ጥያቄእያጣደፈቃሉን ሲቀበለው ነበርየዋለው -› አይ ፖሊስ!ካንጀቱ\\nፖሊስ ነው!...የለም ወዳጄ ። ከእስር ቤት ሲያመልጥ አይደለም የተገደዴ\\nለው። ምስጢር እንዳያወጣ በግፍ የተሰዋ ሰው ነው ። ይህ ነው ሃቁ» ብለው\\n\\n፲ ች\\n\\nሀዲስ ራሱን ይዞ አቀረቀረ ። አሁን ነገሩ ሁሉ ግልፅ ሆኖ ታየው። ጥት\\nነበርከ?\\' አለ ። ልዬሾ የት እንዴ ነበረ አላጣውም ። በአካል እንጂ በመንፈስ\\n\\nየታው ላይ አልነበረም ።\\n\\n«ገንዘቡ አልተነካም አይዴለም፤?» አለ ሀሠዲስ #\\n«አልተነካም ወ »\\n«ሳጥንዎን ሁሉ ሰብሮ እንዴት ሳያገኘው ቀረ\\n'},\n",
       " {'page_number': 221,\n",
       "  'text': \"220 ሠዲስ\\nቹቾጎ\\n\\n«ገንዘቡ እፊት ለፊት ካንድ አሮጌ የሳጠራ ወንበር ሙስጥ ነዘር:\\nአሉት ።\\n\\n«ሕረ !!» አለ ሀዲስ ተገርሞ ።\\n\\n«አም ፤ ሌባ እፊት ለፊት የተቀመጠ ነገር አያይም አሉ አቶ ጣሲ «\\n«አብዛኛውም ሰው እንዶዚሁ ነው ። ማልፅ ቦታ ላይ ያለ ነገር አይታዮንም.\\nየተደበቀ ነገር አለ በማለት የማይታይ ወይም የሌለ ነገር ስንፈልግ ነው የም\\nንውለው ። ህይወትን እፊት ለፊት ብንመለክታት በረክትዋ ብዙ ነው ። ግን\\nየምናየውን ትተን የማናኖየውን ስንፈልግና ስንመኝ ጊዜ እናጠፋለን» በማ\\nለት ትክዝ ብለው ሲያስቡ ቆዬና ፥ «ማን» አሉሎ ። «እስካሁን የሚገርመኝና\\nያልገባኝ ነገርግን፳ሸቡ እኔ ጋ መሆኑን ሰማወቅ እንዴት እንዴ ቻለ ነው ።5\\n\\nሀዲስ ራሱን በጣም ነቀነቀና * እኔ ነሜ የነገርኩዋቸው ብዬዎት አል\\nነበረምገ›» አለና ጠጉሩን በንዴት ቆፈር ቆፈር አዶዴረገ ።\\n\\n. ፍአዎ * ረሳሁት ። አረጀሁ መሰለኝ ። ነገር ይረሳኛል» አሉት።\\n\\n«አዎን «» አለ ሀዲስ « «አንድ ቀን ገንዘቡን የኖት እንዳኖርነው ፡ በነ\\nግር መሃል ፥ እግረ ሙንገዳቸውን ጣል አድርገው፡ ስለ ጠየቁኝ እርስዎ ዘንድ\\nመሆኑን ነገርኩዋጭቸው ።»\\n\\n“ምንኛ ሞኝ ነኝ! መቸ ነው ልቤ ሰው መጠርጠር የሚጀምረው' አለ\\n\\n«እግዜር ይባርክህ» አሉ አቶ ጣሴ ድንገት ነፍስ ዘርተው ። አሁን\\n\\nየመሟያጠራጥር ምንም ነገር የለም ፣ ተራ ሌብነት እንዳጻልሆነ እሁን በጣም\\nማልፅ ነው ።=»\\n\\nብጥ ብሎ ወጥቶ ወርካውን ለማየት ሄዶ ነበር ይርጋ ዷባት\\nዋግፋፋውም የወርካው መውደቅ ይሆናል ። የ፲፲ጄ፲፲፻፲ ቾጩ ቀየዷዬፔ፤ክሳል\\nአሉ፡፡ ግን እድሜ ለመንደር ሴቶች፥ በትለይ ያንት ሠራተሎኛ፡፡ እስዋ ናት ኦሉ\\n\\n፣“ይሙጠን ነበር? ህዝቡስ ምን ይለን ቀብጉ- ያምነናዶ!፤\\nበልተውት ነው ብሎ ነው ዞሂፈርዴ፮፩በ፪፲፲፲ፄስ፰ ። ብንልማን\\n\\n«ግን> አለ ሀዲስ ብስጭት ብሎ፣ «ግን፤ አቶ ይርጋ ለምን እንዲህዶይሆ\\n\\nናሉ፣! በእውነቱ አይገባኝም ። በእውነት- ግዲህ ይሆናካል ብዬ ማመ?\\nያስቸማግረኛል ። ለምን? ለምንገው ው ሐ\\n\\n- «ተንኮል ። ተንኮልዐ» አሉ አቶጣሴ። «ያለ ተንኮል የሚያስበው ??ና\\nየለም ። ተንኮለኛ እያለ በሰላም ያስቀሩ\\nንም ተንኮልና ምቆኝነት ነው ሬ - ዶቻልም “ ወድ ሁዋላ\\n\"},\n",
       " {'page_number': 222,\n",
       "  'text': 'ሠዲስ 221\\nጮ\\nሀዲስ በንዴት ጠጉሩን ቆፈረና ፣0 «አሁንስ ይተውናል ብለው ነው?\\nእንዲያው ምን ብናደርግ ይሻሳል!›» አለ ።\\n\\n«የምናዶርገውን እኔ አውቃለሁ ። የመጣሁትም ለዚሁ ነው>» አሉትና\\nይዘው ያመጡትን ትንሽ አረንጉዋዴ የብረት ሳጥን ከነቁልፉ ሰጡትች ።\\n\\n«ምንድን ነው እሱ?» አሳቸው ።\\n«ገንቨቡ ነው ።>\\n\\n«እንዴ! ምን ነው? ለምን እርስዎ ጋ አይቆመጥ#2*:!›» አሳቸው ተዶና\\nግዞኬ =።\\n\\n«ፊታውራሪ ዘንድ አኑረው ። እዚያ ይሻላል» በማለት መከሩትና ፥\\n«ደግሞም እሳቸው ዘንድ መቀመጡ ጥሩ ነው ። እምነት ከጣልክባቸው እሳ\\nቸው ይበልጥ ሲያምኑህና በማናቸውም ነገር ሊረዱህ ይችላሉ ። አሁንም\\nቢሆን ባንተ ላይ ጥሩ እምነት እንዳላቸወው ሰምቻለልሁ ። በቤታቸው ላይ የድ\\nረስውን ሙመቼም ታውቃለህ ፤ አይደለም?» አሎ አቶ ጣሴ ።\\n\\n«አዎ = ያሳዝናል> አለ ፤ የወርካው መውዶቅ ‹ ገንዘቡን ለማሰረቅ\\nየተደረገው ሰይጣናዊ ሙከራ እና *የአይናለም አሰቃቂ ድርጊት አንድ ላይ\\nተደራርቦ ባንድ ቀን መድረሱ እየገረመው ።\\n\\n«ፊታውራሪም በነገሩ አዝነው ጋብቻውን ሰርዘዋል አጵ>» ሲሱት--\\nየምስራች እንደዶ ሰማ ሰው ዶስ ብሎት፡ + «አውነት!› አለ ድምፁን ክፍ አድ\\nርጐ ።\\n\\n«ልጅትዋም ዶግ አድርጋለች» ካሉ በሁዋላ › እጮኛ ስለ ነበረው ስለ\\nዳኛቸው አያና አንዳንድ ነገር አንስተው ሲያጫውቴት ቆዩና ፤ ‹‹አም ። ማጣን>\\nአሉ አቶ ጣሴ « «ግን 0፤ አንድ አጥብቄ የምለምንህ ነገር አለ>» 7‹ሎት ።\\n\\n«ምን?››\\n\\n«ፍቅር አያታልህ ። የትምህርት ቤቱን ነገር አደራ ። ከዚህ የበለጠ\\nየምጥልብህ አደዶራ የለኝም. --.ቆይ! ቆይ። አድምጠኝ። ልብ ብልህ ስማኝ-...\\nአዎን ። ይህን ትምህርት ቤት ለመስራት ካሰብኩ- ዘመን የሰለኝም ። ፕላኑ\\nቢ ያሠራሁቅ እኔ ነኝ ። ደርጋ አይደለም ። በዚህም ፡ በዚያም ብሎ አሳ\\n\\nን አጨናገፈው ። 2,ያዘንኩ ቀረሁ- -\\n\\n«አፁን አንትተ መ ጣህና ልቤን አነሳሳኽው ። ተዳፍኖ የቆየውን ምኞ\\n\\nቀሰቀስከው ። ጻንተ ፣ የቀድሞ ማንነቴን መልሼ አየሁ ። ትስፋዬ\\nእንደ ገና አንሰራራ ። ደስ አለሜ። ይህ ምኞት * ይህ ትስፋ ከእንግዲህ በተ\\n፭ነ፲፲ ደው ተንኮልና ምቀኝነት ተመልሶ አይዳፈንም ፤ አይሞትም ። ባንተ\\nሊፍ ግና ያገኘሁትን ተስፋ በልቤ እንደ መበጥኩ ወዴ መታቃብሬ እወርዳ\\n» በማረት የጀመሩትን አሳብ ሳይደመድመ\\' የሀዲስ ሰራተኛ ቁርስ ይዛ\\nጎ \"ቁርሱን ልብ ያደረገ የለም ። ሀዲስን ገሳመጠችው ። እያልጎሙ\\nመች ወዴ ጉጭዳዋ ገባች ፡\\n'},\n",
       " {'page_number': 223,\n",
       "  'text': '222 ሠጭስ >ጫ፡፡፡፡፡ጫ ። ማ\\n\\nአቶ ጣሴ ንግግራቸውን ቀጠሉ * «አዎን * አላማዬን ከግፁቡ አድርስ\\nልኝ።ይህ ነው አደራዬ...ቆይ ፤ ቆይ-.-አድምጠኝ ሀዲስ ። ምክሬንም\\nስማ ። አንድ ምሳሌ ላጫውትህ ። አንድ ሊቅ ነበር ይባላል ። ማን ነው\\nብልህ? ቢሉት፡ “ክያንዳንዱ ሰው ሊማር የሚችል”፤ ማን ነው ጠንካራ ሰው?\\nቢሉት ፤ “ስሜቱን የሚቆጣጠር” ፤ ማን ነው ሀብታም? ቢሉት፡ “በቃጭ%\\nየሚያውቅ \\'፤ ማን ነው የተከበረ ሰው? ቢሉት፤ “ሰውን የሚያክብር”\"፤ ብሎ\\nመለሰ ይባላል ። በተፈጥሮ ብልህ ነህና ይህን ምሳሌ ተጠቀምበት...ቆይ\\nእንጂ!..-ቶሎ ነገር የሚገባው ማን ነው? ቢሉ ፥ እኔ ደግሞ * የበትእግስት\\nነገር የሚያዳምጥ ሰው ነው እላለሁ-- » እንዳሉ የሀዲስ ሰራተኛ\\' ተመልሳ\\n\\n\\'መጣች ።\\n\\nያቀረበችው ቁርስ አልተነካም ። እንዳለ ነበር ። ሳይበርድ ኤልቀረም።\\nአሁ፲፪፲፲ም ሀዲስን ገላመጠችውና እንዶ ልማድዋ እያልጎመጎመች ተመልሳ\\nወጣ =\\n\\nአቶ ጣሴ ምክራቸውን ካቆሙበት ቀጠሉ ። «አንድ ነገር ልንገርህ፣፤\\nሀዲስ ። ቅንና ግልፅ መሆን ጥሩ ነው ። ግን ሰው እያዩና እየገመሙጮቱ መሆን\\nአለበት ። ሰው ሁሉ እንዳንተ ቅን አይደለም ። አጉል ማልፅ መሆን አንድም\\nየዋህነት ፤ አልያም ብልግና ነው ። ግን የየዋህ አምላክ አለ ። ማንም አይነ\\nካህም ። በርታ ። እግዜር ካንተ ጋር ይሁን ። የዚያን ሊቅ ምሳሌ ትጠቀም\\nበት ። እኔም እድሜዬን ሙሉ የሱን ምሳሌ ለማስተማር ስሞክር ነው የኖር\\nኩት።ገንዘቡንም ወስዶህ ለፊታውራሪ በአዴራ አኤስረክባቸው.---የሰም.--\\nየለም ሀዲስ ። ጥያቄ አልፈልግም..- ልጄ በሞቴ ተወኝ ። አዴራዬን አት\\nርሳ ። በል ደህና ሁን» ብለው ፤ በጥያቄ እንዳያስቸግራቸው ጭጣድፈው\\nወጥተው ጄዱ ።\\n\\nአይናቸው ላይ እንባ ይታይ ነበር ። ሲመጡ ጎብጠው ነበር ። ሲሄዱ\\nማ2 ኣ ርመ፣ አላማዋው ግልና አልንለትው። አና፡ ተዉነ”\\nጠ ፥ ው ማልፅ አ ጨነዋቀዋ ።#\\n« 2 መ ልሆነለትም ። እኖ፤ ተ\\n. ቀኑ እሁድ ነበር ። የሰንበተ ጉዳ ገበያ ቆሞአል ። ከገበያው መካከል\\nለሰው መስቀያ ተብሎ የተሰራው እንጨት ከገበያፃኮኖቹገጩ ከፍ ብሎ\\nይታያል ። ገበያው እንደ ክረምችት ጅረት እየሞላና እየሰፋ ይሄድ ነበር ። ግን\\nገበያተኞቹ ከንግዱ ይልቅ በሰው መስቀያ እንጨቱ ላይ ያትኩሩ ስለ ነበር\\nለኪስ አውላቂዎች ሁኔታው በማመቸቱ አልፎ አልፎ ግርግርና ሽብር ይፉ\\nጠር ነበር---የገበያ ግርግር ለሌባ ያመቻል እንዲሎ “\\n\\n--ያዘው! ያዘው! ያዘው!፤\\n\\nነቱን በጣም ይዝገንነ\\nወዴ ሸምቀቆው ይሮጡበታል «  \\'ቾኖቹ አያርፉም ፤ እምቢ እያሉት\\n'},\n",
       " {'page_number': 224,\n",
       "  'text': 'ሀዲስ 223\\nጢ\\n\\n፦ሞት ለምን አይን ይስባል? አስቀያሚ ነው ። መልከክ ጥፉ ነው ። ያስ\\nጠላል # የሰው መጨረሻው አቤት ማስጠላቱ! አቤት ማስቀየሙ! ዶደማሞ\\nሲያሳዝን ። አቤት እንዴት ያሳዝናል! የሞተን ሰው ሲመለከቱት በህይወት\\nኖሮ የሚያውቅ አይመስልም ። ህይወት የለሽ ነገር ሁሉ ጅል መስሎ ነው\\nየሚታየው #ሕቤት ፡፥ሞት ጅል ሲያስመስል፥ እያለ ሲያስብ +የፊታትውራሪ\\nተካ ገረድ “የፊታውራሪን ምሳ\" በተለጎመ ትልቅ አገልግል አዝላ ገበዐያውን\\nሰንጥቃ እያለፈች ስትሄድ ከሩቅ ተመለከታት ። አንዴ እንኩዋን ውም ብላ\\nከመስቀቅያው ላይ የተንጠለጠለውን ሸምቀቆ አልተመለከተችም ፣ መን\\nገድ መንገድዋን ብቻ ነበር የምታየው ። ሰው ሁሉ የፊታውራሪን ምላ በአ\\nይኑ ይከተል ነበር ።\\n\\nእኩለ ቀን ሲሆን ተቃርቦአል ። ፀሀይዋ ከጠራው ሰማይ እምብርት\\nላይ ተንጠልጥላ እንደዶ ወስፌ አናት በቀጥታ የሚወጉትን ጨረሮችዋን ታህ\\nንባለች ። ወርካው ከወደቀበት ሌሊት ጀምሮ የበልግ ዝናብ ጠብ ብሎ አያ\\nውቅም ። ጉሙ ፊቱን አጥቁሮ ይመጣና ሱጴ ላይ ሲደርስ ስቆ ያልፋል ፤\\nየወበቅ ፥ የአቡዋራና የላብ ርግማን ወዶ ሁዋላው ትቶ ። ሳሩ ሁሎ ዴርቆ\\nወደ አቡዋራ መለወጥ ከጀመረ ቆይቶአል ። የትም ቢሄዱ አቡዋራ---አቡ\\nዋራ ብቻ! ሱጴ ላይ አንድ ቀን ሳይዘንብ ከዋለ ፣ መሬቱ ወዲያውጉ ክው\\nብሎ አቡዋራ ይሆናል ።\\n\\nየፊታውራሪ ገረድ አገልግሉን እንዳዘለች ገበያውን አልፋ ዳገቱን መያ\\nያዝ ስትጀምር ተመለከታትና ፥ ፊታውራሪ እንዳሰቡት ቢሆን ኖሮ እኮ ዛሬ\\nየአይናለም ሰርግ ይሆን ነበር አለ --ሀዲስ በልቡ ።\\n\\nየተንጠለጠለች ፀሀይ!\\n\\n«ብቻህን ቆመህ ምንድን ነው የ ምትፈላስፈው\"”\"=፡ --ታፈስ ነሃበር ።\\n«ምንም>ኃ ብሎት ሰላምታ ሰጠው ።\\n«መስቀያውን እያየህ የምትፈላሰፍ መስሎኝ ነበር» አለው ።\\n\\n«ስለ ሞት መፈላሰፍ ምን ያስፈልጋል? አስቀያሚ ነው» በማለት\\nትኩር ብሎ እያየው በፈገግታ መልስ ሰጠው ።\\n\\nሀዲስ ታፈሰን እንዶ ገግና በማየቴ ትገረመ ። ሁለትተኛ የሚያናግረው\\nአልመስለውም ነበር ።\\n\\nታፈስ ተኩሱ ያማረ ቅጠልያ ካኪ ሱሪና አንገቱ ክፍት የሆነ እጀጄ\\nቅርት ሸሚዝ ለብሶ ነበር ። ጣቶቹ በትሳልቅ ጥምዝ የወርቅ ቀለበቶች ነዴ\\nል ። ትንሽ የወርቅ መስቀል ከደረቱ ጠጉር መሃል ተጋድሞ ይታያል ።\\n\\n«ሞት አስቀያሚ ነው ካልክኒእዚህ ቆመህሂኒምን;ትጠብቃለህ ታዲያ?>\\n\\nርወሬ ወው»\\n\\n«አዎን፥፤ ወሬ። ታውቃለህ ፥ አንዱ ሲሞት ስናይ እኛም አንድ ዯን የም\\n፪፲፤፰፲ ኣይፀፀስለንምታ፲ ሀ፮ጌጊዘ፲ የሚሞተው ሌላው ሰው ነው ፥ እኛ አይደዶደ\\n\\n። ሰው ፥ በእውነት ፤ ራሱን ኢእያታለለ የሚኖር ሞኝሜኝ ፍጡር ነው።\\nጅሎች ነን» አለ ፥ ታፈሰ ሸምቀቆውን ቧርቀት እየታ፣መሬክታ #\\n'},\n",
       " {'page_number': 225,\n",
       "  'text': '224. ሀዲስ\\n፩፸፲፩፩፸፬፩ሥ፲ኚ\\n«ይህን አባባል ከክዚህ ቅደም -ሰምቻለሁ ፤ወይም አንድ ቦታ-አንብቢ\\nዋለሁ»- አለ ሀዲስ -።\\n\\n«ግን ፡ እውነት ነው። ሰው ጅል ነው! ደግሞ ልንገርህ። ሴላው ሰው\\nነውእንጂእኔ አልሞትም የሚለው አስተሳሰብ ነው የሰው የክፋት ትልቁ\\nምንጭ። ኖሰው ክፋት ክርፋት ሰማይ ድረስ ይቀረናል ። በዚህ አለም ማንም\\nለማንም ደዴንታ የለውም፤ምክንያቱም ሙዋች ሁልጊዜ ሌላው ሰው ነውና።ኳ\\n\\n«ምናልባት ይሆን ይሆናል ። አላሳውቅም ። ግን የሰው መጨረሻው\\nሞት ነው ብዬ ማመን ያዳግተኛል ።>\\n\\n«ታዲያ ምን ይሆናል፻የ» |\\n\\n\\'«ከሞት በላይ የሚያውለን አንድ ነገር መኖር አለበት .-.»\\n«እንዶ ምን ያለየ» \\'\\n\\n«ጸ8ጸዚህ አለም ትተነው የምናልፈው ስራ ። አንድ ነገር ።%\\n«<ጅል አትሁን “ወ»\\n\\n«እሆን ይሆናል ።»\\n\\n«ለመሆኑ ዛሬ የሚሰቀለው ሰው ማን እንዴዶ ሆነ ታውቃለህ?ው\\n«<አላውቅም ።>\\n\\n«ዋቆ ነው ። ቀኛዝማችን የገዶለው ወንበዴ» ብሎት ሲጃራ አውጥቶ\\nአቀጣጠለ « .\\n\\n«ወንበዴ ነበር? እህ» አለ ሀዲስ በለሆሳስ ።\\n«ታዲያ ምን ነበር?» አለው ታፈስ ቆጣ ብሎ ።\\n\\nሀዲስ የነገሩን አቅጣጫ ለወጠና * «እንዲያው ለመሆኑ ከመቼው\\nለዚህ አበቁት?» በማለት ጠየቀው።\\n\\n«ህዝቡ ከቅጣት ቶሎ ብሎ መማር አለበት ። የስራው ስራ ቀልድ\\nአይደልለም..-..» ፡\\n\\nይኮና፪፪፰ሰመቡ ጁእፃሟዐሳዬይ፭፰ ፥ይፀልጥ የ፲፻፲፲፸ረ፪ነ እንዶ ሆነስ? ሁየዬፆትግ\\nማእታ ነው የሰዴድ እኢ የሚሆነው»ው» \\'\\nተክዞ ለዋቆ የተዘጋጀውን ሸምቀቆ በ መ 1፡\\n\\n«<“ጨቁዋኝ ገዢ ሲሞቱ አገዛዛቸውም አብሮአቸው ያከትማል፤ የሰማ\\nእታት አጀኔገኔ ግን-የሚጀምረው ካለፉ በሁዋላ ነው\" ሲባል ሰምተህ አታው\\nቅምጀጋ =\\n\\n«ጅል አትሁን ። የእሳት ራት ሁሉ ሰ=“\\n«ምናስቆጣህ?>» የማእት አይሸገው\\n\\n«ትዘሳብዳለህ!> ብሎት ሲጃራውን ወረወረ ።\\n\\nየቀደመው ይዞአት ሄዶ ። የተቀዴደመው ውጳት ሰዎች ተረባረቡባ\\n\\nፈጦ ቀረ ። ው\\nሰዌ፰ዕ # ሀዲስ ጠጉሩን ቆፈር ቆፈር ኣዴረገና ፥ ርአሁ፭፭፲፶ያ፭፲ኒ፭ ፰ጓ፰ፆ ብሎ\\nጠየቀው።\\n\\n«ማሜን?>ው»\\n«ኋጮይዊለም ።>\\n'},\n",
       " {'page_number': 226,\n",
       "  'text': \"፣፣.፡.ዐጤክሞሙሙ።ዴዴ፣ም፡.ኘ. ሠቄተቶ በ8\\n«ከእስዋ ርቀህ ብትኖር ይሻልሃል ብዬሃለሁ\\n«ስለ ጤንነትዋ መጠየቅ ነውር ነው?»ው ሸ.\\n«አያገባህም!>\\n\\nወበቁ በጣም አይሎአል ። ገበያው ዴርቶአል ። የሰው አይነት እንዶ\\nይተራመሳል ። አቤት! የሻሹ አይነት ። አቤት ፣ የጃንጥሳው ብ ዛትና\\n\\n«ሽታዬ እንዴት ነች”» ብሎ ታፈሰ ሀዲስን ጠየቀው ።ምፀታዊ ጥያቄ\\n፲፲፲፭፲ኑን ሀዲስ አላጣውም ። ቢሆንም » «አይቻት አላውቅም> በማላት መለ\\nሰለት ። ፲ ፡\\n\\n«ትቀይመሃት ነው?>\\n\\n«በምን ምክንያት እቀየማታለሁ?>\\n\\n«ከኔ ጋር ስላዴረች ። ግን ትወድሃለች» አለው ።\\n«ህምገ» .\\n\\n«ዴግሞ ፤ ባል ትፈልጋለች ።>»>\\n\\n«ታዲያ አንተ ለምን አታገባትም?>\\n\\n«እስዋ አኣንተን ነው የምችፈልገው ።>»\\n\\n«እኔን ለምን? ይልቅ አንተ አትሻላትም?»ጅ»\\n\\n«እኔ በቀላሉ ልጠመድ ኤአልችልማ ።»\\n\\n«እኔስ?» ] '\\n። «አንተ ገራገር ኤውሌ ነህ ። ሴቶች የሚያዋጣቸውን ነገር ያውቃሉጵ»-\\nለው ፡ ሽ\\n\\nሀዲስ በታፈሰ ነገር አልተኖደዴዶም ። ሳቀና « «ጊገራገር እመስሳለሁ? ኤአታ\\nውቀኝም ። ለማንኛውም ነገር አመሰግናለሁ» አለው ። |\\n\\n«ለምኑ?»\\n\\n«ለምክርህ!»\\n\\n«ሸሽጉጤ የት አለ?» አኤለው ። ።\\nለምን አሁን ፈለክው? ልትገድለኝ ነው?» (\\n«እፈልገዋለሁ ወ» . '\\n«ጠፍቶብኛል ። እዚያው ጫካ ውስጥ ነው የጣሉብኝ ።»\\n«አትቀልድ1» አለው ።\\n\\n«እውንነቴን ነው ። ቀልዴን አይዶደለም> አለው ሀዲስ *፤\\n\\nዋሽቶ --- «ሌላ ገዝቼ እሰጥሃለሁ ። አዝናለሁ ።»\\n\\nገበያው አንዴ ተተራመሰ። አቡዋራው ተነሳ።\\n\\n“ያዘውየ ያዘው! .\\nፃርግሩ- 'ይቶ ፊታውራሪ እንይገና ገቢያውን ሁፁለት\\n\\nላላ፤ ፌ ፲ቀዑጓ፫ፉቆ፲ ያያ፲ቸ፶ለ ሁጄዐ እጅ ይነሳል ። እሳቸው በቅሎአቸው\\nሆነው አፀፋውን ግራና ቀኝ ይመልሳሉ--- ፣\\n\"},\n",
       " {'page_number': 227,\n",
       "  'text': \"226 ሀዲስ\\n፴\\n\\n«ስማ ሀዲስ» አለ ታፈሰ « «አንድ ምክር ልስጥህ ።ወ»\\n\\n«ካንተ ጆቺም ዶግ ምክር አይጠፋም ። ምንድን ነው?>» አለው «\\n«ለምን አትሄድም?» ፡ . ]\\n\\n«ወዴት?1»ሙ%\\n\\n«ወዶ ትምህርት ቤትህ ። ወዴ ዩኒቨርሲቲህ ተመለስ ።»\\n\\n«ለምን ቢባል? እስቲ ንገረኝ?»\\n\\n«ለራስህ ስትል.›-›-»\\n\\n«እንዶዕነትት ማለት?»\\n\\n«ስማ ሀዲስ» አለ ታፈስ ፊት ለፊት እያየው « «ህይወትህ አደጋ ላይ\\nነው ። እመነኝ ። ጠላቶችህ አደገኛ ሰዎች ናቸወ----»\\n\\n«ሌላስ?»\\n\\n«<ገንዘብ ፍለጋ አይደለም የመጣኽኸው?! አንድ ነገር ..>ገርሄህ ። የሚበ\\nቃህን ገንዘብ እኛ እንስጥህና ሂድ.- . »\\n\\n«እናንተ እነማን ናቸሁ1»\\nታፈስሰ ዶንገጥ ብሎ ፥፡ «ለምሳሌ ፊታውራሪ... እኔ» አለው።\\n\\n«ስላሰባችሁልኝሜ አመሰግናለሁ ። በእውነት ከልቤ ነው የማመሰግ\\nነው ። ግን ገንዘባችፁን ለራሳችሁ አድርጉት ። ።\\n\\n«እኔ ሌላ አላማ አለኝሜ። ይህን የጀመርኩትን ስራ ከፍፃሜ አድርሼ ሳላይ\\nየትም አልሄድም ። እዚሁ እሞታለሁ ። ጠላቶችህ ናቸው የምትላቸውን\\nሰዎች ይህን ቁርጥ አሳቤን ንገራቸው» አለው ፍርጥም ብሎ ። ጠጉሩን\\nቆፈር ፡ ቆፈር አደረገ።\\n\\n«ሞኝ አትሁን ። ይልቅ ምክሬን ብትሰማ ይሻልሃል» [ኦለ ታፈሰ\\nበ መበሳመት ድምፁን ከፍ አድርጎ። ፡\\n\\n«ምክሩን ለራስህ አርገው! እና ፤ አሁን ተወኝ» አለ ሀዲስ ።\\n\\n«ሞኝ አትውን ነው የምልህሀ› አለ ታፈሰ፡«ቀልድ መስሎህ ይሆናል።\\nኦይንህን ከፍተህ የቀን ህልም አታልም። ትምህርት ቤት፤ ምናምንቴ ኦሶዕ\\nራለሁ ብለህ ያስነሳኸው አቡዋራ በሁዋላ ተመልሶ አንተኑ ያስለቅስሃልኦ፦\\nያውም ለማልቀስ ጊዜ ብታገኝ ። ህይወትህን በደህና ይዘህ  ጅንበር ሳለች\\nብትሮጥ ይሻላል ። ገንዘቡም ቢሆን ይጠቅምሃል። ባዶ እጁን ለመጣ ሰው'\\nያለ ምንም ድካም ገንዘብ ማግኘት ቀላል አይደለም። ጥሩ እድል ነው። ኮያ\\nምልጥህ ።>\\n\\nላቸዋለው» አለው ።\\n\"},\n",
       " {'page_number': 228,\n",
       "  'text': '፣ ዛሳበበ › ገ ይ\\nውነት!»\\n\\n- ። እ፰፶፱፰ ፎዳፎት ናት ያለችኝ ። እስዋንም ለዚህ ትምህ\\nራታ በዶስኃ\\n\\n«ታስቃለህ» አለ ታፈሰ * «በእውነት ታስቃለህ ።»\\n\\nቀፎው እንደ ተነካበት የንብ መንጋ ገቢያው ድንግጋት መተራመስ\\nጀመረ። ፖሊሶች ዋቆን ወደ መሰቀያው ቦታ በማምጣት ላይ ነበሩ ። ዐዲስ\\nዋቆን ለማየት አንገቱቴጭን እስኪያመሙው ድረስ ወደ ላይ ቢንጠራራም አልሆ\\nነለትም # ታፈሰም ወዶ ላይ ይንጠራራ ነበር ።\\n\\nሰማይ ድረስ የተነሳው አቡዋራ ጋረዳቸው ። ታፈስ የአቡዋራውን\\nመጋረጃ ተራገመ ። ሃይለኛ ነፋስ ከምስራቅ ወዶ ምእራብ ድንገት ይነፍስ\\n፻ጀመር ። ከጥቂት ጊዜ በሁዋላ የአቡዋራው መጋረጃ ተገለጠ ። ዋቆ ከገበ\\nያተኞቹ በላይ ክፍ ብሎ ቆሞ ይታይ ነበር ። ከህይወት በላይ ግዙፍ የሆነ\\nመስሎ ነበር የሚታየው ። ሞትን ድንክ ሊያዶርገው-ቆርጦ የቆመ ነበር የሚ\\nመስለው ። ሸምቀቆው ከራሱ ላይ ያንዣብባል---አፉን ከፍቶ ። ከሩቅ ከሚ\\nታየው አድማስ ላይ አይኑን አሳርፎ የቆመ ይመስላል---፡አንድ አይኑን ።\\nአለምን ለመጨረጃሻ ጊዜ የሚሰናበት ይመስል ነበር--ይህችን ውብ አለም ።\\nገበያው ፀጥ ያለ የሰው ባህር ሆኖአል ።\\n\\nዋቆ በገዛ ራሱ አንግቱቴን ሸምቀቆው ውስጥ አስገባ። አንድ ፖሊስ ዋቆ\\n\\n. ከቆመበት የሆን ነገር ላይ ወጥቶ ሸምቀቆውን አንገቱ ላይ አስተ ካከለለትና\\n\\nተመልሶ ወረደ። አንድ ቃል አልተናገረም ። አልትራገመም ። አልተርበ\\n\\nደበደም ። ፖሊሱ ከመሠሪዱ ዋቆ በገዛ ራሱ ከቆመበተ የሆነ ነገር ላይ\\nራሱን ወረወረ ። አልተፈራገጠም ፤ ፀጥ አለሰ።\\n\\nእልልታው ባንድ ፊት * ዋይታው በሌላ በኩል ይቅልጥ ነበር። ብዙ\\nሰዎች አፈር እየበተኑ ይጮሁ ነበር ። አቡዋራ እንዴ ገና ተነሳ ። የአቡዋራ\\nመጋረጃ ዋቆን ጋረዴው። እንባው ጠብ አለ -- ሀዐዲስ።\\n\\n- ያዘው! ያዘው! ያዘው!\\n«ምንም የሚያስለቅስ ነገር የለም» አለ ታፈስ ።\\n\\nየሚጀመ፡ እንባውን ጠረገና ፥ «ሁልጊዜ እንዶምለው * የሰማእታት አግዛዝ\\nልብ ቁረው ክሞቱ በሁዋላ ነው ። ዋቆ አልሞተም ። አሳቡ በጭሰኞችህ\\nዘላለም ይኖራል» አለው ።\\n\\nለህልም ዳገት የለውም ። አይንህን ከፍተህ ቀን በቀን ህልም ብታይ ፤\\n\\nሳየል- ፥ ያው ህልም ሆኖ ነው የሚቀረው» ብሎ ፤ ምፀታዊ ፈገግታ\\nኣንዔቐፕ 5 «በንኔገራችን ላይ ፥ አቶ ጣሴም ነገሩን ስራዬ ብለው መክታትል\\nተዉንገራቸው።እሳቸውም እንዳንተው የዋህ እየሆኑ ሄዴዋል» አለው፡፡\\n\\n፮፻፲ከ ነገር72 በማለት እያወቀ ጠየቀው #“\\nየሌኋጓውማ ጉዳይ ።»\\n'},\n",
       " {'page_number': 229,\n",
       "  'text': \"0ሰ. . ርር\\n\\n«ለምን ብለው ይተዋሉ? ሊያመልጥ ሲሞክር ጥገደለ ተብሎ\\nዛው ወሬ በጣም አጠራፊጣሪ ነው ። ክነገሩ በስተጀርባ አንድ የሆነ ክጌዘላ\\n\\nመዊኖር አለበት» ሲል ፦\\n\\n- ታፈሰ ኾፍ በማለት ነገሩን ለማቅለል ሞከክረና ። «ይህን ነው የምልህ,\\nምንፃቻ ማስረጃ ሳይኖር ሰው መጠርጠር አድዴገኛ ነው። በገዛ እጃችሁ ጠላት\\nእየገዛችሁ ነው ። አቶ ጣሴን ተዋቸው ። አንተ ግን አር ፈህ መቀመጥ ወይም\\nመሄድ---ያለህ ምርጫ ይህ ነው ። ይህን ሁሎሉ የምነማርህ በጉዋዶኝነት ነውኔ\\nአለው ።\\n\\n«አንተን የፀስለ፭ ጉዋዶኛ የያዘ ምን ጠሳት ያስፈልገዋል» በማለት\\nበነገር ወጋው ።\\n\\n«ምን ማለትህ ነው!»\\n«ምንም ።>\\n\\nታፈሰ በንዴት አይኑ በርበሬ መሰለ ። ትንፋሽ ያጠረው ይመስሳል ።\\nአፍንጫውን ነፋ ። አቡዋራው ሰክኖ ነበር ። የዋቆ ሬሳ በነፋስ ሃይል ይሽ\\nክረከራል ። ሀዲስ ፤ ሰውነቱን ክፉኛ ዘገነነው ። አይኑን ጨፈነ ።\\n\\n«ሌላም ምክር ልስጥህ» አለ ታፈሰ ።\\n\\n<ቅጭጥል ።»\\n\\n«ሁለተኛ ፊታውራሪ ቤት ባትዶርስ ጥሩ ነው።»\\n\\n«ካልክስ አሁን ልሄድ ነው =ወ“ጅ\\n\\n«ከዚህ መሄድ ለምን እንዶማትፈልግ ልንገርህ?›» አለ ታፈስ ቅንድ\\nቡን ከፍና ዝቅ እያደረገ ።\\n\\n«ለምን እንዶ ሆነ ነግሬሃለሁ፡።»\\n\\n; «ለሱ አይደለም ። ይህ ትምህርት ቤት ምናምን የምትለው ነገር ሽፋን\\n'ዔንዔው..ኃ> . ዲ '\\n\\n«ታዲያ ለምን ይመስል ሃል?ወ\\n\\n«ምክንያቱን ታውቀዋለህ ። እኔም አውቀዋለሁ ። ለአይናለም ስትኦ\\nነው። አላማ፥አደራ።ሕዝብ። ጂኒ፤ ቁልቁዋል እያልክ ድርቅ ብለህ ስታወ\\nፍብድ ይገርመኛል! አሁን ጠባይህ ገብቶኛል ። ውስጥ ውስጡን የሜሄድ\\nእባብ ነህ ። ዝግ ችሎት ፤ አለ አይደል? ባቁዋራጭ በሀብት ልትነቦር፤*\\nኡ? አይንህን ከፍተህ ቀን በቀን ህልም አታልም ብያለሁ። »\\n\\nሀዲስ መልስ ሳይሰጠው ጥሎት ሄደ።\\n\\nግንዘቡን ይዞ በቀጥታ የሄደው ባ\\nእልፍኝ አላስገባውም ። እየመራ ወድ ጉፍ> ወመሰሪቤት ነበር። ተአትክ\\n\\nልት ውስጥ ቆመው ነበር ። ባሳብ ተመስጠው ተፈጥሮን የሚያደንቁ ”\\n”\\n\\n---ሰው በእድሜ እየገፋ- ሲሄድ + ሁሉም ድንቅና ስለሜሆ?\\nበት ፣ ሩጫ ትቶ ቆም በማለት የተፌጥሮንነ፲፲፲፻፶፪አ፲ምር ሣድነ።ጄዖሥ፲፶\\n\"},\n",
       " {'page_number': 230,\n",
       "  'text': \"ሙ ---....መሙጮቨ:<ዉ.....2፡፡ በ\\nነገር የት ይሆን ያነበበው?-ሀሠዲስ ይህን ነገር የት እንዳነበበ.\\nውስ አልቻለም ። ሊያስቸግራቸው አልፈለገም ። ዝሦብሎ፮፶፭፲፩፰፰፲ላታ\\nእንደ መሳል አለ ። የውሸት ሳል ነበር ። ፊታውራሪ ዞር አሉ ። ሀዲስ እጅ\\nነሳ።\\n\\n«እንዴዶ ምን ዋልክ?» አሉት ፤ የጉሞችን መለዋወጥ እየተመለከቱ ።\\nልዩ ልዩ ጥላ ይመጣል ፤ ይሄዳል ። ይዳምናል ። ደግሞ ፀሀይ ከደመናው\\nውስጥ ብቅ ትላለች ። ከዛፎች ላይ ወፎች ያዜማሉ ።\\n\\nፀዲስ እንዶ ገና እጅ ነስቶ ፤ «ጉዳይ ነበረኝ» አላቸው ።\\n\\n«ጉዳይዞህን ተናገር» አሉት ‹«አንድ ንብ አበባ ላይ- አርፋ ማር ስትቀ\\nስም ባድናቆት እየተመለከቱ ።\\n\\n«ይህን ገንዘብ እርስዎ ዘንድ ለማኖር ፈልጌ ነበር ። ፈቃድዎ ቢሆን»>\\nአላቸው ።\\n\\n«የምን ገንዘብ?»\\n«ለትምህርት ቤቱ ህዝብ ያዋጣው ገንዘብ ነው ።»\\n\\n«ስንት ይሆናል?»\\n«ዑሁለት መቶ አስራ ሁለት ሽህ ብር ከሃምሳ ሳንቲም ነው-።»\\n\\n«ብዙ ገንዘብ ነው» ብለው ፥* ንብዋ የቀሰመችውን አበባ ቀጥፈው እያ\\nሸተቴ ፤ «እስካሁን የት አኑረኽው ነበር?>» በማለት ጠየቁት ።\\n\\nገንዘቡ እስካሁን ማን ዘንድ እንደ ነበረና በአቶ ጣሴ ቤት ላይ በደረ\\nሰው አደጋ ምክንያት ምን ስጋት እንዳደረበት አንድ ባንድ ከገለፃላቸው\\nበህዋላ ፤፡«ለማንኛውም ነገር * ክዚህ ሁሉ ስጋት ገንዘቡ እርስዎ ዘንድ ቢሆ\\nንልኝ ይሻላል ብዬ ነው ። ፈቃድዎ ከሆነ» አላቸው ።\\n\\n«አዎ፣›የአቶ ጣሴ ቤት በሌባ መሰበሩንና ሌባውም ወህኒ ቤቱን ሰብሮ\\nሊያመልጥ ሲል የተገደለ መሆኑን ሰምቻለሁ # ደሞ ሌባው ያቶ ይርጋ አሽ\\nከር ነበር ይባላል--» '\\n\\n«አዎ ። ብዙ ዘመን ቤታቸው የኖረ አሽከር ነው ።»\\n«ነገሩ ተንኮል ያለበት\\n«እኔም ይህንኑ ጠርጥሬ ነውወ»\\n\\n«ማለፊያ»> ፊታውራሪ « «ገንዘቡ እኔ ዘንድ ባደራ ይቀመጥል\\nነል። ካ፲ፃዴሪ፲፬፲፲ያ የበለ፰፲ሉክ፰፲፰ና ክባድ ነገር የለም ። “መተማሙን ከሌለ አደዴራ\\nሰጭም ሆነ አደራ ተቀባይ አይኖርም” ይል ነበር መክብብመ .\\n\\nትን ጥያቄ ስለሚያውቅ ፥\\n\\nየመክብብን ስም ሲያነሱ ፥ ቀጥሎ የሚጠየቁ ዳ ትሩጭ።\\n\\nብን እንደምትመስል ነግሬሃለሁ * ይል ነ\\n\\nአሉፍ ኘሳፊያ ነው ። በርታ ። ያንትን ልብ ለታፈሰ ቢሰዊ ጥሩ ነበር»\\nት። የቀጠፉትን አበባ እያሸተቱ #\\n\"},\n",
       " {'page_number': 231,\n",
       "  'text': \"230 ሠሀዲስ\\n፴\\n\\n«ገንዘቡ እርስዎ ዘንድ እንዲሆን የፈለኩበት ሌላም ምክንያት ኣለኔ\\nአላቸው ።\\n\\n«ሌላው ምክንያት ምንድን ነው?» አሉት ።\\n\\n«የወረዳው ገዢ ገንዘቡን ካዝና ካላስገባህ በማለት ወጥረው ይዘው\\nኛል» አለ።\\n\\n«እንዶሱ አለ?ው\\n«በየቀኑ እያስቸገሩኝ ነው.›..»\\n\\n«እንዲህ የተስገበገበው ለምን መሰለህ? ያው እንዶ ልማዱ ሊበላው\\nነው ። ሲሾም ያልበላ ሲሻር ይቆጨዋል የሚለውን አባባል በሚገባ በስራ\\nየሚተረጉም ሰው ቢኖር ጥላሁን ብቻ ነው ። ግን ሲቀዶም ኀበር!» አሉ።\\n\\n«እንዶዴት?» አለ ሀዲስ ።\\n\\n«ሳይሆንለት ቀረ እንጂ ፤ ይርጋ ሊቀድመው ነበር ። ጉድ”ኮዞ ነውሀ»\\nአኤሉ ተገርመው ።\\n\\nነገሩ ተከሰተለት ። ምናልባት አቶ ይርጋ ገንዘቡን ቀድመው እጃቸው\\nውስጥ ለማስገባት የቸኮሉት የአቶ ጥላሁን ፍላጎት ገብቶአቸው ይሆናል ።\\n\\nፊታውራሪ ተ+ተካ የቀጠፉትን አኣበባ አሁንም እያሸተቱ ፡ «ግድ የለም ፥\\nአይዞህ ። ገንዘቡን ማንም አይነካውም ። የወረዳው ገዢ አምጣ ብሎ ካስ\\nቸገረህ እኔ ጋ መሆኑን ንገረው ። ያኔ እንተያያለን ። አልጠግብ ባይ ሲተፋ\\nፆድራል ሕኤሉ ። ለመሆኑ ምን ምክንያት ሰጠህ?» አኤሉት ።\\n\\n«ዋህዝብ ገንዘብ እንዳይባክን ሃላፊነት አለብኝ ነው የሚሉት.--»\\n\\n«እንዲህም አ'ርጎ የለ! ሕዝቡን ግጦ የበላው ማን ሆነና ነው?ግን ምን\\nይዴረግ? እሱስ ምን ያድርግ? ህዝቡ ላይ ጅቦች የሚለቁት ሌሎች-ናቸው ።\\nእሱ ምን አጠፋ? እንዴ ሙሩት እየተመራ ነው ። አሽከር የሚኖረው እንዶ -\\nጌታው አይደልገእ» ካሉ በሁዋላ ትክዝ ብለው ቀሩ ።\\n\\nእጅ በመንሳት ተሰናብቶ ሊሄድ ሲል ፤ እንዲቆይ አዘዙት ።\\n\\nሻ ጊዜ.\\nየሚያዶዴንቁቱዋት መስለው ነበር የሚታዩት። ቀዝ ጫካውን «\\nእ.ያክመተና ቀዝ ያለ ኣየር፤\\n\\nሳር ቅጠሎንና ሳሩን ለዘብ ባለ ሙዚቃ ስዶነሶ\\nይነፍሳል ። ወፎች ሰልፍ ገብተው ወዶ ገባ በረሃ ይበራሉስያት ስሪ\\n\\nጠለቅ ባለ ድምፅ * «የደወሉንም ነገር አስብበት» አሉት #\\n\"},\n",
       " {'page_number': 232,\n",
       "  'text': 'ሠዲስ 231\\nሺ» ኣለ ።\\nጭዐየቀላፀዐስት ዘር ነህ » አይደለም?>»\\n«ነኝ።”» ፲\\n\\n. ጵኩር ብለው በዚያ በሚያስፈራው አይናቸው እያዩት ፤ «ጠባይህ\\nሸጋ * አሳብህ ጥሩ ፤ አጥንትህም የጨዋ ነው> አሉ ።\\n\\nሀዲስ የሚሰጠው መልስ አልነበረውም ። ዝም አለ።\\n\\n«ትምርትም አለህ ።»\\n«ገና አልጨረስኩም» አሰ ።\\n«“*ትምርት ማልለቂያ የለውም\" ይል ነበር መክብብ-»--»\\n\\n«አዎ ፥ ቁርጥ እሱን ነው የምትመስለው ። እና « እያወቁ በሄዱ ቁጥር\\nአለማወቅ ይከተላል። “*“ሰው በመጨረሻ የሚያውቀው አለማወቁን ነው\\'\" ይል\\nነበር» እያሉ ወዶ ቤት ሲያመሩ፣፤ ሀዲስም ተከትሎአቸው ሲሄድ፡ «ለመማሩ\\nእንደ ሆን ትዴርስበታለህ ። ምን የሚያስቸኩል ነገር አለ? ብልህ ሰው ትም\\nህርት ቤት ባይገባም ክህይወት ሊማር ይችላል።ክህይወት የበለጠ ትምህርት\\nቤት የለምጋ በማለት ፥ ቤት ገብትው ክድንክ አልጋቸው ሳይ አረፍ ካሉ በሁ\\nዋላ ፤ «ግን አንድ የማታውቀው ወይም ያልገባህ ነገር አለ ። ያገራችንን\\nባህል * ወግና ስርአቱን ማወቅ አለብህ ። እስቲ መካሪ ሽማግ\\nኋለግ ..«.ጁ እንዳሎት ቶሎሳ እየተትጣዶደፈ መሙጥቶ በጆሮአቸው አንድ ነግር\\n\\nጡ ።\\n\\nፊታውራሪ ዶንማጠው ፥* «መቼ!» አሎሉ ።\\nመምሬ መሀሪ አራቱንም ማእዘሸን በመስቀላቸው እኖየባረኩ ገቡ ።\\n\\n«ዛሬ ነው አሉ ። ቀን ላይ»> አላቸው ቶሎሳ ።\\n«እንዴት ነው የሞተው?» አሉ ከተቀመጡበት ተነስተው ።\\n\\nሀዲስ ማን ይሆን የሞተው በማለት ዶነገጠ #“\\n\\nመምሬ መሀሪም ነገሩን ቀዶም ብለው ሰምትተውት ስለ ነበረ፤ «ኗድንገት\\nልባቸው ቆሞ ነው አሉ የሞቱት» አሉና ምክንያቱን ነገሩዋቸው ።\\n\\nፀዲስ ነገሩ ግልፅ ስላልሆነለት የባሰውኑ ተጨነቀ ።\\n\\nቸጡ- ፊታውራሪ * «አያና ሞተ! ወይ ጉዋዴ” በማለት * ካባቸውን ክላያ\\nላይ ጥለው ራሳቸውን በመያዝ ፤* «የታሪክ ጉዋዴ ! ወንድሜ ! እኔ እኮ\\nጠላትነትክን አልጠላም ነበር ። ወይ የታሪክ ጉዋዴ! እንግዲህ ማን ቀረ?\\n\\nን ቀረሁ > እያሉ ይጮሁ ጀሙር “\\n\\nምን ዋይታው ባንዳፍታ ቀለጠ ። ስራ ቤቱ ሁሉ ተሰብስቦ ይላቀስ ጆመር ።\\n\\nቅሳ እንዶደ ተፈጠረ፤ ማን እንዶ ሞት አያውቁም ። ግን እንባ እየተራ ያለ.\\n\\nፎፃ ። ኣቶ ጣሴ ደጉ ጡዋት ፤ ስለ ፊታውራሪ ኣያና ልጅ ስለ ዳኛቸው\\nምሮው ላይ የቀረፁበት ምስል ቁልጭ ብሎ ታየው --4-ሀዲስ =\\n\\nዳኛቸው አያና ቀኑን ሙሉ በየመሸታ ቤቱ እየዞረ ሲሰክር ይውላል ።\\nጄ፤ የብርሌ ጉዋደኞቹቼ የወሳንሳ ተሸክመውት ወስደው ካባቱ በር ላ፪ይዋ\\nል።=ዊፈረደባቸው ምስኪን ያባቱ አሽክሮች አንስተው ያስተኙታል ።\\n'},\n",
       " {'page_number': 233,\n",
       "  'text': '232 ሀዲስ\\n\\nጪኣ\\n\\nክተኙበት እየጎተተ ወስዶ ሳጥናቸውን በግድ ያስ\\nሌሊት ፲፲ካነስ፲፲፲ኣበ ፡ርኬ፡ባዷዞፎ ይወስዳል ---«ብር አምላኩ1» ብሎ እየሰደባ\\nቸው ። ዘወትር እንዲሁ ነበር ።\\n\\nለሰው አይነግሩት የክብር * ከስሰው አያሳስሩት ወይም ተኩሰው አይ\\nገድሉት የስጋ ነገር---ኖገዛ ስጋቸው ፥ አፈር ያነሳ ስጋ--ሆኖባቸው እንዲሁ\\nጡዋት ማታ . . .እህህ የልጅ ጠላት አይስጣችሁ - - . ከልጅ ጠላት ሰውረን\\nማለት ነው . . .እህህ . .. በማለት አንጀታቸው እያረረ ይኖሩ ነበር ።\\n\\n\\' እንዴደ ልአማዳቸው ድስት ጠራርጋ የምታጎርሳቸው ግገረዳቸው---ድስቱን\\nወስዳ ከመቃብራቸው ላይ ስትጥለውና * ድስቱ ፍርክስክሱ ወጥቶ ገግገሎቼ\\nከመቃብራቸው ላይ ሲበተኑ በአይነ ህሊናው ታየው ።\\n\\nግል ።\\n. የገል ስብርባሬሪ ።\\n: ህይወት ።\\n\\nህሀዲስ በግርግሩ መሃል ሹልክ ብሎ ወጣ። ሲሄድ ሁሉ ፥ “መካሪ ሽማ\\nግሌ ፈልግ\" ሲሉ ምን ለማለት ፈልገው ነው? እያለ ባሳቡ ነገሩን ያወጣና\\nያወርድ ነበር - . -እሳቸው የሚናገሩት ነገር እንቆቅልሽ ። እስዋ የምትፅፈው\\nነገር እንቆቅልሽ ። ያቶ ይርጋ ነገር እንቆቅልሽ ። ያቶ ጣሴም አሳብ እንቆ\\nቅልሽ ። ሁሉም ነገር እንቆቅልሽ ። ህይወት ራስዋ እንቆቅልሽ ።\\n\\n«ከማን ነው?» አላት ።\\n«አፋን ሲዳማ እምቤኩ» አለች በኦሮምኛ ።\\n\\nበችኮላ ወረቀቱን አነበበ ።\\n\\n«አሁንም የጨነቀኝ ነገር አለ ። አባቴ\\n\\nርቄው እንድሄድ አይፈልግም ። ጭንቄን ለማን ላዋይ? የሚሰማኝ የለም #\\nአሁንም ካንተ ብልሃትና ዘዴ አይጠፋምና ይህመ ለ\\nህን ምክር በደብዳቤህ ግለፅልኝ።» ልክት እንዴዴረሰህ--ያ\\n\\nእግር የሌለው ሌላ እንቆቅልሽ! የቴ ዴ አሳብ\\n፮ኤ፭፲ ብዳቤ? አለ ። አንድ\\n\\n«ስሚ የኔ እህት ፲\\n«ለኪ።» አፋን ሲዳማ እምቤኩ ።»\\n'},\n",
       " {'page_number': 234,\n",
       "  'text': 'ሥኳ፹\\n\\nኦሮምኛ እየቆጠረ ፤* ኗኢላ . . . አሜ . . . ጊፍቲኬ ዴቢአኣ\\nተጦሷኦክ።ቅግ፤ረቕት ላይ ፃፍ ፃፍ አድርነ ሰጣትና ችትያሷ፣፡ የፈለገውን\\n8 ዊመ\\nፖን ነበር፣ ---አሱመማት ሲኤጋ ። ዳፊ» አላት = ልሲላ ኢማ ናፊሬዲ “\\n\\nሴትየዋ ወረቀቱን ይዛ ሮጠች ። ተአምር አያልቅም እያለ ዛፍ ጥላ ስር\\nቆሞ ይጠብቃት ጀሙር ። ልቡ ክፉኛ ተሰቅሎበት ። ዴቂቃዎች እንደ ሰኣት\\nረዘሙበት ። መንግድ መንገግዱን ሲያይ ሴትዮዋ ብቅ ኣለች ። እዚያው ቆሞ\\nአልጠበቃትም ። ወደ እስዋ ሮጦ ሄደ ። ከአይናለም ዘንድ ይዛ የመጣችውን\\nደብዳቤ ሴጠችው ።\\n\\n«እቪ» ብሎ ካሰና8ታት በሁዋላ ፥*0 አንድ ዛፍ ተጠግቶ ደዴብዳቤውን\\nበናፍቆት ገለጥ አድረገ ---\\n\\n«ውዴ አይናለም.--»\\n\\n«እንደ ተለያየን አንቀርም ። ያላንቺ አለሜ ባዶ-ትሆንብኛለች። አንቺ\\nየሌለሽበት ህይወት ሊጭጥመኝሜ አይችልም።ስሚኝ ውዴ---ሰርግሽ ሊቀር የሚ\\n፤ላለል፶በ፪ጎ፲፲፲ክድ ሳስብበት ነበር ። ያንቺም ምኞት ክዚህ የተለኖ አይመ\\n\\n።\\n\\nነጉሩፍ አጉል ይሆናል ። እንደሚመስል አድርገሽ በጥንቃቄ ነገሩን የፈፀምሽ\\nእንደ ሆነ ግን » ፊታውራሪ ጨክነው አይድሩሽም ። ምናለ በዬዩኝ ።\\nሰርጉ ከቀረ ስለ ወደ ፊት ኑሮአችን ሌላ ብልሃት እፈልጋለሁ ። ይህን\\nደብዳቤ ካነበብሸው በሁዋላ አቃጥዩው ።\\n\\nአፍቃሪሽ\\nሀዲስ ሳህሌ»\\n\\nደብዳቤውን እንዴ ገና አነበበ ። ተአምር አያልቅም አለ ። እንደ ተመ\\nከረች፤ ደብዳቤውን አቃጥላ ባለ መጣልዋ ደስ አለው። የእጅ ፅሁፉ በጣም\\nደስ ይላል ። ማን የእሱ የእጅ ፅሁፍ አይዶደለም ። ማን ይሆን እንዲህ ያለ\\n፫፭፲፲ዳቤ በኔ ስም የፃፈላት! አለ ። እሱ መሆን አለበት ብሎ ወደ ታፈሰ\\nሮጠ ።\\n\\nታፈሰ ብሩ ቤት አልነበረም ። ላቡን እየጠረገ ኣንዱን አሽከር ፥*\\nናየት ነው የሄደው?» ሲል ጠየቀው =“\\n\\nሀዲስ ተመ - ሦንበርዋ ልትጠልቅ አሽቆልቁሳለች ።\\n፤፮፲ ብሎ ፀ፯ኣ፰ ገባ ፲፩፭፲፲፭ከርዮጄ፪ ደስ አላለውም ። «እዚሁ እጠብቀ\\n9» ብሎት ቁቄጭ አለ ።\\n'},\n",
       " {'page_number': 235,\n",
       "  'text': 'ፋይሉን እያገላበጠ የሚፈልገውን ነገር ግ ---ያውና! ብሎ አንድ\\nወረቀት ከፋይሉ ውስጥ ገንጥሎ አወጣና * ሹን ይዞ * የታፈሰን እጅ\\n\\n«ቤቱ ውስጥ ትሮጥ ነበር እንዴ?» አለው ታፈሰ ባርኔጣውን እያስ\\nቀመጠ ። ክላይ እስከ ታች “ብሉ ጂንስ” ለብሶ ተረከዙ-ረጂም የሆነ ጥቁር\\nቦት ጫማ አድርጎአል ።\\n\\n«ክዚህ አልተነቃነኩም ። ከክመጣሁ ጀምሮ እዚሁ ነበርኩ ። ምን\\nነው?» አኤለው “ .\\n\\n«ሰው ሲሮጥ የሰማው መስሎሜ ነበር» ብሎት ክፍሉሎን-በአይኑ ይቃኝ\\nጆመሙር ። ሀዲስ አይኑን ባይኑ ሲከክተል ፤ ወዶ ፅህፈት ቤቱ ከሚያስገባው\\nበር ላይ ያለው መጋረጃ ተገልጦ ታየው ። በሩም ገርበብ-ብሎ ነበር ።\\n\\nሀዲስ ቶሎ ብሎ * «የት ነበርክ?» አለው ።\\n\\n«ከነጋዴዎች ጋር ወደ ደኔ ሄጄ ነበር» ብሎ መለሰለት›፥ አገሙን አክክ\\nአከክ እያደድረገ ።\\n\\nአንድ የከነከነው ነገር እንዳለ ፊቱ ላይ ያስታውቐ ሄበር ።\\n\\n«ሸጥከው?>ጭ\\n። «የለሌም ።“» .\\n«ለመሆኑ ስንት እንስጥህ አሎህገውጅ\\n««ሰባት መቶ ሽህ ብር ።»\\nሀዲስ አፉዋጨና ፤ «ታዲያ ለምን አልሸጭከውም?> አለው *\\n\\n«ሚሊዮን ብርም ቢሰጡሜ አሁን ጋር ፍቅር\\nይዞኛል = ታላቅ ደን ነው› አለወ፡ . ጦጠው ጆ ክዚያ-ዶንጋ\\n\\n«ግንዘቡስ?»\\n'},\n",
       " {'page_number': 236,\n",
       "  'text': ', - ዲስ 235\\n\\n«ገንዘብ ክሌላ ቦታ ላገኝ እችላለሁ ። ደኑ ግን ለጊዜው መቆየት\\nአለበት # ብሸጠውም ከሁለት ሚሊዮን ብር በታች አልነካውም።ቆይቶ\\nያወጣል ። ታያለህ ። ቄጊዜው ግን ክደኔ ጋር የያዘኝን ፍቅር መጨረስ አለ\\nብኝ» ብሎት ሄዶደና \"አፔረቲቭ”\" ለመስራት ቀይ ቬርሙጥና ጂጁን እየቀዳ\\nይቀላቅል ጀመር ።\\n\\nታፈስ ደኑን በጣም ይወደው ነበር ። ሳይነጎበኘው ውሎ አያውቅም ።\\nእንደ አይኑ ብሌን ነበር የሚመለከተው ። ከታላላቅ ዛፎች መሃል እየተ\\nሽሎከለክ መሮጥ ይወዳል ። ሲደክመው ደግሞ በጣም ከሚወደው አንድ\\nታላቅ ዛፍ ስር ቁጭ ብሎ * ጉሬዛዎች ፥ አንዴ ጀርባቸውን ፤ ሌላ ጊዜ ደማሞ\\nደረታቸውን ለፀሀይ እየሰጡ ካንዱ ዛፍ ወዶደ ሌላው በመዝለል * የሚያሳ\\nዩዬትን የሰማይ ላይ ትርኢት ማየት በጣም ያስደስተው ነበር ። እሺ ብሎ\\nደኑን ያልጎበኘለትን ሰው እንደ ጠላቱ ነበር የሚመለክትው ።\\n\\n«አንድ ልስጥህ 7\\n\\n«የለም እቸኩላለሁ» አለ ሀዲስ ። ፡\\n\\n«ክቸኮልክ ለምን መጣህ?» የሚል ነበር የታፈሰ መልስ #\\n«በዚህ ሳልፍ እንዲሁ ልይህ ብዬ ነው ።\\n\\n«እዚህ አካባቢ ምን ታደርጋለህ?]» ብሎት *0 የሰራውን “ኣፔረቲቭ”?\\nቀመሰና «እም> አለ ።\\n\\n«ዮምኖርበትን አካባቢ እየዞርኩ ማየትና ማጥናት ዶስ ይለኛል»\\nአለውና ለመሄድ ተነሳ ።\\n\\n«ጥናፋን ትተህ ከሱጴ ብትሄድ ይሻሳል---.»\\nስለ እሱ ጡዋት ተ+ተነጋግረናል #።»\\n\\n. «የመጣኸው አሳብህን የለወጥክ መሆንክን ልትነግረኝ መስሎኝ\\nርጩ።\\n\\n«የለም ። ምንም የተለወጠ ነገር የለም ። እንዲሁ በቀላሉ አሳቤን\\nየምለውጥ ሰው አይደለሁም ።»\\n\\n«ምን ሆንሃል ?»ጅ\\n\\n«ምን -ሆንኩ- ?»\\n\\n«ጤነኛ አትመስልም ።“»\\n«ኣይዶደለሁም» ብሎት ወጣ ።\\n\\nለማንኛውም ነገር የእጅ ፅሁፉ የታፈሰ ብሩ አልነበረም ።\\n'},\n",
       " {'page_number': 237,\n",
       "  'text': '236 ህዲስ መ ግ\\n ስለ ገንዘቡ እንዶ ነገሩት ማድረጉን ሊነግራቸው ወድ ኣቶ ጣሴ ቤት\\n\\nሄዴ ። አቶ ጣሴ በሩም ። በሌሊት ነው ወዴ የሚ\\nሄዱት ። እረፃቋ፲ቤ፲፷ኖሡነ አይቀሩም ። የትምህርት\\nቤቱን አየር ካልተነፈሱ መቼም ። ሆኖም ትምህርት ቤት\\n\\nጠሩት።\\nቢሮአቸው ውስጥ ሌላ ወንበርፎ የለም ።\\n\\n«አሁን ማ ይሙት እንዲሁ አምልጠህ የምትቀር ይመስልሃል !»\\nበማለት ጮሁበት ።\\n\\nሰላላዋ ድምፃቸው እንደ መርፌ ጆሮውን ጠቀጠቀችው “\\n«የሚሉት ነገር አልገባኝም» አለ ሀዲስ «#እንደ ጡዋቱ አየር ቀዝቀዝ\\nወ ረ\\n\\n«አም ፥0 ምን ይግባሃል ። አውቆ የተኛ ሰው ቢቀሰቅሱት አይሰማም\\nአሉ» በማለት ክተረቱበት በሁዋላ አንዴ አገሱበትና * «ዮኖሴራኽኸው አጉ\\nልና ጭፍጉን ህገ-ወጥነት በትምህርት ቤቱ ላይ ሊያስከትል የሚችለው\\nጉዳትና አዶጋ አልታየህም። እንዴት ብሎ ይታይሃል ! አይንህ እንዶ ሆነ\\nበአብሪት ተጋርዶሕአል ። ይህ ትምህርት ቤት በህዝቡ ሸንድ ጥሩ ስም ነበ\\nረው ። ባጉተ ምክንያት ስሙ መጥፋት የለበትም ። ለዚህ ሁሉ ተጠያ\\nቂው አኣንተ ነህ » አኤሉት እየደነፉ ።\\n\\nሀዲስ አሁንም ቀዝቀዝ በማለት ፥* «የትምህርት ስምየዮ\\nጠፋ ምን ንገር ሰራሁ?» አላቸው ። ጆ ሚያ\\n\\nአዲሱን\\nትምህርት ቤት ለመስራት ተመኝታችሁ\\nራኽው ተ+ትንኮል የትምህርት ቤቱን ስም ጩዐረሙቸኮ፲ጩጡ፲ የ\\nቃሉን የቻል የፖለቲካ ወንጅ አው 2 እንዲህ አይነቱን ነር መፈፀም\\nው\\nእያሉ የዛቻ ማአት አወረዱበት። \" ያውም የወንጀል ወንጀል!---»\\n\\n«አሁን ልሯድ እችላለሁ 1፡ ኣለ ሀዲስ ።\\n\\n. አቶይርጋጠረጼሙእየዶዐዶዑዑርይሀንነውእኮየፆለፀቼ\\n፰፲ሀሪ፲፲ነበ፪፲፲፲ ፡፡ሜሎኑፀ ሰላላዋ ድምፃቸው ጣራውን ጥሳ እስክትወጣ ድረሶ\\n\\nበልቡ ሰኔና ሰኞ እያለ ወጣ = አቶ ጣሴ ደጉን አሁንም\\nየት እንዳሎ የሚነማ - ፲፲፲ኣ፲ዘ፲፲ፃሪዖቸ፤ሳስለሙሙዐ\\nረው ሰው አላግኘም = አቶ ጣሴን ምን ዋጣቸው?\\n'},\n",
       " {'page_number': 238,\n",
       "  'text': 'ወዲስ 237\\nጀሥጐ\\nለመጀመሪያ ጊዜ እንዴ ቶማስ ተጠራጠረ፡። የወርካው ነገር ከብዶአቸው\\nይሆን? ስለ ተጠራጠራቸው መልሶ ራሱን ጠላ ። ሾ\\n\\nደወል ትደወለ ። ደወል? ያዲሱ ደወል ድምፅ ተሰስማው ። ውበቱ\\nታየው ። ክፍል ገብቶ በመሚያስተምርበት ጊዜ ፤ ባዛጋ ቁጥር ፋጡማ መሠ\\nመድ ትስቅበታለች ። አየር ለመቀበል ወደ መስኮት ጠጋ አለ ። ወርካው\\nበነበረበት ቦታ ላይ ያዲሱ ትምህርት ቤት ህንፃ ቆሞ በአይነ ህሲናው ላን\\nዳፍታ ታየው ። ለእረፍት ተደዶወለ ።\\n\\nተማሪዎች አንድ ላይ.ተጉንጋማተው ሲወጡ ፋጤሔ”ዎያ መሀመድ ወዶ\\nሁዋላ ቀረች “ ]\\n\\n«ክፍል ውስጥ ማስቲካ ማኘክ ተይ ብዬሽ አልነበረም>ጋ አላት መፃግ\\nህፍቱን እየሰበሰበ ።\\n\\nየሳቅ እናት ። ሳቅዋን ጀመረች ። ጠረንዋ ትለወጠበችቅት ። ለስለስ ያለ\\nሽቶ ነበር የሚሸተው =” ፍልቅልቅ ብላለች ። የለበሰችው ቆንጆ ብጫ\\nቀሚስ ቅላትዋን በይበልጥ ያንላል ። ሰውነትዋ የጣዝማ ማር ወለላ ይመ\\nስላል ”\" አይንዋ እንደ ኮከክብ ያበራል ። ለፃድቃን ወይን እንድታቀብል\\nአላህ ለጀነት የመረጣት ትመስላለች ።\\n\\n«አዲሳባ እንዴት ነበር> አላት ። መልስዋ ሳቅ ነበር ።\\n«መልክቱን\\' አዴደረስሺቪልኝዩየፒወ\\n\\nከደብተርዋ ውስጥ- ዴደብዳቤ አውጥታ ሰጠችው\\n«ከእትዬ በለጡ ጋ ንው?» -\\n\\n«ነሽ» ብሎአት ደብዳቤውን ሊያነብ ሲል ፥\\n፤ኒርዬሣ፡ጽክር ልትሰጠው እጅዋን ስትዘረጋ አያት ። ሰማያዊ ቡዋት\\n። ;\\n\\n49: \\'=\\n\\n«ምንድን ነው እሱገ»\\n«የኔ ስጦታ ነውወ ብሳ ሳቀች ።\\n\\nቡዋቱን ከፍቶ ኣየ ። ፓርከር ብእር ነበር ።\\n\\nጻ ከእትዬ በለጡ ያመጣችለትን ደብዳቤ ክፍቶ ማንበብ ጀመረ ። ዶደብ\\nዔ፲፲፲፲፲፲ፀ ኗ...የላክልኝሜ ገንዘብ ዴርሶኛል። የላክሃትም ልጅ አንድ ቀቆሚስና\\nኻግ በተጨማሪ ገዝታ ሰጥታኛለች ። ስለኔ አታስብ ። ደህና ነኝ-። ነገር\\nኣፌከና፡ኑሀሙክያሉት ባለስልጣን ፥ ትልቅ መኖሪያ ቤት ለመስራት\\nበማለ>. . ግቢው ስለሚጠበኝ ሣምት ልስጥሽና ቦታውን ልቀቂልኝ\\nነው : ;ውዋት ማታ ያስቸግሩኛል ። ሊሰጡሜ ያሰቡት ግምት በጣም ትንሽ\\nዴጉቡኔአሁንሣፀእዖቢካልሽ ሌላ ቦታ ንጣፍ ሰጥቼሽ አባርርሻለሁ ወ\\nበዚች ኣ ድ ሩቅድልኛል ። ክሁለት መቶ ሽህ ብር በላይ የሚያወጣ ቤት\\nጅምረጥ:2- ምንያት ተጥጭሎ መቅረዱ አይችልምእያሱ፣ ማስፈራራት\\n” መጭተጐትሀህ ንግሩን መ ብታስይዘ =\\nጓንጻሁነኩኣቅዎየለኝፆ፲ሀ፲ጠነበር፲ ፸\\n'},\n",
       " {'page_number': 239,\n",
       "  'text': '፸ዶ፵፩ቭ\\n\\nበጣም ተናዶና አዝናኖ ፥ “እኔስ ምን አቅም አለኝ? ድሀ ቦታ ያጣበት\\nኣአገር!\"? ሲል ትኩስ ሰማ ። አንዴ ብቻ አልነበረም የተተኮሰው ። ሁለቴ\\nበተከክታታይ ፥ ሶስተኛው ዶማሣሞ ክጥቂት ጊዜ በሁዋላ ነበር የተተኮሰው «\\nእየተጣደፈ ሲወጣ ፤ ሌሎች መምሀራን ወደ ትምህርት ቤቱ ፅህፈት ቢት\\nሲሮጡ አይቶ እሱም በሩ=ኔሄ ተክተላቸው ።\\n\\nአንድ አይናው ዘበኛ ካቶ ይርጋ አለሙ ቢሮ በር ሳይ ቆሞ “እሪ” ይላል።\\n\\n«ምንድን ነው! » አለ ሀዲስ ”\\n«ትጋዶሎ ! ትጋዶሎ !\\n\\n«ኗእነማን ናቸው የተጋዶሉት?»\\n«ኡ!ኩኡ!ኡ ! ያገር ያለህ !\\n\\n። ሀዲስ ዘበኛውን ገፍቶ + ሌሎችን መምህራን በመከተል ወደ አቶ\\nይርጋ ቢሮ ገባ ። ቀውሌ በቁመቱ ጋረደው ። ክፊቴቱ ገፋውና ወድዶ ፊት ብቅ\\nአለ ። አይኑጉግ ጠላ ። ቁዋቅ ሲለውም ፈለገ ። አይኑን ጨፍኖ ወጣ ። አቶ\\nይርጋ ፥ አንጎላቸሙው ፈሶ ፤ አይናቸውን በድንጋጤ እንዳፈጠጡ አፋቸውን\\nክፍትው ፥ ወንበራቸው ላይ እንዳሎ ወዴ ሁዋላ ተንጋለዋል ። ኣቶ ጣሴ\\nዶጉም በጀርባቸው ክወለሉ ላይ ተዘርረዋል ። በአፋቸው ደም ይፈስሳል ።\\nፃፎር የሰላም እንቅልፍ የተኙ ይመስሉ ነበር ። ሸሽጉጣቸው እጃቸው ላይ\\n”\\n\\nከጥቂት ጊዜ በሁዋላ የመቶ አለቃ አቨሽኔ አራት የታጠቁ ፖሊሶች\\nአስክትሎ ሲገሰማሣስ መጣ ።\\n\\n«ምንድን ነው?» አለ ሀዲስን ሲያይ ።\\n\\n- ሀዲስ ፈዞ ቆሞ ነበር ። ምላሱ የከዳው ይመስል በሌባ ጣቱ ወደ አቶ\\nይርጋ ቢሮ አመለክተው ። መቶ አለቃው ገላምጮጦት አለፈ ። አብዛኛዎቹ\\nተማሪዎች ትዶናግጠው በየቦታው ቆመዋል ። ጭቂቶቹ እግሬ አውጭኝ\\nበማለት እየወጡ ወዶ ቤታቸው ይሮጣሉ ። ጭምጭምታ የሰሙ ሰዎች\\nከየአቅጣጫው ወደ ትምህርት ቤቱ መጉረፍ ጀምረዋል ። ሀዲስ ፈዞ እንዶ\\nቆመ ፡ አንድ ተማሪ በኤንቬሎፕ የታሸገ ወረቀት አምጥጭቶ ሰጠው ።\\nበድኑ ነበር ኤንቬሎጭን የክፈትው ። ደብዳቤው ከአቶ ጣሴ ዶጉ መሆኑን\\nሲረዳ ፤ ክመጥፎ ቅዥት የባነነ ይመስል ራሱን ነቅንቆ ነቃ ።\\n\\n«... ልጄ ሀዲስ ። ልጄ ልበልህ። በስጋ ባልወልድህም በመንፈስና\\nበአላማ አባትና ልጅ ነን ። አሳቤ ምን እንዷዴ ይህን ደዴብዳቤ ከማንዐ\\nብህ በፊት ዶደርሰህበት ይሆናል = ሟ -\\n\\n«እንቅፋትህን ከፊትህ አስወግጃለሁ ። እኔም አብሬው አዲሱ\\nትምህርት ቤት እየታየኝ ነው የምሄዴው። የዴስ፰፲ ዠ፲፶፲፯ዐሁ፥ሀ ብር\\n፰ሀራተኛህ ዘጉንድ ትቻለ፲ር፪፲፲፫ ዷዷቱገ ሽህ ለትምህርት ቤቱ አራቱን ሽህ ለራ\\n\\nአድርገው ። የኑጃሻኝ መወ በትም “የፍቅር” ን\\nጋዬንም ትቼልሃለሁ = ፡ “# ..\\n\\n«መቶ አለውቃውን ትጠንቀቀው።\\nነው-። ወርካውን በፈንጂ የጣለው ፎዛታስጩ፷ነ፲ሙ፬ ወ የአውሪ\\n'},\n",
       " {'page_number': 240,\n",
       "  'text': \"ሩ ሙኡሎኡጅምቕዱጮዱጹጧኹኤቨጹዱ ፡ ዲስ 238\\n\\nነበር ፍ ማን ፤ ነገሩ ታፈሰን በቀጥታ ፤ ፊታውራሪን ዶ\\nብ፲።፲ሲ፻፭፰ሩጣገድ ስለሚነካ ፤ አሁን የመረጡት ዘዴ ፥ አጐያኚነ ፎጎየን\\nዷበ በመዶለል ወይም በማስፈራራት ካገር ለማስወጣት ነው።ለማይቀር\\nሞት አትፍራ ። አዴራ አላበዛም ። ልጄ ዶህና አሁን-...»\\n\\nሀዲስ በዝምታ እንባወን አፈስስ ።\\n\\nየሱጴ ሰው ወሬ ደ/ጠማዋል። ግን እንደ ተጠማ አይቀርም። ባለፈው\\n\\nቀን ከወርካው መውደዶደቅና ፊታውራሪ ቤት ውስጥ በደረሰው ትንግርት\\n\\nየቡና ጀበና ሳይጥድ ፥ ጉድ ነው ሲልም አደረ ። በሁለቱ ሰዎች ቀብር ላይ\\n\\nተካና ታፈስ ብሩ አልተገኙም ። ለፊታውራሪ አያና ቀብር ወዶ\\n\\nኖጳ ሄደው ነበር ። ነገሩ የወሬ ሰርግና መልስ ሆኖ ስሰነበተ ። ሀዲስ የሚጠ\\n\\nነሰስበትን ሴራ የሚሰማበት መንገድ አጥቶአል ። በአቶ ጣሴ ዴጉ ሞት\\n\\nአይኑንና ጆሮውን ያጣ ያህል ነበር የሚሰማው ። በመሆኑም ሀዘኑ በጣም\\n\\nከባድ ነበር ። ችምህርት ቤቱም መሪ በማጣቱ መዝረክረክ ጀምሮአል #\\n\\nዳሬክተሩም * ምክትሉም ፤ አስተዳዳሪውም አቶ ይርጋ አለሙ ነበሩ---ነፍ\\nሳቸውን ይማረውና !\\n\\nእንዴ አሮጊት ጥርሶች የወሳለቁ መዝጊያዎች፤እንዶ ቆላ ቁስል የሚ\\n\\nቀፉ ምርጊታቸው የፈራረሰ ግድግዳዎች ፡ የበሰበሱ ነገሮች ሽታ ታፍኖና\\n\\nታፍጎ የቆየ የሰው መንፈስ እየቀፈፈው ነበር ወዶ ፖሊስ ጣቢያው ዮገ\\n\\nባው።በር አንኩዋኩቶ ወደ መቶ አለቃ አሽኔ ቢሮ ጋባ ። ሰውዬው ፤ በሲ\\n\\nጃራ ጢስ ታፍኖ ነበር ። ካፈነው የሲጃራ ጢስ ውስጥ ፊቱን ብቅ አድርጎ ፥\\n\\nኣላርፆን ኖሮአል?. .. አው! አንተ ነህ እንዴ? ይህን ቦታ ታውቀዋለህ?»\\nው በመገረም እየተትመለከተትው ።\\n\\nየአይኖቼ ቅላት ያው ነበር ። እሳት የሚትተፉ ይመስላሉ ፤ ለማየትም\\n\\nመ ። የአይኖቼ ቅላት » ሁልጊዜ እንደ ትናደደ የሚኖር ሰው ያስ\\nስለዋል =\\n\\nቦሱ እ፡ምን ፥ የመጣሁ ሰሞን አንድ ቀን የክብር እንግዳህ በመሆን እዚሁ\\nዘዷ፤ግኝቼ ነበር ። ወንበርዋም ይችው ሳትሆን አትቀርም።» አለና « ወን\\nስቦ ተቀመጠ ። ሰባራ ወንበር ነበረች “\\n\\nአሽኔ ሌላ ፩ ቁራጭ ሲጃራ ኣአዲሱን አቀጣጥሎ\\n'ፈበቃ › ባፉም በፍንሜጫውም መእት የሲጃራ ጢስ እየለቀቀ ፥ «ዛሬ ምን\\n\"},\n",
       " {'page_number': 241,\n",
       "  'text': '240 ወዲስ\\n\\n............... ሽ\\n\\nእግር ጣለህ ታዲያ?» ሲል ጠየቀው ፤« በሲጃራው ጢስ ውስጥ አጨ\\nእያየውና ሰውን በሚጠራጠሩ ትላልቅ ቀይ አይኖቼ እየመረመረው :\\n\\n- ሀዲስ ጠጉሩን ቆፈረና።«የመጣሁት ያቶ ጣሴ ደጉን ቤት የሰበረጨ\\nሌባ ጉዳይ እንዴት እንዶ ተዘጋ ወይፃ፩፲፲ ዋፃት እንዶ ዶረሰ ለማወቅ ነበርል\\nአለው “\\n\\nየመቶ አለቃ አሽኔ ድንጋጤውን ለመዶበቅ አልቻለም ። ሲጃራ በሲ\\nጃራ አቅቀጣጠለ ። በሲጃራ ጢስ ውስጥ አጨንቁሮ እያየው፥*።«አንተ እዚህ\\nውስጥ ምን የሚያገባህ ነገር አለ? የተሰበረው ቤት ያቶ ጣሴ ። ወኪል ነህ\\nወይስ ጠበቃ» አለው ።\\n\\n«ነገሩ ያገባኛል ብዬ ነው..›-.»\\n«እንዴት?» በማለት የሀዲስን ቃል ወረቀት ላይ ፃፍ ፃፍ አደረገ ።\\n\\n«ሌባው ሊሰርቅ የሄደው ለትምህርት ቤቱ ስራ በመዋጮ ከህዝብ\\nየተሰበሰበውን ገንዘብ ሳይሆን አይቀርም ብዬ ነው> አለው ---ሀዲስ ።\\n\\nመቶ አለቃው የሲጃራ ጢስ ባፉም ፤ ባፍንጫውም ለቀቀ ። እንደ\\nጢስ ማውጫ ነበር የሚጨሰው ። ሀዲስን ለማስፈራራት አሁንም አንድ\\nነግር ወረቀት ላይ ፃፍ ፃፍ አደረገና በሲጃራ ጢስ ሙውስጥ አጨልጎ እያየው፥\\n«ይህን ለማለት የሚያስችል ምን ማስረጃ አለህ?» በማለት መስቀልኛ\\nጥያቄ ያቅርብለት ጄጀጄመር ።\\n\\nሀዲስ ትክሻውን ነቅነቅ አደረገና ፤ «ያካባቢ ዑሁኔታ የምትሉት ነገር\\nአለ አይዶል? አጠራጣሪ ሁኔታ አለ» አለው ።\\n\\nመቶ አለቃው በንዴት የሲጃራውን ቁራጭ ባመድ ተሞልቶ ክሚታ\\nየው መኮስተሪያ ውስጥ አወደመና ፡ «ሌባው ያቶ ይርጋ አሽከር ነበረ የሚ\\nባለውን አኤሉባልታ ሰምተህ ነው? መሰረት የሌለው አሉባልታ ነው ። ሰው\\nዬው ካቶ ይርጋ ቤት ከወጣ ቆይቶአል ። ከእሳቸው ቤት የወጣውም ሰርቆ\\n\\nነው ። የታወቀ ልማደኛ ሌባ ነበር ። ወህኒ ቤት ሰብሮ ሊያመልጥ ሲሞክር\\nበዘብ ጠባቂዎች ተገድሎአል ። 6.ቻ\\n\\n«ይሄው ነው። ሌላ ታሪክ ወይም ምስጢር የለውም፡ግን አንተ ታሳ፣\\n\\nናለህ ። ከዚህ በፊት የፈተና ውጤት አጭበርብረዋ ጥሩ ስማ\\nቸውን ለማጥፋት ሞክረህ ነበር ። አሁን ዶግሞ ፪ትልወዷ፯ለ፰መመ ያለ\\nምንም ማስረጃ የሌባ ተባባሪ ናቸው በማለት ስማቸውን ለማጥፋት ተነስ\\nተሃል ። አጥንታቸው በሰላም ቢያርፍ ምናለበት!» ኬተቀመጠበት ተቦፉን\\nጥሮ በመነሳት ሀዲስ ላይ እንደ ሞት ጥላ በረጂም ቁመቴ እያንዣበቦ ፦\\n\\n«ይህ ሁሉ ወዴት እንደሚያመራ ታውቃለህ?»>\\n\\nሀዲስ ወደዶ ላይ ቀና ብሎ እያየው ፣ «ወዴት ነው የሚያመራወ\"”\\nአለው ።ወ\\n\\n«ባቶ ይርጋ መገደል ያንትም እጅ እንዳልበ በራስህ አሁን\\nአሁን አጋልጠሃል ። ባንተና ባቶ ጣሴ መሃል ባ፰፲ ዴርጋ ላይ የቶጦነ\\n'},\n",
       " {'page_number': 242,\n",
       "  'text': 'መ መ ዲስ 244\\n\\nነበር ማለት ነው ። ሃገሩ የሚያመራው ወዶዚህ ነው\\nፅራ ነካፍመለሰና የሆነ ነገር ፃፍ ፃፍ ካደረገ በሁኖዋላ 4 «የንፁህ ሰው ዶም\\nበከንቱ ፈስሶ የሚቀር አይምሰልህ ። የሌባ ተባባሪ ናቸው የምትሉት በምን\\n\\nያትና ለምን አላማ እንደ ሆነ አሁን ገብቶኛል ። ወርካውን የጣሉት\\nእነ ማን እንዶ ሆኑ ተከታትለው ስለ ደረሱበት ነው በግፍ የተገደሉት። ግን\\nአይምሰልህ ። እውነት ተሸፍና አትቀርም ። ምናለ በለኝ ። ይህን ነገር\\nከዳር ሳላደርስ ብቀር እኔ አሽኔ ወንድ አይደለሁም! ቁጭ ብዬ እሸናለሁ!»\\nአለና ጠረጴዛውን በጨበጠው ቡጢ አንዴ ደለቀው ።\\n\\nሀዲስ ፍንክች አላለም ። ወደዶ ላይ ቀና ብሎ እያየው ፥ «መቶ አለቃዬ ፤\\nእኔ እንዲህ አይነቱ ውንጀላ አያስደነግጠኝም ።ዶደግሞ፤ የምፈራው ነገር\\nየለም» አለው * ቃላቱን ርግጥ እያደረገ ።\\n\\nጊ «ማንን ተማምነህ ወይም ምን ይዘህ ነው እንዲህ የምትንጠባረር\\nብኝ!» 4\\n\\n«ሀቅ ።»\\n\\n«እሺ ። ሀቁን ማወቅ ትፈልጋለህ» ብሎ የጠረጴዛውን መሳቢያ\\nከፈተ ። የፈለገውን ነገር አላገኘም ። ደንማግጦ ሁለተኛውን መሳቢያ ሳበ።\\nአይኑ ፈጠጠ ። እያሳበው ሶስተኛውን መሳቢያ ሳበ ። ሀዲስም ያልበው\\nጀመር ። መሳቢያው ውስጥ ያለውን ፋይልና ወረቀት ጎልጉሎ የፈለግገውን\\nነገር ሲያጣ ጠረጴዛው ላይ ያለውን ደወል ደወለ ።\\n\\nእንዶ ገና መሳቢያዎቹን እያወጣ አንድ ባንድ ይፈትሽ ጀመር ። የፈ\\nለገውን ነገር አላገኘም ። አይኖቹ ፈጠጡ። በጣም ያልበው ጀመር።\\nሀዲስም እሱን አይቶ አላበው ። ደወሉን እንዴ ገና በሃይል ዶወለ። እያከክ\\nታተለ በሃይል ዶወለ። ትእግስት አጥቶ ነበር። ---የምን ሀቅ ሊያሳየኝሜ ፈልጎ\\nይሆን?! አለ በልቡ ። ጭንቅ ያዘው ።\\n\\nአንድ ወታዶር ፖሊስ መጥቶ ሰላምታ ገጭ ኣሕድርጎ በትጠንቀቅ\\nቆመ ። ሀዲስ ጀርባውን ላብ ላብ አለው ።\\n\\n፡ብ «የወዳጆ ጉርሙ- ፋይል የት አለ !እዚህ ፤ አንደኛው መሳቢያ ውስጥ\\n4ር «።5»\\n\\n«ወታዶር ጎይቶም ወስዶታል፤ ጌታዬ---»\\n«ለምን? በማን ትእዛዝ!»\\n\\nኗእኔ እንጃ ፤ ጌታዬ ። ግን ፋይሉ ከመዘጋቱ በፊት ማየት ኣሰብኝ\\nሷል ነበር » ጌታዬ ወ»\\n\\n«ምናባቱ አገባውና! ማን ስልጣን ሰጠውሀ»\\n«እኔ እንጃ * ጌታዬ ።=»\\n\\nመቶ ኣሕለቃ ደዴመ ዘሎ ከቢሮው ወጣ ። ራሱን ስቶ እብድ\\nጄየ ነበር = ሀዲስ ጊዜ፭፸ፍላ፶፱በ፮ቆም ። መቶ አለቃው ሲጭረው የነበረ፪፲ችን\\n<ቀት አንስቶ› ክኪሉ ያንን ደብዳቤ በማውጣት ሁለቱን የእጅ ፅሁ\\n'},\n",
       " {'page_number': 243,\n",
       "  'text': 'ቡ ፡በኢ.ሒ.በስስክክክ.. ዬ በበሽ\\nዋጫማ ድምፅ ስምቶ የመቶ አለቃውን ወረቀት ጠረኢ\\nጃ፡ላፎ፤፡ ጩጹ ወረወረ ። ወረቀቱ ቦታውን አልያዘም ።\\n\\nየመቶ አለቃ አሽኔ የቕሰለ አውሬ መስሎ ነጸር ። ንዴት እየተናነቀጡ\\nጫን ፤ ጫን ይተነፍሳል ። የሆነ ሰይጣናዊ ተንኮል ሀዲስ ላይ ድንገት ያየ\\nይመስል እያፈጠጠበት ፥ «ከወታዴር ጎይቶም ጋር ምን ግንኙነት አለህ?5\\nበማለት ጠየቀው ።\\n\\n«ታውቀዋለህ?\\n«አላውቀውም ። ለምንድነው የምትጠይቀኝ?»\\n\\nመቶ አለቃ አሽኔ መልስ አልሰጠውም ። ባሳብ ተውወጦአል ። ግን\\nየሚያስብ አይመስልም ። ተወናብዶ ሚዛኑን ያጣ ሰው ነበር የሚመስለው።\\nሀዲስ ። ሰውዬው ሚዛኑን እስኪያገኝ ድረስ እድል አልሰጠውም ። ሹልክ\\nበማለት እግሬ አውጭኝ አኣለ ። የሆነ አደጋ ታይቶት ” ሸ <። አሳ ጎርጉዋሪ\\nዘንዶ ያወጣል እንዲሉ ፤ ትንሽ አሳ ለማጥመድ ወደዶ ፖላ ስ ጣቢያው ጎራ\\nያለው ሰው ትልቅ ዘንዶ ይዞ ወጣ ። የመቶ አለቃ አሸሽኔ የእጅ ፅሁፍ ደብዳ\\nቤው ላይ ካለው እጅ ፅሁፍ ጋር ፈፅሞ አይመሳሰልም ።\\n\\nወዶድዶ ቤቱ ሮጦ የታፈሰን ሽጉጥ ያዘ ። ሰራተኛው የወታዶር ጎይቶምን\\nመኖሪያ ቤት አመለከተችው ። በቀጥታ ወዶደዚያ አመራ ። ጀንበርዋ አቆ\\nልቁላለች ። ብርሃንዋ አድማሱ ላይ ቀይ ሆኖ ይታያል ። ወፎች ረድፍ ገብ\\nተው ወደዶ ገባ በረሃ ይበራሉ። ክብቶች እምቡዋ እኢያሉ ወደ ቤትያመራሉ።\\nእምቦሳዎች ከቤት ሲጮሁ ይሰማል ። ጢስ ከየቤቱ ይጨሳል ። ጎጆዎች\\nህይወት ዘርተዋል ።\\n\\nከወታደር ጎይቶም ቤት ደጃፍ ላይ አንድ ሰው ቁጭ ብሎ መፅሀፍ\\nሲያነብ ክሩቅ ተመለከት ። ጠጋ እያለ ሲመጣ ነው የሰውዬው ጎፈሬና\\nጢም ጎልቶ የታየው ። ልቡ ድንማግጥ አለ ። እሱ ነው? ወይስ እሱ አይዴለም?\\nእያለ ሲያመነታ ፤ ሰውዬው ከሚያነበው መፅሀፍ ላይ ቀና ሲል ፊት ለፊት\\nተያዩ\\n\\n«ማኦ !?» ብሎ ጮኽ ሀዲስ ።\\n«ፕሮፌሰር!»\\n\\nተቃቅፈው ተሳሳሙ ። እና ፥ ሁለቱም በ ቆሙ\\nይትያዩ ጀመር = መገረም ው እየተሳሳቁ\\n\\nሄድ ይመስ\\nመች ነፋስ በተነሳ ቁጥር “ማኦ ድንጋይ ኪስሻ መጨሠሪ” የ ቀ ት ቡት\\n\\nነበር “ ጠጉር * አጥንት ---ሌላ ስዑነጓቺዷሽልጨዖሪዞ # -\\n\\nጩሦጭሡዉሙባጤጩ የወጣው *\\nሙህሙፃሙክሶቸሠጎፈዙእያዐጁየነይ፲\\n'},\n",
       " {'page_number': 244,\n",
       "  'text': '፡ ሠዲስ 243\\n\\nየሱረት ሱስ እንዳለበት ሰው በረጅም ሹል አፍንጫው አየር አስሬ ወ\\nለይ እየሳበና በቂጡ- ወልቆ ዱብ ሊል የሚደርሰውን ሱሪዷኮን ወዴደ ላ፰\\nእየነተተ*ፍምን መሙሰለህ ፤ ፈተና ማለፍ እኮ የቢሮክራሲ ክርስትና ልጅ\\nመሆን ማለት ነው። የኢእውቀት መለኪያ አይደለም። የቢሮክራሲ ድቁና ፥\\nቅስናና ጵጵስና ትቀበልክና አዋቂ የሆንክ መሰለህ!\\n\\n«እውነቴን ነው . --.ምን መስለህ፤ትምህርት ቤቶች የጭቆና መሳሪያ\\nዎቹ ናቸው ። መጋረጃው ትከፍቶ የሀቅ ፀዳል ግልጥልጥ ብሎ የሚታይባ\\nቸው ስፍራዎች ሳይሆኑ ውሸትና ቅጥፈት የሚሰበክባቸው የጨለማ ቤተ\\nመቅዶሶች ናቸው። ሰብእናህ ተሙዋልቶ ለተሙዋላ ህይወትና ኑሮ የምት\\nዘጋጅባቸው ስፍራዎች አይደሉም ። ይልቅ --- ምን መሰለህ . . -ነገሩን\\nጠለቅ ብለህ ብታየው --. ትምህርት ቤቶች የገዢው መደብ መሳሪያ እን\\nድትሆን---እ . .-.ለገዢው መደብ ድቁና---ቅስና ... እ ...ጵጵስና ነው። የገ\\nዢው መደብ አላማ መለኪያ ኖሆነውን ፈተና ካለፍክ ምናለ---በቃ ጥም\\nቀት ፀቅ፪፲፲ርስትና፸እርገት፩ዷያቆን ። ያዳቆነ ሰይጣን ደግሞ ሳያቀስ\\nአይለ ”\\n\\n«ምን መሰለህ---ፈተና አለፍክ---ድግሪ---በአራት መቶ ሃምጓ ብር ተቀ\\nጠርክ ። በቃ ። ክከዚያ ወዲያ ምን አለም አለ! ባዶ ቅል ። እንደ ባዶ ናስ\\nየሚጮህ ። የቴማሟረ ዶደንቆሮ ። ብር ሀቁ ፤ ምቾት ጭንቁ ፤ ሆድ አምላኩ ።\\nእኔ ፈትና ለማቋፍ ማግድም ደንታም የለኝሜም ። የገገርው መደብ ዲያቆን\\nመሆን አልፈልግም> በማለት የወፈ ክርክርይገጥም ነበር-- ጥሩ ጭንቅላት\\nእያለህ ለምን አታጠናም? ብልውሙ በጠየቁት ቁጥር ። ታዲያ የክርክሩ ማሳ\\nረጊያሁልጊዜ የስድብ ውርጅብኝናናዳ ነበር--የኢምፔሪሬያሲሊዝም አፈ - ቀላ\\nዉዎች0 ቡኙላዎች ፥ ዋፊፌዬዲሲዝሞም.ጋሻ ጃግሬምች፥ አዴግዳጊዎች ፥ የቡርዝ፡\\nዋዎች ዲያቆኖኙ--- ጠፖወጣሚ ቄሶች --እነ ድግሪ አምላኩ -- ዶዴንቆሮዎች\\nወዘተ... መዘተሠይውን እንጂ ፤ \\'ማኦዬ\"? በማለት ከማሞካሸት አልፎ ቂም\\nየሚይዝበት ወይም አምርሮ የሚጠላው ተማሪ አልነበረም ።\\n\\nትንሽ ሉት ክርክሩን በመሰልቸት “ዮሀንስ መጥምቁ” ሲሉት\\nበቅርብ የኚያየሟጠውቁት አንዳንድ ጉዋዶኞቹ ዶግሞ--“ትንሹ ጴጥሮስ” እያሉ\\nነበር--ወዲያው ካድ ያደርገናል ስለሚሉ ።\\n\\n«ምንም አልተለወጥክም ጃል» አለ ሀዲስ ሳህሌ አፍንጫውን ነፋና ።\\n«አንተም ቅሱኤ አየር የተስማማህ ትመስላለህ?» አለው ማኦ ።\\n«የሚገርም ነው>» አለ ሀዲስ * «እዚህ ምን አመጣህ?»\\n«ወንድሜን ልጠይቅ መጥቼ ነው---»\\n፡፰፰፲ዴር ጎድጠ፯ሁ\\n\\n፲ ፲ትተዋወቃላ ገ፡»>\\nፍየለም ። ግን ላንድ ጉዳይ ፈልጌአቸው ነው #“»5\\n\\n6ሱ ረግን እሱ ያውቅሃል ። ስላንተ አንስቶ ሲያጫውተኝ ነበር ። ትምህ\\nኳት ማሰራት ጅምረሃል አሉ ። »\\nጪዝ መቼጭ ንው የመጣኸው?ጅ ት ሳስብ ነበር መ\\n\\nንት ወደ ማታ ። ወዳንት ለሰመምጣ\\n“ወኘ,ድምህ አሁን የት ናቸው?»\\n'},\n",
       " {'page_number': 245,\n",
       "  'text': '244 ሠሀዲስ .\\nጪ\\n«ቅድም እንደ ወጣ አልተመለሰም ። ስላንድ ነገር ይፍደድ ነበር ,\\nወንድሜ ሁል ጊዜ ባለቆቹ እንዶ ተናደደ ነው የሚኖረው፡፡ ምን መስለህኔ\\n\\nበማለት አፍንጫውን አስሬ ወደ ላይ እየላከ ። ስለ ወንድሙ በመጠኑ\\nአጫወተትው ።\\n\\nጎይቶም በየጠቅላይ ግዛቱ ያልሰራበት ፖሊስ ጣቢያ የለም ። ካለቆቹ\\nጋር እየትጣላ ካንድ ጠቅላይ ግዛት ወደ ሴላ *#ካንድ ፖሊስ ጣቢያ ወደ ሌላ\\nጣቢያ እያዘዋወሩት ሲንክራተት ይኖራል ።\\n\\nእንደዶ ማኑ አባባል ታዲያ ካለቆቹ ጋር የሚጣላው በግል ጥቅም አይ\\nዶዴለም ። በኤርትራ ጠቅላይ ግዛት ምፅዋ በሚሰራበት ጊዜ በኮንትሮባንድ\\nየሚያዙ በብዙ ሽህ ብር የሚገመቱ እቃዎች ባለቆቹ ሲበዘበዙ አይቶ ፥\\n\\n“ለምን እንዲህ ይሇናል?\\'\" በማለቱ የበላይ ትእዛዝ አይቀበልም ተብሎ ወደ\\nሸዋ ተባረረ ።\\n\\nአራተኛ ፖሊስ ጣቢያ ተመድቦ ሲሰራ የሌባ ጠር በመሆን ለጥቂት\\nወራት ታዋቂነትን አትርፎ ነበር ። ሆኖም ፤ አለቆቹ ጉቦ ሲበሉ ደርሶባ\\nቸው ለበላይ በማመልከቱ #እንዴ ጥፋተኛ ተቆጥሮ ወዶ ኢሎባቡር ጠቅላይ\\nግዛት መቱ እንዲዛወር ተደረገ ። እዚያም አንድ አሳዛኝ ነገር ገጠመው ።\\nባልዋ ኖሞትባት አንድ ማይም ሴት በፃፈችው ማመልከቻ ላይ የንጉሰ\\nነገስቱን ክብር ነክታለች በመባል ተወንጅላ ለብዙ ጊዜ ታስራ ነበር ።\\nነገሩ ገርሞት፡፦ጉዳዩን ሲከታተል፤በተንኮል ወረቀቱቴን ራሳቸው ፅፈው፡ይግ\\nደጉን ክፍል ካነበቡላት በሁዋላእስዋ ምንም ሳታውቅ ያስፈረምዋት፥ኖዋባ\\nልዋን ኖቡና መሬት ለመቀረማመት የሚፈልጉ ካንዳንድ ባለ ስልጣኖች\\nጋር የድመሳጠሩ የፍርድ ቤት ሰራትኞች ሆነው አገኛቸው ። ክዚያ በሁ\\nዋላ መቱ ውሎም አላድደረ ። ባስቸኳይ ወደ ሱጴ እንዲዛወር ተበየነበት ።\\nበዚው የተነሳ ኖማእርግ እድገት አግኝቶ አያውቅም ።\\n\\nሀዲስ የጎይቶምን ታሪክ ሲያዳምጥ ቆየና ፥ «ከህሊና ንፅህና የበለጠ\\nሹመትበ ት፪ለ፷ለ፲ ከክልቡ ፖሊስ ነው ! አሁን ሁሉም እንዶሱ ቢሆን ምን\\nአለ ።\\n\\n«ምን መሰለህ? አንድ ቀን ህዝባዊ ፖሊስ እንደሱ\\nይሆዊፍልወ» አለው ፤ ማኦ ። ሊስ ሲፈጠር ሁሉም\\n\\nሀዲስ የእጅ ሰአቱን ተመለከተ ።\\n=ቸኩለሃል መሰለሰኝ?»\\n<እዎ ፤ በጣም የሚያስቸኩል ጉዳይ አለኝ ።የሚመጡ ይመስልሃል?»\\n\\nማኦ አፍንጫውን ነፋና ፥ «እኔ እንጃ ። ር ነው\\n\\nጺወፀጆዬኮ ፲፲ዐአንድግ፭ዘ፰፺ ነገር ለፀከታጁኬ ፭፪ለ፰ሰ፰፡፪፲ ፶ኚ፰፲ሩ ላይ\\nመ ር። , ይባባሉ እንዴ ታት አለ\\n\\nውፍኖ፤።«ምን መሰለህ? እሱ ተመልሶ እስ ማ አወህቸና ሙ\\n\\nአኤለው ።\\n“<ዝናሽም ቤት ደርሰሃላ?» አለ ሀዲስ ።\\n'},\n",
       " {'page_number': 246,\n",
       "  'text': 'ገ ፡ ጠ ፡\\n\\n፤ እንዲያውም ኣንድ ያፃፈችኝሜን ግጥም\\nከኪሉሡቄሙ ወረቀት አወጣና ያነብ ጀመር » - ቦብልህ» ብሎት\\n\\nሆይ *፥ ሆይ! የልደታ ፋኖ የወ፥ቤው በረሃ ዳኛ -\\nጋ\\n\\nብር ሲመዘዝ ሲዘራ\\n\\nሲጦፍ ዳንኪራ\\n\\nሆይ! ሆይ! ሌቱ እስኪነጋ\\nቻቻና ማሪንጊ ከሊፕሶና ኮንጋ\\nታንጎ ቡጊውጊ እንዶ ገና ሩምባ\\nሩምባ ማምቦ ስሰምባ...\\n\\n«ጥሩ አይዶለም ወይ?» አለው ።\\n«ያለፈ ትዝታ ነው» አለ ሀዲስ ሰአቱን እያየ ።\\n\\n«ምን መሰለህ? ትዝታ እኮ መጥፎ አይደለም ። ሰው ያለ ትጭዝታ አይ\\nኖርም ። የህልውናችን አንድ አካል ነው» አለውና አፍንጫውን የሱረት\\n\\nሱስ እንዳለበት ሰው ነፍቶ ፤ «ምን አይነት ቅኔ ነው የምትወደው አንዯት?>»\\nበማለት ጠየቀው ።\\n\\nሀዲስ ጠጉሩን ቆፈረና * «እኔ የምወዶደው?... በሰው ልብ ተስፋ ፤\\nፍቅርና ቆራጥነትን የሚያጠነክር ውበት ያለው ቅኔ ነው የምወደው። በቃ\\nላት ጨዋታ ዴስ አይለኝም ። እና ፥ ዶግሞ ስሳለፈው ትዝታ ለምን ሁልጊዜ\\nእንደምንዘፍንና እንዶምንቀኝ አይገባኝም ። ምናልባት ያለፈው ዘመንና\\n፪፸ዜ ህይወትና ኑሮ የተሻለ መስሎ እየታየን ይሆናል ። ቆይ-.-. ኢውነቴን\\nው« \\'\\n\\n«ባለ ቅኔዎች ብቻ ናቸውስላለፈው ትዝታ የሚቀኙትና የሚፅፉት\\nግለቴ አይደለም ። ተራውም ሰው ቢ;ነሆን ፤ ሰምተህ እንዴ ሆነ ፤ የሚያወ\\nራው ስላለፈው ዘመን ጥሩነትና ትሩፋት ስለ ሰው ዶግነት ፥ ጨዋነት፤ጤን\\nነትና ነው ። ግን ሀቁ ፥0 ያሁኑ ዘመን ካለፈው ፥ ዛሬ ከትናንት ‹ ነገ\\nዶግሞ ከዛሬ ይሻላል ። ሰው ዛሬ ከትናንት የተሻለ ይበላል ፤ ይጠጣል\\nይሰራል--ባጠቃላይ አነጋገር ማለቴ ነው። የሰው እድሜም ቢሆን እድሜ\\nለሳይንስ ፥ ካለፈው ዘመን አሁን ረዝሞአል ። እውነቴን ነው የምልህ ፤\\nሰው ስላለፈው ዘመን ትዝታ ለምን ሁልጊዜ እንዶሚዘፍንና እንዴሚያወራ\\nእይገባኝም « ለኔ ፥ ምን ጊዜም ቢሆን ፤ ደስ የሚለኝ የወደፊቱ ተትስፋ ነው ።\\nእና * ቅኔ ይህን ተስፋ በሰው ልብ ማጠናከር አለበት እላለሁ ። በኔ ግምት\\n\"ርቃማው ዘመን መጭው ዘመን ነው» አለው ።\\nኤፌንማኦ አፍንጫውን ሾሇ‹፣“ መሰለህ? ጥሩ ውይይት ነው የጀመ\\nፄነው ። አሷን ባለፊው ዷ፤፤ ፲፲፲፲፻፭፲ቻ ማድረግ ከንቱ ነው “ ግን ውይይቱን\\n\\'ናሸ ቤት ሄዶን እንቀጥል ። ቢራም ጠምቶኛል» ኣለ #\\n\\nንዳልኩህ\\n«አፁን ድም ድምህን ማግኘት አለብኝ ። እ\\n% በጣም አጌቕኹዋይ ፤ውወያአለውና አሁንም ሰአቹን ተመለከተ ።\\n'},\n",
       " {'page_number': 247,\n",
       "  'text': '246 ሀዲስ\\n\\nጣ\\n\\n«ምን መሰለህ? ላያችም የምፈልጋት ልጅ ኣለች ወ\\n\\n«<ኖት?ው\\n\\n«ዝና”ሽ ቤት?»\\n\\n«ኢውነት =ወ>»\\n\\nፍሽታዬን ታውቃታለህ?እስዋም እንዶ ዝናሸ ጨዋታዶስ ትለኛለች ›\\nልእ . . . ቆንጆ ናት ።ወ»\\n\\n«እንሂዳ ?»\\n\\n«እውነት! የለም ። ባይሆን ሁዋላ...»\\n\\n«እሺ> በማለት ተስፋ ቆርጦ ፤ «እስቲ ስለ ትምህርት ቤቱ ንገረሉ\\nመሙቱ ስለ ትምህርት ቤቱና ስላንት ብዙ ይወራል ። ዝነኛ ሆነሃል» አለው።\\n\\n«ስራው በቅርብ ቀን ውስጥ እንደሚጀመር .-ትስፋ ኣለኝ ።»\\n«ባዶ ትስፋ ነው መ\\n\\n«ለምን እንዲህ ትላለህ? !» አለ ሀዲስ በማኦ አባባል ትገርም ።\\n«መጀ፳ጃመሪያውኑ ትምህርት ቤት ለመስራት ምን አኣሳሰበህ?»\\n\\n«ለምን አላስብም?ገ» አለ ፥ ማኦ ስለ ትምህርት ቤትና ስለ ትምህርት\\nያለልውን አስተትሳሰብ ስለሚያውቅ ባዶ ለሆነ ክርክር በር መክፈት እየጠላ ፤\\n«መቼም ቁጭ ብዬ ከንፈሬን ከመምጠጥ ትንሽ ስራ ብሰራ ይሻላል ብዬ\\nነው ። በጎ ምኞት ብቻውን ቁዋት አይሞላም ። ኖትምነ/ርት ክፍሎች እጥ\\nረት አለብን ። ችማግሩ› መፈታት አለበት ። አለ አይደል * ትንሽም ሻማ ብት\\nሆን በጨለማ ውስጥ ማብራት ደስ ይላል ።ጅ\\n\\nማሕ በዚያው ነገሩን አላቆመም ፡፤ «ጊዜህንና ጉልበትክን በከንቱ\\nነው የምታባክነው» አፍጉጫውን አስሬ መንፋት እየጀጄመረ ፥ «ምን መሰ\\nለህ ፤ ለህዝቡ የእርሻው ቦታ፤*መንገግዱ፤ፋብሪካው፤አስተትዳደሩና ፍርድ ቤቱ\\nሁውሉ ችምህርት ቤቱ ነው ። ከሚደርስበት ግፍና ስቃይ ፤ ምዝበራና ጭቆና\\nበቂ ትምህርት አግኝቶአል ። አሁን የሚፈልገው መሰረታዊ ለውጥ ነው\\nእንጂ ተጨማሪ የትምህርት ክፍሎች አይደለም ። ይህን ማወቅ አለብህ ።\\nእንዶ ዱር አውሬ አፍንጫ፤ነገር ከሩቅ ለማሸሽተት የሚችል አፍንጫ እንዲ\\nኖርህ ያስፈልጋል ። የለውጥ ፍላጎት አየር በየቦታው እየነፈሰ ነው ። አል\\nሸትተህ እንዶ ሆነ ያሳዝናል “ አፍንጫ ከሌለህ ምንም ላደርግልህ አልች\\nልም ። ግን፥0 ጊዜህን በክንቱ እያጠፋህ ነው» አለው ።\\n\\nሀዲስ ጠጉሩን ቆፈረና ፥ «እና 0 ምን አድርግ ነው የምትለኝ? ቁጭ\\nብለህ የሚነፍሰውን የለውጥ አየር አሽትት ነው የምትለኝሜየወ ካለው በ፦\\nዋላ፡፥እዋተትነጫነጨ ፥ «የለም አንተ እንደምታስበው ጊዜዬን በከንቱ በማ\\nጥፋት ላይ አይደለሁም ። የነገውን የተሻለ ህይወት መመሙኘት ወይም ቁጭ\\nብሎ ማሽተት አይበቃም--መፍጠር አለብን።የወደፊት ህይወት ተዘጋጅቶ\\nየሚጠብቀን ነገር አይመስልህ ፤ ከዛሬ ጀምሮ የምንፈጥረው ነገር ነው *ፆ\\nመሣማር ያለብን ነገር ምን እንደ ሆነ ታውቃለህ? ራሳችንን ማሰቃየትን\\nሳይሆን ማሰራትን--ድርጊት። ብዙዎቻችን በልባችን ቅን እንመኝይሆናዶ”*\\nድርጊት ላይ ግን ዜሮ ነን> አለ ሀዲስ›» ድምፁን ከፍ አድርጎ “\\n\\n«እንዶ ቄስ ነው የምትናገረው 1\\n«ይሇናል ። የህይወት ቄስ አይደለሁ ።>\\n'},\n",
       " {'page_number': 248,\n",
       "  'text': '፣ ....6 በ\\n\\n«ሃይማኖተኛ ነህ?»\\n«አልገባኝም ጥያቄህ?»\\n«ማለቴ በእግዜር ታምናለህ?»\\n\\nሀዲስ ጥያቄው እያሳቀው ፥ «ባገኘሁትና ደዶስ ባለኝ ። የማቀርብለት\\nብዙ ጥያቄዎች ነበሩኝ» ብሎት ቀጠለና ፡ «እኔ የማምነው በህይወት ነው ።\\nከህይወት ውጭ የሆነ እምነት የለኝም ። ታሪኬ ከሳይ ተፅፎ የተሰጠኝ\\nነው የሚል እምነት የለኝም ። ታሪኬ ከላይ ተፅፎ የተሰጠኝ ነው የሚል\\nእምነት ኖሮኝ አያውቅም ። ሲኖረኝም አይችልም ። ለታሪኬ ሃላፊው\\nእኔው ነኝ--ለድል ይሁን ለሽንፈት» አለው ።\\n\\n«እና፤»#የራስክን ታሪክ እየሰራህ ነዋ!» በማለት አሾፈበትና ፤ ቀጥሎ፣፤\\n«ምን መሰለህ፤ የምትሰራው ትምህርት ቤት ባንት ቤት ለውጥ የሚያስገኝ\\nወይም እድገትን የሚያስከትል ይመስልሃል ። የቡርገዞዋ ህሊናዊ እድፍ\\nገና አልለቀቀህም> አለው ።\\n\\nጢስአለፃግቆባም፲በፃየናፀዐስግግኦ፲እድገትስጎልምነሚለት\\nሆነ በቅድሚያ መታወቅ አለበት» ብሎት ጠጉሩን እንዴ ልማዱ\\n\\nቀት የማግኘት\\n\\nብቻ ሳይሆን የመሆን ጉዳይም ነው ። የሰው ልጅ ክብር ። አሃዛዊ እድገት\\nብቻውን ፋይዳ የለውም ። ለውጥም ስንል ለማን? መነሻውና መድረሻው\\nሰው መሆን አለበት» አለውና ሰአቱን ተመለክት ። ጭለማው አይን ያዝ\\nማድረግ ጀጄምሮአል ።\\n\\n«ለምን ማርክሳዊ መፃፍቶችን አታነብም?» ብሎ ጠየቀው ።\\n«አያነብም ያለህ ማን ነው?»\\n«መፅሃፍ ትራሱ መሆንክን አውቃለሁ። ግን...»\\n\\n«ግን ምን?ጭ\\n«ሳይንሳዊ አመለካከት የለህም ።»\\n\\nኗእና ፣ ደጣግሞ አንድ ሰው አብዮታዊ ወይም ማርክሳዊ የሚሆነው\\nበይህነት ተወልዶ ስሳደገ ወይም ሶሻሊስታዊ ስርአት የማይቀር ታሪካዊ\\nዉ።:> ተብሎ ስለ ተነገረው ወይም ስላነበበ አይምሰልህ - - -»እንዳለ።\\nታደር ጎይቶም እየሮጠ ሲመጣ በማየቱ ደስ ብሎት ንግግሩን አቁዋረጠ ።\\n\\nወታደር ጎይቶም ዮሆንስ የመንፈስ ርጋታ አይታይበትም ። «ዊሕ፤\\n፰፸፪፩፲፲፲ያፆ፲፸ኣለ » ይል ነበር ዴጋግሞ ። ሀዲስ ራሱን አስተዋወቀኖ፣ «ጉዳይ\\nው ።\\n'},\n",
       " {'page_number': 249,\n",
       "  'text': '248 ሀዲስ\\nጩኣ\\n\\nጎይቶም በጣም ቸኩሎአል ።\\n«ጊዜ የለኝም ። የምን ጉዳይ ነበር?» አለው ፤ በንዴት ጣቶቹን እያ\\n።\\n\\n«ስለ ወዳጆ ጉርሙ ፋይል ነበር» አለ ሀዲስ ።\\n\\nጎይቶም ድንገት በነገሩ ተማርኮ ፥ «ስለሱ ፋይል ምን የምታውቀው\\nነገር አለ?» በማለት ጠየቀው ።\\n\\nሀዲስ እንደ አጋጣሚ ከመቶ አለቃ አሽኔ ስለ ፋይሉ የሰማውንና\\nእንዲሁ አቶ ጣሴ ስለ ወዳጆ አሙዋሙዋት ያጫወቱትን ባጭሩ ከነገረው\\nበሁዋላ ፥ «እንግዲህ የኔ እድል የሚወሰነው በዚህ ፋይል ነው ። እንደ ሰማ\\nሁት ፋይሉ በእጅህ ይገኛል ። ራሴን መከላከል አለብኝ ። ከፍ ያለ የተን\\nኮል ወንጀል እየተቀነባበረብኝ ነው» አለው ።\\n\\n«ዋእ ፥ ወዲ አይተ ፤ ሐቂ ዝደሊ ሰብአብዛ አለም ሰላም አይህልዎንሄሀ\\nብሎ እንደ ገና ጣቶቹን አጮኸና ፥ «አንተ አርፈህ ተቀመጥ። ነገሩን እንደ\\nጀመርኩ እኔው ከፍፃሜ አደርሰዋለሁ» አለ ። -\\n\\n«ፋይሉ አሁን የት ነው?ጅ\\n\\n«ዋእ ፤ በጄ ነው ። ግልፅ የሆነ ወንጀል ነው የተፈፀመው ። የትም\\nአያመልጥም ።»\\n\\nማኦ ጣልቃ ገባና ፥ «ጀመረህ እንግዲህ ! ለምን አርፈህ አትቀመጥም!?\\nከዚህ በሁዋላ የት እንደሚያደርሱህ ታውቃለህ? እንጦሮጦስ 1» አለው ።\\n\\n«ዋእ ! ሱጥ በል !»\\n«ዋእ ! እንታይ ይመስለካ ?» አለ ማኦ ።\\n«አንተ ነገሩዎ ቨዘይሰምእ ንርእሱ ይገዶ» አለው ።\\n«አይንክን ጨፍነህ ኑር ነው የምትለኝ?»\\n\\nከዚያ በሁዋላ ሁለቱ ወንድማማቾች ፥ ኗዋእ ! ዋእ >\\n\\nእየተባባሉ ይመጨዋመሙዋሁ ጀመር ። « ን ይፋ\\nለጣሉ ብሎ ሀዲስ ሰግቶ ነበር2 ራ ታቸው” ካሁን አሁ\\n\\nጎይቶም ጣቱን እንደ ጅራፍ አጨሆ ቤት ገባና መሳሪያውን ይዞ\\nሄድ . .. ጨረቃና ከዋክብት የማይታዩበት ድፍን ጨለማ ነበር---\\n'},\n",
       " {'page_number': 250,\n",
       "  'text': \"ክፍ ል ፲፪\\n\\nድፍን ሱጴ ትኩስ ወሬ አግኝቶ ፣ በቀዘቀዘ ጀበና ላይ ጉድ ! ጉድ\\nይላል ። ሀዲስ ተጠርቶ ወደ ፊታውራሪ ግቢ በማምራት ላይ ነበር ፤ ባ\\nፈው ምሽት የደረሰውን ታሪክ እያስታወሰ ...\\n\\nወታደር ጎይቶም ዮሀንስ ትእዛዝ አልቀበልም ብሎ ከማመፁም በላይ ፤\\nበረሃ ከሽፍቶች ጋር ለመደባለቅ የተዘጋጀ መሆኑ ስለ ተደረሰበት ከማም\\nለጡ በፊት እጁ እንዲያዝ በማለት መቶ አለቃ አሽኔ ጥብቅ ትእዛዝ ሰጥቶ\\nነበር።የሚተባበረውፖሊስ ግን አላገኘም። ተንኮሉን ለመሸፈፋን ፤ «በሄደ\\nበት ቦታ ሁሉ የአለቆቼን ስም በውሸት እያጠፋ መኖር የለመይ ወንበዴ\\nነው» በማለት ፥ ጎይቶም ባለፉት አመታት ከስንት ቦታ በዝውውር እንዴ\\nተባረረ ምሳሌ በመጥቀስ ፖሊሶቹን ሊያግባባ ቢሞክርም አልሆነለትም ።\\n\\n!\\nለ\\n\\nነገሩ በጣም ግልፅ ነበር ። ያን ምሽት ከጣቢያው ፖሊሶች መካከል\\nወዳጆ ጉርሙን ለጥያቄ የፈለገ ሰው አልነበረም ። ለጥያቄ ትፈለጋለህ\\nበማለት የህግ እስረኛውን በውድቅት ከትኛበት ቀስቅሶ የወሰደው የጣቢ\\nያው ፖሊስ አዛዥ ራሱ እንዴ ነበረ ሌሎች የህግ'እስረኞችና ተረኛው ዘብ\\nመስክረዋል ። ሆኖም ዋናው ቁም ነገር ይህ አይደለም ። ጎይቶም ፥ የወ\\nዳጆን ቃል እንዳለ ተቀብሎ ካዘጋጀ በሁዋላ ፥ ወዳጆን በማስፈረም ፋይሎ\\nውስጥ ያኖረው ሸገባ ወጥቶ ፤ በምትኩ ፥ ኗእኔ ወዳጆ ጉርሙ ፥ እድሜዬ 38\\nየሆነ፤ ያለ ምንም ስራ የምኖር ...... ቀን አካባቢውጭርብሎ ስላየሁ፥አቶ\\nጣሴ ደጉ የተባሉትን ስው ቤት ሰብሬ ገብቻለሁ ። ሆኖም የወሰድኩት\\nነገር የለም ። ሰዎች ድንገት ስለ ደረሱብኝ ለመያዝ በቅቻለሁ ። ርግጥ\\nከሁለት አመት በፊት አቶ ይርጋ አለሙ ቤት ባሽከርነት ሰርቻለሁ ። መተ\\nዳደሪያ ስለ ሌለኝ ከዚህ በፊት ሁለት ሶስት ጊዜ ያህል በስርቆት ተይዝ\\nታስሬአለሁ ። ከአቶ ይርጋ አለሙም ቤት ለመውጣት የበቃሁት በእም\\nነት ማጉደል መሆኑን አረጋግጣለሁ ...» የሚል ፥ ወዳጆ ቃሌ ነው ብሎ\\nየፈረመበት ዘገባ ከፋይሉ ጋር ተያይሾአል ። ነገር ግን ለነጎይቶም በሰጠው\\nቃል፤...ከብዙ ዘመን ጀምሮ እስከ መጨረሻው አለት ድረስ አቶ ይርጋ\\nአለሙ ቤት በታማኝነት ሲሰራ መቆየቱንና አቶ ጣሴ ደጉን ቤት ሰብሮ\\nሊገባ የቻለው ፥ አቶ ጣሴ ወንጀል ሰርተው ከህዝብ ለትምሀርት ቤቱ ስራ\\nየተሰበሰበውን ገንዘብ ይዘው ሊጠፉ ነውና እንደ ምንም ብለህ ቤቱን ሰብ\\nረህ ገንዘቡን አምጣልኝ ፤ ይህን ያደረግህ እንደሆነ ከኔም ሽልማት ፥ ከህዝ\\n\\nከፍተኛ ምስጋናና ምርቃት ፤ በእግዜርም ፊት ዋጋህን ታገኛለህ ስለ\\nተባልኩ ነው . ..» የሚል ቃል ነበር የሰጠው ። ወዳጆ በፊርማው አረጋ\\nገጦ የሰጠውን ቃል አንድ ኮፒ ለራሱ አስቀርቶ ነበር -- ነይቶም ።\\n\\nወዳጆ ጉርሙ በውድቅት ለጥያቄ ትፈለጋለህ ተብሎ ከተወሰደ\\nዷዑዋሳ ) ወዴ ወህኒ ቤበ፲፭፲፲ አልተመለሰም። በዚያን ምሸት ከእስር ቤት ላማ\\nለጥ ሲሞክር የተያዘ ወይም የተገዴለ ወንጀለሰኛ እንዳልነበረ ተረኛ ዘብ\\n\"},\n",
       " {'page_number': 251,\n",
       "  'text': \"250 ሠዲስ\\nጪ\\n\\nበ ግጡም ሌላ ፤ የጣቢያው አዛዥና አቶ ይርጋ አለጨ\\nሰሷጧ፰፰ዘክጋከረ፰ቢያው ሲወጡ ያየ መሆኑን መስክሮአል ።\\n\\nጎይቶም ይህንኑ ለስራ ባልዶደረባው ሲያስረዳ ነበር የዋለው ። እና ,\\nመቶ አለቃውያፀጌናዶና ተዶናግጦ * «ይህ ሰው በሄደበት ቦታ ሁሉ ያለቆ\\nቹን ስም በተንኮል ከማጥፋት ሌላ ስራ የለውም ብያቸዋለሁ ። አሁንም\\nቢሆን ፤ የሰውዬው ቃል ነው ብሎ ያሰፈረው ነገር ሁሉ ውሸት ነው ። እን\\nዲህ አይነቱ ጭፍን ቅጥፈት ከፖሊስ አይጠበቅም ። ይህን ያዶረገው ደግሞ\\nባንዳንድ ተንኮለኞች በገንዘብ ተገዝቶ ነው ። እና ፤ የሰውዬን ትክክለኛ\\nቃል ክራሱ እንደ ገና መቀበል ነበረብኝ ። እንደምታውቁት ፡ የንፁሦሃን ስም\\nበክንቱ እንዳይጠፋ * እኔም ሆንኩ እናንተ መሃላና ሃላፊነት አለብን ።\\n\\n«ሰውዬውንም ይ የሄድኩት ፤ ቤቱን ሰብሮ እንዴት እንዴዶ ገባ በቦ\\nታው ትገኝቶዱ እንዲያሳየኝ ነበር ። ነገር ግን መንግገድ ሲደርስ 0 ጭለማን\\nትግገን አድርጎ ለማምለጥ ሞክረ። “ቁም!'” ብለውም እምቢ አለ። የእጅ ባትሪ\\nይዝፔ እኖተክታተልኩት አንድ ጊዜ ወደዶ ሰማይ ትኮስኩ ። አሁንም አልቆ\\nመም። ለሁለተኛ ጊዜ ተኮስኩ ። አሳቤ እግሩን ለመምታት ነበር ። ግን\\nጅርባው ላይ ትመትቶ ወደቀ . ..ግን ተንኮለኞች እንደሚሉት ይህ የተደ\\nረገው ለትንኩኮኩል አልነበረም ። ለሀቅ ስል ነው ። አሁንም ጎይቶም መያዝ\\nአለበት ዌ እያለ ቢወትወትም የሚሰማው ፖሊስ አላገኘም “\\n\\nኖሚሰማው በማጣቱ እንዴ እብድ ያደርገው ጄጅመር ። የመሳሪያ ግምጃ\\nቤቱቴን ቆልፎ፥፤እንደዶ አበ ዶች ውሻ እየተቅበዘበዘ መሙሳሪያ ይዞ ይወጣል ።\\nጎይቶም ወዶ ፖሊስ ጣቢያው ፥ እሱ ደግሞ ወዶደ ጎይቶም ቤት ሲሄድ\\nመንገድ ይገናኛሉ ። ምን ሊያደርግ ይሆን? በማለት ራቅ ብሎ ከሁ\\nዋላ ይክተል የነበረ ፖሊስ ፤ መቶ አለቃው መሳሪያ ሲያቀባብል ሰምቶ\\n«ንይቶም ተበላሸህ !፲» ሲል ጮሆ ያስጠነቅቀዋል ። መቶ አለቃው ወዶይ\\nሁጭላ ዞር ብሎ አንድ ጥይት ይለቅበታል ። ፖሊሱ ታፋውን ትጥመትቶ\\nይወድቃል ። ጎይቶም በደረቱ ከተኛበት ስፍራ ሁለት አክታትሎ ይተኩ\\nሳል ። ክዚያ በሁዋላ ፀጥታ ይሰሶፍናል ። ተኩስ የሰሙ መንደረተኞች ግር\\nግርና ሩጫ ይጀምራሉ ። ገሚሱ ወደዶ ሌላ አቅጣጫ ነበር የሚሮጠው ።\\n\\nበዚህ ጊ.ዜ ነበር ሀዲስና ማኦ ሲሮጡ ሙጥተው ከስፍራው የዶረሱት ።\\nጎይቶም በአኸኔ ጥይት ተመትቶ የወደቶቀውን ፖ ። አሽኔ\\nጭጭ ብሎ ከቀረ ቆይቶአል = ፡ ው ንበከ።\\n\\n«ኢንታይ እዚ!» እያለ ማኦ ይጮሃል ።\\n«ሱጥ በል!»\\n\\n«ይዛን አልነበረም የፈራሁት!ጅ\\nፍዝም በል ነው የምልህ!» .\\n«ዋንእ!»\\n\\n«=ዋገላ!>\\n\\nሀዲስ በሁለቱ ወንድማማች ጥል ብቻውን ሳቀ ፣ ወደዴ ፊታውራሪ\\nቤት የሚያወጣውን ዳገት ጨርሶ ወጥቶ ነ አስገ\\n-ሃ፡ ኣል።፡ በር ። ቶሎሳ ወዶ እልፍኝ\\n\\n; ሳለ\\nት = ቹው ላይ ነበሩ « ሙምሩ መስቀል ኦ\\n«ቁፋጭ በል» አሉት ፊታውራሪ ።\\n\"},\n",
       " {'page_number': 252,\n",
       "  'text': '፣ጤውምሎሙጮሙሎዱ....6--.868፤\\n\\n«ቱጭጭ ኣለ # አይኑን ወዴ ጉዋዳ ጣል አደረገ ። ምንም አላየም ። ብቅ\\n\\n«እህሳ?» አሉ ፊታውራሪ ።\\n«ዴህና» ሕለ ።\\n\\n«በትምህርት ቤቱ የተነሳ ሰው ሁሉ ተላለቀ አይደለም ወይ?»\\nከለሳዐ =\\n\\nመቼም ነገር አያመልጣቸውም ። ሁፁሉም አይንና ጆሮአቸው ነው ።\\nሆኖም * ፊታውራሪ ይህን ሊጠይቁት እንዳላስጠሩት ሰውነቱ ነገረው ።\\n\\n«ተንኮለኞች በተንኮላቸው ይጠፋሉ» አለ ሀዲስ ።\\n«ኤምዎ * ነገር ለሰሪው ፤ እሾህ ላጣሬው! ቃየል ሞት ያመጣብን ወን\\nድሙ ላይ ባደዴደረበት ቅናትና ምቀኛነት ነው» መምሩ ነበሩ ።\\n\\n«አምዎ ፤ ሰው የእጁን ዋጋ አያጣም ቋወአሉ ፊታውራሪ ሪዛቸውን አለ\\nንጋ በሚመስሉሎት ጣቶቻቸው ሳብ ለቀቅ እያዴረጉ ። ቀጠሉና ፥ ኗ«ፋፍፎጭ”\\nመሀመድ የምትባለውን ልጅ ታውቃታለህ?» በማለት ጠየቁት ።\\n\\n«አም * ትጥማሪዬ ነች።»\\n«ልክሃት ታውቃለህ?»\\n\\n4 «አዎ *፥ አዲሳባ ስትሄድ አደራ እናቴ ዘንድ ልኬአታለሁጋ። አለ፤ እያላ\\nው።\\n\\n«የለም ፤ እዚህ ቤት ማለቴ ነው» አሉት ።\\n«እንዲያውም> አላቸው ፥ የባሰውን እያላበው ።\\n\\n«አንድ ደብዳቤ ከአይናለም ዘንድ መልሰህ ወስዶህ ነበር ። ያ ደብዳቤ\\nአሁን በእጅህ ይግኛል?»\\n\\nሀዲስ መሀረብ አውጥቶ ግንባሩንና ማጅር ማግንዱን ጠረገ ። በላብ\\nሰውነቱ ርሶአል ። የተኮነነች ነፍሱ ገሃነም እሳት እንዴ ገባች ያህል ነበር\\nየሚያልበው ። በእሱ ስም ለአይናለም የተፃፈውን ደብዳቤ በሚንቀጠቀጥ\\nእጁ ከደረት ኪሱ አውጥቶ ሰጣቸው ። ፊታውራሪ ትካ ደብዳቤውን ቀስ\\nብለው ያንቡ ጀመር ። ከነፍሱ ጋር ተሙዋገተ ። የተኮነነች ነፍሱ እቶጉ\\nእሳት ውስጥ ገባች ። ከዚያ ወጥታ ፤ ቅዝቃዜው እንደዴ ስለት የሚወጋ\\nበረዶ ውስጥ ተጣለች ። ካደረበት ስቃይ የተነሳ ዘመን ያለፈ መሰለው ።\\nሩታውራሪ ደብዳቤውን አንብበው ከጨረሱ በሁዋላ ፤ ለመምሬ መሀሪ\\nአሳልፈው ሰጡ =“\\n\\n- እነረ22 ‹ ዴብዳቤውን እንደ ድጋም ሲያነበንቡ ፤ ፊታውራሪ ሪዛቸውን\\nየጎነነተሉ ዝም ብለው ያስቡ ነበር ።\\n\\n«ጉድ ነው ! ሳጥናኤል.-. ዲያብሎስ ራሱ እንዲህ አይነቱን ተንኮል\\nአይሰራምኔ ኣሉ መምሩ ፤ ደብዳቤውን አንብበው እንደ ጨረሱ ።\\n'},\n",
       " {'page_number': 253,\n",
       "  'text': 'ሀዲስ ላቡን ጠረገና ፥ «በስሜ የተፃፈ ነው እንጂ እኔ አልግፍኩትም «\\nበኔ ስም ይህን ተንኮል ማን እንደ ሰራ ስፈልግ ነበር» አያለ ንፁህ መሁ\\nኑን ለማሳመሙን ወተወተ ፥፤\\n\\n«አንተ እንዳልሆንክ ዶርሰንበታል ። የምትኖዘ፳ውጮ ነገር የለም ። አይ\\nዞ ። ደዴብዳቤውን ፋዱጡማን አስይዘው የላኩት አቶ ይርጋና መቶ አለቃው\\nነ6በሩ ። እግዜር መሬት ወርዶ ሰው ባይቀጣም ፥ እሱ በላካቸው ሰዎች\\nየእጃቸውን ዋጋ አግኝተዋል ። እግዜር ለጥሩትኞች የሚቆርጠው አር\\nጨመጫ ያው ሰውን ነው።\\n\\n. «ይህን ትንኩኮል በምን ምክንያትና ለምን አሕላማ እንዴደ ፈፀሙ እናው\\nቃልን። ወይኔ ትካ! የወንድ ልጅ ልክ ሚዛን እንዳልነበርኩ ሁሉ!»አሉ›\\nጣቶቻቿውን በንዴት ፤ በቁጭ በእልክ እንዶ ጅራፍ አያጮውሁ ።\\n\\n«አዬ ! እባክዎን አይናደዱ ። የልጅ ስራ ነውኮ ኖሰሩት ። ይትውት ።\\nተትክናንበው ቢትኙ ገልጦ የሚያይ አምላክ የእጃቸውን ዋጋ ሰጥቶአቸዋል ።\\nእሱን ማመስገን ነው፤ማማረር ደግ አይደለምጋ> አሉ ሙመምሩ* የመጣውን\\nሰዶይጣን የሚያባርሩ ይመስል አየሩን በያዙት ጭራ እየገረፉ ።\\n\\n«ስራውን ጀጄምረሃል አሉ?» ፊታውራሪ ነበሩ ።\\n«የቱን ስራ?»\\n\\n«ወርካውንም አስፈለጥክ አሉ።»\\n«ሕም።>\\n\\nሀዲስ እንዶ ገኖ ያልበው ጀመር ።\\n«ህም> የሚል ድምፅ አሰሙ ፤ ትኩር ብለው እያዩት ።\\nሀዲስ አቀረቀረ ።\\n\\n«ምን ነው ዋሸኽኝ ፻» አሉ ፊታውራሪ ።\\n\\nቶሎ ማሰብ ነበረበት --- «አልዋሺሸሁምው»\\nእህሳየው ኣአላቸው ወ\\n\\nርት የ-ት ስራበት እያሉ ድንጋይ ሲያቀ\\nብሉኝ አየሁ ። እና ፥ የታየኝን ራእይ እ\\nጣልኩት»> አሕለ * የአቶ ጣሴን ምክር ውን ለማድረግሣ ወርካውን በፊንጂ\\n\\n<መብረቁ አንተው ራስህ ኖረሃል ለካ!ው አሉት ።\\nሀዲስ ፊገማ ብሎ ዝም አለ ”\\n\\n«አዎ> አሉ ፊታውራሪ፤ «\"\\'አምላክ ስፊ\\nዕማል\" ይል ነበር መክብብ....» ፈቃዱን በመረጠው ሰው ያ\\n'},\n",
       " {'page_number': 254,\n",
       "  'text': '- - ዲህክ  253. .\\n\\nሀዲስ በልቡ ቃላቸውን እየዴገመ ፡---\\nበፊት ነግሣሬሃልሁ? ኣለ ። እሱን እንዶምትመስል ከዚህ\\n\\n«ቁርጥ እሱንቓ» ።\\n\\nመምሩ የውሸት ሳል ሳሉ ። የመክብብ ስም ሲነሳ ያስላቸዋል ወይም\\nያስነጥሳቸዋል ።\\n\\n«አዎ» አሉ ፊታውራሪ እንደዴዶ ገና ፤ «ዩያላንድ ታሪክ ወዶዚህ አላመ\\nለከተህም ። የእሱን መንግድና ጥበብ ማን ያውቃል ። ሰው ያስባል እሱ\\nይፈፅማል ። በፈለገው ጊዜ በመረጠው ሰው ።» ፡\\n\\nፊታውራሪ በትካዜ ሩቅ ይመለከቱ ጀመር ። ግን ፊታቸው ላይ ሀዘን\\nኦይታይም ። ፊታኛቸው ብሩህ ሆኖአል። ራእይ የሚያዩ ይመልላሎ። በማ\\nንኛወም ነገር ላይ ያምላክን ስምና ምልክት ማንበብ የሚቀናቸው ሰው\\nናቸው» በማለት አቶ ጣሴ ደጉ ስለ ፊታውራሪ ያጫወቱት ነገር ትዝ አለው።\\nግን ፤ አሳቡ የሮጠው ወደ አይናለም ነበር ። ደብዳቤው በኔ ያልተፃፈ መሆ\\nኑን ስትረዳ ምን ብላ ይሆን? አለ ። በእሱ ላይ ጥላ የነበረው እምነት አሁን\\nሲታየው ፤ የገዛ ልቡን መልሶ እንደ ጦር ወጋው ። ሳይታወቀው አቃሰተት ።\\n\\n«ትምህርት ቤቱ ዲሬክትር አልትሾመለትም ፥* አይደለም?» አሉት\\nፊታውራሪ ።\\n\\n«ገና ነው ።ውጅ\\n\\n«የነገርኩህን ክምን አደረስከው?»\\n«የቴን?»\\n\\n«መካሪ ሽማግሌ ፈልግ ብዬህ አልነበረም?»\\n\\nነገሩ ባይግባውም ፤ «እሺ እፈልጋለሁ» ብሎ ፤ ተሰናብቶ ሲወጣ ፣\\n«እኔም አስቸኩዋይ ስራ አለኝ በማለት» መምሩ ተከትለውት መጡ ።\\n\\nመንገድ ላይ ሲደርሱ *0 በጭራቸው አየሩን እየገረፉ ፥ «ፊታውራሪ\\nያሉህ ነገር ገብቶሃል ወይ?ገ» ብለው ጠየቁት ።\\n\\n«ሁፁለተኛ ጊዜአቸው ነው እንዶዚህ ሲሉኝ ። እንቆቅልሽ ሆኖብኛል #\\nምን አስቀይሜአቸው ይሆን? ኢያልኩም አስባለሁ» አላቸው ።\\n\\n«ኣረ በእልቄይቱ ማርያም !! የቄስ ዘር ሆነህ! አረ ተወኝ! ይህ የፈ\\nረንጅ ትምህርት ያደድባል ልበል! የኛን ትምህርት ዘልቆ የተማረ ሰው\\nቀርቶ ትንሽም ቅኔ ቤት የቆጠረ፤ ሰው የተናገረው ነገር ይቅርና የ፲ሂያስ፲፮\\nውም ይገባዋል» አሉና ቆም ብለው፥፤።«እንዴ? “\"እሺ ሽማግሌ እፈልጋለሁ\\nየለህ ስትወጣ ያሉህ ነገር የገባህ መስሎኝ ነበር ። እረ በእልቄይቱ ማርያም!\\n\\nተናገሩት ነገር ምንም ሰምና ወርቅ የለውም» አሉት ።\\n\\n«ሸማግሌ ላክብሜ ማለታቸው ነው!»\\nእህሳ ፤ የቄስ ልጅ ሆነህ? ምን ነው ጨኖ ሆንክብኝ?»\\n\\nህዲስ እቆሙ ዞ ቀረ ። ዴስታ ነበር ያፈዘዘው ። ከልቡ ጥልቀት\\nዋስጥ ልዩ ጣእዖበ፪፲ለ፰፲ ወዐረበ ሼማ ይፈልቅ ነበር ፤ እና ፤ አለም ከእሱ\\n'},\n",
       " {'page_number': 255,\n",
       "  'text': '254. ሠዲስ\\n፩፩፲፲፲፲፲፲፲፲፩ጓ\\n\\nጋር የዖታዜዖ መስሰለው ። አለም በሙሉ ወደ ጣእመ ሙዚቃ ተለወጠ\\nበት..\\n\\n«የነፍስ አባት አለህ 1ገ»\\nኗእ?ወ\\n«የነፍስ አባት አለህ ወይ!?»\\n\\n«እንግዲያው ፥ እሁድ እሁድከጩስኪያነዎአትቅር ። እንዴ? ሃይ\\nማኖትጐ በተግባር ነው.\\n\\nደህና :\\n\\n«ምን ነካህ? በስመ አብ ወወልድ ወመንፌስ ቅዱስ ...» ብለው መስ\\nሲያወጡ ና--\\n\\n«ምንም አልሆንኩ ። ደህና ነኝ ። ደህና አይደለሁም እንዴ?ጩ በማለት\\nጥሎአቸው ሮዉጠ\\n\\nመምሩ ሲያሳልሙት ያወጡትን መስቀል እንደ ያዙ ፤ ሀዲስ ቁልቁ\\nለቱን ሲሮጥ ፤ ቆመው እንደ ትንግርት ይመለከቱት ነበር...\\n'},\n",
       " {'page_number': 256,\n",
       "  'text': 'ክፍል ፲፻፻\\n\\nየበልግ ዝናብ ከጠፋ ሰንብቶአል ። ምን እንጓባረረው አይታወቅም ።\\nስራ የፈታው ገበሬ ሁሉ ጡዋት፥፤ ቀንና ማታ ፡ «ጸረ ምን መአት መጣ!»\\nእያለ ወደ ሰማይ ያንጋጥጣል ። ዝናብ ሊያመጡ ይችላሉ የሚባሉት የመ\\nገይር አዋቂዎች ሁሉ ምናምን እየተጎመጠመጡ ወደ ሰማይ ቢተፉም ፤የዝ\\nናብ ጠብታ ከየት ምጥቶሂ ሰማዩም እንደ ምድሪቱ ክው ብሎ ደርቆ ነበር።\\n\\nአካባቢውን የሚያናግር የገበሬ ጅራፍ አይሰማም ። እረኞች ዘፈን\\nእየተቀባበሉ መዝፈን ትተዋል ። ወንዞች ስለ ደረቁ ሸለቆዎች እንደ\\nበፊቱ በደስታ አያስካኩም ። ውሀ የጠማቸው አለቶች ዝም ብለው አፍጠ\\nዋል-ዝም--የመቃብር ዝምታ።\\n\\nየአርሻ ማሳዎች ህይወት አይታይባቸውም ። በውሀ ጥማት አረው\\nቀርተዋል ። ከተዘራው እህል ፍሬ ውስጥ ሞቶ ዘር የሰጠ አንድም አይታ\\nይም ። ከብቶች የሚግጡት ርጥብ ሳር አልነበረም--ቆመው የሚያሸቱት\\nአፈር እንጂ ። አፈር ። ያፈር ሽታ ።\\n\\nአንድም የወፍ ዘር አይታይም ። ቃል ወደ ተገባላቸው ምድር በጊዜ\\nየተሰደዱ ይመስላሉ ። ጥምብ አንሳ ብቻ ነበር ፤ ሱጴ ሰማይ ላይ የሞት\\nጥላውን እያጠላ የሚያንዣብበው ።\\n\\nተፈጥሮ አኩርፋ ሰው ላይ ፊትዋን ያዞረች ትመስላለች ። ግንቦት\\nመጨረሻ ላይ በየቀዬው ፣ በየአድባሩ የተነፈረላት ንፍሮ ፤ የፈላላት ቡና ፤\\nየተጨሰላት እጣንና የፈሰሰላትም ዶም ቁጣዋን መልሳ እርቅ እንድታወ\\nርድ አላደረጋትም ። ይልቅ ፥ የንዴትዋ ነበልባል ይባስ ብሎ እንደ እሳት\\nምላስ እየላሰ ልብ ያቀልጥ ነበር ። የታላቁ አድባር መውደቅ የተፈጥሮ\\nቁጣ ምልክት ይሆን? . .. እና ፤ ሰው ሁሉ ተሰብስቦ ፤ እግዚኦ! ሰውረነ\\nከመአቱ ...እያለ በመጮህ ምሀላ ቢገባም፤ መስዋእት ቢያቀርብም እርቅ\\nአልወረደም። ሱጴ እንደ ገሃነም ዶረቀች። እግዚኦ! እግዚኦ! በየቦታው--\\nበየቀኑ። ይሁን እንጂ ፤ የሱጴ ህዝብ ለሰራው ሀጢአት የሚከፍለው ዋ2\\n፰፸፲ሳገኘም ። ለሰው ሀጢአት ቤዛ ሆኖ በመስቀል ላይ የሞተው የሰው ልጅ\\nበቅርቡ ተመልሼ እመጣለሁ ካለ ሁለት ሽህ ዘመን ሊሆን ምን ቀረወ1\\nከ፰ጼ ትእግስት እያለቀ በመሄድ ላይ ነበር ። ሰውን ከጥፋት የሚያድን\\n\\nው ሌላ ማን አለ! ምናልባት ሌላ ሰማእት ያስፈልግ ይሆን? ፤\\n\\nትንገኚክ ትምህርት ቤቱ ፕላን ላይ ቀና ብሎ ሀዲስ ጫን ተነፈሰ። በስራውረገድ\\nመጣልበትን ስፍራ የመደልደል ስራ አሁንም አላሰዕ\\nዋ ነዛር « በእርሻ ወራት የቀን\\n'},\n",
       " {'page_number': 257,\n",
       "  'text': '256 ሀሠዲስ\\n፴\\n\\nግባ በማይባል ርካሽ የጉልበት ዋጋ ስራ ፈሳጊ ሞልቶ ተርፎ ነበር ። ሆኖም\\n፪፸፲፸፲ጄ፸ባሩ ከወዶቀበት ቦታ ላይ አንሰራም በማለት የሚመለሱ ብዙዎች\\nሩ ።\\n\\nየመሬት ምንጠራውንና ድልደላውን ስራ ለማየት ወጣ ሲል ኣንድ\\nየስድስተኛ ክፍል ተማሪ መጥቶ አስተማሪ እንዴ ሌላቸው ነገረው ።\\n\\nፍማን ነው ገብቶ ማስተማር የነበረበት?»\\n«ጋሼ ቀውሌ።>»\\n\\n«አስተማሪ ፥ መምህር እገሌ ተብሎ በስሙ ነው የሚጠራው ! አስተ\\nማሪዎቻችሁን ማክበር አለባችሁ።>»\\n\\nተማሪው እንዶዴዶ ማፈር ብሎ አቀርቅሮ ራሱን ሲያክ ክቆኖ በሁዋላ፣\\n«በዚህ ሳምንት ምንም አልተማርንም ። ክፍል ገብቶ የሚያስትተምር አስ\\nተማሪሬ የለም ። ቢገቡም ምንም ሷሳየስረዱን ይህን ፥* ይህን አንብቡ ብለውን\\nነው ጥለውን የሚወጡት» አለው ።\\n\\nሀዲስ ያለ መርሀ ግብሩ ስድስተኛ ክፍሎችን ለማስተማር ገባ ። ክፍሉ\\nጨርሶ የእብዶች መንጋ ሆኖ ነበር ። አንዱ ትማሪ ኤአስተማሪ መስሎ ባስ\\nችትማሪዎች እየቀለዶ ተማሪዎቹን ያስቅ ነበር ። ሀዲስ ሲገባ ሁሉሎም እንደ\\nአይጥ እየተሽሎክለኩ ሄዶደው ቁጭ አሉ ። ዝም ፥ ፀጥ አሎ ። ውስጥ ውስ\\nጡን በሽቆ ደሙ ቢፈላም ፤ ፈገግ ብሎ ፥* «ልጆች አንድ ነገር ልጠይቃ\\nችሁ ።= መልሱን ማን ይሰጠኛል?» አላቸው ።\\n\\nሁውሁሉም እጃቸውን አወጡ ።\\n\\n=<ጥያቄው ምን እንዶሆነ ሳታውቁ?» ብሎ ሳቀና ፥ እሺ ። ነፃነቱን\\nኖየናሚያክብርና የሚወድ ማን ነው?ጩጭ በማለት ጥያቄውን አቀረበላቸው ።\\n\\n«ኢቪሺቪ አንት።»\\n\\n«<ላግሩ የሚሞችት።»ጅ\\n«እሺ አንቺመጩ\\n<ኤትንኩኝሜ የሚልሠ»\\n፰ስ፭ አ፰ተ ዴፆሞ፸፪፲፩፸ የለም...አም ፤ አንተ\\nጉዴ ፈለገው ኖሚኖር. .. ሷዴፈራ ኖፈለገ\\n«ሌላ መልስ ያለው አለ? እሺ አንተ... አኗጄን -፡ብ 1፪\\n«እንዶ ኢትዮጵያ ህዝብ ለብዙ ዘመን በነፃነት የኖ<ሬ ።>\\n\\nዝም አሉት ። አልገባቸውም ። ኣሕሱም ኣሳቡን በይበልጥ ሊጦራራ\\nላቸው አልፈለገም ። ወዴ መዴበኛ ን\\nእየበሸቀ ፣ ማስተማር ጄመረ ። ትምህርት ገብቶ ፥ ውስጥ ውሳኋጦጥ\\n'},\n",
       " {'page_number': 258,\n",
       "  'text': 'ከሞቱ ወዲህ በትምህርት ቤቱ ፥ በተለይም ባስተማሪዎች ዘንድ\\n\\n#ሊን የሚባለው ነግፎ ፈፅሞ ተበላሸቶ ነበር : ስአችትና አኩብሮ ክፍጠ\\nጎብቶ ማስተማር ቀርቶአል ። በተከታታይ ለሁለት ፥ ሶስት ቀን ምንም\\nምክንያት ሳይሰጡ ዝም ብለው የሚጠፉም አንዳንድ አስተማሪዎች ነበሩ።\\nማን ማንን ያዛል የሚል መንፈስ ባስተማሪዎቹ መካከል የተፈጠረ ይመ\\nታዲያ እንዲህ አይነቱ መንፈስ የተፈጠረው ያለ ምክንያት አልነ\\nከአቶ ይርጋ አስከሬን ላይ አፈር በተጫነ ማግስት 0 መምህራኑ\\nይም ሶስት ላይ ተከፍለው * እገሌ ዲሬክተር ይሁን ፥ የለም እገሌ\\nየሚሆነው በማለት ፣0፤ ትምህርት ቤቱን የማስተማሪያ ቦታ ሳይሆን\\n\\nሴራና የግልፅ ጦርነት መድረክ አድርገውት ነበር ። ዋየእጅ መንሻ\\nእየያዙ ወዴ ጠቅላይ ግዛቱ የትምህርት ሚኒስቴር ቅርንጫፍ መስ\\nየሚሮጡ መምህራንም አልታጡም ። አንዳንዶቹ ደግሞ ደጋ\\nያጠጡና ያበሉ ነበር። ተማሪዎቹን ማን ዞር ብሎ አይቶ!\\nሩ ሳይገባ ገለልተኛ ሆኖ ለመቆየት ቢፈልግም ፥*0 የተማሪዎቿቹን\\nዝም ብሎ ለመቀመጥ አልቻለም ።\\n\\n155\\n- ቅሳሌ)፡\\n\\nት\\n\\n25\\n፪፲\\n\\nማስታወቂያውን ወስዶ ከለጠፈ በሁዋላ ለምሳው አልሄደም ። ካን\\nዳንድ ተማሪዎች ጋር ሆኖ በድልዳሎው ስራ ሲረዳና ሰራተኞቹን እየተ\\nቆጣጠረ ሲያሰራ ነበር ዋዋለው ። እንደ ቀንድ አውጣ የሚጎተተው ስራ\\nተስፋውን ሳያመነምንበት አልቀረም ። ። ።\\n\\n፣\\n\\nየቀጠራቸው የቀን ሰራተኞች ፥ ጥላው የት እንዶ ዶደረሰ ቆመው ከማ\\nየት ሌላ ለስራው ትጋት አልነበራቸውም ። ሁኔታቸውን ሲመለልከቱት ስራ\\nውን ለመስራት ሳይሆን ለመቆጠብ የመጡ ይመስሉ ነበር ። አብዛኛዎቹ\\nየያዙዋቸውን አካፋና ዶማዎች ተደግፈው ስላለፈው ዶግ ዘቨመን የሰው\\nእድሜ ረጅም የሆነበት---ሰው ብርቱና ወጠንካራ የነበረበት--ጤናና ጥጋብ\\nየሞላበት---መተሳሰብና ፍቅር የሰፈነበት---ዶግ ዘመን ነበር ዋየሚያወሩት ።\\n\\nቅብ እንደ በፊቱ ወዴ ጉዋሮ ዞር ብሎ ከሁለት እግር ቡና ላይ አንድ እን\\n\\nጾግዘመን ትዝታ አይኖ ማንከራተታቸው ሀዲስን አሳስደነቀውም፤፣\\nተስፋ የፀአሄዷሳያቼፎገብም ፥5ምንም የለም ። ለእነሱ መጪው\\n\\n፰፫፲ይላካ ማድረግ ይሻል ይሆን? በማለት ሀዲስ መሬቱን በእልክ ፤ በንዴት\\nዛ ኑ .\\n\\nጣኝ ስኣት ሆኖ-ነበር ። ወዴ ስብሰባው አዳራሽ ሄዶ “\\n\\n፬፲፱ሬ የቀሬረ ኣአንድም መምህር አልነበረም ። ምን አዲስ ነገር መጣ! በማለት\\n\\n“ዌ። ፡ ቦታ ለማን ተሰጥቶ\\nይሆን) .ቓሀ.ግ ይመ የአቶ ይርጋ\\nሦን፣ ሁሉም በንንት ሚ መበቀው፦ ወሬ ንበር ። እንዴ አጋጣሚ ሆኖ\\n'},\n",
       " {'page_number': 259,\n",
       "  'text': \"ቢ ደ ..ከ ሽ\\n\\nመመሪያና ትእዛዝ * ወይም የማስተማሪያ መሳሪያዎች ካሉ የሚላክበት\\nእለት ነበር ።\\n\\nሀዲስ ተነስቶ ለመናገር ሲያስብ ፤ ጋሼ “ማይዝር”? ቀዴደሙና ፥ «የተሰበ\\nሰብንበት ምክንያት ምንድን ነውገ፲» ብሎ ጠየቀ ።\\n\\nአቶ ይርጋ ለምክትል ዲሬክተርነት አጭትውት ነበር ይባላል ።\\n«ቢፈቀድልኝ ምክንያቱን ላስረዳ>» ብሎ ትነሳ ሀዷስ ።\\n\\n«በተማሪዎች ስም ብለህ የሰበሰብክን ለመሆኑ ማን ስልጣን ሰጥቶህ\\nነው? ወይስ ትማሪዎች ወክሉህ?» አለው አሁንም ጋሼ ማይዘር ።\\n\\n«የሄ ውክልና ለህሲናዬ ብቻ ነው።ጅ\\n\\n«ታዲያ ስለ ህሊናህ አንተው ተጨነቅበት እንጂ እኞን ምን አገባን!2\\nብሎ መለሰለት ።\\n\\n«ይዳናገር !>ጋ አለ ዱቤ ።\\nቤቱ ፀጥ አለ »\\n\\nሀዲስ ንማግር ኣላበዛም ፤ «መቼም እንዶምታውሓቁት እያንዳንዳችን\\nልተማሪዎቻችን ሃላፊነት አለብን ። ማስተማር ክባድ ሃላፊነት ነው ።\\nትማሪምች ጡቦች አይደሉም። የነገው ህይወት ናቸው። ያገሪቱቴ የወደ ፊት\\nእድልም የሚወሰነው በነሱ ነው ።\\n\\n«ስለዚህ ጊዜአቸውን በከንቱ ልናጠፋባቸው አይገባም። መስዋእት\\nፀበመሆን ነዶን እያለቅን እነሱ ነገ እንዲያበሩ ማድረግ አለብን ። ለዚህም\\n\\nነው አስተማሪዎች የምንደኛነት መንፈስ ሊኖራቸው አይገባም የሚባለው።\\nየነገው ህይወት ገንቢዎች ናቸውና...» '\\n\\n«በሁዋላ የመጣ አይን አወጣ!» አለ ጋሼ *ታዲያስ *።\\nእሱም ላስተዳዳሪነት ታጭቶ ነበር ይባላል ።\\n\\n«ልጅ ለናትዋ ምጥ አስተማረች ብ ወይገ[ሙ አለው\\n“ማይዘር' = ትል አይሻልም ወይ\\n\\nሀዲስ አልተናደደም ። ንማግሩን ቀ . ስተማሪዎች\\nዋላፊነት ምን እንዴ ሆነ ላስ ን ው ። ታ\\n\\nተምራችሁ አይደዶለም ይህን ስብሰባ የጠሩ\\nሁት ። ግን ፤ አቶ ይርጋ ከሞቱ ወዲህ ን የተቦዐላጀ\\nመሆኑ ለማናችንም ስውር አይደለም ኚነበረን ቐይው ሰን\\n\\n«ያለ ትመልካች ያለ ገራፌ # ትጉዋች ሃላፊነት\\nአለብጉ ብለን ራሳችንን በራሳችን በ\\n\\nበ ራት ስራት አለመቻላችን:\\nኮጅማግ ያሳዝነኛል ። ምን ጊዜም ቢሆሀፔፔቅርብለጁጡ፤ነ የገዛ ህሊና-\\n፰፮፲፬፲፮ ጓሆን ኦፏጎዐት “ ለህብራተ-ሰቡ፥ ለስራችን፤ ለወገናችን ቅንጣት ፰፲፩ፄ፲፲፰\\nይግርሙኛል › ብሎ ቁጭ አለ2 ፣ ት? ስለ ነፃነት ስንናግር\\n\"},\n",
       " {'page_number': 260,\n",
       "  'text': 'መ ሜ 22:553 |\\n«አቤት ! አቤት 1 እንዲህም አድርጎ የለ ጃል !ዐ» አለ “ሜይዘር” =\\n\\n«ዳግማዊ ይርጋ ! እሳቸውም “ዲሲፕሊን ” እያሉ ነበር\\nጭንቅል ጭንቅላታችንን የሚቀጠቅጡት ። » ጋሼ ፲ታዲያፎ፡፮ኮ ፤ኽ፦ርኚታ\\n\\nሀዲስ በንዴት ጮክ ብሎ ፤ «እኔና እሳቸው ስለ ዲስፕሊን ያለን አስ\\nተያየትና አስተሳሰብ አንድ አይደለም ። እኔ የምናገረው የነገዬቱን ኢትዮ\\nጵያ ለመገንባት ስለሚያስችለን ዲስፕሊን ነው ! ስለ ባሪያዎች ዲስፕሊን\\nአይዴለም!» አለ ።\\n\\n«የነገ6ዩቱ ኢትዮጵያ!» አለ *ማይዘር\" ፤ «ስራ ላይ እንዲውል የታቀ\\nደውን ስርአተ ትምህርት ቢሰማ ኖሮ እኮ እንዲህ አይልም ነበር። እህ...\\nእንጨት ፈላጭ ፤ ውሀ ቀጂና የጉዋሮ አትክልት ኮትኩዋች አስተምራ\\nችሁ አውጡ መባሉን አልሰማህም መሰለኝ!1»\\n\\nሀዲስ ከተቀመጠበት ተነስቶ ፤ «ትምህርት ቤቶች የሸቀጣሸቀጥ\\nፋብሪካዎች አለመሆናቸውን.... እ... የነግውሙ ትውልድ ሰብእና በጥንቃቄ\\nየሚታነፅባቸው ቅዱስ ስፍራዎች መሆናቸውን ካመንክበት ለምን ሀሞት\\nክን ኮስተር ፤ ወኔህን ጠበቅ አድርገህ አትታገልም ታዲያ ! ሀላፊነቱ የማን\\nመሰለህገ» ብሎት ቀጠል አድረገና ፥ ስለ *ሴክተርሪቪው\" ምንነት በደንብ\\nሳልረዳ ልከራክርበት አልፈልግም ። እኔ እስከማውቀው እስከዚህም ክፉ\\nአይመስለሜምጋ»> አለውና ወጥቶ ለመሄድ በር ላይ ሲደርስ አንድ አይናው አን\\nካሳ ዘበኛ ብቅ ጥልቅ እያለ መጥቶ፤ ያለ ወትሮው ለጥ ብሎእጅ ከነሳው በሁ\\nዋላ የታሸገ ደብዳቤ ሰጠው ። ከዘበኛነቱም ሌላ የትምህርት ቤቱ ግምጃ\\nቤት ቁልፍ ያዥም በመሆኑ አቶ ይርጋ ከሞቱ በሁዋላ ራሱን የቻለ ፈላጭ\\nቆራጭ ሆኖ ነበር ። ማን ተናግሮት? እጅ ያስነሳ እንዶ ሆነ ነው እንጂ እሱ\\nእጅ ኣይነሳም ነበር “”\"\\n\\nሀዲስ በስሙ የተላከውን ዶደብዳቤ ከፍቶ አነበበው-.-.«ይህ ዴብዳቤ\\nከደረሰበት ቀን ጀምሮ የእልቄ ማርያም ትምህርት ቤት ተጠባባቂ ዲሬክ\\nተር ሆነው ስራምዎን በትጋትና በታማኝነት እንዲሰሩ አስታውቃለሁ..-.»\\nየሚል ነበር ዴብዳቤው ። ከመዴደንገጡ የተነሳ ፊቱ አመድ ለበሰ...\\n\\n ያዘ ቢቻለው ሊያጠፋህ ወይም ስራህን አደና\\nቅፎ ሊያላጄጌፓ ነ፶ጩዐ፲ =ላንተ ብዬ ነው ። አንተ ገር የዋህ ሰው\\n\\nነህ በማለት ተጠግተውት ባለ ሙዋሎቹ ሊሆኑ\\n'},\n",
       " {'page_number': 261,\n",
       "  'text': '260 ህዲስ -\\n፴\\nተማሪዎች አልታጡም።ይሁን እንጂ ፤ ሀዲስ የሚለግሳቸው ጆሮ አልነበ\\nረውም ። ስራ እጅግ ይበዛበት ነበር ።\\n\\nይም ። አቤት የበአላቱ ብዛት ! በአንድ ልደታ ፥* በአምስት አቡየ ጣዲቄ\\nገደል እንደ አክርማ የሚሰነጥቁ---በሰባት ስላሴምዎች---በአስራ ሁለት ሚካ\\nኤል---በአስራ ስድስት ኪዳነ ምህረት---በአስራ ዘጠኝ ገብርኤል---በፃያ\\nአንድ ማርያም---በሃያ ሶስት ጊዮርጊስ--ብሃያ አራት ተክለ ሃይማኖት---\\nበሃያ ሰባት መድሀሠኔ አለም--ብበሃያ ዘጠኝ በአለ እግዚአብሔር ። በዚሀ ላይ\\nዶግዋ= ፥ በአለ ንሣሶች አሉ፤ጥቅምት ሚካኤል---ህዳር ጊዮርጊስ ---ታህሳስ\\nገብርኤል ---ጥር ማርያም---የዋካቲት ኪዳነ ምህረት--መጋቢት መድሀኔ አለም\\nግንቦት ልዶፓኃፏ---ጣንቦት ማርያም ደብረ ምጥማቅ ፡ በአንድ ወይም በሁለት\\nወይም ክዚያ በላይ በአላት ያላጌጠ የኢትዮጵያ ቀን የለም ። ውማግዘት ።\\nስራኖየለም።ታቦትይግባል ታቦት ፤ ይወጣል።ፅዋ ካንዱ ቤት ወድደ ሌላ ቤት ይገ\\nባል ። ቄስ ዳቦ ይቆርሳል ። ጠበሉን ይቀምሳል ፤ ይባርካል ። ጠበል ፤ ሰን\\nበቴ ፤ ማህበር ፤ ድማግስ። መላእክቱን ፤0 ቅዱሳኑን 6 ሰሜእታቴን እንዴ ጠባ\\nያቸው ማባበል ፤ ማስደሰት ይኖራል ። ዋ ! አለዚያ ወዶ መንማስተ ሰማ\\nያት የሚወስደውና ላንድ ጉዞ ብቻ የሚያገለግለው“ቲኬት” እንዴት ይገኛል?\\nየተኮነነች ነፍስ ፤ ስራ የለም !\\n\\nልዴት---ማዝረት---ክርስትና---ጋብቻ ---ሰርግ---መልስ ወ ስራ1-የለም !\\n\\nሞት---ለቅሶ/---ቀብር---ሀዘን ላይ መቀመጥ---ሰልስት---አስራ ት\\nአርባ---ተዝካር---ሙት አሙመት ። ስራ ዋለም ! 1\\n\\nቿው ሀይል. የለውም ። ፀሐይ ትወጣለች ና ትገባለች ፡ ቀን ይነጋል « ድመ\\n፡ ፡ ነፋስ- ይነፍሳል ል።\\n\\nምን ሊያደርገው ይችላል 1 ለሁሉም ጊዜ፲፰ለኡዌኔ፯፰ለ፮፶፸ኔ ‹\\n\\nወፓ : ጊዜ * የማፍቀር ጊዜ ፥ የሰርግና የ>በቻ ጊዜ ፥ የፃእርጅና ጊዜ\\n'},\n",
       " {'page_number': 262,\n",
       "  'text': 'ል፣እሎ ይፈጽማል ። ሰራተኞቹ ሀዲስን እንዶዚያ የሚያጣድ\\nምን እንደሆነ ጴግባቸው አመመም ።-ትምህርት ቤቱ እንደ ሆነ ሲያልች\\n- #\\nያልታሚሉት--ክበስተጀርባው = ሥ፦ ን?\\n\\nጊዜ !ጊዜ ! ጊዜው ይሄዳል ። ግን የትምህርት ቤቱ ስራ ባለበት ቆሞ\\nነበር ። መሰረቱ ወጥቶ ማግድማግዳዎቹ ብቅ ብቅ ብለው መታየት\\nጀምረዋል ። ግድማግዳዎቹን እያየ ከአናጢዎችና ከግንበኞች ጋር ሁለተኛ\\nላጳለመዋዋል ቆሞ ይግዘት ነበር ። ሲላቸው ይመጣሉ ። ሳያሰኛቸው ደግሞ\\nዝም ብለው ይጠፋሉ ።\\n\\nበየጠጅ ቤቱ እየዞረ እነሱን መፈለሰጉ-ነበር ያሰለቸው ። ሰካራሞች !\\nጠጅና ጠላ በማንቆርቆሪያዎች ስራ ቦታ ድረስ ቢያመጣሳቸውም አልሆ\\nነለትም # እነሱ መጠጣት የሚወዱት፪እዚያው እለመዱት ጠጅ ወይም\\n\\nግድማዳዎቹን እየኖተመሰከተ ቆሞ ሲተክዝ እንዳሰበው በመስከረም\\nወደ ዩኒሼርስቲው እንደማይመለስ ታኖው ። የሰሪራተኛ ያለህ እያሉ የሚ\\nጮሁት ማድማግዳዎች ነገሩት ። ሰኔ ሚካኤል ። ሰኔ ማርያም ። ነጉሩ ሰኔና\\nሰኞ ሆነበት ። ስራውን የጀመረበትን ቀን ረገመ ።\" ኤሎሄ! ኤሎሄ ሳማ\\nፅበቅታኒ፣ ብሎ ለመጮህ ምንም አልቀረውም ። እንባው መጣበት። .\\n\\nየመኪና ድምፅ ሰምቶ ሾር አለ ። ታፌሰ ብሩ ነበር።\\n\\nዘይት በብዛት እያስመጣ ያለ ምንም ቅድሚያ ክፍያ አስፈርሞ በመስጠት.\\nየመጪውጓጣ እእፊየት የበናጂሰብባቸኃጎ ጣሁኑ እጁ ሣፃስስገባት ጀምሮአል ።\\n\\nሣ «የእጅ ስራህን ቆመህ ታደንቃለህ?ገ» አለው « ከመሬት ብቅ ማለት\\nመረውኀን ሆንፃ እያየ ።\\n\\nማድነቅ አልከው! እያደማኝ ነው #>»\\n\\n«ዶቾደህና ሂዶልሃል መ\\n\\nፍምኑ ሄድዴ ! የቀንድ አውጣ ጉዞ ነው። »\\n ጾ0ነዝራችን ላይ እንኩዋን ዴስ አለህ» አለ ታፈሰ ።\\n«ስለ ምነገ\\n\\n«+ ብ ሆነዎቹ -።» ጭ\\nርኣጩንዷጩኮር ከሞት ቼግረፍኦቕ አለው ሀዲስ ተራውን =\\n'},\n",
       " {'page_number': 263,\n",
       "  'text': '262 ሠዲስ\\nር ፡..።-... . የሂየሆየ7፡፡፪.6.፪ቋጂጄ፡›፡፡‹፡ዷቄሻዛ፡በስ\\n\\nበፊት ዋኖሚያውሩቀው ታፈሰ አይዴዶለም ። ትለውጮጦአል ። እንዴደ በ ፊቲ\\nእንዶ መጣልት አይናገርም ። ሰማሰት የሚፈልገውን ነገር ኢያሰበ ነበር\\nየዩሚናገረው ። የአዲስ ዘመን ጋዜጣ በእጁ ይዞኣል ።\\n\\n«ይህን ጋዜጣ አንብበሃል ? ብሎት ጋዜጣውን ሰጠውና ፥ «በመጀ\\nመሪያውሙ ገፅ ላይ በስተማግርጌ ስለ ትምህርት ቤትህ የተፃፈውን አንብብ»\\nአለው።\\n\\nሀዲስ ቸኩሎ ጋዜጣውን ዘረጋ ።\\n\\nሁለት አምድ ላይ በሰለሳ ስድስት ኮር ፊደዴል የትፃፈ፦--\\n\\nኗፎ2፤፲2 ሸሽህ ብር የሚፈጀው የሱጴ ትምህርት ቤት ስራ ተጀመረ»\\nኖሚል አርእስት ከጋዜጣው ላይ ብቅ ብሎ አፈጠጠበት ። ቸነፋኞን ውጦ\\nሼዜናውን ያነብ ጀመር... ከአንደኛ ገፅ ጀጆምሮ ስምንትተኛው ገፅ ላይ የሚያ\\nልቀውን በሰፊው የተፃፈውን ዜና አንብቦ ሲጨርስ ኖኮረኮሩትን ያህል\\nእኖተንክተክት ሲስቅ ቆየና ፤ «የወረዳው ገዢ የነገሩ ባሊቤት ሆኑ አይዴ\\nለም እንዴ!» ብሎ ጋዜጣውን ሊመልስለት ሲል---«ርእሰ አንቀፁን አን\\nብበው> አለው ።\\n\\nፁለተኛውን ገፅ ቶሎ ብሎ ከፈተ።«ህዝቡን ለልማት ስራ የማስተባ\\nዷር ሃሳላፊነት>» የሟል ርእስ በጉልህ ትፅፎ ዶይዶፓታያል # ወትታውን ያነብ\\nመርፎ-»-»»\\n\\nርእሰ አንቀፁ ፤« በህዝብ መዋጮ ሱጴ ላይ የተጀመረውን ትምህርት\\nቤት ስራ ዜና «=ሰረት በማድረግ ይነሳና ፤« የመረዳው ገኘዥጭ ፥ ህዝቡን ለዚህ\\nየተቀዶሰ ክቡር አላማ በማግባባት ፤ በማስትባበርና በመምራት ረገድ ያሳ\\nዩትን ችሎታ ካድዶነቀ በሁፍላ ። ሌሎችም የህዝብ ኣደራ የተጣለባቸው ገዥ\\nዎችና ሹማምንት ፤ ቀንና ሌት ሲሚወዱትና ለሚወዳቸው -ህዝብ ከሚዶድ\\nክሙለትና ዶከመኝ ከማይሉት ንጉሰ ነገስቱ ጎን ቆመው ፥ ለሀገሩ አንድ\\nነትና ነፃነት ቀናኢ ፣ የሆነውና ለንጉሰ ነገስቱ ፍቅር ታማኝነት ያለውን\\nጀጆግናውን ኖኢትዮጵያን ህዝብ ለልማት ስራ እንዲያስተባብሩ በማሳሰብ\\nሀፀተታውን ይዴመድማል ።\\n\\n«ምስጋናው ለማንም ይሁን ለማን ብቻ ትምህርት ቤቱ ይሰራ።ግን፤\\nባልሰሩት ስራ ምስጋና መሻት ያሳዝናል ። ህዝቡ ምን ይለኛል? ብሎ ማዕ\\nብም እኮ ጥሩ ነበር ። ሁዋላ ትዝብት ላይ የሚጥል ነገር ነው» ብሎት ሀዲሶዕ\\nጋዜጣውን ለታፈሰ መለሰ ።\\n\\n«የቱ ህዝብ!> አለ ታፈሰ ።\\n«ኖሱጴ ህዝብ ነዋ 1»\\n\\nእሱን ተወው እባክህ! በሜለት አመ ክ ዜናውን\\nልታልተጉባብል ትቸጁፍላለህ አለወ፡፡።፡ .ዊ .ክቢ\\n\\n«<ምን ቆርጦኝ፤» አለ ሀዲስ ፤ «እኔ የምሰራው ረፍ ወይም\\nምስጋና ለማግኘት አይዴዶለም ። ኖፈለገ ሰ፤ኑም ሊመ፲፲፸ገ፲፲፲፺፲፲፲፲፤፲ነሂኬ ፣፲፪ሾፃ፲ ‹ሊጀ\\nለምበት ይችላል ። የኔ ዴስታ ስራው አልቆ ማኖየት ነው “»\\n'},\n",
       " {'page_number': 264,\n",
       "  'text': 'ሙመሙኢ:ጵ። ዲ 283\\nከውማ እየ ሆነልህ ነው» አለ ታፈሰ\\nመራለኩት የትኛው?፡ ኛ\\n\\nጩሬ ተትጠባባቂ ሆነሃል -»»›ነግገ ዶግሞ ትጠቀልለዋለህ ። ክዚያ በሁኖላ\\nደግሞ ምን እንደምታዶዴርግ ማን ያውቃል?» አለና ሲጃራ ለኮሰ ።\\n\\nሀዲስ «ህም» የሚል ድምፅ ከግስግት ሌላ ምንም አላለውም ።\\n\\n«እና ፤ አካሄድህ ሁሉ አስቀድሞ ኖታሰበበትና የታቀደ ነው ። በፊት\\nለይህ ፤ በቀን አይኑን ከፍቶ ህልም የሚያልም ሰው ትመስለኝ ነበር #»\\n\\n«አሁንስ?» አለ ሀዲስ ።\\n«አደገኛ ሰው መሆንክን ተረሬድቻለሁ።»\\n«እንዴት?»\\n\\n«በእውነት አዶገኛ ሰው ነህ» በማለት የሲጃራ ጢስ ባፉም ባፍንጫ\\nውም እያተነነ * «አቶ ጣሴን ካቶ ይርጋ ጋር ፤ ወታደዴር ጎይቶምን ከመ=ቶ\\nአለቃ አሽኔ ጋር እርስ በእርስ አጋጭቶ ከባድ ጠላቶችን ከፊቱ ኖሚያስ\\nወግድ ሰው ከሩቅ ሊሸሹት የሚገባ አድገኛ ሰው ነው ።\\n\\n«ወርካው የወዶቀእለት ፊታውራሪ በነገሩ እንዲገቡበት ለማድረግ\\nእንዴት እንዶ ቻልክ እስካሁን ይገርመኛል ። ታውቃልለህ? እንዲህ አይነቱ\\nጥበብና ዘዴ በቢሮክራሲ  ቁዋንቁዋ «የሰይጣን አማራጭ>» ይባላል ።\\nባጭሩ ፥ አንተ ራስህ ልታጠፋቸው ያልቻልካቸውን ጠላቶች ምቹ ጊዜና\\nሁኔታን ጠብቀህ በመጠቀም እርስ በርሳቸው እንዲጠሩዱፉ ማድረግ ነው ።\\nየማ ጥቅም ከማን ጋር ሊጋጭ እንደሚችል በማወቅና በመጠቀም ረገድ\\nበእውነት ተክነሃል ። እውነተኛ ገፅታህ ምን እንደዴ ሆነ እስካሁን ሳላውቅ\\nበመቅረቴ ሞኝ ነኝ ። በእውነት ሞኝ ነበርኩ» አለው ።\\n\\nአለ ወየዷስ ጠጉሩን ቆፈረና ፤ «ታፈሰ እቐዐነኝ ። አሁንም ሞኝ ነህ!»\\n።\\n\\n«አሄሄ ። ምን ነው ጃል? ስንተዋወቅ ባንተናነቅ !» አለ ታፈሰ ።\\n«ምናለ ብትተወኝ ! አታውቀኝም 1»\\n\\n«አውቅሃለሁ ። አሁን በጣም አውቂቄሃለሁ ። አላማችን አንድ ነው።\\nገድ ለያይበት ነገር ቢኖር አላማችንን ለመቀዳጀት በምንመርጠው መን\\n፻፲፲ነወ፲ ። ኣእኔ ፊት ለፊት መሄድን እመርጣለሁ ። ኖምጠላውን እጠላለሁ *\\nኣለፎቼጎ እወዳለሁ ፤ የምወስደውም ርምጃ እንደዚያው ግልፅ ነው»\\n\\nፍእኔስ 1\\n\\nኣዢዔጄተ « ውስጥ ውስጡን የሚሽሎክለክ እባብ ፤ ያውም መርዘኛ\\n=ኤ\\n\\nህዲስ መረ ። እንባ:እስኪመወር\\n\\nደው የኮረኩሩትን ያህል ክት እያለ ይስቅ ጀመሬ\\n\\nሲነግኒው ኒሮሙን ይዞ ካንጅቱ ሲስቅ  ታፈሰ ተናዶ « «ሰው እውነቱን\\nየኑኮጐረኮሩትን ያህል ይስቃል ይባላል=» አለው #“\\n'},\n",
       " {'page_number': 265,\n",
       "  'text': '264. ሠዲክ ።\\nአ ር ሥ ሚ 29 5 ፡ ክ 8: ጨ\\nሀዲስ ሳቁን አቁ” እጉባውን ጠረገና « ኗስማ ታፈሳ ። ስለኔ የፈለከ\\nውን ልታስብ ትችላለህ ። ግን ልክ አይደለህም ። ፍፁም ተሳስተሃል ።\\nእመነኝ ። ስሞት የብር ምልክት መቃብሬ ላይ እንዲሆንልኝ የምፈልግ\\nሰው አይደለሁም ። ስልጣን ፈላጊም አይደለሁም ። ከዚህ የበለጠ እንዴት\\nብዬ እንዶደማስረዳህ አላውቅም ። ብታምንኝ እመነኝ *0 ባታምነኝ ገደል\\nግባ[ወ ብሎት ሊሄድ ሲል * «አሁን ወዴት ማምራት እንድደ ጀመርክ ኣጣ\\nሁትና ነው !» አለው ድምፁን ክፍ አድርንጎ ።\\n\\nሀዲስ ቆም አለና ። «እንዲያውም ብታውቀው ጥሩ ነው። ፊታውራሬሪ\\nሸንድ ሸሽማማግሌዎች ልኬአለሁ ። ከፈለክ አንደኛ ሚዜዬ ልትሆን ትችላ\\nለህ ። ወደዚያ ነው የማመራው።ግን ፡ አጉንጉተ በምታስበሙ ምክንያት ወይም\\nበምትለው ነገር አይዶለም ።\\n\\nኗሌላም ነገር ልነግርህ ። ካቶ ይርጋና ከመቶ አለቃ አሸሽኔሌኔ ጋር አብረህሀ\\nትባብረህ ካገር ልታስወጣኝ ተነስተህ ነበር ፤ አይደለም ? አም ፤ አንተ\\nኖሙቶ አለቃውን ክንድ በመጠቀም ጭሰኞችን ነቅለህ ለማባረር ስትፈ\\nልግ ፥ እሱ ደግሞ ባጉተ ተጠቅሞ ያጎትህን ልጅ ፤ ቢቻለው በህጋዊ ጋብቻ*\\nባይቻለው ጠልፎ ለማግባት ያስብ ነበር ። በኔም ሆነ በፊታውራሪ ቤት\\nላይ መሳሪያ ሊያደርጉህ ነቤር።ደግነቱ ተንኮላቸው አልሰመረላቸውም።\\n\\nባጭሩ ከነገረው በውዋላ ፤ ««ታስታውስ እንደዶ ሆነ ፥* ኣንድ ቀን፥0፥ ስለ አይ\\nናለም ምኞት ኣንስተን ስንነጋገር ፤ *አጉተ ኢያገባህም ፤ ዘዴ ይፈለግልለ\\nታል” ብለህ ስለ ነበረ ። ዶደብዳቤውን ለመቶ አለቃው ብልህ በኔ ስም የፃፍ\\nክው አንተ ነህ ብዬ ጠርጥሬ ነበር ። እንደ ጠረጠርኩት ሁኖ  ቢገኝ ኖሮ\\nየማደርገውን አላውቅም ነበር ። ምናልባት ዛሬ በህይወት እዚህ ቆመን\\nአንነጋገርም ነበር ። አዎ “* እንዳልከው- * በዚህ አደገኛ መሆኔን\\nእኔም ራሴን እየተረዳሁ ሄጃለሁ» ብሎት እየቸኮለ ጥሎት ወደ ቤቱ ሄደ።\\n\\nፊታውራሪ ተካ ሸንድ የላካቸቾው የነገር አሳቶች መልስ ይዝው የሜሚ\\nፀዐለሰፏበት ሰአት ዯተቃርቦጾ ነቤር ። ሰራተቻቿው ፤ የረጋሳ እናት ፥ ሽር ጉድ\\nትላለች “ ፡\\n\\n«ቡናው * ቁርሱ * ጠላው እንዴት ነው?» አላት ። \\'\\n«ሁታሉም ዶደርሶአል» አለችው ። \"\\n\\nቤቱን የአውደ አመት ቤት አስመስላዋለች ። የእጅ ሰአቱን ተመቆ\\nከተ ። ወዶ መስኮት ሄዶ መንግድ መንገዱን እያየ ፡ በታፈሰ ብሩ ነገር ቦም\\nናዴድ ፤ አንዱ ኖሌላውን ልብ እንዴት ኣድርጎ ለማወቅ ይችል ይሆን ፣\\nሰው ጨው አይደለም ፡ ተቀምሶ እንዳይታወቅ ! ምን ብናደርግ ይሻዶ\\nይሆን? እያንዳንዱ ሰው የክፋትን መንግድ ትቶ ደማ ደጉን ማሰብ ቢጀምር\\nይህ ህይወት ፥ ይህ አለም ምንቸ ውብ ፣ የሰው ሞቱ ምንኛ ክበር\\nበሆን ነበር! አለ ። ሰው ባልገባውና በማያውቀው ነገር፣ በዚች ውብ ምድር\\nበዚች የጋራ አለም ። ያውም ለዚች አጭር ህይወት ፣ አንዱ ለሌላው እቶ፤\\nእሳት » ገሃነም ሆኖ ገሃኘነም የሚፈጠርበት አሳዛኝ ሁኔታ አሳዘነው #\\n'},\n",
       " {'page_number': 266,\n",
       "  'text': './፡፡ወጣከ 265\\n\\nንዶ ገና የእጅ ሰአቱን ተመለከተ። እነዚህ ሰዎች ካቸው\\nድ መንግዱን እየተመለከተ ። ከላካቸው ሽማግሴዎች መካክል፡ ሰተ\\nለይም ሁለቱ * ነገሩ ይህን ያህልም ደስ ሳይላቸው ነበር ሃላፊነቱቴን በቅሬታ\\n\\nቦሮኤጀርሶን ልጅ? እንዴት ይሆናል? የሚሉ ይመስሉ ነበር።ሃምሳ አለቃ\\nጎይቶም ፡ \"ዋሕ ! ከሆነ * ሆነ ፤ ካልሆነም ችግሩ ምንድን 1>7 6ላ አለቃ\\nኘት ድፍረት አይደለም\" በማለት ደፍሮ ባያደፋፍራቸው ኖሮ በጣም ፈር\\nተው ነበር ።\\n\\nጎይቶም ከእነሱ ጋር በመኖሩ ዶስ አለው ሀዲስ። ጎይቶም እጁን ሰጥቶ\\nጉዳዬዩ ሲመረመር ክቆየ በሁዋላ በነፃ ከመለቀቁም በላይ የሃምሳ እልቅና\\nማእረግ ከትሴሶጠውና ወደ ሱጴ እንዲመለስ ክተድደረገ ሰንብቶአል ።፡:ና፥|፤\\nሀዲስ ፖሊስ ጣጫቢያ ድረስ እየተመላለሰ ስለ ጠየቀውም ይሁን ወይም\\nጸሌላ * በሁለቱ መካክል የተፈጠረው ዝምድና ከጊዜ ወዶ ጊዜ እየጠነከረ\\nይሄድ ነበር፦ታ--እነዚህ ሰዎች ምን ነው የቁራ መላክተኛ ሜ? በማለት\\nእነሱን ሙመጠበቁ ሰልችቶት ከክመስኮት ላይ ሾር ሊል የነገር አባቶቹ\\nሊመጡ በሩቅ ኣያቸው ። :\\n\\nአይነ ውሀቸው ደስ አላለውም። ውስኪ ከክፈት ። ሰራተኛውም ትኩስ\\nምግብ ካቀረበች በሁዋላ እየ ፎክረ ኖሚደነፋ የቡና ጀበና ይዛ ቀረብ አለች።\\nውስኪው * ጠጁ * ጠላው ተትቀቆዳ ። የእጣን ጢስ ቡልቅ ኣለ ።\\n\\nሀዲስ ልቡ ተሰቅሎበት እህል አልዋጥለት እያለው ይተናነቀው\\nነበር ። የምስራች ሳይሆን መርዶ ይዘው የመጡ ይመስላሉ ።\\n\\nሃምሳ አለቃ ጎይቶም ነበር መጀመሪያ የተናገረው ። የአስመራ ቡና\\n\\nጀበና ትንሽ መሆንዋንና ቡናውም የሚቀዳው ባፍዋ እንዶ ሆነ ሲያስረዳ\\n\\nከቆየ በሁዋላ ፤ አዲስ አበባ ደርሶ የቡና ጀበና ባየ ጊዜ በመረገም ፥ «ዋእ !\\n\\nተባዕታይ ጀበናውን ዶ አሎ እዬ 1.-.ወንዴ ጀበናም አለ እንዴ ! ብዬ\\n\\nጸመናገሬ ዘመዶቼ “ወንዴ ጄጅበና ! ኣያሉ ሲስቁብኝ ይኖራሉ» ብሎ አሳ\\n።\\n\\nሶስቴም ቄርሱን እምብዛም አልተዳፈሩትም ። የበረቱት ውስኪው\\nላይ ነበር ። ማእዱ ትነስቶ ጣታቸውን ከታጠቡ በሁዋላ ማን ቀድሞ ይና\\nገር በማለት ሳይሆን አይቀርም እርስ በርሳቸው ይተያዩ ጀመር ። የሀዲስ\\nልብ ቀጥ ልትል ምንም አልቀራትም ። መልሱ ያም ይሁን ይህ ደንታ\\nረኝም በማለት ራሱን ሲያደፋፍር የቆየው ሰው አሁን ሰአትዋ ስት\\n\\n\\' አነሰው ። , ኔ\\n\\nከሶስቴ የሚበልሙጡት አረጋዊ ጉሮሮአቸውን በትንፋሻቸው\\n«ልጃችን እንኩዋን ደስ ያለህ = እኛም ደስ ብሎን ነው የተሙ\\n\\nጳስነው . እሳቸውም እንዳክኳክበሩን ያክብራቸው ። አሳሳፈሩንም> ካሉ\\n9ውዋላ › እንደዴ ግና ጉሮሮአቸውን ጠረጉና * «ቢሆንም አንድ ገድብ አድር\\nንርታል = ይኽኸውም ልጅትዋን በምንም ዑኔታ ካጠገቤ ይዞአት እንደ\\nቸ፩፪፲፶ደ፩ቀ፲፥ቃፅሌ፲ዩ፲ግ፲ኬየ፲ሀሏነፀ፲፲፲ያ፲ሀ፺፸፲፲ዴረክለየ፡ጥምፓሙሞሆነሰር፡ገዐ\\n\\nካላክየዛሬላፃግትይሆነእንደጎቦዕስጠይቀውናልጋአሎትፀ\\n'},\n",
       " {'page_number': 267,\n",
       "  'text': '266 ጋሀዲስ |\\n፲፩፰፸፲፩፲፲፩ጓ\\n\\nአረጋዊው ባሉት ሶስቱም መስማማታቸውን በመግለጥ በአዎንታ\\nራሳቸውን ነቀነቱ ።\\n\\nኗኢእሺ ። አስቤበት መልሴን እነግራችህዋለሁ» አለ ሀዲስ * በደስታ\\nተውጦ ።\\n\\n«ዋአ ! ምን የሚታሰብበት ነገር አለ? ያሉህን እቪጂ ብለህ መቀበል\\nነው እንጂ ።= የሃምሳ አለቃ ጎይቶም ነበር ።\\n\\nአረጋዊው በጎይቶም አሳብ አልተስማሙም ። «ኗእሱ ያለው ይሻላል ።\\nያስብበት .። ቃል ቃል ነው» አሎሉ ።\\n\\nኖህሀዲስ ጎረቤት የሆኑት ሶስተኛው ሽማግሌም * «አስቦበት መልሱን\\nይስጠን» በማለት ከአረጋዊው ጋር ባሳብ ተስማሙ-። ብዙ መናገር አይ\\nወዱም ። ፊታውራሪ ተካ እሺ ይላሉ የሚል እምነት ባይኖራቸውም አረጋ\\nዊው ሰው በሽምግልናው እንዲገቡ ያዶደረጉት እሳቸው ነበሩ ። እንዴ ተለ\\nመደው ማመልክከቻ ሲፅፍላቸው ነበር ነገሩን እንዶ ቀልድ ያነሳባቸው ።\\nስለሚወዱት ነገሩ አይሆንም ሊሉት አልፈለጉም ። «ኖሰው መውደድ\\nያለው ስው ምን አኢጣሁ ሊል ይችላል?፲ገ በማለት በመጨረሻ የዩተናገሩትም\\nአሕሳቸው ነበሩ ።\\n\\nቀን መጣ ። ቀን ሄዴ ። ሸማሣሌዎቹም መልሱን ለመስማት ተመል\\nሰው የሚመጡበት ቀን ድረሰ ። ቁርጥ ያለ መልስ አልነበረውም ። ግማሽ\\nልቡ---ክምወዳት ልጅ ጋርእዚህ ቀርቶ የትስ ሄጄ ብኖርም ናለበት? ከሚወ\\nዱዋት ልጅ ጋር ውለው የሚገቡበት ጎጆ ሁሉ ትንሽ ገነት ነው ። ሌላ ምን\\nእፈልጋለሁ? ብርቅ የኢትዮጵያ ቶጳልዝ! የግላችን የሆነች ትንሽ ቀዬ --- ትንሽ\\nግነት = ፍቅር ። በዚህም አለም ከፍቅር የበለጠ ውድ ነገር ምን አለ? በማ\\nለት ራሱን አማባብቶ ማሳመን ላይ ሊደርስ ሲል፤ሌላው ማማዝ ልቡ ዶግሞ፦፦\\nምን ብርቅና ውድ የኢትዮጵያ ቶጳዝ መስላ ብትታይህ ፥ ምን ብትወዳት *\\nለእስዋ ብልህ በነፃነትህ ላይ መደራደር የለብህም ፤ ፍቅር ምንድር ነው\\nያለ ነፃነት ?ሀሠብት ምን ዋጋ አለው ያለ ነፃነት?ገነት ያለ ነፃነት ያው ገሃ\\nነም ነው ። ምን ጊዜም ቢሆን ሰው ከሰውነቱ ያንሳል ፤ ያለ ነፃነት።ማን\\nነው በነፃነቱ ላይ ተደራድሮ በደስታ እኖራለሁ ለማለት የሚችለው ? ሰው\\nክሆነ ማንም ! ፍቅር እግረ-ሙቅ አይደለም ። እስረኛ ሊያዶርገኝ አይ?ገ\\nባም ። በፍቅር ስም ፤ ለፍቅር ስል የባርነት ቀንበር በወዶ ፊት ህይወቴ ሳይ\\nአልጥልም ፡እያለ በተከፋፈለ ልቡ ከራሱ ጋር ተጨንቆ ሲሙዋገት ሸማግ\\nሌዎቹ መልሱን ከእሱ ለማወቅ ተመልሰው የሚመጡበት ቀንና ሰአት\\nደረሰ ። .\\n\\nበሁለተኛው አሳቡ ፀና ። ፊታውራሪ ተካ ያደረጉለትን ገዶብ ሶመ\\nቀበል እንዶማይችል ነገራቸው ። ሶስቱም በፀፀገ፤ም አፋቸውን ከፍተው\\nይሰሙት ነበር ። በመጨረሻ ፤ «ይሄው ነው ። አዝናለሁ ። የማምንበዐት\\nነገር ሆኖብኝ ነው ። ነፃነቴን ለጋብቻ ብዬ አልለውጥም ። እንዲያው\\nበውሸት እሺ ብል ህሊናዬ ይወቅሰኛል። እሳቸውንም ልዋሻቸው አልች\\nልም ። እንዲያው በክንቱ አለፋሁዋችሁ=» አላቸው ።\\n\\nይህ ሰው እብድ ነው ወይስ ጤናገ? የሚሉ ይመ ር ።አሳቡ ሊለ?\\nባቸው አልቻለም ።።«ምን ቸገረህ « እሺ በ፰፲ ። ፊታወ፶፮፲ሪ፰ሆነ አሎ ወይም\\nአላሉ ሰው የሚኖረው እህልና ውሀው ባለበት ቦታ ነው» በማለት\\n'},\n",
       " {'page_number': 268,\n",
       "  'text': 'ሠዲስ 267\\n\\nሞክሩም አልሆነላቸውም ። ማምረሩን በማየት ተነስተው\\nበበ፲፪፲፲ ፶፲፪፲ ትልቅ ሸክም ኖወረዴለት-ይመስል በዴስታ ትነፈስ ። በመ፤፭ፖ፩፪፲፭፲\\nከይ ሌዎቹ ከፊታ፷ጓሪ፲፩፲ሪ ዘን፭፲፲ድ፲ ያፀ፪፭፮ኑ፰ መልስ ምንም አይነት ዌፍጭ\\nአላሳዶረ ። ፊታው ጭሩ የሰጡት መልስ * «ምን\\nትና ##ች /5ሞ አይታሰብም [፡» የሚል ነበር =\\n\\nመልሉ ይህ ብቻ እንዳልሆነ ሳይሰማው አልቀረም ። ነገሩን ክብረ\\nነክ አድርገው ስለሚመለከቱት ፤ተናዶው፥ «ይህ መናጢ የድሀ ልጅ፤09ፊት\\nበሳየው ለዚህም በቃ ! ወይ መኖረድ 1 እንዴት ቢንቀኝ ነው እንዲህ ያለ\\nመልስ ዶይፍሮ የሚልክብኝ ! ባለጌ የባለጌ ልጅ 1ጅብለውት ይሆናል በልባ\\nቸው ። ያሎሉትን ቢሉ ደንታ አልነበረውም ። ተልእኮአቸው ጫፍ ከዴረሰ\\nበሁዋላ ሳይሳካ በመቅረቱና ሽማግሌዎቹ ስላዘኑ ብቻ ነበር ቅር ያለው ።\\nበተለይ ሁለቱ ሽማግሌዎች የፊታውራሪን ዝምድና በጣም ፈልገው ነፀር ።\\n\\nሳይሆን ቀረ !\\n\\nየጋብቻውን ነገር እርግፍ ኢድርጎ ወዴ ሁዋላ ስለ ተወ ፤ የትምህርት\\n- ቤቱን ስራ ከፍፃሜ ለማድረስ የበለጠ ነፃነት አግኝቶ ነበር ። ትምህርት\\nቤት ለክረምት ወራት ከትዘጋ ቆይቶአል ። የማስተማርና የቢሮ ስራ ቀር\\nቶለታል ። መላ ጉልበቱንና አእምሮውን በትምህርት ቤቱ ስራ ላይ ለማ\\nዋል አመች ጊዜና ሁኔታ ቢኖረውም ስራው እንዴ ልቡ ምኞት አልሄድ\\nእያለ እንዴ ቀንድ አውጣ ስለሚጎትትበት ፤ አናጢዎች ሲጠፉ አናጢ *\\nግንበኞች ሲቀሩ ማንበኛ 6 አንዳንድ ቆፋሪዎችና ተሸካሚዎች ሳይገኙ\\nሲቀሩ ቆፋሬና ተሸካሚ እየሆነ በዝናብና በፀሀይ ነማግቶ እስኪመሽ ድረስ\\nይሰራ ነበር ። በማንኛውም የቤት ስራ ሙያተኛ ሊሆን ምንም አልቀረ\\nውም ። እጆቹ መጅ አውጥተው ገብረዋል። እንጨት እየ ነክሱ አንነቃነ\\nቅልህም በማለት ያላግጡበት የነበሩት መጋዝና መላጊያ እንዴ ልቡ እየታ\\nዘዙት በእጁ ላይ ልክ እንደ ሸማኔ መወርወሪያ “ሸው ሽው”\" ሟለት ጀም\\nረዋል ። ባንድ ማእዘን ላይ ከሶስት እስከ አራት ምስማሮች ኢያጣመመ\\nያበላሽ ነበር ። አሁን እያንዳንዱዋን ምስማር ይሾ በመዶሻ እያስተካከለ\\nጭንቅል ጭንቅላትዋን ሲወቅራት ወለም ዘለም ሳትል ቀጥ ብላ ትገባ\\nለች።ግን ምን ያደርጋል ፤ ስራው ፈቅ አይልም ። ከሁሉም ነገር በይበልጥ\\nአናዶ አንጀቱን የሚያቆስለውና የልብ ቃር የሚያስይዘው አናጢዎችና\\nግንበኞች አጣመው የሚሰሩትን ስራ እየተከታትለ ማቃናቱ ነበር ። ውሀ\\nቅዳ ውሀ መልስ ። ገንብቶ ማፍረስ ። አፍርሶ መገንባት ። ሀሙስን ያሳለ\\nፈው በዚህ ሁኔታ ነበር---አፍርሶ በመገንባት ።\\n\\nግንበኞቹም ሆኑ አናጢዎቹ አንዱን ግድግዳ አጣመው ስለ ሰሩት\\nትናዶ ነበር ኖዋለው ። --እንከን የሟይወጣለት ክብ ወይም ቀጥ ያለ መስ\\n58 ለመስራት በማይቻልበት ሁኔታ ምን ኣይነት ስልጣኔ ለመገንባት\\nኮቅቻላል! ይል ነበር እየደጋገመ ። ግድጣዳው ፈርሶ እንዶ ገና መሰራት\\n፲ቺ፲፫በት ። ዋግንበኞቼና ያናጢዎቹ አይኖች ጦር ቢሆኑ ኖሮ በስንት ጦር\\nግቶ በሞተ ነበር !\\n\\nሰውነቲ ፎው አላርፍ ብሎ ስላስቸገረው እንቅልፍ\\n፰፰ቾ ኣልዐ፭፡፮ክፃ፶፲፶፲፲፲፯፫ ውጭ ሲወጣ ዴስ የሚል ውበት የተጎና\\nኩዙ2ር ሙሉ ጨረቃ ሳቅ ብላ እንዴ ምን አመሸህ? አለችው ። ጨረቃዋ\\nቀሴዷ ሰማያዊ እንቁዎች መስለሙጮ የተርክፈከፉት ከዋክብትም እየጠቃ\\nታዲያስ ጃል? ይሉት ነበር ። ኖልቡን ሀሠዘን አንቆረቆረላቸው...-\\n'},\n",
       " {'page_number': 269,\n",
       "  'text': \"29 በ።ሻሽ እ ች\\n\\nባለ ዋሽንቱም ቀጠሮውን ጠብቆ እሬት ከማር ጨወታውን ማንቆር\\nቆር ጀምሮአል ። ጨለማውን ይዳስሳል ። ወደዴ ህዋው ይመሙጥቃል ። ጨረ\\nቃዋንና ከዋክብቱን እየ ኮረኮረ ያሳስቃቸዋል ። ሌሎቹ ኖት ሄዱ? ተስማም\\nተው ለሶስት ህብረ ዜማ መፍጠር ጀጆምረው ነበር ። ሀዲስ ጆሮዎቹን አን\\nቅቶ ሲጠባበቃቸው ቆየ። ብቅ አላሎም ። ይልቅ ያባ ጨፌ ተናዳጅ ድቤቢ\\nድው ! ድው ! እያለ የጎጨለማውን ልብ ትርታ ሲያስትጋባ ይሰማ ነበር ።\\nንዴ>ቱ በጣም ብሶክት ነበር ። የገባ በረሃ አጋንንት አንድም ሳይቅቶር ሰምቶ\\nጭራውን እየቆላ አኤገር እንዲያተራምስ ' የሚፌልግ ይመስላል---ድለቃወ14\\nያ እብድ አውራ ዶሮ ጮኽኸ ። ዋመንደሩ ዶሮዎች ጩጨኸቱን እየተቀበሉ\\nአስተጋቡ.- ..እና 5 አንድ ሰው ወደ ቤቱ አቅጣጫ ሲመጣ አኖ።\\n\\n«ማን ነው 1»ቅ\\nመልስ አላገኘም ።\\n\\nክተቀመጠበት ብድግ ብሎ ፤ «ማን ነው [ዐ አለ እንዴ ገና ።\\n«ማን ቢሆን ዴስ ይልሃል?»\\n\\nየሴት ድምፅ ነበር # ሸታዬ ነበረች ።\\n\\nተያይሄዘው ወዶ ቤት ገቡ ። ክንብንብዋን ስታነሳ በማሾው ብርሃን\\nፌትሞዋ ፈካ። አይኖችዋ ቦግ 9ሩጥቁር ረጅም ጠጉሩዋ ዝንፍል ብለው ታዩት።\\n\\n«ዛሬ ከዋት ተገኘሽ ?>ጭ.\\n\\nፍከክሰማይ “»\\n\\n«እንዶደ ህብስተ መኖና 1»\\n\\n«አም =ወ»\\n\\n«ፍቅር መራቤን እግዜር ሰምቶአል በይኛ 1>\\n«ፍቅር የት ታሙቅና 12\\n\\nጭላልቅ አይኖችዋ ውስጥ የሆነ ተንኮል ብልጭ እያለ ኻመቅፅበት\\nተመልሶ ድርግም ብሎ ሲጠፋይታያል፲ምነሰምታይ፲፭፲ያ።አለ በልቡ።\\nአይጾ፰፰ፎ፪፡ሮችየ ላይ አረፈ ። ደም ተነክረው የወጡ ያውሬ ጥፍሮች\\n\\nኗእውነት * ምን ነው ፤ ደህና ፲?» አላት ።\\nደ«ካንተ ጋር ሰማደር ነው የመጣሁኡጭ ።>\\n«በምን እድሌ ።»ጅ\\n\\n«ምን ነው ጠፋህ ልጄ ፻»\\n\\n«ስራ እየበዛብኝ ነው ።ወ»\\n\\n«የምን ስራ ?>» ፦\\n\\n«የትምህርት ቤቱ፡ ።\\n\\n«ስለ እሱ መስማ ፲ ፡\\nች ት ኣልፌልፃዎጋ አለላችው ፡እንዶ መንገፍገፍ አድር\\n\\n«ታዲያስ ? ቁጭ በያ ። ራት\\n\\n=ማታ * ማታ አልበላም ። ፎጤይቅረ፰ዷ፪፲፤፲፺ጋ\\n\\n«<አም ፤ ራትሽ ፍቅር ነው።ይቅርታው ከብርድ ለማላቀቅ\\nአኢጆችጭን እያፋጨ ፣ «ወይዘሮ ዝናሽ እንዴል፡ኮ፲፲፲፬፪፲፡ለ፲፡፲፲፭ር፲፲፲፱የ፱፡፲ፀ ብሎ ጠየዖለቀት ፇ\\n\"},\n",
       " {'page_number': 270,\n",
       "  'text': 'ሠዲስ 269\\n\\nሕጁሜኔሂችጽ፣ፀእስዋኑ ጠይቃት የምትል ይመስል ትክሻዋን ነቅ\\n፥\\n\\nረዎትጠጭውስ ነገር? ሙስኪ አለኝ።ወ\\n\\n«ይህማ ስልጣኔጁ ነውሙ =“ጅ\\n\\nፅራዕዬላ ቀድቶ ሲያበቃ ብርጭቆዋን ሰጣትና ፣ «ለጤናችን» ብሎአት\\n\\nዝም ብላ የብርጭቆዋን ክንፈር በከንፈሮችዋ እንዶ መሳም እያለች\\nፁስኪውን ተጎነጨች። ያ አይኖችዋ ውስጥ የሚጫወተው የሆነ ተንኮል\\nአልጠፋም “ ብልጭ እያለ ተመልሶ ድርግም በማሰት ይጠፋል ። ሆኖም\\nጦክዙቾፆልክት ክብ ፊትዋ ላይ አይታይም ። እንዲያውም ዴደስ ያላት\\nትመስላለች #\\n\\n«አንድ ነገር ልንግርህ ፻»\\n«ምንድ\" ነውገ?ፃ» አላት « ኖምትለውን ነገር ቶሎ ሰመስማት ጉዋጉቶ።\\n\\nየብርጭቆዋን ክንፌር -ቀስ ብሳ በክንፈሮጭችዋ እየዳበሰች ስታስብ\\nቆየችና ፤ «ይቅር ። አሁን አይዴለም ። ሁዋላ» አለችው ።\\n\\nወሽመጡ ቁርጥ ብሎ ሂ «እሺ ፤ እንደ ፌለግሽ» አላት ።\\n\\nብዙ መናግርም የምትፈልግ አትመስልም ። ካሳብዋ ጋር እንደምት\\n\\nጫወት ፊትዋ ላይ አንዳፍታ ፈካ ብ ሎ ወዲያው ተመልሶ የሚጨልመው\\n\\nደከም ያለ ፈገግግታ ያመለክታል ። እንዲያ እያሰበች ብርጭቆዋን በክንፈ\\n\\n፰ፃይ፸ር፸ላ ስትዳስስ ማየት ደስ ይላል ። ብርጭቆ አያያዝዋ ጭምር\\nል ።\\n\\n«እስቲ ስለ ራስሽ አጫውጄቺኝ» አላት =“\\n«ምን ታሪክ አለኝ ብለህ ነው ?!»\\n\\n«ሰው ብርጭቆ አይደል---ትገዛ ፤ ተሰበረ ተብሎ ታሪኩ የኖሚያልቅ ።\\nእገ1ት ታሪክ ዋሰጀም ፲። በማለት ስላስቸገራት ስለ ራስዋ አንዳንድ ታሪክ\\nንስታ ታጫውተው ጀመር ። .\\n\\nየተወለደችው በጎጃም ጠቅላይ ግዛት ብቸና አውራጃ------ በምት\\n፤ሷግዶር ነበር። ስ፰ እድሜዋ አላነሳችም ። አባት እናትዋ በህይወት\\nአል አይኑሩ የምታውቀው- ነገር የለም ። ክተለየቻቸው ብዙ ዘመን ሆኖ\\n። ቤተሰብዋ በጣም ጎስቁዋላ ስለ ነበረ*ኑሮ መሮአት እንጀራ ለመ\\n\\nፈለግ ነበ ፋችው ። ከሁዋሳላዋ ኖተወ\\nዴቾዑኣጎር አንድ ቀን ከቤት ኮብልላ የጠረሦ ።የወዴፊት ህይወትዋን\\nዱካ እዮ ድም ቅር የሚያሰኛት ነገር አቕዔ ቱዋላ ህይወት ፤ ከተወለደ\\n\\nመንደር ፥ ካደገጭበት ወንዝ እየራቀች - -- እየራቀች “0\\n\\nዑኑፄድ ትስፋ ነበር ክቤት የ\\nጣላት 2ጅሙ ኣታጣምደኗቕተባለ ሲነገር ትሰማ ነበር።እና ፣ ቆንጆ *\\nቆንጆ ነበረች ።\\n'},\n",
       " {'page_number': 271,\n",
       "  'text': '270 ሠሀዲስ\\n\\n፴፩ኣ\\n\\nግን » ቆርጣ ከቤት እንድትወጣ ያደረጋት ፥ በመልክ ከሆነ እዚህ\\nየማይባሉ የውሻ ቂጣ የመሰሉ የመንደርኞ ሴቶች አዲስ አበባ ከርመጪር\\nሲመለሱ ፤ በጥልፍ ቀሚስና በጥበብ ነጠሳ ተትንቆጥቹጠው ፥ በወርቅ አም\\nባር ድሪና ጌጣ ጌጥ ነዶው ፤ እንቁጣጣሽ መስለው ለህዳር ጊዮርጊስ ወይም\\nለጥር ማርያም ብቅ ሲሉ ስታይና ስለ እነሱ በመንደሩ የሚነዛው ወሬ ጆሮዋ\\nሲገባ በልብዋ ያድር የነበረው ቅናትና ተስፋ ነበር ። እንዴ እነሱ እንቁጣ\\nጣሽ ፤ የመስቅል አበባ መስላ ወ መንደርዋ ስትመለስ ሁል ጊዜ በአይነ\\nህሊናዋ ይታያት ነበር ። ነገር ግን ያ ጌጥ ሁሉ እንዴት እንዶሚንገኝ የነገ\\nራት ሰው አልነበረም ። ወደዶ አዲስ አበባ ወጣ ካሉ ፤ ሀር ስጋጃ ላይ የሚያ\\nስትኛና በወርቅ የሚያስጌጥ ባል መንገድ ላይ የሚገኝሜ ይመስላት ነበር ።\\n\\nሁሉም ነገር እንዳሰበችውና እንዶ ትመኘችው አኣልሆነም ። ከመን\\nዶርዋ ውጭ የገጠማት አለም ኖየባሰ መራራና ጭካኔ የተሞላበት ነበር ።\\nጠጅ ቅጂጁነት--አምቡላ አምቡላ ያለ ህይወት ። ማርድና---ከዘመናዊ ባር\\nነት ያላነሰ ኑሮ፤ለብልግና እንጂ ለሚስትነት የሚፈልጋት ወንድ የትም አላጋ\\nጠማትም ። ሁሉም ርካሽ ስሜቱን በርካሽ ዋጋ አርክቶ ዞር ለማለት ነው\\nየሚፈልገው ። ጨወታው እያደረ ቢገባትም እንዴ ኢእድል ሆኖ የታወቀች\\nሸርሙጣ ለመሆን እንኩዋን አልቻለችም ። ወንዶችን ማታለልና ማጭ\\nበርበር ፈፅሞ አይሆንላትም ። ሙያው የሚጠይቀሣጭውን መስረታዊ ዘዴና\\nስልት ለመጠቀም ባለመቻልዋም ብርና ጌጥ ማካበት አልሆነላትም ። አፍ\\nንጮ በር በኩራዝ ቤት ኑሮ መራራ ህይወትዋን ስትገፋ ከዝናሽ ጋር ትተ\\nዋወቃልች ። ጎረቤቶች ነበሩ ። እንዶ አጋጣሚ ሆኖ የእንጅራ ገመዳቸው\\nይትሳስራል ። ዝናሽ ነበረች ሱጴ እንድትመጣ ያዶረገቻት ። በመጨረሻ\\nበረጅሙ ተነፈሰችና * «እና 0 ይሄውልህ እዚህ ነኝሜ ። ፍለጋ የወጣሁት\\nቆን=ሯ ባል አልተገኘም ። የልጅነት ወዜ ትሙዋጦ፣፤ ውበቴ በልዞ ጠፍቶ\\nባዶ ሕጄን ዘመዶቼን ተትመልሼ ሄጄ እንዴት አያቸዋለሁ? መንደዶደሩስ ምን\\nይለኛል? በማለት እንዶዴ ወጣሁ ቀረሁ» አለችው ። ።\\n\\nአ ትርአሁዠሀ ቆን=ሯ ነቨሽ ። የፈለግሸው ባል አንድ ቀን ይገኝ ይሆናል»\\nላ =\\n\\nከት ብላ ሳቀች ። ካንጀትዋ አልነበረም የሳቀችው--- የቀልድ ሳቅ\\nነበር ። ቀጥሎ ምን እንደሚላት ሲያስብ አንድ የሆነ ነገር በሃይል ሲፈነዳ\\nሰማ። የመንደር ውሾች እየተቀባበሉ ጮኹ። ያ መከረኛ ዶሮም ጮኸ ።\\nሌሎችም ተቀበሉት ። ያባ ጨፌ ድቤ ንዴት አይሎ ነበር ።\\n\\nአልጋ ላይ ወጡ ። እንባዋም ወዶ ጆሮግንድዋ ይፈስ ነበር።\\nክጥቂት ጊዜ በሁዋላ ሳቁዋን አቆመች። አይኖችዋም ዴረቱ ። «ነገ ጡዋት\\nመሄዴ ነው» አለችው ድርቅ ባለ ድምፅ ።\\n\\n«የች?>\\n\\n«“ወዴዶ መ ሓ።>\\n\\n«ለምን?>\\n\\n«<ባል ላገባ።>ጩ\\n\\n«ትቀልጃለሽ፻>»\\n\\n«ኛለም ፥ እውነቴን ነው ። ጥሩ መ 5ሙ ናምሆን አይመስልህም?ጆጅ\\n«በጣም እንጂ!»\\n'},\n",
       " {'page_number': 272,\n",
       "  'text': 'ሀሠዲስ 271\\n\\n«እውነቴን ነው ። ጥሩ ሚስት ይወጣኛል ።»\\n«ለመሆኑ ማን ነው እሱ ? እድለኛ ሰው መሆን አለበት ።>»\\n\\n«ታውቀዋለህ ። ዮሀንስ ጴጥሮስ ነው ። ይጠብቀኛል ። ነገ በሌሊት\\nተነስዌቼ ነው የምሄዴው ። ልሰናበትህ ነው የመጣሁት ። ልስናበትህ ለምን\\nእንደዴ መጣሁ ግን አላውቅም» አለችው ።\\n\\nየለቅሶ--የሳቅ ---የንዴት ---የሀዘን -- የትኛው ስሜት እንዳዴረባት\\nለይቶ ለማወቅ አልቻለም ። አይኖቹን ጣራው ላይ ተክሎ ዝም ብሎ\\nቀረ።\\n\\n«ምን ነው ዝም አልክ ?>»\\n«ምን አልሽ ?፡»\\n«ለምን ዝም አልክ ?>\\n\\n«ምን ማለት እችላለሁ ? አንዳንድ ጊዜ ለሚሰማን ነገር ቃላት ማግ\\nኘት ያስቸግራል ። ለማንኛውም ነገር መልካም እድል እመኝልሻለሁ ።\\nአሁንማ እህትና ወንድም ሆነናልጋ» አላት ።\\n\\n«የማዝነው ለወይዘሮ ዝናቭሽ ነው.--.ጆ\\n«ያውቃሉ መሄድሽን ?»\\n\\n«የለም ። አታውቅም ። እንድታውቅም አልፈልግም ። ካወቀች\\n፰፰፲ሰቀኝም ። ተደብቄቴ ነው የምሄዴው ። እየሙመጣሁ እጠይቃታለሁ»>»\\nችው = ፡\\n\\nለረጅም ጊዜ ሲጨዋወቱ ቆዬ ።\\n\\nማልቀስ ጀመረች ። ለረጅም ጊዜ አንገግቱ ስር ትሸጉጣ አለቀሰች ።\\nበዚያው እንቅልፍ ወሰዳት ። እሱም እንቅልፍ ወሰደው ።\\n\\nስትቀሰቅሰው ለጥቂት ዴዶቂቃዎች እንኩዋን እንቅልፍ የወሰደው\\nአልመሰለውም ። ሆኖም ጎህ ሊቀድ ዶርሶ ነበር ።\\n\\nየሚተናነቃትን እንባ በግድ እየዋጠች ፤ «ዶህና ሁን ። ባይነ ስጋ\\nያገናኘን» አለችው ።\\n\\n«ቆይኝ ብሎአት ሳጥኑን ከፈተና ሁለት መቶ ብር አውጥቶ ሰጣት #»\\nመልሳ ወረወረቕችለት ።\\n\\n ጻእባክሽ ፣ ለስንቅ እንዲሆንሽ ነው።»\\n«የት ኖምሄድ መሰለህ1!»\\n\\n«ቢሁንም ። እባክሽ ለኔ ስቅትይ> ብሎ አስሙንዴ ያዛት ። ሳትወድ\\n፪፪፮ ትቀበለቕችው ። አንቆ እያገሳላበጠ ሳማት ። እንባውን ለመቆይጣጠር\\nእን ለም ። ወጥታ ሄደች ። ከአይኖቹ እስክትሰወር ድረስ በር ላይ ቆሞ\\nጠፋሄ \\'ጻዋጠሩ አይኖቼ  ተከተላት ። ከሟለዳ ጭጋግ ውስጥ ገብታ\\n\\n\" ሸሂሸታዬ!> ስምዋ አፉ ውስጥ ቀረ---\\n'},\n",
       " {'page_number': 273,\n",
       "  'text': '272 ሠዲስ\\nከ፡፡ጭ3ሑጭ3ጭ፡ቼሻ666666666፡..፡፡፡፡፡፡፡ ኤ መበሸሽ\\n\\nጊዜ አላጠፋም ። ቶሎ ተጣጥቦ ተነሳ ። ገረዱ ቁርስ አቀረበችለት «\\nእንዶ ጅብ ነበር የሚበላው ። ታዲያ ገረዱ ዶስ ይላታል #።ቁርሱም ክቶቀን ወዷ\\nቀን እየበዛ ይሄድ ነበር ። ቁርሱን በልቶ ወደ ስራው ሮጠ ።\\n\\nብዙ ኖመሙንደሩ ስዎች ካዲሱ ትምህርት ቤት ዙሪያ ትስብስበው\\nጠበቁት ። «ምን መጣ» በማለት እንዶ ሮጠ መጥቶ ከመካከላቸው ዘሎ\\nገባ ። ፪\\n\\nአይኖቼን አላመነም ። አይኖቼን ብልጥጥ አድረገ ጆ\" አሕፉም እየተከክ\\nፈት ይሄድ\\'ነበር ። መጥፎ ህሀልም የሚያይ ነበር የሚመስለው ። ነገር ግን\\nነጉሩ ህልም አይዶለም ። ያደረበት ድንጋጤ ብርክ አስያዝዘው ። ትንገዳገዶዴ።\\nጉልበቱ ክስር ሊከዳው ምንም አልቀረውም ። ፊቴቱን በሁለት እጆቹ ጭም\\nድድ አድርጎ ይዞ በዝምታ እንባውን አፈሰሰ ።\\n\\nየትምህርት ቤቱ አንድ ማድግዳ ማማዝ ጎን ፍርስርሱ ወጥቶ እንዳላል\\nነበረ ሆኖአል ። ባለፈው ሌሊት የሰማውን ፈንጂ አስታወስጳ ። እና » ከው\\nስጥ ሰውነቱ ፈነዳ ። ማግማሽ አካሉ በፈንጂጁጂ ፌርሶ ታላቅ ስቃይ ላይ ያለ\\nይመስል ስትቅስት ፡ ህት እያለልለ ያለቅስ ጀመር ። እናቱ የሞቱ አለት እንኳ ያንን\\nያህል አላልለቀሰም ። ፍርስራሹን ለማየት የፈራ ይመስል አይኖቼን ጨፍኖ\\nነበር ዋሚያለቅሰው ።\\n\\nየሇነ ስው ትከሻውን ሲነካው ተሰምቶት በእንባ ፕናራሱትን አይኖ\\nቼን በግድ ክፈተ ። ፊታውራሪ ትካ ነበሩ ። አካባቢው በሰው ተትሞልቶ\\nመለዳ ኖቶቆመ የደዴራ ገቢያ መስሎአል ።\\n\\n«አይዞህ ። እንዴ ! ግንብ ሰው አይደል ፤ ቢፈርስም ይሰራልጋ» አሉት።\\n\\nመሀረቡን አውጥቶ እንባውን ጠረገና ፥፤ ኗእንዴት እንዲህ ያለ ወን\\nጀል ይ-ሰራል ! እኔን ቢገድሉኝ ምን ነበረበት ? ወይስ በግዛ ልጆቻቸው\\nላይ የፈፀሙት ወንጀል መሆኑን አጥተውት ነው 1» አለ ምርር ብሎ ፥ ወባ\\nእንዶ ያዘው ሰስው መላ ስውነቱ ክፉኛ እዋተትጉቅጠቀጠ ።\\n\\nሚማግቸም” ። የሃም ይቶም ከክሁዋላው\\n፰፰ኖቹ እንዶ እሳት ቀልተው ነበር “ ። ከንዴቱ ብዛት\\n\\n«ትምህርት ቤቱቴ ምን አደረጋቸው 1» አለ ሀዲስ እንዴ ገና ።\\n\\n«የተሰራው ባምልኮኩ ቦታ ላይ መሆኑን አትርሳ» ካሉት በሁዋላ የፈ\\nሬሰውን ግድግዳ አትኩረው እየተመለክቱ ፤ «የወርካው መውዴደዶቅ የብዙ\\nሰዎችን የእ፺፭፪፲ጄገ፲ፀ፲፫፲ ሳይበዴጁኪ ስ፰ልቀረዎ፲ በዚህ ብቻ የሚያቆሙም\\nአይዶሎም ፥ ። ቢሆንም ። ነገሩ ከእንግዲ\\nጦርነት ነው» አሉት ፊታውራሪ - ሜ!..፡ ሃ የአጭዳይ፣\\n\\n«በሬሳዬ ላይ ካልሆነ ህይወቴ እያለች መማንም አይነካውም  ሁ>» አሳ\\nቸው 6በእልክኩ ። ሌትም ዘብ መቆም እንዳለበት ነበር የሚታየው ።\\n\\nእሱም ፣0 ይህን7ሰይጣናዊ ወንጄጅል የፈፀሙት ያባ ጨፌ ሰዎች ይሆ\\n\\nናሎ ኖዊዋሚል.ግምት ነበረው። ግን? “ክእንማዲህ የኔ ጦርነት ነው፥ ሲሉ ምን\\n\\nማለታቸው እንዴ ሆነ አልገባውም ። ለማሰብም ጊዜ አልነበረውም ። ብዙ\\n‹ | ፡\\n\\n.\\n/\\n#\\n'},\n",
       " {'page_number': 274,\n",
       "  'text': '፦ . ..ብ-ፐጮ-.ጮ-“.ቭቨ።።።።ርር85\\n\\n፫፱ህ፲ካስፊለፃ እኛ አለንልህ * ትስፋ አትቁረጥ ፥ በሡ፭፷፰፮ሪጡሽዘ\\nነበር* ጎጼቴ አልዐረ፰ለ፻፷ ጊ፡ቤ ቢሆንም ዬዘ።የቀስለሰት ይሄድ ነበር።\\n፤ዐርገ ሁን ስበድግዳዑ 4 ውስጥ እንዴት እንደሚሰራው\\n\\nፊታውራሪ ና ስላሉት ተከትሎአቸው ሄደ ። ቤት ሲደርሱ  ሳይታወ\\nአይኖቹ ይቃገቦ ጀመር ። አይኖቹ የ ፲\\nቀው አጻናችህ። ወ ቃዠ፡ትኣንህፀ፡ በክንቱ ነበር ።\\n\\nጥምጥማቸው የዝቁዋላን ጋራ መስሎአል ። ፊታውራሪ በክፉ አይን\\nሲያዩዋቸው ጊዜ ቀንድዋን እንደ ተመታች ላም ምልስ አሉ ። ፊታውራሪ\\nአልተቀመጡም ። ዝም ብለው ይንጎራደዱ ነበር ። አንዳንዴ ወደ መስኮት\\nሄደው ሩቅ እየተመለከክቱ ሲያስቡ ይቆዩና መንጎራደዳቸውን ይተቀጥላሉ ።\\nፀዲስ ቆሞ በአይኑ ይከተላቸዋል ። -አንዳንዴ በቀጥታ ወደ እሱ ይመጡና\\nአንድ ነግገር ሊሉት ከቃጡ በሁዋላ በሙተው መንጎራደዳቸውን እንድ ገና\\nይጀምራሉ ። መምሩም ድጋማቸውን አቁመው ፊታውራሪን በአይን\\nይከተሉ ነበር # በመጨረሻ ሲገሰማሣሱ ወደ ሀዲስ መሙጡና ፥ «ቁጭ በል>\\nብለው አሸ፳ዙት ። .\\n\\nአክብሮ ቁጭ አለ ። እሳቸው ግን አልተቀመጡም ።\\nላዩ ላይ ቆመው ቁልቁል እየተመለክቱት ፥* «ቃል እንድትገግባልን የፈለግ\\nነውን ነግር ለምን እምቢ አልክ * ንቀኽን ነው ወይስ ሌላ ግምት ኖሮህ\\nነው?» አሉት፲፤ በጎርናና ድምፅ ።\\n\\n«እሺ ፤ እንዳሉት ይሁን ማለት አቅቶኝሜ አይደለም» አላቸው ፥ ወድዴ\\nላይ አሻቅቦ እያያቸው ።\\n\\n«ታዲያስ?»\\n«ውሸት ምን ያዴርጋል ? ብዬ ነው ። ልዋሾት አልችልም ።»\\n«የላካቸው ስዎች አሁን ያልክውን ኣልነበረም የነገሩን ሠመ\\n\\n«በመሰረቱ ይሄው ነው ። ንቀት አድሮብኝ ወይም ሌላ ግምት ኖሮኝ\\nአይደለም ። አባት እንዲፖኑኝሜ የምፈልገውን ያህል የውሸት ቃል ልሰጥ\\nቅት አልፈልግም ። ነፃነቴን እወዳለሁ» ካለ በሁዋሳ ፦አይኖቹን ወለሉ ላይ\\nተክሎ ፥ «ገና ለገና አባት ይሆኑኛል ብዬ ልዋሾት አልፈልግም ። እኔ\\nዬሁስት ፈላጊ አይደለሁም ። ካቅሜ በላይ ለመንጠራራትም ምኞት የለኝም ።\\nየምፈልገው ነግር ቢኖር![ፍቅርና ነፃነት ነው» አላቸው፤ በተሰባበረ ድምፅ ።\\n\\nመንጎራደዳቸውን ። ወዴ መስኮቱ ሄዱ ። ሩቅ ሲመሰከቱ\\n፩ዩ፲፲ጡ፲ሄጹ፲ዐ፡፵ሪዢ፲፲ዮዖውላዩባይቆጮናፀሠልሆ\\n\\nን ከዛሬ\\nላጄ ነ።፲ጻ ሱዐከ፲፲፲ይሀ፲ንመ ቓ\\n'},\n",
       " {'page_number': 275,\n",
       "  'text': '274 ሠሀሠዲስ\\nከ ር ዱ ኢኢ ዱ-ጮጡ..ጣጣጦጠ ፡ ደ\\n\\nጫማቸውን ሳመ ። አንስተው ጉንጭና ጉንጩጭን አገላብጠው\\nሳ፲፲፲፲፩ ፤ስጁምረቕቻ ፈጥነው ዶደርሰው መስቀላቸውን አሳለሙት ።\\nከየት መጣ ሳይባል ሮጦ መጥቶ ጉልበቱን ሳመው ። ጉንጭ ለጉንጭ +ሳ\\nሳሙ ። ክደስታው ብዛት ጣፋጭ እንባ ይወርደው ነበር ። ከዚያ በሁዋላ\\nሰርጉን በሚመለከት አንዳንድ ዝርዝር ነገሮች አንስትተዯው ሲነግሩት ሁሉ\\nበግማሽ ልቡ ነበር የሚያዳምጣቸው ። ለምሳ እንዲቆይ ቢነግሩትም እሺ\\nአላለም ። በዚያን ሰአት የፈገለው ነገር ቢኖር ፤ ውጭ ወጥቶ እኖሳቀ መሮጥ\\nካንፍ አውጥቶ በደስታ አየር ላይ መንሳፈፍ ፥ ከወፎች ጋር መብረርና\\nማዜም ነበር ። እውነትም ሳይታወቀው ብቻውን ይሮጥና ይስቅ ነበር ።\\nአለም በሙሉ አብሮት የሚስቅ ነበር የሚመስለው ። ያየው ነገር ሁሉ\\nቆንጆጃ ሆኖ ፣ ልዩ ውበት ተጎናፅፎ ነበር የሚታየው ። ማንኛውም ነገር\\nየእሱን የልብ ደስታ የሚያስተጋባ የእሱን የልብ ትርታ ስልት ይዞ የሚ\\nጨፍርና የሚያዜም ነበር የሚመስለው ። እና ፤ ከሁሉም ነገር ጋር የጋለ\\nፍቅር ይሾት ነበር ..\\n\\nዊፈረሰውን ግድግዳ መልሶ መስራት የጀመረው በዚህ መንፈስና\\nስሜት ነበር ። በልቡ ጥላቻ ወይም ቁጭት አልነበረም ። ይልቅ እያንዳን\\nድዋን ጡብ አንስቶ ከቦታዋ የሚያኖራት በጋለ ፍቅርና በታዶሰስ ተ+ስፋ\\nነበር = እና ፣ ግድግዳው ከፍ እያለ በሄዴ ቁጥር በልቡ ያደረው ፍቅርና\\nተስሩ ክቀን ወደዶ ቀን አብሮት እያደገ ይሄድ ነበር =\\n\\nዊሱጴ ልጃገረዶችና ጎረምሶች ከፊታውራሪ ተካ ማቢ በየቀኑ እየተ\\nሰበሰቡ የሰርግ ዋዜማ መዝፈን ከጀመሩ ቆይተዋል ። ሰውም በየቤቴ ቡና\\nው በአይናለም ተካና በሀዲስ ሳህሌ ሰርግ ወሬ ነበር ። እንዴ\\n\\nወጉ ክሆነ በእሱም ቤት መዘፈን ነበረበት ። ግን ምንም አይነት ዝግጅት\\n\\nነበር ። ቤትም ሳይቀር እዚያው ፊታውራሪ ግቢ ውስጥ እንደሚዘጋጅለት\\nትነማሮታል ። ነገሩን ባይወደዶውም ምርጫ አልነበረውም ። ቕግር ኖፈጠ\\nረበት ነገር ቢኖር እኢድምተኞቹንና ሚዜዎቼቹን በመምረጥ ላይ ነበር ። ብዙ\\nሰው አያውቅም ። ጉዋዶደኞችም አላፈራም ። ሱጴ ከደረሰበት ቀን ጆምሮ\\nጊዜውን ያሳለፈው በቁም ነገር ብቻ እንደ መሆኑ መጠን ሀዘኑንም ሆነ\\nዴስታውን የሚካፈሉት የቅርብ ወዳጆች ባለ ማፍራቴ ቆጨው ።\\n\\nምን ጊዜም ቢሆን የሰው መድሀኒቱ ሰው ሙሆኑ በሟገባ የተከሰተ\\nለት እነማን እድምተኞችና ሚዜዎች ላድርግ ? እያለ ማሰብ በጀመረበት\\nጊዜ ነበር ። ይህም ብቻ አልነበረም ያሳስበው ። ለክፉም ሆነ ለደግ » በሚ\\nኖርበት ህብረተሰብ ውስጥ ስር ያልሰደደ ሰው ፥ ስር እንዶ ሌለው ዛፍ\\nመሆኑ እየታየው፡፤ ሰውብቻውን አይደለም፤ ሊሆንም አይችልም ይል ነበር-፦\\n፲ዘቻ፬ጎ ።\\n\\nክነገር አባቶቹ ሌላ እድምተኞች አላገኘም ። ከቀውሌ በቀር መምዞ\\nሬኑ ውሉ ለክረምት ኮርስ ሄደው ነበር ። ቀውሌንና ጎረቤቱ የሚኖሩትን\\nሽማግሌ ልጅ ሁለተኛና ሶስተኛ ሚዜ አድርጎ ከመረጠ በሁዋላ ታራሶ\\nብሩን ፍለጋ ሄይዴ ። ዴኑ ውስጥ ሲዞር እንደ ምንም ፈልጎ.አገኘው “\\n\\nታፈፌሰ ሁሉንም ነግር ያሙቅ ስል ነበረ እየቀለድ » ወየፈሩት ይዴርሳዶ *\\nየጠሎሉሎት ይወርሳል ይባላል ። መወንድም አማች>ወ አለ፲፲፡፲፻፲\\n'},\n",
       " {'page_number': 276,\n",
       "  'text': '#ሠዲስ 275\\n\\nሀዲስ አርእስት ጉዳዩን ለውጦ ፥ «እውነትም ይህ ዶን ያጉዋጉዋል»\\nአለው*\\n\\n,የወርቅ ማእድን ነው» የሚል ነበር የታፈሰ\\nየ ችግኝ% ተከሳው ስራ እንዴት ነወ:9 ፡ \\'\\n\\nምስት ሽህ እግር ቡና ተክያለሁ ። ነሐሴ ሳያልቅ ወደ አስራ ሁለት\\nሽህ ፡፲፸፶፲፲ር ቡና ለመትከል ነው ያቀድኩት ። ከሶስት አመት በሁዋላ ምን\\nአለፋህ ጥቁር ወርቅ መሸምጠጥ ነው ። ደህና ሁኝ አራዳ ብዬ የመጣሁት\\n\\n«እንዳሰብክው ባጭር ጊዜ ውስጥ የሚሊዮን ብር ጌታ ልትሆን\\nነው\"*»\\n\\nጉሬጃጓዎች ፤ ካንዱ ዛፍ ቅርንጫፍ ወደ ሌላው እየዘለሉ ውብ የሆነ ፥\\nአይንና ልብ የሚማርክ የሰማይ ሳይ ትርኢት ያሳያሉ ። የወፎቹ ዝማሬ\\nአብ ይመስጣል ። ድኩላዎችና ሚዳቆዎች ገላጣ አረንጉዋዴ ሜጫዳ ላይ\\nከምትገኝ አንድ ትንሽ ምንጭ ውሀ እየጠጡ ይሄዳሉ ። የፀሀይዋ ጨረሮች\\nወርቅማ ዝናብ በዛፎቹ ቅርጉጫፎች መካከል ያዘንቡ ነበር ።\\n\\n«ግን አጉተ ባቁዋራጭ መንገድ ቀደምክኝ» ሕለ ታፈስ ፥*0 አንድ\\nረጅም ሰስንበሌጥ በጥርሶቹ መካከክል ይ ”\\n\\n«እንዴት 5\\n\\n«ኣንዳንድ ሰው እድለኛ ነው--ከሚሊሲዮን ብር ጋር ይጋባል» አለው።\\n\\n«ጓዲስ ለብር ሲል ነው የሚያገባው ብለህ በእውነት ታምናለህ 78\\n\\n«ለፍቅር * ስለ ፍቅር ብቻ ብለህ ነዋ !»\\n\\n«ብታምንም ፤ ባታምንም ፡፤ አምዎን!»\\n\\nታፈስ በሳቅ ፈነዳ ። ጫካው ሳቁን ያስተጋባ ነበር ። ሳቁን አቁቱሞ\\nእንባውን ጠረገና ፤ «ጅል አትሁን ። ከቆንጆ ሴት ጋር ሚሊዮን ብር ሲገኝ\\nየሚጠላ ሰው የለም» አለውና ፣0 አይኖቹን ጣል አድርጎበት ለጥቂት ጊዜ\\nከተመለከተው በሁዋላ ፥ «ወንድም አማች ፥* አይዞህ ። አትዘን ። ለመሆኑ\\nለምን ኖሮአል የፈለከኝ ? ሁለተኛ የምንገናሜ አልመሰለኝም ነበር» በሚ\\nለት ለስለስ ብሎ ጠየቀው ።\\n\\nሀዲስ አመነታ ። ሆኖም በልቡ አልጠላውም ። እሱን የሚጠላበትም\\nያት ኣልነበረውም ፦-- ሀብት ፈሳጊ አለ መሆኔን ምንብዬ ባስረዳው\\nይሆን ሊረዳልኝ የሚችለው ? በማለት በራሱ ጉድለት ነበር ያዘነው ።\\n\\n«ታዲያስ ምን ነበርገ» ኣለው እንዴ ገና ።\\n«የኖመጣሁበት ጉዳይ ያስቃል #።»\\nፍንገረኝና እንሳቅ ። »\\n\\nሊስቅዘሠኖ ረምህና ሚዜ እንድትሆነኝ ልጠይቅህ ነበር የመጣሁ» ብሎ\\nኮን ለማየት ራሱን አዘጋጅቶ ይጠብቀው ጀመር “\\n- ታፈስ አልሳቶም ። ረጀም ላለ ጊዜ ዝም ብሎ ሲመለከተው ቆየ ።\\nጄፀላ ቼዓዛፅይፀልጂኳ እያለ ሲጠፋ ይታይ ነበር » ፈገግግታውም ብልጭ\\n፡ ቶመልሶ ይጠፋል “\\n'},\n",
       " {'page_number': 277,\n",
       "  'text': '276 ሠ#ዲስ\\n\\nጪ\\n\\n«ታዲያስ?» አለ ዐዲስ #” \"\\n«ህም...አማችም ሚዜም ልታዴርገኝ?»\\n\\n«ያውም አንደኛ ሚዜዬ ። ሌላ የሟውቀው ሰው የለኝም ። ምን ታስ\\nባለህ ታዲያገ»\\n\\n«ሌሎቹስ እነ ማን ናቸው?»\\nየሌሎቹን, ስም ነገረው ።\\nርአ፺፰፪፩ አሽከርህ ልታዴርገኝ ነዋ?»\\n\\n«ሞኝ አይዶለህ . ..»\\n\\n«ሞሜ ሙሽራ ፥0 ሰርገኛ አሽክሩ ይመስለዋል ሲሉ አልሰማሀም ?»\\n«ሞኝ ነህ ካልከኝ ላይቀር ያን ቀን አንተን አያፖ፦:.፣ኝ ። ልክ እንደዴ\\nአሽክሬ ነው የማዝህ ። »\\n\\n«አይታወቅህም እንጂ ትምህርት ሚኒስቴር ስራ ፍለጋ ቢሮዬ መጥ\\n\\nትህ ክተገናኘንበት ቀን ጀምሮ ስታዘኝ ቆይተሃል ። ምክንያቱ አይገባኝም ።\\nጳሳስበው ይገግርመኛል» አለው ።\\n\\nከክዚያን ሰአት ጀምሮ እንዳሽከር ማገልገል ብቻ ሳይሆን እንደሚድ\\nሬረው ታላቅ ወንድምም ሆኖ አስፈላጊውን ነገር ሊያሙዋላለት ይጥር ነበር።\\nኖሰርጉ ቀን ሊደርስ ሶስት ቀን ሲቀረው ታፈሰ ትምህርት ቤት ድረስ በመ\\nኪናው መጥቶ ጠራው። ሀዲስ ተናዶ ላቡ.ጠብ እስኪል ድረስ ይሰራ ነበር ።\\nላቡን ከክግንባሩ ላይ ኣየጠረገ . መጣ ። ፤\\n\\n«ለሰርጉ ሶስት ቀን የቀረው ሙሽራ ሳይሆን መናጢ ኩሊ መስለሃል»\\nአሕለው ታፈስ ፤ አዳፋ ልብሱን ባይኑ እየትፀየፈ ።“\\n\\n«ምን ላ“ርግ እባክህ!»\\nምን ነካህ?»\\n\\n«ይሄው እንደምታየው ነውጋ ብሎት በገዴት፭ በረጅሙ ተነፈሰና *\\n«ሰራትኞች የኖሉም ። በየቀኑ ማርያም ፥ ገብርኤል * ጊረዮ፰፲፩ስ 5 ሚካኤል\\n- እያሉ ይጠፋሉ ። ጊዜን በከንቱ ነው የምናባክነው ። እና ፤ በጣም ያናድ\\nዶኛል ። ይበልጥ የሚያናድደኝ ደ*ሞ ምን መሰለህ ? ጠበል ጠዲቅ ፤ ሰን\\n\\nበቴ * ማህበርና ፣ ክርስትና ፥ የሉፅ\\nዕት 5ው 2 ድማግስ እየተባለ የሚወድመው ያለ\\n\\n«ይዖ#ች ድሀ * ጎስቁዋላ ፤ ግን ውብና አሳ ንዴት አድር2\\nልትበለፅግ እንደምትችል እኔ እንጃ ! ይህ ትዐዐልዛ፪ ዷቼ፡ዷርልቼፃቆፃና ባ።ለዜዩ\\nር\\n\\nኣለብን ተለወጠ የማይ\\nለወጥ የህብረተሰብ መዋቅር የለም 1፡ በግለቕእጄፃዷጩ ባንድ ትንሩኾ\\n'},\n",
       " {'page_number': 278,\n",
       "  'text': ' ጁፖ ዮ - -፦ሮሎሙሙሙመ፦ጮ.።\\nከከ 1 እውነትም ተናዶሃል!»\\nን አልናዶድም?»\\n\\n«ቀስ በል» ብሎት ባይኑ ቂጥ እየተመለሰከተው ፣ «እንዲህ ስትሆን\\nየዖኃናዴዐዴኝር አለምን ለመለወጥ ነው የተነሳሽው--ኤ? አይ እናቴ ።\\nነፀዲህም አ\"ርጎም የለ።\"ወንድም አማች፤ይህን ቀልድህን አቁም ። ስማ\\nልዝርሠ ሙሴ፡ አይሁዶችን ከምድረ ግብፅ ለማውጣት ይዞአቸው ሲሄድ\\nምድረ በዳ ሲዴርሱ ምን ብለው እንደ ጮሁበት ታውቃለህ ? “ሽንኩርት !\\nስጋ” እያሉ ዙየጮሁዐት፡ አንድም ያመሰገነው ሰው አልነ በረም ። ነፃ\\nነቅ ወይም የወደ ፊት ህይወት የሚባለውን ነገር ብዙ ሰው ሲገ ባውም፤\\nሊሸክመውም አይችልም ። ላንተ ህልም ማንም ደንታ የለውም ። እንዲ\\nያው ነው የምትጮኸው » አለው ።\\n\\nርአሮጌጋ ቢ ብቻ ነው የሚሞቀው ያለህ ማን ነው? ተወኝ እባክህ ።\\nልጅ ሲያጥቡት ማልቀሱ አይቀርም ። ሰው ለትሻለ ህይወት አለምን\\nለቦለፀፃሡገራሉፀለፀጥ አለበት ። ቁም ነገሩ ይህ ለውጥ የሚያስ\\nከትለው ቁጣ ወይም የህጋዊነት ጥያቄ ሳይሆን 9 የለውጡ ይዘትና አቅጣጫ\\nነው።ወደ ፊት ካልተመለከትን ያሁኑን ፥ የዛሬፊውን ሁኔታችንን እንዴት\\nብልን ልንለውጠው እንችላለን ?» አለ ምርር ብሎ ።\\n\\n«ወንድም አማች ፥*0 አሁን አታልቅስብኝ ። ትዳር ይለውጥሃል ብዬ\\nውስጥሀ\\n\\nይዞት ወደ ቤት ወሰዴውና በስጦታ ወረቀት የተጠቀለለ ትልቅ ቡዋት\\nከመኪናው ላይ አውርዶ ሰጠው ።\\n\\nሀዲስ ቸኩሎ ቡዋቱን ከፈተው ። ሙሉ ጥቁር ልብስ * ነጭ ሸሚዝኖና\\nጥቁር ጫማዎች ነበሩ ።\\n\\n«ልምን ብለህ ነው ?»\\n«ለስርግህ ። የገበበሬ ሙሽራ ላጅብ ኖሮአል ፻\\n\\nእፅ «ልብሴን ልታጅብ ነዋ ! »ብሎት ጉንጭን ሳመውና ፥ ««ውሙድ መሆን\\nአለ አይኖቼቹን ስወታወጃ ላይ ጥሎ ።\\n\\nፍገንዘብ ለመቼ ነው ?»\\n\\nሚሊዮኔር ኣልሆንክም ካሁኑ እንዲህ ብኩን ከሆንክ እንዴት\\n\\nመ ጠሊዮኔር - ለመሆን እንደምትችል አይገባኝም “ “ከጥቃቅን\\n\\nኣል ቢ ተጠንቀቅ ፣ ትንሽ ፍሳሽ ትልቅ መርከብ ታሰጥማለች\" ብሎ\\nንጃማሚን ፍራንክፅ,ን ። >\\n\\nፍስለ እሉ ኣታስብ »\\n'},\n",
       " {'page_number': 279,\n",
       "  'text': \"278 ሠዲስ\\nጪ\\n\\nለሰርጉ እለት የቀሩትን ሁለት ቀናት ህልም አልሞ እንደሚኖር ሰጡ\\nሆኖ ባሳብ ባህር ላይ እየተንሳፈፈ ነበር ያሳለፋቸው ። ወዶደ ስራው ለመ\\nሄድ አልቻለም ። ቀናቱ ረጅም ይሁኑ አጭር ግምት አልነበረውም ። ሰአ\\nቶቹ ፈጥነው ወይም ዝሣ ብለውበት እንደ ሆነ አላውቅም ። ወዲስ ሳህሌ\\nአይናለም ተካን ሊያገባ ! አንዳንዴ ነገሩን ለማመን ያቅተው ነበር «\\nታፈሰና ሌሎቹ ሚዜዎች መጥትው ሲያለብሱት ውሉ፤ “እውነት ላገባ ነወውት\\nእያለ ይጠራጠር ነበር ።\\n\\n«ይህ ሁሉ እድምተኛ ከየት መጣ ፐመ ብሎ ታፈስን ጠየቀው ።\\n\\nየበቅሎ ፤ የፈረስና የሰው ብዛት ከቤቱ ፊት ለፊትያለውን ሜዳ አጣዐ\\nይታይ ነበር ”\\n\\n«ጥጭፕላ ቢስ መናጢ ሙሽራ የፊታውራሪን ዶጅ እንዴት ኢአድርጎ ይረ\\nማጣል!>\\n\\nኗሰራዊት ስትመለምል ነዋ የከክረምክው !»\\n\\n<ዝም በልና ልበስ ። ጊዜው ሊደርስ ነው ። ፊታውራሪ በቀጠሮ\\nሰአት ቀልድ ኢያውቁም ። የዝገየዋህ እንደዶ ሆነ ከደጅ እንደሚመልሱህ\\nእወቅ ። እውነጭቴን ነው ። “ዘግይቶ የሙጣ ሰው የሚጠብቀው የተዘጋ በር\\nንው” ስለሚሉ *፤ የሰው ማንነቴን የሚገምቱጭት በቀጠሮ አከባሪነቱቴና\\nበቃሉ ነው> አለው እያለባበሰው ፤ «አዎን ፤ አሁን ሰው መሰልክ 1\\n\\n«ልኬን በምን አወክ እባክህ ?\\n«ጠንቁዋይ ቀልቤ ሠወሠ»\\n«ግን ይህን ካባና ባርኔጣ አላዴርግም =ወጅ\\n\\n«እዚህ ሙሽራ ለመምሰል ክፈለክ ካባና ባርኔጣ የሜድ ያስፈልጋል ።\\nአለዚያ ሰው ይስቅብሃል ። እኔ ደ'ሞ ሰው የሚስቅበት ሙሽራ አጅቤ\\nመሄድ አልፈልማግም።»\\n\\nብላለች ። ያጃቢው ብዛት መጠን አልነበረውም ። በሀር ጨርቅና በወርቅ\\n\\nሃይ ፤4 ሃይ ፤ ሃይ ፥ ሎጋው ሽቦ !\\nሽቦ ያውና ሽቦ\\n\\nእህም ፥ እህም ፤0 ሎጋው ሽቦ !\\n\\nሃይ ፤ ሃይ ፥ ሃይ ፥ ሎጋው ሽዐ...\\n\\nእንዶ ወጉ ዶደጅ አላስጠኑትም ። የሚያስቆጥረው ስጦታ አል\\nነበረውም “ ዋኖፊታውራሪን ጉልበት ስሞ ወዶ ተዘጋጆዑሟ፡ፄቅዴ ፡ን ፃጃጣሎ\\nየተሰራው ዳስ ድፍን የሱጴ ህዝብ ቢመጣ ውጦ የሚያስቀር ይመስሳል ፆ\\nእልልታው ቀለልለጠ ። የተኩስ እሩምታ ሱጴን አናጋ ። የልጃገረዶችና የጎረ\\nምሶች ዘፈን ደሙዯ---ዶራ ። በተጋባሇና በተጨዋቾቼ ላይ ሽቶው እንዶ\\n\"},\n",
       " {'page_number': 280,\n",
       "  'text': 'መ ቸሜስ 78\\n\\nተርከፈክፈ ። ሌላ እልልታ ። ሌላ የተኩስ እሩምታ ። ሙ\\nፎዝ ታጅባ ክጉዋዳ ብቅ አለች ። ፊትዋን ለሜቼት አሊ፤፤ቕቺቴ\\nበይነ ርግብ ትሸፍኖ ነበር።አሁንም አላመነም ። ህልም የሚያይ ነበር\\nኙ፡ ይመታል--ያቅራራሉ፤ያቀነቅናሉ አዝማሪዎች ። ይቀርባል በገፍ ጠጅ\\nበማብረጃ * አረቄ በጠርሙስ ፤ ጥጥ የመሰለ ጮማ ስጋ የሳንሳ እየተ\\nያዘ.›\\n\\nውባለም\\nከቶ አንቺን አይቶ የጠገበሽ የለም.--\\n\\nዝናሽ ትክዝ ብላለች--ሆይ ሆድ፦-በጠፍ ጨረቃ ጩቤ ብልጭ ሲል--\\nየሽጉጥ ጥኩስ እንዶ ቡሄ ጅራፍ ሲንጣጣ--ኡኡታ--የውቤ በረሃ ጀግና\\nወድቆ ውሀ * ውሀ ሲል---የፖሊሶች ፊሽካ። ፀጥታ ።ሙዚቃው እንዴ ገና\\nሲደራ ፤ ዳንኪራው ሲቀልጥ ፤ ዴርሶ መልስ ፍቅር በየጉዋዳው ሲጦፍ ።\\nደግሞ ልቡ ያበጠው ጎረምሳ አንድዋን ሲጎነትል፤ ሲያቃጥላት በጥፊ--ሌላ\\nኡኡታ፥4፥ግርግር፥፤ ጥርስ ረግፎ እንደዶ ቆሎ መሬት ሳይ ሆጭ ሲል። ሙዚቃ..›\\n\\nፊታውራሪ ተካ ቀጭን ነጠላቸውን ትከሻቸው ላይ ጣል አድርገው\\nበተጋባ ህዝብ መካክል እየተዘዋወሩ «ኗብሉ ፥ ጠጡ» በማለት ከመጋበዝ\\nሌላ ፤ ስጋ አቆራረጥ ፤ አያያዝና አበላል የማያውቅ ሰው ሲያጋጥማቸው\\nበንዴት ቶሎሳን እየጠሩ * «ምንድን ነው ይኽ ስጋ እንዶ ሽንኩርት የሚ\\nከትፈው። ቢላዎውን ቀማውና አቆራረጥና አበላል አሳይልኝ፤ . እንዲህ\\nነው!» ይሉ ነበር፤ቶሎሳ ከሰውየው ቢላዎ ቀምቶ ፤ ሽንጡን ወይም ታና\\nሹን በያዘው ቢላዎ ነካ ፤ ነካ ፥ ገልበጥ * ዋጥ * ቆረጥ ፥ ዋጥ ሲያደርገውና\\nኩእቼ ነስቶ ቢላውን ለምስኪኑ ሰውዬ መልሶ ሲሰጥ ባድናቆት እየተመለ\\n\\n.ኩኤ=\\n\\nዝናሽ አሁንም ባሳብ ጎዳና ርቃ ሄዳለች ። ቀይ ፤ ብጫ * ሰማያዊ ፥\\nአረንጉዋዴ መብራቶች፡ ይታዩዋታል ። ከርቤ ፤ እጣን ፥ ብርጉድ ፤ ሽቶ*\\nየበረሃ ሽታ ይሸታታል ። የታንጎ *0 የዋልትዝ ፤ የቡጊ ውጊ * የማምቦ ፥\\nየቻቻ ፥ የሜሪንጌ ፤ የሳምባ ፤ የኮንጋ ሙዚቃ ከዲን ማርቲን ፤ ከፍራንክ\\nኮጽትራ ፥ ከቢል ሄሊ ። ከሊትል ሪቻርድስ ፤ ከፋትስ ዶሚና ፡ ከናት ኢ.ን\\nከነ ፤ ከዶሪስ ዴይ ዘፈኖች ጋር ውሉ እንደ ጠፋ ልቃቂት እየተዐሳሜ\\nቶ ፅጌ መናግሻ ቅዱስ ጊዮርጊስ ቤተ ክርስቲያን በላይ ነግሶ የሰፈሩ\\n\\nታ ሲያናጋ ይሰማታል ። እንደ ሰራ አይገድል!---\\n\\nዘፈኑ ፣ እልልታው ፤ እስክስታው ፥* ክበሮው * መሲንቆው * እምቢ\\n፰፪፲ወ፲ ይቀልጣል ። ጠጁ * አረቄው « ጠላው * ቢራው እንይ ፰፲፪፲ ፪፮\\nግል ,ኸርንዶና ጮማ ይቆረጣል ። አልፎ አልፎ የተኩስ እሩ\\n\\nአለም ዘጠኝ ሆና ነበር “\\n\\nአይናለም ፣ አይናለም ኒ\\n።ይልሽ የለም ።\\n'},\n",
       " {'page_number': 281,\n",
       "  'text': '280 ወዲስ\\nከ . .ሙ\\n\\n«ታዲያስ ገሬ አለው ታፈስሰ #\\n<ደክሞኛል ።“>\\n\\n\" «ኦ ኦ! መበርታት አለብህ ። ጫጉላ ቤት ሳትደርስ መድከም የለም «\\n\\nጫጉላሽ አብቦአል ዛሬ*0ፁብር አምባር ሰበረልዎ ፤0 ሀዲስ ልጅዎ ሳንል እንዴት\\n\\nይሇናል ። ክብሩም ሆነ ኩራቴቱ”\"ኮ እዚህ ላይ ነው ---»\\n\\n«በፈጠረህ ዝም በልሀ>\\n\\nኖፍካሬ ድጋም ምን ያደርግላታል ?\\nውዳሴ ማርያም ምን ያደርግላታል ?\\nብሉይ ኪዳን ማንበብ ምን ያደርግላታል ?\\nየፍቅር መሰረት ሀዲስ ይበቃታል ---\\n\\nደ«ሰከርክ መሙሰለኝ 1?ሙ\\n\\n«ትንሽ\\'ጠጣ ። ይረዳሃል ። ሁዋላ ውርዴት ነሙ።ማን አትፍራ። ትንሽ\\nብትጠጣ ድፍረትና ጥንካሬ ይኖርሃል ። ደግነቱ ልጅቱ ዶካማ ናት ። በዚህ\\nላጳይ ደ”ሞ ጥፍሮችዋን ስጋዋ ድረስ በመቁረጥና ክትናንት ጀምሮ አንኮላ\\nሙ-ሉ ኮሶ በማጠጣት የባሰውኑ ሳያዶደክሙዋት አልቀሩም ።»\\n\\nኖየሱጴ ባላባት ማለፊያ ዶደግሶ\\n\\nመምህር ባረክለት ማእዱን ቀድሶ ።\\n\\nዋየዋግባ ወንዝ ውሀ ፤ ውሀው ጠጅ ሆኖ ሲያሰክር ሁሉን .\\nመግን ኣንቺ ሆዬ ፥* መግን ሱሕ ቦሮ ፥፤ ባይናለም አእየን ...\\n\\n«በፈጠረህ ትወኝሜ ። ለራሴ ደክሞኛል ። ይሀህን ካባ ከላዬ ላይ የምጥ\\nልበት ጊዜ ነው የናፈቀኝ ። ጅል ያስመስለኛል =»\\n\\n«ልኡል ሀሠዲስ ሳህሌ ነው የመሰልከው !. . .እውነቴን ንነው። ግን\\n\\nስለ ድካም አትናገር ። ስለ ድካም መስማት አልፈልግም ። ሙሽራህ ፍቅር\\n\\nይዞአት ጫጉላ ቤት የምትግባልህ አይምሰልህ ። ይዛ የምትመጣው ነገር\\n\\nብህ ያንን ነው ።\" ወንድነትህ የሚታወቀው ያኔ ይሆናል ። አለዚያ አንተን\\n\\nቕረሰኝፏእዳቦ እ፣ሕፀፀሀ ፀ፭፲ ፪ባ፰ኝጡፃ ዛጮጫ -፦ ዝ።ዷፃ፡\\n፡ \\' ባ ወዮጫ\\n\\nመሸኘት ነው ። ትስማለህ ?» ይ ች መ\\n\\nርለፍልፍአ፶፡\\n«=እክዋ ኣውን ምን ኖዋምታስብ\\nፍ«ሂድና ጠይቃት 19 ጅመድደዉቸል 7:\\n\\nህሠዲስ ነገሩ ሲሰልችቶት 8\\nሙስኪውን ባንድ ትንፋሽ መጨሕመው , ? ሙን መለኪያ አንቦቶ\\n'},\n",
       " {'page_number': 282,\n",
       "  'text': 'ተ ልው 281\\nነው ፣?» ብሎት ሌላ ቀዳለት ፤ «ክብርና መገ\\nይደልሷፆገቼያእንዳለከት ፥ ድፍረትና ጥንካሬ ያስፈል ኃልሙ ን በ\\nሀዲስ የተቀቆዳለትን መጠጥ አይቶ አልተወውም ። አንስቶ አጋመ\\nሰው #\\n«እ..እንዴደሱ ማለቴ አይደለም። ከሰካራም ሙሽራይሰውረን አቦሀወ\\n\\n«የሚዜ ቀርፋፋ ከሚሉህ ሄደህ- እንደ ቀውሌና እንደ ጎይቶም ለምን\\nአትዘፍንም ?»\\n\\nወደ አይተ ! ጎይቶም ክበሮውን እየደለቀ የትግሬ 8ፈን ያቀልጣል ።\\nዘሄፈኑን በደንብ የሚቀበለው ሰው አላገኘም ። ቢሆንም ማሣድ አልነበረውም ።\\n\\nኑን\\nቡራኬ ኣወረዱ-።# ዘፈኑ እንዴ ገና ደራ ። እምቢልታው ተንካለለ ። እልል\\nኩስ ሳያቁዋርጥ ይ\\n\\nከጮሽሮቹ ፊትና ሁዋላ የተያዙት ችቦዎች ጨለማውን ወዶ ቀን\\nብርሃን ሊለውጡት ምንም ያህል አይቅራቸውም ነበር ። ጥቁሩ ሰማይ በሚ\\nስሳከፃክብቅፃብፃወይታያል፲እ፺ዴታጄቡሡ ጉላ ቤታቸው\\nደረሱ ። በሩ ተዘጋባቸው ። ብቻቸውን\\nዝም ብ፡\\n\\nአላላ ። አይናለም\\nነትዋ እንደ ቅጠል ይርገበገብ ነበር ። አይኖችዋ ትኩስ እንባዎች ያፈሳሉ ።\\nአይነ ርግብዋን ቀስ ብሎ ከራስዋ ላይ ሲያነሳ ረጅም ጠጉርዋ ተንዶ ሄዶ\\nትከሻዋ ላይ ዝርግፍ አለ ”\\nአገጭዋን ይዞ ወዶ ላይ ቀና አደረጋትና ፤ «አለምዬ ፤ እስቲ አንድ\\n፭ጩ፲ያጩቤሡክድአለፀሆኑን ስታውቂ ምን ተሰ\\n”\\n\\nመልስ አልሰጠችውም ። ጉንጭዋ ላይ ሳማትና ፤ ፍምን ትለኝ ይሆን\\nብዬ አዝፔ ነበር» ኣል ፥ አይን አይንዋን እያየ ።\\n\\nአይኖችዋ እንዶደ ሰማይ ከዋክብት አበሩበት “\\n\\n«እኔም ተስፋ ቆርጨ አዝቼፔ ነበር» አለች በሚንቀጠቀጥ ድምፅ።\\n\\n«ለምን ኣለምዬ ?ገ>\\n\\n«እምነት የጣልኩበት ነገር ሌላ ሆኖ ሲገኝ ለምን አላዝንም ። እና ፤\\nባርግጥ ላደርገሙ ኣስብ ነበር» አለች =\\n\\nፍራሴን ለመግደል =>»\\n\\nይ ማድረማሽ ብሎ ወዶ ደረቱ አስቦ‹ጋትና * ፍእኔ\\nኣ፺ነ፲ነ፰፲፲ ን የምፈዴፎገፎለ « እንደ ተመግሺው ትማሪያለሽ» አላትና *\\nስር ሽጉጥ አለ\\n'},\n",
       " {'page_number': 283,\n",
       "  'text': '282.: ሠዲስ\\nከበሮ ሲደለቅ ይሰማል ። ዘፈኑ ፡ እልልታው ይቀልጣል ። መላ ሰው\\nነትዋ ሲንቀጠቀጥ ተሰማው ።\\n\\n«አይዞሽ» አላት ‹ «ዴአትፍሪኝ ። ያው ዱሮ የምታውቂው ሀሠዲስ ነኝ «\\nአዲስ አውሬ አይደለሁም ። ካንቺ ጋር ብቻዬን እንደዚህ ፥ እንዳሁኑ ፥\\nለመሆን እመኝ ፤ አልም ነበር ... ካልሆነም ከዚህ መስቀል ጋር ሞቼ እቀ\\n- በር ነበር ። ይህ መስቀል ትዝ ይልሻል ?»\\n\\nመስቀሉን በእንባዋ ውስጥ ተመለከተችው ። ነጭ መሀረብ አውጥቶ\\n\\nእንባዋን ጠረገላት ። እና ፤ አቅፎ ሳማት # በመጀመሪያ አፀፋውን አል\\n\\nመለሰችለትም ።#እንደ ገና ሳማት ። ለከንፈሮችዋ ሲጠማና ሲራብ የቆየውን\\n\\nያሀል ነበር የሚስማት ። እንደ እሳት የሚፋጀው የሰራ አካላቱ ያቀልጣት\\n\\nይመስል እጆቹ ውስጥ እየደከመች፡፤ እየሙዋሙዋች ትሄድ ነበር...ገሃነመ\\n\\nእሳት ነበር---ገሃነመ ፍቅር ። የሰማይ ክዋክብት በሙሉ ወደ አበቦች\\nተትለወጡ--ላዩ ላይም ረገፉ...\\n\\nቀጥሎ የሰማው እልልታና የተኩስ እሩምታ ነበር ።\\n'},\n",
       " {'page_number': 284,\n",
       "  'text': 'ምእራፍ ፳\\nክፍ ል ፲፳\\n\\nልባቸው ውስጥ የሚነደውን የፍቅር ፍም እየሞቁ ምሽት ላይ ጀን\\nበርዋ የፍም አሎሎ መስላ ስትጠልቅ ባድናቆት ይመለከታሉ ። ጡዋት\\nበማለዳ ተነስተው በወጣት እግሮቻቸው ጤዛዎችን እያረገፉ ወደ ፀሀይ\\nመውጫ ይሮጣሉ።እንደ ምን አደርሽ ፀሀይ? እንደ ምን አደርሽ ህይወት?\\n\\nሌቱ በትላልቅ ሳቂታ ከዋክብት የተሞላ ፤ ጣፋጭ እንደ ማር\\nወለላ ፤ አጭር እንደ ቆንጆ ህልም ነበር ። ቀኑም ሆነ ሴቱ ፤ ምሽትም ሆነ\\nንጋቱ ፤ ሁሎሉም አጭር ፤ ፈጣን ፥ እንደ ፍቅር ውብ ፥ እንደ ጫጉላ ቤት\\nፍቅር ጣፋጭ ፤ እንደ አዲስ ፍቅር ፈጣን ነበር ።\\n\\nየሱጴ ሰማይ አብሮአቸው ይስቃል ። መልካዎች ከነሱ ጋር ያስካ\\nካሉ ። የሱጴ ምድር ከወጣት እግሮቻቸው ስር አብራቸው ትደንሳለች ።\\nየምድር አበባዎች ሁሉ ከነሱ ውብ ፍቅር ጋር አብረው ይፈነዳሉ ፤ ያብ\\nባሉ ፤ ይፈካሉ ። ወፎች ፤ የንፋስ ሽውታዎች ፤ የጫካ ሹክሹክታዎችና\\nወራጅ ምንጮች የሚያዜሙት የእነሱን ፍቅር ዜማ ነበር ። ቢራቢሮዎችና\\nዝች ካንዱ አበባ ወደ ሌላ እየበረሩ የሚተርኩት የእነሱን የፍቅር ታሪክ\\nነበር #ከዛፍ ጥላ ስር አረፍ ብለው የሚመለከቱት የጠራ -ቀዝቃዛ ምንጭ\\nመልሶ የሚያንፀባርቀው የሁለቱን ፍቅር ነበር ።\\n\\nየሱጴ ሜዳዎችና ሸንተረሮች ፥ ፊታቸው ይነጠፋሉ ። ሸለቆዎች\\nርምጃዎቻቸውን ማህሌት ቆመው ይቀድሳሉ ። ተራሮች ፤ ሳር ቅጠሎች ፤\\nየምድር ዛፎች ባለፉባቸው ቦታዎች ሁሉ ያረግዳሉ ። በውብ ፍቅር አለም\\nውስጥ ያለ ሁለቱ ሌላ ፍጡር ያለ አይመስላቸውም ነበር ። እጅ ለእጅ\\nተያይዘው ሲሮጡ ፤ ሲገቡና ሲወጡ ያያቸው ሁሉ ፤ ከክፉ አይን ይሰው\\nራችሁ የማይላቸው ሰው አልነበረም ።\\n\\nየምን ያደባባይ ፍቅር ነው ! ስዶች ! አሳዳጊ የበደላቸው ! አበስኩ\\nገበርኩ ! የሚልዋቸውም አንዳንድ ሰዎች ነበሩ ። ፊታውራሪም ይህንኑ\\nተው ፥ «ሰው አይንና አፍ መግባት ጥሩ አይደለም» ይሉዋቸው ነበር\\nብዙ ጊዜ ደጋግመው፤ሆድ ሆድዋን እየተመሰከቴ ። አይናለምን ያው እንደ\\nሽንቅጥ ብላ ሲያዩዋት ደስ አይላቸውም ።\\n\\nበምሳ ስኣት ከፊታውራሪ ማእድ መለየት አይፈቀድላቸውም ። የፊ\\n፰፱፬፲ራሪ ገረድ አገልግሉን አዝላ ስትመለስ ጠብቀው ሰምሳ ይቀርባሉ ።\\nንዲት ዴቂቃ አሳልፈው የት ሊገቡ ! ፊታውራሪ በጣም ይቆጣሉ ። እንዳ\\n\\nሚ ሆኖ ዛሬ ትንሽ ዘግይተው ነበር የደረሱት ። እሳት ለብሰው፥፤ እሳት\\n'},\n",
       " {'page_number': 285,\n",
       "  'text': '284 /ዲስ\\nህጎ\\n\\nጎ ርሰው ጠበቁዋቸው ። ጥፋቱን እንዳወቅ ህፃን ሁለቱም አቀተርቅረው\\nቁቱጭ ሕአሉ ። አገልግሉ አፉን ከፍቶ ይጠብቃል ።\\n\\n«የት ነበራችሁ ፻>» አሉ ጮክ ብለው ፤ ሆድ ሆድዋን እየተመለ\\nየትልወጠ ነገር አላዩባትም ። በይበልጥ ሽንቅጥ እያለች ነበር የም ከቴ ፡\\n\\n«ውጭ ወጥትን ነበር» አለ ሀዲስ ፣ እንዴ ህፃን መቆጠሩ ውስጥ\\nውስጡን እያናደደው ።\\n\\nጻእኩ የት 1ገ»\\nጆ=ትምህርት ቤት ነበርን ።»\\n\\n=ልለቱ ቅዳሜ ነበር ። ማለዳ በጡዋት ትነስተትው ነበር ወዶ ትምሥህርት\\nቤት ትያይዘው የሄዱት ። ባንድ ፊት ሰራተኞቹን እየተቆጣጠረና እየረዳ ፥\\nበሌላ በኩል ደግሞ አይናለምን እንግሊዝኛ ሲያስተትምራት ነበር የዋለው።\\nቤት ውስጥ ፥ ሽርሽርም ላይ---በየትም ቦታ---እንግሊዝኛ ያስተምራታል ።\\nእና ፤ የሚሰጣትን ትምህርት የመቀበል ችሎታዋ በጣም ያስደሰተውና ያደ\\nፋፍረው ነበር ። እንዲያውም የመማር ፍላጎትዋ ሱጴን ጥሎ እንዲሄድ\\nልቡን ያነሳሳው ነበር ። ግን የትምህርት ቤቱን ስራ ለማን ጥሎ ! ስራው\\nክፍፃሜ አይደርስም ፤ በየጊዜው ያልታስሰበ አዲስ ችማሣር እየተፈጠረ ይጎ\\nጭትታል ። ሲሆን ለመስከረም ፤ ካልሆነም ለጥቅምት ያልቃል ብሎ የገመ\\nትው ስራ ይሄውና ህዳር ላይ ፈቅ አላለም ። ሰራተኛ እንዶዴ ልብ አይገኝም ።\\nየሱጴ ህዝብ ቡና እሸት ላይ አይኑን መጣል ጀምሮአል ።\\n\\n«ኢእሱስ ይሁን ፤እሺ!። አንቺ ደ”ሞ አደባባይ ምን ታደርጊያለሽ ? አር\\nፈሽ ቤትሽ አትቀመጭም ? የሴት ልጅ ክብርዋ ቤትዋ ፤ ማጀትዋ ነው።\\nኣእጅ ለእጅ ትያይዞ በያደባባዬዩ መታየት ደግ አይዶለም ብያለሁ ። ማንኛ\\nውም ነገር ከልኩ ማለፍ የለበትም ?» አሉ ፊታውራሪ ትቆጥተው ።\\n\\n«ምና”ጠፋሁ  አባዬ ዐ አለች አይናለም ቀና ብላ ።\\n\\n«በጨዋ ቤት ሙያም ሆነ\"ፍቅር በልብ ነው» ብለው መምሩም ማእዱን\\nክመባረካቸው በፊት ፤* «ደማግ አይደለም ብያለሁ» አሎ ።\\n\\n«ምኑ ?> አለች ።\\n\\nጉንጮችዋ ሊፈነዱ የደረሱ የፅጌረዳ እምቡጦች መስለዋል ። አይ\\nኖችዋ እንዶ ባህር እንቁዎች ያበራሉ ። የደም ማባትዋ ከሩቅ ይጣራዱል ፆ\\nጠጉርዋ ለስለት የቀረበ ጥቁር የሀሆር ነዶ ይመስላሳል ።\\n\\n«ይሄ ተያይዞ ባዶባባይ መታየት ፲» አሉ ፊታውራሪ ። «ጨዋ ካሳደ\\nግሙ ጩመዋ ልጅ የማሟጠዩቅ ነገር አይደለልም ። ስሜትን ባዴባባይ መግሰዕጥ\\nየእንስሳ ጠባይ ነው ። ሶማታኝንን ካልተቆጣጠርንና በልኩ ካላደረግነው\\nውዋላ ከክእኢንስሳ በምን እንሻላለን ? ያበሻ ፈረንጅ መሆን ጥሩ አይደሶም\\n\\nአጉል ነው።\\n\\n«ጣሊልያዊችን የምጠላው በዚህ ምክንያት ነበር ። ፍቅራቸውም ሆ 7\\nጥላቻቸው ፊት ለፊት ነው ። ፈረንጆች በጥበብ የመራቀቃቸውን ያዞዶ\\n'},\n",
       " {'page_number': 286,\n",
       "  'text': \"ወዲስ 2585 -\\nወዶ እንስሳ ደረጃ ተመልሰው እየወረዱ ነው ። ስሜትን በወግ ፥\\nመፎይካልያዘት ያስጠላል * ያሰድባል ። ከእንግዲህ በናንተ ምክንያት\\nበፆአዶብ የለብኝም !» አሉ ። በዚያው ንግግራቸውን አላቆሙም ። ቀጥለ\\nዖም ,«የሚእድ ሰአትም መክበር አለበት ። የለት እንጀራችን አፉን ከፍቶ\\nፔ ዲጠብቅ ማድረግ ክነውርም ሀጢአት ነው ። ርፃንኛወዎ ሰአት መከበር\\n፰፲ጠት ። ለሁሉም ጊዜ አለው ። ከእህል ጋር የምንገግናኝበት ጊዜ ፥ የእረ\\nጊዜ፤ኖስራ ጊዜ--ሁሉም ጊዜ*ጊዜ አለው። በተለይ ባገራችን የማእድ\\nጊዜ ከሁሉም ይበልጥ ይከበራል ። እኛ እንደ ፈረንጆች እንዴ ከብት በደ\\nረስንበት ስንግጥ አንውልም!» በማለት ሲናገሩ ሁለቴቱ እየሰረቁ ይጠቃ\\nቀሱ ነበር #\\n\\nያን ቀን ማታ ሀዲስ አይናለምን እንግሊዝኛ ሲያስተምራት ከቆየ\\nበሁዋላ ፤ ባወጣላት ስም «አለምዩዬ» ብሎ ጠርቶአት ፤ «የዚህ መከረኛ\\nትምህርት ቤት ስራ ቢያልቅልኝ እዚህ አንድም ቀን አላድርም ነበር ።\\nመማር ይኖርብሻል ። እዚህ ጊዜ ማጥሩፋት የለብንም» አላት ።\\n\\n«ባባዬ ነገር ተቆጥተህ ነው 1>»\\n\\n«ቁጣ እንኩዋን አይደለም ። ማግን ከትምርትሽም ሌላ ነግፃነት እንዲ\\nኖረን ያስፈልጋል ። የራሳችንን ህይወት መኖር አለብን ።>»\\n\\n«ግን እንዴት ? አባቴ እንዶ ሆነ ሌላ ቦታ የመሄዳችን ጉዳይ ቀርቶ\\nከዚህ ግቢ እንድንወጣ አይፈልማም።» .\\n\\n«ስለሚወዱሽ ነው ። ይህን አትርሺ ። ካንቺ መለየት አይፈልጉም»\\nብሎ ጠጉሩን ቆፈር ቆፈር አደረገና ፤ «እኔና ሕእሳቸው ላንቺ ያለን ፍቅር\\nአንድ ቀን መጋጨቱ አይቀርም ። ችሣር ይታየኛል» አላት ።\\n\\n«የምን ችማር ?»\\n\\nቀርምርይዠሽ ለመሄድ የትነሳሁ እለት የፈጠጠ ችግር ብቅ ማስቱ አይ\\n.. .ፆ\\n\\n«ለምን ተብሎ ! እንዳልከው የራሳችንን ህይወት መኖር አለብን። -\\n\\n«በዚያ ላይ መማር እፈልጋልሁ ። እዚህ ደንቁሬ መቅረት አልፈል\\nግም ። አንተም ትምህርትህን መጨረስ አለብህ» ።\\n\\n«አዎን አለምዬ ፤ ግን የማይታይሽ ነገር አለ ።»\\n«ምን?% ,\\n\\nፊታውራሪ የንብረታቸውን አስተዳደዴር ሁሉ ወደኔ መግፋት ከጀመሩ\\n፡ን ዋል። ከጭሰኞች ገንቴብ ቆጥሮ መቀበል፤እርቦ ማሰፈር፤ ቡና ማስመ\\nጢዷየቤት ኪራይ መቀበል ፥0 ወፍጮ ቤቶችን መቆጣጠርና የጭሰኞችንና\\nመጠበ; 'ፉዮችን አቤቱታ መስማት ካሁኑ አስጠልቶኛል» ብሎ ከተቀ\\nዷዷፔጌት ተነስቶ እየተንጐራደዶ ፥ ‹መቼ በዚህ ብቻ ። የትምህርት ቤቱ\\nነው'; ር የሆንኩት በምን ምክንያት መሰለሽ ? ያባትሽና የታፈሰ ስራ\\nየተነሳ 'ም በዚያም ብለው እዚሁ እንድቀር ነው የሚፈልጉት ። በዚህ\\nባዑሳ ያለ ስሜ ስም ወጥቶልኛል» ብሎአት አስተማሪዎች ከበስተ ጀር\\n-ትትን ይነግራት ጀመር ።\\n\"},\n",
       " {'page_number': 287,\n",
       "  'text': '286 ሀዲስ\\n\\nጠጉርዋን ሹሩባ እየሰራች ታዳምጠዋለች ። ኖማሾው ብ\\nሉን አጥለቅልቆታል ። እናትዋ በህይወት ሳሉ የሱጴን ወይዛዝርት ተቀ\\nብለው ኖዋሚያስተናግዱበት እልፍኝ ነበር ። እልፍኙ መሃል ብረት የጨ\\nሰለ ትልቅ ምሰሶ ቶቆሞ ይታያል ። የቤቱቴ ማገሮች ሁሉ የታሰሩት በምርጥ\\nመጫኛዎች ነበር ። አባትና እናትዋ የጫጉላ ቤት ጊዜአቸውን ያሳለፉት\\nክዚሁ ቤት ውስጥ ነበር ይባላል ።\\n\\n«እነሱ እንደዶሚሉኝ ብሆን ኖሮ አይቆጨኝም ነበር። ማን ፡ የሌለኝን\\nመልክ ሲስሰጡኝ ያሳዝናል» አላት ።\\n\\n«ምን አናዴደዴህ? ሰዉ ከሰው ራስ ላይ አይወርድም ። ኖፈለጉትን ይበሉ\\nአንተነትክን እንደሁ የሚለውጠው የለም>ጋ አለችው ።\\n\\n«እንዲያው ስታስቢው ለሀብት ብዬ ያገባሁሽ ይመስልሻል 7\\n«ክዚህ በፊት ይህንኑ ጥያቄ ዴደጋግመህ ጠይቀኽኛል...>»\\n«አምን » ጫን መልስ አልሰጠሺኝም ወ»\\n\\n] ሽሩባዋን ሰርታ ስለ ጨረሰች ነጭ ሻሽ ሸብ አድረገችና «=*ሰው ስለ\\nአሪዛዴኑዞሂፀራፀጎ ነገር ሁሉ ስራዬ ብሎ ክሰማ ያብዳል”? ይላል አኤባቴ»\\nቾወ፲፲\\n\\n«ለምን እንዲህ ይሉሎኛል1ው»\\n\\n«ምን ንካህ?»\\n\\n«ለንፁህ ስሜቴ ለምን የተጣመመ ትርጉም ይሰጡታል!\\n«ቅናት ነው መ\\n\\n«በሌላው አይን ውስጥ ያለውን ትንሽ ጉድፍ ትትን በራሳችን አይን\\nውስጥ ያለውን ትልቅ ማንድ የምናይበት ጊዜ መቼ ይመጣ ይሇን ፲> አለ-\\nድምፁን ክፍ አድርንጎ ”\\n\\nእየኖተነሳች ፤9 ኗ«በጣም መሽቶአል * እንተኛ ። ነገ እሁድ ነው ። ከቤተ\\nስኪያን የቀረን እንደ ሆነ መምሩና አባቴ ይገ”ሉናል» ብላ ሳቀችና *፥\\n«ዶደግሞ “ክህይወት ውጭ ሃይማኖት አላውቅም” እንዳትለሜ። መስማት\\nአልፈልግም> ብላው ወዶ መሜታ ቤት ልትሄድ ስትል ፥*\\n\\n«ነገ”ኮ የወላጆች ዯቀን ነው» አላት ።\\n\\n«ታዲያ የወላጆች ቀን የሚከበረው በሌሊት ነውገ፲» ብላ ወዶዴ መኝታ\\nቤት ሄዶደች ።\\n\\n=--ይህ የተረገመ ትችምህርት ቤት አለ፤ከክዚያ መክረኛ ትምህርት ቤት\\nስራ እስከ ወዲያኛው ተገላግሎ በራሳቸው ትንሽ ኣአለም ውስጥ በሰሳ\\nምና በፍቅር መኖር የሚጀምሩበት ቀን ነበር የናፈቀው ...ያ ቀን\\nይመጣ ይሇን ? ያ ውብ አለም የት ይሆን የሚገኘው?... ማሾውን አጥ\\nፍቶ ተከተላት.›-››-\\n\\nዶስ የሚል እውሁድ ነበር ። ሰማዬ እንደ ምንጭ ውሀ የጠራ ፤ ፀሀሠይኖ\\nእንዶ ሙ-ሸሪራ- ያማረች ....ዴስ የሚል ቀዝቃዛ አየር ይነፍሳል። ባንድ ፊት\\n'},\n",
       " {'page_number': 288,\n",
       "  'text': \"ህወዲስ 287\\n\\nሁድ ገበያ ቆሞአል. ። በሌላ በኩል የወላጆችን ቀን ምክንያት\\nመልቄ ማርያም ትምህርት ቤት በአል ተዘጋጅቶ ግቢው' በስንዶቅ አለማ\\nዎች ፤ በዘንባባዎችና በአበቦች አጊጦ አሸብርቆአል ።\\n\\nግቢው በእንግዶች ተጣቦአል ። ፊታውራሪ ተካ ባሮ ኤጄርሶ0ታፈሰ\\nብሩ ፤ አይናለም ፥ የሃምሳ አለቃ ጎይቶምና ሌሎች ታላላቅ እንግዶች የክ\\nብር ስፍራቸውን ይዝዘዋል ። የወረዳው ገዥ ፥ አቶ ጥላሁን ሸዋረጋ የሉም ።\\nስለ ትምህርት ቤቱ ስራ ርምጃ በየጊዜው በሚሰጡት ጋዜጣዊ መግለጫና\\nምናልባትም ክህዝብ ዘርፈው ለባለስልጣኖች በሚያቀርቡት መተያያ\\nምክንያት ሳይሆን አይቀቶርም ፤ በንጉሰ ነገስቱ መልካም ፈቃድ ፤ ከካባ\\nሽልማት ጋር የቆኛዝማችነት ማእረግ ትሰጥቶአቸው የሶርና ገባን አውራጃ\\nበመሾም ክሱጴ ክሄዱ ኣስራ አምስት ቀን አልፎአቸዋል ..-\\n\\nሹመቱ * አልሸሹም ዞር አሉ ኣይነት ቢሆንም ፥ አቶ ጥላሁን ተሹ\\n\\nበር የሄዱት ....\\n\\nቦ ቆሎው--ብያይነቱ ነበር ። ጋሼ ዱቤ ይገምጥጣል ፤ ይቆረጥ\\nማል ፤ ይጎነጫል ። እና ፤ ያዘጋጀውን የስፖርት ውድድርና ጅምናስቲክ\\nለማሳየት ይጣዶደፋል ፤ ተማሪዎቹን ያጣድፋል ።\\n\\nበደንብ ልብሳቸው አጊጠው የተሰለፉት ምርጥ ተማሪዎች ሁለት\\nመሙዝሙሮች ካሰሙ በሁዋላ ፥ ሀዲስ ሳህሌ ንግግር ለማድረግ ለዚሁ ከተዘ\\n2ጀ አንድ ሳጥን ላይ ወጥቶ ቆመ ። ፀጥታ ሰፈነ ።\\n\\nእንግዶቹን እንኩዋን ዴህና መጣችሁ በማለት በመምህራኑ ፥* በተማ\\n፰፫፻፲፲፲ በራሱ ስም ምስጋና በማቅረብ ፤ በወላጆችና በመምህራን ፥ እንዲ\\n\\nሁበረጸተሰብርግ መሙካ ግባው ጠንካራ ግንኙነት አንስቶ ንግግር\\n፭፲፺፲ኙነቅ ከቆየ ሡኖዖ ዷለጋፀ በወላጆችና በመምህራን መካክል ጥሩ\\nመኖና\\n\\nኖ ችሰሙው በመዲ: ፡ ካከል የጋራ ትብብርና ጥረት\\nከት ዲ .፡ደ መ ። ረይ ሻ  ቴሬጠ\\n\"},\n",
       " {'page_number': 289,\n",
       "  'text': \"288 ሀዲስ\\nጩ\\n\\n«ትምህርት ቤት የህብረተሰቡ አኣካል ፥ የህብረተሰቡ ችግር ተካፋ\\nይና ለህብረተሰቡ ችግር መፍትሄ ሰጭ መሆን ኣለበት ። እና * ለዚህ የጋራ\\nጥረትና ትብብር አሁን በያዝነው የትምህርት አመት ሰፊ እድል ይጠብ\\nቀናል ። እንደምታዬት አዲስ ትምህርት ቤት እየተሰራ ነው ። አዲስ ህንፃ\\nብቻውን አዲስ ትምህርት ቤት አይሇንም ።\\n\\n«በወዶቅቀው ወርካ ምክንያት አዲሱን ትምሀርት ቤት በጥላቻ አይን\\nየሚመለከክቱ አንዳንድ ሰዎች አይጠፉም ። አንዳንድ ተንኮለኞች እንደ\\nሚሉት ወርካውን የጣለው ሰው አይደለም ። ስለዚህ ፤ ትምህርት ቤቱን\\nበጥላቻ አይን እንዳይመለከቱት ፤ የትምህርት እድል በሚናፍቁት ስፍር\\nቁጥር በሌላቸው ምስኪን ልጆች ስም አደራ እላለሁ» በማለት በቃል ያደ\\nርግ ኖነበረውን ንማሣግር ሲጨርስ ፤ እንግዶቹ ሁሉ የተሰማቸውን ደስታ በጭ\\nብጨባ ገለጡለት ።\\n\\nተማሪዎቹ ሌሎች ሁለት መዝሙሮች አሰሙ ። የአካል ማጠንከሪያ\\nትርኢት ቀጠለ ። በሚገባ የተቀነባበረ ቆንጆ ትርኢት ነበር ። የተማሪዎች\\nስፖርት ውድድር ሲጀመር ፡ ታፈስ ብሩ መጥቶ * ኗእንኩዋን ዴስ ያለህ ።\\nጥሩ ንማሣግር ነበር» አለው ሀዲስን ።\\n\\n«ክልብ ' 'የሚናገሩት ነገር ሁሉ ጥሩ ነው» በማለት መለሰለት ።\\n«በትምህርት ላይ እምነት ያዴረብህ ትመስል ነበር ስትናገር» አለው።\\n«ነውና » አለ ሀዲስ ።\\n\\n«ላንድ አመት ብቻ የመጣህ መስሎኝ ነበር>» አለው ፥ አሁንም በምፀ\\nታዊ አነጋገር #“\\n\\n«ነበር።ግን አሁንም እዚህ ነሜ፡ሴላቪ”ይላል ፈረንሳይ» አለ ሀዲስ።\\n«አስተማሪ ለመሆን ቆረጥክ ማለት ነው?»\\n\\n«ቆረብኩበት ። እውነቴን ነው ። ህግ ለመማር ነበር ፍላጎቴ ። አሁን\\nአሳቤን ለውጫለሁ» አለ ሀዲስ ፥*0 አዲሱን የትምህርት ቤት ህንፃ\\nአይን ከሩቅ እየተመለከተ ።\\n\\n«ለምን?>\\n\\n«መምህርነት ክቡር ሙያ ነው ። ክ ብቻ ሳይሇን\\n፡፲፲ሰውን፻ቾሎታ ህ ት፴፲፰ና ነፍስ የፀሂፌቡቾርነ ፫ቸ፰፲ሪግ፫ያ ነቻው ። ላ፰\\nው ፥ የወደፊጩን ህ ገንቢዎች ፍራት ልመሙ\\n\\nያለ አይመስለኝም» አለው በስሜት : ፣ ከ ኛ\\n\\n፦. የወላጆች የጆንያ ሩጫ ውድድር ተጀምሮ ስለ ነበረ ሰው ሁሎ ዶሶ\\n\\n«የወዶፊት ህይወት ገንቢዎም' .ታፌፈሰ።\\n«ምን አይነት ጥንቃ4ነው ፣ ፡ ሬ መጠንቀቅ አለብሀ» አለታፖ\\n\\nታፈሰ የጠበቀው ጥያቄ ነበረና ፥ «ባሁኑ ወቅት መሪዎች ሲፖኛኑ\\nበሚችሉት ላይ ማተኮር ያስፈልጋል = ትምሀርትን ለ፶ፃዳረስ ሲባል የቶ\\n\"},\n",
       " {'page_number': 290,\n",
       "  'text': '. ..80፡፡999299፡8..7......።ው፡፡፡.. 2 :\\n\\nሀርት እንዲሳተፉ ማድረግ የማያስፈልግ ችግር መ\\n፰ል #አደገኛ ነው» ብሎት ፤ አርእስተ ነገሩን ለወጠና ፥ ፍየፖ፮፰፭፰፲ ፰፲፪\\nያሆነሃል» አለው ።\\n\\n«እንዴት ?» አለ ሀዲስ ።\\n\\nታፈሰ ቶሎ ብሎ አርእስተ ነገሩን የለወጠው፤ «አደገኛነቱ ለማን\\nነወ?» የሚለውን ጥያቄ ለመሸሽ አስቦ እንደዶ ሆነ ሀዲስ ነገሩን አላጣውም ።\\nክርክርም ለማንሳት ጊዜና ፍላጎት አልነበረውም ።\\n\\n«ወርካውን የጣለው ሰው አይደለም ስትል አሳከኝ ። የተደጋገመ\\nውሸት እያደር እውነት ይሆናል የሚሉትን ጥበብ ይዘሃል» አለው ።\\n\\n«አሁንስ ቢሆን ማን ጣለው ልትለኝ ነው !» ብሎት የእጅ ሰአቱን\\nተመለከተ ። አዲሱን ህንፃ ለወላጆች የሚያስጎበኝበት ሰአት ዴርሶ ነበር ።\\n\\n«ግን አንድ ነገር እንዳትረሳ» አለ ታፈሰ ።\\n«ምን ?ጅ\\n«ያዲሱን ትምህርት ቤት ስም» ብሎት ዞር አለ ።\\n\\nፀዲስ የክብር እንግዶችንና ወላጆችን ይዞ ስለ አዲሱ ህንፃ ፕላንና\\nስራ አጭር ገለፃ ካደረገ በሁዋላ እየዞረ ያስጎበኛቸው ጀመር ። አይናለም\\nከእነሱ ጋር አልነበረችም ። የትምህርት ቤቱን የውስጥ ጉብኝት ጨርሰው\\nሲወጡ አይናለም ፥* እንቁላል በማንኪያ ይዛ ሩጫ ውድድር ላይ ስትካፈል\\nበሩቅ ተመለከታት ። ቀድማ ነበር ። ውድድሩን ባሸናፊነት ለመጨረስ\\nትንሽ ሲቀቅራት እንቁላሉ ወደቀባት ። ሀዲስ ሳቀ ። ፊታውራሪ ይመለከ\\nትዋት ኖሮ ራሳቸውን ነቀነቁ ።\\n\\n«ይህ ደግሞ ምንድን ነው ?» አሉት ።\\n«የትምህርት ቤቱ ደወል ነው» አላቸው ።\\n\\nስራው ገና ያላለቀ በአክሎሱም ሀውልት ቅርፅ የተሰራ ማማ ይታያል ።\\n\\nፊታውራሪ የትምህርት ቤቱን ስራ በማድነቅ ፤ «ተአምር ነው» ካሉ\\nበሁዋላ ወደ ታፈሰ ዞር በማለት ፥* «ወዶ እንደዚህ አይነቱ በጎ ስራ ልብህ\\nቢመለስ ጥሩ ነበር ። ሀብት ጤዛ ነው» አሉት ።\\n\\nታፈሰ ከሁዋላቸው ቆሞ ነበር ። መልስ አልሰጣቸውም ። ግን ነገራ\\nቸው ሆዱን እንዳደበነው ፊቱ ላይ ይታወቅ ነበር ። ፊታውራሪ ከሀዲስ\\nእአዬያወዳድሩት ሁልጊዜ ይናደዳል ። እና ፥ ለሀዲስ ያለው ጥላቻ ስር\\nየየሳዴዴ ይሄድ ነበር ። ግን ጥላቻው ፊቱ ላይ አይነበብም ። ሀዲፎዷ ድዷ\\nው ይስቃል ፤ ይጫወታል ። ሲያመቸው በነገር ነካ አድርጎት ይ\\n\\nን ዶዴርጋ ክብ\\nሼሹጨጊ ን ያዴርጋል ?» አሎ ፊታውራሪ ፥ «አንዱ በለፋ ሌላው\\nክሌ... ይነግድበኃል ። መቼም የተቀማጭ አፉ ምላጭ ነውና።»\\n\\nእግር : ጥፍ፤ራ= ዋኛዝማች ተብለው ሶርና ገባን መሾማቸው * እንዶ\\nውስጥ እሳት ያቃጥላቸው ነበር--ፊታውራሪን *\\n'},\n",
       " {'page_number': 291,\n",
       "  'text': \"290 ጋዲስ\\n፮፶ጎ\\n\\nበአሉ እየደመቀ ሄዶ ነበር ። በልዬ ልዩ ክፍሎች መካከል የሚደዴረ\\nገው የስፖርት ውድድር ተጋግሎሕል ። ሀዲስ 0 አይናለም ከፋጡማ መሀ\\nመድ ጋር ቆማ ስታወራ አይቶ ወድዶ እነሱ ሄደ ። ፋጡማ ገና ስታየው ጥላ\\nቸው ሄዶች ። እንዶ ዱሮዋ አትስቅም ።\\n\\nአይናለም በሁኔታዋ ተገርማ * «ምን ነካት ?» አለች ”?ጦ\\n«እኔን አፍራ ይሆናል» አላት ።\\n\\n«የለም ፥ እኔንም አላናግር ብላኝ አኩርፋ ነበር ። በጣም ጉዋደኛዬ\\nነበረች።»\\n\\n«ኢውነት? እዚህ ሳለሽ ?»\\n\\n«አዎ ፥0 አንለያይም ነበር ።»\\n\\n«ታዲያ አሁን ምን ነካትና ታኮርፋለች ?> አለ ሀዲስ ።\\n«ኢኣኔሄ እንጃ !»\\n\\n«ግድ የለም ። አንድ ቀን ቤት እንጋብዛታለን ። ከፌያ በሁዋላ እንደ\\nገና ጉዋዶኞች ትሆናላችሁ» አላት ።\\n\\nችርያኔ እንዶ መጣህ ቤት እየመጣች ስላንተ ብዙ ታወራልኝ ነበር>»\\nአለች።\\n\\n«እውነት? ምን እያለች?»\\n\\n«ጥሩ አስተማሪ መጣልን ። አቤት ቀልዱ ደስ ሲል ፤ ትምህርቱ\\nሲጥም ትለኝ ነበር ። ዝናህን ስታወራልኝ ነበር የምትውለው» አለች ።\\n\\n=በዝና ነዋ ልብሽ የገባሁት» አላት እየሳቀ ።\\n\\nጉንጮችዋ ባንዴ ፍም መሰሉ ። ወዲያውኑ አንዱ ተማሪ መጥቶ\\nቱራጭ ወረቀት ሰጠው ። ሀዲስ ወረቀቱን አነበበ ። ሆኖም አሳቡ መልእ\\nክቱ ላይ አልነበረም ያረፈው ። የእጅ ፅሁፉ ነበር የማረከው #\\n\\n«ምን ሆንክ ”ሠ> አለችው አይናለም »\\n\\n«ይህ የእጅ ፅሁፍ ትዝ ይልሻል ?» አላትና ወረቀቱን ሰጣት ። ቀውሱ\\nየላከው መልእክት ነበር ።\\n\\nኦይናለም 0 የእጅ ፅሁፉን በጥንቃቄ ስትመለከት ቆየችና ፤ ጾጻፖ *\\nትዝ ሕለኝ ። ያንን ደብዳቤና ይህን የፃፈው ሰው አንድ ነው» አለች *\\n\\nአ በመ እ ፍ ታዲጠ ው ም ድችለት መሪቀቁን ዶዎ\\nየመጣጫውን ትማሪ ጠኖቀው »\\n'#ማሪው መልስ ኦልሰጠም ።\\n«አትፍናገርም እንዴ ገ%\\nተማሪው ዲጳዳ ነበር ። ግን ፤ ጆሮው ትንሽ ትንሽ ይሰማል *\\nኣ ፡\\n\\nላ\\n\"},\n",
       " {'page_number': 292,\n",
       "  'text': \"መ ወዲስ 291 .\\n. «ይህ የማን እጅ ፅሁፍ ነው > አለው ድምፁን ከፍ አድርንጎ ።\\nተማሪው ወድዴ ራሱ አመለከክተ ። ሀዲስ ራሱን ይዞ ቀረ...\\n\\nህዳር አለፈ ። ታህሳስ መጣ ። የሰው አይን እየጎመራ በ\\n\\nላይ አርፎ ነበር ። የሱጴ አየር ለሰውጥ ያህል ቀዝቀ፲፰፯ ፭፰ኮ፩ፅ፲ሌኮ ፲\\nከዲሳባ የሚነፍሰው ወሬ ግን ሞቅ ያለ ነበር ። ሆኖም ፤ ጋዜጣውም ሆነ\\nራዲዮኑ ምንም የሚሉት ነኔገር አልነበረም ። የተለመደው ዜና ፤ ሀተታና\\nዘፈን-ሌላ ነገር የለም ።\\n\\nለማንኛውም ነገር ሀዲስ ለወሬ ጊዜ አልነበረውም ። ስራ። ስራ ።\\nስራ # ለነፃነቱ ነበር የሚስራው ። በእሱና በነፃነቱ መካከል የቆመ ነገር\\nቢኖር የትምህርት ቤቱ ስራ አለ ማለቅ ነበር ። የስራው አካሄድ ነፃነቱን\\nሊሰጠው የሚፈልግ አይመስልም ። ግን ያለ እረፍት ይሰራ ነበር ። ከፊታ\\nውራሪ ተካ ጋር የምሳ ሰአት ቀጠሮውን ለመጠበቅ ከሚሮጠው በቀር\\nቀኑን ሙሉ አያርፍም ። ይስሰራል ። እንዴ እብድ ይሰራል ።\\n\\nአይናለም ዶደስ ያላት አትመስልም ። ያለ አመልዋ አመል አውጥታ\\nመነጫነጭ ጀምራለች ። ተነስቶ ሲሮጥ ሲል ፤ «ከትምህርት ቤቱ ስራ\\nሌላ የሚታይህ ነገር የለም ። አንደኛውን ጠቅለህ እዚያው ለምን አትገ\\nባም!»ቋ ትለዋለች ።\\n\\n«አለምዬ ፤ ለነፃነታችን ነው”ኮ የምስራው ። ስራውን የጨረስኩ\\nለት ነፃ እንሆናለን ፤ ትምህርት ቤት ትገቢያለሽ» ቢላትም አይገባትም ፤\\nወይም እንዲገባት ስለማትፈልግ ዝም ብላ ታኮርፋለች ።\\n\\nፊታውራሪም ሁኦኔታውን በማየት * «የት ለመድረስ ነው አኤንዲህ\\nየምትሮጠውና የምትጣዶፈው? ለሁሉም ጊዜ አለው ብሎአል ሰ/።”ሞ፤ን ።\\nሰው ያስባል ፥ እግዜር ይፈፅማል» እያሉት ፥ ከጊዜ ወዶ ጊዜ ሀኣ :5ነት እየ\\nጫኑበት ይሄዳሉ ። ሳያማክሩት *ልጅ ሀዲስ ሳህሌ ያለኝን ንብረት ሁሉ\\nእንዲያስተዳድር ሙሎ ስልጣን የሰጠሁት መሆኔን በተለመዶው ፊርማዬ\\nጋግጣለሁ”...» በማለት ማዘዣ ፅፈው ሰሚመለከተው ውሉ ከበትኑ\\nቆይተዋል ። «ይሄዋ ! አላልንም ነበር ? አጅሬ የሸማግሌውን ሠብት ጠቀ\\nለለ» የሜይል ሰው አልነበረም--በተሰይም መምሀራኑ ።\\n\\nከስራው መጉዋተትና ከሀሜቱ ሌላ ያስተዳደሩም ስራ ያናድደው\\nነበር ። ዶደመወዝ በወቅቱ አይደርስም ። *ምን እየበላን እናስተምር?' በማ\\nለት አስተማሪዎች ይነጫነሙበታል ። እውነትም አብዛኛዎቹ የሚኖሩት\\nዱቤና ባራጣ ብድር ነበር ። አራጣ አበዳሪዎች ወር ጠብቀው ሲመጢ\\nአስተማሪዎቹ ተነስተው ክስራ ገበታቸው ላይ ይጠፋሉ ። አስተማሪዎዥ\\nኣ።ችም የትምህርት መሳሪያዎች አብዛኛውን ጊዜ አይገኙም “ በም7\\nጽስተምር ” የሚል ጥያቄ በየእለቱ ይቀርብለታል ። ጠመኔ እንሁፁንል፡\\nይስ ወረቀት ? ሸሚዞቻችን ጫፍ ላይ እየፃፍን እናስተምርልሀ?' በማለ\\n\"},\n",
       " {'page_number': 293,\n",
       "  'text': '292 ሠሀዲስ\\n\\n፮፶፲፲፲፬ጎ\\n\\nበመጨረጃሻ ፤ ጠጉሩን ቆፌር ቆፈር አድርጎ * «አዎን 0 ችግራችኳ\\nይገባኛል ። የናንተ ችግር የኔም ችግር ነው ። ጠመኔዎች የሉም ። ወረቀ\\nቶች የሉም ። መፃህፍት የሉም ። አዎን * እነዚህ ሁሉ የሉም ። የሰራች\\nሁበት ደሞዝ እንኩዋን በጊዜ መጥቶ አይከፈላችሁም ። ግን * ችግር አለ\\nብለን መዝረክረክና መላላት የለብንም ። ከዚህም የባሰ ችግር ቢመጣ በብ\\nርታት ወዶ ፊት መግፋት አለብን #ብርቱ ችግር በሚገጥምበብት ጊዜ በብ\\nርታት ወዶ ፊት መግፋት የሚችሉት ብርቱዎች ብቻ ናቸው ይባላል ።\\nኖየመምህራን ትልእኮ ይኽው ነው ። አለዚያ አርኢያነታችን ከምን ላይ\\nነው ?» አለ ድምፁን ከፍ አድርጎ ።\\n\\nክፍሉ ፀጥ ብሎአል ። እንደ ዮሀንስ መጥምቁ በከንቱ ብቻውን በም\\nድረ በዳ እንዴ ጮኸ ቆጠሩት---እሱም ዝም አለ ።\\n\\n«የዶላው ሙቅ ያኝሜካልዉ ይባላል!» አለ “ማይዘር”? “\\n\\nሽሙጡ ቢገባውም ሀዲስ የመናዶደድ መልክ አላሳየም ፥ «እንደኔ\\nጮይድላህ!» ኣለው ።\\n\\nቀጥሎ የተናግረው “ታዲያስ”\" ነበር ። ደያለውን አብቃቅታችሁ ለመ\\nስራት ሞክሩ * ቆጥቡ 0 አታባክኑ ስትል ምን ለማለት ፈልገህ እንዴ ሆነ\\nኣአልገባሜም ? ጠመኔና ወረቀት ትሰርቃላችሁ ማለትህ እንዶ ሆነ በቀጥታ\\nማማጮሥች ..-..\\n\\n«አልወጣኝም !»\\n«ታዲያ ምንድን ነው የምትለው ?»\\n\\n«ለተማሪዎቻችን ያለብንን ሀላፊነት በጋራ እንወ«፣ው ነው የምለው!\\nችማሣርና ብሶት ያለብንን ሀላፊነት ሊያስተን አይገባም !\\n\\n«ኖሌለ ነገር መቆጠብ የምንችልበትን መንገድ ካላሳኖኛ\\'ከነዝን ምናለ\\nታዲያ !» ሕለ “መማሃይዘር\" ኢያሾፈ ።\\n\\nዱቤ ልለጠቀና* «ስለ ቁጠባ ማስተማር እኛን አልነበረም ። ምን የም\\nንቆጥበው ነገር አለና ? አህያውን ፈርቶ ዳውላውን አሉሎ ። ላይ ላሉት ሰዕ\\nብታሰማ ይሻላል ። የሚባክኑ ነገሮች ያሉት እዚያ ነው...-»\\n\\nሀሠዲር ነገሩን አቁዋረጠው 7 ፤ «ለነማን ገ ብሎ ጠየቀው ።\\n\\nዱቤም ፊኀቱን አዙሮበታል ። መልስ አላገኘ እሱው ቀጠላና *\\n«ለንጉሰ ነገስቱና ለሚኒስትሮቻቸው ግለትህ፰፲ነዐ፰ ፯አለወ፲ ።\\n\\n«አ፡ልወጣኝም ! ጎመን በጤና ክ 1\\n«ምን አስፈራህ ፣ እውነቱን ተናግሮ እመሸበት ማደር ነው---ፆ\\n\\n«ጌቶቼ ስሙኝ !> አለ ሀዲስ ድም ኗየኛ እርስ ዐርዕ\\nበነገር መጎሻሸም ዋጋ የለውም። የዠዑ፪ያ፰ጩ ፲ክባድ ሀላፊነቶች\\nተሸክመናል ። እነሱም ውጭ ሲንጫሙ የምትሰሙዋቸው ልጆች ናቾሠፖ “\\n'},\n",
       " {'page_number': 294,\n",
       "  'text': \"ማዳችን ነውና አይገርመኝሜም ። የማይሰራ ይጣን\\n\\n፮፪፲ነዬ፲ ይባላል ። ቅን ልቦና የሌለው ሰውምን ጊኞጌ፰፶፲፤፲፭፰ ሴላው፲፰፲፰\\n\\nያስሰባል ብሎ ሊያምን አይችልም ።» በንዴት እየገነፈለ › «ይህን ትምህርት\\nስሰራ ቆማችሁ የምትስቁብኝ ስዎች አላች\\n\\nያን ቀን ለምሳ ቤት አልሄደም ። ባንድ ጀንበር ፥ ፊቴ ላይ የቆመውን\\nመሰናክል--የትምህርት ቤቱን ስራ---ለማስወገድ የተነሳ ይመስል ነበር--\\nእንደ እብድ ሲስራ ላየው ሰው ። ስራ ፈተትው የሚቆሙት ሰራተኞች ላይ\\nይጮህ ነበር ። ይሰድባቸው ነበር ። መሳሪያዎቻቸውን ቀምቶ ሁለተኛ\\nእዚህ እንዳላያችሁ ! በማለት ያባርራቸው ሰራተኞችም ነበሩ ። ልትጠልቅ\\nእያቆለቆለች በምትሄዶውም ጄጀንበር ላይ ጮኽ !\\n\\nቤት ሲደርስ እንዶ ልማዱ ሮጦ ሄዶ አይናለምን አቅፎ አልሳማትም ።\\nፀደሱ ልትሮጥ ከቃጣች በሁዋላ በሁኔታው ተደናግጣ ቆም አለችና ፤\\n«የት ነበርክገየ9» አለችው ።\\n\\n«የት የነበርኩ ይመስልሻል ! ስራ ላይ ነው የዋልኩት !1>\\n«ለምን ትጮሃለህ ታዲዴዱያ 1?»\\n\\n«አልጮህኩም!»\\n\\n«ለምሳ ተጠብቀህ ነበር ።»\\n\\n«የፌሊለጋችሁትን ያህል ጠብቁኝ ! ካልራበኝ አልበላም ። ግዴታ የለ\\nብኝም ። ነፃ ሰው ነኝ ። እኔ አንቺን ያገባሁት አባትሽን ማእድ ለማቁዋረስ\\nፍይም ወኪል ለመሆን አይደለም!»\\n\\n«ምን ሆነሃል ?» አለች የታችኛውን ከንፈርዋን ጣል አድርጋ ። አይ\\nናችዋ እንባ አቅረው ነበር ።\\n\\nት።\\nጠጉሩን ቆፈር ቆፈር አደረገ ። ላንዳፍታ ዝም ብሎ ተመለክታ\\nቹና አቅፎ ግንባርዋ ላይ ሳማት ። እንባዎችዋ ኮለል ብለው ወረዱ ።\\n\\n«አለምዬ ፤ ይቅርታ አድርጊልኝ» አላት * ጠጉርዋን እየደባበሰ ።\\n\\nም\\nየረጠበ ልጅ ወዶ ላይ እየሳበች * «በጣ\\nነፁ ውን አፍንጫዋን እንዴዶ ሀዋን ነብርክምህ\\n\\nካጻፍወ 'ማጥክብኝሜ ። ልታስፈራኝ ጀምረሃል ። እንዲህ አል\\n\\nፍልክ ነሸ» ብሎአት እንባዎችዋን ጠረገላት “\\n\\nምን እየሁንክ ነው?ገ» ፣\\n\\n'ግትና , እንዶ ሆንኩ አላውቅም» ብሎ እንዶ ገና ኚን፰፰ፃ፲፲ መ ትም\\n* «ምናልባት ነፃነታችን እየናፈቀኝ ይሆናል\\n\"},\n",
       " {'page_number': 295,\n",
       "  'text': '294 ሀዲስ\\nከር ኤዬሙጨ-፡. አ ......›.ጃሻዘጸሔ.ዲ..ዳ.ጃቋ. .\\n\\nህርት ቤት ስራ መጉዋተት ያንን የምናፍቀውን ቀን - እያራቀው. ያናድደ\\nኛል ።-በዚህ ላይ ደ”ሞ የሰዉ ነገር ያበሳጨኛል ።#-ግን አታስቢ ። ሰላም\\nይኖረዊናል ። እና « ጎተራ ሙሉ ፍቅር ። እሺ አለምዬ? - -. አምን ፤ እንደሱ-ዴ\\nፈገማታሽ እንዶ ጠዋት ፀሀይ ነው ። አይኖችሽሸ እንባዎች ሲያፈሱ ዳግመኛ\\nለማየት አልፈልግም» አላት ።\\n\\nተቃቅፈው እንደ ቆሙ ታፈስ ከየት መጣ ሳይባል እንዶ ጥሳ ውልብ\\nብሎ ይገባል።\\n\\n«ፍቅራችሁ አሁንም- አላለቀም እንዴሠው ብሎ -አይናለምን ሆድ\\nበሌባ ጣቱ ወጋ ወጋ ካድረገ በሁዋላ ፤«እኮ መቼ ነው ይህ ሆድሽ ወዴ ፊት\\nገፋ ብሎ የሚታየው 1፲>» አላት ።\\n\\n«ፊታውራሪም እሱን ነው የሚጠብቁት» ኣአለ ሀዲስ ፈገማግ ብሎ ።\\n\\n«የልጅ ልጅ ማየት ይፈልጋሉ ። ወንድ ልጅ ከነቃጭሉ ። ጠዋት\\nማታ ዳዊት የሚደግሙት ለምን መሰለህ ? የልጅ ልጅ ሳታሳየኝ አትግዶ\\nለኝ እያሉ ነው ። በልጅ ልጆቻቸው ዘላለም መኖር ይፈልጋሉ ። ማንም\\nሞቶ ለመቅረት የሚፈልግ የለም» ካለ በሁዋላ ፤ ጃኬቱቴን አውልቆ ጥሎ\\nካንድ ትልቅ በርሙማ ላይ ሄዶ ተቀመጠና * «እህት አለም ፥፡ ምን ዝም\\nብለቨሸ ታይኛለሽ ? ጉሮሮዬ ዶደርቆአል.--. ኦ! በነገራችን ላይ» አለና ያመ\\nጣላትን ሁለት ቢልቃጥ ሽቶ ከጃኬቱ ኪስ ውስጥ አውጥቶ ሰጣት--- “ማዳም\\nሮሽ” ነው። በሴቶች ላይ የምወደው ሽቶ ነው ። አንተትም ትወዶዋለህ ።\\nኖዋሰለጠነ አፍንጫ ካለህ!»ወ\\n\\nጉንጭና ጉንጩን አገላብጣ ስማው የሚጠጣ ነገር ልታመጣለት ስት\\nሄድ ፤0 «የአእግዜር ውሀ አላልኩም ዋ ! መሬትን ያህል ነገር የሚሸረሽር\\nየድሀ ጉሮሮ እንዴት አድርጎ እንደሚችለው አላውቅም» ሲል ጮኽባት ።\\nአዲስ ውስኪ አምጥታ ከፈተችለት ።\\n\\n«ስልጣኔ ይሉሻል ይኽኸ ነው [፻» አላት “\\n\\n«ብቻ ያለቀ እንደ ሆነ መምሩ ያኮርፉኛል ። እስቲ ያችን መድሀኒት\\nሳይሉኝ አይውሉም ። እምቢ ስላቸው ግዝት ነው የሚቀራቸው» አለችና\\nወዴ ጉዋዳ ስትሄድ በአይኖቹ እየተከተላት ፥ «ቆንጆ አይደለችም ወይ?\\nየኔ እህት ባትሆን ኖሮ ይቆጨኝ ነበር ። እድለኛ ነህ» ኣለው ።\\n\\n«ነሜ“ወጅ\\n\\nታፈሰ አርእስተ ነገሩን ለወጠና ፤ «እንደዶ እብድ መስ ራት ጀምረሃል\\nአሉ? ጥድፊያው ምንድን ነው ?›» በማለት ,ጠየቀው ። ፡\\n\\n«ስራውን ቶሎ ለመጨረስ ነዋ።›ው›\\n«እና ?›»\\n«እና # ለመሄድ ።»\\n\\n«ካሳብህ አውጣው ። ዲሬክተር እንድትሆን አድርገናል ። ትንሽ\\nቆይ+ተህ ዴ”ሞ ማን ያውቃል ? ፊታውራሪ ተሰሚነት አላቸው ። ብር ሰሜ\\nጆሮ አያጣም። ስለ ወዴ ፊት እድላችሁ ማሰብ አለብን ። ያገባሃት ልጃችን\\nመሆንዋን አትርሳ» አለው ።\\n'},\n",
       " {'page_number': 296,\n",
       "  'text': 'ፍ ዲ 295 |\\n\\nቁስሉ እንዶ ተነካ ሰው ሀዲስ ድንገት ተቆጥቶ ፤ «ብትተውን\\nበት ! የማንንም ርዳታ አንፈልግም ። ህይወታችንን ፕላን አታድርጉ፲፲፰፱ .\\nየራሳችንን ህይወት እኛው እንደዶ ፈለገን እንመራዋለን ። ተውን !» አለ ።\\n\\nታፈሰ ካንጀቱ ስቆ ሲያበቃ ውስኪውን ከተጎነጨ በሁዋላ ፥ «የሌሎ\\nችን ሀይወት ፕላን ለማድረግ ከሆነ ግን ወደ ሁዋላ አትልም ፤ አይደለም?»\\n\\nአለው ፆ\\n\\n«የሰው ልጅ ህይወት ጣም እንዲኖረው እመኛለሁ።»\\n«ታዲያ እኛ\\' ከዚህ የተለየ ሌላ ምን ነገር ትመኘንልህ ?»\\n«ነገር አታጣም!>» \"\\n\\n«ማጣመሜ አይዶለም ። ማስተካክሌ ነው ። አንድ ያላሳስተዋልከው\\nነገር አለ ። ሽማግሌው በዚህ እድሜአቸው ብቻቸውን መቅረት አይፈል\\nጉም ። ያይናቸው ማረፊያ ይፈልጋሉ ። ከናንተ ሌላ ምን ይምጣ? እስቲ\\nንገረኝ ። ልጃቸውን በጣም ይወዱዋታል ። ጥሎባቸው ደ”ሞ ባንተ ላይ\\nእምነት አላቸወ- ። አስብበት እስቲ =\\n\\n«አንት በኔ ቦታ ብትሆን ምን ታዶደርግ ነበር\\n\\n«እኔ ባንተ ቦታ ብሆን ኖሮ መጀመሪያ አላገባም ነበር ። ለማንኛውም\\nነገር ጨዋታችንን እንለውጥ ። የሞራል አስተማሪ መሆን ያስጠላኛል ።\\nሞራል የሚያበዙ ሰዎች ሀይል ካገኙ ጨቁዋኞች ይሆናሉ» ብሎት ውስ\\nኪውን ጨለጠና ሌላ ውስኪ ለራሱ ጢም አድርጎ ከቀዳ በሁዋላ * «እንዳ\\nጁሁት ፻፡፲ፃ፲እ ህርት ቤቱ ስራ ሊያልቅ ምንም አልቀረውም ። ግሩም ስራ\\n\\nው» አለው ። \\'\\n\\nሀዲስ ጠጉሩን ቆፈር ቆፈር አደዴረገና ፥ «እስካሁን ያልቅ ነበር ። ግን\\nይህ የቡና ንሣግድ እያለ በየት በኩል ! ሰው ሁሉ አብዶአል» አለ ።\\n\\n«እኔም አብጃለሁ ። ሱጴ ጥርና የካቲት ላይ የማያብድ ማን አለ ?\\nየቡና ንግድ ያሳብዳል ፣ ዋጋወው- ሰማይ እየወጣ ሄዶአል ።ጅ\\n\\n«ህልምህ እውን ሊሆን ነዋ ?»\\n\\n«ልክ እንዶ ትምህርት ቤትህ !»\\n\\n«ለዚህ ነዋ ሰሞኑን የጠፋኸው “\\n\\n«ወደ አዲሳባ ወጥቼ ንነበር ።«»\\n\\n«የውሀ መንገድ አድርገኸዋል !አዲሳባ እንዴት ነው?»\\n\\nጤ ፆፎጦፋለች ! ፍፉፁም ጦፋለች ። ሰው መሬት ለቆ ሊሄድ ምንም አልቀ\\n፤ጢገ ። አስረሽ ምችው ነው ነጋ ጠባ ። በቦሎቴ ፥ በቡና ፀሶበስሊ፪፻፯፪፪\\nእና ዐዘጩ ገበሬ ብሩን የሚጥልበት አጥቶአል ። ምሽትና ንጋ\\n\\nድሞ - ዋው !>»\\n\\nኗሌላስ ምን አዲስ ነገር አለ ?»\\nየወሬ ። ወሬ › ወሬ ፤ እንደ ሰደድ እሳት ይቀጣጠላል “ሠ» :\\nወሬ ?»\\n'},\n",
       " {'page_number': 297,\n",
       "  'text': '296. ሀዲስ\\n\\n«ነገሌ ያለው ጦር አምፆአል ፤ ሌሎችም ክፍለ ጦሮች ውስጥ\\nጡን እየተገናኙ ነው እየተባለ ይወራል ። ካዲሳባ የተላኩትን አንዳንድ\\nጆሌኔራሎችንም ይዘው አእስረዋቸዋል ይባላል ።»\\n\\n«እውነት ነው \"» አለ ሀዲስ ነገሩ ቀስቅሶት ።\\n\\n«ቅዣት ነው ። ምኞታቸውን ነው የሚያወሩት ። ተማሮችና ስራ\\nአጦች እየፈጠሩ የሚነዙት ወሬ ነው ። ዋጋ ኖረ ። ኑሮ ተወደድደ ። የቤንዚን\\nዋጋ ጨመረ። ስራ ጠፋ። ወሎ ተራበ ። ታዲያ ምን ይሁን ! የኢትዮጵያ\\nግበያ ከአለም ገበያ ዋጋ ውጣ ውረድ ውጭ አይዴለም ፤ ሊሆንም አይችልም።\\nዶ”\\'ሞ መንማግስት ለሁሉም ስራ ሊፈጥር ኖሮአል ? ዝም ብለው ነው የሚ\\nቃግቦት 1\\n\\nውጭ ሃይለኛ ንፋስ ይነፍስ ነበር # ያፋራዋጫል ። ያጉዋራል ። የቤቴ\\nመሙዝጊያዎችና መስኮቶች በስቃይ ይንሳጠጣሉ ። አይናለም ራት አስይዛ\\nመጣችጁች ። ቀይ ጨርቅ ትልቅ መሶዕብ አስቀድሞ ገባ ። ሰታቴ ድስቶች --አለላ\\nዋተከዶኑ ቀሚስ የለበሱ -- ተከታትለው መጡ ።\\n\\n«የለውጥ ንፋስ እየነፈሰ ነዋ 8” አለ ሠዲስ ።\\n=«ኖምን ለውጥ ነው የምታወራው ፲» አለ ታፈሰ በነገሩ በሽቆ ።\\n\\n«ኢእዚህም እኮ ሰዉ ጤና አይደለም ። ኑሮ መሮታል» ኣለው እጁን\\nእየታጠበ።\\n\\n«ምናለ ታዲያ ይጠብቁዋ ። መና ከሰማይ ይወርድላቸዋል !» ንፋሱ\\nአሁንም በሃይል ይነፍሳል ። የቤቱ ጣራ ሁሉ ይንጫጫል ። መዝጊያዎ\\nቼና መስኮኩቶቹ ማቃሰታቸውን አልተውም ።\\n\\n«እሳት ካለበት ጭስ አይጠፋም ብዬ ነው ወ\\n\\n«አኣትቃዥ እባክህ !» አለ ታፈሰ ተቆጥቶ ። «ወታዶዴር ውስጥ ውስ\\nጡን ይነጋገራል ብሎ ነገር የለም ። የመንሣስቱ ንዋይ ግርግር አስተም\\nሮናል ። ሀይለ ስላሴ እስካለ ድረስ አንድ ነገር ይዴርሳል ብለህ አታስብ ሙ\\n\\n«ወሎ ተራፀበ የሚባለውስ ፻»ቅ\\n\\n«እሱ ፤ ስራ የፈቱ የዩኒቬርስቲ ተማሪዎችና የሰይጣን መደብር የሆኑ\\n፤ሯ፤ንየድ ወስላቶች የ፲፲ሂ፲፲፲ያ፲፸፩ፃፍ፪፦ት ወሬ ነው ። አገርን አለማወቅ ነው”ኮ\\nሚያመጣው ። ተወ ል። ልብላበ ምግብ\\nበርድ»> ብሎ እንጀራውን ቆረሰ.... ን ና ት ዱ\\n\\nከባድ ራት ነበር ።\\nንፋሱም አላቆመም ። በሃይል ይነፍስ ነበር ። ታፈሰ ከመሄዱ ቦፊት*\\n\\n«የትምህርት ቤቱ ዶደዴወል ካዲሳባ ተጭኖ ት አራት\\nቀን ውስጥ እዚህ ሳይደርስ አይቀርም» አአ፯ ራ ምናልባት በሶስ\\n\\n«ቆን=ጆ ደዶወል ነው ?7=2 አ\\n«ልክ እንዴ አንቺ ። ደፃያፀቼፃቃ፰፤ ፮፤፲፲ ይመፈጠ ተዴስታ “\\n'},\n",
       " {'page_number': 298,\n",
       "  'text': 'የካቲት ባተ ። አቡዋራውና ወበቁ አሸንፎአል ። የመሬቴቲ\\nፖፖድም ። ሰማዩም ጭምር የተቃጠለ ይመስላል ። ፀሀይዋ ምሀ፪፰፲፪፪፲፤\\n\\nበራትም *\\n\\nየትምህርት ቤቱ ስራ አልቆ ቀለም የመቀባቱ ስራ ተጀምሮአል ።\\nፁጭው ወደ ቀይ በሚያደላ ቡናማና ቀዝቀዝ ባለ ብጫ ቀለማት እያሸበ\\nረቀይሄዳል ። አይናለም ነበረች ቀለማቱን የመረጠችው ። ምርጫዋ ግሩም\\nነበር ። እሱ የቀለማት ውህደት ነገር እምብዛም ስለማይገባው በደወሉ\\nቤት ስራ ላይ ማተኮር ከጀመረ ቆይቶአል ። በአክሱም ሀውልት ቅርፅ\\nየወጣው የደወሎ ቤት ስራም በሚያስደስት ሁኔታ እየተፋጠነ በመሄድ\\nለይ ነበር ።\\n\\nአዲሱን ትምህርት ቤት አስመርቆ አሮጌውን የሚያፈርስበት ቀን\\nሁልጊዜ ባይኑ ላይ ይሄዳል ። እያንዳንዱ ቀን ወደ ነፃነቱ እያቀረበው\\nሲሄድይታየዋል ። ስለ አዲሱ ትምህርት ቤት ስም ገና አልቆረጠም። እስካ\\nሁንአዲሱ ትምህርት ቤት--መከረኛ ትምህርት ቤት--ኖተረገመ ትምህርት\\nቤትእያለ ነበር የሚጠራው ። አሁንግን ለዚህ ውብ ነገር ምን የተዋበ ስም\\nላውጣለት ይሆን ? እያለ ማሰብ ጀምሮአል ። በታፈስ አባት ስም የመሰ\\nየም ነገር ፈፅሞ አይታየውም ። ውስጡ አይሆንም የሚለው ነገር አለ ።\\nነሩ ከታፈሰም ሆነ ከፊታውራሪ ጋር ሊያቀያይመው እንደሚችል አላ\\nጣም።\\n\\nዩጎበዝ ! በሉ እንጂ ። መቆም የለም !» ብሎ ጮኸ ፤ ሰራተኞች ቆመው\\nሲያወሩ አይቶ ።\\n\\nምን እንደሚባባሉ ያውቃል ። ሁሉም ሁልጊዜ ቆመው የሚያወሩት\\nስለወሎ ድርቅ ወይም ወታደሮች ጥያቄ አቀረቡ ስለሚባለው ነገር ፥ ወይም\\nቤንዚን ላይ የተጨመረው ዋጋ ስላስከተለው ችግርና የህዝቡ ጉምጉት\\nምታ ነበር ። በሳምንት ወይም በሁለት ሳምንት በጭነት መኪና ተንገላቶ\\n(ሚመጣው አዲስ ዘመን ጋዜጣ ላይ መረባረብ ተጀምሮአል-፦ጥርሱ\\nአልቆ ድዱ ብቻ የሚታይ ጋዜጣ ቢሆንም ቅሉ ! ስአት ሲደርስ ሁሉም\\n\\nዮ ለማዳመጥ ይሮጣል ። አልፎ አልፎ በወሎ ጠቅላይ ግዛት አንዳንድ\\nታ ላይ የደረሰው የድርቅ ችግር በንጉሰ ነገስቱ መንግስት ጥረት በመወ\\nድ ላይ ነው እየተባለ ከሚነገረው ሌላ አብዛኛውን ጊዜ ያው የተለሙ\\nይ ;ግርማዊነታቸው በደብረ ነጎድጉዋድ ቅዱስ ዮሀንስ ቤጥ.; ሎ\\nየ ወይም በደብረ ሀይል ቅዱስ ራጉኤል ተገኝተው እድ። ከት\\nሮዷጭ እንግዶችን ተቀብለው እጅ አስነሱ ፤ መልእክት ላኩ መ\\n\\nካቢኒ በትናንቱ እለት በልዩ ልዩ ጉዳዮች ላይ ተነጋገረ ፤ ‹‹ ገነዘበ\\n\\nጠበቅ እንዲያደርግ የንግድና ቱሪዝም ሚኒስትር ዛሬ\\n'},\n",
       " {'page_number': 299,\n",
       "  'text': '298. ሠዲስ\\n\\n--ኣለታዊ ዜና ነበር።የጋዜጦች ርእስ ኤአንቀዎችም ያው የተለልለመደውን ዘፈ\\n\\nናቸውን ነበር የሚዘፍኑት--ለምለሚቱ ኢትዮጵያ በፀሀሠዩ ንጉስ ተቴጋድሎ\\n\\n፤ዷስት ሽህ ዘመን ታሪክዋ ታድሶ ማርና ወትት የሚፈስባት ሮናለቕች\\nሉዐ ( ዱ.\\n\\nጮኸው በማያባሩ--አጎብጉበው--አጎብድዶውና አሸሽቃብጠው በማሣ\\nይደክሙ ከጉቱ ብእሮች ይናደዳል ። በሸሽሙጥ ፤ ባሎባልታና በነቀዝ በተበሉ\\nበሽተኛ ብእሮች ይበሳጫል ። በንጉሰ ነገስቱ መንግስት ሳንሱር መጋ\\nተጋርዴው ተለጉመውና -ታፍነው በታላቅ ስቃይ ልሚያቃስቱ\\nያዝናል ። ሀሠዘኑ አጥጉቱ ድረስ ዘልቆ ይሰማዋል.። እና ፥ ለህሊና ነፃነት\\nአክብሮት የሌለውና ሀላፊነት የማይሰማው ሳንሱር ፤ የሰው ልጅ.ክቡር\\nሰብእናን አፍ አውጥቶ ከመርገምና ከመስደዴብ ከመናቅና ከማሜዋረፎድ ይ-ቶዩ\\nጠራል.ይላል . ሀዲስ--በንዴት # እውነት ስትታፈን አሉባልታ ቀለብ\\nቢሆን ምን ያስገርማል!-\\n\\n«ነበዝ እንበርታ!» አለ ።\\n\\nስራ ኢይፈታም ። ሰው ስራ አያስፈታም ። ለራሱ አንድ ቦታ ረግቶ\\nአይቆምም ። ሌሎችንም አያስቆምም ። ስራ ። ስራ ። ስራ ። ተሑስፋው እውን\\nእየሆነና እየድተቃረበ መሄዱን በሚመለከትበት ጊዜ ይበልጥ እየተጣ\\nዶዴፈ ሰዎቼቹቼንም ያጣድፍ ነበር ።\\n\\nሆኖም * የሰራተኞቹ ልብ በየእለቱ እየሸፈተበት ይሄድ ነበር።የሚነ-\\nፍሰው አየር ጥሩ አልነበረም ። በተለይም በመምህራኑ አካባቢ የሚነፍ\\nሰው አየር ያስፈራ ነበር ። ተማሪዎቹም ሳይቀሩ ጉም ጉም ማለት ጀምረ\\nዋል ። ካዲሳባ የሚነፍሰው አየር የሱጴንም አየር እየበከለው በሙሄድ ላይ\\nነበር ”\\n\\nየካቲት 12 ቀን 1966 ኣ.ም. በመላ ኢትዮጵያ የሚገኙ መምህራን\\nየስራ ማቆም አድማ መቱ የሚል ወሬ ሱጴ ደረሰሳ ”\\n\\n«ጉድ ፈላ፡ አሽከር በቅቤ በላ አለ ። በማሣግስቱ አንድም አስተማሪ\\nወዶ ትምህርት ቤቱ ብቅ ኣላለም ። እሱም እንዴ ሌላው ሰው ሁሉ ሰአት\\nእየጠበቀ ወደ ራዲዮ ይሮጥ ጀመር ። ከሚነፍሰው የጋል ፖለቲካዊ አየር\\nጋር የሰውም ኖልብ ትርታና ትኩሳት እየጨመረ ይሄድ ነበር፤ያዲሳባ ሴይ\\nቼንቶ ነጂዎች ስራ አቆሙ---የመምህራን ስራ ማቆም አድማ እንደቀጠለፅ\\nነው--በፈተና ወድቀው ከትምህርት ገበታ የተገለሉ አንዳንድ ተማሪዎች\\nበተፈጠረው ሁኔታ በመጠቀም በህዝብና በሣል ንብረቶች ላይ\\nአደረሱ..». በየእለቱ የፖለቲካው ትኩሳት እየጨመረ ይሄድ ነበር “\\n\\nነገሮች ክቁጥጥር ውጭ እየሆኑ መሄዳቸውን ውል\\nለው « ኖካቲት 16 ምሽት ላይ ንጉሱ ለኢትዮጵያ ሀ፲ገ፲፲ብ በራሊ፪፰፬ዙ፪ፃ፪፭\\n\\nእስኪሙዋላ ድረስ እንዲቆይ ኣዘናል «የመምህራን ፕያቄ]በጥ<ት ላይ ስሶ\\nተግ\\n'},\n",
       " {'page_number': 300,\n",
       "  'text': 'ህ“ዲስ 299\\n\\n› በፍጥነት እንዲቀጥሱ እናስታውቃለን...\\n፭፳፮ዖማ፶፲ስት ብቅ ያለ ኣንድም እስተማሪ አልነበረም 2 - ግር\\n#እንዴዶ በፊቄ መግዛትም ሆነ መገዛት መቅረፎቱ ይሆን\\n\\nሀ ዷሷለተኛ ክፍለ ጦርፎ--የትዶረገው ጭማሪ በቂ አይደለም ፲፤፲፰ጸ፰\\nቤቱታ አቅርቦኦል የሟለውን ወሬ ስ.ሰማ---ነገሩ አማላረሜም ማክተመ-\\nአ ኮይቀርም *፥ በማሰት የትምህርት ቤቱን ስራ ከስር ከክስሩ ያጣድፍ\\nሃመር # ደግነቱ ሰራትኞቹ የስራ ማቆም አድማ- አልመቱም ። በመምህ\\nፉኑ ስራ ማቆም ምክንያት ችምህርት ቤቱ ላልተወሰነ ጊዜ በመዘጋቱ\\nሙሉ ጊዜውን በስራው ላይ አሳርፎ ነበር ።\\n\\nሲናፍቆው የነበረው ቀን ደረስ ። ህልም እውን ሆነ ። ደረሰ ሰአቲ።\\nነፃነቁን የሚቀዳጅበት ቀን ትቃረበ ። ስራው በሙሉ ትጠናቆ ያለቀበትን\\nቀን ቢሞት አይረሳውም፡፡ ረቡእ የካቲት 20 ቆቀን 1966 ዓ.ም. ነበር ። የት\\nበረከ ቀን ! እንዴት ሊሲረሳው ይችላል ? በህይወቱ ውስጥ አንድ የታሪክ\\nምእራፍ ተፈፅሞ ሌላው የታሪክ ምእራፍ የተከፈትበት ታሪካዊ ቀን ነበር።\\n\\nያን ምሽት የምስራቼን ለውድ ባለቤቱ ሊያበስር ወዶ ቤቱ ሲሮጥ\\nወጣት እግሮቼ አየር ላይ የሚንሳፈፉ እንጂ መሬት የሚረማሣጡ አይመስ\\nሉትም ነበር ። ከልቡ ጋር ነበር የሚንሳፈፉት ። እያቆለሏቆለች የምትሄዶ\\nውም የምሽት ጄጀንበር፡፥ ባንድ ቀይ፥*ካሎስ ፤ሠሀምራዊና ወርቃማ ብርቱካን\\nቀለማት ከነዶደዶው አድ“ግስ ላይ፣፡እንዶ ኢሱው ትንሳፈፍ ነኝበር። ብርማ ጠርገ፤\\nያለው ጥቁር ስስ ዴደመና የእሳት ኤአኤሎሎ መስላ ኖምትንሳፈፈውን ጄንበር\\nፊት ሁለት ላይ ክፍሎት ይታያል ። አንድ ስአሊ በፈጠራ ብሩሹ ኩዋል\\nያደርጋት ትመስላለች---ጀንበርዋ ።ካድማሱ ላይ የተትሰሩት ተራሮች አናት\\nበእሳት የተያያዘ ይመስል ነበር “\\n\\nእንደ ፎጠ ቤት ገብቶ ባለቤቱን በዶስታ አገላብጦ ክሳማት በሁዋላ ፥\\n«በቃ አለቀ ። ስንጠብቀው የነበረው ቀን ዶረሰ !> አላት ።\\n\\n«የደዴወል ቤቴ ?» አለች ዴስታውን መልሳ በማስተጋባት ።\\n\\nቄዷፄዎን እሱም» አለ፥0 «ደወሉ ነገ ይሰቀላል---በተጋበዘ8ው ህዝብ ፊት።\\n፪፲ፍሴቅነ ፣ አውጥቼ የምሰቅለው ። አብረን እንደውለዋለን ። እና ፤ ሱኦ. ላይ\\nር * የተስፋና የድፍረት ድምፅ እናሰማለን ።>»\\n\\n«የትምህርት ቤት ዴወል አንድ ትዝታ ይቀሰቅስብኛልጋ» አለች #\\n« ትዝታ ገ7» .\\n«በትምህርት ቢት ያሳለፍኩትን ገ.ዜ ።»\\n\\nኣይናለም በእልቁ ማርያም ትምህርት ቤት እስከ ስድስትኛ ክፍል\\nርጻሓ. ተምራለች = ትምህሀርት ቤት ከመግባትዋ በፊት በመምሬ ብለዋ\\nለዥ»ሬ <ዊት ደማማ ትመርቃለች ። ሲላት ዳዊቱን በቃል ታንበለብ\\n\\nአይደለርችፍና ፥ «ያሰቡት ነግር ከፍፃሜ ዶርሶ ሲመለከክጭት ዴዶስ ይላል )\\nላም 7> አለች ።\\n\\nከ፭፲፮፲፲፩፭፲፮በ፲ነ፲፲ሪ፸፭፲፲፲፲፲፲፲፲፸ንጂ፲፲ አለ ።«ያሳለፉት ገሃነም ሁሉ ይረሳል ። እና « ሰው\\nራት ሲቆም ራሱ እግዜር ይሆናል ።» .\\n'},\n",
       " {'page_number': 301,\n",
       "  'text': \"300 ሠሀዲስ\\n\\nጪ\\n\\n«ህጢአት አትናገር!»\\n\\n«ሰው እግዜር አለ የሚለው ምን አይቶ መሰለሸ ? ስራውን ነው «»\\n«አበድክ እንዴ !»\\n\\n«ኖለም ተደስቼ ነው ።»\\n\\n«“የሀዘን ጥላ የሌለው ዴስታ የለም'ይላል አባዬ ።»\\n\\n«የምዶደሰተው ለራሴ ሳይሆን የከብት ጭራ እየተከትሉ ለሚውሉት\\nልጆች ነው ። ያነሳሱሜም እነሱ ናቸው #ወ»ጅ\\n\\n«ጥሩ ነው» አለችው ። የኖሞቀ ውሀ ገንቦው ውስጥ ትጨምሮልሃል ።\\nይልቅ ሳይበርድብህ ሂድና ታጠብ ።\\n\\nገግላውን ለመታጠብ ጄሄደ ።«ወንድ ልጅ እንዴት በየቀኑ ገላውን ይታ\\nጠባል ?»ጭይላሉ ፊታውራሪ ። ሴት ሴት የመሆን ነገር እየመሰላቸው ዶደስ\\nአይላቸውም ።«ወንድ ልጅ ከቤት ወጥቶ የሚመለስበትን ሰአት ስለማያ\\nውቅ ምን ጊዜም ቢሆን ለመክከራ መዘጋጀት አለበት እንጂ፤ይሄ በየቀኑ\\nየመተጣጠብ ነገር ደማግ አይዶለምወይላሉ ፤ አምርረው ። '\\n\\nገንቦው ቂጥ ላይ የነበረውን ውታፍ ዞር አኤድርጎ ገላውን ይታጠብ\\nጀጄመር ። ያሳለፋቸውን ኙችማሮች ክላዩ ላይ የሚያጥብ ያህል ነበር የሚሰ\\nማሁው- ።\\n\\nየገንቦ ቂጡን ስድስት ቦታ ላይ ሸንቁሮ ጥሩ የገላ መታጠቢያ ሰርቶአል።\\n\\nክገንቦው ጆሮዎች ጋር በላስቲክ የተያያዘውን ስድስት ጉጦች ያለውን\\nየዋብረት ውታፍ ዞር ሲያደርጉት ውሀሠው ሹዋ እያለ ይወርዳል። በእጅ በሚ\\nሰራጮ መዘውር ገንቦውን ለማውረድና መልሶ ለመስቀል ይቻላል ። የፊት\\nመታጠቢያም እንዲሁ በማሰሮ ሰርቶ ነበር ። ማሰሮውን ዘግበል ቀና በማ\\nድረግ በቀላሉ መጠዯቶም ይቻላል ። ውሀው አይደፈርስም ፤ አይቁዋረጥም #\\nያዲሳባን ቡዋንቡዋ ያስንቃል ።\\n\\nግላውን ታጥቦ እንዶ ወጣ .ሮጦ ሄዶ ራዲዮውን ከፈተት ። አርእስዯተ\\nዜና.... በጠቅላዴይ ሚኒስትር የሚመራው የሚኒስትሮች ጉባኤ ባንድ\\nድምፅ ትስማምቶ አባሎቹ ስራቸውን ለመልቀቅ ለግርማዊነታቸው ልመ\\nናቸውን አቅርበዋል.---\\n\\n«አሁን የተነገረውን ወሬ ሰምተሻል ?» አላት ።\\n«አዎን፤ምን ማለታቸው ነው 19\\n\\n«.እኛ አልቻልንም ልቀቁን ማለታቸው ነው።>\\n«ኢና ፤ አሁን ምን ይሆናል 1\\n\\n«ምን አውቃለሁ ። ምናልባት ለውጥ ሊመጣ ይሆናል ። አሻፈረኝ\\nብሎ የወጣው ህዝብ ኣጁን ሰጥቶ ወደ ቤ-ጋ እንደማይመለስ ተስፋ አይር\\nጋለሁ ። ኢትዮጵያ ለውጥ ያስፈልጋታል ። አዲስ ትውልድ የራሱን አዲስ\\nተስፋ መጨበጥ አለበት።»\\n\\nፎሯ፦ታ፦ዋላ አገር የተበጠበጠ እንዴ ሆነስ ፲7%\\n\"},\n",
       " {'page_number': 302,\n",
       "  'text': 'መ ስ 301\\n«ካልደፈረሰ አይጠራም [4» ክማለቱ ፊታውራሪ ፤ ከተፍ አሉ ቶሎሳን\\nአስከትሰው *\\n\\nገና ሳይቀመጡ «በራዲዮ የትተነገረውን ወሬ ሰምታችሁዋል 72 ብለው\\nበየቁ ፆ\\n\\n«አዎን ፤ ስለሱ ነበር የምናወራው» አለ ሀዲስ ።\\n«ታዲያ ይህ በመቀጣጠል ላይ ያለው እሳት የጤና ይመስልሃል ?»\\n\\n«አዎን» አላቸው ፍርጥም ብሎ ። «ጤናማ ምልክት ነው ። እኔ\\nእንደሚታየኝ የ\"ሳቱ ግብ ሰላም ነው ። ባገሩ ሰው ሆኖ ሰውነቱ ታውቆና\\nተከብሮ መኖር የማይፈልግ የለም ። አገር የጋራ ናት የሚባለው ነገር\\nበስራ መተርጎም አለበት ። ለይስሙላ ብቻ የምንወደውና የሚወይዴን ህዝ\\nበችን ቢሎት ምን ፋይዳ አለው 1>» ብሎ ነገሩን ሳይቆርጥ ድንገት በሩ\\nተንኩዋኩዋ ።\\n\\nቶሎሳ ጠብመንጃውን እንዶ ያዘ ወደዶ በሩ ሄደዶ ። ምናልባት ታፈሰ\\nጳሳይሆን አይቀርም ብሎ አስቦ ነበር ። ያምሳ አለቃ ጎይቶም ከሁለት ፖሊ\\nሶች ጋር ከጨለማ ውስጥ ብቅ ሲል አይቶ በመዴንገጥ ፤ «ግቡ ፥ግቡ ።\\nምን ነው ዶደህና ገ» አለ የሶስቱንም ሰዎች ፊት በማሾው ብርሃን እየመረ\\nመረ።\\n\\n«ደህኖ ነው--- የለም አንቆይም ። እንቸኩላለን» ብሎት እጅ ነስቶ\\nከፊታውራሪ ጋር አጭር ሰላምታ ከተለዋወጠ በሁዋላ ፥* «የመጣነው\\nአዲሱ ትምህርት ቤት ሳ.-..»ኝ ከማለቱ ።\\n\\n«ምን ሆነ ?» አለ ሀዲስ ራሱን ይዞ ።\\n\\n«ወደ አይተትተ ! አትዶንግጥ ። ምንም አልሆነም ። »\\n«ታዲያ ምንድን ነው 1»\\n\\n«ዋእ ፥ አላናግር አልከኝ ።ቓ\\n\\n«እሺ ።»\\n\\nሁለት ሰዎች ወዶ ትምህርት ቤቱ በጉዋሮ በኩል ሲገቡ በጥርጣሬ\\nመያዛቸውንና ሁለቱም የእጅ ቦምብ ይዘው እንደ ነበረ ከገለፀለት በሁዋላ ፤\\n«አሁን በምርመራ ላይ ነው የሚገኙት ። አሳማቸው ምን እንደ ሆነ እንዶ\\nሮስበታለንወ አለው ።\\n\\n«መቼ ነው ይህ የሆነው ?፻» ፊታውራሪ ነበሩ ።\\nአሁን ማምሻውን ነው» አላቸው ጎይቶም ።\\n«8ጥታውስ እንዴት ነው ?»\\n\\nሪዖቾ፬፲፲ነ ስተ\\nፀጥታ አለ ው ነኝው ? ተናግቶአል ። ስራ ያቆሙት አ\\n፩ፃ፲ ህዝቡ እንዲያ፥፤ኗሄ፸ ውስጥ ውስጡን እየጎተጎቱት ነውካ፲ ፮፲፻፭፲ሣየሪ፲፰\\nመጣሰላማዊ ሰልፍ ለማድረግ እየተዘጋጁ ናቸው ይባላል ። ካዲ\\n\\nውማ ወሬ አይጣል ነው ። ጆሮ ይበጥሳል» አላቸው “\\n\\nፍዶጉን ቀን ያምጣው እስቲ» አሉ ፊታውራሪ #\\n'},\n",
       " {'page_number': 303,\n",
       "  'text': \"302 ወዲስ\\nዝ-ጠሎ፡፡ወ፡‹ዊ...ዜ.ክ.ክዥ፣።ጩ፡፡፡፡፡፡፡፡ጠ፡፡፡፡፡‹-ጸ።ካ፡፡፡፡፡፡፡ናቋ፡፡፡‹፡ህ9፻፻ሺ፡፡ቸቹ፡፡መ ዓ : በ ች\\nሀዲስ ከጎይቶም.ጋር ወዶ ትምህርት ቤቱ ለመሄድ ፈልጎ ነበር ወ ምን\\nያስፈልጋል ? ዘብ ተዶርጎበታል በማለት ሁሉም አክላክሉት ። -\\n\\nያን ሌሊት ጥሩ እንቅልፍ አልተኛም። ሲቃዥ ነበር ያደረው---ትም\\nህርት ቤቱ በቦምብ ሲመታ እየታየው ። በፍርስራሹ ላይ ቆሞ እያለቀሰ ።\\nህዝብ ይዱረዳችሁዋል! በማለት ይጮህ ነበር--በህልሙ ። በጮኸ ቁጥር\\nአይናለም እየዶደነገጠች ትቀሰቅሰው ነበር ።\\n\\nነጋ አልነጋ በማለት ተነስቶ ወዶ ትምህርት ቤቱ ሮጠ ። የጡዋት\\nጨረር ያረፈችበት አዲሱ ትምህርት ቤት ተውቦ ይታያል ። ሁሉም ነገር\\nደህና ነበር ። የጡዋቱን ቀዝቃዛ ንፁህ አየር በደስታ ተነፈሰ ።\\n\\nማቢው ባዳዲስ ስንደቅ አላማዎች እንዲያ አሸብርቆ ሲታይ ብቅ\\n፲፲ዘ፸፲ፅ፲፲፸፲፲፶፲ር፲፲፲ፃ ፣ ሾር ሲል አሮጌው ትምህርት ቤት አፈጠጠበት ። የሙኪና\\n\\n«የማታውን ወሬ ሳማህ ?» ታፈሰ ነበር ።\\n«አምን።>\\nጸደኖሚገግገርም ነው ወ\\n\\n«አኤሉባልተኞች የሚነዙት የፈጠራ ወሬ ነው ስትል የነበረው የኸ\\nውና ዴረሰ አኣይደለም ወይ ?» ,\\n\\n«ምንድን ነው የዶዴረሰው ? ካቢኔ ቢስናበት ካቢኔ ይትካል ። ምን\\nየሆነ መሰለህ ?» በማለት ደነፋበት ።\\n\\n«ማግን»> አለ ሀዲስ ፤0 «ህዝቡ ተመልሶ እንደ በፊቱ እንደማይገግዛ ይሰ\\nማኛል ። ታጥቦ ጭቃ እንደማይሆን ተስፋ አደርጋለሁ ።“»\\n\\n«ሞሜ% አትሁን ። እመነኝ ምንም ነገር አይመጣም> ብሎት፣ ፤ ሲጃራ\\nአኤውጥቶ አቀጣጠለና ትምህርት ቤቱን ሲመለከት ከቆየ በሁዋላ * ኗቆንጆ\\nትምህርት ቤት ነው> አለው ።\\n\\nጻትን ሸ አስተዋፅኦ ናት መ\\n\\nስለ ስሙስ * ምን ወሰንክ 1?»\\n\\nገናዣ አልቆረጥኩበትም “»\\n\\n«ለምን ገ» አለው ፊቴቱ ልውጥ ብሎ ።\\n\\nአዝናለሁ ቕፌጌያሱበኩ።ት ነው ።ጅ\\n\\n«አታስብ ። ከውን በለው» ብሎት ሊሄድ .ሲል፦--\\nምረቃው ላይ ኣትገኝም ማለት ነው?> ያፃጤሙሚጌል\\n\\n«ወዶ አዲሳባ -መሄዴ ነው ። አሁን ላን\\nየስመሸ ው፦፡ሓ፦ ካልተነሳሁ ጎሬ ላይ አይሮፕ'\\n\\n«እንደማትቀየመሜ ተስፋ አደርጋ\\n=ስለ ምኑ ፻9 ፊቱ ጠቁሮ ነበር2ኛ፣ኛ .\\n«ስለ ስሙ ወ»\\n\"},\n",
       " {'page_number': 304,\n",
       "  'text': 'ር ዲስ 303.\\n\\n«የፊለክከውን በለው ብዬሃለሁ ።»\\n«አሁን ሳስበው “የካቲት 66 ትምህርት ቤት\" ቢባል ጥሩ መስለኝ «\\n\\n«አባቄም እዚህ ቦታ ላይ የተሰቀለው በየካቲት ወር ነበር» ብሎት\\nሃይ።\\n\\nበአይኖቹ ተከተለው ። ያደረግሁት ነገር ልክ ነው ? ወይስ አይደዶ\\nለም? በሜለት ራሱን ሲጠይቅ ቆየ ። በመጨረሻ ፀፀት ኣላደረበትም ።\\nአንድ ቀን ምክንያቱን ይረዳው ይሆናል አለ ።\\n\\nስእቱ ዴደረሰ ። ምድረ ግቢው በተማሪዎችና በተጋበዙት እንግዶች\\nተጣቦ ነበር ። ከመምህራኑ መካከል አንድም ብቅ ያለ አልነበረም ። ነገሩ\\nሳያናድዶው አልቀረም ። ሆኖም በሌላ በኩል ያስደሰተው ነገር ነበር ።\\nየቡና ለቀማ ስራቸውን ጨርሰው ወደ የአገራቸው ሰመመለስ በመዘጋጀት\\nላይ የነበሩት የቀን ሰራተኞች በምረቃው በአል ላይ ተካፋይ ለመሆን መም\\nጣታቸውን በማየቱ ነበር የተደሰተው ። አምና ለትምህርት ቤቱ ስራ ገን\\nዘብ ያዋጡ ምናልባት በመካከላቸው ይገኙ ይሆናል ። ስማቸውንም ሆነ\\n።ሂልዷቄቸወፀን አያስታውስም ። ግን በቅርብ የሚያውቃቸው ያህል ነበር\\n\\nማው፡ ።\\n\\nምስጋና ከማቅረብ ሌላ የሚናገረው ነገር አኤጴነበረውም ። ትምህርት\\nቤቱ ራሱ ይናገር ነበር--በራሱ ውበ ቁዋንቁዋ--በራሱ ውብ ድምፅ፡ባለ\\nቤቱን ጠራት ። አደይ አበባ መስላ ብቅ ኣለች ። ከዴወል ቤቱ ሳይ በመሰ\\nላል ወጥቶ ደወሉን ሰቀለው ።\\n\\n«ደውዩው !» አላት ከደወሉ ቤት አናት ላይ ቆሞ ።\\n\\nየደወሉ ውብ ድምፅ ከአካባቢው እየር ጋር ተዋህዶ ዙሪያ ገባውን\\nይቃኝ ጀመር ...\\n'},\n",
       " {'page_number': 305,\n",
       "  'text': 'ድህረ-ታሪክ ።\\n\\nክፍል ፳\\n\\nመምህራን ስራ በማቆማቸው ፥ ልክ ላንድ ወር ፤ ማለትም ከየካ\\n31 ቀን እስከ መጋቢት 311 ቀን 1966 አ.ም. ተዘግቶ የቆየው ትምህርት\\nቤት ተከፈተ ። አሮጌው ትምህርት ቤት ፈርሶ በቦታው ላይ የመጫ\\nወቻ ጫዳ ተሰርቶአል ። ከትምህርት ቤቱ ህንፃ ስራ በተረፈ ገንዘብ የተሰ\\n፪ዳ፲ስአዳዲስ ጠረጴዛዎች በየክፍሉ ተደርድረው ይታያሉ ። ሁሉም ነገር\\nዲስ ነበር ።\\n\\nመምህራኑም በድል የታደዶሰ አዲስ መንፈስ ይዘው ነበር ወዶደ ትም\\nህርት ቤቱ የተመለሱት ። የኢትዮጵያ መምህራን ያቀረቡዋቸው አስራ\\nአምስት ጥያቄዎች አብዛኛዎቹ ተቀባይነት አግኝተዋል ። የትምህርት\\nአጠቃላይ ጥናት ለጊዜው እንዲቆይ ተደርጎአል ። መምህራን ባዲሱ ሀገ\\nመንማግስት ሰልፍ የማድረግ ፤ ከመንግስት ጋር የመደራዶርና ትምህርት\\nሚኒስቴር በሚያወጣቸው እቅዶች * መርሀ ግብሮችና ውሳኔዎች የመሳ\\nተፍ መብታቸው ተከብሮአል ። ድል ነበር ! ፪\\n\\nህዝቡ ባንድ ፊት ፥ «ጉልቻ ቢለዋወጥ ወጥ አያጣፍጥም ! እንደ\\nበፊቱ አንግዛም ! መሬት ላራሹ ! በወረቀት ላይ ብቻ የሰፈረ ነፃነት አንፈ\\nልግም !ን እያለ በየአደባባዩ ትእይንተ ህዝቡን ሲቀጥል---አዲሱ ካቢኔ\\nዶግሞ በበኩሉ፦---የገሊላው ተአምር ከማንም አይጠበቅም!ዉሀ ወዴ ወይን\\nጠጅ የሚለውጥ የለም! ጥያቄው አገራችን ምን ታድርግልን? ሳይሆን ፤ ምን\\nእናድርግላት ? የሚል መሆን አለበት ። ፋታ ፤0“ፋታ ፥ ፋታ ፥ይል ነበር።\\nጋቬጦች ባንድ ፊት ፋታ ይለምናሉ፤በሌላ በኩል ተንፍሎሱ ፣ ይላሳሉ ። መጋ\\nረጃው ተገልጦ መቅደዴሱ መታየት ጅምሮአል። ጥሩየነፃነት አየር፣0 የተስፋ\\nአየር ይነፍሳል ። የልቡ ትርታ ያልጨመረ ማን ነበር? ሀዲስ ፥፡ የራዲዮ\\nጣቢያ ታማኝ ደንበኛ ሆኖ ነበር ።\\n\\nአንድ ቀን--መጋቢት ወር መጨረሻ ላይ---ሀዲስ እንደዶ እብድ ብቻ\\nውን እየሳቀ ወዶ ቤት መጣ ። ስቆ አያባራም ። ዝም ብሎ ይስቃል ። አን\\nጀጄቱን እስኪያመውና እንባ እስኪወርዶው ይስቃል ።\\n\\n«የሚያስቅ በሽታ ያዘህ እንዴ ? ምንድን ነው እሱ ?» ትለው ነበር\\nአይናለም ተጨንቃ ።\\n\\nበካርቦን ኮፒ የተፃፈ አንድ ወረቀት ከኪሱ አውጥቶ ሰጣት “\\n\\n«የምን ወረቀት ነው 1ገጅ\\n\\n«ኖተበትነብኝ ወረቀት ነው ። አንብቢው ። ከዛሬ ጅሯምሮ ትምህርት\\nቤ እንዳልደርስም ቢሮዬን አሽገው አባረውኛልው» አባትሩ፪ ሳቱቁቱን ቀጠለ”\\nአሀሀ!!.ኦሆሆሆ!. . ኢሂሂ!..\\n'},\n",
       " {'page_number': 306,\n",
       "  'text': 'ህዲስ 305\\n\\nነው ያባረረህ ?»\\n፡ሚን ጉዋዶች ! የትምህርት ቤቱ መምህራን «%\\n\\nፊታውራሪ ከየት መጡ ሳይባል ክተፍ አሉ ። ሳቁን አኣቁሞ\\nምክንያት ነገራቸው ። ለነገሩ እንማግዳ አልነቤሩም ‹ የተጀየ፲፲፲፲፲፥ነስ፰\\nፀረቀት እሳቸውም እጅ ገብቶ ነበር ።\\n\\n«ከባላባት ቤተሰቦች ጋር ተመሳጥሮ ህዝቡን ሲገፍና ስ\\nየኖረ የቀን ጅብ !! ትምህርት ቤት አሰራለሁ በማለት ከድሀው ጪጩ\\n\\nዮን ብር በላይ የሚሆን መዋጮ ሰብስቦ ሃምሳ ሽህ ብር የማታወጣ\\n\\nባ በመቀለስ የቀረውን ገንዘብ የበላ አይናውጣ ሌባ!!! የስልጣን\\nጥሙን ለማርካት ሲል ሀቀኛ ሰዎችን እርስ በርስ አጣልቶ ያጋደለና እጆ\\nቼን በንፁሃን ደም የታጠበ ነፍሰ ገዳይ... ህዝብ የሚያመልክበትን ወርካ\\nየጣለ የለየለት ቀንደኛ የህዝብ ጠላት [!]! ፋጡማ የምትባለውን ጎበዝ\\nተማሪ አባልጎ ካስረገዛት በሁዋላ ከትምህርት ቤቱ እንድትወጣ ያደረገ ፥\\nበመምህርነት ቀርቶ ላንድ ቀን እንግድነትም የትምህርት ቤት ደዶጃፍ\\nመርገጥ የሌለበት ባለጌ...ጅ» ያልተባለው ነገር የለም ።\\n\\nአይናለም ወረቀቱን አንብባ እንዶደ ጨረሰች ፤ ኗ«ፋጡማ!» አለች ።\\n\\nለተቀረው ውንጀላ ሁሉ ዋጋ የሰጠችው አትመስልም ። ጥያቄዋ\\nደንቆት ፤ «ኣምዎን ፋጡማ» አላት ።\\n\\nኗእና ?ጅ\\n\\n«እና ምን ? ትምህርት ቤቱን ለቃ ሄዳለች ። ይሄው ነው መ\\n\\n«ለምን ሄዶች 1?»%\\n\\n«እኔ ምና \\'\"ውቃለሁ ። ሄደች ፣ በቃ ! ከፈለግሽ ሂጂና ጠይቂአት !»\\n\\nፋጡማ ትምህርት ቤቱን ለቃ ወዶ አዲሳባ ከሄደች ቆይታለች ።\\nደ፯፰በካገባ ጀምሮ ፈገግታዋ ሁሉ ጠፍቶ ነበር ። ልቡዋም ትምህርት ላይ\\nረም ።\\n\\n«ምንድን ነው ጭቅጭቁ ?» አሎ ፊታውራሪ ከቆሙበት መስኮት .\\nሳይ ዞር ብለው ።\\n\\nየሣ «ምንም አይዶለም» ብሎ ጠጉሩን ቆፈር ቆፈር አዶረገና ፤ «ኗ«በቁርጥ\\nነጋግርዎት ጉዳይ አለኝ» አላቸው ።\\n\\nትምህርት ቤት\\n\\n+መልጽ ?ግዲህ እዚህ የምሰራው ነግር የለ\\nማስ ለመሆን ነው *\\n\\nቢሮዬ ተማርም አልፈልግም ። ወረቀት ስለ ተ\\nስለ ታሸገብኝ አይደለም ። የምፈልግው አስተማሪ\\n'},\n",
       " {'page_number': 307,\n",
       "  'text': '306 ሠዲስ\\nግን፡ለማስተማር መማር ያስፈልገኛል ። ፊትም ቢሆን ስራውን እንደዴ ጨረ\\nስኩ ለሙሄድ አስቤ ነበር ። ክነገ ዛሬ ስል እስካሁን ቆየሁ-። ፤ሁን መሄድ\\nአለብኝ» አላቸው በምር--ኮስተር ብሎ ።\\n\\nፊሬታውራሪ ረጋብለው፥ ኗፒዜው ዴግ አይዴደሰም ።እንደዶሚሰማው ከሆንኑ\\nአዲሳባ የተቀጣጠለው እሳት- ገና አልበረደም ። እንዴት ይሇናል ? ሄደ\\nህስ ምን ታዴደርጋለህ ?» አሎት ።\\n\\n«እንዴ ምንም ብዬ ስራ ፈልጌ እገባለሁ ። ከዚያ እስዋንም ወስጄ\\nትምህርት ቤት አስገባታለሁ ። እኔም ማታ ማታ እማራለሌሁ ወ»\\n\\n«ማለፊያ ነው። ለራሳችሁ ጥሩ አስባችሁዋል ። አይ የዘመሙኑ ልጆች19\\nአሉ ትክዘው ።\\n\\n«እንዴት ?ቃ» አላቸው ቅር ተሰኝችቶ ።\\n\\n«እንዴት? ማለት ያባት ነው» ብለው ሪዛቸውን በረጃጅም ጣቶቻ\\nቸው እየጎነተሉ ፥* «በዚህ ክፉ ጊዜ አንድ ላይ ለመሆን ማሰብ በተገባ\\nንበር ። እኔ እንደ ሆንኩ አርጅቻለሁ ፤ከእንግዲህ ምን ይቀረኛል ? ስንትስ\\nእድጫ ይኖረኛል ? አንድ የቤተሰብ ኣላፊና ሰብሳቢ መኖር አለበት ። የሰ\\nጠሁህን አደራና ሀላፊነት እንዴት አድርገህ ነው እሄዳለሁ የምትለው ?\\nአዬ ብልህ አስትዋይ ትመስለኝ ነበር» አሎት #ሾ\\n\\nሀዲስ ክፉኛ ተናዶ፣፤0«የሱዋስ ትምህርት እንዴት ይሁን ነው የሚ\\nሉት ? ወአላቸው ።“ሀብትዎ ገደል ሊገባ ይችላል ፤ ራስዎን ብቻ መውደድ\\nየለብዎችትም ! ነፃነታችንን ይስጡን\"? ቢላቸው በወደዶ ነበር ”\\n\\n«እስዋ የምትችፈልገውን ትምረጥ» አሎ ፊታውራሪ “\\nጆ=ጥሩ ነው ። ትምረጥ 1\\n«እኔ ለመሄድ አልችልም> ኣለች ።\\n\\n«እሺ ። ምናለ ታዲያ እኔ ግን እሄዳለሁ ። እዚህ ልቆይ አልችልም ሠ\\nአለ።\\n\\n«ለመሄድ የማልችልበት ምክንያት ምን እንዴ ሆነ አውቀሃል ?»\\n\\n«ማልፅ ነው !ውጅ\\n«ማልፅ አልሆነልህም ። ቅሪት ነኝ» ኣለች ።\\n\\nፈፌዞ ቀረ ። የፊታውራሬ ፊት እየፈካ ይሄድ ነበር ። ፍንጭታቸው ብልጭ\\nሲል ታየው ። ሳቁን ለመግታት ኣልቻለም ። .\\n\\nየቀኛዝማች ጥላሁን ሸዋረጋ መሻርና ከስልጣን መባረር ነበር ።\\n\\n«ሕየሀ ። እሱ አይረዳም እንጂ ሹመሙ>ስ . ቭን\\nለመግጓት ቤታችን ሲመኘው የኛረ: ነገር ነው  ማስፈዖ ው ፡ ዬም\\n'},\n",
       " {'page_number': 308,\n",
       "  'text': 'ሠዲስ 307\\n\\nለግዛት ያው ያገሩ ባላባት ይሻላል ሲሉ ነበር የዋ\\nጎቤዶጌኛጼፖ ሁለት ሶስት ጊዜ ፤ «አንተም አይዞህ ። ግንምላ፤ሼ፤ዷ፤።\\nአት ቀርም ፆ ክልኩ የሚያልፍ ነገር የለም>ጋ ብለውታል ።\\n\\nከሳምንት በሁዋላ ታፈሰ ብሩ ሶርና ገባ አውራጃ ፅህፈት ቤት\\nዛቶ ስራ መጀመሩ ትሰማ ። አንድ ቀን ሀዲስ ደጅ ቁጭ ብሎ ፀሀይ እየሞ፲፶፪\\nኦፆናመግ ሲያስተምርና ሲያነብ ቶሎሳ ሲሮጥ መጥቶ ፥ «ትምህርት\\nሐ ምን እንደ ትባለ \\'ሰምተሃል ?» አለው =\\n\\nሀዲስ ዶንማጦ ፤ «ምን ተባለ !›› አለና ጠየቀው። -\\n\\n«ራስ ቢትወደድ መኩንን እንዳልካቸው ትምህርት ቤካት ።፡።\\n\\nለም ፥ ዛሬ ትንሽ አመም አርጎኛል ብላ ቤት ገባች ። ሆድዋ\\nዝ=ብሎ ነበር # ተአምር አያልቅም-አለ ሀዲስ በልቡ ታፈሰን እየታዘበ ።\\n‹ታያለህ፤»በማለት የፎከረበት ፉክራ ትዝ አለው። ይህ በሆነ በሁለተኛው\\nቀነ ታፈስ ብሩ በአውራጃው ባለ ስልጣኖችና ፖሊሶች እንዶ ታቦት ታጅቦ\\nፀደ ሱጴ መጣ። የማይሰግድለት ሰው አልነበረም። ፊታውራሪ ቤት ስንጋ\\nተዋሎ ፥ አረቄ በጠርሙስ * ጠጅ በማብረጃጁ ፤ ስጋ ኖሳንሳ ተይዞ ቀርቦ ወዲ\\nያውኑ ሰርግና ምላሽ ሆነ #።\"እምቢልታ ተንካለለ ። አዝማሪ አቀነቀነ ።\\n\\nሀዲስ * ክቡር ታፈስ ብሩን ብቻውን እንዳገኘው ፤ ኗሹመሙት ያዳ\\nብመ አለው ። ፶\\n\\n«ይልቅ ባንተ ላይ የደረሰውን ሰምቼ አዝኛለሁ»\\nየሚል መልስ ነበር የሰጠው ።\\n\\n«እሱ ምንም አይዶለም # በለውጥ ጊዜ በማንም ላይ ሊደርስ የሚ\\nችል ነገር ነው ። ሆኖም ለውጡ እዚሁ ላይ እንደዶማያቆም ተስፋ አደርጋ\\nለሁ» ብሎት ጠጉሩን ቆፈር ቆፈር አደረገና፤ «የመጀመሬያ ስራህን ውጤት\\nአየሁት» አለው ።\\n\\n«የቱን ?»\\n«ለትምህርት ቤቱ ያወጣህለትን ስም #።»\\n\\nጊ ,፲ፈስ እንዴ ማፈርም ፥ እንዶ መቆጣትም ብሎ ፥ በምፀታዊ አነጋ\\n፤ «ወንድም አማች ፤ እሱ የፖለቲካ ጉዳይ ነው» አለ ።\\n\\n«ባይሆን> አለ ሀዲስ ፥ «ባባትህ ስም ብታስጠራው ይሻል ነበር ፆ»\\nጪአቅሁን ግ\\n\\nይሆናል .\\nዩስማ ሀዲስ» አለ፲ ጋዐፊሰዐ «የዚህ አውራጃ ገዥ ስሰ ሆንኩ ያቀረብ\\n\\nኩት\\n«እህ ላዬዐ በረከት አይምሰልህ።»\\n\\n. . ።\\nንሽ ፍዖጃራ በንዴት እያጤሰ « «አንድ ነገር ልንግርህ» እሳ\\nከት ነሮ የምትረካ ትንሽ ነፍስ ታናድደኛለች ። ከፍ ወዳሰ ?ን\\n\\n*ላብን « የሰማይ መኖር ጥቅሙ ምንድን ነው ?\\n\\n\\' ዩ«በት\\nታፌ፡፡ነ መመል\\n'},\n",
       " {'page_number': 309,\n",
       "  'text': '308 ህዲስ\\n፲፩ጐሥጎ\\n\\n«ኖኢሉባቦር ጠቅላይ ግዛት እንዶራሴ ወይም ጠቅላይ ገዥ የማ\\nሆንበት ምንም ምክንያት የለም ። አዎ ፤ አሁን አንተ ስልብህ የምታስ\\nበው ነገር ይገባኛል ። ለመሾም * ለመሸለም ብሎ ነው የትምህርት ቤቴን\\nስም ገፀ በረክት አድርጎ ያቀረበው እንደምትል ይገባኛል ። አዎ ፤ ልክ\\nነህ = አላማዬን ለማሳካት የማሳደርገው ነገር አይኖርም ። ካስፈለገም\\nክሰይጣን ጋር እተባበራለሁ ። ወንድም አማች ፤ አለም እንዲህ ናት «\\nዳር ቆሞ እንባ ማፍሰስ ዋጋ የለውም ። ጠንካራ ልቦና ሰጥቶህ በራስህ\\nላይ የደረሰውን ነገር ብታስተውል የምለው ነገር ይገባህ ነበር ። የምትበላ\\nበት አሕለም ነው .»፡።»\\n\\n«ለሰጠኽኝ ምክር አመሰግናለሁ» አለ ሀዲስ ።\\nታፈሰ ሲጃራውን በንዴት ወረወረና በንቀት አይን ተመሙለከተው ።\\n«የንጣዱንና የርሻውን ስራ ተውከው ማለሰት ነው ፻5\\n\\n«ስልጣን ሲታከልበት እሱም ይሰምራል # ከፌለክ ወኪል ላድርግህ ።\\nበትለይ ያድን ደኔን እንደኔ ሆኖ የሚጠብቅልኝ ሰው ኤፈልጋለሁ» አለው።\\n\\n«ለኔጴኔ አታስብ ። የራሴ እቅድ ኣለኝ ።ጅ\\n\\n«ወይም ወዶ ትምህርት ቤቱ ልመልስህ ። መምህሀራኑ እርስ በርሳ\\n፪፡ፀ፲ ተበጣብጠዋል ይባላል ። የሚበጣበጡበትም ኣንዱ ምክንያት አንተ\\nህ»3ቅው አለው ።\\n\\nበመምህራኑ አብዛኞቹ ሀዲስ ሳህሌ ይመለስ ሲሉ ፤0 ጥቂቶቹ ደግሞ\\nአይመለስም ፤ ሬፊሳ ከወጣበት ቤት ተመልሶ አይገባም በማለት እርስ\\nበእርስ ኢእንደዶሚፋጁ ሀሠዲስ ሁልጊዜ ይሰማል ።\\n\\n«እሱንም አልፈልግም» አለ ሀዲስ ።\\n. ፍዋሱጴ ወረዳ ገዥ ባዶርግህስ ?%\\nኗእማዜር ድ .ስጥልኝ ።ጅ\\n«ታዲያ ምንድን ነው የምትፈልገው ፲»> በማለት ጮኽበት ።\\n«ምንጉንም2 ።>=\\n«ምንም ? ለኔ ብለህ እንደ ሆነ ገዶደል ልትገባ ትችላለህ !»\\n\\nበዚሁ ተለያዩ። ታፈሰ እንዳለውም በአስተዳደዶር ስራ ብቻ አልተወ\\nሰነም ። የቡና ንማዱን በወኪሎች ያሰራል ። አንድም ጭሰኛ ሳይቀረው\\nከመሬቱ ላይ አባሮ ሰፊ የቡና እርሻ አስጀምሮአል ። የኢሉባቦር ጠቅላይ\\nግ”\"ት ጠቅላይ ገዥ ሊሆ”“ ነው እየተባለ በሰፊው ሙወራትም ጀምሮ ነበር።\\nፊታውራሪም ፥ ህልማቸው በሱ እየደረሰ መሄዱን እየተመለከቱ ይኮሩ\\nበት ጀምረዋል ። ያልኮራ የባላባት ቤተ ሰብ ማን ነበር ! የአይናለም ሆድ\\nወድ ፊት እየገፋ ሲሄድ ባዩ ቁጥር ደግሞ ይበልጥ ደስ ይላቸው ነበር *\\nዶስተኛ ሽማግሌ እየሆኑ ሄደዋል “ ሀዲስ ደስታቸውን ሊያበላሽባቸው\\nአልፈለግም ። ክትእግስት ጋር ጥሩ ፈገግታ ያሳያቸው ነበር---\\n\\nያለ ምንም ደም ኢትዮጵያ ትቅዶም\\nለኤ ለኔ ሳንል ላንድነትዋ ቆመን\\nኢትዮጵያን እናንሳ ከሁሉ አኣስቀድመን. .\\n'},\n",
       " {'page_number': 310,\n",
       "  'text': 'ተ መ ቐዲስ 309 .\\n\\nተነሳ ተራመድ ክንድህን አበርታ\\nላገር ብልፅሣና ለወገን መከታ ።...\\n\\n-ጉድ መጣ ! ጉድ ሳይሰማ መስከረም አይጠባም ይባላል ።\\n\\nከተደረገ ምን ንጉስ አለ ይባላል ? ቀኝ እጆቹ የተቆረጠበት ንጉስ እስረኛ\\n\\nስዳታል ። ዱሮም ቢሆን ዘውድ የጉልበተኛ ናች ። እስቲ ይሁን\\nዶዲወሉት ኢትዮጵያ ትቅዶም ። ደጉን ቀን ያምጣ» ብለው ነበ፫፲፡ይ ። ከይ\\n\\nመስከረም 1967 ላይ የፊታውራሪ ትንቢት ደረሰ። ንጉሉሱ ከስልጣን\\nወረዱ።ህዲስ ጆሮዎቹን ራዲዮው ላይ ተክሎ ቀርቶ ነበር ። ህልም የሚያይ\\nነበር የሚመስለው ።\\n\\n«ይሄው ያልኩት ደረሰ አይደለም ? ቀስ በቀስ ገዝግዘው ገረሰሱት ።\\nየታሰረ ንጉስ አላውቅም ብዬህ አልነበረም ? ተአምር ነው እኮ ! እንዲህ\\nያለ ብልሃት በኢትዮጵያ ታሪክ ታይቶም አይታወቅም ። ጉድ ነው ። በእ\\nውነት ትንማሣርት ነው ፤ ጥበበኞች ናቸው>» አሉ ። ደንሟማጠው ነበር ።\\n\\n«አሁን ገና አዲስ የታሪክ ምእራፍ ተከፈተ ። ከዛሬ ጀምሮ ሶስት\\nሽህ አንድ ሆኖአል» አለ ሀዲስ ራዲዮውን ዘግቶ ።\\n\\n«ግን» አሉ ፊታውራሪ ፤ «የት አለ ሌላ ንጉስ ያነገሱት ፻%\\n\\n«ጊዜያዊ ወታደራዊ መንግስት - ተቁዋቁዋመ አላለም እንዴ ራዲ\\nዮው 75 አላቸው ።\\n\\n«እሱስ ብሎአል ። ግን ያለ ንጉስ እንዴት ይሆናል ማለቴ ነው እንጂ ።\\nኢትዮጵያ ያለ ንጉስ ኖራ አታውቅም ። ንጉስ ይነግሳል ፤ ይወርዳል እንጂ\\nአገር ያለ ንጉስ እንዴት ይሆናል ?» አሉት ።\\n\\n«ለምን አይሆንም ?» አላቸው ፤ በነገራቸው በሆዱ እየሳቀ -\\n\\n«ሆኖ አያውቅማ ! ማሣራ የገባ ነገር ነው ። ወጣት ስትባሉ አገራች\\nሁን አታውቁም ብያለሁ ። ሁዋላ ጉድ እንዳይፈላ ነው የምሰጋው ። ያቆ\\nየነውን ባህል ለማውረስ አልቻልንም ። በስንት መከራ ያቆየናትን አገር\\nበሰላም አስረክበን እፎይ እንዳንል ደዶግሞ ይህን መላ ቅጡ የማይታወቅ\\nፎ አመጣችሁ ። ሆ!ሆ! አገር ያለ ንጉስ? የኛ ትውልድ በእውነት የትሬ\\nመ መሆን አለበት» በማለት በነገሩ ሲገረሙና ሲተክሹኩ ከቆዬዩ በሁዋላ፥፤\\nዋጣሬስ በጎ ናት > አሉት ።\\n\\nፍያው ነች ። አሁንም አልተሻላትም» አላቸው #\\n\\nአይናለም ፥ ወገቤን ይቆር,ጠኛል--ውሀ መሳይ ነገር ይፈሰኛል ማለት\\nስጽመረች ቆይታለች ። ከህመምዋ የተነሳ ሀዲስ ከሰውነት ወጥቶ ን\\nበማኒለዋ ጡዋት ማታ ያስባል--ይጨነቃል---አንድ ነገር የሆነች እንደ\\nስትኢ ፍፈራል ። ወዴ ጎሬ ወስጄሽ ላስመርምርሽ ባላት ቁጥር ቅፎ\\nለው ይናደዳል---ያያኮርፋል ። ማቃሶት ስትጀምር ደግሞ ሄ\\n'},\n",
       " {'page_number': 311,\n",
       "  'text': \"310 ሠዲስ ፭ ]\\nያፅናናታል ። አንዳንዴ ሻል ሲላት ስለ ፋጡማ አንስታ ፥ ኗእውነት\\nነበረች ? እስቲ እውነቱን ንገረኝ ?» ትለዋለች ። ኗምኔም አልነበረችም 5\\nምናልባት እንዲሁ ጥሎባት ትወደኝ ነበር ። የሰጠችሜንም ማስታወሻ\\nአሳይቼሻለሁ ። ይሄው ነው» ቢላትም አታምነውም ። በሌላ ጊዜ ደግሞ\\nስለሚወለደዶደው ወይም ስለምትወለደው ህፃን የተሻለ ስም አግኝቶ እንደዴ\\nሆነ ትጠይቀዋለች ። ወንድ ከሆነ 0 ትስፋዬ ሴት ከሆነች *0 ኢትዮጵያ\\nከሚል ስም ሌላ እስካሁን አላገኘም ። የወንዱም ሆነ የሴትዋ ስም ደስ\\nስለማይላት ሌላ ፈልግ ትለዋለች ። ስለ ስም ሳይሆን ስለ እስዋ ጤንነት\\nነበር ሲያስብ ኖሚውለው ። ህመምዋ ከጊዜ ወደ ጊዜ እየጠናባት ይሄድ\\nነበር ። ሆኖም እንዶደዚያ እየተሰቃየች አንድም ቀን ክውብ ፊትዋ ላይ\\nፈገግታ ትለይቶ አያውቅም ። ልዬ ፍቅር እያሳደረችበት ትሄድ ነበር ።\\n\\nብትወድም ባትወድም ወደ ጎሬ ሊወስዳት ቆርጦ መሙኪና ተከራይቶ\\nቤት ሲመለስ አስወርዶአት ጠበቀችው ። ቤተሰቡ በሙሉ ተሰብሰቦ ይላ\\nቀስ ነበር ። ደም ክፉኛ መትቶአታል ። አለም ሾረበት ። እድሉን እየረ\\nግመ አጠገብዋ ድፍት ብሎ ትንፋሽዋን ከመጠበቅ ሌላ የሚያደርገው\\nነገር አልነበረውም ። ለምግብ ለእንቅልፍና ለእግዜርም ጭምር ደንታ\\nአልነበረውም ። የመንፈስ ብርታት ብቻ የሚፈውሳት ይመስል ---ዶህና\\n\\nእድግት -በህብረት * የስራና የእውቀት ዘመቻ ተማሪዎች መሙምጣት--ሸፍ\\nተው ጫካ ስለ ገግገቡ ሰዎች ነበር ። አለም ተገለባብጦ ጠበቀው ።\\n\\nኖየፍየል ወጠጨ ትከሻው ያበጠ\\nልቡ ያበጠበት\\n\\nእንዋጋ ብሎ ለነብር-ላከበት\\n\\nየማትረባ ፍየል ፣።ጠኝ ትወልዳለች\\nልጆችዋም ያልቃሉ እስዋም ትሞታለች !\\n\\nፊታውራሪ ትካ ነገሩ አላማራቸውም ። ደግሞም ባቸው አልቻ\\nለም ። «ምን ቁጣ ነው ነበስ፲ፀአትፀጣብ፺፻ዖ፲፲ነ፺፲፩፯፲ሳጎሮቀረ፲፻\\nብዬ ንበርኙ ። አገር አለ ንጉስ ፤አገዛዝ አለ አልጋ አይሆነም ብዬ ነበር መ\\n\\nሀዲስ ራዲዮኑን ዘግቶ ፥ «በመካሄድ ላይ ያለው እኮ የጮደብ ትግል\\nነው ። ታሪክ ውሉ የመደብ ትግል ታሪክ ነው አለ ።\\n\\n«ይ'ህን “መደብ መደብ? የምትለውን ነገር ተወኝ! ሉም ሆነ ቁዋን\\nቁዋው አይገባኝም !» አሉሎ ። «ይህ በፈጣሬ ስራ ፀቆቀባት ነው ። እሱ\\n፲ ሰው ለምን ይጣላል ? ሁሉም መኖር ያለበት እንዶ\\nአርባ ቀን እድሉ መሆን አለበት ። እንዴ ? ከእንጨት መርጦ ለታቦት\\n\\nሲባል ህም ? ዳሩ ምን ያደርኃል ? አሄሄ\\nሲሉ ታፈሰ ብሩ ክከየት መጣ ጨለማ ለብሶ ፤ ጨለማ ሆኖ ከተፍ\\n\\n2\\n2\\n፪\\n5\\n\\nሎ\\n\\nቼ\\n\"},\n",
       " {'page_number': 312,\n",
       "  'text': '፡ ዲ 341. |\\nየሸተተው አውሬ መስሎአል ። የሰከረ መሁ\\nባፍድ ነው ደህና !?» አሉት ፊታውራሪ ዴገግጠዐጁሟያ ስታውቃል ።\\n\\nና አለብለው ነው !»አለ ሀዲስን በክ ሌ\\n\\n«በስራዬ ላይ ሌላ.ሰው ተሹሞአል ። እኔም ከስራ ተባ\\nት ሲሰግድልኝ የነበረው ሰው ሁሉ ዛሬ አር የነካው እንርፊቕኘዘለሁ \"\\nል ። ወይኔ ታፈሰ !» ብሎ ፤ በንዴት ጫን ተነፈሰና ወደ ሀዷስ፲ - ጆዴለርስ\\nበማለት * «ዴስ አለህ ?» አለው \"\\n\\n«ስለ ምኑ ?» አለ ሀዲስ ።\\n\\nታያለህ ፤ ይህን ነገር መዋጋት አለብን 1» በማለት ደነፋ ።\\n\\n«ማንን ይዘህ ? መሬት ድረስልኝ ቢሉት ተነስቶ አይከዯልም ብዬህ\\nነበር። አልሰማኽኝም ። ሰውን ሁሉ ነቅለህ አባረርክ ። ምን ተይዞ ? ማንን\\nይዞ!... የለም ፤ የለም ታፈሰ ። የእነሱም እንባ ነው ይህን ሁሉ መአት\\nያመጣብኝ» አሎት በምሬት ።\\n\\nታፈሰ ችትናዶ እያጤስ ፤ «ፊታውራሪ አሁንም ነገሩ ፈፅሞ አልገባዎ\\nትም።። ይህን ነገር ካሁኑ ካልተትዋጋነው ጨርሶ ያጠፋናል ። ታፈሰ ምናለ\\nይበሉኝ ! ስልጣኑን የያዙት ኮሚኒስቶች ናቸው ...»\\n\\nሀዲስ ስለ ሳቀ፣ «ምን ያስቅሃል ?» ብሎት ወደዶ ነገሩ በመመለስ ፥\\n«ዛ%ሬ በጣፋጭ ቃላት የሚሸነግሉን ቆይተው መሬት * ንብረታችንን ለመ\\nውረስ ነው ፡ ሩቅ ሳንሄድ እዚሁ ቅርብ በግብፅና በደቡብ የመን እንዲህ\\nሆኖአል ። እዚህም ነግ ያው ነው» አለ ።\\n\\n«እንዴት ? እንዴት ? የማንን መሬት ማን ይወርሳል! ያለ ባለቤቱ\\nፈቃድ!?› አሉ ፊታውራሪ ።\\n\\n«ሀይለ ስላሴ ከዙፋናቸው የወረዱት በፈቃዳቸው ነው ?» አለ ታፈሰ ።\\n«እሱ የተለመዶ ነው።»>\\n\\n«ይህም ይመጣል፻» ብሎ በጨለማ ሲቅበዘበዝ እንደ መጣ ሲቅበ\\nበዝ ወጥቶ ሄዴ ።\\n\\nየታፈስሴ ሁኔታ ደስ አላለውዎቾሀዲስ ።ነጋ አልነጋ ብሎ ሊፈልገው\\nነነ፲፲፩፲፲ ት አላገኘውም ። ወዴ ደዶኑ ሄዴ ። ታፈሰ ከሰዎች ጋር ነበር ። ፅ።\\nባበቱ ነበር የደረሰው ። ሰዎቹ ክሄዱ በሁዋላ ፤ «ቀልደኞች |» አለ ታፈ\\n\\n«ምንድን ነው ፲» አለው ሀዲስ ።\\n\\n«ባም ው የሚሉኝ ። ሞኛቸውን ይፈ\\nኣ- ይህን ፡ ደኛጨፄ ብቃንስ ፡ ባንድ ሚሊዮን ብር ተኩል ፄሌ፤ጧጠዷ\\nጥላለሁ - ከዚያ በታች ንክች አሳደርገውም። አለ * ክፍ ካለ ቦ፡ፓ\\nሊያይ እስከሚችልበት ድረስ ደኑን እየቃ ኘ\\n'},\n",
       " {'page_number': 313,\n",
       "  'text': '312 ሠዲስ\\n\\n- ፡ ው ፡ ፡ ሩ\\n\\n«ጥሩ ነው> በማለት ሀዲስ ጠጉሩን ቆፈረና ፤ ኗስማ ታፈስ ፤ አሁን\\nየመጣሁት ላነጋግርህ ነበር» አለው ።\\n\\n«ስለ ምን ?» አለ ታፈሰ ።\\n«ማታ ያየሁብህ ሆኔ፮ና የምትናገረው ነገር ዶስ አላለኝም....»\\n<ምኑ?ጩ አለው ።\\n\\n«ይሄ እዋጋለሁ ምናምን የምትለውን ነገር ብትተው ይሻላል ። በገዛ\\nእጅህ በራስህ ላይ ጥፋት መጋበዝ ይሆናል ። የሞከሩትም ኣልሆነላቸ\\nውም 2 ።>\\n\\n«ባይተባበሩ ነው ። ዱሮውንም ፈሪዎች አይተባበሩም » አለው ።\\n\\nሀዲስ ቶሎ ብሎ ፤0 «ቢተባበሩም አይሆንላቸውም> የሚል መልስ\\nሰጠው ።\\n\\n«ለምን ?» አለ ታፈስ ፥*0 ቅንድቡን ከፍ አድርጎ ።\\n«ህ2>ዝብ ላይ መተባበር ክንቱ ነው ። ይህን ነው ማየት ያለብህ....»\\n\\nታፈሰ አንዴ ሳቁን ለቀቀና ፤ «የትኛውን ህዝብ ነው ዷምትለው ፲\\nስራ ፈቶችና የመንዶደር አውዶልዳዮች ሆያ ሆዬ ቢሉ እውነት መሰለህ ?\\nኖህብረትሰቡ ዝቃጮች ተነስተው ሆያ ሆዬ ቢሉ እውነት አይምሰልህ ፥\\nታያለህ ። አገሪቱ ኢትዮጵያ ናት ። ህዝቡም የኢትዮጵያ ህዝብ ነው ።\\nአሁን ለጊዜው ዝም ያለው ሁሉ አሜን ብሎ የገበረ መስሎህ ክሆነ ተሳስ\\nጉሃል ። መሪ ነው የሚጠብቀው» አለው ።\\n\\nሀዲስ ጠጉሩን ቆፈረና ፤0 «ህዝቡ ከእንሣግዲህ ጭቆናን መልሶ ይቀበ\\nላል ብለህ አትመን ። ደግሞም ፤ የለውጥን መምጣት በታላቅ ስሜት የሚ\\nቀሰቅሰው አንተ ዝቃጭ የምትለው የማህበረሰቡ ክፍል ነው ። ላዲሱ\\nአለም በቆራጥነት ታጥቀው የሚነሱት እነሱ ናቸው>» አለው ።\\n\\nታፈሰ አሁንም በሳቅ ፈነዳና ፥* «እና 0 አሁን ምን ታጣለህ ? የትም\\nቦታ ሰርተህ ልትኖርችችላለህ›..እ... ለለውጥ ያህል ለራስህ ብቻ ሳይሆን\\nለሀፓኑዘቡ ጥቅም ብታስብ ምናለበት» ሲል  ሀዲስ ፥ ታፈሰ እንዴ ገና\\nበሳቅ ፈነዳ።\\n\\n«ምንድን ነው ያሳቀህ !» አለ ሀዲስ ቆጣ ብሎ ፣\\n«ታስቀኛለህ ። ሞኝ ነህ ። በእውነት ሞሜ ነህ....»\\nኢንዴት ፲>»\\n\\nርመኛል * ያስቀኛል...» ት እያየህ እንዲህ ስትል ይገ\\n\\n«አንድን ለውጥ የምትለካው በዚህ መስ ።\\n«ታዲያ በምንድን ነው!» በማለትተ ሳለ ቀ፮፮ሪ፲ያ፲ አይደለም “\\n«በይዘቱና ፲፰፪፲ሂ፰፪፰፲ው ትክክለኛ አቅጣጫ....»>\\n\\nጻእኢና ፤ ይዘ ጫው ምን\\n\\n«ውውቀዋለህ» አለ ሀዲስ ” ይሆናል ልትለኝ ነው!»\\n'},\n",
       " {'page_number': 314,\n",
       "  'text': 'ህዲስ 313\\n\\nህ! እኩልነት ! ዴሞክራሲ 1!» እያለ በማራክስ ሲቀ\\nእኖቴ ! እንዲህም አርጎ የለ! ስለ ሞኞች ህልምና አለሥ አትንገረኝ ።\\nስቀኛል ፆ በኢትዮጵያ ቀርቶ በሌሎችም አገሮች እውነተኛ ፍትህ ‹ እኩ\\nልነትና ዴሞክራሲ ይሰፍናል ብሎ የሚያምን ሰው ሞኝ ወይም እብድ\\nመሆን አለበት ። ጥላ ማባረር ነው» አለው ።\\nሀዲስ በበኩሉ ጠንከር ባለ አነጋገር ፤ «ጭቆናን አሜን ብሎ ተቀ\\nብሎ ከመኖር አሁን ኣንተ ያልከውን ጥላ ማባረር ይሻላል ።»\\n\\n«እውነት በዚህ ታምናለህ ?» አለው ፤ ታፈሰ ።\\n\\n«አዎ * ግን ባፌ ብቻ በመሆኑ ያሳዝነኛል ። ያፍ ቁልምጫ ዋ ጋ የለ\\nውም።»\\n\\n«ማለት በዚህ ጥፋት ሁሉ ? በቪዚህ ርካሽ ሆያ ሆዬ »\\n\\n«እኔ ጥፋት ነው አልለውም ። ለኔ ልማት ነው ። የጭቁን ህዝቦች\\nየበላይነት ነው ። አንተ እንዶምትለው ሆያ ሆዬም አይደለም ። ለኔ ፥ በብዙ\\nዘመን ንባብ ካገኘሁት ፥ አንተ አሁን ሆያ ሆዬ ነው ከምትለው ነገር ያገ\\nኘሁት ትምህርት በእጥፍ ድርብ ይበልጣል ። አብዮት ከሚፈጥራቸው\\nሰዎች የበለጠ ተአምራዊ ነገር የለም>»> ሲል ፤ ታፈሰስ አይኖቹን ወዶ ውጭ\\nጎልጉሎ አፈጠጠበት ።\\n\\n«ምን ሆንክ?» አለው ሀዲስ ።\\n\\n«ሩቅ ሄዶ መዋጋት ምን ያስፈልጋል ?» አለ ፥ አይኖቹን እንዳፈጠጠ ።\\n«ምን ማለትህ ነው 1»\\n\\n«ይህን ማለቴ ነው !» ብሎ * ሽጉጡን መዘዘና አከታትሎ ሁለት\\nጊዜ ተኮሰበት ።\\n\\nሀዲስ በቆመበት ድንጋይ ሆኖ ቀረ ። ታፈሰ እንደ ገና በሳቅ ፈነዳ ።\\n\\n«አስኮናኝ ነህ» አለው ታፈሰ ።\\n«አንድ ነገር ይቆጨኛል» አለ ሀዲስ ንዴት እየተናነቀው ።\\n\\n«ምን ?»\\n\\n«ሳልጥልህ መቅረቴ» አለው ፤ ያን ምሸት ታፈሰ ቤት ሆኖ ያደረበት\\nስሜት ትዝ እያለው ።\\n\\n«ወንድም አማች ፥0 ለሱ አትቸኩል ። እንዴርስበታለን ። አሁን ክሌ\\nየእንጨት ነጋዴዎች ጋር ቀጠሮ አለኝ ።»\\n\\nትንሽ ከሄዶ በሁዋላ መልስ በማለት ፤ «በነገራችን ላይ * የትምህርት\\nድቲ ስም የካቲት 66 እንዲባል ክስኢልጣን ከመነሳቴ በፊት ወስቼ ነበር “\\n»ሀሀ1ኬ እያለ ሲስቅ ፤\\n\\nስቀጨ ቲብ ጮክ ብሎ ፥ ኗእንዴ ገና ስንጥናሜ ከሁለታችን አንዳችን የምን\\nሳቅ የመጨረሻ ይሆናል !» አለ ።\\n\\nሎች\\n'},\n",
       " {'page_number': 315,\n",
       "  'text': \"3414- ወዲስ . ግም --.፡ ም |\\n\\nክዚያ በሁዋላ ከታፈሰ ጋር ተገናሜትው-አያውቁም ። ደኑን ለመሸጥ\\nሲያስማማ ይውላል ፤ ገዥ አጥቶ ይበሳጫፄል ፤ ይጅናደዳል ፤ ይጠጣል ፤ ይሰ\\nክራል ሲባል ሀዲስ ከሩቅ ይሰማል ። በመጨረሻ በሰባት-.ሙቶ ሽህ ብር\\nገዢ አግሜቶ ቀብድ ሊቀበል'ነው የሚል ወሬ ተሰማ ። እንዳጋጣሚ ሆኖ\\nበዚያኑ ቀን የገግጠርን መሬት ለህዝብ ያደረገው አዋጅ ድንገት ታወጀ «\\nታፈሰ ሲሮጥ መጣ ። ታፈሰ ሽጉጥ ታጥቆአል ። ሀዲስ ላይ ድንገት አፈጠ -\\nጠፀት ። ሰውነቱ ተለወጠ ። አይኑ ደም መሰለ ።\\n\\n«አንተ የውሻ ልጅ !» ብሎ ሽጉጡን መዘዘ ”\\n\\nሀዲስ ከተቀመጠበት ተወርውሮ ተነሳ-። ቶሎሳ ዘሎ ታፈሰን ያዘው ።\\nመምሩ በመስቀላቸው ታፈሰን ጥማጠኑት #\\n\\n«ምንድን ነው እሱ ፲0» አሉ ፊታውራሪ በነገሩ ግራ ተጋብተው ።\\n«ጠላታችን እዚሁ ነው!ጅ» ኤአለ ታፈጳሷቋ ከቶሎሳ ጋር እየተናነቀ ።\\n«የምን ጠላት » አሉ ፊታውራሪ #\\n\\n«እንተው ነህ የራስህ ጠላት ። እኔ የማንም ጠላት አይደለሁም...»\\n\\n«ምንድን ነው ነገሩ ! ምን ጉድ መጣ ? ማን ነው”ኮ የሚያስረዳኝ?»\\nአሕሉ ፊታውራሪ ተናደው ። !\\n\\nታፈሰስሰ ሽጉጡን መልሶዕ እጎኑ ሻጠና * «ግን እመለሳለሁ ። ያኔ ክሁለ\\nታችን አንዳችን ይለይልናል ። ታያለህ”> ብሎ እንደዶ እብድ እየሮጠ ወጣ ።\\n\\n«ይህ ሶው አብዶአል ? ወይስ ምን ነካው? ደግሞ ወዴት ነው የሚ\\nሮጠው ?» አሉ ፊታውራሪ ነገሩ ሁሉ እያስዴነቃቸው ።\\n\\n«መአት ቁጣ ነው ሌላ አይዶደለም ። ስምንተኛው ሽህ ማለት”ኾ\\nይኽው ነው። ወንድም በወንድሙ ላይ ሲነ4 ከማየት ሌላ ምን ምልክት\\nአለ 7ቕሙ አሉ መምሩ ።\\n\\n«ምንድን ነው ነገሩ ? በምን ተጣላችሁ ?» አሉ ፊታውራሪ ወደ\\nሀዲስ መለስ ብለው ።\\n\\n«ምንም አይደለም ። ጥሉ በኔና በታፈሰ መካከል ብቻ አይደለም #\\nባግገር ኖመጣ ነው ። ግሃነመ እሳት ገና ሲንቀለቀል ይታ፻ኛ፷፲ አ፲፤፲ ”\\n\\n«<ሰው ፦ጡ አበደዶ ልበል ? ወይስ\\nጀጻዴር ። ፲ ይስ እኔው ነሜ ጤና ያጣሁት ?። በማለት\\n\\nቶሎሳ እየሮጠ መጥቶ ፉ#«አንድም ክ ን\\nክፍ አድርን = ብት አልቀረንም!» አለ ድምድዑ\\n\\n'«እንዴት?» አሉ ፊታውራሪ ።\\n“<ፕትኑዱ-.... ተወሰዱ....ሙጅ\\n«ማን ፶፭፲፲ው የነዳቸውገሙጭ\\n\\n«ጭሰኞች *0 የኛው ጭስሰስ 1ጨ\\n«ለምን”ኮኩ ?» ሜ ቕ\\n\"},\n",
       " {'page_number': 316,\n",
       "  'text': '1በበም ፡ ክ ..፡. ‹  ......8\\n«ወሪሱዋቸው። ከመሬቱ-ጋር# መቼ ይህ ብቻ!ኒ\\nና መጋዘኖች * ወፍጮ ቤቶች ሁሉም አልቀራቹፀ፰ሀ፰ኔቼጩ፡\\nሮ ነው እያጵ ይጨ፩፰ሪ፲፲ዖለ፥ .#. እልልታውና-ዘፈኑ እየቀለጠ ነው---በየቦ\\nታው” ሰርግና ምላ አል» በማለት ነገራቸው ። ]\\n«የኔ ጭሰኞች ?» አሉ ፊታውራሪ ።\\n«አዎሙመ : :\\n«የኔን ንብረት ወረሱ 5\\n«አዎን * ወርሰናል ይላሉ ።»\\n\\n«ብዬ የለም»> አሉ መምሩ ።\\n«የኔን ከብቶች ነዱ 12\\n\\n«ብያለሁ”ኮ « ሎሌ. በጌታው ላይ ያምፃል በስምንተኛው\\nመወምፍ ፥ አንድ የቤት አሽከር ጫን ጫን እየትነፈስ ገባ። ፡ ፡\\n\\n«ምንድን ነው ? እንስማው ጉዱን ። መቼም የጉድ አገር ሆኖአል ።\\nየኢዮብን ጆሮና ልብ ይስጠን ማለት ብቻ ነው ። እግዜር ሰጠ ። እግዜር\\nነሳ እንበል እንጂ !» አሉ ፊታውራሪ ።\\n\\n«ልጅ ታፈሰ በገበሬዎች ተከበዋል ኣሉ ፲3» ዐማለት አሽከሩ ባንድ\\nትንፋሽ ነገራቸው ። ]\\n\\n«ለምን?» አለ ሀዲስ ።\\n\\nኋሉ «መሬታቸው ላይ ያለውን ደን ሊያቃጥሉ ሲሉ ደዴርሰውባቸው ነው\\n...ጅ\\n\\nሀዲስ ተነስቶ ወዴ ቤቴ ሮጠ ። አይናለም ትኩዋኩዋል ነበር። ክታፈሰ\\nየወሰደውን ሽጉጥ ወስዶ ሊሄድ ሲል ፥ ኗየት ነው የምትሄደው?» አለችው ።\\n\\nኣይኖችዋ እንዶ ንጋት ኮከክብ ያበራሉ ።\\n\\n«መጣሁ»ጅ» አላት ።\\n\\n«ሸጉጡ ምን ያደርግልሃል ?» አለችው #\\n\\n«እንዲያው ነው....»\\n\\n«ወዴት ልትሄድ ነው \"» አለች አፍዋ ፈራ ትባ እያለ ።\\n\\n«አይዞሸ መጣሁ» ብሎ ከንፈርዋ ላይ ሳማት ።\\n\\n«ምን”ነው ልቤ ፈራ ?» አለች #\\n\\n«አይዞሽ ምንም የለም ። አሁን ኤአመጣለሁ» ብሎአት ሊሄድ ሲል፦፦\\n«ምንድን ነው ይሄ የመሬት አዋጅ ?» አለች “\\n\\n«ስመለስ ስለ እሱም አጫውትሻለሁ» ብሎ አሁንም ሊሄድ ሲል\\nጣበቅ አድርጋ ያዘችው “\\n\\nእንደ ገና ከንፈሮችዋ ላይ ሳማት “\\n\\nለ\\n8› የ ቅ ፡ ደል አለልም ። ምኦም ለኝ እም\\n\\nም።ምን\\n\\n«መሙጣሁ አለምዬ»ወ ብሎ ጥሎአት ወጣ ።\\n'},\n",
       " {'page_number': 317,\n",
       "  'text': '316. ሠሀዲስ\\nመ\\n\\nቦር ድረስ ተከክተለችው ። ያፈጠነውን ያህል ይሮጥ ነበር ። ቶሎላ\\nእንዳለው * ገበሬዎች በየቦታው ይጨፍራሉ ። እልልታውና ዘፈኑ ይቀል\\nጣል ። ሰዉ እንዳለ ክቤቱ ተገልብጦ የወጣ ይመስላል “ የጥምቀተት በአል\\nምስጋና ይንሳው !\\n\\nኣእንዶ ሮጠ ታፈሰ ብሩ መሬት ላይ ደረሰ ። ዴደኑ መጋየት ጀምሮአል ።\\nገሃነመ እሳት ራሱ የሚንቀለቀል ነበር የሚመሰለው ። ጦርና ጠብመንጃ\\nየያዙ ገበሬዎች አድፍጠዋል ። አንዳንዶቹ ኡኡታ ያሰማሉ ። ኡኡታውን\\nየስሙ ያካባቢው ገበሬዎች ወዶ ስፍራው እየሮጡ ሲመጡ ይታያሉ ።\\nአድፍጠው የነበሩት ገበሬዎች ሁሉ አፈጠጡበት ። አንዳንዶቹም የያዙ\\nትን መሳሪያ ዴገኑበት ።\\n\\n«ቁም ! ማን ነህ አንተ !» አለ አንዱ ከመካከላቸው ።\\n«<ሀሠዲስ እባላለሁ» አለ ።\\n\\n«መምህር ፤ እዚህ ምን አመጣዎት 17›> አለ ሌላው ።\\n«<ምንድን ነው ነገሩ ?1» አለ ሀዲስ ።\\n\\nመጀመሪያ የተናገረው ሰው ነበር * «ታፈሰ ዶኑን ኢእያጋየ ነው ። እሳ\\nቴን ኢእንዳናጠፋው ይትኩስብናል ። እጅህን በስላም ስጥ ብንለውም እሺ\\nአላለም ። ማሣን ህይወታችን እያለ ይህ ደን ተቃጥሎ አያልቅም ። ሆ ብለን\\nልንገባ ስንል ነው የዶደረስከው» በማለት መልስ የሰጠው ።\\n\\n«ቆዬ ፤ ቆዩ ። እኔ አግባባዋለሁ ። እና * እሳቱን እናጠፋለን ። አትተ\\nኩሱ» አለና ወዶ ደኑ ሮጦ ገባ ።\\n\\nኖጢስ ጉም ዋጠው ። ጢሱ አፈነው ። ከመታፈኑ የተነሳ ያስለው\\nጆመር ። በመቀጣጠል ላይ ያሉት ርጥብ ዛፎች ሲንጣጡ ፤ የመሸጉ ወታ\\nዶደሮች ትኩስ ከፍትው አለም የተዶደበላለቀች ያህል ያስፈራል ። ተቃጥሎ\\nያለቀ ዛፍ ሲገነዶደስ እንደዶ መድፍ ያጉዋራል ። እሳት በየቦታው ይንቀለ\\nቀላል ። ሀሠዲስ እየተጨናበሰ ፣፤ እየተደናበረ 0 እየሳለና እየተሽሎከለከ\\nሄዶ ታፈሰ ወዶሚያዘወትረው ስፍራ ሲጠጋ ፤ «ታፈሰ ! ታፈሰ ! ሀዲስ\\nነኝ ። ስማኝ ታፈሰ 1!» እያለ ይጮህ ጀመር ።\\n\\nየገደል ማሚቶት የገዛ ድምፁን መልሳ ታሰማው ነበር ። ጉሬዛዎች\\n\\nበእሳት ወዶ አልተያያዘ ዛፍ ይዘላሉ ። ሚዳቁዎችና ዱኩላዎች ዶንብረው\\nይሮጣሉ ።\\n\\n«ታፈሰ ! ሀዲስ ነኝ ። እባክህ ስማሜ» እያለ ሲጮህ ----\\n\\nክበስተጀርባው ፤* «የያዝከውን ሽጉጥ ጣ ህ!»\\nኖናሟል ድምፅ ሰማ ። ል! ጣለው ነው የምል\\n\\nሀዲስ የያዘውን ሽጉጥ ጥሎ ዞር ሲል፤ ሙዣዝ አፈጦ\\nጠበት ። ክታፈሰ ጋር አይን ለአይን ፸ጋጪ፶ዊብመንጃ ብጩ\\n\\nአውሙቶማቲክ ጠብመንጃውን ሀዲስ ዴዶረት ላይ አነጣጥሮ እንዴ ዶገነ *\\n«በ መምጣትህ ደስ ብሉኛል ። በዶደህና ትቼህ በመምጣቴ ሲቆጨኝ ነበጮ\\nአለ ጥርሱን እየ ነክሰበት ። «እንኩዋን ዶደህና መጣህ። ፀሎትክን አድርስ።\\n'},\n",
       " {'page_number': 318,\n",
       "  'text': 'ሀዲስ 317\\n\\nፀሎት አያስፈልግህም? እማግዜርን የት ታውቀውና! ማ\\nግን!* ፎዖጌፒ ሆኖም በጥቂት ደቂቃዎች እግዜርን ታገኘዋለህ ። እናሞ።፰፰\\n፰፪፲፰ት፲፲ርድ ይፈርድብሃል!» አለው ።\\n\\n«ስማ ታፈሰ» አለ * «የምታደርገው ነገር እብደት ነው ። ምን ለመ\\nሆን ነው ? ደኑን አቃጥለህ ምን ታገኛለህ?ወ\\n\\n«ይቃጠል ! ይንደድ ! የኔም አንጀት ተቃጥሎአል» አለ ።\\n«በህይወት ከደን የተሻለ ብዙ ነገር ሞልቶአል።»\\n«እንዶ ምን ያለ 1?»\\n\\n«እንደ መኖር ያለ.-..»\\n\\n«ዝም በል ነው የምልህ!» ብሎ ጠብመንጃውን አቀባበለና ፥ «የተ\\nጫወትነውን የሞት ጨዋታ ታስታውሳለህ ? ያሁኑ እውነተኛው ነው!»\\nአለው ።\\n\\nየደም ስሮቹ ሁሉ ተገታተሩ---ታፈስ ። አይኖቹ ዶይም ለበሱ ። ጥርሱን\\nነከሰ ። ሀዲስ ላብ አሰመጠው ።\\n\\n«ታፈስ እባክህን አስብበት» አለ ሀዲስ ፤ «እጅህን ብትሰጥ ምናለ\\nበት ? ምንም አትሆንም ።»\\n\\n«ግንባርህ ላይ ወይስ ደረትህ ላይ ብለቅብህ ትመርጣለህ ?» አለው\\nጥርሱን ነክሶበት ።\\n\\n«እሱን እንደፈለክ ። ስቃይ የሌለበት ሞት የለም ። ግን እኔን በመ\\nግደል የምታተርፈው ነገር የለም ። አንትም ትሞታለህ ። ተከበሃል ። ያለ\\nሁህ እድል እኔ ብቻ ነኝጋ» በማለት ሀዲስ ተጨንቆ ወተወተ ።\\n\\n«ለምን እኖራለሁ ? ያለኝ ሀብት ሁሉ ሄዶአል» አለና ድንገት እንዶ\\nእብድ ብቻውን ስቆ ሲያበቃ ፤ «አንተም የቁዋመጥከው ሀብት ሄዶአል ።\\nመኖር ምን ያደርግልሃል ? እጦት የቁም ሞት ነው» ብሎ የጠብመንጃውን\\nአፈ ሙዝ ሀዲስ ግንባር ላይ አነጣጥሮ ያዘዝ ።\\n\\n«አዝናለሁ ። ፈፅሞ አታውቀኝም ። ለኔ ሀብት ምኔም አይደለም »\\nና ድንገት 0 «ከሁዋላህ ! ትጠንቀቅ !» ብሎ ጮኽ ።\\n\\nባ ታፈስ ዞር ከማለቱ ሀዲስ እንዴ ነብር ዘሎ ያዘው ። የታፈሰ ጠብመንጃ\\nቀ = ታፈሰ ሚዛኑን አጥቶ ነበር ። ሀዲስ ፊቱ ላይ ሁለት ቡጢ አከታ\\n\\nከር ክሳረፈበት በሁዋላ ይዞ ጣለው ። ተናንቀው መሬት ለመሬት ይን\\nባለሉ ጀመር «\\n\\nአጠገባቸው ያለው ቁጥቁዋጦና ሳር ቅጠሉ ሁሉ በእሳት ተያይዞ\\n\\n፭፰ በ፲፲ የተቃጠለ ግንድ እየተገነዶሰ ይወድቃል ። ሠዲስ እንደ ጅማት ፲፤ነ፲፲ነ፲\\n\\nአፍ ፋ ታፈሰ ጠንካራና ፈጣን ስለ ሆነ ፥ የሀዲስ ግንባር) አፍንጫና\\nመድማት ጀምሮአል ። አይኑ ሁሉ በዶም ተሸፍኖእአል “\\n'},\n",
       " {'page_number': 319,\n",
       "  'text': \". 318 ሀዲስ\\n\\nአልልቀቀውም ። ጉሮሮውን አንቆ ይዞ ይታገለው ነበር ። እየተንከባለሉ\\nበአኤሳት ትያይዞ ወዶሚነድ አንድ ቱቴቱጥቁዋጦ ትጠጉ-፦-ላብ---ዶም፦---እሳት !\\nሀዲስ ለህይወቱ ታገለ ። አንቆ ትንፋሹን ሊያወጣው ሲል ፤ ታፈሰ * ደመ\\nነፍሱን መሬት ሲቡዋጥጥ የወዶቀ እንጨት አግኝቶ * ሀዲስን አናቱን\\nብሎት ከላዩ ላይ ጣለው ። ሀዲስ አእምሮውን አልሳትም ። ለመነሳት\\nሲንደዶፋዶፍ ፤ ታፈሰ ሜዳ ላይ ወድቆ የነበረውን የሀዲስን ሽጉጥ ኣንስቶ\\nሾር አለበት ። ሀዲስ አይኖቼን ጨፈነ #።-ወዲያው ሁለት ጥይት በተከታ\\nታይ ተተኮሰ። ሀዲስ እንዶ ገና አይኑን ሲከፍት ታፈሰ ዘጭ ብሎ ሲወድቅ\\nአየው ። ደም ባፉ ቡልቅ ቡልቅ እያለ ይወርድ ነበር ። ሀዲስ እንደ ምንም\\nበዶረቱ ተስቦ ሄዶ አንገቱን ቀኖ አድርጎ ያዘው “\\n\\nኗአ!...አሁንም አለህ ? አቃተኝ አ---አይደዴለም አንትን መግደል!?»\\nኣለ ታፈሰ ወደዶ ሰማይ እያየ ።\\n\\n«ለምን ታፈስሰ ? ይህ ሁሉ ለምን ኖሮአል ?» አለ ሀዲስ ።\\n\\n«ያለፈ አለፈ ። አ--አኤአሁን ተትወው» አለና ፤ አይኖቹን ሰማይ ላይ\\nተክሎ ፈገግ አለ ። «ዩእንዳልክው የብር ምልክት መቃብሬ ላይ ኤድርግልኝ ።\\nእና ፥* እዚሁ ደኔ ውስጥ ከዚያ ከምወዶደው ዛፍ -ስር ቅበረኝ ። ትስፋ እንዶ\\nጨበጡ መሞችት ጥሩ ነው ። አይ--አይመስልህም ” ብሎ አይኖቹን\\nሰማይ ላይ እንደዶ ትክለ ለመጨረሻ ጊዜ ፀጥ ኣለ “\\n\\nበፊት ያነጋግረው ባላገር ሲሮጥ መጥቶ 0 ኗ«መምህር ፥ ደህና ኖት ?\\nባልዶርስልዎት ኖሮ ሊገድልዎት ነበር ይህ ሽፍታ» አል ”\\n\\nጠብመንጃ ይዞአል ።\\nየታፈሰን አይኖች ከክድኖ * «ዴህና ነሜ» ብሎ ተነሳ “\\n\\nበብዙ መቶ የሚቆጠሩ ሰዎች እሳቱን ለማጥፋት' ይራወጣሉሎ ። እሳ\\n፩ በቅጠልና ባፈር ይደበድባሉ ። ሀዲስ የታፈሰን ሬሳ አስይዞ ወዶይ ቤት\\n።\\n\\nቤት ሲደርስ ሌላ ውዝግብ ጦፎ ጠበቀው ። ፊታውራሪ ተካ ታጥቀው\\nተነስተዋል ። አይናለም ታለቅሳለች ። መምሬ መሀሪ ፊታውራሪን በመ\\nስቀል ይማጠናሉ ። የሀዲስ ሁኔታና የታፈሰ ሞት ሲጨመርበት ነገሩ\\nይበልጥ ተወናብዶ ቤቱ.ልቅሶ ‹በልቅሶ ሆነ ። አይናለም ወደዶ ሀዲስ ትሮ\\nጣለች ። አንዴ አጎቷ ልጅ ሬሳ ላይ ወድቃ ትጮፇሃለች ። ወደ አባትዋ ትሮ\\nጥኖ ነጠላቸውን ይዛሣዛ ታለቅሳለች ።\\n\\n«ማሜን ነው የገዶደለው ?» ኣሎ ፊታውራሪ “ ኝ\\n\\n«እሱ ሞቶአል ። እርስምዎ ደማግሞ አሁን የተነሱት ?»\\nአለ ሀዲስ ንዴት እየተናነቀው ። ምን ሊሆኑ ነው\\n\\n-«ወእጄን ማን አባቱ ነሙ የሚይዘው!5\\n=ማን ነሙ እጅም ሊያዝ ነው ያለው ?ው\\n\"},\n",
       " {'page_number': 320,\n",
       "  'text': \"- ወዲስ 3:9. |\\nሰምቻለሁ # ደርጎች የሚባሉ ሰዎች መጥተዋል ሬቴን\\n\\n7 ብጃጎዣፉቻከረቴገ 7 ማዘረፋቸው አነሳቸውና ደግሞ እጄን ሊይሆ ፈለት\\n\\nሀብግር ሲዘርፈኝ እንዶ ሴት ቁጭ ብዬ ማየቴ አነሰና እጄ ይያዝ1\\n\\n«ይህን ጉድ ሊያሳየሜ ኖሮአል የጎለተኝ ! የቱ ወንድ ነው\\nየሚይዘው ? ክንዴ ምን ቢደክም አንድ ጠብመንጃ መያዝ አያቅጩ\\nብለው ለመሄድ ተነሱ ። ፡ .\\n\\n«ጸሪ ባማላጅትዋ!» አሉ መምሬ መሀሪ “ «ሬሳ ቤት አስቀምጠው\\n\\n«ሙታናችንን ለመቅበር ከእንግዲህ ጊዜ የለንም ። መሬትም ሰውም\\nከድቶናል ። መቀበሪያም የለን ። ዱሮውንም ቢሆን የጀግና ቀባሪ አሞራ\\nነው ።ዱሩ እንደሆን ያው የምናውቀው ዱር ነው።ሌላ ምን ይመጣል?»ጅ\\n\\n«ጸረ እባክምዎን አይሆንም.....»\\n\\n«እግራችሁ እሾህ + ገላችሁ ቆንጥር ያልለሰመደው እናንተው እዚሁ\\nእንደዶ ፍጥርጥራችሁ ሁኑ ። እኔ እጄን ለማንም አልሰጥም ። እንዴ ! ከብት\\nከበረቴ » እህል ከመሬቴ ወረሱ ። ይህ አልበቃ ብሎአቸው ደዶግሞ እጄን\\nለመያዝ ፈለጉ ? ያው እንዳባቶቼ እሞታለሁ እንጂ እጄንስ ለማንም አልፅሰ\\nዯጥም ! የስው ነገርም በቃኝ ። ያበላሁዋቸው ያጠጣውዋቸው..›.እ›››.ሲቾቸ\\nገሩ ከችግር ያወጣሁዋቸው ! ሲታረዙ ያለበስኩዋቸው-! ሲታመሙ የጠ\\nየቅሁዋቸው ዛሬ ጊዜ አይተው ይክዱኝ!? ከብቶቼን ይንዱ!? እሠቱሌን ከመ\\nሬቴ ይውረሱ!? ዋ ሰው ፣! የሰው ነገር በቃኝ !›» በማለት ቶሎሳንና ሌሎች\\nአምስት ታማኝ አሽከሮቻቸውን አስከትለው ? ድጋቸውንና ዝናራቸውን\\nአሳምረው ተነሱ #“\\n\\nየአይናለም እምባና ልመና የመምሬ መሀሪ ተግሳፅና ግዝት ትጥቃ\\nሊያስፈታቸው አልቻለም ።\\n\\n«በሚወዱዋት ፤0 ባተከልዋት እልቄ ማርያም.-.»\\n\\n«ይልቅ በፀሎትዎ አይርሱኝ መምሩ-»›» እንተም የልጄን ነገር አደራ ።\\n\\nየልጅ ልጅ ለመሳም አላደለኝም» ብለው ወጡ ። ገረዳቸውም አገ\\nኣግልዋን ይዛ ተከተለቻቸው...-\\n\\nሀዲስ አይናለምን ከማፅናናት ሌላ የሚያዴርገው ነገር አልነበረም *\\nየታፈሰን ኑዛዜ አለመፈፀሙ እየቆጨው እልቄ ማርያም ቤተ ፶ክርስ፲፰፰\\nአልር ተ ስቀበረው ። ቀብሩ አላማረም ። አልቃሽ ቆማ ኣገፎ ተ\\n\\n<ም ። ጭር ያለ ቀብር ነበር ።\\n\\n። ጴ\\nፈታውራሪ ሎ አገር ተረብሾ ነበር ። 'ሌሎች የሱ\\nኣ፲፻፲ ከጎናቸው የተጳለፈው ሰራዊት አገር ይፈታል--- ጾኗሦሰፀበቀል\\n\"},\n",
       " {'page_number': 321,\n",
       "  'text': '. 320 ህዲስ\\nው .ሒ.፡ጌቅጋ፡..ሽስ ፡ መ ደ በየበየየሽ\\n\\nአንድ ቀን ጡዋት ሀዲስ ተጨንቆ ሲያስብ ፤ የሃምሳ አለቃ ጎይቶም\\nወዶ እነሱ ቤት ሲመጣ ኽክሩቅ አየው ። የመጣበትን ምክንያት በልቡ ጠረ\\nጠረፀዕዕ\\n\\n«ማግድ የለም ንግገረሜ» ኤለ ሀዲስ ።\\n«አርፈዋል» አለው ።\\n«እንዴት መቼ ?2\\n\\nፊታውራሪ ወዶዴ ባላገር ሄዴው ካንድ ርስታቸው ላይ ትንሽ ጎጆ ውስጥ\\nትጉትቀምጠው ነበር ። እንደዶ ተወራው ሳይሆን ከቶሎሳና ከሌሎች ጥቂት\\nታማኝሜ አሽክሮቻቸው ሌላ ማንም አጠገባቸው አኣልነበረም ። የሃምሳ\\nአለቃ ጎይቶምና እሱን የተከተሎት ፖሊሶች በጠቁዋሚ ክስፍራው ደር\\nሰው ፤ ፊታውራሪ ተካ በሰላም እጃቸውን እንዲሰጡ ይጠይቃሉ። ክቤት\\nውስጥ አንድ ጥይት ይተኮሳል ። የሽጉጥ ጥይት ነበር ። ለጊዜው ፀጥ ይላል።\\nቤቱን የከበቡት ፖሊሶች ግራ ይጋባሉ። ከዚያ በሁዋላ ክቤቱ ውስጥ የቶ\\nክስ እሩምታ ይከፈታል ። ፖሊሶቹም በበኩላቸው ትኩስ ይክፍታሉ ።\\nቶሎሳ እየተኮሰ ሲወጣ ተመትቶ ይወድቃል ። ሌሎቹም እንዲሁ እየ\\nተኮሱ ለማምለጥ ሲሞክሩ እየተመቱ ይወድቃሉሎ። በመጨረሻ ፤ አገልግል\\nየያዘች አንድ ሴት ብቻዋን እየጮኽች ስትወጣ ተኩሱ ይቆማል ። ፊታ\\nውራሪ ቀዶም ሲሉ የገዛ ሸሽጉጣቸውን ጠጥጭተው ነበር የሞቱት ።\\n\\nጻኢእና ሩ ይህ ከፊታውራሪ ኪስ ውስጥ የተገኘ ወረቀት ነው» ብሎ ለሀ\\nዲስ ሰጠው * «ልጄን ጊዜ ከዳት ብለህ እንዳትክዳት አደራ። ስላሴ ቅበ\\nሩሜ» የሚል መልእክት ነበር-.›-\\n\\n«አስክሬናቸውስያ» አለ ሀዲስ ።\\n\\n«ስላሴ ተቀብሮአል ። ከኢያታቸውና ካባታቸው ጎን ። በጣም አዝና\\nለሁ» አለው ጎይቶም ። ፲\\n\\nእውነትም ከልቡ ኣዝኖ ነበር ። አይኖቹ እንባ አቅረዋል ።\\n\\n«ምንም አይደለምመወ” አለ ሀዲስ ።\\n«ኦሮማይ 1፲»ጅ\\n«እ?»\\n\\n«ምን ይዴረጋል ”ያለቴ ነው ። ከጥልያን የወረስነው ቁዋንቁዋ ነው»\\nአለ ጎይቶም ።\\n\\nጎይቶም ተሰናብቶት ሊሄድ ሲል ሀዲስ ፥0 «ለመሆኑ ዮሀንስ እንዴት\\nንው?ገቋ ብሎ ጠየቀው ።\\n\\n«ወዲ ከልቢ ! የሚል መልስ ሰጠው ”\\n«ምነው ?።» ሕለ ሠዲስ ።\\n\\nደኬይዶ የሎንዲው..›..»\\n\\n«አ፻»\\n\\nሄድዋል ።#ጅ\\n\\n«ወዴት?ው\\n\\n«ኖናት አገር ጥሪ ብሎ--. ናብ በረኸ ። ቤሽቲያ !\\n'},\n",
       " {'page_number': 322,\n",
       "  'text': 'በ መ ሥ . ..68\\n«እውነት?» አለ ሀዲስ ተገርሞ። ግማሽ ልቡ ስለ ሽታዬ ነበር የሟ\\nየስበዎ \"\\n\\n«ሄቻ ። አላ ዶርሶአል አሉ ። ከሻእቢያ ጋር ተቀላትሉአል ። እኔ ሳላ\\n\\nበፊትም የማህበር ሾአቴ አባል ነበር ። ቤሽቭቲያ ! ወእ-ሳህል ይሁን\\nወይም ባርካ ላይ አንድ ቀን ግምባር ለግምባር ገጥመን ስንታኮስ ይታየ\\nኛልኃ አለ ሩቅ እያየ #\\n\\nትጎይቶም ክልብ ያዘነ ይመስላል ፤ሲናገር ሁሉ ቁር ሀማሴን እንደዶ\\nያዘው ሰው ሰውነቱ ይንቀጠቀጥ ነበር ።\\n\\n«የናት ሆድ ዥንጉርጉር ነው ይባላል» አኋ ሀዲስ ፡ የጎይቶም ሀዘጉን\\nእየተጋባበት- ።\\n\\n«ዋ አነይ ! ወላዲት ሀገርና ሀንቲ ኢትዮጵያ ኢድያ ። አነ ካልእ አይፈ\\nልጥን ። ግን ኦሮማይ ። እንዳልከው የናት ሆድ ዥንጉርጉር ነው» ብሎ\\nራሱን ነቀነቀ ።\\n\\n«አሁን እስዋ እንዴት ናት ?» ብሎ ሀዲስ ጎይቶምን ጠየቀው ፡\\n«ማን ?» ኤለ ጎይቶም ።\\n\\n«ሽታዬ---ባለ ቤቱ ?»\\n\\n«ዋእ ! እስዋማ የአምሰት ወር ቅሪት ናት ። ቤሽቲያ ! አለው።\\n\\nሬ ሀዲስ ክጎይቶ ምክተለየ በኋላ ቤት ገብቶ፣ «አለምዬ ፡ ክዚህ እንሂድ»\\nላት ። -\\n\\n«የት» አለችው አይን አይኑን እየተመለከተች ።\\n\\n«ወድዶ አዲሳባ» አላት ።\\n\\n«አባቴ ሞት ፤ ሞተ አይዶደለም ? ንገረኝ ፤ ግድ የለም=» አለች ።\\n«አዎ» አላት አዝኖ ።\\n\\n«እንደ ወጣ የትም ወድቆ ቀረ ?>\\n\\n«ስላሴ ተቀብረዋል ። እንዶ ፍላጎታቸው» አላት ።\\n\\nመ ላለቀሰችም ። ይዘው የሚሄዱትን እቃ ሲያዘጋጁ ውለስው አመሹ #\\nምሬ መሀሪን ሊሰናበቱ ፈልገው ነበር ። አሳገኙዋቸውም ። ፊታውራሪሬ\\nይሆና: ፈመዋህብቅ ብለው አያውቁም ። መምሩ ባዶ ቤት ምናልባት አይወዱም\\nይዚፈል።የትኛውን ማእድ ሊባርኩ... ጡዋት እቃቸውን አስጭነው ተያ\\nለክር-‹ወጤሄአንድ ጊዜ ብቻ ወዴ ሁዋላ መለስ ብላ ያባትዋን ግቢ ተመ\\n(ተችኙ። ጭር ብሎአል ። እና ፤ መንግዳቸውን ቀጠሉ፡። ቀኑ ማክከሰኞ ነበር።\\n\\nበትምህርት ቤቱ በኩል ሲያልፉ ፤ “የካቲት 66 ትምህርት ቤት\\' የሚል\\nሰያፍ በትልቁ ተፅፎ በማየቱ ቆም አለ ። ደወል ቤቱም ከሩቅ ይታያል ”\\nየፍሕሪ. ውለቱም ሰሙ = ትያዬ ። ደስ የሚል ድምፅ ነበር ። የሰላም\\nፎር ፡ የወዴሪት ፲፲ይወት ጥሪ .:-:.።\\n\\nኣየታየኳ ፡ ቀን እንመለስ ይሆኖል» አላት ፤ ሌላ ትልቅ ትምህርት ቤት\\n'},\n",
       " {'page_number': 323,\n",
       "  'text': '322 በ8ዲስ\\n---222ዐዲስ ሲ . ጤኤ ጨ\\nአይናለም መልስ አልሰጠችውም ። አይንዋ ወዴዶ ሌላ ነግር ነበር የጫሟ\\nመለከተው ። አይንዋን ባይኑ ተከተለ ። የፊታውራሪ ገረድ ፥ ክዳን የሌ\\nላው ባዶ አገልግል አኣዝላ ፤ ዳገቱን ቀስ እያለች ስትወጣ ከሩቅ ትታይ\\nነበር ። አይናለም እንናዋን ለመያዝ ኣልቻለችም. --\\n\\nከመርዳሳ በተከራዩዋሻው በቅሎዎች የገባን ወንዝ ቁልቁለት ተያ\\nያዙት ። ፀሀይዋ ግላለች ። ዝምታ የሰፈነበት ጉዞ ነበር ።\\n\\n«መንገዳ- እንዴት ነው ? ሰላም ነው ?›» ብሎ መርዳሳን ጠየቀው ።\\n«መንገዱስ ሰላም ነው..›.»\\n\\n«ሌላውስ ገ?»\\n\\n«ሌላው አይወራ ። አገሩ ተናማሣቶአል ።»\\n\\n«አይዞህ ቢናጋም ለሰላም ነው ።»>\\n\\n«<እስቲ ያድርገዋ ። እዚህ ኖጳ ላይ ሰሞኑን ሰላም የለም...»\\n«ምን ሆነ 1?»>%\\n\\n«ዘማቾች ዳስ ውስጥ እንዴ ተኙ በእሳት አቃጥለው ፈጁዋቸው ።\\nክሳት ውስጥ ያመለጡትንም በጥይት ጨረስዋቸው ። አዬ ያረመኔ ስራ\\nንው ኖተሰራው።»\\n\\n«ኢሕነማን ናቸው እነሱ ?ጅሙ .\\n«ዳኛቸው የሚባለው የፊታውራሪ ኢያና ልጅና ግብረ አበሮቹ.--\\n\\n«እነሱም ታድነው ተገደሉ ይባላል ። የለም * ውሸት ነው ፤* አልተ\\nገዶሉም የሚሉም አሉ ። የሆነ ሆኖ እንዲህ አይነቱን ጭካኔ መፈፀም\\nአልነበረበትም =“።»\\n\\n«መሬት ክሄዶዴ ጡዋትና ማታ በምን ይጠጣ ብለህ ነው > አለውና\\nኮርቻው ላይ ከክተመቻቸ በሁዋላ ። «መሬት እንማዲህ የባለቤቱ ሆናለች ።\\nለምን እርሻ አትጀምርም ?» ብሎ ጠየቀው ። |\\n\\nአይናለም ከኮርቻው ጋር የተጠፈረች ነበር የምትመስለው « ባቀማ\\nመጥዋ ቀናባት ። አንዴም ወደ ሁዋላ ገልመጥ አትልም ። ዝም ብላ ፊት\\nለፊት ነበር የምትመለከተው ። ፡\\n\\n«አዬ ጌታዬ ምኑ ተይዞ» አለ መርዳሳ ፥ «ባለ መሬቶች ከሻዛሬ ነገ\\nይመለሳሉ እያሉ ያስወራሉ ። እኛ ጋ ያሉት ዝማቾች አዋጁ አለ ጊዜው\\nነው የታወጀው ፤ የመሬት ከበርቴዎች ትጥቃቸውን ሳይፈቱ ድሀው ገበሬ\\nተዶራጅቶ ሳይታጠቅ አዋጁን ማውጣት ድሀውን ለማስፈጀት ካልሆነ\\nዋጋ የለም ይሉናል ። ገና ነገሩ አልገባንም» አለው ።\\n\\nሀዲስ አሁንም ኮርቻው ላይ እየ ተመቻቸ ፥ «አይምሰልህ #“መብትሀ\\nያውልህ...እወቅበት ካልተባለ ድሀው ገበሬ ምን ይዞ ይደራጃል ? ኣላ\\nማውና ስልቱ ያልገባቸው ሰዎች ናቸው ያለ ጊዜው የታወጀ አዋጅ ነው\\nኖሚሉት ። አዋጁን አውጆ መሞትም ራሱ ታላቅ ስራ ነው» እያለው ሲ\\nዋዙ0* ከገባ ወንዝ ድልድይ ላይ ደረሱ።”ሀዲስ የበቅሎውን ሉጉዋም 7ፖ\\nአደረገ ። አይናለምም በቅሎዋን ቆም አደረገች ።\\n'},\n",
       " {'page_number': 324,\n",
       "  'text': 'በ. ር\\nጨፉ፤ወረወራል #ኖገባ ወንዝ እየ ጋለበ ይወርዳል። ወዴ ሌላው ቺዷል፤\\n፰፰ዝ፩፩ወዶ እማይሞላው- ባህር--ዝንተ አለም ወዶማይሞላው ውቅያኖስ «\\nንዳፍታ የሰሙ ልጅ ሀይወት ታሪክ በ“ሂወርዶደው ወንዝ ላይ ተፅፎ\\nሓበበው ፆ ፀሀይ ትወጣለች ትጠልቃለች ። ትውልድ ያልፋል ትውልድም\\n\\'ተካል ። የሶው ልጅ ሀይወት ታሪክ ግን ይቀጥላል ። የሰው ልጅ በነፃ\\nአ በእኩልነትና በሰላም ለመኖር የሚያደርገው ተጋድሎ በከንቱ ሊሆን\\nዷይችልም ። አለበለዚያ የትግሉ አላማና ትርጉም ምንድን ነው?የለም ።\\nሀህይወት ምን ጊዜም ቢሆን ክከንቱ አይደለችም--አለ ባሳቡ ፥ እፊቱ እየተ\\nዘረጋ የሚሄዴውን የገባን ወንዝ እየ ተመለከተ ።\\n\\n«አለምዬ አይዞሽ ። ህይወትን ያለ ድፍረትና ያለ ተስፋ አያኖሩትም ።\\nቁንሂድ ፥ ወደፊት እንሂድ\" ይላል ወንዙ» አላት ።\\n\\nእና ፤ ድልድዬን ተሻገሩ...\\n'},\n",
       " {'page_number': 325,\n",
       "  'text': 'ለክፀቀመሉዙበቦደሪሱደስጡትሪጀዎ ቅልጥሙን አመሰገነ ።\\n\\n- በስንት ደጅ ጥናት ያገኘው ቀጠሮ ነበር፡፡\\n\\nርመአለሀፃዐዐጪጠቾውጩሙ፡ ፤\\n\\n. - ሸዋ ያውዳል፡፡ ጡቶችዋ ጠሳት ሳይ የተደገኑ ሮኬቶች ይመስላሉ፡\\nቁደልቴ›› ጥቁር ሹራብ ለብሳለች፡፡ የልብ ቅርጽ ያለው ያንገት ጌጥዋ ስጠቶችዋ -\\nመሃል ተሸጉጦ ይታያል፡፡ ቶሎ ብሎ አይኑን ከጡቶችዋ ላይ ነቀለ፡፡ ፈገግ አለች፡\\nትክስየተሸፅቀቀሙእሸቶሙንዢሶቹፃሙትናዘአዖዝቃጠሮ\\nጓ ጸ ፲ ፲\\n\\n“ ጠብቅ ይመጣሉ›› አለቾው የእጅ ቦርሳዋን እየከፈተች፡፡\\n\\nረጃጅም እግሮችዋ በጠረጴዛው ስር ይታያሉ። ቀይ ቀለም የተቀቡት አውራ\\n\\nጣቶችዋ የሚያሾፉበት መሰለው፡፡ እንደገና ዓይን ለዓይን ተጋጩ፡።\\n\\nዋጋ 200 ብር\\n\\nበማንኩሳ ማተሚያ ቤት ታተመ\\n43117:፳.1)1፡..... ሁለት መቶ ብር ብቻ\\n'}]"
      ]
     },
     "execution_count": 10,
     "metadata": {},
     "output_type": "execute_result"
    }
   ],
   "source": [
    "import json\n",
    "\n",
    "with open(f'D:/Spot The Bot Data/Amharic/txt_files/7_B/ሀዲስ-በአሉ-ግርማ.pdf.txt', 'r', encoding='utf-8') as f:\n",
    "    content = json.load(f)\n",
    "content"
   ]
  },
  {
   "cell_type": "code",
   "execution_count": null,
   "id": "66d9b10d",
   "metadata": {},
   "outputs": [],
   "source": []
  }
 ],
 "metadata": {
  "kernelspec": {
   "display_name": "Python 3 (ipykernel)",
   "language": "python",
   "name": "python3"
  },
  "language_info": {
   "codemirror_mode": {
    "name": "ipython",
    "version": 3
   },
   "file_extension": ".py",
   "mimetype": "text/x-python",
   "name": "python",
   "nbconvert_exporter": "python",
   "pygments_lexer": "ipython3",
   "version": "3.9.12"
  }
 },
 "nbformat": 4,
 "nbformat_minor": 5
}
