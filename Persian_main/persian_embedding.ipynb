{
  "cells": [
    {
      "cell_type": "code",
      "execution_count": null,
      "metadata": {
        "colab": {
          "base_uri": "https://localhost:8080/"
        },
        "id": "UbfgrKUTdzTB",
        "outputId": "377ae1ec-3dd0-47b0-dccc-af813e47db37"
      },
      "outputs": [
        {
          "output_type": "stream",
          "name": "stdout",
          "text": [
            "Looking in indexes: https://pypi.org/simple, https://us-python.pkg.dev/colab-wheels/public/simple/\n",
            "Requirement already satisfied: hazm in /usr/local/lib/python3.10/dist-packages (0.7.0)\n",
            "Requirement already satisfied: nltk==3.3 in /usr/local/lib/python3.10/dist-packages (from hazm) (3.3)\n",
            "Requirement already satisfied: libwapiti>=0.2.1 in /usr/local/lib/python3.10/dist-packages (from hazm) (0.2.1)\n",
            "Requirement already satisfied: six in /usr/local/lib/python3.10/dist-packages (from nltk==3.3->hazm) (1.16.0)\n"
          ]
        }
      ],
      "source": [
        "!pip install hazm"
      ]
    },
    {
      "cell_type": "code",
      "execution_count": null,
      "metadata": {
        "id": "GUAswexxWBei"
      },
      "outputs": [],
      "source": [
        "import numpy as np\n",
        "from hazm import  word_tokenize\n",
        "\n",
        "from sklearn.feature_extraction.text import TfidfVectorizer\n",
        "from scipy.sparse.linalg import svds\n",
        "\n",
        "import random\n",
        "\n",
        "from IPython.display import clear_output\n",
        "from tqdm.notebook import tqdm\n",
        "from hazm import word_tokenize, Normalizer"
      ]
    },
    {
      "cell_type": "code",
      "execution_count": null,
      "metadata": {
        "id": "qgVK4wJvWLPq"
      },
      "outputs": [],
      "source": [
        "class Vectorizer():\n",
        "    def __init__(self, corp_path):\n",
        "        self.corp_path = corp_path\n",
        "        self.normalizer = Normalizer()\n",
        "    \n",
        "    def upload_corp(self):\n",
        "        with open(self.corp_path, 'r', encoding='utf-8') as f:\n",
        "            self.corp = list(set(f.read().split('\\n')))\n",
        "        \n",
        "        tokenized_corp = []\n",
        "        for text in self.corp:\n",
        "            normalized_text = self.normalizer.normalize(text)\n",
        "            tokens = word_tokenize(normalized_text)\n",
        "            split_tokens = []\n",
        "            for token in tokens:\n",
        "                if ' ' in token:\n",
        "                    split_tokens.extend(token.split(' '))\n",
        "                else:\n",
        "                    split_tokens.append(token)\n",
        "            tokenized_corp.append(' '.join(split_tokens))\n",
        "        \n",
        "        self.corp = tokenized_corp\n",
        "    \n",
        "    \n",
        "    def log(self, part):\n",
        "        clear_output(wait=True)\n",
        "        print(f'{part} is processing')\n",
        "        \n",
        "    def make_tf_idf_matrix(self, token_pattern=None):\n",
        "        if token_pattern:\n",
        "            self.tfidf = TfidfVectorizer(token_pattern=token_pattern)\n",
        "        else:\n",
        "            self.tfidf = TfidfVectorizer()\n",
        "            \n",
        "        self.A = self.tfidf.fit_transform(self.corp)\n",
        "        self.feature_list = self.tfidf.get_feature_names_out()\n",
        "        \n",
        "    def make_svd(self, n=30):\n",
        "        self.u, self.sigma, self.vT = svds(self.A, n)\n",
        "        self.singular_indicies = np.argsort(-self.sigma)\n",
        "        \n",
        "        self.u = self.u[:, self.singular_indicies]\n",
        "        self.sigma = np.diag(self.sigma[self.singular_indicies])\n",
        "        self.vT = self.vT[self.singular_indicies, :]\n",
        "        \n",
        "        self.embedded_matrix = self.sigma@self.vT\n",
        "        \n",
        "        self.words_embedding_dict = dict(zip(self.feature_list, self.embedded_matrix.T))\n",
        "    \n",
        "    def get_emb_dict(self):\n",
        "        \n",
        "        self.log('Upload')\n",
        "        self.upload_corp()\n",
        "        self.log('TfIdf')\n",
        "        self.make_tf_idf_matrix()\n",
        "        self.log('SVD')\n",
        "        self.make_svd(n=20)\n",
        "        \n",
        "        return self.words_embedding_dict"
      ]
    },
    {
      "cell_type": "code",
      "execution_count": null,
      "metadata": {
        "colab": {
          "base_uri": "https://localhost:8080/"
        },
        "id": "jWlBJl66WjjK",
        "outputId": "652e9348-829f-4bc0-85c2-c7587ce4c22d"
      },
      "outputs": [
        {
          "output_type": "stream",
          "name": "stdout",
          "text": [
            "SVD is processing\n"
          ]
        }
      ],
      "source": [
        "vect = Vectorizer('/content/persian_cleaned_corpus.txt')\n",
        "emb_dict = vect.get_emb_dict()\n"
      ]
    },
    {
      "cell_type": "code",
      "execution_count": null,
      "metadata": {
        "colab": {
          "base_uri": "https://localhost:8080/"
        },
        "id": "jCg5_A2rZQW1",
        "outputId": "2f618fae-6e03-486b-e6f6-1a02de38e4e4"
      },
      "outputs": [
        {
          "output_type": "stream",
          "name": "stdout",
          "text": [
            "یکارگران: [-0.0001 -0.0002  0.0003 -0.0001  0.     -0.      0.      0.     -0.0001\n",
            "  0.0001 -0.      0.0001 -0.      0.     -0.     -0.      0.      0.\n",
            "  0.      0.    ]\n",
            "ازموادذ: [-0.      0.     -0.     -0.0001  0.      0.     -0.     -0.     -0.0001\n",
            " -0.      0.      0.     -0.     -0.0001 -0.     -0.0001  0.      0.\n",
            "  0.     -0.    ]\n",
            "نیستشبیه: [-0.      0.     -0.      0.     -0.      0.     -0.      0.0001  0.\n",
            "  0.     -0.0001 -0.     -0.     -0.     -0.      0.      0.      0.\n",
            " -0.      0.    ]\n",
            "کمرگیر: [-0.0001  0.0001 -0.     -0.      0.     -0.0002 -0.0001  0.      0.0001\n",
            "  0.      0.0001 -0.0002 -0.0003  0.0002 -0.      0.0001  0.0001  0.0002\n",
            "  0.0001 -0.    ]\n",
            "سباسه: [-0.0002 -0.0001 -0.0001 -0.0002 -0.0001 -0.0002  0.0001  0.0001  0.0005\n",
            "  0.0002  0.0004 -0.0006 -0.0001 -0.0001 -0.0002 -0.0004 -0.0002 -0.0003\n",
            "  0.0001  0.0004]\n",
            "بخشیدوفر: [-0.0001  0.      0.0001  0.0002  0.     -0.     -0.0004 -0.     -0.0002\n",
            " -0.     -0.0001  0.0001 -0.      0.      0.0002 -0.0001 -0.0001 -0.0002\n",
            "  0.0003 -0.0001]\n",
            "پرستش: [-0.009  -0.0006 -0.0054 -0.0053  0.0002  0.0033 -0.0064 -0.0026 -0.006\n",
            " -0.0015 -0.0031  0.0006  0.0013  0.0036 -0.0017 -0.0026 -0.0005  0.\n",
            " -0.0004  0.0108]\n",
            "زیستشذاس: [-0. -0. -0. -0. -0.  0. -0. -0.  0.  0.  0. -0.  0.  0. -0.  0.  0. -0.\n",
            " -0.  0.]\n",
            "واضطرار: [-0.0007  0.0001  0.0002  0.0001  0.      0.0012  0.0001 -0.0003 -0.0001\n",
            " -0.0001  0.0004  0.0001 -0.0001 -0.0003  0.0003  0.0003 -0.0002 -0.\n",
            "  0.0001  0.0002]\n",
            "تکرنون: [-0.0001  0.     -0.0001 -0.0001  0.      0.     -0.      0.     -0.0001\n",
            "  0.     -0.      0.      0.      0.0001 -0.      0.0001 -0.      0.\n",
            " -0.      0.0001]\n"
          ]
        },
        {
          "output_type": "stream",
          "name": "stderr",
          "text": [
            "<ipython-input-58-2fc0304fd746>:2: DeprecationWarning: Sampling from a set deprecated\n",
            "since Python 3.9 and will be removed in a subsequent version.\n",
            "  keys = random.sample(emb_dict.keys(), 10)\n"
          ]
        }
      ],
      "source": [
        "# Select 10 random keys from the embedding dictionary\n",
        "keys = random.sample(emb_dict.keys(), 10)\n",
        "\n",
        "# Print the embeddings of the selected keys, rounded to 4 decimal places\n",
        "for k in keys:\n",
        "    print(f'{k}: {emb_dict[k].round(4)}')"
      ]
    },
    {
      "cell_type": "code",
      "execution_count": null,
      "metadata": {
        "colab": {
          "base_uri": "https://localhost:8080/",
          "height": 554
        },
        "id": "xIzfSds03ihi",
        "outputId": "558d0228-7a07-4caf-998e-42cc2b46a3e0"
      },
      "outputs": [
        {
          "output_type": "display_data",
          "data": {
            "text/plain": [
              "<Figure size 1000x700 with 1 Axes>"
            ],
            "image/png": "[encoded data removed]"
          },
          "metadata": {}
        }
      ],
      "source": [
        "import matplotlib.pyplot as plt\n",
        "s = np.diag(vect.sigma)\n",
        "\n",
        "#print (vect.sigma)\n",
        "plt.figure(figsize=(10, 7))\n",
        "plt.plot(s, label='Singular values')\n",
        "plt.grid()\n",
        "plt.legend()\n",
        "plt.yticks(range(0, 10))\n",
        "plt.show()"
      ]
    },
    {
      "cell_type": "code",
      "execution_count": null,
      "metadata": {
        "id": "_SaWkfzy2a0q"
      },
      "outputs": [],
      "source": [
        "import json\n",
        "import numpy as np\n",
        "\n",
        "# Convert numpy arrays to lists in the emb_dict dictionary\n",
        "emb_dict = {k: emb_dict[k].tolist() for k in emb_dict}\n",
        "\n",
        "# Save the emb_dict dictionary to a file\n",
        "with open('emb_dict.json', 'w') as f:\n",
        "    json.dump(emb_dict, f)"
      ]
    }
  ],
  "metadata": {
    "colab": {
      "provenance": []
    },
    "kernelspec": {
      "display_name": "Python 3",
      "name": "python3"
    },
    "language_info": {
      "name": "python"
    }
  },
  "nbformat": 4,
  "nbformat_minor": 0
}