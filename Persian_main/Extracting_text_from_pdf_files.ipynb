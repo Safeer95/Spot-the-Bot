{
 "cells": [
  {
   "cell_type": "code",
   "execution_count": null,
   "id": "9e945f02",
   "metadata": {},
   "outputs": [],
   "source": [
    "# !pip install pytesseract\n",
    "# !pip install tqdm\n",
    "# !pip install pdf2image\n",
    "# !pip install pytesseract\n",
    "# !pip install Pillow"
   ]
  },
  {
   "cell_type": "code",
   "execution_count": 1,
   "id": "b5775539",
   "metadata": {},
   "outputs": [],
   "source": [
    "# imports\n",
    "import cv2\n",
    "import pytesseract\n",
    "from tqdm import tqdm\n",
    "from pdf2image import convert_from_path\n",
    "from PIL import Image\n",
    "from docx import Document\n",
    "from docx.enum.text import WD_ALIGN_PARAGRAPH\n",
    "from docx.shared import Inches\n",
    "from docx.shared import Pt\n",
    "import os\n",
    "import tempfile"
   ]
  },
  {
   "cell_type": "code",
   "execution_count": 2,
   "id": "efdf6f1c",
   "metadata": {},
   "outputs": [],
   "source": [
    "\n",
    "pytesseract.pytesseract.tesseract_cmd = r'C:\\Program Files\\Tesseract-OCR\\tesseract.exe'\n",
    "\n",
    "def pdf_to_word(pdf_path, output_dir, lang='fas', **kwargs):\n",
    "    \"\"\" \n",
    "    A way to use google-tesseract ocr for extracting \n",
    "    texts from pdf file.\n",
    "    \n",
    "    Args:\n",
    "        pdf_path (str): PDF file path.\n",
    "        output_dir (str): Output directory.\n",
    "        lang (str): tesseract language support.\n",
    "    \"\"\"\n",
    "    \n",
    "    pdf_name = os.path.splitext(os.path.basename(pdf_path))[0]\n",
    "    pages = convert_from_path(pdf_path, **kwargs)\n",
    "    texts = []\n",
    "    \n",
    "    print(f'PDF is preparing to convert into document [#{len(pages)} pages]')\n",
    "    for i, page in tqdm(enumerate(pages), position=0):\n",
    "        \n",
    "        with tempfile.TemporaryDirectory() as img_dir:\n",
    "            img_name = f'{pdf_name}-{i+1}.jpg'\n",
    "            img_path = os.path.join(img_dir, img_name)\n",
    "            \n",
    "            page.save(img_path, 'JPEG')\n",
    "            text = pytesseract.image_to_string(Image.open(img_path), lang=lang)\n",
    "            texts.append(text)\n",
    "    \n",
    "    document = Document()\n",
    "    style_normal = document.styles['Normal']\n",
    "    font = style_normal.font\n",
    "    font.name = 'Arial'\n",
    "    font.rtl = True\n",
    "    \n",
    "    style_h1 = document.styles['Heading 1']\n",
    "    font = style_h1.font\n",
    "    font.name = 'Arial'\n",
    "    font.rtl = True\n",
    "    \n",
    "    for i, text in tqdm(enumerate(texts), position=0):\n",
    "        heading = document.add_heading(f'صفحه: {i+1}', level=1)\n",
    "        heading.alignment = WD_ALIGN_PARAGRAPH.RIGHT\n",
    "        heading.style = document.styles['Heading 1']\n",
    "        \n",
    "        paragraph = document.add_paragraph(text)\n",
    "        paragraph.alignment = WD_ALIGN_PARAGRAPH.RIGHT\n",
    "        paragraph.style = document.styles['Normal']\n",
    "    \n",
    "    output_path = os.path.join(output_dir, f'{pdf_name}.docx')\n",
    "    document.save(output_path)\n",
    "    print(f'Done! Your document can be found here \"{output_path}\"')"
   ]
  },
  {
   "cell_type": "code",
   "execution_count": 3,
   "id": "c2cb8d3c",
   "metadata": {},
   "outputs": [],
   "source": [
    "# pdf_dir = 'D:/Spot The Bot Data/9'\n",
    "# word_dir = 'D:/Spot The Bot Data/Word files/9'\n",
    "\n",
    "\n",
    "\n",
    "# for pdf_file in os.listdir(pdf_dir)[159:]: \n",
    "#     if pdf_file.endswith('.pdf') or pdf_file.endswith('.PDF'):\n",
    "#         pdf_path = os.path.join(pdf_dir, pdf_file)\n",
    "#         output_dir = word_dir\n",
    "#         pdf_to_word(pdf_path, output_dir)"
   ]
  },
  {
   "cell_type": "code",
   "execution_count": 4,
   "id": "bc395525",
   "metadata": {},
   "outputs": [
    {
     "name": "stdout",
     "output_type": "stream",
     "text": [
      "PDF is preparing to convert into document [#238 pages]\n"
     ]
    },
    {
     "name": "stderr",
     "output_type": "stream",
     "text": [
      "238it [07:51,  1.98s/it]\n",
      "238it [00:01, 236.48it/s]\n"
     ]
    },
    {
     "name": "stdout",
     "output_type": "stream",
     "text": [
      "Done! Your document can be found here \"D:/Spot The Bot Data/Word files/10\\سيرت جلال_الدين خوارزمشاه منكُبرنی.docx\"\n",
      "PDF is preparing to convert into document [#126 pages]\n"
     ]
    },
    {
     "name": "stderr",
     "output_type": "stream",
     "text": [
      "126it [03:52,  1.84s/it]\n",
      "126it [00:00, 224.91it/s]\n"
     ]
    },
    {
     "name": "stdout",
     "output_type": "stream",
     "text": [
      "Done! Your document can be found here \"D:/Spot The Bot Data/Word files/10\\سپتامبر بی_باران.docx\"\n",
      "PDF is preparing to convert into document [#225 pages]\n"
     ]
    },
    {
     "name": "stderr",
     "output_type": "stream",
     "text": [
      "225it [07:10,  1.91s/it]\n",
      "225it [00:00, 262.86it/s]\n"
     ]
    },
    {
     "name": "stdout",
     "output_type": "stream",
     "text": [
      "Done! Your document can be found here \"D:/Spot The Bot Data/Word files/10\\سپید.docx\"\n",
      "PDF is preparing to convert into document [#194 pages]\n"
     ]
    },
    {
     "name": "stderr",
     "output_type": "stream",
     "text": [
      "194it [04:35,  1.42s/it]\n",
      "194it [00:00, 288.34it/s]\n"
     ]
    },
    {
     "name": "stdout",
     "output_type": "stream",
     "text": [
      "Done! Your document can be found here \"D:/Spot The Bot Data/Word files/10\\سیاست1111.docx\"\n",
      "PDF is preparing to convert into document [#70 pages]\n"
     ]
    },
    {
     "name": "stderr",
     "output_type": "stream",
     "text": [
      "70it [00:56,  1.25it/s]\n",
      "70it [00:00, 294.71it/s]\n"
     ]
    },
    {
     "name": "stdout",
     "output_type": "stream",
     "text": [
      "Done! Your document can be found here \"D:/Spot The Bot Data/Word files/10\\سیاه_نامه مقدس.docx\"\n",
      "PDF is preparing to convert into document [#73 pages]\n"
     ]
    },
    {
     "name": "stderr",
     "output_type": "stream",
     "text": [
      "73it [01:27,  1.20s/it]\n",
      "73it [00:00, 264.68it/s]\n"
     ]
    },
    {
     "name": "stdout",
     "output_type": "stream",
     "text": [
      "Done! Your document can be found here \"D:/Spot The Bot Data/Word files/10\\شازده.docx\"\n",
      "PDF is preparing to convert into document [#591 pages]\n"
     ]
    },
    {
     "name": "stderr",
     "output_type": "stream",
     "text": [
      "591it [13:09,  1.34s/it]\n",
      "591it [00:04, 132.12it/s]\n"
     ]
    },
    {
     "name": "stdout",
     "output_type": "stream",
     "text": [
      "Done! Your document can be found here \"D:/Spot The Bot Data/Word files/10\\شاه-عباس-اثر-منوچهر-مطیعی.docx\"\n",
      "PDF is preparing to convert into document [#16 pages]\n"
     ]
    },
    {
     "name": "stderr",
     "output_type": "stream",
     "text": [
      "16it [00:31,  1.97s/it]\n",
      "16it [00:00, 163.46it/s]\n"
     ]
    },
    {
     "name": "stdout",
     "output_type": "stream",
     "text": [
      "Done! Your document can be found here \"D:/Spot The Bot Data/Word files/10\\شخصيت عيسي مسيح در متون مانوي.docx\"\n",
      "PDF is preparing to convert into document [#31 pages]\n"
     ]
    },
    {
     "name": "stderr",
     "output_type": "stream",
     "text": [
      "31it [00:21,  1.45it/s]\n",
      "31it [00:00, 314.05it/s]\n"
     ]
    },
    {
     "name": "stdout",
     "output_type": "stream",
     "text": [
      "Done! Your document can be found here \"D:/Spot The Bot Data/Word files/10\\شخصیت_شناسی به زبان ساده.docx\"\n",
      "PDF is preparing to convert into document [#106 pages]\n"
     ]
    },
    {
     "name": "stderr",
     "output_type": "stream",
     "text": [
      "106it [02:59,  1.69s/it]\n",
      "106it [00:00, 245.14it/s]\n"
     ]
    },
    {
     "name": "stdout",
     "output_type": "stream",
     "text": [
      "Done! Your document can be found here \"D:/Spot The Bot Data/Word files/10\\شرح-زمانی-رویداد-های-مهم-سیاسی-افغانستان.docx\"\n",
      "PDF is preparing to convert into document [#500 pages]\n"
     ]
    },
    {
     "name": "stderr",
     "output_type": "stream",
     "text": [
      "500it [15:34,  1.87s/it]\n",
      "500it [00:02, 240.07it/s]\n"
     ]
    },
    {
     "name": "stdout",
     "output_type": "stream",
     "text": [
      "Done! Your document can be found here \"D:/Spot The Bot Data/Word files/10\\شناخت و سنجش مارکسیسم.docx\"\n",
      "PDF is preparing to convert into document [#257 pages]\n"
     ]
    },
    {
     "name": "stderr",
     "output_type": "stream",
     "text": [
      "257it [05:32,  1.30s/it]\n",
      "257it [00:01, 237.31it/s]\n"
     ]
    },
    {
     "name": "stdout",
     "output_type": "stream",
     "text": [
      "Done! Your document can be found here \"D:/Spot The Bot Data/Word files/10\\شناخت-اساطیر-یونان-اثر-جان-پین-سنت-.docx\"\n",
      "PDF is preparing to convert into document [#11 pages]\n"
     ]
    },
    {
     "name": "stderr",
     "output_type": "stream",
     "text": [
      "11it [00:24,  2.22s/it]\n",
      "11it [00:00, 299.96it/s]\n"
     ]
    },
    {
     "name": "stdout",
     "output_type": "stream",
     "text": [
      "Done! Your document can be found here \"D:/Spot The Bot Data/Word files/10\\شهرستان_هاي ايران.docx\"\n",
      "PDF is preparing to convert into document [#85 pages]\n"
     ]
    },
    {
     "name": "stderr",
     "output_type": "stream",
     "text": [
      "85it [01:03,  1.33it/s]\n",
      "85it [00:00, 326.03it/s]\n"
     ]
    },
    {
     "name": "stdout",
     "output_type": "stream",
     "text": [
      "Done! Your document can be found here \"D:/Spot The Bot Data/Word files/10\\شهرياران طبرستان.docx\"\n",
      "PDF is preparing to convert into document [#148 pages]\n"
     ]
    },
    {
     "name": "stderr",
     "output_type": "stream",
     "text": [
      "148it [03:39,  1.48s/it]\n",
      "148it [00:00, 290.62it/s]\n"
     ]
    },
    {
     "name": "stdout",
     "output_type": "stream",
     "text": [
      "Done! Your document can be found here \"D:/Spot The Bot Data/Word files/10\\شهریار - ماکیاولی.docx\"\n",
      "PDF is preparing to convert into document [#39 pages]\n"
     ]
    },
    {
     "name": "stderr",
     "output_type": "stream",
     "text": [
      "39it [00:56,  1.45s/it]\n",
      "39it [00:00, 283.63it/s]\n"
     ]
    },
    {
     "name": "stdout",
     "output_type": "stream",
     "text": [
      "Done! Your document can be found here \"D:/Spot The Bot Data/Word files/10\\شيخ صفي و تبارش.docx\"\n",
      "PDF is preparing to convert into document [#97 pages]\n"
     ]
    },
    {
     "name": "stderr",
     "output_type": "stream",
     "text": [
      "97it [03:39,  2.26s/it]\n",
      "97it [00:00, 130.21it/s]\n"
     ]
    },
    {
     "name": "stdout",
     "output_type": "stream",
     "text": [
      "Done! Your document can be found here \"D:/Spot The Bot Data/Word files/10\\صد در نثر و سد در بندهش.docx\"\n",
      "PDF is preparing to convert into document [#81 pages]\n"
     ]
    },
    {
     "name": "stderr",
     "output_type": "stream",
     "text": [
      "81it [00:48,  1.68it/s]\n",
      "81it [00:00, 336.31it/s]\n"
     ]
    },
    {
     "name": "stdout",
     "output_type": "stream",
     "text": [
      "Done! Your document can be found here \"D:/Spot The Bot Data/Word files/10\\صمد بهرنگی؛ با موج_های ارس به دریا پیوست....docx\"\n",
      "PDF is preparing to convert into document [#24 pages]\n"
     ]
    },
    {
     "name": "stderr",
     "output_type": "stream",
     "text": [
      "24it [00:23,  1.03it/s]\n",
      "24it [00:00, 325.42it/s]\n"
     ]
    },
    {
     "name": "stdout",
     "output_type": "stream",
     "text": [
      "Done! Your document can be found here \"D:/Spot The Bot Data/Word files/10\\صنعان.docx\"\n",
      "PDF is preparing to convert into document [#95 pages]\n"
     ]
    },
    {
     "name": "stderr",
     "output_type": "stream",
     "text": [
      "95it [02:18,  1.46s/it]\n",
      "95it [00:00, 257.36it/s]\n"
     ]
    },
    {
     "name": "stdout",
     "output_type": "stream",
     "text": [
      "Done! Your document can be found here \"D:/Spot The Bot Data/Word files/10\\ضمیر پنهان.docx\"\n",
      "PDF is preparing to convert into document [#81 pages]\n"
     ]
    },
    {
     "name": "stderr",
     "output_type": "stream",
     "text": [
      "81it [01:34,  1.16s/it]\n",
      "81it [00:00, 251.43it/s]\n"
     ]
    },
    {
     "name": "stdout",
     "output_type": "stream",
     "text": [
      "Done! Your document can be found here \"D:/Spot The Bot Data/Word files/10\\ظهور تيمور.docx\"\n",
      "PDF is preparing to convert into document [#508 pages]\n"
     ]
    },
    {
     "name": "stderr",
     "output_type": "stream",
     "text": [
      "508it [08:35,  1.01s/it]\n",
      "508it [00:01, 316.93it/s]\n"
     ]
    },
    {
     "name": "stdout",
     "output_type": "stream",
     "text": [
      "Done! Your document can be found here \"D:/Spot The Bot Data/Word files/10\\ظهور و سقوط اتحاد جماهیر شوروی.docx\"\n",
      "PDF is preparing to convert into document [#245 pages]\n"
     ]
    },
    {
     "name": "stderr",
     "output_type": "stream",
     "text": [
      "245it [04:41,  1.15s/it]\n",
      "245it [00:00, 277.91it/s]\n"
     ]
    },
    {
     "name": "stdout",
     "output_type": "stream",
     "text": [
      "Done! Your document can be found here \"D:/Spot The Bot Data/Word files/10\\ظهور و سقوط مدرن.docx\"\n",
      "PDF is preparing to convert into document [#738 pages]\n"
     ]
    },
    {
     "name": "stderr",
     "output_type": "stream",
     "text": [
      "738it [13:14,  1.08s/it]\n",
      "738it [00:02, 251.15it/s]\n"
     ]
    },
    {
     "name": "stdout",
     "output_type": "stream",
     "text": [
      "Done! Your document can be found here \"D:/Spot The Bot Data/Word files/10\\عالم آرای صفوی.docx\"\n",
      "PDF is preparing to convert into document [#16 pages]\n"
     ]
    },
    {
     "name": "stderr",
     "output_type": "stream",
     "text": [
      "16it [00:14,  1.12it/s]\n",
      "16it [00:00, 295.80it/s]\n"
     ]
    },
    {
     "name": "stdout",
     "output_type": "stream",
     "text": [
      "Done! Your document can be found here \"D:/Spot The Bot Data/Word files/10\\عشق و شور زندگی.docx\"\n",
      "PDF is preparing to convert into document [#13 pages]\n"
     ]
    },
    {
     "name": "stderr",
     "output_type": "stream",
     "text": [
      "13it [00:19,  1.52s/it]\n",
      "13it [00:00, 200.95it/s]\n"
     ]
    },
    {
     "name": "stdout",
     "output_type": "stream",
     "text": [
      "Done! Your document can be found here \"D:/Spot The Bot Data/Word files/10\\عهدنامه گلستان.docx\"\n",
      "PDF is preparing to convert into document [#136 pages]\n"
     ]
    },
    {
     "name": "stderr",
     "output_type": "stream",
     "text": [
      "136it [05:25,  2.39s/it]\n",
      "136it [00:00, 234.09it/s]\n"
     ]
    },
    {
     "name": "stdout",
     "output_type": "stream",
     "text": [
      "Done! Your document can be found here \"D:/Spot The Bot Data/Word files/10\\عوارف المعارف_.docx\"\n",
      "PDF is preparing to convert into document [#304 pages]\n"
     ]
    },
    {
     "name": "stderr",
     "output_type": "stream",
     "text": [
      "304it [12:22,  2.44s/it]\n",
      "304it [00:01, 212.39it/s]\n"
     ]
    },
    {
     "name": "stdout",
     "output_type": "stream",
     "text": [
      "Done! Your document can be found here \"D:/Spot The Bot Data/Word files/10\\فتوح_البلدان (بلاذري).docx\"\n",
      "PDF is preparing to convert into document [#225 pages]\n"
     ]
    },
    {
     "name": "stderr",
     "output_type": "stream",
     "text": [
      "225it [05:05,  1.36s/it]\n",
      "225it [00:00, 243.53it/s]\n"
     ]
    },
    {
     "name": "stdout",
     "output_type": "stream",
     "text": [
      "Done! Your document can be found here \"D:/Spot The Bot Data/Word files/10\\فقر فلسفه.docx\"\n",
      "PDF is preparing to convert into document [#86 pages]\n"
     ]
    },
    {
     "name": "stderr",
     "output_type": "stream",
     "text": [
      "86it [02:25,  1.69s/it]\n",
      "86it [00:00, 226.36it/s]\n"
     ]
    },
    {
     "name": "stdout",
     "output_type": "stream",
     "text": [
      "Done! Your document can be found here \"D:/Spot The Bot Data/Word files/10\\فلسفه فلوطین.docx\"\n",
      "PDF is preparing to convert into document [#100 pages]\n"
     ]
    },
    {
     "name": "stderr",
     "output_type": "stream",
     "text": [
      "100it [01:42,  1.02s/it]\n",
      "100it [00:00, 266.98it/s]\n"
     ]
    },
    {
     "name": "stdout",
     "output_type": "stream",
     "text": [
      "Done! Your document can be found here \"D:/Spot The Bot Data/Word files/10\\فلسفه فیزیک.docx\"\n",
      "PDF is preparing to convert into document [#126 pages]\n"
     ]
    },
    {
     "name": "stderr",
     "output_type": "stream",
     "text": [
      "126it [04:02,  1.93s/it]\n",
      "126it [00:00, 249.99it/s]\n"
     ]
    },
    {
     "name": "stdout",
     "output_type": "stream",
     "text": [
      "Done! Your document can be found here \"D:/Spot The Bot Data/Word files/10\\فلسفه و کلام اسلامی.docx\"\n",
      "PDF is preparing to convert into document [#101 pages]\n"
     ]
    },
    {
     "name": "stderr",
     "output_type": "stream",
     "text": [
      "101it [03:46,  2.24s/it]\n",
      "101it [00:00, 243.88it/s]\n"
     ]
    },
    {
     "name": "stdout",
     "output_type": "stream",
     "text": [
      "Done! Your document can be found here \"D:/Spot The Bot Data/Word files/10\\فیه ما فیه.docx\"\n",
      "PDF is preparing to convert into document [#137 pages]\n"
     ]
    },
    {
     "name": "stderr",
     "output_type": "stream",
     "text": [
      "137it [02:40,  1.17s/it]\n",
      "137it [00:00, 289.30it/s]\n"
     ]
    },
    {
     "name": "stdout",
     "output_type": "stream",
     "text": [
      "Done! Your document can be found here \"D:/Spot The Bot Data/Word files/10\\قلعه حيوانات.docx\"\n",
      "PDF is preparing to convert into document [#100 pages]\n"
     ]
    },
    {
     "name": "stderr",
     "output_type": "stream",
     "text": [
      "100it [02:01,  1.22s/it]\n",
      "100it [00:00, 259.31it/s]\n"
     ]
    },
    {
     "name": "stdout",
     "output_type": "stream",
     "text": [
      "Done! Your document can be found here \"D:/Spot The Bot Data/Word files/10\\قلعه کارپاتها.docx\"\n",
      "PDF is preparing to convert into document [#540 pages]\n"
     ]
    },
    {
     "name": "stderr",
     "output_type": "stream",
     "text": [
      "540it [14:14,  1.58s/it]\n",
      "540it [00:02, 236.30it/s]\n"
     ]
    },
    {
     "name": "stdout",
     "output_type": "stream",
     "text": [
      "Done! Your document can be found here \"D:/Spot The Bot Data/Word files/10\\قلندریه-در-تاریخ-اثر-محمدرضا-شفیعی-کدکنی-.docx\"\n",
      "PDF is preparing to convert into document [#341 pages]\n"
     ]
    },
    {
     "name": "stderr",
     "output_type": "stream",
     "text": [
      "341it [06:04,  1.07s/it]\n",
      "341it [00:01, 260.28it/s]\n"
     ]
    },
    {
     "name": "stdout",
     "output_type": "stream",
     "text": [
      "Done! Your document can be found here \"D:/Spot The Bot Data/Word files/10\\قوم از ياد رفته.docx\"\n",
      "PDF is preparing to convert into document [#21 pages]\n"
     ]
    },
    {
     "name": "stderr",
     "output_type": "stream",
     "text": [
      "21it [00:38,  1.86s/it]\n",
      "21it [00:00, 208.46it/s]\n"
     ]
    },
    {
     "name": "stdout",
     "output_type": "stream",
     "text": [
      "Done! Your document can be found here \"D:/Spot The Bot Data/Word files/10\\كارنامه اردشيربابكان.docx\"\n",
      "PDF is preparing to convert into document [#438 pages]\n"
     ]
    },
    {
     "name": "stderr",
     "output_type": "stream",
     "text": [
      "438it [15:00,  2.06s/it]\n",
      "438it [00:02, 193.21it/s]\n"
     ]
    },
    {
     "name": "stdout",
     "output_type": "stream",
     "text": [
      "Done! Your document can be found here \"D:/Spot The Bot Data/Word files/10\\محتشم.docx\"\n",
      "PDF is preparing to convert into document [#362 pages]\n"
     ]
    },
    {
     "name": "stderr",
     "output_type": "stream",
     "text": [
      "362it [06:45,  1.12s/it]\n",
      "362it [00:01, 237.12it/s]\n"
     ]
    },
    {
     "name": "stdout",
     "output_type": "stream",
     "text": [
      "Done! Your document can be found here \"D:/Spot The Bot Data/Word files/10\\ژاپن در گذشته و حال.docx\"\n"
     ]
    }
   ],
   "source": [
    "pdf_dir = 'D:/Spot The Bot Data/10'\n",
    "word_dir = 'D:/Spot The Bot Data/Word files/10'\n",
    "\n",
    "\n",
    "\n",
    "for pdf_file in os.listdir(pdf_dir)[143:]: \n",
    "    if pdf_file.endswith('.pdf') or pdf_file.endswith('.PDF'):\n",
    "        pdf_path = os.path.join(pdf_dir, pdf_file)\n",
    "        output_dir = word_dir\n",
    "        pdf_to_word(pdf_path, output_dir)"
   ]
  },
  {
   "cell_type": "code",
   "execution_count": null,
   "id": "63ca91a8",
   "metadata": {},
   "outputs": [],
   "source": []
  }
 ],
 "metadata": {
  "kernelspec": {
   "display_name": "Python 3 (ipykernel)",
   "language": "python",
   "name": "python3"
  },
  "language_info": {
   "codemirror_mode": {
    "name": "ipython",
    "version": 3
   },
   "file_extension": ".py",
   "mimetype": "text/x-python",
   "name": "python",
   "nbconvert_exporter": "python",
   "pygments_lexer": "ipython3",
   "version": "3.9.12"
  }
 },
 "nbformat": 4,
 "nbformat_minor": 5
}
