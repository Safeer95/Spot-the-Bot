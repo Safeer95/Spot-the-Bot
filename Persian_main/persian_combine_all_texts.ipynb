{
 "cells": [
  {
   "cell_type": "code",
   "execution_count": 2,
   "id": "553f96ff",
   "metadata": {},
   "outputs": [],
   "source": [
    "import docx2txt\n",
    "import os\n",
    "\n",
    "# specify the directory where your Word files are stored\n",
    "path = 'D:/Spot The Bot Data/Persian/Word files/All'\n",
    "\n",
    "# create an empty list to store the title and text from each file\n",
    "document_list = []\n",
    "\n",
    "# loop through each file in the directory, extract the title and text using docx2txt, and append it to the document_list\n",
    "for filename in os.listdir(path):\n",
    "    if filename.endswith('.docx'):\n",
    "        file_path = os.path.join(path, filename)\n",
    "        text = docx2txt.process(file_path)\n",
    "\n",
    "        # extract the title (first page) and text (excluding the first page)\n",
    "        split_text = text.split('\\f', 1)\n",
    "        if len(split_text) == 2:\n",
    "            title, text = split_text\n",
    "        else:\n",
    "            title, text = '', text\n",
    "\n",
    "        # remove leading/trailing spaces and newlines from title and text\n",
    "        title = title.strip().replace('\\n', ' ')\n",
    "        text = text.strip().replace('\\n', ' ')\n",
    "\n",
    "        # append the title and text as a single string to the document_list\n",
    "        document_list.append(title + '\\n' + text)\n",
    "        document_list.append('^^^^^^')\n",
    "\n",
    "# write the title and text from the document_list to a text file\n",
    "with open('persian_combined_texts.txt', 'w', encoding='utf-8') as f:\n",
    "    f.write('\\n'.join(document_list))"
   ]
  },
  {
   "cell_type": "code",
   "execution_count": 8,
   "id": "2d11bba3",
   "metadata": {},
   "outputs": [
    {
     "name": "stdout",
     "output_type": "stream",
     "text": [
      "Number of Word documents: 1381\n",
      "Number of documents after combining: 1382\n"
     ]
    }
   ],
   "source": [
    "# read the combined text and split it into individual documents\n",
    "with open('persian_combined_texts.txt', 'r', encoding='utf-8') as f:\n",
    "    combined_text = f.read()\n",
    "\n",
    "documents = combined_text.split('^^^^^^')\n",
    "\n",
    "num_documents = len(documents) - 1  # subtract 1 to exclude the last empty element\n",
    "\n",
    "print('Number of Word documents:', num_documents)\n",
    "print('Number of documents after combining:', len(documents))"
   ]
  },
  {
   "cell_type": "code",
   "execution_count": null,
   "id": "63a89b82",
   "metadata": {},
   "outputs": [],
   "source": []
  }
 ],
 "metadata": {
  "kernelspec": {
   "display_name": "Python 3 (ipykernel)",
   "language": "python",
   "name": "python3"
  },
  "language_info": {
   "codemirror_mode": {
    "name": "ipython",
    "version": 3
   },
   "file_extension": ".py",
   "mimetype": "text/x-python",
   "name": "python",
   "nbconvert_exporter": "python",
   "pygments_lexer": "ipython3",
   "version": "3.9.12"
  }
 },
 "nbformat": 4,
 "nbformat_minor": 5
}
