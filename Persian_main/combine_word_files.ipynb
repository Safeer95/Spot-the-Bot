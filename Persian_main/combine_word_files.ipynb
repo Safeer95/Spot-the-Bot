{
 "cells": [
  {
   "cell_type": "code",
   "execution_count": 2,
   "id": "8a914bff",
   "metadata": {},
   "outputs": [],
   "source": [
    "import os\n",
    "import glob\n",
    "import docx\n",
    "\n",
    "\n",
    "# Set the directory where the Word files are located\n",
    "directory = \"D:/Spot The Bot Data/Word files/All\"\n",
    "\n",
    "# Get all the Word files in the directory\n",
    "word_files = glob.glob(os.path.join(directory, \"*.docx\"))\n",
    "\n",
    "# Open a new text file to write the combined text\n",
    "with open(\"combined_text.txt\", \"w\", encoding=\"utf-8\") as f:\n",
    "    # Loop through each Word file\n",
    "    for word_file in word_files:\n",
    "        # Load the Word file using the docx library\n",
    "        doc = docx.Document(word_file)\n",
    "        # Loop through each paragraph in the Word file and write it to the text file\n",
    "        for para in doc.paragraphs:\n",
    "            f.write(para.text)\n",
    "            f.write(\"\\n\")"
   ]
  },
  {
   "cell_type": "code",
   "execution_count": null,
   "id": "c15714ce",
   "metadata": {},
   "outputs": [],
   "source": []
  }
 ],
 "metadata": {
  "kernelspec": {
   "display_name": "Python 3 (ipykernel)",
   "language": "python",
   "name": "python3"
  },
  "language_info": {
   "codemirror_mode": {
    "name": "ipython",
    "version": 3
   },
   "file_extension": ".py",
   "mimetype": "text/x-python",
   "name": "python",
   "nbconvert_exporter": "python",
   "pygments_lexer": "ipython3",
   "version": "3.9.12"
  }
 },
 "nbformat": 4,
 "nbformat_minor": 5
}
